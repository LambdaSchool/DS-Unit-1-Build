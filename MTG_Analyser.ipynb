{
  "nbformat": 4,
  "nbformat_minor": 0,
  "metadata": {
    "colab": {
      "name": "MTG Analyser",
      "provenance": [],
      "collapsed_sections": [],
      "toc_visible": true,
      "include_colab_link": true
    },
    "kernelspec": {
      "name": "python3",
      "display_name": "Python 3"
    }
  },
  "cells": [
    {
      "cell_type": "markdown",
      "metadata": {
        "id": "view-in-github",
        "colab_type": "text"
      },
      "source": [
        "<a href=\"https://colab.research.google.com/github/DNason1999/DS-Unit-1-Build/blob/master/MTG_Analyser.ipynb\" target=\"_parent\"><img src=\"https://colab.research.google.com/assets/colab-badge.svg\" alt=\"Open In Colab\"/></a>"
      ]
    },
    {
      "cell_type": "code",
      "metadata": {
        "id": "GcTYpKDeEczk",
        "colab_type": "code",
        "outputId": "7f4b4ba5-d053-4fe0-a03e-49ee84fbdee9",
        "colab": {
          "base_uri": "https://localhost:8080/",
          "height": 425
        }
      },
      "source": [
        "!wget https://github.com/DNason1999/txtfilesdataset/blob/master/datasetfiles.zip?raw=true -O dataset"
      ],
      "execution_count": 0,
      "outputs": [
        {
          "output_type": "stream",
          "text": [
            "--2019-10-22 21:02:25--  https://github.com/DNason1999/txtfilesdataset/blob/master/datasetfiles.zip?raw=true\n",
            "Resolving github.com (github.com)... 140.82.118.4\n",
            "Connecting to github.com (github.com)|140.82.118.4|:443... connected.\n",
            "HTTP request sent, awaiting response... 301 Moved Permanently\n",
            "Location: https://github.com/DNason1999/MtG-MythicChampionship-V-decklists/blob/master/datasetfiles.zip?raw=true [following]\n",
            "--2019-10-22 21:02:26--  https://github.com/DNason1999/MtG-MythicChampionship-V-decklists/blob/master/datasetfiles.zip?raw=true\n",
            "Reusing existing connection to github.com:443.\n",
            "HTTP request sent, awaiting response... 302 Found\n",
            "Location: https://github.com/DNason1999/MtG-MythicChampionship-V-decklists/raw/master/datasetfiles.zip [following]\n",
            "--2019-10-22 21:02:26--  https://github.com/DNason1999/MtG-MythicChampionship-V-decklists/raw/master/datasetfiles.zip\n",
            "Reusing existing connection to github.com:443.\n",
            "HTTP request sent, awaiting response... 302 Found\n",
            "Location: https://raw.githubusercontent.com/DNason1999/MtG-MythicChampionship-V-decklists/master/datasetfiles.zip [following]\n",
            "--2019-10-22 21:02:26--  https://raw.githubusercontent.com/DNason1999/MtG-MythicChampionship-V-decklists/master/datasetfiles.zip\n",
            "Resolving raw.githubusercontent.com (raw.githubusercontent.com)... 151.101.0.133, 151.101.64.133, 151.101.128.133, ...\n",
            "Connecting to raw.githubusercontent.com (raw.githubusercontent.com)|151.101.0.133|:443... connected.\n",
            "HTTP request sent, awaiting response... 200 OK\n",
            "Length: 38115 (37K) [application/zip]\n",
            "Saving to: ‘dataset’\n",
            "\n",
            "dataset             100%[===================>]  37.22K  --.-KB/s    in 0.004s  \n",
            "\n",
            "2019-10-22 21:02:26 (9.59 MB/s) - ‘dataset’ saved [38115/38115]\n",
            "\n"
          ],
          "name": "stdout"
        }
      ]
    },
    {
      "cell_type": "code",
      "metadata": {
        "id": "SAaPblq-G7yK",
        "colab_type": "code",
        "outputId": "0be78711-5c3c-4ca0-ca11-c418bd97d3c0",
        "colab": {
          "base_uri": "https://localhost:8080/",
          "height": 1000
        }
      },
      "source": [
        "!unzip dataset;"
      ],
      "execution_count": 0,
      "outputs": [
        {
          "output_type": "stream",
          "text": [
            "Archive:  dataset\n",
            "  inflating: datasetfiles/Aaron Barich - Golos Fires.txt  \n",
            "replace datasetfiles/Alexander Hayne - Bant Golos.txt? [y]es, [n]o, [A]ll, [N]one, [r]ename: A\n",
            "  inflating: datasetfiles/Alexander Hayne - Bant Golos.txt  \n",
            "  inflating: datasetfiles/Andrea Mengucci - Bant Food.txt  \n",
            "  inflating: datasetfiles/Andrew Cuneo - Simic Food.txt  \n",
            "  inflating: datasetfiles/Ashley Muдoz - Golgari Adventure.txt  \n",
            "  inflating: datasetfiles/Autumn Burchett - Golos Fires.txt  \n",
            "  inflating: datasetfiles/Ben Stark - Mardu Knights.txt  \n",
            "  inflating: datasetfiles/Bertrand Fagnoni - Bant Golos.txt  \n",
            "  inflating: datasetfiles/Brad Nelson - Bant Golos.txt  \n",
            "  inflating: datasetfiles/Breanna Lee Tan - Gruul Aggro.txt  \n",
            "  inflating: datasetfiles/Brian Braun-Duin - Bant Golos.txt  \n",
            "  inflating: datasetfiles/Caleb Durward - Jund Midrange.txt  \n",
            "datasetfiles/Carlos Romão - Bant Golos.txt:  mismatching \"local\" filename (datasetfiles/Carlos Rom├гo - Bant Golos.txt),\n",
            "         continuing with \"central\" filename version\n",
            "  inflating: datasetfiles/Carlos Romão - Bant Golos.txt  \n",
            "  inflating: datasetfiles/Chris Kvartek - Simic Food.txt  \n",
            "  inflating: datasetfiles/Christian Hauck - Selesnya Adventure.txt  \n",
            "  inflating: datasetfiles/David Williams - Golos Fires.txt  \n",
            "  inflating: datasetfiles/Dzianis Parkhats - Bant Golos.txt  \n",
            "  inflating: datasetfiles/Eric Froehlich - Mardu Knights.txt  \n",
            "  inflating: datasetfiles/Ethan Neubert - Golos Fires.txt  \n",
            "  inflating: datasetfiles/Gabriel Nassif - Simic Food.txt  \n",
            "  inflating: datasetfiles/Gaby Spartz - Gruul Aggro.txt  \n",
            "  inflating: datasetfiles/Grace Naces - Bant Golos.txt  \n",
            "  inflating: datasetfiles/Greg Orange - Bant Golos.txt  \n",
            "  inflating: datasetfiles/Grzegorz Kowalski - Bant Ramp.txt  \n",
            "  inflating: datasetfiles/Gustavo Coraiola - Gruul Aggro.txt  \n",
            "  inflating: datasetfiles/Jacob Crook - Bant Golos.txt  \n",
            "  inflating: datasetfiles/Jan-Philipp Budde - Bant Golos.txt  \n",
            "  inflating: datasetfiles/Janne Mikkonen - Jeskai Fires.txt  \n",
            "  inflating: datasetfiles/Javier Dominguez - Gruul Aggro.txt  \n",
            "  inflating: datasetfiles/Jean-Emmanuel Depraz - Bant Golos.txt  \n",
            "  inflating: datasetfiles/Jeremy Bowers - Bant Golos.txt  \n",
            "  inflating: datasetfiles/Jessica Estephan - Bant Food.txt  \n",
            "  inflating: datasetfiles/John Rolf - Bant Golos.txt  \n",
            "datasetfiles/João Lucas Caparroz - Bant Golos.txt:  mismatching \"local\" filename (datasetfiles/Jo├гo Lucas Caparroz - Bant Golos.txt),\n",
            "         continuing with \"central\" filename version\n",
            "  inflating: datasetfiles/João Lucas Caparroz - Bant Golos.txt  \n",
            "  inflating: datasetfiles/Kai Budde - Simic Food.txt  \n",
            "  inflating: datasetfiles/Ken Yukuhiro - Mardu Knights.txt  \n",
            "  inflating: datasetfiles/Kenji Egashira - Four-Color Golos.txt  \n",
            "  inflating: datasetfiles/Lee Shi Tian - Mono-Red Cavalcade.txt  \n",
            "  inflating: datasetfiles/Lucas Esper Berthoud - Bant Golos.txt  \n",
            "  inflating: datasetfiles/Luis Salvatto - Golgari Adventure.txt  \n",
            "  inflating: datasetfiles/Mark Donaldson - Selesnya Adventure.txt  \n",
            "datasetfiles/Martin Jůza - Bant Ramp.txt:  mismatching \"local\" filename (datasetfiles/Martin J┼пza - Bant Ramp.txt),\n",
            "         continuing with \"central\" filename version\n",
            "  inflating: datasetfiles/Martin Jůza - Bant Ramp.txt  \n",
            "  inflating: datasetfiles/Matias Alfredo Leveratto - Golgari Adventure.txt  \n",
            "  inflating: datasetfiles/Matthew Nass - Bant Golos.txt  \n",
            "datasetfiles/Miguel da Cruz Simões - Rakdos Sacrifice.txt:  mismatching \"local\" filename (datasetfiles/Miguel da Cruz Sim├╡es - Rakdos Sacrifice.txt),\n",
            "         continuing with \"central\" filename version\n",
            "  inflating: datasetfiles/Miguel da Cruz Simões - Rakdos Sacrifice.txt  \n",
            "  inflating: datasetfiles/Mikaela Downs - Bant Golos.txt  \n",
            "  inflating: datasetfiles/Mike Sigrist - Bant Golos.txt  \n",
            "  inflating: datasetfiles/Mikel Dбez - Simic Food.txt  \n",
            "  inflating: datasetfiles/Mаrcio Carvalho - Bant Food.txt  \n",
            "  inflating: datasetfiles/Ole Andvik - Bant Golos.txt  \n",
            "  inflating: datasetfiles/Oliver Tiu - Bant Ramp.txt  \n",
            "datasetfiles/Ondřej Stráský - Bant Ramp.txt:  mismatching \"local\" filename (datasetfiles/Ond┼Щej Str├бsk├╜ - Bant Ramp.txt),\n",
            "         continuing with \"central\" filename version\n",
            "  inflating: datasetfiles/Ondřej Stráský - Bant Ramp.txt  \n",
            "  inflating: datasetfiles/Patrick Fernandes - Bant Golos.txt  \n",
            "  inflating: datasetfiles/Paulo Vitor Damo da Rosa - Bant Golos.txt  \n",
            "datasetfiles/Piotr Głogowski - Golgari Adventure.txt:  mismatching \"local\" filename (datasetfiles/Piotr G┼Вogowski - Golgari Adventure.txt),\n",
            "         continuing with \"central\" filename version\n",
            "  inflating: datasetfiles/Piotr Głogowski - Golgari Adventure.txt  \n",
            "  inflating: datasetfiles/RaphaЙl LВvy - Golgari Adventure.txt  \n",
            "  inflating: datasetfiles/Rei Sato - Simic Food.txt  \n",
            "  inflating: datasetfiles/Reid Duke - Simic Food.txt  \n",
            "  inflating: datasetfiles/Sebastian Pozzo - Bant Golos.txt  \n",
            "  inflating: datasetfiles/Seth Manfield - Bant Golos.txt  \n",
            "  inflating: datasetfiles/Shahar Shenhar - Simic Food.txt  \n",
            "  inflating: datasetfiles/Shota Yasooka - Simic Food.txt  \n",
            "  inflating: datasetfiles/Stanislav Cifka - Bant Ramp.txt  \n",
            "  inflating: datasetfiles/Stephan Schwarz - Selesnya Adventure.txt  \n",
            "  inflating: datasetfiles/Takeshi Senoo - Golgari Adventure.txt  \n",
            "  inflating: datasetfiles/ThВo Moutier - Golos Fires.txt  \n",
            "  inflating: datasetfiles/William Jensen - Simic Food.txt  \n",
            "  inflating: datasetfiles/Yuuki Ichikawa - Simic Food.txt  \n"
          ],
          "name": "stdout"
        }
      ]
    },
    {
      "cell_type": "code",
      "metadata": {
        "id": "QX_1T8TxJerr",
        "colab_type": "code",
        "outputId": "13545220-836e-4b03-f18c-3508d42d912f",
        "colab": {
          "base_uri": "https://localhost:8080/",
          "height": 204
        }
      },
      "source": [
        "!wget https://archive.scryfall.com/json/scryfall-default-cards.json"
      ],
      "execution_count": 0,
      "outputs": [
        {
          "output_type": "stream",
          "text": [
            "--2019-10-22 21:02:40--  https://archive.scryfall.com/json/scryfall-default-cards.json\n",
            "Resolving archive.scryfall.com (archive.scryfall.com)... 104.25.224.106, 104.25.223.106, 2606:4700:20::6819:df6a, ...\n",
            "Connecting to archive.scryfall.com (archive.scryfall.com)|104.25.224.106|:443... connected.\n",
            "HTTP request sent, awaiting response... 200 OK\n",
            "Length: unspecified [application/json]\n",
            "Saving to: ‘scryfall-default-cards.json.1’\n",
            "\n",
            "scryfall-default-ca     [        <=>         ] 148.29M  99.3MB/s    in 1.5s    \n",
            "\n",
            "2019-10-22 21:02:42 (99.3 MB/s) - ‘scryfall-default-cards.json.1’ saved [155497874]\n",
            "\n"
          ],
          "name": "stdout"
        }
      ]
    },
    {
      "cell_type": "code",
      "metadata": {
        "id": "6g1rJ2mtFWlx",
        "colab_type": "code",
        "colab": {}
      },
      "source": [
        "import pandas as pd\n",
        "import time"
      ],
      "execution_count": 0,
      "outputs": []
    },
    {
      "cell_type": "code",
      "metadata": {
        "id": "xvzhxQYNiy4-",
        "colab_type": "code",
        "colab": {}
      },
      "source": [
        "cards = pd.read_json('/content/scryfall-default-cards.json')"
      ],
      "execution_count": 0,
      "outputs": []
    },
    {
      "cell_type": "code",
      "metadata": {
        "id": "pZaTr1zLi7vy",
        "colab_type": "code",
        "colab": {}
      },
      "source": [
        "important_columns = ['name','color_identity','colors','mana_cost','cmc','power','toughness','rarity','id','type_line']\n",
        "\n",
        "cards0 = cards[important_columns]\n",
        "cards0['name'].apply(lambda x : x.strip());"
      ],
      "execution_count": 0,
      "outputs": []
    },
    {
      "cell_type": "code",
      "metadata": {
        "id": "93w3Z3GftURO",
        "colab_type": "code",
        "colab": {}
      },
      "source": [
        "def process_decks(content_path,starting_point,ending_point):\n",
        "  begin = time.time()\n",
        "  columns0 = ['qty','name','color_identity','colors','mana_cost','cmc','power','toughness','rarity','type_line']\n",
        "  y = !ls /content/datasetfiles\n",
        "  a = []\n",
        "  b = []\n",
        "  c = []\n",
        "  counter = 0\n",
        "  for deck_name in y[starting_point:ending_point]:\n",
        "    p = content_path+\"/\"+deck_name\n",
        "    p = p.replace(\"'\", \"\")\n",
        "    df= pd.read_csv(p, names=['item'], sep='\\t')\n",
        "    deck_data= pd.DataFrame(columns= columns0)\n",
        "    counter0 = 0\n",
        "    for label, content in df['item'].items():\n",
        "      x= content.split(sep= ' ', maxsplit=1)\n",
        "\n",
        "      cardid = None\n",
        "      url = 'https://api.scryfall.com/cards/search?q='+x[1]\n",
        "      url = url.replace(\" \",\"+\")\n",
        "\n",
        "      while(cardid == None):\n",
        "        try:\n",
        "          cardid = pd.read_json(url)['data'][0]['id']\n",
        "        except: time.sleep(1)\n",
        "\n",
        "      cards_index = cards0.iloc[cards0['id'][cards0['id']==cardid].index[0]]\n",
        "\n",
        "      c0 = cards_index[columns0]\n",
        "      c0['qty'] = x[0]\n",
        "      c0['name']= x[1]\n",
        "\n",
        "      deck_data = deck_data.append(c0)\n",
        "\n",
        "      print(\"Deck Progress:\", counter0,'/',len(df['item']))\n",
        "      counter0 += 1\n",
        "\n",
        "      time.sleep(0.1)\n",
        "\n",
        "    x = deck_name.split(sep = '-', maxsplit=1)\n",
        "    deck_author = x[0]\n",
        "    deck_name = x[1]\n",
        "\n",
        "    deck_name = deck_name.split(sep= '.txt', maxsplit=1)\n",
        "\n",
        "    deck_data.reindex()\n",
        "    a.append(deck_author)\n",
        "    b.append(deck_name)\n",
        "    c.append(deck_data)\n",
        "    counter += 1\n",
        "    print(\"Percent Complete:\",int((counter/len(y))*100), \"\\tTime Elapsed:\", begin-time.time(), \"\\tCounter:\",counter)\n",
        "  d = [a,b,c]\n",
        "  end = time.time()\n",
        "  print(begin-end)\n",
        "  return d\n"
      ],
      "execution_count": 0,
      "outputs": []
    },
    {
      "cell_type": "code",
      "metadata": {
        "id": "MO4kjAmBleMu",
        "colab_type": "code",
        "colab": {}
      },
      "source": [
        "main = pd.DataFrame(columns=['author','name','deck'])"
      ],
      "execution_count": 0,
      "outputs": []
    },
    {
      "cell_type": "code",
      "metadata": {
        "id": "fLQLhwfZseUP",
        "colab_type": "code",
        "colab": {}
      },
      "source": [
        "information = process_decks('/content/datasetfiles',0,68);"
      ],
      "execution_count": 0,
      "outputs": []
    },
    {
      "cell_type": "code",
      "metadata": {
        "id": "UWHM94RX8Ggl",
        "colab_type": "code",
        "colab": {}
      },
      "source": [
        "main['author'] = information[0]\n",
        "main['name'] = information[1]\n",
        "main['deck'] = information[2]"
      ],
      "execution_count": 0,
      "outputs": []
    },
    {
      "cell_type": "code",
      "metadata": {
        "id": "91ubW772wWps",
        "colab_type": "code",
        "colab": {}
      },
      "source": [
        "def to_list(input_dataframe):\n",
        "  t = []\n",
        "  for label,content in input_dataframe.iterrows():\n",
        "    t.append(content.to_list())\n",
        "  return t\n"
      ],
      "execution_count": 0,
      "outputs": []
    },
    {
      "cell_type": "code",
      "metadata": {
        "id": "bRM8IkUsxSkQ",
        "colab_type": "code",
        "colab": {}
      },
      "source": [
        "main0 = main.copy()\n",
        "main0['deck'] = main0['deck'].apply(lambda x : to_list(x))\n",
        "main0['name'] = main0['name'].apply(lambda x : str(x[0]))\n",
        "main0['author'] = main0['author'].apply(lambda x : x.replace(\"'\",\"\"))"
      ],
      "execution_count": 0,
      "outputs": []
    },
    {
      "cell_type": "code",
      "metadata": {
        "id": "Mo4UiwDal54i",
        "colab_type": "code",
        "colab": {}
      },
      "source": [
        "for label,content in main0.iterrows():\n",
        "  if(content[1].count('-') != 0):\n",
        "    z = content[1].split('-')\n",
        "    content[1] = z[1]\n",
        "    content[0] = content[0]+' '+z[0]"
      ],
      "execution_count": 0,
      "outputs": []
    },
    {
      "cell_type": "code",
      "metadata": {
        "id": "Go3IX9G6SJTu",
        "colab_type": "code",
        "outputId": "c1d891e8-15de-414f-bbf1-71df443482b0",
        "colab": {
          "base_uri": "https://localhost:8080/",
          "height": 204
        }
      },
      "source": [
        "main0.head()"
      ],
      "execution_count": 0,
      "outputs": [
        {
          "output_type": "execute_result",
          "data": {
            "text/html": [
              "<div>\n",
              "<style scoped>\n",
              "    .dataframe tbody tr th:only-of-type {\n",
              "        vertical-align: middle;\n",
              "    }\n",
              "\n",
              "    .dataframe tbody tr th {\n",
              "        vertical-align: top;\n",
              "    }\n",
              "\n",
              "    .dataframe thead th {\n",
              "        text-align: right;\n",
              "    }\n",
              "</style>\n",
              "<table border=\"1\" class=\"dataframe\">\n",
              "  <thead>\n",
              "    <tr style=\"text-align: right;\">\n",
              "      <th></th>\n",
              "      <th>author</th>\n",
              "      <th>name</th>\n",
              "      <th>deck</th>\n",
              "    </tr>\n",
              "  </thead>\n",
              "  <tbody>\n",
              "    <tr>\n",
              "      <th>0</th>\n",
              "      <td>Aaron Barich</td>\n",
              "      <td>Golos Fires</td>\n",
              "      <td>[[1, Agent of Treachery, [U], [U], {5}{U}{U}, ...</td>\n",
              "    </tr>\n",
              "    <tr>\n",
              "      <th>1</th>\n",
              "      <td>Alexander Hayne</td>\n",
              "      <td>Bant Golos</td>\n",
              "      <td>[[2, Teferi, Time Raveler, [U, W], [U, W], {1}...</td>\n",
              "    </tr>\n",
              "    <tr>\n",
              "      <th>2</th>\n",
              "      <td>Andrea Mengucci</td>\n",
              "      <td>Bant Food</td>\n",
              "      <td>[[4, Oko, Thief of Crowns, [G, U], [G, U], {1}...</td>\n",
              "    </tr>\n",
              "    <tr>\n",
              "      <th>3</th>\n",
              "      <td>Andrew Cuneo</td>\n",
              "      <td>Simic Food</td>\n",
              "      <td>[[4, Oko, Thief of Crowns, [G, U], [G, U], {1}...</td>\n",
              "    </tr>\n",
              "    <tr>\n",
              "      <th>4</th>\n",
              "      <td>Ashley Muдoz</td>\n",
              "      <td>Golgari Adventure</td>\n",
              "      <td>[[4, Edgewall Innkeeper, [G], [G], {G}, 1.0, 1...</td>\n",
              "    </tr>\n",
              "  </tbody>\n",
              "</table>\n",
              "</div>"
            ],
            "text/plain": [
              "             author  ...                                               deck\n",
              "0     Aaron Barich   ...  [[1, Agent of Treachery, [U], [U], {5}{U}{U}, ...\n",
              "1  Alexander Hayne   ...  [[2, Teferi, Time Raveler, [U, W], [U, W], {1}...\n",
              "2  Andrea Mengucci   ...  [[4, Oko, Thief of Crowns, [G, U], [G, U], {1}...\n",
              "3     Andrew Cuneo   ...  [[4, Oko, Thief of Crowns, [G, U], [G, U], {1}...\n",
              "4     Ashley Muдoz   ...  [[4, Edgewall Innkeeper, [G], [G], {G}, 1.0, 1...\n",
              "\n",
              "[5 rows x 3 columns]"
            ]
          },
          "metadata": {
            "tags": []
          },
          "execution_count": 102
        }
      ]
    },
    {
      "cell_type": "code",
      "metadata": {
        "id": "AzMrB5UoVeDV",
        "colab_type": "code",
        "outputId": "ab9abd9f-c314-43fb-c087-83f2ea32db82",
        "colab": {
          "base_uri": "https://localhost:8080/",
          "height": 204
        }
      },
      "source": [
        "main0.tail()"
      ],
      "execution_count": 0,
      "outputs": [
        {
          "output_type": "execute_result",
          "data": {
            "text/html": [
              "<div>\n",
              "<style scoped>\n",
              "    .dataframe tbody tr th:only-of-type {\n",
              "        vertical-align: middle;\n",
              "    }\n",
              "\n",
              "    .dataframe tbody tr th {\n",
              "        vertical-align: top;\n",
              "    }\n",
              "\n",
              "    .dataframe thead th {\n",
              "        text-align: right;\n",
              "    }\n",
              "</style>\n",
              "<table border=\"1\" class=\"dataframe\">\n",
              "  <thead>\n",
              "    <tr style=\"text-align: right;\">\n",
              "      <th></th>\n",
              "      <th>author</th>\n",
              "      <th>name</th>\n",
              "      <th>deck</th>\n",
              "    </tr>\n",
              "  </thead>\n",
              "  <tbody>\n",
              "    <tr>\n",
              "      <th>63</th>\n",
              "      <td>Stephan Schwarz</td>\n",
              "      <td>Selesnya Adventure</td>\n",
              "      <td>[[4, Faerie Guidemother, [W], [W], {W} // {1}{...</td>\n",
              "    </tr>\n",
              "    <tr>\n",
              "      <th>64</th>\n",
              "      <td>Takeshi Senoo</td>\n",
              "      <td>Golgari Adventure</td>\n",
              "      <td>[[4, Foulmire Knight, [B], [B], {B} // {2}{B},...</td>\n",
              "    </tr>\n",
              "    <tr>\n",
              "      <th>65</th>\n",
              "      <td>ThВo Moutier</td>\n",
              "      <td>Golos Fires</td>\n",
              "      <td>[[3, Beanstalk Giant, [G], [G], {6}{G} // {2}{...</td>\n",
              "    </tr>\n",
              "    <tr>\n",
              "      <th>66</th>\n",
              "      <td>William Jensen</td>\n",
              "      <td>Simic Food</td>\n",
              "      <td>[[4, Oko, Thief of Crowns, [G, U], [G, U], {1}...</td>\n",
              "    </tr>\n",
              "    <tr>\n",
              "      <th>67</th>\n",
              "      <td>Yuuki Ichikawa</td>\n",
              "      <td>Simic Food</td>\n",
              "      <td>[[4, Nissa, Who Shakes the World, [G], [G], {3...</td>\n",
              "    </tr>\n",
              "  </tbody>\n",
              "</table>\n",
              "</div>"
            ],
            "text/plain": [
              "              author  ...                                               deck\n",
              "63  Stephan Schwarz   ...  [[4, Faerie Guidemother, [W], [W], {W} // {1}{...\n",
              "64    Takeshi Senoo   ...  [[4, Foulmire Knight, [B], [B], {B} // {2}{B},...\n",
              "65     ThВo Moutier   ...  [[3, Beanstalk Giant, [G], [G], {6}{G} // {2}{...\n",
              "66   William Jensen   ...  [[4, Oko, Thief of Crowns, [G, U], [G, U], {1}...\n",
              "67   Yuuki Ichikawa   ...  [[4, Nissa, Who Shakes the World, [G], [G], {3...\n",
              "\n",
              "[5 rows x 3 columns]"
            ]
          },
          "metadata": {
            "tags": []
          },
          "execution_count": 103
        }
      ]
    },
    {
      "cell_type": "code",
      "metadata": {
        "id": "sGJmaAX3jIZv",
        "colab_type": "code",
        "colab": {}
      },
      "source": [
        "main0['author'] = main0['author'].apply(lambda x : x.split()[0]+\" \"+x.split()[1][0])"
      ],
      "execution_count": 0,
      "outputs": []
    },
    {
      "cell_type": "code",
      "metadata": {
        "id": "38PVadiRQCpy",
        "colab_type": "code",
        "colab": {}
      },
      "source": [
        "a = main0.to_csv(index=False)"
      ],
      "execution_count": 0,
      "outputs": []
    },
    {
      "cell_type": "code",
      "metadata": {
        "id": "V_Lfe_mRIKej",
        "colab_type": "code",
        "colab": {}
      },
      "source": [
        "from google.colab import files"
      ],
      "execution_count": 0,
      "outputs": []
    },
    {
      "cell_type": "code",
      "metadata": {
        "id": "duwSoav0Iry6",
        "colab_type": "code",
        "colab": {}
      },
      "source": [
        "with open('data.csv', 'w') as f:\n",
        "  f.write(a)\n",
        "\n",
        "files.download('data.csv')"
      ],
      "execution_count": 0,
      "outputs": []
    }
  ]
}