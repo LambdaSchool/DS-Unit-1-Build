{
 "cells": [
  {
   "cell_type": "markdown",
   "metadata": {
    "colab_type": "text",
    "id": "view-in-github"
   },
   "source": [
    "<a href=\"https://colab.research.google.com/github/AVData/DS-Unit-1-Build/blob/master/DS-Unit-1-Build/Agustin%20Vargas-Sleep_Data_notebook.ipynb\" target=\"_parent\"><img src=\"https://colab.research.google.com/assets/colab-badge.svg\" alt=\"Open In Colab\"/></a>"
   ]
  },
  {
   "cell_type": "code",
   "execution_count": null,
   "metadata": {
    "colab": {},
    "colab_type": "code",
    "id": "1TCa7RG4CwZb"
   },
   "outputs": [],
   "source": [
    "import pandas as pd\n",
    "import numpy as np"
   ]
  },
  {
   "cell_type": "code",
   "execution_count": 51,
   "metadata": {
    "colab": {
     "base_uri": "https://localhost:8080/",
     "height": 1000
    },
    "colab_type": "code",
    "id": "qbJxaQUCCzDb",
    "outputId": "8b6513a3-b423-459e-90be-2d03e0602fe8"
   },
   "outputs": [
    {
     "data": {
      "text/html": [
       "<div>\n",
       "<style scoped>\n",
       "    .dataframe tbody tr th:only-of-type {\n",
       "        vertical-align: middle;\n",
       "    }\n",
       "\n",
       "    .dataframe tbody tr th {\n",
       "        vertical-align: top;\n",
       "    }\n",
       "\n",
       "    .dataframe thead th {\n",
       "        text-align: right;\n",
       "    }\n",
       "</style>\n",
       "<table border=\"1\" class=\"dataframe\">\n",
       "  <thead>\n",
       "    <tr style=\"text-align: right;\">\n",
       "      <th></th>\n",
       "      <th>Start</th>\n",
       "      <th>End</th>\n",
       "      <th>Sleep quality</th>\n",
       "      <th>Time in bed</th>\n",
       "      <th>Wake up</th>\n",
       "      <th>Sleep Notes</th>\n",
       "      <th>Heart rate</th>\n",
       "      <th>Activity (steps)</th>\n",
       "    </tr>\n",
       "  </thead>\n",
       "  <tbody>\n",
       "    <tr>\n",
       "      <th>0</th>\n",
       "      <td>2018-08-21 00:17:44</td>\n",
       "      <td>2018-08-21 06:31:59</td>\n",
       "      <td>55%</td>\n",
       "      <td>6:14</td>\n",
       "      <td>NaN</td>\n",
       "      <td>NaN</td>\n",
       "      <td>0</td>\n",
       "      <td>0</td>\n",
       "    </tr>\n",
       "    <tr>\n",
       "      <th>1</th>\n",
       "      <td>2018-08-22 00:08:58</td>\n",
       "      <td>2018-08-22 06:48:15</td>\n",
       "      <td>77%</td>\n",
       "      <td>6:39</td>\n",
       "      <td>NaN</td>\n",
       "      <td>NaN</td>\n",
       "      <td>0</td>\n",
       "      <td>0</td>\n",
       "    </tr>\n",
       "    <tr>\n",
       "      <th>2</th>\n",
       "      <td>2018-08-23 00:26:59</td>\n",
       "      <td>2018-08-23 05:14:15</td>\n",
       "      <td>57%</td>\n",
       "      <td>4:47</td>\n",
       "      <td>NaN</td>\n",
       "      <td>NaN</td>\n",
       "      <td>0</td>\n",
       "      <td>0</td>\n",
       "    </tr>\n",
       "    <tr>\n",
       "      <th>3</th>\n",
       "      <td>2018-08-26 02:22:35</td>\n",
       "      <td>2018-08-26 06:25:43</td>\n",
       "      <td>35%</td>\n",
       "      <td>4:03</td>\n",
       "      <td>NaN</td>\n",
       "      <td>NaN</td>\n",
       "      <td>0</td>\n",
       "      <td>0</td>\n",
       "    </tr>\n",
       "    <tr>\n",
       "      <th>4</th>\n",
       "      <td>2018-08-27 00:54:25</td>\n",
       "      <td>2018-08-27 08:24:27</td>\n",
       "      <td>62%</td>\n",
       "      <td>7:30</td>\n",
       "      <td>NaN</td>\n",
       "      <td>NaN</td>\n",
       "      <td>0</td>\n",
       "      <td>0</td>\n",
       "    </tr>\n",
       "    <tr>\n",
       "      <th>5</th>\n",
       "      <td>2018-08-28 00:23:26</td>\n",
       "      <td>2018-08-28 06:12:45</td>\n",
       "      <td>63%</td>\n",
       "      <td>5:49</td>\n",
       "      <td>:)</td>\n",
       "      <td>NaN</td>\n",
       "      <td>0</td>\n",
       "      <td>291</td>\n",
       "    </tr>\n",
       "    <tr>\n",
       "      <th>6</th>\n",
       "      <td>2018-08-29 05:45:04</td>\n",
       "      <td>2018-08-29 07:33:17</td>\n",
       "      <td>23%</td>\n",
       "      <td>1:48</td>\n",
       "      <td>:)</td>\n",
       "      <td>NaN</td>\n",
       "      <td>0</td>\n",
       "      <td>2013</td>\n",
       "    </tr>\n",
       "    <tr>\n",
       "      <th>7</th>\n",
       "      <td>2018-08-31 01:18:08</td>\n",
       "      <td>2018-08-31 06:31:26</td>\n",
       "      <td>55%</td>\n",
       "      <td>5:13</td>\n",
       "      <td>:|</td>\n",
       "      <td>NaN</td>\n",
       "      <td>0</td>\n",
       "      <td>757</td>\n",
       "    </tr>\n",
       "    <tr>\n",
       "      <th>8</th>\n",
       "      <td>2018-09-01 05:32:35</td>\n",
       "      <td>2018-09-01 07:32:03</td>\n",
       "      <td>15%</td>\n",
       "      <td>1:59</td>\n",
       "      <td>:|</td>\n",
       "      <td>NaN</td>\n",
       "      <td>0</td>\n",
       "      <td>1222</td>\n",
       "    </tr>\n",
       "    <tr>\n",
       "      <th>9</th>\n",
       "      <td>2018-09-02 01:22:20</td>\n",
       "      <td>2018-09-02 08:02:47</td>\n",
       "      <td>71%</td>\n",
       "      <td>6:40</td>\n",
       "      <td>:)</td>\n",
       "      <td>NaN</td>\n",
       "      <td>0</td>\n",
       "      <td>1420</td>\n",
       "    </tr>\n",
       "    <tr>\n",
       "      <th>10</th>\n",
       "      <td>2018-09-04 01:08:49</td>\n",
       "      <td>2018-09-04 06:25:11</td>\n",
       "      <td>54%</td>\n",
       "      <td>5:16</td>\n",
       "      <td>:(</td>\n",
       "      <td>NaN</td>\n",
       "      <td>0</td>\n",
       "      <td>667</td>\n",
       "    </tr>\n",
       "    <tr>\n",
       "      <th>11</th>\n",
       "      <td>2018-09-05 01:22:11</td>\n",
       "      <td>2018-09-05 06:41:47</td>\n",
       "      <td>60%</td>\n",
       "      <td>5:19</td>\n",
       "      <td>:)</td>\n",
       "      <td>NaN</td>\n",
       "      <td>0</td>\n",
       "      <td>1271</td>\n",
       "    </tr>\n",
       "    <tr>\n",
       "      <th>12</th>\n",
       "      <td>2018-09-06 01:43:04</td>\n",
       "      <td>2018-09-06 06:17:20</td>\n",
       "      <td>49%</td>\n",
       "      <td>4:34</td>\n",
       "      <td>:)</td>\n",
       "      <td>NaN</td>\n",
       "      <td>0</td>\n",
       "      <td>1742</td>\n",
       "    </tr>\n",
       "    <tr>\n",
       "      <th>13</th>\n",
       "      <td>2018-09-06 06:39:06</td>\n",
       "      <td>2018-09-06 07:42:15</td>\n",
       "      <td>14%</td>\n",
       "      <td>1:03</td>\n",
       "      <td>:|</td>\n",
       "      <td>NaN</td>\n",
       "      <td>0</td>\n",
       "      <td>0</td>\n",
       "    </tr>\n",
       "    <tr>\n",
       "      <th>14</th>\n",
       "      <td>2018-09-07 01:08:47</td>\n",
       "      <td>2018-09-07 06:01:47</td>\n",
       "      <td>54%</td>\n",
       "      <td>4:53</td>\n",
       "      <td>:)</td>\n",
       "      <td>NaN</td>\n",
       "      <td>0</td>\n",
       "      <td>1194</td>\n",
       "    </tr>\n",
       "    <tr>\n",
       "      <th>15</th>\n",
       "      <td>2018-09-07 06:18:29</td>\n",
       "      <td>2018-09-07 07:09:46</td>\n",
       "      <td>11%</td>\n",
       "      <td>0:51</td>\n",
       "      <td>:)</td>\n",
       "      <td>NaN</td>\n",
       "      <td>0</td>\n",
       "      <td>0</td>\n",
       "    </tr>\n",
       "    <tr>\n",
       "      <th>16</th>\n",
       "      <td>2018-09-08 01:41:00</td>\n",
       "      <td>2018-09-08 08:24:45</td>\n",
       "      <td>68%</td>\n",
       "      <td>6:43</td>\n",
       "      <td>:)</td>\n",
       "      <td>NaN</td>\n",
       "      <td>0</td>\n",
       "      <td>335</td>\n",
       "    </tr>\n",
       "    <tr>\n",
       "      <th>17</th>\n",
       "      <td>2018-09-09 02:37:51</td>\n",
       "      <td>2018-09-09 08:42:33</td>\n",
       "      <td>61%</td>\n",
       "      <td>6:04</td>\n",
       "      <td>:)</td>\n",
       "      <td>NaN</td>\n",
       "      <td>0</td>\n",
       "      <td>1420</td>\n",
       "    </tr>\n",
       "    <tr>\n",
       "      <th>18</th>\n",
       "      <td>2018-09-10 07:03:52</td>\n",
       "      <td>2018-09-10 07:59:08</td>\n",
       "      <td>12%</td>\n",
       "      <td>0:55</td>\n",
       "      <td>:)</td>\n",
       "      <td>NaN</td>\n",
       "      <td>0</td>\n",
       "      <td>0</td>\n",
       "    </tr>\n",
       "    <tr>\n",
       "      <th>19</th>\n",
       "      <td>2018-09-10 08:21:32</td>\n",
       "      <td>2018-09-10 08:44:09</td>\n",
       "      <td>5%</td>\n",
       "      <td>0:22</td>\n",
       "      <td>:|</td>\n",
       "      <td>NaN</td>\n",
       "      <td>0</td>\n",
       "      <td>0</td>\n",
       "    </tr>\n",
       "  </tbody>\n",
       "</table>\n",
       "</div>"
      ],
      "text/plain": [
       "                  Start                  End  ... Heart rate Activity (steps)\n",
       "0   2018-08-21 00:17:44  2018-08-21 06:31:59  ...          0                0\n",
       "1   2018-08-22 00:08:58  2018-08-22 06:48:15  ...          0                0\n",
       "2   2018-08-23 00:26:59  2018-08-23 05:14:15  ...          0                0\n",
       "3   2018-08-26 02:22:35  2018-08-26 06:25:43  ...          0                0\n",
       "4   2018-08-27 00:54:25  2018-08-27 08:24:27  ...          0                0\n",
       "5   2018-08-28 00:23:26  2018-08-28 06:12:45  ...          0              291\n",
       "6   2018-08-29 05:45:04  2018-08-29 07:33:17  ...          0             2013\n",
       "7   2018-08-31 01:18:08  2018-08-31 06:31:26  ...          0              757\n",
       "8   2018-09-01 05:32:35  2018-09-01 07:32:03  ...          0             1222\n",
       "9   2018-09-02 01:22:20  2018-09-02 08:02:47  ...          0             1420\n",
       "10  2018-09-04 01:08:49  2018-09-04 06:25:11  ...          0              667\n",
       "11  2018-09-05 01:22:11  2018-09-05 06:41:47  ...          0             1271\n",
       "12  2018-09-06 01:43:04  2018-09-06 06:17:20  ...          0             1742\n",
       "13  2018-09-06 06:39:06  2018-09-06 07:42:15  ...          0                0\n",
       "14  2018-09-07 01:08:47  2018-09-07 06:01:47  ...          0             1194\n",
       "15  2018-09-07 06:18:29  2018-09-07 07:09:46  ...          0                0\n",
       "16  2018-09-08 01:41:00  2018-09-08 08:24:45  ...          0              335\n",
       "17  2018-09-09 02:37:51  2018-09-09 08:42:33  ...          0             1420\n",
       "18  2018-09-10 07:03:52  2018-09-10 07:59:08  ...          0                0\n",
       "19  2018-09-10 08:21:32  2018-09-10 08:44:09  ...          0                0\n",
       "\n",
       "[20 rows x 8 columns]"
      ]
     },
     "execution_count": 51,
     "metadata": {
      "tags": []
     },
     "output_type": "execute_result"
    }
   ],
   "source": [
    "sc_sleep_data = pd.read_csv('/sleepdata.csv', delimiter=';')\n",
    "sc_sleep_data.head(20)"
   ]
  },
  {
   "cell_type": "code",
   "execution_count": 52,
   "metadata": {
    "colab": {
     "base_uri": "https://localhost:8080/",
     "height": 170
    },
    "colab_type": "code",
    "id": "70_RtH4RFowr",
    "outputId": "4960a60e-e587-4c6a-8fa4-7b129408705f"
   },
   "outputs": [
    {
     "data": {
      "text/plain": [
       "Start               False\n",
       "End                 False\n",
       "Sleep quality       False\n",
       "Time in bed         False\n",
       "Wake up              True\n",
       "Sleep Notes          True\n",
       "Heart rate          False\n",
       "Activity (steps)    False\n",
       "dtype: bool"
      ]
     },
     "execution_count": 52,
     "metadata": {
      "tags": []
     },
     "output_type": "execute_result"
    }
   ],
   "source": [
    "sc_sleep_data.isnull().any()"
   ]
  },
  {
   "cell_type": "code",
   "execution_count": 53,
   "metadata": {
    "colab": {
     "base_uri": "https://localhost:8080/",
     "height": 170
    },
    "colab_type": "code",
    "id": "vQdaCHOMDXUE",
    "outputId": "37ff3526-43d4-4c0d-e877-926a5508f728"
   },
   "outputs": [
    {
     "data": {
      "text/plain": [
       "Start                 0\n",
       "End                   0\n",
       "Sleep quality         0\n",
       "Time in bed           0\n",
       "Wake up             227\n",
       "Sleep Notes         242\n",
       "Heart rate            0\n",
       "Activity (steps)      0\n",
       "dtype: int64"
      ]
     },
     "execution_count": 53,
     "metadata": {
      "tags": []
     },
     "output_type": "execute_result"
    }
   ],
   "source": [
    "sc_sleep_data.isnull().sum()"
   ]
  },
  {
   "cell_type": "code",
   "execution_count": 54,
   "metadata": {
    "colab": {
     "base_uri": "https://localhost:8080/",
     "height": 221
    },
    "colab_type": "code",
    "id": "DQuVSulqD8Rl",
    "outputId": "816cda08-adb3-416d-967c-9972f89b360b"
   },
   "outputs": [
    {
     "name": "stdout",
     "output_type": "stream",
     "text": [
      "count    192.000000\n",
      "mean       0.177083\n",
      "std        0.501198\n",
      "min       -1.000000\n",
      "25%        0.000000\n",
      "50%        0.000000\n",
      "75%        0.000000\n",
      "max        1.000000\n",
      "Name: Wake up, dtype: float64\n"
     ]
    },
    {
     "data": {
      "text/plain": [
       "True     227\n",
       "False    192\n",
       "Name: Wake up, dtype: int64"
      ]
     },
     "execution_count": 54,
     "metadata": {
      "tags": []
     },
     "output_type": "execute_result"
    }
   ],
   "source": [
    "test_replace = sc_sleep_data['Wake up'].map({':|': 0, ':)': 1, ':(': -1})\n",
    "print(test_replace.describe())\n",
    "test_replace.isnull().value_counts()"
   ]
  },
  {
   "cell_type": "code",
   "execution_count": 55,
   "metadata": {
    "colab": {
     "base_uri": "https://localhost:8080/",
     "height": 170
    },
    "colab_type": "code",
    "id": "MpXNJGF4Mceq",
    "outputId": "b98acaf2-65e6-4e5f-81dc-4552187ae9e7"
   },
   "outputs": [
    {
     "data": {
      "text/plain": [
       "count    192.000000\n",
       "mean       0.177083\n",
       "std        0.501198\n",
       "min       -1.000000\n",
       "25%        0.000000\n",
       "50%        0.000000\n",
       "75%        0.000000\n",
       "max        1.000000\n",
       "Name: Wake up, dtype: float64"
      ]
     },
     "execution_count": 55,
     "metadata": {
      "tags": []
     },
     "output_type": "execute_result"
    }
   ],
   "source": [
    "sc_sleep_data['Wake up'] = sc_sleep_data['Wake up'].map({':|': 0, ':)': 1, ':(': -1})\n",
    "sc_sleep_data['Wake up'].describe()"
   ]
  },
  {
   "cell_type": "code",
   "execution_count": 56,
   "metadata": {
    "colab": {
     "base_uri": "https://localhost:8080/",
     "height": 85
    },
    "colab_type": "code",
    "id": "EMFA716INQB8",
    "outputId": "deb0f581-0ecb-4af6-b0b8-4530ad4f6ca9"
   },
   "outputs": [
    {
     "name": "stdout",
     "output_type": "stream",
     "text": [
      "True     227\n",
      "False    192\n",
      "Name: Wake up, dtype: int64 \n",
      "\n"
     ]
    }
   ],
   "source": [
    "print(sc_sleep_data['Wake up'].isnull().value_counts(), '\\n')\n"
   ]
  },
  {
   "cell_type": "code",
   "execution_count": 29,
   "metadata": {
    "colab": {
     "base_uri": "https://localhost:8080/",
     "height": 170
    },
    "colab_type": "code",
    "id": "sFysjzhENgA5",
    "outputId": "5d380b46-7b25-4552-ba12-a6df6d8c6dcb"
   },
   "outputs": [
    {
     "data": {
      "text/plain": [
       "count    419.000000\n",
       "mean       0.177083\n",
       "std        0.338796\n",
       "min       -1.000000\n",
       "25%        0.000000\n",
       "50%        0.177083\n",
       "75%        0.177083\n",
       "max        1.000000\n",
       "Name: Wake up, dtype: float64"
      ]
     },
     "execution_count": 29,
     "metadata": {
      "tags": []
     },
     "output_type": "execute_result"
    }
   ],
   "source": [
    "# # replacing the NaN values in columns 'Wake up' and 'Sleep Notes' with the \n",
    "# # column mean\n",
    "\n",
    "# sc_sleep_data['Wake up'] = sc_sleep_data['Wake up'].fillna(sc_sleep_data['Wake up'].mean())\n",
    "# sc_sleep_data['Wake up'].describe()"
   ]
  },
  {
   "cell_type": "code",
   "execution_count": 57,
   "metadata": {
    "colab": {
     "base_uri": "https://localhost:8080/",
     "height": 68
    },
    "colab_type": "code",
    "id": "869kHl67W_Zc",
    "outputId": "0195c354-08f6-4ab4-9646-6742db55872a"
   },
   "outputs": [
    {
     "data": {
      "text/plain": [
       "True     227\n",
       "False    192\n",
       "Name: Wake up, dtype: int64"
      ]
     },
     "execution_count": 57,
     "metadata": {
      "tags": []
     },
     "output_type": "execute_result"
    }
   ],
   "source": [
    "sc_sleep_data['Wake up'].isnull().value_counts()"
   ]
  },
  {
   "cell_type": "code",
   "execution_count": 58,
   "metadata": {
    "colab": {
     "base_uri": "https://localhost:8080/",
     "height": 297
    },
    "colab_type": "code",
    "id": "KAru8KbLSuk6",
    "outputId": "973145da-9c8c-4c74-c1ed-ddd811651ff9"
   },
   "outputs": [
    {
     "data": {
      "text/html": [
       "<div>\n",
       "<style scoped>\n",
       "    .dataframe tbody tr th:only-of-type {\n",
       "        vertical-align: middle;\n",
       "    }\n",
       "\n",
       "    .dataframe tbody tr th {\n",
       "        vertical-align: top;\n",
       "    }\n",
       "\n",
       "    .dataframe thead th {\n",
       "        text-align: right;\n",
       "    }\n",
       "</style>\n",
       "<table border=\"1\" class=\"dataframe\">\n",
       "  <thead>\n",
       "    <tr style=\"text-align: right;\">\n",
       "      <th></th>\n",
       "      <th>Wake up</th>\n",
       "      <th>Activity (steps)</th>\n",
       "    </tr>\n",
       "  </thead>\n",
       "  <tbody>\n",
       "    <tr>\n",
       "      <th>count</th>\n",
       "      <td>192.000000</td>\n",
       "      <td>419.000000</td>\n",
       "    </tr>\n",
       "    <tr>\n",
       "      <th>mean</th>\n",
       "      <td>0.177083</td>\n",
       "      <td>2046.940334</td>\n",
       "    </tr>\n",
       "    <tr>\n",
       "      <th>std</th>\n",
       "      <td>0.501198</td>\n",
       "      <td>2163.332875</td>\n",
       "    </tr>\n",
       "    <tr>\n",
       "      <th>min</th>\n",
       "      <td>-1.000000</td>\n",
       "      <td>0.000000</td>\n",
       "    </tr>\n",
       "    <tr>\n",
       "      <th>25%</th>\n",
       "      <td>0.000000</td>\n",
       "      <td>657.000000</td>\n",
       "    </tr>\n",
       "    <tr>\n",
       "      <th>50%</th>\n",
       "      <td>0.000000</td>\n",
       "      <td>1748.000000</td>\n",
       "    </tr>\n",
       "    <tr>\n",
       "      <th>75%</th>\n",
       "      <td>0.000000</td>\n",
       "      <td>2845.500000</td>\n",
       "    </tr>\n",
       "    <tr>\n",
       "      <th>max</th>\n",
       "      <td>1.000000</td>\n",
       "      <td>20264.000000</td>\n",
       "    </tr>\n",
       "  </tbody>\n",
       "</table>\n",
       "</div>"
      ],
      "text/plain": [
       "          Wake up  Activity (steps)\n",
       "count  192.000000        419.000000\n",
       "mean     0.177083       2046.940334\n",
       "std      0.501198       2163.332875\n",
       "min     -1.000000          0.000000\n",
       "25%      0.000000        657.000000\n",
       "50%      0.000000       1748.000000\n",
       "75%      0.000000       2845.500000\n",
       "max      1.000000      20264.000000"
      ]
     },
     "execution_count": 58,
     "metadata": {
      "tags": []
     },
     "output_type": "execute_result"
    }
   ],
   "source": [
    "# Dropping the 'Heart rate' column\n",
    "\n",
    "sc_sleep_data = sc_sleep_data.drop(columns='Heart rate')\n",
    "sc_sleep_data.describe()"
   ]
  },
  {
   "cell_type": "code",
   "execution_count": 59,
   "metadata": {
    "colab": {
     "base_uri": "https://localhost:8080/",
     "height": 119
    },
    "colab_type": "code",
    "id": "XenaAQgrXMAZ",
    "outputId": "83c93785-590c-48c8-dbde-3f3430072344"
   },
   "outputs": [
    {
     "data": {
      "text/plain": [
       "0    0.55\n",
       "1    0.77\n",
       "2    0.57\n",
       "3    0.35\n",
       "4    0.62\n",
       "Name: Sleep quality, dtype: float64"
      ]
     },
     "execution_count": 59,
     "metadata": {
      "tags": []
     },
     "output_type": "execute_result"
    }
   ],
   "source": [
    "# converting percentages to floats\n",
    "\n",
    "sc_sleep_data['Sleep quality'] = sc_sleep_data['Sleep quality'].str.rstrip('%').astype('float') / 100\n",
    "sc_sleep_data['Sleep quality'].head()"
   ]
  },
  {
   "cell_type": "code",
   "execution_count": 60,
   "metadata": {
    "colab": {
     "base_uri": "https://localhost:8080/",
     "height": 221
    },
    "colab_type": "code",
    "id": "I6_vZYPLZjQ_",
    "outputId": "e472b596-ffde-4229-e836-54446ac828d6"
   },
   "outputs": [
    {
     "name": "stdout",
     "output_type": "stream",
     "text": [
      "<class 'pandas.core.frame.DataFrame'>\n",
      "RangeIndex: 419 entries, 0 to 418\n",
      "Data columns (total 7 columns):\n",
      "Start               419 non-null object\n",
      "End                 419 non-null object\n",
      "Sleep quality       419 non-null float64\n",
      "Time in bed         419 non-null object\n",
      "Wake up             192 non-null float64\n",
      "Sleep Notes         177 non-null object\n",
      "Activity (steps)    419 non-null int64\n",
      "dtypes: float64(2), int64(1), object(4)\n",
      "memory usage: 23.0+ KB\n"
     ]
    }
   ],
   "source": [
    "sc_sleep_data.info()"
   ]
  },
  {
   "cell_type": "code",
   "execution_count": 61,
   "metadata": {
    "colab": {
     "base_uri": "https://localhost:8080/",
     "height": 34
    },
    "colab_type": "code",
    "id": "amTQJkX2fX2R",
    "outputId": "b2b68adf-305e-47b7-8e04-22d990261ea4"
   },
   "outputs": [
    {
     "data": {
      "text/plain": [
       "dtype('O')"
      ]
     },
     "execution_count": 61,
     "metadata": {
      "tags": []
     },
     "output_type": "execute_result"
    }
   ],
   "source": [
    "# Leaving this for a bit later.  Working on datetime column\n",
    "\n",
    "np.dtype(sc_sleep_data['Sleep Notes'])"
   ]
  },
  {
   "cell_type": "code",
   "execution_count": 62,
   "metadata": {
    "colab": {
     "base_uri": "https://localhost:8080/",
     "height": 102
    },
    "colab_type": "code",
    "id": "LvbKu4MDsow8",
    "outputId": "6b8c2aec-6e97-4431-8169-4e3aa1a1d566"
   },
   "outputs": [
    {
     "data": {
      "text/plain": [
       "count                     419\n",
       "unique                    419\n",
       "top       2019-07-23 06:41:34\n",
       "freq                        1\n",
       "Name: Start, dtype: object"
      ]
     },
     "execution_count": 62,
     "metadata": {
      "tags": []
     },
     "output_type": "execute_result"
    }
   ],
   "source": [
    "# Looking to create a column of days\n",
    "\n",
    "sc_sleep_data['Start'].describe()"
   ]
  },
  {
   "cell_type": "code",
   "execution_count": null,
   "metadata": {
    "colab": {},
    "colab_type": "code",
    "id": "HU9pgAyJ-ZSe"
   },
   "outputs": [],
   "source": [
    "# # Test to find day of the week\n",
    "# copy_1_date = pd.Timestamp(sc_sleep_data['Start'][0])\n",
    "\n",
    "# copy_1_date.dayofweek"
   ]
  },
  {
   "cell_type": "code",
   "execution_count": 64,
   "metadata": {
    "colab": {
     "base_uri": "https://localhost:8080/",
     "height": 1000
    },
    "colab_type": "code",
    "id": "lW-kjkN3_Bbj",
    "outputId": "fa79e0c2-b1ab-4c87-888e-00b06f796690"
   },
   "outputs": [
    {
     "data": {
      "text/html": [
       "<div>\n",
       "<style scoped>\n",
       "    .dataframe tbody tr th:only-of-type {\n",
       "        vertical-align: middle;\n",
       "    }\n",
       "\n",
       "    .dataframe tbody tr th {\n",
       "        vertical-align: top;\n",
       "    }\n",
       "\n",
       "    .dataframe thead th {\n",
       "        text-align: right;\n",
       "    }\n",
       "</style>\n",
       "<table border=\"1\" class=\"dataframe\">\n",
       "  <thead>\n",
       "    <tr style=\"text-align: right;\">\n",
       "      <th></th>\n",
       "      <th>Start</th>\n",
       "      <th>End</th>\n",
       "      <th>Sleep quality</th>\n",
       "      <th>Time in bed</th>\n",
       "      <th>Wake up</th>\n",
       "      <th>Sleep Notes</th>\n",
       "      <th>Activity (steps)</th>\n",
       "      <th>Weekday</th>\n",
       "    </tr>\n",
       "  </thead>\n",
       "  <tbody>\n",
       "    <tr>\n",
       "      <th>0</th>\n",
       "      <td>2018-08-21 00:17:44</td>\n",
       "      <td>2018-08-21 06:31:59</td>\n",
       "      <td>0.55</td>\n",
       "      <td>6:14</td>\n",
       "      <td>NaN</td>\n",
       "      <td>NaN</td>\n",
       "      <td>0</td>\n",
       "      <td>1</td>\n",
       "    </tr>\n",
       "    <tr>\n",
       "      <th>1</th>\n",
       "      <td>2018-08-22 00:08:58</td>\n",
       "      <td>2018-08-22 06:48:15</td>\n",
       "      <td>0.77</td>\n",
       "      <td>6:39</td>\n",
       "      <td>NaN</td>\n",
       "      <td>NaN</td>\n",
       "      <td>0</td>\n",
       "      <td>2</td>\n",
       "    </tr>\n",
       "    <tr>\n",
       "      <th>2</th>\n",
       "      <td>2018-08-23 00:26:59</td>\n",
       "      <td>2018-08-23 05:14:15</td>\n",
       "      <td>0.57</td>\n",
       "      <td>4:47</td>\n",
       "      <td>NaN</td>\n",
       "      <td>NaN</td>\n",
       "      <td>0</td>\n",
       "      <td>3</td>\n",
       "    </tr>\n",
       "    <tr>\n",
       "      <th>3</th>\n",
       "      <td>2018-08-26 02:22:35</td>\n",
       "      <td>2018-08-26 06:25:43</td>\n",
       "      <td>0.35</td>\n",
       "      <td>4:03</td>\n",
       "      <td>NaN</td>\n",
       "      <td>NaN</td>\n",
       "      <td>0</td>\n",
       "      <td>6</td>\n",
       "    </tr>\n",
       "    <tr>\n",
       "      <th>4</th>\n",
       "      <td>2018-08-27 00:54:25</td>\n",
       "      <td>2018-08-27 08:24:27</td>\n",
       "      <td>0.62</td>\n",
       "      <td>7:30</td>\n",
       "      <td>NaN</td>\n",
       "      <td>NaN</td>\n",
       "      <td>0</td>\n",
       "      <td>0</td>\n",
       "    </tr>\n",
       "    <tr>\n",
       "      <th>5</th>\n",
       "      <td>2018-08-28 00:23:26</td>\n",
       "      <td>2018-08-28 06:12:45</td>\n",
       "      <td>0.63</td>\n",
       "      <td>5:49</td>\n",
       "      <td>1.0</td>\n",
       "      <td>NaN</td>\n",
       "      <td>291</td>\n",
       "      <td>1</td>\n",
       "    </tr>\n",
       "    <tr>\n",
       "      <th>6</th>\n",
       "      <td>2018-08-29 05:45:04</td>\n",
       "      <td>2018-08-29 07:33:17</td>\n",
       "      <td>0.23</td>\n",
       "      <td>1:48</td>\n",
       "      <td>1.0</td>\n",
       "      <td>NaN</td>\n",
       "      <td>2013</td>\n",
       "      <td>2</td>\n",
       "    </tr>\n",
       "    <tr>\n",
       "      <th>7</th>\n",
       "      <td>2018-08-31 01:18:08</td>\n",
       "      <td>2018-08-31 06:31:26</td>\n",
       "      <td>0.55</td>\n",
       "      <td>5:13</td>\n",
       "      <td>0.0</td>\n",
       "      <td>NaN</td>\n",
       "      <td>757</td>\n",
       "      <td>4</td>\n",
       "    </tr>\n",
       "    <tr>\n",
       "      <th>8</th>\n",
       "      <td>2018-09-01 05:32:35</td>\n",
       "      <td>2018-09-01 07:32:03</td>\n",
       "      <td>0.15</td>\n",
       "      <td>1:59</td>\n",
       "      <td>0.0</td>\n",
       "      <td>NaN</td>\n",
       "      <td>1222</td>\n",
       "      <td>5</td>\n",
       "    </tr>\n",
       "    <tr>\n",
       "      <th>9</th>\n",
       "      <td>2018-09-02 01:22:20</td>\n",
       "      <td>2018-09-02 08:02:47</td>\n",
       "      <td>0.71</td>\n",
       "      <td>6:40</td>\n",
       "      <td>1.0</td>\n",
       "      <td>NaN</td>\n",
       "      <td>1420</td>\n",
       "      <td>6</td>\n",
       "    </tr>\n",
       "    <tr>\n",
       "      <th>10</th>\n",
       "      <td>2018-09-04 01:08:49</td>\n",
       "      <td>2018-09-04 06:25:11</td>\n",
       "      <td>0.54</td>\n",
       "      <td>5:16</td>\n",
       "      <td>-1.0</td>\n",
       "      <td>NaN</td>\n",
       "      <td>667</td>\n",
       "      <td>1</td>\n",
       "    </tr>\n",
       "    <tr>\n",
       "      <th>11</th>\n",
       "      <td>2018-09-05 01:22:11</td>\n",
       "      <td>2018-09-05 06:41:47</td>\n",
       "      <td>0.60</td>\n",
       "      <td>5:19</td>\n",
       "      <td>1.0</td>\n",
       "      <td>NaN</td>\n",
       "      <td>1271</td>\n",
       "      <td>2</td>\n",
       "    </tr>\n",
       "    <tr>\n",
       "      <th>12</th>\n",
       "      <td>2018-09-06 01:43:04</td>\n",
       "      <td>2018-09-06 06:17:20</td>\n",
       "      <td>0.49</td>\n",
       "      <td>4:34</td>\n",
       "      <td>1.0</td>\n",
       "      <td>NaN</td>\n",
       "      <td>1742</td>\n",
       "      <td>3</td>\n",
       "    </tr>\n",
       "    <tr>\n",
       "      <th>13</th>\n",
       "      <td>2018-09-06 06:39:06</td>\n",
       "      <td>2018-09-06 07:42:15</td>\n",
       "      <td>0.14</td>\n",
       "      <td>1:03</td>\n",
       "      <td>0.0</td>\n",
       "      <td>NaN</td>\n",
       "      <td>0</td>\n",
       "      <td>3</td>\n",
       "    </tr>\n",
       "    <tr>\n",
       "      <th>14</th>\n",
       "      <td>2018-09-07 01:08:47</td>\n",
       "      <td>2018-09-07 06:01:47</td>\n",
       "      <td>0.54</td>\n",
       "      <td>4:53</td>\n",
       "      <td>1.0</td>\n",
       "      <td>NaN</td>\n",
       "      <td>1194</td>\n",
       "      <td>4</td>\n",
       "    </tr>\n",
       "    <tr>\n",
       "      <th>15</th>\n",
       "      <td>2018-09-07 06:18:29</td>\n",
       "      <td>2018-09-07 07:09:46</td>\n",
       "      <td>0.11</td>\n",
       "      <td>0:51</td>\n",
       "      <td>1.0</td>\n",
       "      <td>NaN</td>\n",
       "      <td>0</td>\n",
       "      <td>4</td>\n",
       "    </tr>\n",
       "    <tr>\n",
       "      <th>16</th>\n",
       "      <td>2018-09-08 01:41:00</td>\n",
       "      <td>2018-09-08 08:24:45</td>\n",
       "      <td>0.68</td>\n",
       "      <td>6:43</td>\n",
       "      <td>1.0</td>\n",
       "      <td>NaN</td>\n",
       "      <td>335</td>\n",
       "      <td>5</td>\n",
       "    </tr>\n",
       "    <tr>\n",
       "      <th>17</th>\n",
       "      <td>2018-09-09 02:37:51</td>\n",
       "      <td>2018-09-09 08:42:33</td>\n",
       "      <td>0.61</td>\n",
       "      <td>6:04</td>\n",
       "      <td>1.0</td>\n",
       "      <td>NaN</td>\n",
       "      <td>1420</td>\n",
       "      <td>6</td>\n",
       "    </tr>\n",
       "    <tr>\n",
       "      <th>18</th>\n",
       "      <td>2018-09-10 07:03:52</td>\n",
       "      <td>2018-09-10 07:59:08</td>\n",
       "      <td>0.12</td>\n",
       "      <td>0:55</td>\n",
       "      <td>1.0</td>\n",
       "      <td>NaN</td>\n",
       "      <td>0</td>\n",
       "      <td>0</td>\n",
       "    </tr>\n",
       "    <tr>\n",
       "      <th>19</th>\n",
       "      <td>2018-09-10 08:21:32</td>\n",
       "      <td>2018-09-10 08:44:09</td>\n",
       "      <td>0.05</td>\n",
       "      <td>0:22</td>\n",
       "      <td>0.0</td>\n",
       "      <td>NaN</td>\n",
       "      <td>0</td>\n",
       "      <td>0</td>\n",
       "    </tr>\n",
       "  </tbody>\n",
       "</table>\n",
       "</div>"
      ],
      "text/plain": [
       "                  Start                  End  ...  Activity (steps) Weekday\n",
       "0   2018-08-21 00:17:44  2018-08-21 06:31:59  ...                 0       1\n",
       "1   2018-08-22 00:08:58  2018-08-22 06:48:15  ...                 0       2\n",
       "2   2018-08-23 00:26:59  2018-08-23 05:14:15  ...                 0       3\n",
       "3   2018-08-26 02:22:35  2018-08-26 06:25:43  ...                 0       6\n",
       "4   2018-08-27 00:54:25  2018-08-27 08:24:27  ...                 0       0\n",
       "5   2018-08-28 00:23:26  2018-08-28 06:12:45  ...               291       1\n",
       "6   2018-08-29 05:45:04  2018-08-29 07:33:17  ...              2013       2\n",
       "7   2018-08-31 01:18:08  2018-08-31 06:31:26  ...               757       4\n",
       "8   2018-09-01 05:32:35  2018-09-01 07:32:03  ...              1222       5\n",
       "9   2018-09-02 01:22:20  2018-09-02 08:02:47  ...              1420       6\n",
       "10  2018-09-04 01:08:49  2018-09-04 06:25:11  ...               667       1\n",
       "11  2018-09-05 01:22:11  2018-09-05 06:41:47  ...              1271       2\n",
       "12  2018-09-06 01:43:04  2018-09-06 06:17:20  ...              1742       3\n",
       "13  2018-09-06 06:39:06  2018-09-06 07:42:15  ...                 0       3\n",
       "14  2018-09-07 01:08:47  2018-09-07 06:01:47  ...              1194       4\n",
       "15  2018-09-07 06:18:29  2018-09-07 07:09:46  ...                 0       4\n",
       "16  2018-09-08 01:41:00  2018-09-08 08:24:45  ...               335       5\n",
       "17  2018-09-09 02:37:51  2018-09-09 08:42:33  ...              1420       6\n",
       "18  2018-09-10 07:03:52  2018-09-10 07:59:08  ...                 0       0\n",
       "19  2018-09-10 08:21:32  2018-09-10 08:44:09  ...                 0       0\n",
       "\n",
       "[20 rows x 8 columns]"
      ]
     },
     "execution_count": 64,
     "metadata": {
      "tags": []
     },
     "output_type": "execute_result"
    }
   ],
   "source": [
    "sc_sleep_data['Weekday'] =  pd.to_datetime(sc_sleep_data['Start'], infer_datetime_format=True)\n",
    "sc_sleep_data['Weekday'] = sc_sleep_data['Weekday'].apply(lambda time: time.dayofweek)\n",
    "sc_sleep_data.head(20)"
   ]
  },
  {
   "cell_type": "code",
   "execution_count": 68,
   "metadata": {
    "colab": {
     "base_uri": "https://localhost:8080/",
     "height": 153
    },
    "colab_type": "code",
    "id": "kUHYSzYeqFsg",
    "outputId": "6237661d-9298-4867-e015-4bbfed8a49a5"
   },
   "outputs": [
    {
     "data": {
      "text/plain": [
       "2    72\n",
       "1    66\n",
       "4    62\n",
       "3    61\n",
       "6    55\n",
       "0    53\n",
       "5    50\n",
       "Name: Weekday, dtype: int64"
      ]
     },
     "execution_count": 68,
     "metadata": {
      "tags": []
     },
     "output_type": "execute_result"
    }
   ],
   "source": [
    "sc_sleep_data['Weekday'].value_counts()"
   ]
  },
  {
   "cell_type": "code",
   "execution_count": 69,
   "metadata": {
    "colab": {
     "base_uri": "https://localhost:8080/",
     "height": 238
    },
    "colab_type": "code",
    "id": "hcCLLaQmDqGb",
    "outputId": "db309ce7-ed9f-46bf-b740-f6f64fae0286"
   },
   "outputs": [
    {
     "name": "stdout",
     "output_type": "stream",
     "text": [
      "<class 'pandas.core.frame.DataFrame'>\n",
      "RangeIndex: 419 entries, 0 to 418\n",
      "Data columns (total 8 columns):\n",
      "Start               419 non-null datetime64[ns]\n",
      "End                 419 non-null datetime64[ns]\n",
      "Sleep quality       419 non-null float64\n",
      "Time in bed         419 non-null object\n",
      "Wake up             192 non-null float64\n",
      "Sleep Notes         177 non-null object\n",
      "Activity (steps)    419 non-null int64\n",
      "Weekday             419 non-null int64\n",
      "dtypes: datetime64[ns](2), float64(2), int64(2), object(2)\n",
      "memory usage: 26.3+ KB\n"
     ]
    }
   ],
   "source": [
    "sc_sleep_data['Start'] = np.array(sc_sleep_data['Start'], dtype=np.datetime64)\n",
    "sc_sleep_data['End'] = np.array(sc_sleep_data['End'], dtype=np.datetime64)\n",
    "sc_sleep_data.info()\n"
   ]
  },
  {
   "cell_type": "code",
   "execution_count": null,
   "metadata": {
    "colab": {},
    "colab_type": "code",
    "id": "wLRYeVWkXUC4"
   },
   "outputs": [],
   "source": [
    "from datetime import datetime"
   ]
  },
  {
   "cell_type": "code",
   "execution_count": null,
   "metadata": {
    "colab": {},
    "colab_type": "code",
    "id": "pcqMeemfYqxl"
   },
   "outputs": [],
   "source": [
    "# for i in sc_sleep_data['Time in bed']:\n",
    "#   sc_sleep_data['Time in bed'] = datetime.strptime(i, '%H:%M').time()\n",
    "# sc_sleep_data['Time in bed']"
   ]
  },
  {
   "cell_type": "code",
   "execution_count": null,
   "metadata": {
    "colab": {},
    "colab_type": "code",
    "id": "2mKkxocQ7S78"
   },
   "outputs": [],
   "source": [
    "# Formatting 'Time in bed' into date time format with a today's time stamp\n",
    "# will then remove date, and leave hours and min\n",
    "\n",
    "sc_sleep_data['Time in bed'] = pd.to_datetime(sc_sleep_data['Time in bed'],\n",
    "                                              infer_datetime_format=True)"
   ]
  },
  {
   "cell_type": "code",
   "execution_count": 72,
   "metadata": {
    "colab": {
     "base_uri": "https://localhost:8080/",
     "height": 306
    },
    "colab_type": "code",
    "id": "_h4WPYVvJ1dj",
    "outputId": "adb2f81f-4561-4f2b-9a0e-dfea45d3c80f"
   },
   "outputs": [
    {
     "data": {
      "text/html": [
       "<div>\n",
       "<style scoped>\n",
       "    .dataframe tbody tr th:only-of-type {\n",
       "        vertical-align: middle;\n",
       "    }\n",
       "\n",
       "    .dataframe tbody tr th {\n",
       "        vertical-align: top;\n",
       "    }\n",
       "\n",
       "    .dataframe thead th {\n",
       "        text-align: right;\n",
       "    }\n",
       "</style>\n",
       "<table border=\"1\" class=\"dataframe\">\n",
       "  <thead>\n",
       "    <tr style=\"text-align: right;\">\n",
       "      <th></th>\n",
       "      <th>Start</th>\n",
       "      <th>End</th>\n",
       "      <th>Sleep quality</th>\n",
       "      <th>Time in bed</th>\n",
       "      <th>Wake up</th>\n",
       "      <th>Sleep Notes</th>\n",
       "      <th>Activity (steps)</th>\n",
       "      <th>Weekday</th>\n",
       "    </tr>\n",
       "  </thead>\n",
       "  <tbody>\n",
       "    <tr>\n",
       "      <th>0</th>\n",
       "      <td>2018-08-21 00:17:44</td>\n",
       "      <td>2018-08-21 06:31:59</td>\n",
       "      <td>0.55</td>\n",
       "      <td>2019-11-19 06:14:00</td>\n",
       "      <td>NaN</td>\n",
       "      <td>NaN</td>\n",
       "      <td>0</td>\n",
       "      <td>1</td>\n",
       "    </tr>\n",
       "    <tr>\n",
       "      <th>1</th>\n",
       "      <td>2018-08-22 00:08:58</td>\n",
       "      <td>2018-08-22 06:48:15</td>\n",
       "      <td>0.77</td>\n",
       "      <td>2019-11-19 06:39:00</td>\n",
       "      <td>NaN</td>\n",
       "      <td>NaN</td>\n",
       "      <td>0</td>\n",
       "      <td>2</td>\n",
       "    </tr>\n",
       "    <tr>\n",
       "      <th>2</th>\n",
       "      <td>2018-08-23 00:26:59</td>\n",
       "      <td>2018-08-23 05:14:15</td>\n",
       "      <td>0.57</td>\n",
       "      <td>2019-11-19 04:47:00</td>\n",
       "      <td>NaN</td>\n",
       "      <td>NaN</td>\n",
       "      <td>0</td>\n",
       "      <td>3</td>\n",
       "    </tr>\n",
       "    <tr>\n",
       "      <th>3</th>\n",
       "      <td>2018-08-26 02:22:35</td>\n",
       "      <td>2018-08-26 06:25:43</td>\n",
       "      <td>0.35</td>\n",
       "      <td>2019-11-19 04:03:00</td>\n",
       "      <td>NaN</td>\n",
       "      <td>NaN</td>\n",
       "      <td>0</td>\n",
       "      <td>6</td>\n",
       "    </tr>\n",
       "    <tr>\n",
       "      <th>4</th>\n",
       "      <td>2018-08-27 00:54:25</td>\n",
       "      <td>2018-08-27 08:24:27</td>\n",
       "      <td>0.62</td>\n",
       "      <td>2019-11-19 07:30:00</td>\n",
       "      <td>NaN</td>\n",
       "      <td>NaN</td>\n",
       "      <td>0</td>\n",
       "      <td>0</td>\n",
       "    </tr>\n",
       "  </tbody>\n",
       "</table>\n",
       "</div>"
      ],
      "text/plain": [
       "                Start                 End  ...  Activity (steps) Weekday\n",
       "0 2018-08-21 00:17:44 2018-08-21 06:31:59  ...                 0       1\n",
       "1 2018-08-22 00:08:58 2018-08-22 06:48:15  ...                 0       2\n",
       "2 2018-08-23 00:26:59 2018-08-23 05:14:15  ...                 0       3\n",
       "3 2018-08-26 02:22:35 2018-08-26 06:25:43  ...                 0       6\n",
       "4 2018-08-27 00:54:25 2018-08-27 08:24:27  ...                 0       0\n",
       "\n",
       "[5 rows x 8 columns]"
      ]
     },
     "execution_count": 72,
     "metadata": {
      "tags": []
     },
     "output_type": "execute_result"
    }
   ],
   "source": [
    "sc_sleep_data.head()"
   ]
  },
  {
   "cell_type": "code",
   "execution_count": 73,
   "metadata": {
    "colab": {
     "base_uri": "https://localhost:8080/",
     "height": 589
    },
    "colab_type": "code",
    "id": "gIrVS0wrKGDm",
    "outputId": "45fd5627-ff41-4527-af1a-de7d51a7e348"
   },
   "outputs": [
    {
     "data": {
      "text/html": [
       "<div>\n",
       "<style scoped>\n",
       "    .dataframe tbody tr th:only-of-type {\n",
       "        vertical-align: middle;\n",
       "    }\n",
       "\n",
       "    .dataframe tbody tr th {\n",
       "        vertical-align: top;\n",
       "    }\n",
       "\n",
       "    .dataframe thead th {\n",
       "        text-align: right;\n",
       "    }\n",
       "</style>\n",
       "<table border=\"1\" class=\"dataframe\">\n",
       "  <thead>\n",
       "    <tr style=\"text-align: right;\">\n",
       "      <th></th>\n",
       "      <th>Start</th>\n",
       "      <th>End</th>\n",
       "      <th>Sleep quality</th>\n",
       "      <th>Time in bed</th>\n",
       "      <th>Wake up</th>\n",
       "      <th>Sleep Notes</th>\n",
       "      <th>Activity (steps)</th>\n",
       "      <th>Weekday</th>\n",
       "    </tr>\n",
       "  </thead>\n",
       "  <tbody>\n",
       "    <tr>\n",
       "      <th>0</th>\n",
       "      <td>2018-08-21 00:17:44</td>\n",
       "      <td>2018-08-21 06:31:59</td>\n",
       "      <td>0.55</td>\n",
       "      <td>06:14:00</td>\n",
       "      <td>NaN</td>\n",
       "      <td>NaN</td>\n",
       "      <td>0</td>\n",
       "      <td>1</td>\n",
       "    </tr>\n",
       "    <tr>\n",
       "      <th>1</th>\n",
       "      <td>2018-08-22 00:08:58</td>\n",
       "      <td>2018-08-22 06:48:15</td>\n",
       "      <td>0.77</td>\n",
       "      <td>06:39:00</td>\n",
       "      <td>NaN</td>\n",
       "      <td>NaN</td>\n",
       "      <td>0</td>\n",
       "      <td>2</td>\n",
       "    </tr>\n",
       "    <tr>\n",
       "      <th>2</th>\n",
       "      <td>2018-08-23 00:26:59</td>\n",
       "      <td>2018-08-23 05:14:15</td>\n",
       "      <td>0.57</td>\n",
       "      <td>04:47:00</td>\n",
       "      <td>NaN</td>\n",
       "      <td>NaN</td>\n",
       "      <td>0</td>\n",
       "      <td>3</td>\n",
       "    </tr>\n",
       "    <tr>\n",
       "      <th>3</th>\n",
       "      <td>2018-08-26 02:22:35</td>\n",
       "      <td>2018-08-26 06:25:43</td>\n",
       "      <td>0.35</td>\n",
       "      <td>04:03:00</td>\n",
       "      <td>NaN</td>\n",
       "      <td>NaN</td>\n",
       "      <td>0</td>\n",
       "      <td>6</td>\n",
       "    </tr>\n",
       "    <tr>\n",
       "      <th>4</th>\n",
       "      <td>2018-08-27 00:54:25</td>\n",
       "      <td>2018-08-27 08:24:27</td>\n",
       "      <td>0.62</td>\n",
       "      <td>07:30:00</td>\n",
       "      <td>NaN</td>\n",
       "      <td>NaN</td>\n",
       "      <td>0</td>\n",
       "      <td>0</td>\n",
       "    </tr>\n",
       "    <tr>\n",
       "      <th>...</th>\n",
       "      <td>...</td>\n",
       "      <td>...</td>\n",
       "      <td>...</td>\n",
       "      <td>...</td>\n",
       "      <td>...</td>\n",
       "      <td>...</td>\n",
       "      <td>...</td>\n",
       "      <td>...</td>\n",
       "    </tr>\n",
       "    <tr>\n",
       "      <th>414</th>\n",
       "      <td>2019-11-11 01:43:08</td>\n",
       "      <td>2019-11-11 07:18:20</td>\n",
       "      <td>0.61</td>\n",
       "      <td>05:35:00</td>\n",
       "      <td>NaN</td>\n",
       "      <td>NaN</td>\n",
       "      <td>0</td>\n",
       "      <td>0</td>\n",
       "    </tr>\n",
       "    <tr>\n",
       "      <th>415</th>\n",
       "      <td>2019-11-12 00:35:05</td>\n",
       "      <td>2019-11-12 07:32:30</td>\n",
       "      <td>0.75</td>\n",
       "      <td>06:57:00</td>\n",
       "      <td>NaN</td>\n",
       "      <td>NaN</td>\n",
       "      <td>3687</td>\n",
       "      <td>1</td>\n",
       "    </tr>\n",
       "    <tr>\n",
       "      <th>416</th>\n",
       "      <td>2019-11-13 01:52:17</td>\n",
       "      <td>2019-11-13 07:15:48</td>\n",
       "      <td>0.59</td>\n",
       "      <td>05:23:00</td>\n",
       "      <td>NaN</td>\n",
       "      <td>NaN</td>\n",
       "      <td>2323</td>\n",
       "      <td>2</td>\n",
       "    </tr>\n",
       "    <tr>\n",
       "      <th>417</th>\n",
       "      <td>2019-11-14 00:56:41</td>\n",
       "      <td>2019-11-14 06:45:00</td>\n",
       "      <td>0.61</td>\n",
       "      <td>05:48:00</td>\n",
       "      <td>NaN</td>\n",
       "      <td>NaN</td>\n",
       "      <td>2415</td>\n",
       "      <td>3</td>\n",
       "    </tr>\n",
       "    <tr>\n",
       "      <th>418</th>\n",
       "      <td>2019-11-15 01:57:58</td>\n",
       "      <td>2019-11-15 07:28:15</td>\n",
       "      <td>0.61</td>\n",
       "      <td>05:30:00</td>\n",
       "      <td>NaN</td>\n",
       "      <td>NaN</td>\n",
       "      <td>1990</td>\n",
       "      <td>4</td>\n",
       "    </tr>\n",
       "  </tbody>\n",
       "</table>\n",
       "<p>419 rows × 8 columns</p>\n",
       "</div>"
      ],
      "text/plain": [
       "                  Start                 End  ...  Activity (steps) Weekday\n",
       "0   2018-08-21 00:17:44 2018-08-21 06:31:59  ...                 0       1\n",
       "1   2018-08-22 00:08:58 2018-08-22 06:48:15  ...                 0       2\n",
       "2   2018-08-23 00:26:59 2018-08-23 05:14:15  ...                 0       3\n",
       "3   2018-08-26 02:22:35 2018-08-26 06:25:43  ...                 0       6\n",
       "4   2018-08-27 00:54:25 2018-08-27 08:24:27  ...                 0       0\n",
       "..                  ...                 ...  ...               ...     ...\n",
       "414 2019-11-11 01:43:08 2019-11-11 07:18:20  ...                 0       0\n",
       "415 2019-11-12 00:35:05 2019-11-12 07:32:30  ...              3687       1\n",
       "416 2019-11-13 01:52:17 2019-11-13 07:15:48  ...              2323       2\n",
       "417 2019-11-14 00:56:41 2019-11-14 06:45:00  ...              2415       3\n",
       "418 2019-11-15 01:57:58 2019-11-15 07:28:15  ...              1990       4\n",
       "\n",
       "[419 rows x 8 columns]"
      ]
     },
     "execution_count": 73,
     "metadata": {
      "tags": []
     },
     "output_type": "execute_result"
    }
   ],
   "source": [
    "# It took so long to finally acheive this single code of line.  But i finally\n",
    "# got the column 'Time in bed' into time format\n",
    "\n",
    "sc_sleep_data['Time in bed'] = sc_sleep_data['Time in bed'].dt.time\n",
    "sc_sleep_data"
   ]
  },
  {
   "cell_type": "code",
   "execution_count": 74,
   "metadata": {
    "colab": {
     "base_uri": "https://localhost:8080/",
     "height": 221
    },
    "colab_type": "code",
    "id": "EnmG9iQxMXAN",
    "outputId": "5553f5e7-bb52-4d6d-acca-c9686bf44ffe"
   },
   "outputs": [
    {
     "data": {
      "text/plain": [
       "0      2018-08-21\n",
       "1      2018-08-22\n",
       "2      2018-08-23\n",
       "3      2018-08-26\n",
       "4      2018-08-27\n",
       "          ...    \n",
       "414    2019-11-11\n",
       "415    2019-11-12\n",
       "416    2019-11-13\n",
       "417    2019-11-14\n",
       "418    2019-11-15\n",
       "Name: Date, Length: 419, dtype: object"
      ]
     },
     "execution_count": 74,
     "metadata": {
      "tags": []
     },
     "output_type": "execute_result"
    }
   ],
   "source": [
    "# Creating a column containg the dates, and then creating a column cointaning\n",
    "# time to bed, and time to rise\n",
    "\n",
    "sc_sleep_data['Date'] = sc_sleep_data['Start'].dt.date\n",
    "sc_sleep_data['Date']"
   ]
  },
  {
   "cell_type": "code",
   "execution_count": 77,
   "metadata": {
    "colab": {
     "base_uri": "https://localhost:8080/",
     "height": 306
    },
    "colab_type": "code",
    "id": "p-OxEGLtQWt8",
    "outputId": "e69edebc-0116-4f1d-893a-2df78f5daaf2"
   },
   "outputs": [
    {
     "data": {
      "text/html": [
       "<div>\n",
       "<style scoped>\n",
       "    .dataframe tbody tr th:only-of-type {\n",
       "        vertical-align: middle;\n",
       "    }\n",
       "\n",
       "    .dataframe tbody tr th {\n",
       "        vertical-align: top;\n",
       "    }\n",
       "\n",
       "    .dataframe thead th {\n",
       "        text-align: right;\n",
       "    }\n",
       "</style>\n",
       "<table border=\"1\" class=\"dataframe\">\n",
       "  <thead>\n",
       "    <tr style=\"text-align: right;\">\n",
       "      <th></th>\n",
       "      <th>Start</th>\n",
       "      <th>End</th>\n",
       "      <th>Sleep quality</th>\n",
       "      <th>Time in bed</th>\n",
       "      <th>Wake up</th>\n",
       "      <th>Sleep Notes</th>\n",
       "      <th>Activity (steps)</th>\n",
       "      <th>Weekday</th>\n",
       "      <th>Date</th>\n",
       "    </tr>\n",
       "  </thead>\n",
       "  <tbody>\n",
       "    <tr>\n",
       "      <th>0</th>\n",
       "      <td>2018-08-21 00:17:44</td>\n",
       "      <td>2018-08-21 06:31:59</td>\n",
       "      <td>0.55</td>\n",
       "      <td>06:14:00</td>\n",
       "      <td>NaN</td>\n",
       "      <td>NaN</td>\n",
       "      <td>0</td>\n",
       "      <td>Tuesday</td>\n",
       "      <td>2018-08-21</td>\n",
       "    </tr>\n",
       "    <tr>\n",
       "      <th>1</th>\n",
       "      <td>2018-08-22 00:08:58</td>\n",
       "      <td>2018-08-22 06:48:15</td>\n",
       "      <td>0.77</td>\n",
       "      <td>06:39:00</td>\n",
       "      <td>NaN</td>\n",
       "      <td>NaN</td>\n",
       "      <td>0</td>\n",
       "      <td>Wednesday</td>\n",
       "      <td>2018-08-22</td>\n",
       "    </tr>\n",
       "    <tr>\n",
       "      <th>2</th>\n",
       "      <td>2018-08-23 00:26:59</td>\n",
       "      <td>2018-08-23 05:14:15</td>\n",
       "      <td>0.57</td>\n",
       "      <td>04:47:00</td>\n",
       "      <td>NaN</td>\n",
       "      <td>NaN</td>\n",
       "      <td>0</td>\n",
       "      <td>Thursday</td>\n",
       "      <td>2018-08-23</td>\n",
       "    </tr>\n",
       "    <tr>\n",
       "      <th>3</th>\n",
       "      <td>2018-08-26 02:22:35</td>\n",
       "      <td>2018-08-26 06:25:43</td>\n",
       "      <td>0.35</td>\n",
       "      <td>04:03:00</td>\n",
       "      <td>NaN</td>\n",
       "      <td>NaN</td>\n",
       "      <td>0</td>\n",
       "      <td>Sunday</td>\n",
       "      <td>2018-08-26</td>\n",
       "    </tr>\n",
       "    <tr>\n",
       "      <th>4</th>\n",
       "      <td>2018-08-27 00:54:25</td>\n",
       "      <td>2018-08-27 08:24:27</td>\n",
       "      <td>0.62</td>\n",
       "      <td>07:30:00</td>\n",
       "      <td>NaN</td>\n",
       "      <td>NaN</td>\n",
       "      <td>0</td>\n",
       "      <td>Monday</td>\n",
       "      <td>2018-08-27</td>\n",
       "    </tr>\n",
       "  </tbody>\n",
       "</table>\n",
       "</div>"
      ],
      "text/plain": [
       "                Start                 End  ...    Weekday        Date\n",
       "0 2018-08-21 00:17:44 2018-08-21 06:31:59  ...    Tuesday  2018-08-21\n",
       "1 2018-08-22 00:08:58 2018-08-22 06:48:15  ...  Wednesday  2018-08-22\n",
       "2 2018-08-23 00:26:59 2018-08-23 05:14:15  ...   Thursday  2018-08-23\n",
       "3 2018-08-26 02:22:35 2018-08-26 06:25:43  ...     Sunday  2018-08-26\n",
       "4 2018-08-27 00:54:25 2018-08-27 08:24:27  ...     Monday  2018-08-27\n",
       "\n",
       "[5 rows x 9 columns]"
      ]
     },
     "execution_count": 77,
     "metadata": {
      "tags": []
     },
     "output_type": "execute_result"
    }
   ],
   "source": [
    "# replacing ints in 'Weekday' column with days of the week using a dictionary\n",
    "\n",
    "d = {0: 'Monday', 1: 'Tuesday', 2: 'Wednesday', 3: 'Thursday', 4: 'Friday',\n",
    "     5: 'Saturday', 6: 'Sunday'}\n",
    "sc_sleep_data['Weekday'] = sc_sleep_data['Weekday'].map(d)\n",
    "sc_sleep_data.head()"
   ]
  },
  {
   "cell_type": "code",
   "execution_count": null,
   "metadata": {
    "colab": {},
    "colab_type": "code",
    "id": "OrrQnooLrpkO"
   },
   "outputs": [],
   "source": [
    "# we need categorical variable to do a Chi**2 test\n",
    "\n",
    "\n",
    "cut_points = [0, .2, .4, .6, .8, 1]\n",
    "label_names = ['0% - 20%', '21% - 40%', '41% - 59%', '60% - 80%', '>80%']\n",
    "sc_sleep_data['Sleep Quality Categories'] = pd.cut(sc_sleep_data['Sleep quality'], \n",
    "                                                  cut_points, labels=label_names)\n"
   ]
  },
  {
   "cell_type": "code",
   "execution_count": 87,
   "metadata": {
    "colab": {
     "base_uri": "https://localhost:8080/",
     "height": 306
    },
    "colab_type": "code",
    "id": "yJNSOXonR_Nt",
    "outputId": "1ffc7a21-bedd-414e-a4a7-c64e032ff70e"
   },
   "outputs": [
    {
     "data": {
      "text/html": [
       "<div>\n",
       "<style scoped>\n",
       "    .dataframe tbody tr th:only-of-type {\n",
       "        vertical-align: middle;\n",
       "    }\n",
       "\n",
       "    .dataframe tbody tr th {\n",
       "        vertical-align: top;\n",
       "    }\n",
       "\n",
       "    .dataframe thead th {\n",
       "        text-align: right;\n",
       "    }\n",
       "</style>\n",
       "<table border=\"1\" class=\"dataframe\">\n",
       "  <thead>\n",
       "    <tr style=\"text-align: right;\">\n",
       "      <th></th>\n",
       "      <th>Start</th>\n",
       "      <th>End</th>\n",
       "      <th>Sleep quality</th>\n",
       "      <th>Time in bed</th>\n",
       "      <th>Activity (steps)</th>\n",
       "      <th>Weekday</th>\n",
       "      <th>Date</th>\n",
       "      <th>Sleep Quality Categories</th>\n",
       "    </tr>\n",
       "  </thead>\n",
       "  <tbody>\n",
       "    <tr>\n",
       "      <th>0</th>\n",
       "      <td>2018-08-21 00:17:44</td>\n",
       "      <td>2018-08-21 06:31:59</td>\n",
       "      <td>0.55</td>\n",
       "      <td>06:14:00</td>\n",
       "      <td>0</td>\n",
       "      <td>Tuesday</td>\n",
       "      <td>2018-08-21</td>\n",
       "      <td>41% - 59%</td>\n",
       "    </tr>\n",
       "    <tr>\n",
       "      <th>1</th>\n",
       "      <td>2018-08-22 00:08:58</td>\n",
       "      <td>2018-08-22 06:48:15</td>\n",
       "      <td>0.77</td>\n",
       "      <td>06:39:00</td>\n",
       "      <td>0</td>\n",
       "      <td>Wednesday</td>\n",
       "      <td>2018-08-22</td>\n",
       "      <td>60% - 80%</td>\n",
       "    </tr>\n",
       "    <tr>\n",
       "      <th>2</th>\n",
       "      <td>2018-08-23 00:26:59</td>\n",
       "      <td>2018-08-23 05:14:15</td>\n",
       "      <td>0.57</td>\n",
       "      <td>04:47:00</td>\n",
       "      <td>0</td>\n",
       "      <td>Thursday</td>\n",
       "      <td>2018-08-23</td>\n",
       "      <td>41% - 59%</td>\n",
       "    </tr>\n",
       "    <tr>\n",
       "      <th>3</th>\n",
       "      <td>2018-08-26 02:22:35</td>\n",
       "      <td>2018-08-26 06:25:43</td>\n",
       "      <td>0.35</td>\n",
       "      <td>04:03:00</td>\n",
       "      <td>0</td>\n",
       "      <td>Sunday</td>\n",
       "      <td>2018-08-26</td>\n",
       "      <td>21% - 40%</td>\n",
       "    </tr>\n",
       "    <tr>\n",
       "      <th>4</th>\n",
       "      <td>2018-08-27 00:54:25</td>\n",
       "      <td>2018-08-27 08:24:27</td>\n",
       "      <td>0.62</td>\n",
       "      <td>07:30:00</td>\n",
       "      <td>0</td>\n",
       "      <td>Monday</td>\n",
       "      <td>2018-08-27</td>\n",
       "      <td>60% - 80%</td>\n",
       "    </tr>\n",
       "  </tbody>\n",
       "</table>\n",
       "</div>"
      ],
      "text/plain": [
       "                Start                 End  ...        Date Sleep Quality Categories\n",
       "0 2018-08-21 00:17:44 2018-08-21 06:31:59  ...  2018-08-21                41% - 59%\n",
       "1 2018-08-22 00:08:58 2018-08-22 06:48:15  ...  2018-08-22                60% - 80%\n",
       "2 2018-08-23 00:26:59 2018-08-23 05:14:15  ...  2018-08-23                41% - 59%\n",
       "3 2018-08-26 02:22:35 2018-08-26 06:25:43  ...  2018-08-26                21% - 40%\n",
       "4 2018-08-27 00:54:25 2018-08-27 08:24:27  ...  2018-08-27                60% - 80%\n",
       "\n",
       "[5 rows x 8 columns]"
      ]
     },
     "execution_count": 87,
     "metadata": {
      "tags": []
     },
     "output_type": "execute_result"
    }
   ],
   "source": [
    "# New Dataframe excluding the 'Wake up' and 'Sleep Notes' column\n",
    "\n",
    "new_df = sc_sleep_data[['Start', 'End', 'Sleep quality', 'Time in bed',\n",
    "                       'Activity (steps)', 'Weekday', 'Date', 'Sleep Quality Categories']]\n",
    "new_df.head()"
   ]
  },
  {
   "cell_type": "code",
   "execution_count": null,
   "metadata": {
    "colab": {},
    "colab_type": "code",
    "id": "yHFyKf67TjFM"
   },
   "outputs": [],
   "source": [
    "print(new_df.info())\n",
    "print(new_df.isnull().any())\n",
    "print(new_df.describe())"
   ]
  },
  {
   "cell_type": "code",
   "execution_count": 88,
   "metadata": {
    "colab": {
     "base_uri": "https://localhost:8080/",
     "height": 297
    },
    "colab_type": "code",
    "id": "J4qOPZjqlzoV",
    "outputId": "2920319f-1428-4172-a643-c593c5e11271"
   },
   "outputs": [
    {
     "data": {
      "text/html": [
       "<div>\n",
       "<style scoped>\n",
       "    .dataframe tbody tr th:only-of-type {\n",
       "        vertical-align: middle;\n",
       "    }\n",
       "\n",
       "    .dataframe tbody tr th {\n",
       "        vertical-align: top;\n",
       "    }\n",
       "\n",
       "    .dataframe thead th {\n",
       "        text-align: right;\n",
       "    }\n",
       "</style>\n",
       "<table border=\"1\" class=\"dataframe\">\n",
       "  <thead>\n",
       "    <tr style=\"text-align: right;\">\n",
       "      <th>Sleep Quality Categories</th>\n",
       "      <th>0% - 20%</th>\n",
       "      <th>21% - 40%</th>\n",
       "      <th>41% - 59%</th>\n",
       "      <th>60% - 80%</th>\n",
       "      <th>&gt;80%</th>\n",
       "    </tr>\n",
       "    <tr>\n",
       "      <th>Weekday</th>\n",
       "      <th></th>\n",
       "      <th></th>\n",
       "      <th></th>\n",
       "      <th></th>\n",
       "      <th></th>\n",
       "    </tr>\n",
       "  </thead>\n",
       "  <tbody>\n",
       "    <tr>\n",
       "      <th>Friday</th>\n",
       "      <td>7</td>\n",
       "      <td>2</td>\n",
       "      <td>44</td>\n",
       "      <td>9</td>\n",
       "      <td>0</td>\n",
       "    </tr>\n",
       "    <tr>\n",
       "      <th>Monday</th>\n",
       "      <td>11</td>\n",
       "      <td>2</td>\n",
       "      <td>29</td>\n",
       "      <td>8</td>\n",
       "      <td>2</td>\n",
       "    </tr>\n",
       "    <tr>\n",
       "      <th>Saturday</th>\n",
       "      <td>4</td>\n",
       "      <td>7</td>\n",
       "      <td>22</td>\n",
       "      <td>16</td>\n",
       "      <td>1</td>\n",
       "    </tr>\n",
       "    <tr>\n",
       "      <th>Sunday</th>\n",
       "      <td>2</td>\n",
       "      <td>7</td>\n",
       "      <td>28</td>\n",
       "      <td>18</td>\n",
       "      <td>0</td>\n",
       "    </tr>\n",
       "    <tr>\n",
       "      <th>Thursday</th>\n",
       "      <td>4</td>\n",
       "      <td>9</td>\n",
       "      <td>35</td>\n",
       "      <td>12</td>\n",
       "      <td>0</td>\n",
       "    </tr>\n",
       "    <tr>\n",
       "      <th>Tuesday</th>\n",
       "      <td>11</td>\n",
       "      <td>10</td>\n",
       "      <td>36</td>\n",
       "      <td>9</td>\n",
       "      <td>0</td>\n",
       "    </tr>\n",
       "    <tr>\n",
       "      <th>Wednesday</th>\n",
       "      <td>8</td>\n",
       "      <td>10</td>\n",
       "      <td>46</td>\n",
       "      <td>8</td>\n",
       "      <td>0</td>\n",
       "    </tr>\n",
       "  </tbody>\n",
       "</table>\n",
       "</div>"
      ],
      "text/plain": [
       "Sleep Quality Categories  0% - 20%  21% - 40%  41% - 59%  60% - 80%  >80%\n",
       "Weekday                                                                  \n",
       "Friday                           7          2         44          9     0\n",
       "Monday                          11          2         29          8     2\n",
       "Saturday                         4          7         22         16     1\n",
       "Sunday                           2          7         28         18     0\n",
       "Thursday                         4          9         35         12     0\n",
       "Tuesday                         11         10         36          9     0\n",
       "Wednesday                        8         10         46          8     0"
      ]
     },
     "execution_count": 88,
     "metadata": {
      "tags": []
     },
     "output_type": "execute_result"
    }
   ],
   "source": [
    "# Creating a contingency table of observed values from\n",
    "# 'Weekday' and 'Sleep Quality Categories' columns\n",
    "\n",
    "new_df['Weekday'].value_counts()\n",
    "observed = pd.crosstab(new_df['Weekday'], new_df['Sleep Quality Categories'])\n",
    "\n",
    "observed"
   ]
  },
  {
   "cell_type": "code",
   "execution_count": 89,
   "metadata": {
    "colab": {
     "base_uri": "https://localhost:8080/",
     "height": 255
    },
    "colab_type": "code",
    "id": "6yb3Zr9RpIPa",
    "outputId": "37f27c79-5c13-491c-ea40-0e99cc89018e"
   },
   "outputs": [
    {
     "name": "stdout",
     "output_type": "stream",
     "text": [
      "Chi-Squared: 48.4872428187423 \n",
      "\n",
      "P-value: 0.002195734466180704 \n",
      "\n",
      "Degrees of Freedom: 24 \n",
      "\n",
      "Expected: \n",
      " [[ 6.98800959  6.98800959 35.68345324 11.89448441  0.44604317]\n",
      " [ 5.86091127  5.86091127 29.92805755  9.97601918  0.37410072]\n",
      " [ 5.63549161  5.63549161 28.77697842  9.59232614  0.35971223]\n",
      " [ 6.19904077  6.19904077 31.65467626 10.55155875  0.39568345]\n",
      " [ 6.76258993  6.76258993 34.5323741  11.51079137  0.43165468]\n",
      " [ 7.43884892  7.43884892 37.98561151 12.6618705   0.47482014]\n",
      " [ 8.11510791  8.11510791 41.43884892 13.81294964  0.51798561]]\n"
     ]
    }
   ],
   "source": [
    "from scipy import stats\n",
    "\n",
    "chi_squared, p_value, dof, expected = stats.chi2_contingency(observed)\n",
    "\n",
    "print(f'Chi-Squared: {chi_squared}', '\\n')\n",
    "print(f'P-value: {p_value}', '\\n')\n",
    "print(f'Degrees of Freedom: {dof}', '\\n')\n",
    "print('Expected: \\n', np.array(expected))"
   ]
  },
  {
   "cell_type": "code",
   "execution_count": 90,
   "metadata": {
    "colab": {
     "base_uri": "https://localhost:8080/",
     "height": 34
    },
    "colab_type": "code",
    "id": "rwgJlWczu5vi",
    "outputId": "37087cd6-2305-4577-d502-527370a8155c"
   },
   "outputs": [
    {
     "name": "stdout",
     "output_type": "stream",
     "text": [
      "P-value from chi^2 statistic: 0.002195734466180704\n"
     ]
    }
   ],
   "source": [
    "from scipy.stats.distributions import chi2\n",
    "\n",
    "print('P-value from chi^2 statistic:', chi2.sf(chi_squared, 24))"
   ]
  },
  {
   "cell_type": "code",
   "execution_count": null,
   "metadata": {
    "colab": {},
    "colab_type": "code",
    "id": "w5y4qMkxxVTJ"
   },
   "outputs": [],
   "source": [
    "# Taking counts for plotting\n",
    "\n",
    "Friday = observed.iloc[0][0:].values\n",
    "Monday = observed.iloc[1][0:].values\n",
    "Saturday = observed.iloc[2][0:].values\n",
    "Sunday = observed.iloc[3][0:].values\n",
    "Thursday = observed.iloc[4][0:].values\n",
    "Tuesday = observed.iloc[5][0:].values\n",
    "Wednesday = observed.iloc[5][0:].values\n"
   ]
  },
  {
   "cell_type": "code",
   "execution_count": 268,
   "metadata": {
    "colab": {
     "base_uri": "https://localhost:8080/",
     "height": 368
    },
    "colab_type": "code",
    "id": "ZOoHcXOv1aCQ",
    "outputId": "2abe61b7-a8be-43c0-c993-558addd8fca4"
   },
   "outputs": [
    {
     "data": {
      "image/png": "[encoded data removed]",
      "text/plain": [
       "<Figure size 936x360 with 1 Axes>"
      ]
     },
     "metadata": {
      "tags": []
     },
     "output_type": "display_data"
    }
   ],
   "source": [
    "import matplotlib\n",
    "import matplotlib.pyplot as plt\n",
    "import numpy as np\n",
    "\n",
    "\n",
    "labels = ['0% - 20%', '21% - 40%', '41% - 59%', '60% - 80%', '>80%']\n",
    "Friday = observed.iloc[0][0:].values\n",
    "Monday = observed.iloc[1][0:].values\n",
    "Saturday = observed.iloc[2][0:].values\n",
    "Sunday = observed.iloc[3][0:].values\n",
    "Thursday = observed.iloc[4][0:].values\n",
    "Tuesday = observed.iloc[5][0:].values\n",
    "Wednesday = observed.iloc[5][0:].values\n",
    "\n",
    "x = np.arange(len(labels))  # the label locations\n",
    "width = 0.08  # the width of the bars\n",
    "\n",
    "fig, ax = plt.subplots(figsize=(13,5))\n",
    "rects1 = ax.bar(x - width*3.1, Monday, .1, label='Monday')\n",
    "rects2 = ax.bar(x - width*1.7, Tuesday, .1, label='Tuesday')\n",
    "rects3 = ax.bar(x - width*.39, Wednesday, .1, label='Wednesday')\n",
    "rects4 = ax.bar(x + width*.96, Thursday, .1, label='Thursday')\n",
    "rects5 = ax.bar(x + width*2.36, Friday, .1, label='Friday')\n",
    "rects6 = ax.bar(x + width*3.68, Saturday, .1, label='Saturday')\n",
    "rects7 = ax.bar(x + width*5, Sunday, .1, label='Sunday')\n",
    "\n",
    "\n",
    "# Add some text for labels, title and custom x-axis tick labels, etc.\n",
    "ax.set_ylabel('Scores')\n",
    "ax.set_title('Sleep Quality')\n",
    "ax.set_xticks(x)\n",
    "ax.set_xticklabels(labels)\n",
    "ax.legend()\n",
    "\n",
    "\n",
    "def autolabel(rects):\n",
    "    \"\"\"Attach a text label above each bar in *rects*, displaying its height.\"\"\"\n",
    "    for rect in rects:\n",
    "        height = rect.get_height()\n",
    "        ax.annotate('{}'.format(height),\n",
    "                    xy=(rect.get_x() + rect.get_width() / 2, height),\n",
    "                    xytext=(0, 3),  # 3 points vertical offset\n",
    "                    textcoords=\"offset points\",\n",
    "                    ha='center', va='bottom', size=12)\n",
    "\n",
    "\n",
    "autolabel(rects1)\n",
    "autolabel(rects2)\n",
    "autolabel(rects3)\n",
    "autolabel(rects4)\n",
    "autolabel(rects5)\n",
    "autolabel(rects6)\n",
    "autolabel(rects7)\n",
    "\n",
    "\n",
    "\n",
    "fig.tight_layout()\n",
    "plt.xlabel('Quality of Sleep')\n",
    "plt.ylabel('Counts')\n",
    "plt.show()"
   ]
  }
 ],
 "metadata": {
  "colab": {
   "collapsed_sections": [],
   "include_colab_link": true,
   "name": "Sleep Data notebook.ipynb",
   "provenance": []
  },
  "kernelspec": {
   "display_name": "Python 3",
   "language": "python",
   "name": "python3"
  },
  "language_info": {
   "codemirror_mode": {
    "name": "ipython",
    "version": 3
   },
   "file_extension": ".py",
   "mimetype": "text/x-python",
   "name": "python",
   "nbconvert_exporter": "python",
   "pygments_lexer": "ipython3",
   "version": "3.7.4"
  }
 },
 "nbformat": 4,
 "nbformat_minor": 4
}
