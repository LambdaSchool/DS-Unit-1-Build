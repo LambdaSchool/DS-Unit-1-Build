{
 "cells": [
  {
   "cell_type": "markdown",
   "metadata": {},
   "source": [
    "### Question: Should developers prioritize Play Station over Xbox "
   ]
  },
  {
   "cell_type": "markdown",
   "metadata": {},
   "source": [
    "# Import relevant libraries"
   ]
  },
  {
   "cell_type": "code",
   "execution_count": 1,
   "metadata": {},
   "outputs": [],
   "source": [
    "import pandas as pd\n",
    "import numpy as np\n",
    "import matplotlib.pyplot as plt\n",
    "from scipy import stats "
   ]
  },
  {
   "cell_type": "markdown",
   "metadata": {},
   "source": [
    "# Make paths for the csvs"
   ]
  },
  {
   "cell_type": "code",
   "execution_count": 2,
   "metadata": {},
   "outputs": [],
   "source": [
    "ps4 = 'C://Users//allan//OneDrive//Desktop//data_sets//build_week_1//189386_422697_bundle_archive//PS4_GamesSales.csv'\n",
    "xbox1 = 'C://Users//allan//OneDrive//Desktop//data_sets//build_week_1//189386_422697_bundle_archive//XboxOne_GameSales.csv'"
   ]
  },
  {
   "cell_type": "markdown",
   "metadata": {},
   "source": [
    "# Read in csvs as df"
   ]
  },
  {
   "cell_type": "code",
   "execution_count": 3,
   "metadata": {},
   "outputs": [],
   "source": [
    "ps_df = pd.read_csv(ps4, encoding=\"cp1252\")\n",
    "xbox_df = pd.read_csv(xbox1, encoding=\"cp1252\")"
   ]
  },
  {
   "cell_type": "markdown",
   "metadata": {},
   "source": [
    "# Inspect"
   ]
  },
  {
   "cell_type": "code",
   "execution_count": 4,
   "metadata": {},
   "outputs": [
    {
     "data": {
      "text/html": [
       "<div>\n",
       "<style scoped>\n",
       "    .dataframe tbody tr th:only-of-type {\n",
       "        vertical-align: middle;\n",
       "    }\n",
       "\n",
       "    .dataframe tbody tr th {\n",
       "        vertical-align: top;\n",
       "    }\n",
       "\n",
       "    .dataframe thead th {\n",
       "        text-align: right;\n",
       "    }\n",
       "</style>\n",
       "<table border=\"1\" class=\"dataframe\">\n",
       "  <thead>\n",
       "    <tr style=\"text-align: right;\">\n",
       "      <th></th>\n",
       "      <th>Game</th>\n",
       "      <th>Year</th>\n",
       "      <th>Genre</th>\n",
       "      <th>Publisher</th>\n",
       "      <th>North America</th>\n",
       "      <th>Europe</th>\n",
       "      <th>Japan</th>\n",
       "      <th>Rest of World</th>\n",
       "      <th>Global</th>\n",
       "    </tr>\n",
       "  </thead>\n",
       "  <tbody>\n",
       "    <tr>\n",
       "      <th>0</th>\n",
       "      <td>Grand Theft Auto V</td>\n",
       "      <td>2014.0</td>\n",
       "      <td>Action</td>\n",
       "      <td>Rockstar Games</td>\n",
       "      <td>6.06</td>\n",
       "      <td>9.71</td>\n",
       "      <td>0.60</td>\n",
       "      <td>3.02</td>\n",
       "      <td>19.39</td>\n",
       "    </tr>\n",
       "    <tr>\n",
       "      <th>1</th>\n",
       "      <td>Call of Duty: Black Ops 3</td>\n",
       "      <td>2015.0</td>\n",
       "      <td>Shooter</td>\n",
       "      <td>Activision</td>\n",
       "      <td>6.18</td>\n",
       "      <td>6.05</td>\n",
       "      <td>0.41</td>\n",
       "      <td>2.44</td>\n",
       "      <td>15.09</td>\n",
       "    </tr>\n",
       "    <tr>\n",
       "      <th>2</th>\n",
       "      <td>Red Dead Redemption 2</td>\n",
       "      <td>2018.0</td>\n",
       "      <td>Action-Adventure</td>\n",
       "      <td>Rockstar Games</td>\n",
       "      <td>5.26</td>\n",
       "      <td>6.21</td>\n",
       "      <td>0.21</td>\n",
       "      <td>2.26</td>\n",
       "      <td>13.94</td>\n",
       "    </tr>\n",
       "    <tr>\n",
       "      <th>3</th>\n",
       "      <td>Call of Duty: WWII</td>\n",
       "      <td>2017.0</td>\n",
       "      <td>Shooter</td>\n",
       "      <td>Activision</td>\n",
       "      <td>4.67</td>\n",
       "      <td>6.21</td>\n",
       "      <td>0.40</td>\n",
       "      <td>2.12</td>\n",
       "      <td>13.40</td>\n",
       "    </tr>\n",
       "    <tr>\n",
       "      <th>4</th>\n",
       "      <td>FIFA 18</td>\n",
       "      <td>2017.0</td>\n",
       "      <td>Sports</td>\n",
       "      <td>EA Sports</td>\n",
       "      <td>1.27</td>\n",
       "      <td>8.64</td>\n",
       "      <td>0.15</td>\n",
       "      <td>1.73</td>\n",
       "      <td>11.80</td>\n",
       "    </tr>\n",
       "  </tbody>\n",
       "</table>\n",
       "</div>"
      ],
      "text/plain": [
       "                        Game    Year             Genre       Publisher  \\\n",
       "0         Grand Theft Auto V  2014.0            Action  Rockstar Games   \n",
       "1  Call of Duty: Black Ops 3  2015.0           Shooter      Activision   \n",
       "2      Red Dead Redemption 2  2018.0  Action-Adventure  Rockstar Games   \n",
       "3         Call of Duty: WWII  2017.0           Shooter      Activision   \n",
       "4                    FIFA 18  2017.0            Sports       EA Sports   \n",
       "\n",
       "   North America  Europe  Japan  Rest of World  Global  \n",
       "0           6.06    9.71   0.60           3.02   19.39  \n",
       "1           6.18    6.05   0.41           2.44   15.09  \n",
       "2           5.26    6.21   0.21           2.26   13.94  \n",
       "3           4.67    6.21   0.40           2.12   13.40  \n",
       "4           1.27    8.64   0.15           1.73   11.80  "
      ]
     },
     "execution_count": 4,
     "metadata": {},
     "output_type": "execute_result"
    }
   ],
   "source": [
    "ps_df.head()"
   ]
  },
  {
   "cell_type": "code",
   "execution_count": 5,
   "metadata": {},
   "outputs": [
    {
     "data": {
      "text/html": [
       "<div>\n",
       "<style scoped>\n",
       "    .dataframe tbody tr th:only-of-type {\n",
       "        vertical-align: middle;\n",
       "    }\n",
       "\n",
       "    .dataframe tbody tr th {\n",
       "        vertical-align: top;\n",
       "    }\n",
       "\n",
       "    .dataframe thead th {\n",
       "        text-align: right;\n",
       "    }\n",
       "</style>\n",
       "<table border=\"1\" class=\"dataframe\">\n",
       "  <thead>\n",
       "    <tr style=\"text-align: right;\">\n",
       "      <th></th>\n",
       "      <th>Pos</th>\n",
       "      <th>Game</th>\n",
       "      <th>Year</th>\n",
       "      <th>Genre</th>\n",
       "      <th>Publisher</th>\n",
       "      <th>North America</th>\n",
       "      <th>Europe</th>\n",
       "      <th>Japan</th>\n",
       "      <th>Rest of World</th>\n",
       "      <th>Global</th>\n",
       "    </tr>\n",
       "  </thead>\n",
       "  <tbody>\n",
       "    <tr>\n",
       "      <th>0</th>\n",
       "      <td>1</td>\n",
       "      <td>Grand Theft Auto V</td>\n",
       "      <td>2014.0</td>\n",
       "      <td>Action</td>\n",
       "      <td>Rockstar Games</td>\n",
       "      <td>4.70</td>\n",
       "      <td>3.25</td>\n",
       "      <td>0.01</td>\n",
       "      <td>0.76</td>\n",
       "      <td>8.72</td>\n",
       "    </tr>\n",
       "    <tr>\n",
       "      <th>1</th>\n",
       "      <td>2</td>\n",
       "      <td>Call of Duty: Black Ops 3</td>\n",
       "      <td>2015.0</td>\n",
       "      <td>Shooter</td>\n",
       "      <td>Activision</td>\n",
       "      <td>4.63</td>\n",
       "      <td>2.04</td>\n",
       "      <td>0.02</td>\n",
       "      <td>0.68</td>\n",
       "      <td>7.37</td>\n",
       "    </tr>\n",
       "    <tr>\n",
       "      <th>2</th>\n",
       "      <td>3</td>\n",
       "      <td>Call of Duty: WWII</td>\n",
       "      <td>2017.0</td>\n",
       "      <td>Shooter</td>\n",
       "      <td>Activision</td>\n",
       "      <td>3.75</td>\n",
       "      <td>1.91</td>\n",
       "      <td>0.00</td>\n",
       "      <td>0.57</td>\n",
       "      <td>6.23</td>\n",
       "    </tr>\n",
       "    <tr>\n",
       "      <th>3</th>\n",
       "      <td>4</td>\n",
       "      <td>Red Dead Redemption 2</td>\n",
       "      <td>2018.0</td>\n",
       "      <td>Action-Adventure</td>\n",
       "      <td>Rockstar Games</td>\n",
       "      <td>3.76</td>\n",
       "      <td>1.47</td>\n",
       "      <td>0.00</td>\n",
       "      <td>0.54</td>\n",
       "      <td>5.77</td>\n",
       "    </tr>\n",
       "    <tr>\n",
       "      <th>4</th>\n",
       "      <td>5</td>\n",
       "      <td>MineCraft</td>\n",
       "      <td>2014.0</td>\n",
       "      <td>Misc</td>\n",
       "      <td>Microsoft Studios</td>\n",
       "      <td>3.23</td>\n",
       "      <td>1.71</td>\n",
       "      <td>0.00</td>\n",
       "      <td>0.49</td>\n",
       "      <td>5.43</td>\n",
       "    </tr>\n",
       "  </tbody>\n",
       "</table>\n",
       "</div>"
      ],
      "text/plain": [
       "   Pos                       Game    Year             Genre  \\\n",
       "0    1         Grand Theft Auto V  2014.0            Action   \n",
       "1    2  Call of Duty: Black Ops 3  2015.0           Shooter   \n",
       "2    3         Call of Duty: WWII  2017.0           Shooter   \n",
       "3    4      Red Dead Redemption 2  2018.0  Action-Adventure   \n",
       "4    5                  MineCraft  2014.0              Misc   \n",
       "\n",
       "           Publisher  North America  Europe  Japan  Rest of World  Global  \n",
       "0     Rockstar Games           4.70    3.25   0.01           0.76    8.72  \n",
       "1         Activision           4.63    2.04   0.02           0.68    7.37  \n",
       "2         Activision           3.75    1.91   0.00           0.57    6.23  \n",
       "3     Rockstar Games           3.76    1.47   0.00           0.54    5.77  \n",
       "4  Microsoft Studios           3.23    1.71   0.00           0.49    5.43  "
      ]
     },
     "execution_count": 5,
     "metadata": {},
     "output_type": "execute_result"
    }
   ],
   "source": [
    "xbox_df.head()"
   ]
  },
  {
   "cell_type": "code",
   "execution_count": 6,
   "metadata": {},
   "outputs": [
    {
     "data": {
      "text/plain": [
       "Game               0\n",
       "Year             209\n",
       "Genre              0\n",
       "Publisher        209\n",
       "North America      0\n",
       "Europe             0\n",
       "Japan              0\n",
       "Rest of World      0\n",
       "Global             0\n",
       "dtype: int64"
      ]
     },
     "execution_count": 6,
     "metadata": {},
     "output_type": "execute_result"
    }
   ],
   "source": [
    "ps_df.isnull().sum()"
   ]
  },
  {
   "cell_type": "code",
   "execution_count": 7,
   "metadata": {},
   "outputs": [
    {
     "data": {
      "text/plain": [
       "Pos                0\n",
       "Game               0\n",
       "Year             108\n",
       "Genre              0\n",
       "Publisher        108\n",
       "North America      0\n",
       "Europe             0\n",
       "Japan              0\n",
       "Rest of World      0\n",
       "Global             0\n",
       "dtype: int64"
      ]
     },
     "execution_count": 7,
     "metadata": {},
     "output_type": "execute_result"
    }
   ],
   "source": [
    "xbox_df.isnull().sum()"
   ]
  },
  {
   "cell_type": "code",
   "execution_count": 8,
   "metadata": {},
   "outputs": [
    {
     "data": {
      "text/plain": [
       "(1034, 9)"
      ]
     },
     "execution_count": 8,
     "metadata": {},
     "output_type": "execute_result"
    }
   ],
   "source": [
    "ps_df.shape"
   ]
  },
  {
   "cell_type": "code",
   "execution_count": 9,
   "metadata": {},
   "outputs": [
    {
     "data": {
      "text/plain": [
       "(613, 10)"
      ]
     },
     "execution_count": 9,
     "metadata": {},
     "output_type": "execute_result"
    }
   ],
   "source": [
    "xbox_df.shape"
   ]
  },
  {
   "cell_type": "markdown",
   "metadata": {},
   "source": [
    "# Clean"
   ]
  },
  {
   "cell_type": "code",
   "execution_count": 10,
   "metadata": {},
   "outputs": [],
   "source": [
    "xbox_df.drop(index=xbox_df[xbox_df['Global'] == 0.0].index.to_list(),inplace=True)"
   ]
  },
  {
   "cell_type": "code",
   "execution_count": 11,
   "metadata": {},
   "outputs": [],
   "source": [
    "xbox_df.drop('Pos',axis=1,inplace=True)"
   ]
  },
  {
   "cell_type": "code",
   "execution_count": 12,
   "metadata": {},
   "outputs": [],
   "source": [
    "ps_df.drop(index=ps_df[ps_df['Global'] == 0.0].index.to_list(),inplace=True)"
   ]
  },
  {
   "cell_type": "code",
   "execution_count": 13,
   "metadata": {},
   "outputs": [
    {
     "data": {
      "text/html": [
       "<div>\n",
       "<style scoped>\n",
       "    .dataframe tbody tr th:only-of-type {\n",
       "        vertical-align: middle;\n",
       "    }\n",
       "\n",
       "    .dataframe tbody tr th {\n",
       "        vertical-align: top;\n",
       "    }\n",
       "\n",
       "    .dataframe thead th {\n",
       "        text-align: right;\n",
       "    }\n",
       "</style>\n",
       "<table border=\"1\" class=\"dataframe\">\n",
       "  <thead>\n",
       "    <tr style=\"text-align: right;\">\n",
       "      <th></th>\n",
       "      <th>Game</th>\n",
       "      <th>Year</th>\n",
       "      <th>Genre</th>\n",
       "      <th>Publisher</th>\n",
       "      <th>North America</th>\n",
       "      <th>Europe</th>\n",
       "      <th>Japan</th>\n",
       "      <th>Rest of World</th>\n",
       "      <th>Global</th>\n",
       "    </tr>\n",
       "  </thead>\n",
       "  <tbody>\n",
       "    <tr>\n",
       "      <th>0</th>\n",
       "      <td>Grand Theft Auto V</td>\n",
       "      <td>2014.0</td>\n",
       "      <td>Action</td>\n",
       "      <td>Rockstar Games</td>\n",
       "      <td>4.70</td>\n",
       "      <td>3.25</td>\n",
       "      <td>0.01</td>\n",
       "      <td>0.76</td>\n",
       "      <td>8.72</td>\n",
       "    </tr>\n",
       "    <tr>\n",
       "      <th>1</th>\n",
       "      <td>Call of Duty: Black Ops 3</td>\n",
       "      <td>2015.0</td>\n",
       "      <td>Shooter</td>\n",
       "      <td>Activision</td>\n",
       "      <td>4.63</td>\n",
       "      <td>2.04</td>\n",
       "      <td>0.02</td>\n",
       "      <td>0.68</td>\n",
       "      <td>7.37</td>\n",
       "    </tr>\n",
       "    <tr>\n",
       "      <th>2</th>\n",
       "      <td>Call of Duty: WWII</td>\n",
       "      <td>2017.0</td>\n",
       "      <td>Shooter</td>\n",
       "      <td>Activision</td>\n",
       "      <td>3.75</td>\n",
       "      <td>1.91</td>\n",
       "      <td>0.00</td>\n",
       "      <td>0.57</td>\n",
       "      <td>6.23</td>\n",
       "    </tr>\n",
       "    <tr>\n",
       "      <th>3</th>\n",
       "      <td>Red Dead Redemption 2</td>\n",
       "      <td>2018.0</td>\n",
       "      <td>Action-Adventure</td>\n",
       "      <td>Rockstar Games</td>\n",
       "      <td>3.76</td>\n",
       "      <td>1.47</td>\n",
       "      <td>0.00</td>\n",
       "      <td>0.54</td>\n",
       "      <td>5.77</td>\n",
       "    </tr>\n",
       "    <tr>\n",
       "      <th>4</th>\n",
       "      <td>MineCraft</td>\n",
       "      <td>2014.0</td>\n",
       "      <td>Misc</td>\n",
       "      <td>Microsoft Studios</td>\n",
       "      <td>3.23</td>\n",
       "      <td>1.71</td>\n",
       "      <td>0.00</td>\n",
       "      <td>0.49</td>\n",
       "      <td>5.43</td>\n",
       "    </tr>\n",
       "  </tbody>\n",
       "</table>\n",
       "</div>"
      ],
      "text/plain": [
       "                        Game    Year             Genre          Publisher  \\\n",
       "0         Grand Theft Auto V  2014.0            Action     Rockstar Games   \n",
       "1  Call of Duty: Black Ops 3  2015.0           Shooter         Activision   \n",
       "2         Call of Duty: WWII  2017.0           Shooter         Activision   \n",
       "3      Red Dead Redemption 2  2018.0  Action-Adventure     Rockstar Games   \n",
       "4                  MineCraft  2014.0              Misc  Microsoft Studios   \n",
       "\n",
       "   North America  Europe  Japan  Rest of World  Global  \n",
       "0           4.70    3.25   0.01           0.76    8.72  \n",
       "1           4.63    2.04   0.02           0.68    7.37  \n",
       "2           3.75    1.91   0.00           0.57    6.23  \n",
       "3           3.76    1.47   0.00           0.54    5.77  \n",
       "4           3.23    1.71   0.00           0.49    5.43  "
      ]
     },
     "execution_count": 13,
     "metadata": {},
     "output_type": "execute_result"
    }
   ],
   "source": [
    "xbox_df.head()"
   ]
  },
  {
   "cell_type": "code",
   "execution_count": 14,
   "metadata": {},
   "outputs": [
    {
     "data": {
      "text/html": [
       "<div>\n",
       "<style scoped>\n",
       "    .dataframe tbody tr th:only-of-type {\n",
       "        vertical-align: middle;\n",
       "    }\n",
       "\n",
       "    .dataframe tbody tr th {\n",
       "        vertical-align: top;\n",
       "    }\n",
       "\n",
       "    .dataframe thead th {\n",
       "        text-align: right;\n",
       "    }\n",
       "</style>\n",
       "<table border=\"1\" class=\"dataframe\">\n",
       "  <thead>\n",
       "    <tr style=\"text-align: right;\">\n",
       "      <th></th>\n",
       "      <th>Game</th>\n",
       "      <th>Year</th>\n",
       "      <th>Genre</th>\n",
       "      <th>Publisher</th>\n",
       "      <th>North America</th>\n",
       "      <th>Europe</th>\n",
       "      <th>Japan</th>\n",
       "      <th>Rest of World</th>\n",
       "      <th>Global</th>\n",
       "    </tr>\n",
       "  </thead>\n",
       "  <tbody>\n",
       "    <tr>\n",
       "      <th>0</th>\n",
       "      <td>Grand Theft Auto V</td>\n",
       "      <td>2014.0</td>\n",
       "      <td>Action</td>\n",
       "      <td>Rockstar Games</td>\n",
       "      <td>6.06</td>\n",
       "      <td>9.71</td>\n",
       "      <td>0.60</td>\n",
       "      <td>3.02</td>\n",
       "      <td>19.39</td>\n",
       "    </tr>\n",
       "    <tr>\n",
       "      <th>1</th>\n",
       "      <td>Call of Duty: Black Ops 3</td>\n",
       "      <td>2015.0</td>\n",
       "      <td>Shooter</td>\n",
       "      <td>Activision</td>\n",
       "      <td>6.18</td>\n",
       "      <td>6.05</td>\n",
       "      <td>0.41</td>\n",
       "      <td>2.44</td>\n",
       "      <td>15.09</td>\n",
       "    </tr>\n",
       "    <tr>\n",
       "      <th>2</th>\n",
       "      <td>Red Dead Redemption 2</td>\n",
       "      <td>2018.0</td>\n",
       "      <td>Action-Adventure</td>\n",
       "      <td>Rockstar Games</td>\n",
       "      <td>5.26</td>\n",
       "      <td>6.21</td>\n",
       "      <td>0.21</td>\n",
       "      <td>2.26</td>\n",
       "      <td>13.94</td>\n",
       "    </tr>\n",
       "    <tr>\n",
       "      <th>3</th>\n",
       "      <td>Call of Duty: WWII</td>\n",
       "      <td>2017.0</td>\n",
       "      <td>Shooter</td>\n",
       "      <td>Activision</td>\n",
       "      <td>4.67</td>\n",
       "      <td>6.21</td>\n",
       "      <td>0.40</td>\n",
       "      <td>2.12</td>\n",
       "      <td>13.40</td>\n",
       "    </tr>\n",
       "    <tr>\n",
       "      <th>4</th>\n",
       "      <td>FIFA 18</td>\n",
       "      <td>2017.0</td>\n",
       "      <td>Sports</td>\n",
       "      <td>EA Sports</td>\n",
       "      <td>1.27</td>\n",
       "      <td>8.64</td>\n",
       "      <td>0.15</td>\n",
       "      <td>1.73</td>\n",
       "      <td>11.80</td>\n",
       "    </tr>\n",
       "  </tbody>\n",
       "</table>\n",
       "</div>"
      ],
      "text/plain": [
       "                        Game    Year             Genre       Publisher  \\\n",
       "0         Grand Theft Auto V  2014.0            Action  Rockstar Games   \n",
       "1  Call of Duty: Black Ops 3  2015.0           Shooter      Activision   \n",
       "2      Red Dead Redemption 2  2018.0  Action-Adventure  Rockstar Games   \n",
       "3         Call of Duty: WWII  2017.0           Shooter      Activision   \n",
       "4                    FIFA 18  2017.0            Sports       EA Sports   \n",
       "\n",
       "   North America  Europe  Japan  Rest of World  Global  \n",
       "0           6.06    9.71   0.60           3.02   19.39  \n",
       "1           6.18    6.05   0.41           2.44   15.09  \n",
       "2           5.26    6.21   0.21           2.26   13.94  \n",
       "3           4.67    6.21   0.40           2.12   13.40  \n",
       "4           1.27    8.64   0.15           1.73   11.80  "
      ]
     },
     "execution_count": 14,
     "metadata": {},
     "output_type": "execute_result"
    }
   ],
   "source": [
    "ps_df.head()"
   ]
  },
  {
   "cell_type": "code",
   "execution_count": 15,
   "metadata": {},
   "outputs": [
    {
     "name": "stdout",
     "output_type": "stream",
     "text": [
      "(423, 9)\n",
      "(712, 9)\n"
     ]
    }
   ],
   "source": [
    "print(xbox_df.shape)\n",
    "print(ps_df.shape)"
   ]
  },
  {
   "cell_type": "code",
   "execution_count": 16,
   "metadata": {},
   "outputs": [],
   "source": [
    "xbox_df.dropna(inplace=True)\n",
    "ps_df.dropna(inplace=True)"
   ]
  },
  {
   "cell_type": "code",
   "execution_count": 17,
   "metadata": {},
   "outputs": [
    {
     "name": "stdout",
     "output_type": "stream",
     "text": [
      "(422, 9)\n"
     ]
    },
    {
     "data": {
      "text/html": [
       "<div>\n",
       "<style scoped>\n",
       "    .dataframe tbody tr th:only-of-type {\n",
       "        vertical-align: middle;\n",
       "    }\n",
       "\n",
       "    .dataframe tbody tr th {\n",
       "        vertical-align: top;\n",
       "    }\n",
       "\n",
       "    .dataframe thead th {\n",
       "        text-align: right;\n",
       "    }\n",
       "</style>\n",
       "<table border=\"1\" class=\"dataframe\">\n",
       "  <thead>\n",
       "    <tr style=\"text-align: right;\">\n",
       "      <th></th>\n",
       "      <th>Game</th>\n",
       "      <th>Year</th>\n",
       "      <th>Genre</th>\n",
       "      <th>Publisher</th>\n",
       "      <th>North America</th>\n",
       "      <th>Europe</th>\n",
       "      <th>Japan</th>\n",
       "      <th>Rest of World</th>\n",
       "      <th>Global</th>\n",
       "    </tr>\n",
       "  </thead>\n",
       "  <tbody>\n",
       "    <tr>\n",
       "      <th>0</th>\n",
       "      <td>Grand Theft Auto V</td>\n",
       "      <td>2014.0</td>\n",
       "      <td>Action</td>\n",
       "      <td>Rockstar Games</td>\n",
       "      <td>4.70</td>\n",
       "      <td>3.25</td>\n",
       "      <td>0.01</td>\n",
       "      <td>0.76</td>\n",
       "      <td>8.72</td>\n",
       "    </tr>\n",
       "    <tr>\n",
       "      <th>1</th>\n",
       "      <td>Call of Duty: Black Ops 3</td>\n",
       "      <td>2015.0</td>\n",
       "      <td>Shooter</td>\n",
       "      <td>Activision</td>\n",
       "      <td>4.63</td>\n",
       "      <td>2.04</td>\n",
       "      <td>0.02</td>\n",
       "      <td>0.68</td>\n",
       "      <td>7.37</td>\n",
       "    </tr>\n",
       "    <tr>\n",
       "      <th>2</th>\n",
       "      <td>Call of Duty: WWII</td>\n",
       "      <td>2017.0</td>\n",
       "      <td>Shooter</td>\n",
       "      <td>Activision</td>\n",
       "      <td>3.75</td>\n",
       "      <td>1.91</td>\n",
       "      <td>0.00</td>\n",
       "      <td>0.57</td>\n",
       "      <td>6.23</td>\n",
       "    </tr>\n",
       "    <tr>\n",
       "      <th>3</th>\n",
       "      <td>Red Dead Redemption 2</td>\n",
       "      <td>2018.0</td>\n",
       "      <td>Action-Adventure</td>\n",
       "      <td>Rockstar Games</td>\n",
       "      <td>3.76</td>\n",
       "      <td>1.47</td>\n",
       "      <td>0.00</td>\n",
       "      <td>0.54</td>\n",
       "      <td>5.77</td>\n",
       "    </tr>\n",
       "    <tr>\n",
       "      <th>4</th>\n",
       "      <td>MineCraft</td>\n",
       "      <td>2014.0</td>\n",
       "      <td>Misc</td>\n",
       "      <td>Microsoft Studios</td>\n",
       "      <td>3.23</td>\n",
       "      <td>1.71</td>\n",
       "      <td>0.00</td>\n",
       "      <td>0.49</td>\n",
       "      <td>5.43</td>\n",
       "    </tr>\n",
       "  </tbody>\n",
       "</table>\n",
       "</div>"
      ],
      "text/plain": [
       "                        Game    Year             Genre          Publisher  \\\n",
       "0         Grand Theft Auto V  2014.0            Action     Rockstar Games   \n",
       "1  Call of Duty: Black Ops 3  2015.0           Shooter         Activision   \n",
       "2         Call of Duty: WWII  2017.0           Shooter         Activision   \n",
       "3      Red Dead Redemption 2  2018.0  Action-Adventure     Rockstar Games   \n",
       "4                  MineCraft  2014.0              Misc  Microsoft Studios   \n",
       "\n",
       "   North America  Europe  Japan  Rest of World  Global  \n",
       "0           4.70    3.25   0.01           0.76    8.72  \n",
       "1           4.63    2.04   0.02           0.68    7.37  \n",
       "2           3.75    1.91   0.00           0.57    6.23  \n",
       "3           3.76    1.47   0.00           0.54    5.77  \n",
       "4           3.23    1.71   0.00           0.49    5.43  "
      ]
     },
     "execution_count": 17,
     "metadata": {},
     "output_type": "execute_result"
    }
   ],
   "source": [
    "print(xbox_df.shape)\n",
    "xbox_df.head()"
   ]
  },
  {
   "cell_type": "code",
   "execution_count": 18,
   "metadata": {},
   "outputs": [
    {
     "name": "stdout",
     "output_type": "stream",
     "text": [
      "(709, 9)\n"
     ]
    },
    {
     "data": {
      "text/html": [
       "<div>\n",
       "<style scoped>\n",
       "    .dataframe tbody tr th:only-of-type {\n",
       "        vertical-align: middle;\n",
       "    }\n",
       "\n",
       "    .dataframe tbody tr th {\n",
       "        vertical-align: top;\n",
       "    }\n",
       "\n",
       "    .dataframe thead th {\n",
       "        text-align: right;\n",
       "    }\n",
       "</style>\n",
       "<table border=\"1\" class=\"dataframe\">\n",
       "  <thead>\n",
       "    <tr style=\"text-align: right;\">\n",
       "      <th></th>\n",
       "      <th>Game</th>\n",
       "      <th>Year</th>\n",
       "      <th>Genre</th>\n",
       "      <th>Publisher</th>\n",
       "      <th>North America</th>\n",
       "      <th>Europe</th>\n",
       "      <th>Japan</th>\n",
       "      <th>Rest of World</th>\n",
       "      <th>Global</th>\n",
       "    </tr>\n",
       "  </thead>\n",
       "  <tbody>\n",
       "    <tr>\n",
       "      <th>0</th>\n",
       "      <td>Grand Theft Auto V</td>\n",
       "      <td>2014.0</td>\n",
       "      <td>Action</td>\n",
       "      <td>Rockstar Games</td>\n",
       "      <td>6.06</td>\n",
       "      <td>9.71</td>\n",
       "      <td>0.60</td>\n",
       "      <td>3.02</td>\n",
       "      <td>19.39</td>\n",
       "    </tr>\n",
       "    <tr>\n",
       "      <th>1</th>\n",
       "      <td>Call of Duty: Black Ops 3</td>\n",
       "      <td>2015.0</td>\n",
       "      <td>Shooter</td>\n",
       "      <td>Activision</td>\n",
       "      <td>6.18</td>\n",
       "      <td>6.05</td>\n",
       "      <td>0.41</td>\n",
       "      <td>2.44</td>\n",
       "      <td>15.09</td>\n",
       "    </tr>\n",
       "    <tr>\n",
       "      <th>2</th>\n",
       "      <td>Red Dead Redemption 2</td>\n",
       "      <td>2018.0</td>\n",
       "      <td>Action-Adventure</td>\n",
       "      <td>Rockstar Games</td>\n",
       "      <td>5.26</td>\n",
       "      <td>6.21</td>\n",
       "      <td>0.21</td>\n",
       "      <td>2.26</td>\n",
       "      <td>13.94</td>\n",
       "    </tr>\n",
       "    <tr>\n",
       "      <th>3</th>\n",
       "      <td>Call of Duty: WWII</td>\n",
       "      <td>2017.0</td>\n",
       "      <td>Shooter</td>\n",
       "      <td>Activision</td>\n",
       "      <td>4.67</td>\n",
       "      <td>6.21</td>\n",
       "      <td>0.40</td>\n",
       "      <td>2.12</td>\n",
       "      <td>13.40</td>\n",
       "    </tr>\n",
       "    <tr>\n",
       "      <th>4</th>\n",
       "      <td>FIFA 18</td>\n",
       "      <td>2017.0</td>\n",
       "      <td>Sports</td>\n",
       "      <td>EA Sports</td>\n",
       "      <td>1.27</td>\n",
       "      <td>8.64</td>\n",
       "      <td>0.15</td>\n",
       "      <td>1.73</td>\n",
       "      <td>11.80</td>\n",
       "    </tr>\n",
       "  </tbody>\n",
       "</table>\n",
       "</div>"
      ],
      "text/plain": [
       "                        Game    Year             Genre       Publisher  \\\n",
       "0         Grand Theft Auto V  2014.0            Action  Rockstar Games   \n",
       "1  Call of Duty: Black Ops 3  2015.0           Shooter      Activision   \n",
       "2      Red Dead Redemption 2  2018.0  Action-Adventure  Rockstar Games   \n",
       "3         Call of Duty: WWII  2017.0           Shooter      Activision   \n",
       "4                    FIFA 18  2017.0            Sports       EA Sports   \n",
       "\n",
       "   North America  Europe  Japan  Rest of World  Global  \n",
       "0           6.06    9.71   0.60           3.02   19.39  \n",
       "1           6.18    6.05   0.41           2.44   15.09  \n",
       "2           5.26    6.21   0.21           2.26   13.94  \n",
       "3           4.67    6.21   0.40           2.12   13.40  \n",
       "4           1.27    8.64   0.15           1.73   11.80  "
      ]
     },
     "execution_count": 18,
     "metadata": {},
     "output_type": "execute_result"
    }
   ],
   "source": [
    "print(ps_df.shape)\n",
    "ps_df.head()"
   ]
  },
  {
   "cell_type": "markdown",
   "metadata": {},
   "source": [
    "# Explore"
   ]
  },
  {
   "cell_type": "code",
   "execution_count": 38,
   "metadata": {},
   "outputs": [
    {
     "data": {
      "image/png": "[encoded data removed]",
      "text/plain": [
       "<Figure size 1080x504 with 2 Axes>"
      ]
     },
     "metadata": {
      "needs_background": "light"
     },
     "output_type": "display_data"
    }
   ],
   "source": [
    "x_genres = np.sort(xbox_df['Genre'].unique())\n",
    "x_sales_genre = [xbox_df[xbox_df['Genre'] == i][\"Global\"].sum() for i in x_genres]\n",
    "\n",
    "ps_genres = np.sort(ps_df['Genre'].unique())\n",
    "ps_sales_genre = [ps_df[ps_df['Genre'] == i][\"Global\"].sum() for i in ps_genres]\n",
    "\n",
    "fig, (ax1,ax2) = plt.subplots(1,2)\n",
    "\n",
    "fig.set_size_inches(15,7)\n",
    "\n",
    "ax1.bar(range(1, len(x_genres) + 1), x_sales_genre,color=\"#4DB455\")\n",
    "\n",
    "ax1.set_xticks(range(1, len(x_genres) + 1))\n",
    "ax1.set_xticklabels(x_genres, rotation = 'vertical')\n",
    "\n",
    "ax1.set_yticks(range(0,141,20))\n",
    "\n",
    "ax1.set_xlabel(\"Genre\")\n",
    "ax1.set_ylabel(\"Sales\")\n",
    "ax1.set_title(\" Global Sales by Genre\\nXbox One\")\n",
    "\n",
    "\n",
    "\n",
    "ax2.bar(range(1, len(ps_genres) + 1), ps_sales_genre,color=\"#3559C2\")\n",
    "\n",
    "ax2.set_xticks(range(1, len(ps_genres) + 1))\n",
    "ax2.set_xticklabels(ps_genres, rotation = 'vertical')\n",
    "\n",
    "ax2.set_xlabel(\"Genre\")\n",
    "ax2.set_ylabel(\"Sales\")\n",
    "ax2.set_title(\" Global Sales by Genre\\nPS4\")\n",
    "\n",
    "\n",
    "plt.show()"
   ]
  },
  {
   "cell_type": "code",
   "execution_count": 32,
   "metadata": {},
   "outputs": [],
   "source": [
    "x_years = np.sort(xbox_df['Year'].unique())\n",
    "ps_years = np.sort(ps_df['Year'].unique())\n",
    "\n",
    "x_sales_year = [xbox_df[xbox_df[\"Year\"] == i][\"Global\"].sum() for i in x_years]\n",
    "ps_sales_year = [ps_df[ps_df[\"Year\"] == i][\"Global\"].sum() for i in ps_years]"
   ]
  },
  {
   "cell_type": "code",
   "execution_count": 69,
   "metadata": {},
   "outputs": [
    {
     "data": {
      "image/png": "[encoded data removed]",
      "text/plain": [
       "<Figure size 1080x504 with 2 Axes>"
      ]
     },
     "metadata": {
      "needs_background": "light"
     },
     "output_type": "display_data"
    }
   ],
   "source": [
    "fig, (ax1,ax2) = plt.subplots(1,2)\n",
    "\n",
    "fig.set_size_inches(15,7)\n",
    "\n",
    "ax1.bar(range(1, len(x_years) + 1), x_sales_year,color=\"#4DB455\")\n",
    "\n",
    "ax1.set_xticks(range(1,len(x_years) + 1))\n",
    "ax1.set_xticklabels(x_years,rotation='vertical')\n",
    "ax1.set_yticks(range(0,141,20))\n",
    "\n",
    "ax1.set_xlabel(\"Year\")\n",
    "ax1.set_ylabel(\"Sales\")\n",
    "\n",
    "ax1.set_title(\"Sale by Year\\nXbox One\")\n",
    "\n",
    "ax2.bar(range(1,len(ps_years) + 1),ps_sales_year, color=\"#3559C2\")\n",
    "\n",
    "ax2.set_xticks(range(1,len(ps_years) + 1))\n",
    "ax2.set_xticklabels(ps_years,rotation='vertical')\n",
    "\n",
    "ax2.set_xlabel(\"Year\")\n",
    "ax2.set_ylabel(\"Sales\")\n",
    "\n",
    "ax2.set_title(\"Sale by Year\\nPS4\")\n",
    "\n",
    "plt.show()"
   ]
  },
  {
   "cell_type": "code",
   "execution_count": 64,
   "metadata": {},
   "outputs": [],
   "source": [
    "xbox_df = xbox_df.sort_values(by='Global',ascending=False)\n",
    "ps_df = ps_df.sort_values(by='Global',ascending=False)"
   ]
  },
  {
   "cell_type": "code",
   "execution_count": 73,
   "metadata": {},
   "outputs": [
    {
     "ename": "KeyboardInterrupt",
     "evalue": "",
     "output_type": "error",
     "traceback": [
      "\u001b[1;31m---------------------------------------------------------------------------\u001b[0m",
      "\u001b[1;31mKeyboardInterrupt\u001b[0m                         Traceback (most recent call last)",
      "\u001b[1;32m<ipython-input-73-b40ec387e54a>\u001b[0m in \u001b[0;36m<module>\u001b[1;34m\u001b[0m\n\u001b[0;32m      4\u001b[0m \u001b[0mgames\u001b[0m \u001b[1;33m=\u001b[0m \u001b[1;33m[\u001b[0m\u001b[1;33m]\u001b[0m\u001b[1;33m\u001b[0m\u001b[1;33m\u001b[0m\u001b[0m\n\u001b[0;32m      5\u001b[0m \u001b[0mi\u001b[0m \u001b[1;33m=\u001b[0m \u001b[1;36m0\u001b[0m\u001b[1;33m\u001b[0m\u001b[1;33m\u001b[0m\u001b[0m\n\u001b[1;32m----> 6\u001b[1;33m \u001b[1;32mwhile\u001b[0m \u001b[0mlen\u001b[0m\u001b[1;33m(\u001b[0m\u001b[0mgames\u001b[0m\u001b[1;33m)\u001b[0m \u001b[1;33m<\u001b[0m \u001b[1;36m10\u001b[0m\u001b[1;33m:\u001b[0m\u001b[1;33m\u001b[0m\u001b[1;33m\u001b[0m\u001b[0m\n\u001b[0m\u001b[0;32m      7\u001b[0m     \u001b[1;32mif\u001b[0m \u001b[0mxbox_games\u001b[0m\u001b[1;33m[\u001b[0m\u001b[0mi\u001b[0m\u001b[1;33m]\u001b[0m \u001b[1;32min\u001b[0m \u001b[0mps_games\u001b[0m\u001b[1;33m:\u001b[0m\u001b[1;33m\u001b[0m\u001b[1;33m\u001b[0m\u001b[0m\n\u001b[0;32m      8\u001b[0m         \u001b[0mgames\u001b[0m\u001b[1;33m.\u001b[0m\u001b[0mappend\u001b[0m\u001b[1;33m(\u001b[0m\u001b[0mxbox_games\u001b[0m\u001b[1;33m[\u001b[0m\u001b[0mi\u001b[0m\u001b[1;33m]\u001b[0m\u001b[1;33m)\u001b[0m\u001b[1;33m\u001b[0m\u001b[1;33m\u001b[0m\u001b[0m\n",
      "\u001b[1;31mKeyboardInterrupt\u001b[0m: "
     ]
    }
   ],
   "source": [
    "xbox_games = xbox_df['Game'].unique()\n",
    "ps_games = ps_df['Game'].unique()\n",
    "\n",
    "games = []\n",
    "i = 0\n",
    "while len(games) < 10:\n",
    "    if xbox_games[i] in ps_games:\n",
    "        games.append(xbox_games[i])\n",
    "        i +=1\n",
    "games"
   ]
  },
  {
   "cell_type": "code",
   "execution_count": 65,
   "metadata": {},
   "outputs": [],
   "source": [
    "#games = set(xbox_df['Game']).intersection(set(ps_df['Game']))"
   ]
  },
  {
   "cell_type": "code",
   "execution_count": 56,
   "metadata": {},
   "outputs": [],
   "source": [
    "ps_sales_game = [ps_df[ps_df['Game'] == game]['Global'].sum() for game in games]\n",
    "xbox_sales_game = [xbox_df[xbox_df['Game'] == game]['Global'].sum() for game in games]"
   ]
  },
  {
   "cell_type": "code",
   "execution_count": 57,
   "metadata": {},
   "outputs": [
    {
     "data": {
      "image/png": "[encoded data removed]",
      "text/plain": [
       "<Figure size 1440x720 with 2 Axes>"
      ]
     },
     "metadata": {
      "needs_background": "light"
     },
     "output_type": "display_data"
    }
   ],
   "source": [
    "fig, (ax1, ax2) = plt.subplots(1,2)\n",
    "\n",
    "fig.set_size_inches(20,10)\n",
    "\n",
    "ax1.bar(range(1, len(xbox_sales_game) + 1), xbox_sales_game, color=\"#4DB455\")\n",
    "\n",
    "ax1.set_xticks(range(1, len(xbox_sales_game) + 1))\n",
    "ax1.set_xticklabels(games,rotation='vertical')\n",
    "\n",
    "#ax2.bar()\n",
    "\n",
    "plt.show()"
   ]
  },
  {
   "cell_type": "code",
   "execution_count": 66,
   "metadata": {},
   "outputs": [
    {
     "data": {
      "text/plain": [
       "{'7 Days to Die',\n",
       " 'A Way Out',\n",
       " 'ABZU',\n",
       " 'ARK: Survival Evolved',\n",
       " 'ATV Renegades',\n",
       " 'Adventure Time: Finn & Jake Investigations',\n",
       " \"Agatha Christie's The ABC Murders\",\n",
       " 'Agents of Mayhem',\n",
       " 'Alien: Isolation',\n",
       " \"America's Greatest Game Shows: Wheel of Fortune & Jeopardy!\",\n",
       " 'Angry Birds: Star Wars',\n",
       " 'Arslan: The Warriors of Legend',\n",
       " \"Assassin's Creed Chronicles\",\n",
       " \"Assassin's Creed IV: Black Flag\",\n",
       " \"Assassin's Creed Origins\",\n",
       " \"Assassin's Creed Syndicate\",\n",
       " \"Assassin's Creed The Ezio Collection\",\n",
       " \"Assassin's Creed: Unity\",\n",
       " 'Assetto Corsa',\n",
       " 'Atari Flashback Classics: Volume 1',\n",
       " 'Atari Flashback Classics: Volume 2',\n",
       " 'Attack on Titan (KOEI)',\n",
       " 'Attack on Titan 2',\n",
       " 'Aven Colony',\n",
       " 'Back to the Future: The Game',\n",
       " 'Baja: Edge of Control HD',\n",
       " 'Batman: A Telltale Game Series',\n",
       " 'Batman: Arkham Knight',\n",
       " 'Batman: Return to Arkham',\n",
       " 'Batman: The Enemy Within',\n",
       " 'Battle Chasers: Nightwar',\n",
       " 'Battle Worlds: Kronos',\n",
       " 'Battleborn',\n",
       " 'Battlefield 1',\n",
       " 'Battlefield 4',\n",
       " 'Battlefield: Hardline',\n",
       " 'Ben 10 (2017)',\n",
       " 'Big Buck Hunter Arcade',\n",
       " 'BioShock The Collection',\n",
       " 'Black Mirror',\n",
       " 'Blackguards 2',\n",
       " 'Bladestorm: Nightmare',\n",
       " 'BlazBlue: Chrono Phantasma Extend',\n",
       " 'Borderlands: The Handsome Collection',\n",
       " \"Broken Sword 5: The Serpent's Curse\",\n",
       " 'Brothers: A Tale of Two Sons',\n",
       " 'Bulletstorm: Full Clip Edition',\n",
       " 'Call of Duty: Advanced Warfare',\n",
       " 'Call of Duty: Black Ops 3',\n",
       " 'Call of Duty: Ghosts',\n",
       " 'Call of Duty: Infinite Warfare',\n",
       " 'Call of Duty: Modern Warfare Remastered',\n",
       " 'Call of Duty: WWII',\n",
       " 'Carmageddon: Max Damage',\n",
       " 'Cars 3: Driven to Win',\n",
       " 'Cartoon Network Battle Crashers',\n",
       " 'Cities: Skylines',\n",
       " 'Constructor HD',\n",
       " 'Dark Souls II',\n",
       " 'Dark Souls III',\n",
       " 'Darksiders II',\n",
       " 'Darksiders III',\n",
       " 'Darksiders: Warmastered Edition',\n",
       " 'Dead Alliance',\n",
       " 'Dead Island Definitive Collection',\n",
       " 'Dead Rising',\n",
       " 'Dead Rising 2',\n",
       " 'Dead Rising 4',\n",
       " 'Dead by Daylight',\n",
       " 'Dead or Alive 5',\n",
       " 'Deadpool',\n",
       " 'Deer Hunter Reloaded',\n",
       " 'Deformers',\n",
       " 'Destiny',\n",
       " 'Destiny 2',\n",
       " 'Destiny: The Collection',\n",
       " 'Destiny: The Taken King',\n",
       " 'Deus Ex: Mankind Divided',\n",
       " 'DiRT 4',\n",
       " 'DiRT Rally',\n",
       " 'Diablo III',\n",
       " 'Dishonored',\n",
       " 'Dishonored 2',\n",
       " 'Dishonored: Death of the Outsider',\n",
       " 'Disney Infinity 2.0: Marvel Super Heroes',\n",
       " 'Disney Infinity 3.0',\n",
       " 'Divinity: Original Sin',\n",
       " 'DmC: Devil May Cry',\n",
       " 'Don Bradman Cricket 14',\n",
       " \"Don't Starve\",\n",
       " 'Doom (2016)',\n",
       " 'Dragon Age III: Inquisition',\n",
       " 'Dragon Ball Fighter Z',\n",
       " 'Dragon Ball: XenoVerse',\n",
       " 'Dragon Ball: Xenoverse 2',\n",
       " \"Dragon's Dogma\",\n",
       " 'Duke Nukem 3D: 20th Anniversary World Tour',\n",
       " 'Dungeons 3',\n",
       " 'Dying Light',\n",
       " 'Dynasty Warriors 8: Empires',\n",
       " 'EA Sports UFC',\n",
       " 'EA Sports UFC 2',\n",
       " 'EA Sports UFC 3',\n",
       " 'Elex',\n",
       " 'Elite: Dangerous',\n",
       " 'Evolve',\n",
       " 'Extinction',\n",
       " 'F1 2015',\n",
       " 'F1 2016 (Codemasters)',\n",
       " 'F1 2017',\n",
       " 'FIFA 15',\n",
       " 'FIFA 16',\n",
       " 'FIFA 17',\n",
       " 'FIFA 18',\n",
       " 'FIFA Soccer 14',\n",
       " 'Fallout 4',\n",
       " 'Far Cry 4',\n",
       " 'Far Cry 5',\n",
       " 'Far Cry: Primal',\n",
       " 'Farming Simulator 17',\n",
       " 'Farming Simulator 2015',\n",
       " 'Final Fantasy Type-0',\n",
       " 'Final Fantasy XV',\n",
       " 'FlatOut 4: Total Insanity',\n",
       " 'For Honor',\n",
       " 'Fortnite',\n",
       " 'Friday the 13th: The Game',\n",
       " 'Game of Thrones (Telltale)',\n",
       " 'Geometry Wars 3: Dimensions Evolved',\n",
       " 'Ghostbusters (2016)',\n",
       " 'Golf Club 2',\n",
       " 'Grand Theft Auto V',\n",
       " 'Guitar Hero Live',\n",
       " 'Has-Been Heroes',\n",
       " 'Hasbro Family Fun Pack Conquest Edition',\n",
       " 'Hitman (2016)',\n",
       " 'Homefront: The Revolution',\n",
       " 'Hunting Simulator',\n",
       " 'INSIDE / LIMBO Double Pack',\n",
       " 'Injustice 2',\n",
       " 'Just Cause 3',\n",
       " 'Just Dance 2014',\n",
       " 'Just Dance 2015',\n",
       " 'Just Dance 2016',\n",
       " 'Just Dance 2017',\n",
       " 'Just Dance 2018',\n",
       " 'Just Sing',\n",
       " 'Killing Floor 2Ê',\n",
       " \"King's Quest: The Complete Collection\",\n",
       " 'Kingdom Come: Deliverance',\n",
       " 'L.A. Noire',\n",
       " 'LEGO City Undercover',\n",
       " 'LEGO Dimensions',\n",
       " 'LEGO Jurassic World',\n",
       " 'LEGO Marvel Super Heroes 2',\n",
       " \"LEGO Marvel's Avengers\",\n",
       " 'LEGO The Hobbit',\n",
       " 'LEGO Worlds',\n",
       " 'Le Tour de France 2017',\n",
       " 'Lego Batman 3: Beyond Gotham',\n",
       " 'Lego Marvel Super Heroes',\n",
       " 'Lego Star Wars: The Force Awakens',\n",
       " 'Life is Strange',\n",
       " 'Little Nightmares',\n",
       " \"Lock's Quest\",\n",
       " 'Lords of the Fallen',\n",
       " 'METRO 2033',\n",
       " 'MX vs ATV Supercross Encore 2017 Track Edition',\n",
       " 'MX vs. ATV Supercross Encore',\n",
       " 'MXGP 2',\n",
       " 'MXGP 3: The Official Motocross Videogame',\n",
       " 'Mad Max (2013)',\n",
       " 'Madden NFL 15',\n",
       " 'Madden NFL 16',\n",
       " 'Madden NFL 17',\n",
       " 'Madden NFL 18',\n",
       " 'Madden NFL 25',\n",
       " 'Mafia III',\n",
       " 'Mark McMorris Infinite Air',\n",
       " 'Marvel Pinball: Epic Collection Volume 1',\n",
       " 'Marvel vs. Capcom: Infinite',\n",
       " \"Marvel's Guardians of the Galaxy: The Telltale Series\",\n",
       " 'Mass Effect: Andromeda',\n",
       " 'Mega Man Legacy Collection 2',\n",
       " 'Metal Gear Solid V: The Definitive Experience',\n",
       " 'Metal Gear Solid V: The Phantom Pain',\n",
       " 'Metal Gear Solid: Ground Zeroes',\n",
       " 'Metal Gear Survive',\n",
       " 'Micro Machines: World Series',\n",
       " 'Middle-Earth: Shadow of Mordor',\n",
       " 'Middle-Earth: Shadow of War',\n",
       " 'Mighty No. 9',\n",
       " 'MineCraft',\n",
       " 'Minecraft: Story Mode',\n",
       " 'Minecraft: Story Mode - Season Two',\n",
       " \"Mirror's Edge 2\",\n",
       " 'Monster Energy Supercross - The Official Videogame',\n",
       " 'Monster Hunter: World',\n",
       " 'Monster Jam: Crush It',\n",
       " 'Mortal Kombat X',\n",
       " 'Moto Racer 4',\n",
       " 'MotoGP 15',\n",
       " 'MotoGP 17',\n",
       " 'Murdered: Soul Suspect',\n",
       " 'NASCAR Heat 2',\n",
       " 'NASCAR Heat Evolution',\n",
       " 'NBA 2K14',\n",
       " 'NBA 2K15',\n",
       " 'NBA 2K16',\n",
       " 'NBA 2K17',\n",
       " 'NBA 2K18',\n",
       " 'NBA Live 14',\n",
       " 'NBA Live 15',\n",
       " 'NBA Live 16',\n",
       " 'NBA Live 18',\n",
       " 'NHL 15',\n",
       " 'NHL 16',\n",
       " 'NHL 17',\n",
       " 'NHL 18',\n",
       " 'Naruto Shippuden Ultimate Ninja Storm 4: Road to Boruto',\n",
       " 'Naruto Shippuden: Ultimate Ninja Storm 4',\n",
       " 'Naruto Shippuden: Ultimate Ninja Storm Legacy',\n",
       " 'Naruto to Boruto: Shinobi Striker',\n",
       " 'Need for Speed (2015)',\n",
       " 'Need for Speed Rivals',\n",
       " 'Need for Speed: Payback',\n",
       " 'Okami',\n",
       " 'One Piece: Burning Blood',\n",
       " 'Outlast Trinity',\n",
       " 'Overcooked',\n",
       " 'Overwatch',\n",
       " 'Pac-Man Championship Edition 2 + Arcade Game Series',\n",
       " 'Payday 2',\n",
       " 'Pharaonic',\n",
       " 'Pillars of Eternity',\n",
       " 'Plants vs Zombies: Garden Warfare',\n",
       " 'Plants vs. Zombies: Garden Warfare 2',\n",
       " 'Portal Knights',\n",
       " 'Prey (2017)',\n",
       " 'Prison Architect',\n",
       " 'Pro Evolution Soccer 2015',\n",
       " 'Pro Evolution Soccer 2016',\n",
       " 'Pro Evolution Soccer 2017',\n",
       " 'Pro Evolution Soccer 2018',\n",
       " 'Project CARS',\n",
       " 'Project CARS 2',\n",
       " 'Prototype: Biohazard Bundle',\n",
       " 'Pure Farming 2018',\n",
       " 'R.B.I. Baseball 2016',\n",
       " 'R.B.I. Baseball 2017',\n",
       " 'Rabbids Invasion: The Interactive TV Show',\n",
       " 'Raid: World War II',\n",
       " 'Rapala Fishing Pro Series',\n",
       " 'Rayman Legends',\n",
       " 'Real Farm',\n",
       " 'Red Dead Redemption 2',\n",
       " 'Redout',\n",
       " 'Resident Evil 4 HD',\n",
       " 'Resident Evil 5 HD',\n",
       " 'Resident Evil 6',\n",
       " 'Resident Evil VII: Biohazard',\n",
       " 'Resident Evil Zero',\n",
       " 'Resident Evil: Revelations',\n",
       " 'Resident Evil: Revelations 2',\n",
       " 'Ride',\n",
       " 'Ride 2',\n",
       " 'Rime',\n",
       " 'Rise of the Tomb Raider',\n",
       " 'Road Rage',\n",
       " 'Rock Band 4',\n",
       " 'Rocket League',\n",
       " 'Rocksmith 2014',\n",
       " 'Rocksmith 2014 Edition Remastered',\n",
       " 'Rogue Trooper: Redux',\n",
       " 'Rory McIlroy PGA Tour',\n",
       " 'Rugby 15',\n",
       " 'Rugby 18',\n",
       " 'Rugby Challenge 3',\n",
       " 'Rugby League Live 3',\n",
       " 'Rugby League Live 4',\n",
       " 'Rugby World Cup 2015',\n",
       " 'Saints Row IV',\n",
       " 'Saints Row: Gat out of Hell',\n",
       " 'Shadow Tactics: Blades of the Shogun',\n",
       " 'Shadow Warrior (2013)',\n",
       " 'Shaq-Fu: A Legend Reborn',\n",
       " 'Sherlock Holmes: Crimes & Punishments',\n",
       " \"Sherlock Holmes: The Devil's Daughter\",\n",
       " 'Sine Mora',\n",
       " 'Skylanders Imaginators',\n",
       " 'Skylanders SWAP Force',\n",
       " 'Skylanders: SuperChargers',\n",
       " 'Skylanders: Trap Team',\n",
       " 'Sleeping Dogs',\n",
       " 'Sniper Elite 3',\n",
       " 'Sniper Elite 4',\n",
       " 'Sniper: Ghost Warrior 3',\n",
       " 'Song of the Deep',\n",
       " 'Sonic Forces',\n",
       " 'Sonic Mania',\n",
       " 'South Park: The Fractured But Whole',\n",
       " 'Spintires: MudRunner',\n",
       " 'Star Wars Battlefront II (2017)',\n",
       " 'Stardew Valley',\n",
       " 'Steep',\n",
       " 'Styx: Shards of Darknes',\n",
       " 'Sword Art Online: Fatal Bullet',\n",
       " 'Syberia III',\n",
       " 'SŽbastien Loeb Rally Evo',\n",
       " 'Teenage Mutant Ninja Turtles: Mutants in Manhattan',\n",
       " 'Tekken 7',\n",
       " 'Terraria',\n",
       " 'The Amazing Spider-Man 2 (2014)',\n",
       " 'The Crew',\n",
       " 'The Crew 2',\n",
       " 'The Crew: Wild Run',\n",
       " 'The Dwarves',\n",
       " 'The Elder Scrolls Online',\n",
       " 'The Elder Scrolls Online: Morrowind',\n",
       " 'The Elder Scrolls V: Skyrim',\n",
       " 'The Escapists 2',\n",
       " 'The Evil Within',\n",
       " 'The Evil Within II',\n",
       " 'The Golf Club',\n",
       " 'The Inner World: The Last Wind Monk',\n",
       " 'The LEGO Movie Videogame',\n",
       " 'The Lego Ninjago Movie Videogame',\n",
       " 'The Pillars of the Earth',\n",
       " 'The Sims 4',\n",
       " 'The Surge',\n",
       " 'The Technomancer',\n",
       " 'The Town of Light',\n",
       " 'The Walking Dead - The Telltale Series: A New Frontier',\n",
       " 'The Walking Dead: A Telltale Series Collection',\n",
       " 'The Walking Dead: Season Two',\n",
       " 'The Witcher 3: Wild Hunt',\n",
       " 'The Wolf Among Us',\n",
       " 'Thief 4',\n",
       " 'This Is The Police',\n",
       " 'Titanfall 2',\n",
       " \"Tom Clancy's Ghost Recon Wildlands\",\n",
       " \"Tom Clancy's Rainbow Six: Siege\",\n",
       " \"Tom Clancy's The Division\",\n",
       " 'Tomb Raider (2013)',\n",
       " \"Tony Hawk's Pro Skater 5\",\n",
       " 'Torment: Tides of Numenera',\n",
       " 'Toy Soldiers: War Chest',\n",
       " 'TrackMania Turbo',\n",
       " 'Transformer: Rise of the Dark Spark',\n",
       " 'Transformers: Devastation',\n",
       " 'Trials Fusion',\n",
       " 'Troll and I',\n",
       " 'Tropico 5',\n",
       " 'Ultimate Marvel vs. Capcom 3',\n",
       " 'Valentino Rossi: The Game',\n",
       " 'Valkyria: Azure Revolution',\n",
       " 'Vampyr',\n",
       " 'Vikings: Wolves of Midgard',\n",
       " 'WRC 5: FIA World Rally Championship',\n",
       " 'WRC 6',\n",
       " 'WRC 7',\n",
       " 'WWE 2K15',\n",
       " 'WWE 2K16',\n",
       " 'WWE 2K17',\n",
       " 'WWE 2K18',\n",
       " 'Warhammer: The End Times - Vermintide',\n",
       " 'Warriors Orochi 3',\n",
       " 'Wasteland 2',\n",
       " 'Watch Dogs',\n",
       " 'Watch Dogs 2',\n",
       " 'We Happy Few',\n",
       " 'Wolfenstein II: The New Colossus',\n",
       " 'Wolfenstein The Two Pack',\n",
       " 'Wolfenstein: The New Order',\n",
       " 'Wolfenstein: The Old Blood',\n",
       " 'Worms: WMD',\n",
       " 'XCOM 2',\n",
       " 'Yooka-Laylee',\n",
       " 'Ziggurat',\n",
       " 'ZombiU',\n",
       " 'Zombie Army Trilogy',\n",
       " 'theHunter: Call of the Wild'}"
      ]
     },
     "execution_count": 66,
     "metadata": {},
     "output_type": "execute_result"
    }
   ],
   "source": [
    "games"
   ]
  },
  {
   "cell_type": "code",
   "execution_count": null,
   "metadata": {},
   "outputs": [],
   "source": []
  },
  {
   "cell_type": "code",
   "execution_count": null,
   "metadata": {},
   "outputs": [],
   "source": []
  },
  {
   "cell_type": "code",
   "execution_count": null,
   "metadata": {},
   "outputs": [],
   "source": []
  },
  {
   "cell_type": "code",
   "execution_count": null,
   "metadata": {},
   "outputs": [],
   "source": []
  },
  {
   "cell_type": "markdown",
   "metadata": {},
   "source": [
    "# Stuff I was doing before i realized there's a simpler way"
   ]
  },
  {
   "cell_type": "markdown",
   "metadata": {},
   "source": [
    "##### Search the year and publisher parse what i need and save to a list then replace nans with these values"
   ]
  },
  {
   "cell_type": "code",
   "execution_count": null,
   "metadata": {},
   "outputs": [],
   "source": [
    "#missing_year_publisher = ps_df[ps_df['Year'].isnull()]['Game'].to_list()"
   ]
  },
  {
   "cell_type": "code",
   "execution_count": null,
   "metadata": {},
   "outputs": [],
   "source": [
    "#missing_year_publisher[0]"
   ]
  },
  {
   "cell_type": "markdown",
   "metadata": {},
   "source": [
    "### My Scraper"
   ]
  },
  {
   "cell_type": "code",
   "execution_count": null,
   "metadata": {},
   "outputs": [],
   "source": [
    "#import sys\n",
    "#import requests\n",
    "#import bs4"
   ]
  },
  {
   "cell_type": "code",
   "execution_count": null,
   "metadata": {},
   "outputs": [],
   "source": [
    "#res = requests.get('https://en.wikipedia.org/wiki/' + missing_year_publisher[0])\n",
    "#res.raise_for_status()"
   ]
  },
  {
   "cell_type": "code",
   "execution_count": null,
   "metadata": {},
   "outputs": [],
   "source": [
    "#x = soup.select('p')[:5]\n",
    "#wiki_article = []\n",
    "#for i in x:\n",
    "#    wiki_article.append(i.getText())"
   ]
  },
  {
   "cell_type": "code",
   "execution_count": null,
   "metadata": {},
   "outputs": [],
   "source": [
    "#print(wiki_article)"
   ]
  },
  {
   "cell_type": "code",
   "execution_count": null,
   "metadata": {},
   "outputs": [],
   "source": [
    "#wiki_article[4].index('released')"
   ]
  },
  {
   "cell_type": "code",
   "execution_count": null,
   "metadata": {},
   "outputs": [],
   "source": [
    "#wiki_article[4].index('.')"
   ]
  },
  {
   "cell_type": "code",
   "execution_count": null,
   "metadata": {},
   "outputs": [],
   "source": [
    "#wiki_article[4][40:136]"
   ]
  },
  {
   "cell_type": "code",
   "execution_count": null,
   "metadata": {},
   "outputs": [],
   "source": [
    "#release_date_possible = wiki_article[4][40:136].split()"
   ]
  },
  {
   "cell_type": "code",
   "execution_count": null,
   "metadata": {},
   "outputs": [],
   "source": [
    "#dates = []\n",
    "\n",
    "#for i in release_date_possible:\n",
    "#    i = i.strip().strip(',')\n",
    "#    if i.isdigit() and int(i) > 1920:\n",
    "#        dates.append(int(i))"
   ]
  },
  {
   "cell_type": "markdown",
   "metadata": {},
   "source": [
    "Steps: Scrape the wikipedia. dave the first 5 p tags. Save there text repr. Index them for keywords, When found index for a period. Save from keyword to period in list. Extract the release date"
   ]
  },
  {
   "cell_type": "code",
   "execution_count": null,
   "metadata": {},
   "outputs": [],
   "source": [
    "#delete = []\n",
    "#for i in range(len(missing_year_publisher)):\n",
    "#    try:\n",
    "#        res = requests.get('https://en.wikipedia.org/wiki/' + missing_year_publisher[i])\n",
    "#        res.raise_for_status()\n",
    "#    except:\n",
    "#        delete.append(missing_year_publisher[i])\n",
    "#        continue"
   ]
  }
 ],
 "metadata": {
  "kernelspec": {
   "display_name": "Python 3",
   "language": "python",
   "name": "python3"
  },
  "language_info": {
   "codemirror_mode": {
    "name": "ipython",
    "version": 3
   },
   "file_extension": ".py",
   "mimetype": "text/x-python",
   "name": "python",
   "nbconvert_exporter": "python",
   "pygments_lexer": "ipython3",
   "version": "3.7.6"
  }
 },
 "nbformat": 4,
 "nbformat_minor": 4
}
