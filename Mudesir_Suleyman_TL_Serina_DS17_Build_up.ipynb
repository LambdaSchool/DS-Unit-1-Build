{
  "nbformat": 4,
  "nbformat_minor": 0,
  "metadata": {
    "colab": {
      "name": "Mudesir_Suleyman_TL_Serina_DS17_Build_up",
      "provenance": [],
      "collapsed_sections": [],
      "include_colab_link": true
    },
    "kernelspec": {
      "display_name": "Python 3",
      "name": "python3"
    }
  },
  "cells": [
    {
      "cell_type": "markdown",
      "metadata": {
        "id": "view-in-github",
        "colab_type": "text"
      },
      "source": [
        "<a href=\"https://colab.research.google.com/github/mudesir/DS-Unit-1-Build/blob/master/Mudesir_Suleyman_TL_Serina_DS17_Build_up.ipynb\" target=\"_parent\"><img src=\"https://colab.research.google.com/assets/colab-badge.svg\" alt=\"Open In Colab\"/></a>"
      ]
    },
    {
      "cell_type": "markdown",
      "metadata": {
        "colab_type": "text",
        "id": "7Z2jcRKwUHqV"
      },
      "source": [
        "This notebook provides recipes for loading and saving data from external sources."
      ]
    },
    {
      "cell_type": "markdown",
      "metadata": {
        "colab_type": "text",
        "id": "BaCkyg5CV5jF"
      },
      "source": [
        "#DS Unit 1 Build\n",
        "# South African Heart Disease Study"
      ]
    },
    {
      "cell_type": "markdown",
      "metadata": {
        "id": "Xrr-3LdgP3WN",
        "colab_type": "text"
      },
      "source": [
        ""
      ]
    },
    {
      "cell_type": "markdown",
      "metadata": {
        "id": "JwbVdDT5P7Nm",
        "colab_type": "text"
      },
      "source": [
        ""
      ]
    },
    {
      "cell_type": "markdown",
      "metadata": {
        "id": "-V7TaoksgzZg",
        "colab_type": "text"
      },
      "source": [
        ""
      ]
    },
    {
      "cell_type": "markdown",
      "metadata": {
        "id": "2YaejJoE3uLg",
        "colab_type": "text"
      },
      "source": [
        "Data from https://web.stanford.edu/~hastie/ElemStatLearn/datasets/SAheart.data\n",
        "\n",
        "Description of the columns header:\n",
        "\n",
        "1. sbp: systolic blood pressure\n",
        "2. tobacco: cumulative tobacco (kg)\n",
        "3. ldl: low densiity lipoprotein cholesterol\n",
        "4. adiposity\n",
        "5. famhist: family history of heart disease (Present,  Absent)\n",
        "6. typea: type-A behavior\n",
        "7. obesity\n",
        "8. alcohol: current alcohol consumption\n",
        "9. age: age at onset\n",
        "10. chd: coronary heart disease"
      ]
    },
    {
      "cell_type": "markdown",
      "metadata": {
        "id": "eeih3fUV4bOM",
        "colab_type": "text"
      },
      "source": [
        "### Exploratory Data Analysis"
      ]
    },
    {
      "cell_type": "code",
      "metadata": {
        "id": "MkKaFYyo1vnP",
        "colab_type": "code",
        "colab": {
          "base_uri": "https://localhost:8080/",
          "height": 202
        },
        "outputId": "8b148a31-1941-44fa-ab89-1e64ce7abfc7"
      },
      "source": [
        "import pandas as pd\n",
        "df = pd.read_csv('https://web.stanford.edu/~hastie/ElemStatLearn/datasets/SAheart.data')\n",
        "df.head()"
      ],
      "execution_count": 1,
      "outputs": [
        {
          "output_type": "execute_result",
          "data": {
            "text/html": [
              "<div>\n",
              "<style scoped>\n",
              "    .dataframe tbody tr th:only-of-type {\n",
              "        vertical-align: middle;\n",
              "    }\n",
              "\n",
              "    .dataframe tbody tr th {\n",
              "        vertical-align: top;\n",
              "    }\n",
              "\n",
              "    .dataframe thead th {\n",
              "        text-align: right;\n",
              "    }\n",
              "</style>\n",
              "<table border=\"1\" class=\"dataframe\">\n",
              "  <thead>\n",
              "    <tr style=\"text-align: right;\">\n",
              "      <th></th>\n",
              "      <th>row.names</th>\n",
              "      <th>sbp</th>\n",
              "      <th>tobacco</th>\n",
              "      <th>ldl</th>\n",
              "      <th>adiposity</th>\n",
              "      <th>famhist</th>\n",
              "      <th>typea</th>\n",
              "      <th>obesity</th>\n",
              "      <th>alcohol</th>\n",
              "      <th>age</th>\n",
              "      <th>chd</th>\n",
              "    </tr>\n",
              "  </thead>\n",
              "  <tbody>\n",
              "    <tr>\n",
              "      <th>0</th>\n",
              "      <td>1</td>\n",
              "      <td>160</td>\n",
              "      <td>12.00</td>\n",
              "      <td>5.73</td>\n",
              "      <td>23.11</td>\n",
              "      <td>Present</td>\n",
              "      <td>49</td>\n",
              "      <td>25.30</td>\n",
              "      <td>97.20</td>\n",
              "      <td>52</td>\n",
              "      <td>1</td>\n",
              "    </tr>\n",
              "    <tr>\n",
              "      <th>1</th>\n",
              "      <td>2</td>\n",
              "      <td>144</td>\n",
              "      <td>0.01</td>\n",
              "      <td>4.41</td>\n",
              "      <td>28.61</td>\n",
              "      <td>Absent</td>\n",
              "      <td>55</td>\n",
              "      <td>28.87</td>\n",
              "      <td>2.06</td>\n",
              "      <td>63</td>\n",
              "      <td>1</td>\n",
              "    </tr>\n",
              "    <tr>\n",
              "      <th>2</th>\n",
              "      <td>3</td>\n",
              "      <td>118</td>\n",
              "      <td>0.08</td>\n",
              "      <td>3.48</td>\n",
              "      <td>32.28</td>\n",
              "      <td>Present</td>\n",
              "      <td>52</td>\n",
              "      <td>29.14</td>\n",
              "      <td>3.81</td>\n",
              "      <td>46</td>\n",
              "      <td>0</td>\n",
              "    </tr>\n",
              "    <tr>\n",
              "      <th>3</th>\n",
              "      <td>4</td>\n",
              "      <td>170</td>\n",
              "      <td>7.50</td>\n",
              "      <td>6.41</td>\n",
              "      <td>38.03</td>\n",
              "      <td>Present</td>\n",
              "      <td>51</td>\n",
              "      <td>31.99</td>\n",
              "      <td>24.26</td>\n",
              "      <td>58</td>\n",
              "      <td>1</td>\n",
              "    </tr>\n",
              "    <tr>\n",
              "      <th>4</th>\n",
              "      <td>5</td>\n",
              "      <td>134</td>\n",
              "      <td>13.60</td>\n",
              "      <td>3.50</td>\n",
              "      <td>27.78</td>\n",
              "      <td>Present</td>\n",
              "      <td>60</td>\n",
              "      <td>25.99</td>\n",
              "      <td>57.34</td>\n",
              "      <td>49</td>\n",
              "      <td>1</td>\n",
              "    </tr>\n",
              "  </tbody>\n",
              "</table>\n",
              "</div>"
            ],
            "text/plain": [
              "   row.names  sbp  tobacco   ldl  adiposity  ... typea  obesity  alcohol  age  chd\n",
              "0          1  160    12.00  5.73      23.11  ...    49    25.30    97.20   52    1\n",
              "1          2  144     0.01  4.41      28.61  ...    55    28.87     2.06   63    1\n",
              "2          3  118     0.08  3.48      32.28  ...    52    29.14     3.81   46    0\n",
              "3          4  170     7.50  6.41      38.03  ...    51    31.99    24.26   58    1\n",
              "4          5  134    13.60  3.50      27.78  ...    60    25.99    57.34   49    1\n",
              "\n",
              "[5 rows x 11 columns]"
            ]
          },
          "metadata": {
            "tags": []
          },
          "execution_count": 1
        }
      ]
    },
    {
      "cell_type": "code",
      "metadata": {
        "id": "qKMfvWaf6ZFn",
        "colab_type": "code",
        "colab": {
          "base_uri": "https://localhost:8080/",
          "height": 35
        },
        "outputId": "b06867c0-c7d5-4ad5-e27a-4189da091040"
      },
      "source": [
        "df.shape"
      ],
      "execution_count": null,
      "outputs": [
        {
          "output_type": "execute_result",
          "data": {
            "text/plain": [
              "(462, 11)"
            ]
          },
          "metadata": {
            "tags": []
          },
          "execution_count": 2
        }
      ]
    },
    {
      "cell_type": "code",
      "metadata": {
        "id": "b4YsV3CGBkxl",
        "colab_type": "code",
        "colab": {
          "base_uri": "https://localhost:8080/",
          "height": 225
        },
        "outputId": "6739d99f-ea2b-4c9f-feab-534b6a266e38"
      },
      "source": [
        "df.isnull().sum()"
      ],
      "execution_count": null,
      "outputs": [
        {
          "output_type": "execute_result",
          "data": {
            "text/plain": [
              "row.names    0\n",
              "sbp          0\n",
              "tobacco      0\n",
              "ldl          0\n",
              "adiposity    0\n",
              "famhist      0\n",
              "typea        0\n",
              "obesity      0\n",
              "alcohol      0\n",
              "age          0\n",
              "chd          0\n",
              "dtype: int64"
            ]
          },
          "metadata": {
            "tags": []
          },
          "execution_count": 2
        }
      ]
    },
    {
      "cell_type": "code",
      "metadata": {
        "id": "rZA2vLrd5Ebs",
        "colab_type": "code",
        "colab": {
          "base_uri": "https://localhost:8080/",
          "height": 202
        },
        "outputId": "acf50556-46a0-4204-e0e2-ba92c5219bcf"
      },
      "source": [
        "# the column row.names is not iportant I will drop it\n",
        "df = df.drop('row.names', axis=1)\n",
        "df.head()"
      ],
      "execution_count": 2,
      "outputs": [
        {
          "output_type": "execute_result",
          "data": {
            "text/html": [
              "<div>\n",
              "<style scoped>\n",
              "    .dataframe tbody tr th:only-of-type {\n",
              "        vertical-align: middle;\n",
              "    }\n",
              "\n",
              "    .dataframe tbody tr th {\n",
              "        vertical-align: top;\n",
              "    }\n",
              "\n",
              "    .dataframe thead th {\n",
              "        text-align: right;\n",
              "    }\n",
              "</style>\n",
              "<table border=\"1\" class=\"dataframe\">\n",
              "  <thead>\n",
              "    <tr style=\"text-align: right;\">\n",
              "      <th></th>\n",
              "      <th>sbp</th>\n",
              "      <th>tobacco</th>\n",
              "      <th>ldl</th>\n",
              "      <th>adiposity</th>\n",
              "      <th>famhist</th>\n",
              "      <th>typea</th>\n",
              "      <th>obesity</th>\n",
              "      <th>alcohol</th>\n",
              "      <th>age</th>\n",
              "      <th>chd</th>\n",
              "    </tr>\n",
              "  </thead>\n",
              "  <tbody>\n",
              "    <tr>\n",
              "      <th>0</th>\n",
              "      <td>160</td>\n",
              "      <td>12.00</td>\n",
              "      <td>5.73</td>\n",
              "      <td>23.11</td>\n",
              "      <td>Present</td>\n",
              "      <td>49</td>\n",
              "      <td>25.30</td>\n",
              "      <td>97.20</td>\n",
              "      <td>52</td>\n",
              "      <td>1</td>\n",
              "    </tr>\n",
              "    <tr>\n",
              "      <th>1</th>\n",
              "      <td>144</td>\n",
              "      <td>0.01</td>\n",
              "      <td>4.41</td>\n",
              "      <td>28.61</td>\n",
              "      <td>Absent</td>\n",
              "      <td>55</td>\n",
              "      <td>28.87</td>\n",
              "      <td>2.06</td>\n",
              "      <td>63</td>\n",
              "      <td>1</td>\n",
              "    </tr>\n",
              "    <tr>\n",
              "      <th>2</th>\n",
              "      <td>118</td>\n",
              "      <td>0.08</td>\n",
              "      <td>3.48</td>\n",
              "      <td>32.28</td>\n",
              "      <td>Present</td>\n",
              "      <td>52</td>\n",
              "      <td>29.14</td>\n",
              "      <td>3.81</td>\n",
              "      <td>46</td>\n",
              "      <td>0</td>\n",
              "    </tr>\n",
              "    <tr>\n",
              "      <th>3</th>\n",
              "      <td>170</td>\n",
              "      <td>7.50</td>\n",
              "      <td>6.41</td>\n",
              "      <td>38.03</td>\n",
              "      <td>Present</td>\n",
              "      <td>51</td>\n",
              "      <td>31.99</td>\n",
              "      <td>24.26</td>\n",
              "      <td>58</td>\n",
              "      <td>1</td>\n",
              "    </tr>\n",
              "    <tr>\n",
              "      <th>4</th>\n",
              "      <td>134</td>\n",
              "      <td>13.60</td>\n",
              "      <td>3.50</td>\n",
              "      <td>27.78</td>\n",
              "      <td>Present</td>\n",
              "      <td>60</td>\n",
              "      <td>25.99</td>\n",
              "      <td>57.34</td>\n",
              "      <td>49</td>\n",
              "      <td>1</td>\n",
              "    </tr>\n",
              "  </tbody>\n",
              "</table>\n",
              "</div>"
            ],
            "text/plain": [
              "   sbp  tobacco   ldl  adiposity  famhist  typea  obesity  alcohol  age  chd\n",
              "0  160    12.00  5.73      23.11  Present     49    25.30    97.20   52    1\n",
              "1  144     0.01  4.41      28.61   Absent     55    28.87     2.06   63    1\n",
              "2  118     0.08  3.48      32.28  Present     52    29.14     3.81   46    0\n",
              "3  170     7.50  6.41      38.03  Present     51    31.99    24.26   58    1\n",
              "4  134    13.60  3.50      27.78  Present     60    25.99    57.34   49    1"
            ]
          },
          "metadata": {
            "tags": []
          },
          "execution_count": 2
        }
      ]
    },
    {
      "cell_type": "code",
      "metadata": {
        "id": "ftpiK7VH5fMM",
        "colab_type": "code",
        "colab": {
          "base_uri": "https://localhost:8080/",
          "height": 208
        },
        "outputId": "abf571a0-464f-441c-a027-eea3a5abd7b0"
      },
      "source": [
        "# check data type\n",
        "df.dtypes"
      ],
      "execution_count": 3,
      "outputs": [
        {
          "output_type": "execute_result",
          "data": {
            "text/plain": [
              "sbp            int64\n",
              "tobacco      float64\n",
              "ldl          float64\n",
              "adiposity    float64\n",
              "famhist       object\n",
              "typea          int64\n",
              "obesity      float64\n",
              "alcohol      float64\n",
              "age            int64\n",
              "chd            int64\n",
              "dtype: object"
            ]
          },
          "metadata": {
            "tags": []
          },
          "execution_count": 3
        }
      ]
    },
    {
      "cell_type": "code",
      "metadata": {
        "id": "MCgXm4ZD_US_",
        "colab_type": "code",
        "colab": {
          "base_uri": "https://localhost:8080/",
          "height": 202
        },
        "outputId": "aa252873-adaf-467e-e6c0-26e5f87968b2"
      },
      "source": [
        "# the famhist data type object we have to change into number, replace \"Present\" to 1 \n",
        "# and  \"Absent\" to 0\n",
        "df = df.replace({'Present': 1, 'Absent':0})\n",
        "df.head()"
      ],
      "execution_count": 4,
      "outputs": [
        {
          "output_type": "execute_result",
          "data": {
            "text/html": [
              "<div>\n",
              "<style scoped>\n",
              "    .dataframe tbody tr th:only-of-type {\n",
              "        vertical-align: middle;\n",
              "    }\n",
              "\n",
              "    .dataframe tbody tr th {\n",
              "        vertical-align: top;\n",
              "    }\n",
              "\n",
              "    .dataframe thead th {\n",
              "        text-align: right;\n",
              "    }\n",
              "</style>\n",
              "<table border=\"1\" class=\"dataframe\">\n",
              "  <thead>\n",
              "    <tr style=\"text-align: right;\">\n",
              "      <th></th>\n",
              "      <th>sbp</th>\n",
              "      <th>tobacco</th>\n",
              "      <th>ldl</th>\n",
              "      <th>adiposity</th>\n",
              "      <th>famhist</th>\n",
              "      <th>typea</th>\n",
              "      <th>obesity</th>\n",
              "      <th>alcohol</th>\n",
              "      <th>age</th>\n",
              "      <th>chd</th>\n",
              "    </tr>\n",
              "  </thead>\n",
              "  <tbody>\n",
              "    <tr>\n",
              "      <th>0</th>\n",
              "      <td>160</td>\n",
              "      <td>12.00</td>\n",
              "      <td>5.73</td>\n",
              "      <td>23.11</td>\n",
              "      <td>1</td>\n",
              "      <td>49</td>\n",
              "      <td>25.30</td>\n",
              "      <td>97.20</td>\n",
              "      <td>52</td>\n",
              "      <td>1</td>\n",
              "    </tr>\n",
              "    <tr>\n",
              "      <th>1</th>\n",
              "      <td>144</td>\n",
              "      <td>0.01</td>\n",
              "      <td>4.41</td>\n",
              "      <td>28.61</td>\n",
              "      <td>0</td>\n",
              "      <td>55</td>\n",
              "      <td>28.87</td>\n",
              "      <td>2.06</td>\n",
              "      <td>63</td>\n",
              "      <td>1</td>\n",
              "    </tr>\n",
              "    <tr>\n",
              "      <th>2</th>\n",
              "      <td>118</td>\n",
              "      <td>0.08</td>\n",
              "      <td>3.48</td>\n",
              "      <td>32.28</td>\n",
              "      <td>1</td>\n",
              "      <td>52</td>\n",
              "      <td>29.14</td>\n",
              "      <td>3.81</td>\n",
              "      <td>46</td>\n",
              "      <td>0</td>\n",
              "    </tr>\n",
              "    <tr>\n",
              "      <th>3</th>\n",
              "      <td>170</td>\n",
              "      <td>7.50</td>\n",
              "      <td>6.41</td>\n",
              "      <td>38.03</td>\n",
              "      <td>1</td>\n",
              "      <td>51</td>\n",
              "      <td>31.99</td>\n",
              "      <td>24.26</td>\n",
              "      <td>58</td>\n",
              "      <td>1</td>\n",
              "    </tr>\n",
              "    <tr>\n",
              "      <th>4</th>\n",
              "      <td>134</td>\n",
              "      <td>13.60</td>\n",
              "      <td>3.50</td>\n",
              "      <td>27.78</td>\n",
              "      <td>1</td>\n",
              "      <td>60</td>\n",
              "      <td>25.99</td>\n",
              "      <td>57.34</td>\n",
              "      <td>49</td>\n",
              "      <td>1</td>\n",
              "    </tr>\n",
              "  </tbody>\n",
              "</table>\n",
              "</div>"
            ],
            "text/plain": [
              "   sbp  tobacco   ldl  adiposity  famhist  typea  obesity  alcohol  age  chd\n",
              "0  160    12.00  5.73      23.11        1     49    25.30    97.20   52    1\n",
              "1  144     0.01  4.41      28.61        0     55    28.87     2.06   63    1\n",
              "2  118     0.08  3.48      32.28        1     52    29.14     3.81   46    0\n",
              "3  170     7.50  6.41      38.03        1     51    31.99    24.26   58    1\n",
              "4  134    13.60  3.50      27.78        1     60    25.99    57.34   49    1"
            ]
          },
          "metadata": {
            "tags": []
          },
          "execution_count": 4
        }
      ]
    },
    {
      "cell_type": "code",
      "metadata": {
        "id": "LR4j5LDeCkYI",
        "colab_type": "code",
        "colab": {
          "base_uri": "https://localhost:8080/",
          "height": 208
        },
        "outputId": "bbbd5404-2ee1-4ed2-8f80-e93c4226e43f"
      },
      "source": [
        "df.dtypes"
      ],
      "execution_count": null,
      "outputs": [
        {
          "output_type": "execute_result",
          "data": {
            "text/plain": [
              "sbp            int64\n",
              "tobacco      float64\n",
              "ldl          float64\n",
              "adiposity    float64\n",
              "famhist        int64\n",
              "typea          int64\n",
              "obesity      float64\n",
              "alcohol      float64\n",
              "age            int64\n",
              "chd            int64\n",
              "dtype: object"
            ]
          },
          "metadata": {
            "tags": []
          },
          "execution_count": 5
        }
      ]
    },
    {
      "cell_type": "code",
      "metadata": {
        "id": "jSshJYNWOiK3",
        "colab_type": "code",
        "colab": {
          "base_uri": "https://localhost:8080/",
          "height": 225
        },
        "outputId": "bf7040f0-b0b0-4b34-c709-c865997ed35c"
      },
      "source": [
        "df['age']"
      ],
      "execution_count": null,
      "outputs": [
        {
          "output_type": "execute_result",
          "data": {
            "text/plain": [
              "0      52\n",
              "1      63\n",
              "2      46\n",
              "3      58\n",
              "4      49\n",
              "       ..\n",
              "457    58\n",
              "458    52\n",
              "459    55\n",
              "460    40\n",
              "461    46\n",
              "Name: age, Length: 462, dtype: int64"
            ]
          },
          "metadata": {
            "tags": []
          },
          "execution_count": 7
        }
      ]
    },
    {
      "cell_type": "code",
      "metadata": {
        "id": "kNz8RTbQc9f2",
        "colab_type": "code",
        "colab": {
          "base_uri": "https://localhost:8080/",
          "height": 294
        },
        "outputId": "a61af98b-6b41-48e7-d6dc-3acb3b6f918f"
      },
      "source": [
        "df.describe()"
      ],
      "execution_count": 5,
      "outputs": [
        {
          "output_type": "execute_result",
          "data": {
            "text/html": [
              "<div>\n",
              "<style scoped>\n",
              "    .dataframe tbody tr th:only-of-type {\n",
              "        vertical-align: middle;\n",
              "    }\n",
              "\n",
              "    .dataframe tbody tr th {\n",
              "        vertical-align: top;\n",
              "    }\n",
              "\n",
              "    .dataframe thead th {\n",
              "        text-align: right;\n",
              "    }\n",
              "</style>\n",
              "<table border=\"1\" class=\"dataframe\">\n",
              "  <thead>\n",
              "    <tr style=\"text-align: right;\">\n",
              "      <th></th>\n",
              "      <th>sbp</th>\n",
              "      <th>tobacco</th>\n",
              "      <th>ldl</th>\n",
              "      <th>adiposity</th>\n",
              "      <th>famhist</th>\n",
              "      <th>typea</th>\n",
              "      <th>obesity</th>\n",
              "      <th>alcohol</th>\n",
              "      <th>age</th>\n",
              "      <th>chd</th>\n",
              "    </tr>\n",
              "  </thead>\n",
              "  <tbody>\n",
              "    <tr>\n",
              "      <th>count</th>\n",
              "      <td>462.000000</td>\n",
              "      <td>462.000000</td>\n",
              "      <td>462.000000</td>\n",
              "      <td>462.000000</td>\n",
              "      <td>462.000000</td>\n",
              "      <td>462.000000</td>\n",
              "      <td>462.000000</td>\n",
              "      <td>462.000000</td>\n",
              "      <td>462.000000</td>\n",
              "      <td>462.000000</td>\n",
              "    </tr>\n",
              "    <tr>\n",
              "      <th>mean</th>\n",
              "      <td>138.326840</td>\n",
              "      <td>3.635649</td>\n",
              "      <td>4.740325</td>\n",
              "      <td>25.406732</td>\n",
              "      <td>0.415584</td>\n",
              "      <td>53.103896</td>\n",
              "      <td>26.044113</td>\n",
              "      <td>17.044394</td>\n",
              "      <td>42.816017</td>\n",
              "      <td>0.346320</td>\n",
              "    </tr>\n",
              "    <tr>\n",
              "      <th>std</th>\n",
              "      <td>20.496317</td>\n",
              "      <td>4.593024</td>\n",
              "      <td>2.070909</td>\n",
              "      <td>7.780699</td>\n",
              "      <td>0.493357</td>\n",
              "      <td>9.817534</td>\n",
              "      <td>4.213680</td>\n",
              "      <td>24.481059</td>\n",
              "      <td>14.608956</td>\n",
              "      <td>0.476313</td>\n",
              "    </tr>\n",
              "    <tr>\n",
              "      <th>min</th>\n",
              "      <td>101.000000</td>\n",
              "      <td>0.000000</td>\n",
              "      <td>0.980000</td>\n",
              "      <td>6.740000</td>\n",
              "      <td>0.000000</td>\n",
              "      <td>13.000000</td>\n",
              "      <td>14.700000</td>\n",
              "      <td>0.000000</td>\n",
              "      <td>15.000000</td>\n",
              "      <td>0.000000</td>\n",
              "    </tr>\n",
              "    <tr>\n",
              "      <th>25%</th>\n",
              "      <td>124.000000</td>\n",
              "      <td>0.052500</td>\n",
              "      <td>3.282500</td>\n",
              "      <td>19.775000</td>\n",
              "      <td>0.000000</td>\n",
              "      <td>47.000000</td>\n",
              "      <td>22.985000</td>\n",
              "      <td>0.510000</td>\n",
              "      <td>31.000000</td>\n",
              "      <td>0.000000</td>\n",
              "    </tr>\n",
              "    <tr>\n",
              "      <th>50%</th>\n",
              "      <td>134.000000</td>\n",
              "      <td>2.000000</td>\n",
              "      <td>4.340000</td>\n",
              "      <td>26.115000</td>\n",
              "      <td>0.000000</td>\n",
              "      <td>53.000000</td>\n",
              "      <td>25.805000</td>\n",
              "      <td>7.510000</td>\n",
              "      <td>45.000000</td>\n",
              "      <td>0.000000</td>\n",
              "    </tr>\n",
              "    <tr>\n",
              "      <th>75%</th>\n",
              "      <td>148.000000</td>\n",
              "      <td>5.500000</td>\n",
              "      <td>5.790000</td>\n",
              "      <td>31.227500</td>\n",
              "      <td>1.000000</td>\n",
              "      <td>60.000000</td>\n",
              "      <td>28.497500</td>\n",
              "      <td>23.892500</td>\n",
              "      <td>55.000000</td>\n",
              "      <td>1.000000</td>\n",
              "    </tr>\n",
              "    <tr>\n",
              "      <th>max</th>\n",
              "      <td>218.000000</td>\n",
              "      <td>31.200000</td>\n",
              "      <td>15.330000</td>\n",
              "      <td>42.490000</td>\n",
              "      <td>1.000000</td>\n",
              "      <td>78.000000</td>\n",
              "      <td>46.580000</td>\n",
              "      <td>147.190000</td>\n",
              "      <td>64.000000</td>\n",
              "      <td>1.000000</td>\n",
              "    </tr>\n",
              "  </tbody>\n",
              "</table>\n",
              "</div>"
            ],
            "text/plain": [
              "              sbp     tobacco         ldl  ...     alcohol         age         chd\n",
              "count  462.000000  462.000000  462.000000  ...  462.000000  462.000000  462.000000\n",
              "mean   138.326840    3.635649    4.740325  ...   17.044394   42.816017    0.346320\n",
              "std     20.496317    4.593024    2.070909  ...   24.481059   14.608956    0.476313\n",
              "min    101.000000    0.000000    0.980000  ...    0.000000   15.000000    0.000000\n",
              "25%    124.000000    0.052500    3.282500  ...    0.510000   31.000000    0.000000\n",
              "50%    134.000000    2.000000    4.340000  ...    7.510000   45.000000    0.000000\n",
              "75%    148.000000    5.500000    5.790000  ...   23.892500   55.000000    1.000000\n",
              "max    218.000000   31.200000   15.330000  ...  147.190000   64.000000    1.000000\n",
              "\n",
              "[8 rows x 10 columns]"
            ]
          },
          "metadata": {
            "tags": []
          },
          "execution_count": 5
        }
      ]
    },
    {
      "cell_type": "code",
      "metadata": {
        "id": "I7q4QXocH9Yj",
        "colab_type": "code",
        "colab": {}
      },
      "source": [
        "def confidence_interval(data, confidence=0.95):\n",
        "  \"\"\"\n",
        "  Calculate a confidence interval around a sample mean for given data.\n",
        "  Using t-distribution and two-tailed test, default 95% confidence. \n",
        "  Arguments:\n",
        "    data - iterable (list or numpy array) of sample observations\n",
        "    confidence - level of confidence for the interval\n",
        "  Returns:\n",
        "    tuple of (mean, lower bound, upper bound)\n",
        "  \"\"\"\n",
        "  data = np.array(data)\n",
        "  x_bar = np.mean(data)\n",
        "  n = len(data)\n",
        "  s = np.std(data, ddof=1)\n",
        "  std_err = s / np.sqrt(n)\n",
        "  t = stats.t.ppf((1 + confidence) / 2.0, n - 1)\n",
        "  margin_of_error = t*std_err\n",
        "  lower_bound = x_bar - margin_of_error\n",
        "  upper_bound = x_bar + margin_of_error\n",
        "  return (lower_bound, x_bar, upper_bound)"
      ],
      "execution_count": 6,
      "outputs": []
    },
    {
      "cell_type": "code",
      "metadata": {
        "id": "H7FtxLVMLY7k",
        "colab_type": "code",
        "colab": {
          "base_uri": "https://localhost:8080/",
          "height": 35
        },
        "outputId": "fa2024cf-d52c-46ee-d27c-4fe49de02834"
      },
      "source": [
        "#  confidence interval for sbp: systolic blood pressure data\n",
        "import numpy as np\n",
        "from scipy import stats\n",
        "data = df['sbp']\n",
        "confidence_interval(data, confidence=.95)"
      ],
      "execution_count": 7,
      "outputs": [
        {
          "output_type": "execute_result",
          "data": {
            "text/plain": [
              "(136.45294750470532, 138.32683982683983, 140.20073214897434)"
            ]
          },
          "metadata": {
            "tags": []
          },
          "execution_count": 7
        }
      ]
    },
    {
      "cell_type": "code",
      "metadata": {
        "id": "t2qfFLZmRuT0",
        "colab_type": "code",
        "colab": {
          "base_uri": "https://localhost:8080/",
          "height": 87
        },
        "outputId": "5751fbeb-c05f-4aa9-d351-8b9a744b2c90"
      },
      "source": [
        "# lets make the sbp: systolic blood pressure data group for sbp lessthan the \n",
        "#lower bound, between the lower and upper bound and above the upper bound \n",
        "\n",
        "df.loc[df['sbp'] <= 134.5, 'sbpgroup'] = 0 \n",
        "df.loc[(df['sbp'] > 134.5) & (df['sbp']<=138.3), 'sbpgroup'] = 1\n",
        "df.loc[df['sbp'] > 138.3, 'sbpgroup'] = 2  \n",
        "df['sbpgroup'].value_counts()"
      ],
      "execution_count": 8,
      "outputs": [
        {
          "output_type": "execute_result",
          "data": {
            "text/plain": [
              "0.0    242\n",
              "2.0    172\n",
              "1.0     48\n",
              "Name: sbpgroup, dtype: int64"
            ]
          },
          "metadata": {
            "tags": []
          },
          "execution_count": 8
        }
      ]
    },
    {
      "cell_type": "code",
      "metadata": {
        "id": "vowCjkMQNPBO",
        "colab_type": "code",
        "colab": {
          "base_uri": "https://localhost:8080/",
          "height": 35
        },
        "outputId": "4d5262e1-4d30-4535-c802-e47b33e66721"
      },
      "source": [
        "# confidence interval for tobacco data\n",
        "data = df['tobacco']\n",
        "confidence_interval(data, confidence=.95)"
      ],
      "execution_count": 9,
      "outputs": [
        {
          "output_type": "execute_result",
          "data": {
            "text/plain": [
              "(3.2157284213322077, 3.635649350649351, 4.055570279966494)"
            ]
          },
          "metadata": {
            "tags": []
          },
          "execution_count": 9
        }
      ]
    },
    {
      "cell_type": "code",
      "metadata": {
        "id": "Cxg8PPu1S7R0",
        "colab_type": "code",
        "colab": {
          "base_uri": "https://localhost:8080/",
          "height": 87
        },
        "outputId": "b6ee9a25-a5f2-448b-fc68-a4645ac572b4"
      },
      "source": [
        "# lets make the tobacco data group for tobacco lessthan the \n",
        "#lower bound, between the lower and upper bound and above the upper bound \n",
        "\n",
        "df.loc[df['tobacco'] <= 3.2, 'tobaccogroup'] = 0 \n",
        "df.loc[(df['tobacco'] > 3.2) & (df['tobacco']<=4.1), 'tobaccogroup'] = 1\n",
        "df.loc[df['tobacco'] > 4.1, 'tobaccogroup'] = 2  \n",
        "df['tobaccogroup'].value_counts()"
      ],
      "execution_count": 10,
      "outputs": [
        {
          "output_type": "execute_result",
          "data": {
            "text/plain": [
              "0.0    276\n",
              "2.0    158\n",
              "1.0     28\n",
              "Name: tobaccogroup, dtype: int64"
            ]
          },
          "metadata": {
            "tags": []
          },
          "execution_count": 10
        }
      ]
    },
    {
      "cell_type": "code",
      "metadata": {
        "id": "iWWNUCgqL2iK",
        "colab_type": "code",
        "colab": {
          "base_uri": "https://localhost:8080/",
          "height": 35
        },
        "outputId": "44c4d981-d625-47c3-95e9-7923545b0529"
      },
      "source": [
        "# confidence interval for ldl: low densiity lipoprotein cholesterol data\n",
        "data = df['ldl']\n",
        "confidence_interval(data, confidence=.95)"
      ],
      "execution_count": 11,
      "outputs": [
        {
          "output_type": "execute_result",
          "data": {
            "text/plain": [
              "(4.550990135683968, 4.740324675324675, 4.9296592149653815)"
            ]
          },
          "metadata": {
            "tags": []
          },
          "execution_count": 11
        }
      ]
    },
    {
      "cell_type": "code",
      "metadata": {
        "id": "JLlG7AI3T4X7",
        "colab_type": "code",
        "colab": {
          "base_uri": "https://localhost:8080/",
          "height": 87
        },
        "outputId": "a2c65d14-2196-4bcd-fb6e-14a689155e5a"
      },
      "source": [
        "# lets make the ldl: low densiity lipoprotein cholesterol data group for ldl lessthan the \n",
        "#lower bound, between the lower and upper bound and above the upper bound \n",
        "\n",
        "df.loc[df['ldl'] <= 3.2, 'ldlgroup'] = 0 \n",
        "df.loc[(df['ldl'] > 3.2) & (df['ldl']<=4.1), 'ldlgroup'] = 1\n",
        "df.loc[df['ldl'] > 4.1, 'ldlgroup'] = 2  \n",
        "df['ldlgroup'].value_counts()"
      ],
      "execution_count": 12,
      "outputs": [
        {
          "output_type": "execute_result",
          "data": {
            "text/plain": [
              "2.0    259\n",
              "0.0    109\n",
              "1.0     94\n",
              "Name: ldlgroup, dtype: int64"
            ]
          },
          "metadata": {
            "tags": []
          },
          "execution_count": 12
        }
      ]
    },
    {
      "cell_type": "code",
      "metadata": {
        "id": "O2ew8OsbNn3z",
        "colab_type": "code",
        "colab": {
          "base_uri": "https://localhost:8080/",
          "height": 35
        },
        "outputId": "7c6be0b4-8ab4-4c60-a12f-c328f6783505"
      },
      "source": [
        "# confidence interval for adiposity data\n",
        "data = df['adiposity']\n",
        "confidence_interval(data, confidence=.95)"
      ],
      "execution_count": null,
      "outputs": [
        {
          "output_type": "execute_result",
          "data": {
            "text/plain": [
              "(24.695374959717974, 25.4067316017316, 26.118088243745227)"
            ]
          },
          "metadata": {
            "tags": []
          },
          "execution_count": 13
        }
      ]
    },
    {
      "cell_type": "code",
      "metadata": {
        "id": "RbfWLQjUUedG",
        "colab_type": "code",
        "colab": {
          "base_uri": "https://localhost:8080/",
          "height": 87
        },
        "outputId": "85d65e67-4ee0-457d-a1a3-d095dd99b059"
      },
      "source": [
        "# lets make the adiposity data group for adiposity lessthan the \n",
        "#lower bound, between the lower and upper bound and above the upper bound \n",
        "\n",
        "df.loc[df['adiposity'] <= 24.7, 'adipositygroup'] = 0 \n",
        "df.loc[(df['adiposity'] > 24.7) & (df['adiposity']<=26.1), 'adipositygroup'] = 1\n",
        "df.loc[df['adiposity'] > 26.1, 'adipositygroup'] = 2  \n",
        "df['adipositygroup'].value_counts()"
      ],
      "execution_count": 13,
      "outputs": [
        {
          "output_type": "execute_result",
          "data": {
            "text/plain": [
              "2.0    231\n",
              "0.0    200\n",
              "1.0     31\n",
              "Name: adipositygroup, dtype: int64"
            ]
          },
          "metadata": {
            "tags": []
          },
          "execution_count": 13
        }
      ]
    },
    {
      "cell_type": "code",
      "metadata": {
        "id": "GOgbrRN6N_VX",
        "colab_type": "code",
        "colab": {
          "base_uri": "https://localhost:8080/",
          "height": 35
        },
        "outputId": "6b078c1f-73b4-4b62-80c2-03feb1a46043"
      },
      "source": [
        "# confidence interval for typea: type-A behavior data\n",
        "data = df['typea']\n",
        "confidence_interval(data, confidence=.95)"
      ],
      "execution_count": 14,
      "outputs": [
        {
          "output_type": "execute_result",
          "data": {
            "text/plain": [
              "(52.206320132369555, 53.103896103896105, 54.001472075422654)"
            ]
          },
          "metadata": {
            "tags": []
          },
          "execution_count": 14
        }
      ]
    },
    {
      "cell_type": "code",
      "metadata": {
        "id": "FPeHWlaPVcba",
        "colab_type": "code",
        "colab": {
          "base_uri": "https://localhost:8080/",
          "height": 87
        },
        "outputId": "31dfedf5-00cf-464e-f794-028e054874e9"
      },
      "source": [
        "# lets make the typea: type-A behavior data group for typea lessthan the \n",
        "#lower bound, between the lower and upper bound and above the upper bound \n",
        "\n",
        "df.loc[df['typea'] <= 24.7, 'typeagroup'] = 0 \n",
        "df.loc[(df['typea'] > 24.7) & (df['typea']<=26.1), 'typeagroup'] = 1\n",
        "df.loc[df['typea'] > 26.1, 'typeagroup'] = 2  \n",
        "df['typeagroup'].value_counts()"
      ],
      "execution_count": 15,
      "outputs": [
        {
          "output_type": "execute_result",
          "data": {
            "text/plain": [
              "2.0    458\n",
              "1.0      2\n",
              "0.0      2\n",
              "Name: typeagroup, dtype: int64"
            ]
          },
          "metadata": {
            "tags": []
          },
          "execution_count": 15
        }
      ]
    },
    {
      "cell_type": "code",
      "metadata": {
        "id": "nv4UodzBO4UF",
        "colab_type": "code",
        "colab": {
          "base_uri": "https://localhost:8080/",
          "height": 35
        },
        "outputId": "ea20b876-0dcc-4e0c-e859-ef2434b330ed"
      },
      "source": [
        "# confidence interval for obesity data\n",
        "data = df['obesity']\n",
        "confidence_interval(data, confidence=.95)"
      ],
      "execution_count": 16,
      "outputs": [
        {
          "output_type": "execute_result",
          "data": {
            "text/plain": [
              "(25.65887344225081, 26.04411255411255, 26.429351665974295)"
            ]
          },
          "metadata": {
            "tags": []
          },
          "execution_count": 16
        }
      ]
    },
    {
      "cell_type": "code",
      "metadata": {
        "id": "COpDMIIDWDV0",
        "colab_type": "code",
        "colab": {
          "base_uri": "https://localhost:8080/",
          "height": 87
        },
        "outputId": "295b03a9-9bdc-4df5-c8c9-58e8fce885f1"
      },
      "source": [
        "# lets make the obesity data group for obesity lessthan the \n",
        "#lower bound, between the lower and upper bound and above the upper bound \n",
        "\n",
        "df.loc[df['obesity'] <= 24.7, 'obesitygroup'] = 0 \n",
        "df.loc[(df['obesity'] > 24.7) & (df['obesity']<=26.1), 'obesitygroup'] = 1\n",
        "df.loc[df['obesity'] > 26.1, 'obesitygroup'] = 2  \n",
        "df['obesitygroup'].value_counts()"
      ],
      "execution_count": 17,
      "outputs": [
        {
          "output_type": "execute_result",
          "data": {
            "text/plain": [
              "2.0    211\n",
              "0.0    179\n",
              "1.0     72\n",
              "Name: obesitygroup, dtype: int64"
            ]
          },
          "metadata": {
            "tags": []
          },
          "execution_count": 17
        }
      ]
    },
    {
      "cell_type": "code",
      "metadata": {
        "id": "sBUdJnfVPROw",
        "colab_type": "code",
        "colab": {
          "base_uri": "https://localhost:8080/",
          "height": 35
        },
        "outputId": "0d7b44e3-fd66-4ed9-d3a0-c780319ce070"
      },
      "source": [
        "# confidence interval for alcohol: current alcohol consumption data\n",
        "data = df['alcohol']\n",
        "confidence_interval(data, confidence=.95)"
      ],
      "execution_count": 18,
      "outputs": [
        {
          "output_type": "execute_result",
          "data": {
            "text/plain": [
              "(14.806193411597087, 17.044393939393935, 19.282594467190783)"
            ]
          },
          "metadata": {
            "tags": []
          },
          "execution_count": 18
        }
      ]
    },
    {
      "cell_type": "code",
      "metadata": {
        "id": "yDr1y4zJWa2l",
        "colab_type": "code",
        "colab": {
          "base_uri": "https://localhost:8080/",
          "height": 87
        },
        "outputId": "dcaa8cf1-85ae-4ea1-bdab-cadf855aa8a3"
      },
      "source": [
        "# lets make the alcohol: current alcohol consumption data group for alcohol lessthan the \n",
        "#lower bound, between the lower and upper bound and above the upper bound \n",
        "\n",
        "df.loc[df['alcohol'] <= 14.8, 'alcoholgroup'] = 0 \n",
        "df.loc[(df['alcohol'] > 14.8) & (df['alcohol']<=19.3), 'alcoholgroup'] = 1\n",
        "df.loc[df['alcohol'] > 19.3, 'alcoholgroup'] = 2  \n",
        "df['alcoholgroup'].value_counts()"
      ],
      "execution_count": 19,
      "outputs": [
        {
          "output_type": "execute_result",
          "data": {
            "text/plain": [
              "0.0    302\n",
              "2.0    139\n",
              "1.0     21\n",
              "Name: alcoholgroup, dtype: int64"
            ]
          },
          "metadata": {
            "tags": []
          },
          "execution_count": 19
        }
      ]
    },
    {
      "cell_type": "code",
      "metadata": {
        "id": "cAZdQoU3PnE1",
        "colab_type": "code",
        "colab": {
          "base_uri": "https://localhost:8080/",
          "height": 35
        },
        "outputId": "464102e9-f8f4-49f9-b3e4-d780d1bbd2b2"
      },
      "source": [
        "# confidence interval for age: age at onset data\n",
        "data = df['age']\n",
        "confidence_interval(data, confidence=.95)"
      ],
      "execution_count": 20,
      "outputs": [
        {
          "output_type": "execute_result",
          "data": {
            "text/plain": [
              "(41.48038169516487, 42.816017316017316, 44.15165293686976)"
            ]
          },
          "metadata": {
            "tags": []
          },
          "execution_count": 20
        }
      ]
    },
    {
      "cell_type": "code",
      "metadata": {
        "id": "5CIq8wmCMTfO",
        "colab_type": "code",
        "colab": {
          "base_uri": "https://localhost:8080/",
          "height": 87
        },
        "outputId": "898a63e9-8ca5-4dd8-bc92-58f63607b974"
      },
      "source": [
        "# lets make the age group for age lessthan the lower bound, between the lower and upper\n",
        "# bound and above the upper bound \n",
        "\n",
        "df.loc[df['age'] <= 42, 'agegroup'] = 0 \n",
        "df.loc[(df['age'] > 42) & (df['age']<=44), 'agegroup'] = 1\n",
        "df.loc[df['age'] > 44, 'agegroup'] = 2  \n",
        "df['agegroup'].value_counts()      "
      ],
      "execution_count": 21,
      "outputs": [
        {
          "output_type": "execute_result",
          "data": {
            "text/plain": [
              "2.0    235\n",
              "0.0    211\n",
              "1.0     16\n",
              "Name: agegroup, dtype: int64"
            ]
          },
          "metadata": {
            "tags": []
          },
          "execution_count": 21
        }
      ]
    },
    {
      "cell_type": "code",
      "metadata": {
        "id": "FvwdWyA3MhXA",
        "colab_type": "code",
        "colab": {
          "base_uri": "https://localhost:8080/",
          "height": 222
        },
        "outputId": "e20bf466-6922-48c4-f45f-ff8d81c36533"
      },
      "source": [
        "df.head()"
      ],
      "execution_count": 22,
      "outputs": [
        {
          "output_type": "execute_result",
          "data": {
            "text/html": [
              "<div>\n",
              "<style scoped>\n",
              "    .dataframe tbody tr th:only-of-type {\n",
              "        vertical-align: middle;\n",
              "    }\n",
              "\n",
              "    .dataframe tbody tr th {\n",
              "        vertical-align: top;\n",
              "    }\n",
              "\n",
              "    .dataframe thead th {\n",
              "        text-align: right;\n",
              "    }\n",
              "</style>\n",
              "<table border=\"1\" class=\"dataframe\">\n",
              "  <thead>\n",
              "    <tr style=\"text-align: right;\">\n",
              "      <th></th>\n",
              "      <th>sbp</th>\n",
              "      <th>tobacco</th>\n",
              "      <th>ldl</th>\n",
              "      <th>adiposity</th>\n",
              "      <th>famhist</th>\n",
              "      <th>typea</th>\n",
              "      <th>obesity</th>\n",
              "      <th>alcohol</th>\n",
              "      <th>age</th>\n",
              "      <th>chd</th>\n",
              "      <th>sbpgroup</th>\n",
              "      <th>tobaccogroup</th>\n",
              "      <th>ldlgroup</th>\n",
              "      <th>adipositygroup</th>\n",
              "      <th>typeagroup</th>\n",
              "      <th>obesitygroup</th>\n",
              "      <th>alcoholgroup</th>\n",
              "      <th>agegroup</th>\n",
              "    </tr>\n",
              "  </thead>\n",
              "  <tbody>\n",
              "    <tr>\n",
              "      <th>0</th>\n",
              "      <td>160</td>\n",
              "      <td>12.00</td>\n",
              "      <td>5.73</td>\n",
              "      <td>23.11</td>\n",
              "      <td>1</td>\n",
              "      <td>49</td>\n",
              "      <td>25.30</td>\n",
              "      <td>97.20</td>\n",
              "      <td>52</td>\n",
              "      <td>1</td>\n",
              "      <td>2.0</td>\n",
              "      <td>2.0</td>\n",
              "      <td>2.0</td>\n",
              "      <td>0.0</td>\n",
              "      <td>2.0</td>\n",
              "      <td>1.0</td>\n",
              "      <td>2.0</td>\n",
              "      <td>2.0</td>\n",
              "    </tr>\n",
              "    <tr>\n",
              "      <th>1</th>\n",
              "      <td>144</td>\n",
              "      <td>0.01</td>\n",
              "      <td>4.41</td>\n",
              "      <td>28.61</td>\n",
              "      <td>0</td>\n",
              "      <td>55</td>\n",
              "      <td>28.87</td>\n",
              "      <td>2.06</td>\n",
              "      <td>63</td>\n",
              "      <td>1</td>\n",
              "      <td>2.0</td>\n",
              "      <td>0.0</td>\n",
              "      <td>2.0</td>\n",
              "      <td>2.0</td>\n",
              "      <td>2.0</td>\n",
              "      <td>2.0</td>\n",
              "      <td>0.0</td>\n",
              "      <td>2.0</td>\n",
              "    </tr>\n",
              "    <tr>\n",
              "      <th>2</th>\n",
              "      <td>118</td>\n",
              "      <td>0.08</td>\n",
              "      <td>3.48</td>\n",
              "      <td>32.28</td>\n",
              "      <td>1</td>\n",
              "      <td>52</td>\n",
              "      <td>29.14</td>\n",
              "      <td>3.81</td>\n",
              "      <td>46</td>\n",
              "      <td>0</td>\n",
              "      <td>0.0</td>\n",
              "      <td>0.0</td>\n",
              "      <td>1.0</td>\n",
              "      <td>2.0</td>\n",
              "      <td>2.0</td>\n",
              "      <td>2.0</td>\n",
              "      <td>0.0</td>\n",
              "      <td>2.0</td>\n",
              "    </tr>\n",
              "    <tr>\n",
              "      <th>3</th>\n",
              "      <td>170</td>\n",
              "      <td>7.50</td>\n",
              "      <td>6.41</td>\n",
              "      <td>38.03</td>\n",
              "      <td>1</td>\n",
              "      <td>51</td>\n",
              "      <td>31.99</td>\n",
              "      <td>24.26</td>\n",
              "      <td>58</td>\n",
              "      <td>1</td>\n",
              "      <td>2.0</td>\n",
              "      <td>2.0</td>\n",
              "      <td>2.0</td>\n",
              "      <td>2.0</td>\n",
              "      <td>2.0</td>\n",
              "      <td>2.0</td>\n",
              "      <td>2.0</td>\n",
              "      <td>2.0</td>\n",
              "    </tr>\n",
              "    <tr>\n",
              "      <th>4</th>\n",
              "      <td>134</td>\n",
              "      <td>13.60</td>\n",
              "      <td>3.50</td>\n",
              "      <td>27.78</td>\n",
              "      <td>1</td>\n",
              "      <td>60</td>\n",
              "      <td>25.99</td>\n",
              "      <td>57.34</td>\n",
              "      <td>49</td>\n",
              "      <td>1</td>\n",
              "      <td>0.0</td>\n",
              "      <td>2.0</td>\n",
              "      <td>1.0</td>\n",
              "      <td>2.0</td>\n",
              "      <td>2.0</td>\n",
              "      <td>1.0</td>\n",
              "      <td>2.0</td>\n",
              "      <td>2.0</td>\n",
              "    </tr>\n",
              "  </tbody>\n",
              "</table>\n",
              "</div>"
            ],
            "text/plain": [
              "   sbp  tobacco   ldl  ...  obesitygroup  alcoholgroup  agegroup\n",
              "0  160    12.00  5.73  ...           1.0           2.0       2.0\n",
              "1  144     0.01  4.41  ...           2.0           0.0       2.0\n",
              "2  118     0.08  3.48  ...           2.0           0.0       2.0\n",
              "3  170     7.50  6.41  ...           2.0           2.0       2.0\n",
              "4  134    13.60  3.50  ...           1.0           2.0       2.0\n",
              "\n",
              "[5 rows x 18 columns]"
            ]
          },
          "metadata": {
            "tags": []
          },
          "execution_count": 22
        }
      ]
    },
    {
      "cell_type": "code",
      "metadata": {
        "id": "zwro-RcEXZ4t",
        "colab_type": "code",
        "colab": {
          "base_uri": "https://localhost:8080/",
          "height": 355
        },
        "outputId": "2df2e242-9812-4527-a6f4-188e7775070b"
      },
      "source": [
        "# New data set the facters which have effect on chd by grouping each data below\n",
        "# the lower bound confidence interval, between the lower and upper level intervan\n",
        "# and above the upper bound interval\n",
        "df_new =df[['sbpgroup', 'tobaccogroup', 'ldlgroup', 'adipositygroup',\n",
        "          'famhist', 'typeagroup', 'obesitygroup', 'alcoholgroup',\n",
        "          'agegroup', 'chd']].copy() \n",
        "df_new.head(10)"
      ],
      "execution_count": 23,
      "outputs": [
        {
          "output_type": "execute_result",
          "data": {
            "text/html": [
              "<div>\n",
              "<style scoped>\n",
              "    .dataframe tbody tr th:only-of-type {\n",
              "        vertical-align: middle;\n",
              "    }\n",
              "\n",
              "    .dataframe tbody tr th {\n",
              "        vertical-align: top;\n",
              "    }\n",
              "\n",
              "    .dataframe thead th {\n",
              "        text-align: right;\n",
              "    }\n",
              "</style>\n",
              "<table border=\"1\" class=\"dataframe\">\n",
              "  <thead>\n",
              "    <tr style=\"text-align: right;\">\n",
              "      <th></th>\n",
              "      <th>sbpgroup</th>\n",
              "      <th>tobaccogroup</th>\n",
              "      <th>ldlgroup</th>\n",
              "      <th>adipositygroup</th>\n",
              "      <th>famhist</th>\n",
              "      <th>typeagroup</th>\n",
              "      <th>obesitygroup</th>\n",
              "      <th>alcoholgroup</th>\n",
              "      <th>agegroup</th>\n",
              "      <th>chd</th>\n",
              "    </tr>\n",
              "  </thead>\n",
              "  <tbody>\n",
              "    <tr>\n",
              "      <th>0</th>\n",
              "      <td>2.0</td>\n",
              "      <td>2.0</td>\n",
              "      <td>2.0</td>\n",
              "      <td>0.0</td>\n",
              "      <td>1</td>\n",
              "      <td>2.0</td>\n",
              "      <td>1.0</td>\n",
              "      <td>2.0</td>\n",
              "      <td>2.0</td>\n",
              "      <td>1</td>\n",
              "    </tr>\n",
              "    <tr>\n",
              "      <th>1</th>\n",
              "      <td>2.0</td>\n",
              "      <td>0.0</td>\n",
              "      <td>2.0</td>\n",
              "      <td>2.0</td>\n",
              "      <td>0</td>\n",
              "      <td>2.0</td>\n",
              "      <td>2.0</td>\n",
              "      <td>0.0</td>\n",
              "      <td>2.0</td>\n",
              "      <td>1</td>\n",
              "    </tr>\n",
              "    <tr>\n",
              "      <th>2</th>\n",
              "      <td>0.0</td>\n",
              "      <td>0.0</td>\n",
              "      <td>1.0</td>\n",
              "      <td>2.0</td>\n",
              "      <td>1</td>\n",
              "      <td>2.0</td>\n",
              "      <td>2.0</td>\n",
              "      <td>0.0</td>\n",
              "      <td>2.0</td>\n",
              "      <td>0</td>\n",
              "    </tr>\n",
              "    <tr>\n",
              "      <th>3</th>\n",
              "      <td>2.0</td>\n",
              "      <td>2.0</td>\n",
              "      <td>2.0</td>\n",
              "      <td>2.0</td>\n",
              "      <td>1</td>\n",
              "      <td>2.0</td>\n",
              "      <td>2.0</td>\n",
              "      <td>2.0</td>\n",
              "      <td>2.0</td>\n",
              "      <td>1</td>\n",
              "    </tr>\n",
              "    <tr>\n",
              "      <th>4</th>\n",
              "      <td>0.0</td>\n",
              "      <td>2.0</td>\n",
              "      <td>1.0</td>\n",
              "      <td>2.0</td>\n",
              "      <td>1</td>\n",
              "      <td>2.0</td>\n",
              "      <td>1.0</td>\n",
              "      <td>2.0</td>\n",
              "      <td>2.0</td>\n",
              "      <td>1</td>\n",
              "    </tr>\n",
              "    <tr>\n",
              "      <th>5</th>\n",
              "      <td>0.0</td>\n",
              "      <td>2.0</td>\n",
              "      <td>2.0</td>\n",
              "      <td>2.0</td>\n",
              "      <td>1</td>\n",
              "      <td>2.0</td>\n",
              "      <td>2.0</td>\n",
              "      <td>0.0</td>\n",
              "      <td>2.0</td>\n",
              "      <td>0</td>\n",
              "    </tr>\n",
              "    <tr>\n",
              "      <th>6</th>\n",
              "      <td>2.0</td>\n",
              "      <td>1.0</td>\n",
              "      <td>1.0</td>\n",
              "      <td>0.0</td>\n",
              "      <td>0</td>\n",
              "      <td>2.0</td>\n",
              "      <td>0.0</td>\n",
              "      <td>0.0</td>\n",
              "      <td>0.0</td>\n",
              "      <td>0</td>\n",
              "    </tr>\n",
              "    <tr>\n",
              "      <th>7</th>\n",
              "      <td>0.0</td>\n",
              "      <td>1.0</td>\n",
              "      <td>2.0</td>\n",
              "      <td>0.0</td>\n",
              "      <td>1</td>\n",
              "      <td>2.0</td>\n",
              "      <td>0.0</td>\n",
              "      <td>0.0</td>\n",
              "      <td>2.0</td>\n",
              "      <td>1</td>\n",
              "    </tr>\n",
              "    <tr>\n",
              "      <th>8</th>\n",
              "      <td>0.0</td>\n",
              "      <td>0.0</td>\n",
              "      <td>1.0</td>\n",
              "      <td>0.0</td>\n",
              "      <td>1</td>\n",
              "      <td>2.0</td>\n",
              "      <td>1.0</td>\n",
              "      <td>0.0</td>\n",
              "      <td>0.0</td>\n",
              "      <td>0</td>\n",
              "    </tr>\n",
              "    <tr>\n",
              "      <th>9</th>\n",
              "      <td>0.0</td>\n",
              "      <td>0.0</td>\n",
              "      <td>2.0</td>\n",
              "      <td>2.0</td>\n",
              "      <td>1</td>\n",
              "      <td>2.0</td>\n",
              "      <td>2.0</td>\n",
              "      <td>0.0</td>\n",
              "      <td>2.0</td>\n",
              "      <td>1</td>\n",
              "    </tr>\n",
              "  </tbody>\n",
              "</table>\n",
              "</div>"
            ],
            "text/plain": [
              "   sbpgroup  tobaccogroup  ldlgroup  ...  alcoholgroup  agegroup  chd\n",
              "0       2.0           2.0       2.0  ...           2.0       2.0    1\n",
              "1       2.0           0.0       2.0  ...           0.0       2.0    1\n",
              "2       0.0           0.0       1.0  ...           0.0       2.0    0\n",
              "3       2.0           2.0       2.0  ...           2.0       2.0    1\n",
              "4       0.0           2.0       1.0  ...           2.0       2.0    1\n",
              "5       0.0           2.0       2.0  ...           0.0       2.0    0\n",
              "6       2.0           1.0       1.0  ...           0.0       0.0    0\n",
              "7       0.0           1.0       2.0  ...           0.0       2.0    1\n",
              "8       0.0           0.0       1.0  ...           0.0       0.0    0\n",
              "9       0.0           0.0       2.0  ...           0.0       2.0    1\n",
              "\n",
              "[10 rows x 10 columns]"
            ]
          },
          "metadata": {
            "tags": []
          },
          "execution_count": 23
        }
      ]
    },
    {
      "cell_type": "code",
      "metadata": {
        "id": "pypI9v5keL72",
        "colab_type": "code",
        "colab": {
          "base_uri": "https://localhost:8080/",
          "height": 355
        },
        "outputId": "8204b417-95e5-42b6-802d-515b7a77519e"
      },
      "source": [
        "df_new.corr()"
      ],
      "execution_count": 24,
      "outputs": [
        {
          "output_type": "execute_result",
          "data": {
            "text/html": [
              "<div>\n",
              "<style scoped>\n",
              "    .dataframe tbody tr th:only-of-type {\n",
              "        vertical-align: middle;\n",
              "    }\n",
              "\n",
              "    .dataframe tbody tr th {\n",
              "        vertical-align: top;\n",
              "    }\n",
              "\n",
              "    .dataframe thead th {\n",
              "        text-align: right;\n",
              "    }\n",
              "</style>\n",
              "<table border=\"1\" class=\"dataframe\">\n",
              "  <thead>\n",
              "    <tr style=\"text-align: right;\">\n",
              "      <th></th>\n",
              "      <th>sbpgroup</th>\n",
              "      <th>tobaccogroup</th>\n",
              "      <th>ldlgroup</th>\n",
              "      <th>adipositygroup</th>\n",
              "      <th>famhist</th>\n",
              "      <th>typeagroup</th>\n",
              "      <th>obesitygroup</th>\n",
              "      <th>alcoholgroup</th>\n",
              "      <th>agegroup</th>\n",
              "      <th>chd</th>\n",
              "    </tr>\n",
              "  </thead>\n",
              "  <tbody>\n",
              "    <tr>\n",
              "      <th>sbpgroup</th>\n",
              "      <td>1.000000</td>\n",
              "      <td>0.191070</td>\n",
              "      <td>0.202644</td>\n",
              "      <td>0.249295</td>\n",
              "      <td>0.056831</td>\n",
              "      <td>0.017243</td>\n",
              "      <td>0.219585</td>\n",
              "      <td>0.130437</td>\n",
              "      <td>0.258839</td>\n",
              "      <td>0.161840</td>\n",
              "    </tr>\n",
              "    <tr>\n",
              "      <th>tobaccogroup</th>\n",
              "      <td>0.191070</td>\n",
              "      <td>1.000000</td>\n",
              "      <td>0.201370</td>\n",
              "      <td>0.254486</td>\n",
              "      <td>0.136412</td>\n",
              "      <td>0.007386</td>\n",
              "      <td>0.149525</td>\n",
              "      <td>0.252495</td>\n",
              "      <td>0.417942</td>\n",
              "      <td>0.247495</td>\n",
              "    </tr>\n",
              "    <tr>\n",
              "      <th>ldlgroup</th>\n",
              "      <td>0.202644</td>\n",
              "      <td>0.201370</td>\n",
              "      <td>1.000000</td>\n",
              "      <td>0.361916</td>\n",
              "      <td>0.151426</td>\n",
              "      <td>-0.036456</td>\n",
              "      <td>0.348445</td>\n",
              "      <td>-0.045947</td>\n",
              "      <td>0.244686</td>\n",
              "      <td>0.235587</td>\n",
              "    </tr>\n",
              "    <tr>\n",
              "      <th>adipositygroup</th>\n",
              "      <td>0.249295</td>\n",
              "      <td>0.254486</td>\n",
              "      <td>0.361916</td>\n",
              "      <td>1.000000</td>\n",
              "      <td>0.155514</td>\n",
              "      <td>0.036829</td>\n",
              "      <td>0.666578</td>\n",
              "      <td>0.118197</td>\n",
              "      <td>0.442777</td>\n",
              "      <td>0.208988</td>\n",
              "    </tr>\n",
              "    <tr>\n",
              "      <th>famhist</th>\n",
              "      <td>0.056831</td>\n",
              "      <td>0.136412</td>\n",
              "      <td>0.151426</td>\n",
              "      <td>0.155514</td>\n",
              "      <td>1.000000</td>\n",
              "      <td>0.014790</td>\n",
              "      <td>0.123211</td>\n",
              "      <td>0.032493</td>\n",
              "      <td>0.223936</td>\n",
              "      <td>0.272373</td>\n",
              "    </tr>\n",
              "    <tr>\n",
              "      <th>typeagroup</th>\n",
              "      <td>0.017243</td>\n",
              "      <td>0.007386</td>\n",
              "      <td>-0.036456</td>\n",
              "      <td>0.036829</td>\n",
              "      <td>0.014790</td>\n",
              "      <td>1.000000</td>\n",
              "      <td>0.006700</td>\n",
              "      <td>-0.001895</td>\n",
              "      <td>0.004692</td>\n",
              "      <td>0.002419</td>\n",
              "    </tr>\n",
              "    <tr>\n",
              "      <th>obesitygroup</th>\n",
              "      <td>0.219585</td>\n",
              "      <td>0.149525</td>\n",
              "      <td>0.348445</td>\n",
              "      <td>0.666578</td>\n",
              "      <td>0.123211</td>\n",
              "      <td>0.006700</td>\n",
              "      <td>1.000000</td>\n",
              "      <td>0.068174</td>\n",
              "      <td>0.265687</td>\n",
              "      <td>0.103867</td>\n",
              "    </tr>\n",
              "    <tr>\n",
              "      <th>alcoholgroup</th>\n",
              "      <td>0.130437</td>\n",
              "      <td>0.252495</td>\n",
              "      <td>-0.045947</td>\n",
              "      <td>0.118197</td>\n",
              "      <td>0.032493</td>\n",
              "      <td>-0.001895</td>\n",
              "      <td>0.068174</td>\n",
              "      <td>1.000000</td>\n",
              "      <td>0.090723</td>\n",
              "      <td>0.062167</td>\n",
              "    </tr>\n",
              "    <tr>\n",
              "      <th>agegroup</th>\n",
              "      <td>0.258839</td>\n",
              "      <td>0.417942</td>\n",
              "      <td>0.244686</td>\n",
              "      <td>0.442777</td>\n",
              "      <td>0.223936</td>\n",
              "      <td>0.004692</td>\n",
              "      <td>0.265687</td>\n",
              "      <td>0.090723</td>\n",
              "      <td>1.000000</td>\n",
              "      <td>0.313842</td>\n",
              "    </tr>\n",
              "    <tr>\n",
              "      <th>chd</th>\n",
              "      <td>0.161840</td>\n",
              "      <td>0.247495</td>\n",
              "      <td>0.235587</td>\n",
              "      <td>0.208988</td>\n",
              "      <td>0.272373</td>\n",
              "      <td>0.002419</td>\n",
              "      <td>0.103867</td>\n",
              "      <td>0.062167</td>\n",
              "      <td>0.313842</td>\n",
              "      <td>1.000000</td>\n",
              "    </tr>\n",
              "  </tbody>\n",
              "</table>\n",
              "</div>"
            ],
            "text/plain": [
              "                sbpgroup  tobaccogroup  ...  agegroup       chd\n",
              "sbpgroup        1.000000      0.191070  ...  0.258839  0.161840\n",
              "tobaccogroup    0.191070      1.000000  ...  0.417942  0.247495\n",
              "ldlgroup        0.202644      0.201370  ...  0.244686  0.235587\n",
              "adipositygroup  0.249295      0.254486  ...  0.442777  0.208988\n",
              "famhist         0.056831      0.136412  ...  0.223936  0.272373\n",
              "typeagroup      0.017243      0.007386  ...  0.004692  0.002419\n",
              "obesitygroup    0.219585      0.149525  ...  0.265687  0.103867\n",
              "alcoholgroup    0.130437      0.252495  ...  0.090723  0.062167\n",
              "agegroup        0.258839      0.417942  ...  1.000000  0.313842\n",
              "chd             0.161840      0.247495  ...  0.313842  1.000000\n",
              "\n",
              "[10 rows x 10 columns]"
            ]
          },
          "metadata": {
            "tags": []
          },
          "execution_count": 24
        }
      ]
    },
    {
      "cell_type": "code",
      "metadata": {
        "id": "yZAYDE1Mp55r",
        "colab_type": "code",
        "colab": {
          "base_uri": "https://localhost:8080/",
          "height": 87
        },
        "outputId": "2a14aabc-9269-48ef-a69a-898a0063fb5e"
      },
      "source": [
        "df_new['agegroup'].value_counts()"
      ],
      "execution_count": 25,
      "outputs": [
        {
          "output_type": "execute_result",
          "data": {
            "text/plain": [
              "2.0    235\n",
              "0.0    211\n",
              "1.0     16\n",
              "Name: agegroup, dtype: int64"
            ]
          },
          "metadata": {
            "tags": []
          },
          "execution_count": 25
        }
      ]
    },
    {
      "cell_type": "code",
      "metadata": {
        "id": "aYyjf31nrzxT",
        "colab_type": "code",
        "colab": {
          "base_uri": "https://localhost:8080/",
          "height": 265
        },
        "outputId": "e006d0fa-bb25-4dda-b8c1-95fd933903a6"
      },
      "source": [
        "df_new.corr().plot();\n"
      ],
      "execution_count": null,
      "outputs": [
        {
          "output_type": "display_data",
          "data": {
            "image/png": "[encoded data removed]",
            "text/plain": [
              "<Figure size 432x288 with 1 Axes>"
            ]
          },
          "metadata": {
            "tags": [],
            "needs_background": "light"
          }
        }
      ]
    },
    {
      "cell_type": "code",
      "metadata": {
        "id": "pkc5_lqPk3sT",
        "colab_type": "code",
        "colab": {
          "base_uri": "https://localhost:8080/",
          "height": 141
        },
        "outputId": "83d85631-6016-43a6-f5e1-3a48a7cc4ebd"
      },
      "source": [
        "# crosstab for CHD and sbp group\n",
        "small_df_cr=pd.crosstab(df['chd'], df['sbpgroup'])\n",
        "small_df_cr"
      ],
      "execution_count": 32,
      "outputs": [
        {
          "output_type": "execute_result",
          "data": {
            "text/html": [
              "<div>\n",
              "<style scoped>\n",
              "    .dataframe tbody tr th:only-of-type {\n",
              "        vertical-align: middle;\n",
              "    }\n",
              "\n",
              "    .dataframe tbody tr th {\n",
              "        vertical-align: top;\n",
              "    }\n",
              "\n",
              "    .dataframe thead th {\n",
              "        text-align: right;\n",
              "    }\n",
              "</style>\n",
              "<table border=\"1\" class=\"dataframe\">\n",
              "  <thead>\n",
              "    <tr style=\"text-align: right;\">\n",
              "      <th>sbpgroup</th>\n",
              "      <th>0.0</th>\n",
              "      <th>1.0</th>\n",
              "      <th>2.0</th>\n",
              "    </tr>\n",
              "    <tr>\n",
              "      <th>chd</th>\n",
              "      <th></th>\n",
              "      <th></th>\n",
              "      <th></th>\n",
              "    </tr>\n",
              "  </thead>\n",
              "  <tbody>\n",
              "    <tr>\n",
              "      <th>0</th>\n",
              "      <td>174</td>\n",
              "      <td>33</td>\n",
              "      <td>95</td>\n",
              "    </tr>\n",
              "    <tr>\n",
              "      <th>1</th>\n",
              "      <td>68</td>\n",
              "      <td>15</td>\n",
              "      <td>77</td>\n",
              "    </tr>\n",
              "  </tbody>\n",
              "</table>\n",
              "</div>"
            ],
            "text/plain": [
              "sbpgroup  0.0  1.0  2.0\n",
              "chd                    \n",
              "0         174   33   95\n",
              "1          68   15   77"
            ]
          },
          "metadata": {
            "tags": []
          },
          "execution_count": 32
        }
      ]
    },
    {
      "cell_type": "code",
      "metadata": {
        "id": "HFuegRJcl0mM",
        "colab_type": "code",
        "colab": {
          "base_uri": "https://localhost:8080/",
          "height": 141
        },
        "outputId": "90a4e885-f81a-4140-dfeb-2163b054a757"
      },
      "source": [
        "# crosstab for CHD and tobacco group\n",
        "small_df_cr=pd.crosstab(df['chd'], df['tobaccogroup'])\n",
        "small_df_cr"
      ],
      "execution_count": 34,
      "outputs": [
        {
          "output_type": "execute_result",
          "data": {
            "text/html": [
              "<div>\n",
              "<style scoped>\n",
              "    .dataframe tbody tr th:only-of-type {\n",
              "        vertical-align: middle;\n",
              "    }\n",
              "\n",
              "    .dataframe tbody tr th {\n",
              "        vertical-align: top;\n",
              "    }\n",
              "\n",
              "    .dataframe thead th {\n",
              "        text-align: right;\n",
              "    }\n",
              "</style>\n",
              "<table border=\"1\" class=\"dataframe\">\n",
              "  <thead>\n",
              "    <tr style=\"text-align: right;\">\n",
              "      <th>tobaccogroup</th>\n",
              "      <th>0.0</th>\n",
              "      <th>1.0</th>\n",
              "      <th>2.0</th>\n",
              "    </tr>\n",
              "    <tr>\n",
              "      <th>chd</th>\n",
              "      <th></th>\n",
              "      <th></th>\n",
              "      <th></th>\n",
              "    </tr>\n",
              "  </thead>\n",
              "  <tbody>\n",
              "    <tr>\n",
              "      <th>0</th>\n",
              "      <td>206</td>\n",
              "      <td>18</td>\n",
              "      <td>78</td>\n",
              "    </tr>\n",
              "    <tr>\n",
              "      <th>1</th>\n",
              "      <td>70</td>\n",
              "      <td>10</td>\n",
              "      <td>80</td>\n",
              "    </tr>\n",
              "  </tbody>\n",
              "</table>\n",
              "</div>"
            ],
            "text/plain": [
              "tobaccogroup  0.0  1.0  2.0\n",
              "chd                        \n",
              "0             206   18   78\n",
              "1              70   10   80"
            ]
          },
          "metadata": {
            "tags": []
          },
          "execution_count": 34
        }
      ]
    },
    {
      "cell_type": "code",
      "metadata": {
        "id": "gY4Wt3RXlXKi",
        "colab_type": "code",
        "colab": {
          "base_uri": "https://localhost:8080/",
          "height": 141
        },
        "outputId": "0bf783e3-8e91-4b13-f5ef-703bf4b3b2b1"
      },
      "source": [
        "# crosstab for CHD and ldl group\n",
        "small_df_cr=pd.crosstab(df['chd'], df['ldlgroup'])\n",
        "small_df_cr"
      ],
      "execution_count": 33,
      "outputs": [
        {
          "output_type": "execute_result",
          "data": {
            "text/html": [
              "<div>\n",
              "<style scoped>\n",
              "    .dataframe tbody tr th:only-of-type {\n",
              "        vertical-align: middle;\n",
              "    }\n",
              "\n",
              "    .dataframe tbody tr th {\n",
              "        vertical-align: top;\n",
              "    }\n",
              "\n",
              "    .dataframe thead th {\n",
              "        text-align: right;\n",
              "    }\n",
              "</style>\n",
              "<table border=\"1\" class=\"dataframe\">\n",
              "  <thead>\n",
              "    <tr style=\"text-align: right;\">\n",
              "      <th>ldlgroup</th>\n",
              "      <th>0.0</th>\n",
              "      <th>1.0</th>\n",
              "      <th>2.0</th>\n",
              "    </tr>\n",
              "    <tr>\n",
              "      <th>chd</th>\n",
              "      <th></th>\n",
              "      <th></th>\n",
              "      <th></th>\n",
              "    </tr>\n",
              "  </thead>\n",
              "  <tbody>\n",
              "    <tr>\n",
              "      <th>0</th>\n",
              "      <td>89</td>\n",
              "      <td>69</td>\n",
              "      <td>144</td>\n",
              "    </tr>\n",
              "    <tr>\n",
              "      <th>1</th>\n",
              "      <td>20</td>\n",
              "      <td>25</td>\n",
              "      <td>115</td>\n",
              "    </tr>\n",
              "  </tbody>\n",
              "</table>\n",
              "</div>"
            ],
            "text/plain": [
              "ldlgroup  0.0  1.0  2.0\n",
              "chd                    \n",
              "0          89   69  144\n",
              "1          20   25  115"
            ]
          },
          "metadata": {
            "tags": []
          },
          "execution_count": 33
        }
      ]
    },
    {
      "cell_type": "code",
      "metadata": {
        "id": "t0DTi51DnI4O",
        "colab_type": "code",
        "colab": {
          "base_uri": "https://localhost:8080/",
          "height": 141
        },
        "outputId": "0a8dac24-2d6a-446d-e8b1-f4b1062b6e15"
      },
      "source": [
        "# crosstab for CHD and type a group\n",
        "small_df_cr=pd.crosstab(df['chd'], df['typeagroup'])\n",
        "small_df_cr"
      ],
      "execution_count": 39,
      "outputs": [
        {
          "output_type": "execute_result",
          "data": {
            "text/html": [
              "<div>\n",
              "<style scoped>\n",
              "    .dataframe tbody tr th:only-of-type {\n",
              "        vertical-align: middle;\n",
              "    }\n",
              "\n",
              "    .dataframe tbody tr th {\n",
              "        vertical-align: top;\n",
              "    }\n",
              "\n",
              "    .dataframe thead th {\n",
              "        text-align: right;\n",
              "    }\n",
              "</style>\n",
              "<table border=\"1\" class=\"dataframe\">\n",
              "  <thead>\n",
              "    <tr style=\"text-align: right;\">\n",
              "      <th>typeagroup</th>\n",
              "      <th>0.0</th>\n",
              "      <th>1.0</th>\n",
              "      <th>2.0</th>\n",
              "    </tr>\n",
              "    <tr>\n",
              "      <th>chd</th>\n",
              "      <th></th>\n",
              "      <th></th>\n",
              "      <th></th>\n",
              "    </tr>\n",
              "  </thead>\n",
              "  <tbody>\n",
              "    <tr>\n",
              "      <th>0</th>\n",
              "      <td>1</td>\n",
              "      <td>2</td>\n",
              "      <td>299</td>\n",
              "    </tr>\n",
              "    <tr>\n",
              "      <th>1</th>\n",
              "      <td>1</td>\n",
              "      <td>0</td>\n",
              "      <td>159</td>\n",
              "    </tr>\n",
              "  </tbody>\n",
              "</table>\n",
              "</div>"
            ],
            "text/plain": [
              "typeagroup  0.0  1.0  2.0\n",
              "chd                      \n",
              "0             1    2  299\n",
              "1             1    0  159"
            ]
          },
          "metadata": {
            "tags": []
          },
          "execution_count": 39
        }
      ]
    },
    {
      "cell_type": "code",
      "metadata": {
        "id": "Axv-q9CVmZ9S",
        "colab_type": "code",
        "colab": {
          "base_uri": "https://localhost:8080/",
          "height": 141
        },
        "outputId": "a24827a2-51de-4c2c-e6d1-23bbdc7fe185"
      },
      "source": [
        "# crosstab for CHD and adioposity group\n",
        "small_df_cr=pd.crosstab(df['chd'], df['adipositygroup'])\n",
        "small_df_cr"
      ],
      "execution_count": 38,
      "outputs": [
        {
          "output_type": "execute_result",
          "data": {
            "text/html": [
              "<div>\n",
              "<style scoped>\n",
              "    .dataframe tbody tr th:only-of-type {\n",
              "        vertical-align: middle;\n",
              "    }\n",
              "\n",
              "    .dataframe tbody tr th {\n",
              "        vertical-align: top;\n",
              "    }\n",
              "\n",
              "    .dataframe thead th {\n",
              "        text-align: right;\n",
              "    }\n",
              "</style>\n",
              "<table border=\"1\" class=\"dataframe\">\n",
              "  <thead>\n",
              "    <tr style=\"text-align: right;\">\n",
              "      <th>adipositygroup</th>\n",
              "      <th>0.0</th>\n",
              "      <th>1.0</th>\n",
              "      <th>2.0</th>\n",
              "    </tr>\n",
              "    <tr>\n",
              "      <th>chd</th>\n",
              "      <th></th>\n",
              "      <th></th>\n",
              "      <th></th>\n",
              "    </tr>\n",
              "  </thead>\n",
              "  <tbody>\n",
              "    <tr>\n",
              "      <th>0</th>\n",
              "      <td>153</td>\n",
              "      <td>20</td>\n",
              "      <td>129</td>\n",
              "    </tr>\n",
              "    <tr>\n",
              "      <th>1</th>\n",
              "      <td>47</td>\n",
              "      <td>11</td>\n",
              "      <td>102</td>\n",
              "    </tr>\n",
              "  </tbody>\n",
              "</table>\n",
              "</div>"
            ],
            "text/plain": [
              "adipositygroup  0.0  1.0  2.0\n",
              "chd                          \n",
              "0               153   20  129\n",
              "1                47   11  102"
            ]
          },
          "metadata": {
            "tags": []
          },
          "execution_count": 38
        }
      ]
    },
    {
      "cell_type": "code",
      "metadata": {
        "id": "MnmHrxJTmIBv",
        "colab_type": "code",
        "colab": {
          "base_uri": "https://localhost:8080/",
          "height": 141
        },
        "outputId": "01e3c57e-e255-4fc8-dd76-176cbb0d6511"
      },
      "source": [
        "# crosstab for CHD and family history group\n",
        "small_df_cr=pd.crosstab(df['chd'], df['famhist'])\n",
        "small_df_cr"
      ],
      "execution_count": 36,
      "outputs": [
        {
          "output_type": "execute_result",
          "data": {
            "text/html": [
              "<div>\n",
              "<style scoped>\n",
              "    .dataframe tbody tr th:only-of-type {\n",
              "        vertical-align: middle;\n",
              "    }\n",
              "\n",
              "    .dataframe tbody tr th {\n",
              "        vertical-align: top;\n",
              "    }\n",
              "\n",
              "    .dataframe thead th {\n",
              "        text-align: right;\n",
              "    }\n",
              "</style>\n",
              "<table border=\"1\" class=\"dataframe\">\n",
              "  <thead>\n",
              "    <tr style=\"text-align: right;\">\n",
              "      <th>famhist</th>\n",
              "      <th>0</th>\n",
              "      <th>1</th>\n",
              "    </tr>\n",
              "    <tr>\n",
              "      <th>chd</th>\n",
              "      <th></th>\n",
              "      <th></th>\n",
              "    </tr>\n",
              "  </thead>\n",
              "  <tbody>\n",
              "    <tr>\n",
              "      <th>0</th>\n",
              "      <td>206</td>\n",
              "      <td>96</td>\n",
              "    </tr>\n",
              "    <tr>\n",
              "      <th>1</th>\n",
              "      <td>64</td>\n",
              "      <td>96</td>\n",
              "    </tr>\n",
              "  </tbody>\n",
              "</table>\n",
              "</div>"
            ],
            "text/plain": [
              "famhist    0   1\n",
              "chd             \n",
              "0        206  96\n",
              "1         64  96"
            ]
          },
          "metadata": {
            "tags": []
          },
          "execution_count": 36
        }
      ]
    },
    {
      "cell_type": "code",
      "metadata": {
        "id": "PxHcrCmtna6s",
        "colab_type": "code",
        "colab": {
          "base_uri": "https://localhost:8080/",
          "height": 141
        },
        "outputId": "0127154a-d39b-47db-f90b-6a46d2df735a"
      },
      "source": [
        "# crosstab for CHD and obesity group\n",
        "small_df_cr=pd.crosstab(df['chd'], df['obesitygroup'])\n",
        "small_df_cr"
      ],
      "execution_count": 40,
      "outputs": [
        {
          "output_type": "execute_result",
          "data": {
            "text/html": [
              "<div>\n",
              "<style scoped>\n",
              "    .dataframe tbody tr th:only-of-type {\n",
              "        vertical-align: middle;\n",
              "    }\n",
              "\n",
              "    .dataframe tbody tr th {\n",
              "        vertical-align: top;\n",
              "    }\n",
              "\n",
              "    .dataframe thead th {\n",
              "        text-align: right;\n",
              "    }\n",
              "</style>\n",
              "<table border=\"1\" class=\"dataframe\">\n",
              "  <thead>\n",
              "    <tr style=\"text-align: right;\">\n",
              "      <th>obesitygroup</th>\n",
              "      <th>0.0</th>\n",
              "      <th>1.0</th>\n",
              "      <th>2.0</th>\n",
              "    </tr>\n",
              "    <tr>\n",
              "      <th>chd</th>\n",
              "      <th></th>\n",
              "      <th></th>\n",
              "      <th></th>\n",
              "    </tr>\n",
              "  </thead>\n",
              "  <tbody>\n",
              "    <tr>\n",
              "      <th>0</th>\n",
              "      <td>126</td>\n",
              "      <td>50</td>\n",
              "      <td>126</td>\n",
              "    </tr>\n",
              "    <tr>\n",
              "      <th>1</th>\n",
              "      <td>53</td>\n",
              "      <td>22</td>\n",
              "      <td>85</td>\n",
              "    </tr>\n",
              "  </tbody>\n",
              "</table>\n",
              "</div>"
            ],
            "text/plain": [
              "obesitygroup  0.0  1.0  2.0\n",
              "chd                        \n",
              "0             126   50  126\n",
              "1              53   22   85"
            ]
          },
          "metadata": {
            "tags": []
          },
          "execution_count": 40
        }
      ]
    },
    {
      "cell_type": "code",
      "metadata": {
        "id": "6EoAFznQnwbr",
        "colab_type": "code",
        "colab": {
          "base_uri": "https://localhost:8080/",
          "height": 141
        },
        "outputId": "7c742543-130f-4a00-a4a8-b912f9b968f2"
      },
      "source": [
        "# crosstab for CHD and alcohol group\n",
        "small_df_cr=pd.crosstab(df['chd'], df['alcoholgroup'])\n",
        "small_df_cr"
      ],
      "execution_count": 41,
      "outputs": [
        {
          "output_type": "execute_result",
          "data": {
            "text/html": [
              "<div>\n",
              "<style scoped>\n",
              "    .dataframe tbody tr th:only-of-type {\n",
              "        vertical-align: middle;\n",
              "    }\n",
              "\n",
              "    .dataframe tbody tr th {\n",
              "        vertical-align: top;\n",
              "    }\n",
              "\n",
              "    .dataframe thead th {\n",
              "        text-align: right;\n",
              "    }\n",
              "</style>\n",
              "<table border=\"1\" class=\"dataframe\">\n",
              "  <thead>\n",
              "    <tr style=\"text-align: right;\">\n",
              "      <th>alcoholgroup</th>\n",
              "      <th>0.0</th>\n",
              "      <th>1.0</th>\n",
              "      <th>2.0</th>\n",
              "    </tr>\n",
              "    <tr>\n",
              "      <th>chd</th>\n",
              "      <th></th>\n",
              "      <th></th>\n",
              "      <th></th>\n",
              "    </tr>\n",
              "  </thead>\n",
              "  <tbody>\n",
              "    <tr>\n",
              "      <th>0</th>\n",
              "      <td>203</td>\n",
              "      <td>15</td>\n",
              "      <td>84</td>\n",
              "    </tr>\n",
              "    <tr>\n",
              "      <th>1</th>\n",
              "      <td>99</td>\n",
              "      <td>6</td>\n",
              "      <td>55</td>\n",
              "    </tr>\n",
              "  </tbody>\n",
              "</table>\n",
              "</div>"
            ],
            "text/plain": [
              "alcoholgroup  0.0  1.0  2.0\n",
              "chd                        \n",
              "0             203   15   84\n",
              "1              99    6   55"
            ]
          },
          "metadata": {
            "tags": []
          },
          "execution_count": 41
        }
      ]
    },
    {
      "cell_type": "code",
      "metadata": {
        "id": "qdGxEQ9fbk9A",
        "colab_type": "code",
        "colab": {
          "base_uri": "https://localhost:8080/",
          "height": 141
        },
        "outputId": "53630435-0b2d-4b16-cc6d-842b971a8f27"
      },
      "source": [
        "# crosstab for CHD and age group\n",
        "small_df_cr=pd.crosstab(df['chd'], df['agegroup'])\n",
        "small_df_cr"
      ],
      "execution_count": 46,
      "outputs": [
        {
          "output_type": "execute_result",
          "data": {
            "text/html": [
              "<div>\n",
              "<style scoped>\n",
              "    .dataframe tbody tr th:only-of-type {\n",
              "        vertical-align: middle;\n",
              "    }\n",
              "\n",
              "    .dataframe tbody tr th {\n",
              "        vertical-align: top;\n",
              "    }\n",
              "\n",
              "    .dataframe thead th {\n",
              "        text-align: right;\n",
              "    }\n",
              "</style>\n",
              "<table border=\"1\" class=\"dataframe\">\n",
              "  <thead>\n",
              "    <tr style=\"text-align: right;\">\n",
              "      <th>agegroup</th>\n",
              "      <th>0.0</th>\n",
              "      <th>1.0</th>\n",
              "      <th>2.0</th>\n",
              "    </tr>\n",
              "    <tr>\n",
              "      <th>chd</th>\n",
              "      <th></th>\n",
              "      <th></th>\n",
              "      <th></th>\n",
              "    </tr>\n",
              "  </thead>\n",
              "  <tbody>\n",
              "    <tr>\n",
              "      <th>0</th>\n",
              "      <td>171</td>\n",
              "      <td>12</td>\n",
              "      <td>119</td>\n",
              "    </tr>\n",
              "    <tr>\n",
              "      <th>1</th>\n",
              "      <td>40</td>\n",
              "      <td>4</td>\n",
              "      <td>116</td>\n",
              "    </tr>\n",
              "  </tbody>\n",
              "</table>\n",
              "</div>"
            ],
            "text/plain": [
              "agegroup  0.0  1.0  2.0\n",
              "chd                    \n",
              "0         171   12  119\n",
              "1          40    4  116"
            ]
          },
          "metadata": {
            "tags": []
          },
          "execution_count": 46
        }
      ]
    },
    {
      "cell_type": "code",
      "metadata": {
        "id": "0aOvsniSjBu-",
        "colab_type": "code",
        "colab": {
          "base_uri": "https://localhost:8080/",
          "height": 297
        },
        "outputId": "6befadf3-2083-4d5a-b628-41aa4c0a4209"
      },
      "source": [
        "# plot for CHD negative\n",
        "import matplotlib\n",
        "import matplotlib.pyplot as plt\n",
        "import numpy as np\n",
        "\n",
        "\n",
        "labels = ['sbp', 'tobacco', 'ldl', 'adioposity', 'type a', 'obesity', 'alcohol', 'age']\n",
        "chd_nve_under_lower_confinterval = [68, 70, 20, 47, 1, 53, 99, 40]\n",
        "chd_nve_under_between_confinterval = [15, 10, 25, 11, 0, 22, 6,4]\n",
        "chd_nve_over_upper_confinterval = [77, 80, 115, 102, 159, 85, 55, 116]\n",
        "\n",
        "x = np.arange(len(labels))  # the label locations\n",
        "width = 0.3  # the width of the bars\n",
        "\n",
        "fig, ax = plt.subplots()\n",
        "rects1 = ax.bar(x - width/3, chd_nve_under_lower_confinterval, width, label='Below confidence interval', align='edge')\n",
        "rects2 = ax.bar(x, chd_nve_under_between_confinterval, width, label='Between confidence interval', align='edge')\n",
        "rects3 = ax.bar(x + width/3, chd_nve_over_upper_confinterval, width, label='Above confidence interval', align='edge')\n",
        "\n",
        "# Add some text for labels, title and custom x-axis tick labels, etc.\n",
        "ax.set_ylabel('CHD Negative')\n",
        "ax.set_title(\"CHD Negative by Risk Factors\\n\")\n",
        "\n",
        "ax.set_xticks(x)\n",
        "ax.set_xticklabels(labels,rotation='vertical')\n",
        "ax.set_xlabel('Risk Factors')\n",
        "ax.legend()\n",
        "\n",
        "\n",
        "def autolabel(rects):\n",
        "    \"\"\"Attach a text label above each bar in *rects*, displaying its height.\"\"\"\n",
        "    for rect in rects:\n",
        "        height = rect.get_height()\n",
        "        ax.annotate('{}'.format(height),\n",
        "                    xy=(rect.get_x() + rect.get_width() / 2, height),\n",
        "                    xytext=(0, 3),  # 3 points vertical offset\n",
        "                    textcoords=\"offset points\",\n",
        "                    ha='center', va='bottom')\n",
        "\n",
        "\n",
        "autolabel(rects1)\n",
        "autolabel(rects2)\n",
        "autolabel(rects3)\n",
        "fig.tight_layout()\n",
        "\n",
        "plt.show()"
      ],
      "execution_count": 75,
      "outputs": [
        {
          "output_type": "display_data",
          "data": {
            "image/png": "[encoded data removed]",
            "text/plain": [
              "<Figure size 432x288 with 1 Axes>"
            ]
          },
          "metadata": {
            "tags": [],
            "needs_background": "light"
          }
        }
      ]
    },
    {
      "cell_type": "code",
      "metadata": {
        "id": "HuM1HNpMEwwQ",
        "colab_type": "code",
        "colab": {
          "base_uri": "https://localhost:8080/",
          "height": 297
        },
        "outputId": "1327303f-7d54-4629-a176-8986e713007d"
      },
      "source": [
        "# plot for CHD posetive\n",
        "\n",
        "labels = ['sbp', 'tobacco', 'ldl', 'adioposity', 'type a', 'obesity', 'alcohol', 'age']\n",
        "chd_pve_under_lower_confinterval = [174, 206, 89, 153, 1, 126, 203, 171]\n",
        "chd_pve_under_between_confinterval = [33, 18, 69, 20, 2, 50, 15,12]\n",
        "chd_pve_over_upper_confinterval = [95, 60, 78, 129, 299, 126, 84, 119]\n",
        "\n",
        "x = np.arange(len(labels))  # the label locations\n",
        "width = 0.5  # the width of the bars\n",
        "\n",
        "fig, ax = plt.subplots()\n",
        "rects1 = ax.bar(x - width/2, chd_pve_under_lower_confinterval, width, label='Below confidence interval')\n",
        "rects2 = ax.bar(x, chd_pve_under_between_confinterval, width, label='Between confidence interval')\n",
        "rects3 = ax.bar(x + width/2, chd_pve_over_upper_confinterval, width, label='Above confidence interval')\n",
        "\n",
        "# Add some text for labels, title and custom x-axis tick labels, etc.\n",
        "ax.set_ylabel('CHD Posetive')\n",
        "ax.set_title(\"CHD Posetive by Risk Factors\\n\")\n",
        "ax.set_xlabel('Risk Factors')\n",
        "ax.set_xticks(x)\n",
        "ax.set_xticklabels(labels,rotation='vertical')\n",
        "ax.legend()\n",
        "\n",
        "\n",
        "def autolabel(rects):\n",
        "    \"\"\"Attach a text label above each bar in *rects*, displaying its height.\"\"\"\n",
        "    for rect in rects:\n",
        "        height = rect.get_height()\n",
        "        ax.annotate('{}'.format(height),\n",
        "                    xy=(rect.get_x() + rect.get_width() / 2, height),\n",
        "                    xytext=(0, 3),  # 3 points vertical offset\n",
        "                    textcoords=\"offset points\",\n",
        "                    ha='center', va='bottom')\n",
        "\n",
        "\n",
        "autolabel(rects1)\n",
        "autolabel(rects2)\n",
        "autolabel(rects3)\n",
        "fig.tight_layout()\n",
        "\n",
        "plt.show()"
      ],
      "execution_count": 76,
      "outputs": [
        {
          "output_type": "display_data",
          "data": {
            "image/png": "[encoded data removed]",
            "text/plain": [
              "<Figure size 432x288 with 1 Axes>"
            ]
          },
          "metadata": {
            "tags": [],
            "needs_background": "light"
          }
        }
      ]
    },
    {
      "cell_type": "code",
      "metadata": {
        "id": "iGN0uV-Vefcd",
        "colab_type": "code",
        "colab": {
          "base_uri": "https://localhost:8080/",
          "height": 292
        },
        "outputId": "61cb2abd-2797-4fc0-80a2-da08a7fac17d"
      },
      "source": [
        "#\n",
        "#%matplotlib inline\n",
        "import matplotlib.pyplot as plt\n",
        "import seaborn as sns\n",
        "# we have to see each features the crosstab with coronary heart disease\n",
        "# age group ('0' means age<=42, '1' means 42< age <= 44 and '2' means age >44) \n",
        "# and coronary heart disease ('0' means absent and '1' means present)\n",
        "small_df_cr=pd.crosstab(df['chd'], df['agegroup'])\n",
        "small_df_cr.plot.bar()\n",
        "plt.title('Age group vs Coronary heart disease')\n",
        "plt.show()\n"
      ],
      "execution_count": 63,
      "outputs": [
        {
          "output_type": "display_data",
          "data": {
            "image/png": "[encoded data removed]",
            "text/plain": [
              "<Figure size 432x288 with 1 Axes>"
            ]
          },
          "metadata": {
            "tags": [],
            "needs_background": "light"
          }
        }
      ]
    },
    {
      "cell_type": "code",
      "metadata": {
        "id": "kACjRiAkPyzm",
        "colab_type": "code",
        "colab": {
          "base_uri": "https://localhost:8080/",
          "height": 297
        },
        "outputId": "9ce09462-4fde-4c1e-b14a-496f13b90b65"
      },
      "source": [
        "labels = ['age <= 42 ', '42 < age <= 44 ', 'age >= 45']\n",
        "chd_nve = [171, 12, 119]\n",
        "chd_pve = [40, 4, 116]\n",
        "\n",
        "x = np.arange(len(labels))  # the label locations\n",
        "width = 0.3  # the width of the bars\n",
        "\n",
        "fig, ax = plt.subplots()\n",
        "rects1 = ax.bar(x - width/2, chd_nve, width, label='CHD Negative')\n",
        "\n",
        "rects2 = ax.bar(x + width/2, chd_pve, width, label='CHD Posetive')\n",
        "\n",
        "# Add some text for labels, title and custom x-axis tick labels, etc.\n",
        "ax.set_ylabel('CHD Total Number')\n",
        "ax.set_title(\"CHD by Age Risk Factors\\n\")\n",
        "ax.set_xlabel('Age Onset')\n",
        "ax.set_xticks(x)\n",
        "ax.set_xticklabels(labels,rotation='vertical')\n",
        "\n",
        "ax.legend()\n",
        "\n",
        "\n",
        "def autolabel(rects):\n",
        "    \"\"\"Attach a text label above each bar in *rects*, displaying its height.\"\"\"\n",
        "    for rect in rects:\n",
        "        height = rect.get_height()\n",
        "        ax.annotate('{}'.format(height),\n",
        "                    xy=(rect.get_x() + rect.get_width() / 2, height),\n",
        "                    xytext=(0, 3),  # 3 points vertical offset\n",
        "                    textcoords=\"offset points\",\n",
        "                    ha='center', va='bottom')\n",
        "\n",
        "\n",
        "autolabel(rects1)\n",
        "autolabel(rects2)\n",
        "\n",
        "fig.tight_layout()\n",
        "\n",
        "plt.show()"
      ],
      "execution_count": 73,
      "outputs": [
        {
          "output_type": "display_data",
          "data": {
            "image/png": "[encoded data removed]",
            "text/plain": [
              "<Figure size 432x288 with 1 Axes>"
            ]
          },
          "metadata": {
            "tags": [],
            "needs_background": "light"
          }
        }
      ]
    },
    {
      "cell_type": "code",
      "metadata": {
        "id": "WDGZyfE9TZzQ",
        "colab_type": "code",
        "colab": {
          "base_uri": "https://localhost:8080/",
          "height": 297
        },
        "outputId": "1ef5f5bd-df87-4b3c-af9d-8f5b340e82c7"
      },
      "source": [
        "labels = ['Absent', 'Present']\n",
        "chd_nve = [206, 96]\n",
        "chd_pve = [68, 92]\n",
        "\n",
        "x = np.arange(len(labels))  # the label locations\n",
        "width = 0.3  # the width of the bars\n",
        "\n",
        "fig, ax = plt.subplots()\n",
        "rects1 = ax.bar(x - width/2, chd_nve, width, label='CHD Negative')\n",
        "\n",
        "rects2 = ax.bar(x + width/2, chd_pve, width, label='CHD Posetive')\n",
        "\n",
        "# Add some text for labels, title and custom x-axis tick labels, etc.\n",
        "ax.set_ylabel('CHD Total Number')\n",
        "ax.set_title(\"CHD by Family History Risk Factors\\n\")\n",
        "ax.set_xlabel('Family History of Heart Disease')\n",
        "ax.set_xticks(x)\n",
        "ax.set_xticklabels(labels,rotation='vertical')\n",
        "\n",
        "ax.legend()\n",
        "\n",
        "\n",
        "def autolabel(rects):\n",
        "    \"\"\"Attach a text label above each bar in *rects*, displaying its height.\"\"\"\n",
        "    for rect in rects:\n",
        "        height = rect.get_height()\n",
        "        ax.annotate('{}'.format(height),\n",
        "                    xy=(rect.get_x() + rect.get_width() / 2, height),\n",
        "                    xytext=(0, 3),  # 3 points vertical offset\n",
        "                    textcoords=\"offset points\",\n",
        "                    ha='center', va='bottom')\n",
        "\n",
        "\n",
        "autolabel(rects1)\n",
        "autolabel(rects2)\n",
        "\n",
        "fig.tight_layout()\n",
        "\n",
        "plt.show()"
      ],
      "execution_count": 72,
      "outputs": [
        {
          "output_type": "display_data",
          "data": {
            "image/png": "[encoded data removed]",
            "text/plain": [
              "<Figure size 432x288 with 1 Axes>"
            ]
          },
          "metadata": {
            "tags": [],
            "needs_background": "light"
          }
        }
      ]
    },
    {
      "cell_type": "code",
      "metadata": {
        "id": "1weX0LAJkneE",
        "colab_type": "code",
        "colab": {
          "base_uri": "https://localhost:8080/",
          "height": 202
        },
        "outputId": "9be6a0e3-4e61-43cf-99ce-1b1c260bf291"
      },
      "source": [
        "chd_negative = df_new[df_new['chd']==0]\n",
        "chd_negative.head()"
      ],
      "execution_count": null,
      "outputs": [
        {
          "output_type": "execute_result",
          "data": {
            "text/html": [
              "<div>\n",
              "<style scoped>\n",
              "    .dataframe tbody tr th:only-of-type {\n",
              "        vertical-align: middle;\n",
              "    }\n",
              "\n",
              "    .dataframe tbody tr th {\n",
              "        vertical-align: top;\n",
              "    }\n",
              "\n",
              "    .dataframe thead th {\n",
              "        text-align: right;\n",
              "    }\n",
              "</style>\n",
              "<table border=\"1\" class=\"dataframe\">\n",
              "  <thead>\n",
              "    <tr style=\"text-align: right;\">\n",
              "      <th></th>\n",
              "      <th>sbpgroup</th>\n",
              "      <th>tobaccogroup</th>\n",
              "      <th>ldlgroup</th>\n",
              "      <th>adipositygroup</th>\n",
              "      <th>famhist</th>\n",
              "      <th>typeagroup</th>\n",
              "      <th>obesitygroup</th>\n",
              "      <th>alcoholgroup</th>\n",
              "      <th>agegroup</th>\n",
              "      <th>chd</th>\n",
              "    </tr>\n",
              "  </thead>\n",
              "  <tbody>\n",
              "    <tr>\n",
              "      <th>2</th>\n",
              "      <td>0.0</td>\n",
              "      <td>0.0</td>\n",
              "      <td>1.0</td>\n",
              "      <td>2.0</td>\n",
              "      <td>1</td>\n",
              "      <td>2.0</td>\n",
              "      <td>2.0</td>\n",
              "      <td>0.0</td>\n",
              "      <td>2.0</td>\n",
              "      <td>0</td>\n",
              "    </tr>\n",
              "    <tr>\n",
              "      <th>5</th>\n",
              "      <td>0.0</td>\n",
              "      <td>2.0</td>\n",
              "      <td>2.0</td>\n",
              "      <td>2.0</td>\n",
              "      <td>1</td>\n",
              "      <td>2.0</td>\n",
              "      <td>2.0</td>\n",
              "      <td>0.0</td>\n",
              "      <td>2.0</td>\n",
              "      <td>0</td>\n",
              "    </tr>\n",
              "    <tr>\n",
              "      <th>6</th>\n",
              "      <td>2.0</td>\n",
              "      <td>1.0</td>\n",
              "      <td>1.0</td>\n",
              "      <td>0.0</td>\n",
              "      <td>0</td>\n",
              "      <td>2.0</td>\n",
              "      <td>0.0</td>\n",
              "      <td>0.0</td>\n",
              "      <td>0.0</td>\n",
              "      <td>0</td>\n",
              "    </tr>\n",
              "    <tr>\n",
              "      <th>8</th>\n",
              "      <td>0.0</td>\n",
              "      <td>0.0</td>\n",
              "      <td>1.0</td>\n",
              "      <td>0.0</td>\n",
              "      <td>1</td>\n",
              "      <td>2.0</td>\n",
              "      <td>1.0</td>\n",
              "      <td>0.0</td>\n",
              "      <td>0.0</td>\n",
              "      <td>0</td>\n",
              "    </tr>\n",
              "    <tr>\n",
              "      <th>12</th>\n",
              "      <td>0.0</td>\n",
              "      <td>0.0</td>\n",
              "      <td>0.0</td>\n",
              "      <td>0.0</td>\n",
              "      <td>0</td>\n",
              "      <td>2.0</td>\n",
              "      <td>0.0</td>\n",
              "      <td>0.0</td>\n",
              "      <td>0.0</td>\n",
              "      <td>0</td>\n",
              "    </tr>\n",
              "  </tbody>\n",
              "</table>\n",
              "</div>"
            ],
            "text/plain": [
              "    sbpgroup  tobaccogroup  ldlgroup  ...  alcoholgroup  agegroup  chd\n",
              "2        0.0           0.0       1.0  ...           0.0       2.0    0\n",
              "5        0.0           2.0       2.0  ...           0.0       2.0    0\n",
              "6        2.0           1.0       1.0  ...           0.0       0.0    0\n",
              "8        0.0           0.0       1.0  ...           0.0       0.0    0\n",
              "12       0.0           0.0       0.0  ...           0.0       0.0    0\n",
              "\n",
              "[5 rows x 10 columns]"
            ]
          },
          "metadata": {
            "tags": []
          },
          "execution_count": 32
        }
      ]
    },
    {
      "cell_type": "code",
      "metadata": {
        "id": "smXIfviPlS_k",
        "colab_type": "code",
        "colab": {
          "base_uri": "https://localhost:8080/",
          "height": 202
        },
        "outputId": "088eb5dd-e5ff-4f69-d2a9-5b0fb7f0e3b8"
      },
      "source": [
        "chd_posetive = df_new[df_new['chd']==1]\n",
        "chd_posetive.head()"
      ],
      "execution_count": null,
      "outputs": [
        {
          "output_type": "execute_result",
          "data": {
            "text/html": [
              "<div>\n",
              "<style scoped>\n",
              "    .dataframe tbody tr th:only-of-type {\n",
              "        vertical-align: middle;\n",
              "    }\n",
              "\n",
              "    .dataframe tbody tr th {\n",
              "        vertical-align: top;\n",
              "    }\n",
              "\n",
              "    .dataframe thead th {\n",
              "        text-align: right;\n",
              "    }\n",
              "</style>\n",
              "<table border=\"1\" class=\"dataframe\">\n",
              "  <thead>\n",
              "    <tr style=\"text-align: right;\">\n",
              "      <th></th>\n",
              "      <th>sbpgroup</th>\n",
              "      <th>tobaccogroup</th>\n",
              "      <th>ldlgroup</th>\n",
              "      <th>adipositygroup</th>\n",
              "      <th>famhist</th>\n",
              "      <th>typeagroup</th>\n",
              "      <th>obesitygroup</th>\n",
              "      <th>alcoholgroup</th>\n",
              "      <th>agegroup</th>\n",
              "      <th>chd</th>\n",
              "    </tr>\n",
              "  </thead>\n",
              "  <tbody>\n",
              "    <tr>\n",
              "      <th>0</th>\n",
              "      <td>2.0</td>\n",
              "      <td>2.0</td>\n",
              "      <td>2.0</td>\n",
              "      <td>0.0</td>\n",
              "      <td>1</td>\n",
              "      <td>2.0</td>\n",
              "      <td>1.0</td>\n",
              "      <td>2.0</td>\n",
              "      <td>2.0</td>\n",
              "      <td>1</td>\n",
              "    </tr>\n",
              "    <tr>\n",
              "      <th>1</th>\n",
              "      <td>2.0</td>\n",
              "      <td>0.0</td>\n",
              "      <td>2.0</td>\n",
              "      <td>2.0</td>\n",
              "      <td>0</td>\n",
              "      <td>2.0</td>\n",
              "      <td>2.0</td>\n",
              "      <td>0.0</td>\n",
              "      <td>2.0</td>\n",
              "      <td>1</td>\n",
              "    </tr>\n",
              "    <tr>\n",
              "      <th>3</th>\n",
              "      <td>2.0</td>\n",
              "      <td>2.0</td>\n",
              "      <td>2.0</td>\n",
              "      <td>2.0</td>\n",
              "      <td>1</td>\n",
              "      <td>2.0</td>\n",
              "      <td>2.0</td>\n",
              "      <td>2.0</td>\n",
              "      <td>2.0</td>\n",
              "      <td>1</td>\n",
              "    </tr>\n",
              "    <tr>\n",
              "      <th>4</th>\n",
              "      <td>0.0</td>\n",
              "      <td>2.0</td>\n",
              "      <td>1.0</td>\n",
              "      <td>2.0</td>\n",
              "      <td>1</td>\n",
              "      <td>2.0</td>\n",
              "      <td>1.0</td>\n",
              "      <td>2.0</td>\n",
              "      <td>2.0</td>\n",
              "      <td>1</td>\n",
              "    </tr>\n",
              "    <tr>\n",
              "      <th>7</th>\n",
              "      <td>0.0</td>\n",
              "      <td>1.0</td>\n",
              "      <td>2.0</td>\n",
              "      <td>0.0</td>\n",
              "      <td>1</td>\n",
              "      <td>2.0</td>\n",
              "      <td>0.0</td>\n",
              "      <td>0.0</td>\n",
              "      <td>2.0</td>\n",
              "      <td>1</td>\n",
              "    </tr>\n",
              "  </tbody>\n",
              "</table>\n",
              "</div>"
            ],
            "text/plain": [
              "   sbpgroup  tobaccogroup  ldlgroup  ...  alcoholgroup  agegroup  chd\n",
              "0       2.0           2.0       2.0  ...           2.0       2.0    1\n",
              "1       2.0           0.0       2.0  ...           0.0       2.0    1\n",
              "3       2.0           2.0       2.0  ...           2.0       2.0    1\n",
              "4       0.0           2.0       1.0  ...           2.0       2.0    1\n",
              "7       0.0           1.0       2.0  ...           0.0       2.0    1\n",
              "\n",
              "[5 rows x 10 columns]"
            ]
          },
          "metadata": {
            "tags": []
          },
          "execution_count": 33
        }
      ]
    },
    {
      "cell_type": "markdown",
      "metadata": {
        "id": "_12VhTUj38wT",
        "colab_type": "text"
      },
      "source": [
        "# Statistical Test"
      ]
    },
    {
      "cell_type": "markdown",
      "metadata": {
        "id": "dOfcuWNJOm0s",
        "colab_type": "text"
      },
      "source": [
        "Two sample t-test on systolic blood pressure  coronary heart disease posetive more than  coronary heart disease negative\n",
        "\n",
        "1. Null Hypothhesis: coronary  heart disease negative is  the same as  coronary heart disease posetive on systolic blood pressure \n",
        " $H_0: \\bar{x}_n = \\bar{x}_p$\n",
        "2. Alternative Hypothesis:  coronary heart disease negative is  not the same as  coronary heart disease posetive  on systolic blood pressure  \n",
        "$H_a: \\bar{x}_n != \\bar{x}_p$ \n",
        "3. Confidence level: 95%"
      ]
    },
    {
      "cell_type": "code",
      "metadata": {
        "id": "Kc-6YtykOuJO",
        "colab_type": "code",
        "colab": {
          "base_uri": "https://localhost:8080/",
          "height": 35
        },
        "outputId": "03f8e6df-9050-49ce-adb7-7194e3d0b28d"
      },
      "source": [
        "# systolic blood pressure (sbp)\n",
        "from scipy import stats\n",
        "stats.ttest_ind(chd_negative['sbpgroup'], chd_posetive['sbpgroup'])"
      ],
      "execution_count": null,
      "outputs": [
        {
          "output_type": "execute_result",
          "data": {
            "text/plain": [
              "Ttest_indResult(statistic=-3.5174489830265805, pvalue=0.000478985312531083)"
            ]
          },
          "metadata": {
            "tags": []
          },
          "execution_count": 34
        }
      ]
    },
    {
      "cell_type": "markdown",
      "metadata": {
        "id": "YChNR43DOviz",
        "colab_type": "text"
      },
      "source": [
        "**Conclusion**: Given a t-statistic of -3.5, and p-value of 0, we reject the null hypothesis that coronary heart disease negative is the same as coronary heart disease posetive on systolic blood pressure. This suggests the alternative that they are not the same on systolic blood pressure. From the t-statistics sign the average systolic blood pressure for coronary heart disease posetive is bigger."
      ]
    },
    {
      "cell_type": "markdown",
      "metadata": {
        "id": "M-v7WQTwIEnm",
        "colab_type": "text"
      },
      "source": [
        "Two sample t-test on tobacco  coronary heart disease posetive more than  coronary heart disease negative\n",
        "\n",
        "1. Null Hypothhesis: coronary  heart disease negative is  the same as  coronary heart disease posetive on tobacco \n",
        " $H_0: \\bar{x}_n = \\bar{x}_p$\n",
        "2. Alternative Hypothesis:  coronary heart disease negative is  not the same as  coronary heart disease posetive  on tobacco  \n",
        "$H_a: \\bar{x}_n != \\bar{x}_p$ \n",
        "3. Confidence level: 95%"
      ]
    },
    {
      "cell_type": "code",
      "metadata": {
        "id": "h3TGWOQStFaa",
        "colab_type": "code",
        "colab": {
          "base_uri": "https://localhost:8080/",
          "height": 35
        },
        "outputId": "3cf777ac-82b6-4247-a11d-5f9dcb36df23"
      },
      "source": [
        "# tobacco\n",
        "from scipy import stats\n",
        "stats.ttest_ind(chd_negative['tobaccogroup'], chd_posetive['tobaccogroup'])"
      ],
      "execution_count": null,
      "outputs": [
        {
          "output_type": "execute_result",
          "data": {
            "text/plain": [
              "Ttest_indResult(statistic=-5.478631171393912, pvalue=7.070434779990596e-08)"
            ]
          },
          "metadata": {
            "tags": []
          },
          "execution_count": 35
        }
      ]
    },
    {
      "cell_type": "markdown",
      "metadata": {
        "id": "Ef6FmOKvJtSE",
        "colab_type": "text"
      },
      "source": [
        "**Conclusion**: Given a t-statistic of -5.5, and p-value of 0, we reject the null hypothesis that coronary heart disease negative is the same as coronary heart disease posetive on tobacco. This suggests the alternative that they are not the same on tobacco consumption. From the t-statistics sign the average tobacco consumption for coronary heart disease posetive is bigger."
      ]
    },
    {
      "cell_type": "markdown",
      "metadata": {
        "id": "oJooYka5ZBy_",
        "colab_type": "text"
      },
      "source": [
        "Two sample t-test on low densiity lipoprotein cholesterol  coronary heart disease posetive more than  coronary heart disease negative\n",
        "\n",
        "1. Null Hypothhesis: coronary  heart disease negative is  the same as  coronary heart disease posetive on low densiity lipoprotein cholesterol \n",
        " $H_0: \\bar{x}_n = \\bar{x}_p$\n",
        "2. Alternative Hypothesis:  coronary heart disease negative is  not the same as  coronary heart disease posetive  on low densiity lipoprotein cholesterol  \n",
        "$H_a: \\bar{x}_n != \\bar{x}_p$ \n",
        "3. Confidence level: 95%"
      ]
    },
    {
      "cell_type": "code",
      "metadata": {
        "id": "56bhFU-UZEPN",
        "colab_type": "code",
        "colab": {
          "base_uri": "https://localhost:8080/",
          "height": 35
        },
        "outputId": "70b7fb4c-5dc2-4f8c-a003-53cd289ce296"
      },
      "source": [
        "#ldl: low density lipoprotein\n",
        "stats.ttest_ind(chd_negative['ldlgroup'], chd_posetive['ldlgroup'])"
      ],
      "execution_count": null,
      "outputs": [
        {
          "output_type": "execute_result",
          "data": {
            "text/plain": [
              "Ttest_indResult(statistic=-5.199121905210358, pvalue=3.0181377247453295e-07)"
            ]
          },
          "metadata": {
            "tags": []
          },
          "execution_count": 36
        }
      ]
    },
    {
      "cell_type": "markdown",
      "metadata": {
        "id": "Y7pU4ldSZFH5",
        "colab_type": "text"
      },
      "source": [
        "**Conclusion**: Given a t-statistic of -5.2, and p-value of 0, we reject the null hypothesis that coronary heart disease negative is the same as coronary heart disease posetive on ldl: low density lipoprotein. This suggests the alternative that they are not the same on ldl: low density lipoprotein. From the t-statistics sign the average ldl: low density lipoprotein for coronary heart disease posetive is bigger."
      ]
    },
    {
      "cell_type": "markdown",
      "metadata": {
        "id": "PUik9_z-aZo-",
        "colab_type": "text"
      },
      "source": [
        "Two sample t-test on adiposity coronary heart disease posetive more than  coronary heart disease negative\n",
        "\n",
        "1. Null Hypothhesis: coronary  heart disease negative is  the same as  coronary heart disease posetive on adiposity \n",
        " $H_0: \\bar{x}_n = \\bar{x}_p$\n",
        "2. Alternative Hypothesis:  coronary heart disease negative is  not the same as  coronary heart disease posetive on adiposity\n",
        "$H_a: \\bar{x}_n != \\bar{x}_p$ \n",
        "3. Confidence level: 95%"
      ]
    },
    {
      "cell_type": "code",
      "metadata": {
        "id": "7SO_UcP4aivk",
        "colab_type": "code",
        "colab": {
          "base_uri": "https://localhost:8080/",
          "height": 35
        },
        "outputId": "ea47076e-c38b-4857-9130-54824c5eace8"
      },
      "source": [
        "# adiposity\n",
        "stats.ttest_ind(chd_negative['adipositygroup'], chd_posetive['adipositygroup'])"
      ],
      "execution_count": null,
      "outputs": [
        {
          "output_type": "execute_result",
          "data": {
            "text/plain": [
              "Ttest_indResult(statistic=-4.5834987219730206, pvalue=5.89924313037906e-06)"
            ]
          },
          "metadata": {
            "tags": []
          },
          "execution_count": 37
        }
      ]
    },
    {
      "cell_type": "markdown",
      "metadata": {
        "id": "D8u4yWCDajfW",
        "colab_type": "text"
      },
      "source": [
        "\n",
        "**Conclusion**: Given a t-statistic of -5.2, and p-value of 0, we reject the null hypothesis that coronary heart disease negative is the same as coronary heart disease posetive on adiposity. This suggests the alternative that they are not the same on adiposity. From the t-statistics sign the average adiposity for coronary heart disease posetive is bigger.\n"
      ]
    },
    {
      "cell_type": "markdown",
      "metadata": {
        "id": "uWb9FKZsdJbl",
        "colab_type": "text"
      },
      "source": [
        "Two sample t-test on famhist: family history of heart disease (Present, Absent) coronary heart disease posetive more than  coronary heart disease negative\n",
        "\n",
        "1. Null Hypothhesis: coronary  heart disease negative is  the same as  coronary heart disease posetive on famhist: family history of heart disease (Present, Absent) \n",
        " $H_0: \\bar{x}_n = \\bar{x}_p$\n",
        "2. Alternative Hypothesis:  coronary heart disease negative is  not the same as  coronary heart disease posetive on famhist: family history of heart disease (Present, Absent)\n",
        "$H_a: \\bar{x}_n != \\bar{x}_p$ \n",
        "3. Confidence level: 95%"
      ]
    },
    {
      "cell_type": "code",
      "metadata": {
        "id": "j6QTLZh7dNX7",
        "colab_type": "code",
        "colab": {
          "base_uri": "https://localhost:8080/",
          "height": 35
        },
        "outputId": "39fd385f-90f8-4683-a752-a3cf297ffb00"
      },
      "source": [
        "# famhist: family history of heart disease (Present, Absent)\n",
        "stats.ttest_ind(chd_negative['famhist'], chd_posetive['famhist'])"
      ],
      "execution_count": null,
      "outputs": [
        {
          "output_type": "execute_result",
          "data": {
            "text/plain": [
              "Ttest_indResult(statistic=-6.071288544960015, pvalue=2.6576285226962867e-09)"
            ]
          },
          "metadata": {
            "tags": []
          },
          "execution_count": 39
        }
      ]
    },
    {
      "cell_type": "markdown",
      "metadata": {
        "id": "-fgbC9i1dN6Z",
        "colab_type": "text"
      },
      "source": [
        "**Conclusion**: Given a t-statistic of -6.1, and p-value of 0, we reject the null hypothesis that coronary heart disease negative is the same as coronary heart disease posetive on famhist: family history of heart disease (Present, Absent). This suggests the alternative that they are not the same on famhist: family history of heart disease (Present, Absent). From the t-statistics sign the average famhist: family history of heart disease (Present, Absent) for coronary heart disease posetive is bigger."
      ]
    },
    {
      "cell_type": "markdown",
      "metadata": {
        "id": "xxZZhfbQevL-",
        "colab_type": "text"
      },
      "source": [
        "Two sample t-test on typea: type-A behavior coronary heart disease posetive more than  coronary heart disease negative\n",
        "\n",
        "1. Null Hypothhesis: coronary  heart disease negative is  the same as  coronary heart disease posetive on typea: type-A behavior \n",
        " $H_0: \\bar{x}_n = \\bar{x}_p$\n",
        "2. Alternative Hypothesis:  coronary heart disease negative is  not the same as  coronary heart disease posetive on typea: type-A behavior\n",
        "$H_a: \\bar{x}_n != \\bar{x}_p$ \n",
        "3. Confidence level: 95%"
      ]
    },
    {
      "cell_type": "code",
      "metadata": {
        "id": "m7G3KI8mexG2",
        "colab_type": "code",
        "colab": {
          "base_uri": "https://localhost:8080/",
          "height": 35
        },
        "outputId": "510c1b21-4715-46a2-9485-27a000342498"
      },
      "source": [
        "# typea: type-A behavior\n",
        "stats.ttest_ind(chd_negative['typeagroup'], chd_posetive['typeagroup'])"
      ],
      "execution_count": 40,
      "outputs": [
        {
          "output_type": "execute_result",
          "data": {
            "text/plain": [
              "Ttest_indResult(statistic=-0.051879635946935676, pvalue=0.9586471213636275)"
            ]
          },
          "metadata": {
            "tags": []
          },
          "execution_count": 40
        }
      ]
    },
    {
      "cell_type": "markdown",
      "metadata": {
        "id": "HZZymKXoexrG",
        "colab_type": "text"
      },
      "source": [
        "**Conclusion**: Given a t-statistic of -6.1, and p-value of 0.96, we fail to reject the null hypothesis that coronary heart disease negative is the same as coronary heart disease posetive on typea: type-A behavior. THey are statistically the same. From the t-statistics sign the average typea: type-A behavior for coronary heart disease posetive is bigger."
      ]
    },
    {
      "cell_type": "markdown",
      "metadata": {
        "id": "grjApaO0gWQp",
        "colab_type": "text"
      },
      "source": [
        "Two sample t-test on obesity coronary heart disease posetive more than  coronary heart disease negative\n",
        "\n",
        "1. Null Hypothhesis: coronary  heart disease negative is  the same as  coronary heart disease posetive on obesity \n",
        " $H_0: \\bar{x}_n = \\bar{x}_p$\n",
        "2. Alternative Hypothesis:  coronary heart disease negative is  not the same as  coronary heart disease posetive on obesity\n",
        "$H_a: \\bar{x}_n != \\bar{x}_p$ \n",
        "3. Confidence level: 95%"
      ]
    },
    {
      "cell_type": "code",
      "metadata": {
        "id": "lO2ZIVJKgXKQ",
        "colab_type": "code",
        "colab": {
          "base_uri": "https://localhost:8080/",
          "height": 35
        },
        "outputId": "dda8f4b3-f0e4-46fb-d783-813256895f64"
      },
      "source": [
        "# obesity\n",
        "stats.ttest_ind(chd_negative['obesitygroup'], chd_posetive['obesitygroup'])"
      ],
      "execution_count": 41,
      "outputs": [
        {
          "output_type": "execute_result",
          "data": {
            "text/plain": [
              "Ttest_indResult(statistic=-2.239814682832712, pvalue=0.025579884302771107)"
            ]
          },
          "metadata": {
            "tags": []
          },
          "execution_count": 41
        }
      ]
    },
    {
      "cell_type": "markdown",
      "metadata": {
        "id": "xcxEgeNNgXkO",
        "colab_type": "text"
      },
      "source": [
        "**Conclusion**: Given a t-statistic of -2.2, and p-value of 0.03, we reject the null hypothesis that coronary heart disease negative is the same as coronary heart disease posetive on obesity. This suggests the alternative that they are not the same on obesity. From the t-statistics sign the average obesity for coronary heart disease posetive is bigger."
      ]
    },
    {
      "cell_type": "markdown",
      "metadata": {
        "id": "HNB0fF-5iEX9",
        "colab_type": "text"
      },
      "source": [
        "Two sample t-test on alcohol: current alcohol consumption coronary heart disease posetive more than  coronary heart disease negative\n",
        "\n",
        "1. Null Hypothhesis: coronary  heart disease negative is  the same as  coronary heart disease posetive on alcohol: current alcohol consumption \n",
        " $H_0: \\bar{x}_n = \\bar{x}_p$\n",
        "2. Alternative Hypothesis:  coronary heart disease negative is  not the same as  coronary heart disease posetive on alcohol: current alcohol consumption\n",
        "$H_a: \\bar{x}_n != \\bar{x}_p$ \n",
        "3. Confidence level: 95%"
      ]
    },
    {
      "cell_type": "code",
      "metadata": {
        "id": "wqVBzfmwiGKA",
        "colab_type": "code",
        "colab": {
          "base_uri": "https://localhost:8080/",
          "height": 35
        },
        "outputId": "294494f7-fb3e-4650-8216-1fd4f75bd993"
      },
      "source": [
        "#alcohol: current alcohol consumption\n",
        "stats.ttest_ind(chd_negative['alcoholgroup'], chd_posetive['alcoholgroup'])"
      ],
      "execution_count": 42,
      "outputs": [
        {
          "output_type": "execute_result",
          "data": {
            "text/plain": [
              "Ttest_indResult(statistic=-1.3359075086154328, pvalue=0.18224003986113624)"
            ]
          },
          "metadata": {
            "tags": []
          },
          "execution_count": 42
        }
      ]
    },
    {
      "cell_type": "markdown",
      "metadata": {
        "id": "YMTh9I28iG9n",
        "colab_type": "text"
      },
      "source": [
        "**Conclusion**: Given a t-statistic of -1.3, and p-value of 0.18, we fail to reject the null hypothesis that coronary heart disease negative is the same as coronary heart disease posetive on alcohol: current alcohol consumption. THey are statistically the same. From the t-statistics sign the average alcohol: current alcohol consumption for coronary heart disease posetive is bigger."
      ]
    },
    {
      "cell_type": "markdown",
      "metadata": {
        "id": "iyiakwEMjgud",
        "colab_type": "text"
      },
      "source": [
        "Two sample t-test on age: age at onset coronary heart disease posetive more than  coronary heart disease negative\n",
        "\n",
        "1. Null Hypothhesis: coronary  heart disease negative is  the same as  coronary heart disease posetive on age: age at onset \n",
        " $H_0: \\bar{x}_n = \\bar{x}_p$\n",
        "2. Alternative Hypothesis:  coronary heart disease negative is  not the same as  coronary heart disease posetive on age: age at onset\n",
        "$H_a: \\bar{x}_n != \\bar{x}_p$ \n",
        "3. Confidence level: 95%"
      ]
    },
    {
      "cell_type": "code",
      "metadata": {
        "id": "vOEaVjQkjhOC",
        "colab_type": "code",
        "colab": {
          "base_uri": "https://localhost:8080/",
          "height": 35
        },
        "outputId": "555b8526-793e-4254-9795-d41971f77f34"
      },
      "source": [
        "#age: age at onset\n",
        "stats.ttest_ind(chd_negative['agegroup'], chd_posetive['agegroup'])"
      ],
      "execution_count": 43,
      "outputs": [
        {
          "output_type": "execute_result",
          "data": {
            "text/plain": [
              "Ttest_indResult(statistic=-7.089359280211076, pvalue=5.103180619783326e-12)"
            ]
          },
          "metadata": {
            "tags": []
          },
          "execution_count": 43
        }
      ]
    },
    {
      "cell_type": "markdown",
      "metadata": {
        "id": "d7EFLTP4jh2_",
        "colab_type": "text"
      },
      "source": [
        "**Conclusion**: Given a t-statistic of -7.1, and p-value of 0, we reject the null hypothesis that coronary heart disease negative is the same as coronary heart disease posetive on age: age at onset. This suggests the alternative that they are not the same on age: age at onset. From the t-statistics sign the average age: age at onset for coronary heart disease posetive is bigger."
      ]
    },
    {
      "cell_type": "markdown",
      "metadata": {
        "id": "bSNDD8dMvXhF",
        "colab_type": "text"
      },
      "source": [
        "# Summary and Conclusion"
      ]
    },
    {
      "cell_type": "markdown",
      "metadata": {
        "id": "ZE4BUnXdve7u",
        "colab_type": "text"
      },
      "source": [
        "From above we have seen that the data analysis and the visualization of the data set, we clearly see the distrbution of each feature with CHD, we see the table of a correlation for the data set. Depending on the result of the correlation table I take the first five high value of correlation coefficient of CHD and other risk factors. So, from nine risk factors of CHD we took five of them ('age', 'low density lipoprotein','family history', 'tobacco', 'adiposity') and create a new data set. According to our 2-sample t-test all the risk factors show the null hypothesis that is the average value of CHD negative is the same as the average value of CHD posetive is rejected for all five risk factors, which implies the average value of CHD negative is not the same as the average value of CHD posetive. On the other hand, the sign of the t-statistics shows as the average value for CHD posetive is greater than CHD neagative. The higher the t-statistics shows us the net difference between the means are high. From our t-test for five risk factors the t-statistics value of age and CHD is higher than others and also age and CHD has the higher correlation coefficient value than other risk factors. From the total 462 samples 38.1% are posetive for CHD test and the rest 61.9% are negative. For the risk factors most of the factors which are above the avarage or the normality they have the chance to have CHD, the bar graphs above for each factors will give us more estimate."
      ]
    }
  ]
}