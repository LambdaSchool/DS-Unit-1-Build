{
  "nbformat": 4,
  "nbformat_minor": 0,
  "metadata": {
    "colab": {
      "name": "Mudesir_Suleyman_TL_Serina_DS17_Build_up",
      "provenance": [],
      "collapsed_sections": [],
      "include_colab_link": true
    },
    "kernelspec": {
      "display_name": "Python 3",
      "name": "python3"
    }
  },
  "cells": [
    {
      "cell_type": "markdown",
      "metadata": {
        "id": "view-in-github",
        "colab_type": "text"
      },
      "source": [
        "<a href=\"https://colab.research.google.com/github/mudesir/DS-Unit-1-Build/blob/master/Mudesir_Suleyman_TL_Serina_DS17_Build_up.ipynb\" target=\"_parent\"><img src=\"https://colab.research.google.com/assets/colab-badge.svg\" alt=\"Open In Colab\"/></a>"
      ]
    },
    {
      "cell_type": "markdown",
      "metadata": {
        "colab_type": "text",
        "id": "7Z2jcRKwUHqV"
      },
      "source": [
        "This notebook provides recipes for loading and saving data from external sources."
      ]
    },
    {
      "cell_type": "markdown",
      "metadata": {
        "colab_type": "text",
        "id": "BaCkyg5CV5jF"
      },
      "source": [
        "#DS Unit 1 Build\n",
        "# South African Heart Disease Study"
      ]
    },
    {
      "cell_type": "markdown",
      "metadata": {
        "id": "Xrr-3LdgP3WN",
        "colab_type": "text"
      },
      "source": [
        ""
      ]
    },
    {
      "cell_type": "markdown",
      "metadata": {
        "id": "JwbVdDT5P7Nm",
        "colab_type": "text"
      },
      "source": [
        ""
      ]
    },
    {
      "cell_type": "markdown",
      "metadata": {
        "id": "2YaejJoE3uLg",
        "colab_type": "text"
      },
      "source": [
        "Data from https://web.stanford.edu/~hastie/ElemStatLearn/datasets/SAheart.data\n",
        "\n",
        "Description of the columns header:\n",
        "\n",
        "1. sbp: systolic blood pressure\n",
        "2. tobacco: cumulative tobacco (kg)\n",
        "3. ldl: low densiity lipoprotein cholesterol\n",
        "4. adiposity\n",
        "5. famhist: family history of heart disease (Present,  Absent)\n",
        "6. typea: type-A behavior\n",
        "7. obesity\n",
        "8. alcohol: current alcohol consumption\n",
        "9. age: age at onset\n",
        "10. chd: coronary heart disease"
      ]
    },
    {
      "cell_type": "markdown",
      "metadata": {
        "id": "eeih3fUV4bOM",
        "colab_type": "text"
      },
      "source": [
        "### Exploratory Data Analysis"
      ]
    },
    {
      "cell_type": "code",
      "metadata": {
        "id": "MkKaFYyo1vnP",
        "colab_type": "code",
        "colab": {
          "base_uri": "https://localhost:8080/",
          "height": 202
        },
        "outputId": "5d70ff73-ca89-4b43-d4fd-dd34a829a770"
      },
      "source": [
        "import pandas as pd\n",
        "df = pd.read_csv('https://web.stanford.edu/~hastie/ElemStatLearn/datasets/SAheart.data')\n",
        "df.head()"
      ],
      "execution_count": 1,
      "outputs": [
        {
          "output_type": "execute_result",
          "data": {
            "text/html": [
              "<div>\n",
              "<style scoped>\n",
              "    .dataframe tbody tr th:only-of-type {\n",
              "        vertical-align: middle;\n",
              "    }\n",
              "\n",
              "    .dataframe tbody tr th {\n",
              "        vertical-align: top;\n",
              "    }\n",
              "\n",
              "    .dataframe thead th {\n",
              "        text-align: right;\n",
              "    }\n",
              "</style>\n",
              "<table border=\"1\" class=\"dataframe\">\n",
              "  <thead>\n",
              "    <tr style=\"text-align: right;\">\n",
              "      <th></th>\n",
              "      <th>row.names</th>\n",
              "      <th>sbp</th>\n",
              "      <th>tobacco</th>\n",
              "      <th>ldl</th>\n",
              "      <th>adiposity</th>\n",
              "      <th>famhist</th>\n",
              "      <th>typea</th>\n",
              "      <th>obesity</th>\n",
              "      <th>alcohol</th>\n",
              "      <th>age</th>\n",
              "      <th>chd</th>\n",
              "    </tr>\n",
              "  </thead>\n",
              "  <tbody>\n",
              "    <tr>\n",
              "      <th>0</th>\n",
              "      <td>1</td>\n",
              "      <td>160</td>\n",
              "      <td>12.00</td>\n",
              "      <td>5.73</td>\n",
              "      <td>23.11</td>\n",
              "      <td>Present</td>\n",
              "      <td>49</td>\n",
              "      <td>25.30</td>\n",
              "      <td>97.20</td>\n",
              "      <td>52</td>\n",
              "      <td>1</td>\n",
              "    </tr>\n",
              "    <tr>\n",
              "      <th>1</th>\n",
              "      <td>2</td>\n",
              "      <td>144</td>\n",
              "      <td>0.01</td>\n",
              "      <td>4.41</td>\n",
              "      <td>28.61</td>\n",
              "      <td>Absent</td>\n",
              "      <td>55</td>\n",
              "      <td>28.87</td>\n",
              "      <td>2.06</td>\n",
              "      <td>63</td>\n",
              "      <td>1</td>\n",
              "    </tr>\n",
              "    <tr>\n",
              "      <th>2</th>\n",
              "      <td>3</td>\n",
              "      <td>118</td>\n",
              "      <td>0.08</td>\n",
              "      <td>3.48</td>\n",
              "      <td>32.28</td>\n",
              "      <td>Present</td>\n",
              "      <td>52</td>\n",
              "      <td>29.14</td>\n",
              "      <td>3.81</td>\n",
              "      <td>46</td>\n",
              "      <td>0</td>\n",
              "    </tr>\n",
              "    <tr>\n",
              "      <th>3</th>\n",
              "      <td>4</td>\n",
              "      <td>170</td>\n",
              "      <td>7.50</td>\n",
              "      <td>6.41</td>\n",
              "      <td>38.03</td>\n",
              "      <td>Present</td>\n",
              "      <td>51</td>\n",
              "      <td>31.99</td>\n",
              "      <td>24.26</td>\n",
              "      <td>58</td>\n",
              "      <td>1</td>\n",
              "    </tr>\n",
              "    <tr>\n",
              "      <th>4</th>\n",
              "      <td>5</td>\n",
              "      <td>134</td>\n",
              "      <td>13.60</td>\n",
              "      <td>3.50</td>\n",
              "      <td>27.78</td>\n",
              "      <td>Present</td>\n",
              "      <td>60</td>\n",
              "      <td>25.99</td>\n",
              "      <td>57.34</td>\n",
              "      <td>49</td>\n",
              "      <td>1</td>\n",
              "    </tr>\n",
              "  </tbody>\n",
              "</table>\n",
              "</div>"
            ],
            "text/plain": [
              "   row.names  sbp  tobacco   ldl  adiposity  ... typea  obesity  alcohol  age  chd\n",
              "0          1  160    12.00  5.73      23.11  ...    49    25.30    97.20   52    1\n",
              "1          2  144     0.01  4.41      28.61  ...    55    28.87     2.06   63    1\n",
              "2          3  118     0.08  3.48      32.28  ...    52    29.14     3.81   46    0\n",
              "3          4  170     7.50  6.41      38.03  ...    51    31.99    24.26   58    1\n",
              "4          5  134    13.60  3.50      27.78  ...    60    25.99    57.34   49    1\n",
              "\n",
              "[5 rows x 11 columns]"
            ]
          },
          "metadata": {
            "tags": []
          },
          "execution_count": 1
        }
      ]
    },
    {
      "cell_type": "code",
      "metadata": {
        "id": "qKMfvWaf6ZFn",
        "colab_type": "code",
        "colab": {
          "base_uri": "https://localhost:8080/",
          "height": 35
        },
        "outputId": "b06867c0-c7d5-4ad5-e27a-4189da091040"
      },
      "source": [
        "df.shape"
      ],
      "execution_count": 2,
      "outputs": [
        {
          "output_type": "execute_result",
          "data": {
            "text/plain": [
              "(462, 11)"
            ]
          },
          "metadata": {
            "tags": []
          },
          "execution_count": 2
        }
      ]
    },
    {
      "cell_type": "code",
      "metadata": {
        "id": "b4YsV3CGBkxl",
        "colab_type": "code",
        "colab": {
          "base_uri": "https://localhost:8080/",
          "height": 225
        },
        "outputId": "d1af7ba4-1e25-4f27-a782-84c574b4332e"
      },
      "source": [
        "df.isnull().sum()"
      ],
      "execution_count": 3,
      "outputs": [
        {
          "output_type": "execute_result",
          "data": {
            "text/plain": [
              "row.names    0\n",
              "sbp          0\n",
              "tobacco      0\n",
              "ldl          0\n",
              "adiposity    0\n",
              "famhist      0\n",
              "typea        0\n",
              "obesity      0\n",
              "alcohol      0\n",
              "age          0\n",
              "chd          0\n",
              "dtype: int64"
            ]
          },
          "metadata": {
            "tags": []
          },
          "execution_count": 3
        }
      ]
    },
    {
      "cell_type": "code",
      "metadata": {
        "id": "rZA2vLrd5Ebs",
        "colab_type": "code",
        "colab": {
          "base_uri": "https://localhost:8080/",
          "height": 202
        },
        "outputId": "5d39dc35-f68e-4838-a6bd-0764b445b461"
      },
      "source": [
        "# the column row.names is not iportant I will drop it\n",
        "df = df.drop('row.names', axis=1)\n",
        "df.head()"
      ],
      "execution_count": 4,
      "outputs": [
        {
          "output_type": "execute_result",
          "data": {
            "text/html": [
              "<div>\n",
              "<style scoped>\n",
              "    .dataframe tbody tr th:only-of-type {\n",
              "        vertical-align: middle;\n",
              "    }\n",
              "\n",
              "    .dataframe tbody tr th {\n",
              "        vertical-align: top;\n",
              "    }\n",
              "\n",
              "    .dataframe thead th {\n",
              "        text-align: right;\n",
              "    }\n",
              "</style>\n",
              "<table border=\"1\" class=\"dataframe\">\n",
              "  <thead>\n",
              "    <tr style=\"text-align: right;\">\n",
              "      <th></th>\n",
              "      <th>sbp</th>\n",
              "      <th>tobacco</th>\n",
              "      <th>ldl</th>\n",
              "      <th>adiposity</th>\n",
              "      <th>famhist</th>\n",
              "      <th>typea</th>\n",
              "      <th>obesity</th>\n",
              "      <th>alcohol</th>\n",
              "      <th>age</th>\n",
              "      <th>chd</th>\n",
              "    </tr>\n",
              "  </thead>\n",
              "  <tbody>\n",
              "    <tr>\n",
              "      <th>0</th>\n",
              "      <td>160</td>\n",
              "      <td>12.00</td>\n",
              "      <td>5.73</td>\n",
              "      <td>23.11</td>\n",
              "      <td>Present</td>\n",
              "      <td>49</td>\n",
              "      <td>25.30</td>\n",
              "      <td>97.20</td>\n",
              "      <td>52</td>\n",
              "      <td>1</td>\n",
              "    </tr>\n",
              "    <tr>\n",
              "      <th>1</th>\n",
              "      <td>144</td>\n",
              "      <td>0.01</td>\n",
              "      <td>4.41</td>\n",
              "      <td>28.61</td>\n",
              "      <td>Absent</td>\n",
              "      <td>55</td>\n",
              "      <td>28.87</td>\n",
              "      <td>2.06</td>\n",
              "      <td>63</td>\n",
              "      <td>1</td>\n",
              "    </tr>\n",
              "    <tr>\n",
              "      <th>2</th>\n",
              "      <td>118</td>\n",
              "      <td>0.08</td>\n",
              "      <td>3.48</td>\n",
              "      <td>32.28</td>\n",
              "      <td>Present</td>\n",
              "      <td>52</td>\n",
              "      <td>29.14</td>\n",
              "      <td>3.81</td>\n",
              "      <td>46</td>\n",
              "      <td>0</td>\n",
              "    </tr>\n",
              "    <tr>\n",
              "      <th>3</th>\n",
              "      <td>170</td>\n",
              "      <td>7.50</td>\n",
              "      <td>6.41</td>\n",
              "      <td>38.03</td>\n",
              "      <td>Present</td>\n",
              "      <td>51</td>\n",
              "      <td>31.99</td>\n",
              "      <td>24.26</td>\n",
              "      <td>58</td>\n",
              "      <td>1</td>\n",
              "    </tr>\n",
              "    <tr>\n",
              "      <th>4</th>\n",
              "      <td>134</td>\n",
              "      <td>13.60</td>\n",
              "      <td>3.50</td>\n",
              "      <td>27.78</td>\n",
              "      <td>Present</td>\n",
              "      <td>60</td>\n",
              "      <td>25.99</td>\n",
              "      <td>57.34</td>\n",
              "      <td>49</td>\n",
              "      <td>1</td>\n",
              "    </tr>\n",
              "  </tbody>\n",
              "</table>\n",
              "</div>"
            ],
            "text/plain": [
              "   sbp  tobacco   ldl  adiposity  famhist  typea  obesity  alcohol  age  chd\n",
              "0  160    12.00  5.73      23.11  Present     49    25.30    97.20   52    1\n",
              "1  144     0.01  4.41      28.61   Absent     55    28.87     2.06   63    1\n",
              "2  118     0.08  3.48      32.28  Present     52    29.14     3.81   46    0\n",
              "3  170     7.50  6.41      38.03  Present     51    31.99    24.26   58    1\n",
              "4  134    13.60  3.50      27.78  Present     60    25.99    57.34   49    1"
            ]
          },
          "metadata": {
            "tags": []
          },
          "execution_count": 4
        }
      ]
    },
    {
      "cell_type": "code",
      "metadata": {
        "id": "ftpiK7VH5fMM",
        "colab_type": "code",
        "colab": {
          "base_uri": "https://localhost:8080/",
          "height": 208
        },
        "outputId": "ac49ab8e-e632-44ee-ef6c-faf356bb6cd0"
      },
      "source": [
        "# check data type\n",
        "df.dtypes"
      ],
      "execution_count": 4,
      "outputs": [
        {
          "output_type": "execute_result",
          "data": {
            "text/plain": [
              "sbp            int64\n",
              "tobacco      float64\n",
              "ldl          float64\n",
              "adiposity    float64\n",
              "famhist       object\n",
              "typea          int64\n",
              "obesity      float64\n",
              "alcohol      float64\n",
              "age            int64\n",
              "chd            int64\n",
              "dtype: object"
            ]
          },
          "metadata": {
            "tags": []
          },
          "execution_count": 4
        }
      ]
    },
    {
      "cell_type": "code",
      "metadata": {
        "id": "MCgXm4ZD_US_",
        "colab_type": "code",
        "colab": {
          "base_uri": "https://localhost:8080/",
          "height": 202
        },
        "outputId": "021dbb7a-7b3d-4a13-992c-d7fa1e3d4c16"
      },
      "source": [
        "# the famhist data type object we have to change into number, replace \"Present\" to 1 \n",
        "# and  \"Absent\" to 0\n",
        "df = df.replace({'Present': 1, 'Absent':0})\n",
        "df.head()"
      ],
      "execution_count": 5,
      "outputs": [
        {
          "output_type": "execute_result",
          "data": {
            "text/html": [
              "<div>\n",
              "<style scoped>\n",
              "    .dataframe tbody tr th:only-of-type {\n",
              "        vertical-align: middle;\n",
              "    }\n",
              "\n",
              "    .dataframe tbody tr th {\n",
              "        vertical-align: top;\n",
              "    }\n",
              "\n",
              "    .dataframe thead th {\n",
              "        text-align: right;\n",
              "    }\n",
              "</style>\n",
              "<table border=\"1\" class=\"dataframe\">\n",
              "  <thead>\n",
              "    <tr style=\"text-align: right;\">\n",
              "      <th></th>\n",
              "      <th>sbp</th>\n",
              "      <th>tobacco</th>\n",
              "      <th>ldl</th>\n",
              "      <th>adiposity</th>\n",
              "      <th>famhist</th>\n",
              "      <th>typea</th>\n",
              "      <th>obesity</th>\n",
              "      <th>alcohol</th>\n",
              "      <th>age</th>\n",
              "      <th>chd</th>\n",
              "    </tr>\n",
              "  </thead>\n",
              "  <tbody>\n",
              "    <tr>\n",
              "      <th>0</th>\n",
              "      <td>160</td>\n",
              "      <td>12.00</td>\n",
              "      <td>5.73</td>\n",
              "      <td>23.11</td>\n",
              "      <td>1</td>\n",
              "      <td>49</td>\n",
              "      <td>25.30</td>\n",
              "      <td>97.20</td>\n",
              "      <td>52</td>\n",
              "      <td>1</td>\n",
              "    </tr>\n",
              "    <tr>\n",
              "      <th>1</th>\n",
              "      <td>144</td>\n",
              "      <td>0.01</td>\n",
              "      <td>4.41</td>\n",
              "      <td>28.61</td>\n",
              "      <td>0</td>\n",
              "      <td>55</td>\n",
              "      <td>28.87</td>\n",
              "      <td>2.06</td>\n",
              "      <td>63</td>\n",
              "      <td>1</td>\n",
              "    </tr>\n",
              "    <tr>\n",
              "      <th>2</th>\n",
              "      <td>118</td>\n",
              "      <td>0.08</td>\n",
              "      <td>3.48</td>\n",
              "      <td>32.28</td>\n",
              "      <td>1</td>\n",
              "      <td>52</td>\n",
              "      <td>29.14</td>\n",
              "      <td>3.81</td>\n",
              "      <td>46</td>\n",
              "      <td>0</td>\n",
              "    </tr>\n",
              "    <tr>\n",
              "      <th>3</th>\n",
              "      <td>170</td>\n",
              "      <td>7.50</td>\n",
              "      <td>6.41</td>\n",
              "      <td>38.03</td>\n",
              "      <td>1</td>\n",
              "      <td>51</td>\n",
              "      <td>31.99</td>\n",
              "      <td>24.26</td>\n",
              "      <td>58</td>\n",
              "      <td>1</td>\n",
              "    </tr>\n",
              "    <tr>\n",
              "      <th>4</th>\n",
              "      <td>134</td>\n",
              "      <td>13.60</td>\n",
              "      <td>3.50</td>\n",
              "      <td>27.78</td>\n",
              "      <td>1</td>\n",
              "      <td>60</td>\n",
              "      <td>25.99</td>\n",
              "      <td>57.34</td>\n",
              "      <td>49</td>\n",
              "      <td>1</td>\n",
              "    </tr>\n",
              "  </tbody>\n",
              "</table>\n",
              "</div>"
            ],
            "text/plain": [
              "   sbp  tobacco   ldl  adiposity  famhist  typea  obesity  alcohol  age  chd\n",
              "0  160    12.00  5.73      23.11        1     49    25.30    97.20   52    1\n",
              "1  144     0.01  4.41      28.61        0     55    28.87     2.06   63    1\n",
              "2  118     0.08  3.48      32.28        1     52    29.14     3.81   46    0\n",
              "3  170     7.50  6.41      38.03        1     51    31.99    24.26   58    1\n",
              "4  134    13.60  3.50      27.78        1     60    25.99    57.34   49    1"
            ]
          },
          "metadata": {
            "tags": []
          },
          "execution_count": 5
        }
      ]
    },
    {
      "cell_type": "code",
      "metadata": {
        "id": "LR4j5LDeCkYI",
        "colab_type": "code",
        "colab": {
          "base_uri": "https://localhost:8080/",
          "height": 208
        },
        "outputId": "3acdadc3-60ae-462c-a21f-1e298ca96bf3"
      },
      "source": [
        "df.dtypes"
      ],
      "execution_count": 6,
      "outputs": [
        {
          "output_type": "execute_result",
          "data": {
            "text/plain": [
              "sbp            int64\n",
              "tobacco      float64\n",
              "ldl          float64\n",
              "adiposity    float64\n",
              "famhist        int64\n",
              "typea          int64\n",
              "obesity      float64\n",
              "alcohol      float64\n",
              "age            int64\n",
              "chd            int64\n",
              "dtype: object"
            ]
          },
          "metadata": {
            "tags": []
          },
          "execution_count": 6
        }
      ]
    },
    {
      "cell_type": "code",
      "metadata": {
        "id": "jSshJYNWOiK3",
        "colab_type": "code",
        "colab": {
          "base_uri": "https://localhost:8080/",
          "height": 225
        },
        "outputId": "bf7040f0-b0b0-4b34-c709-c865997ed35c"
      },
      "source": [
        "df['age']"
      ],
      "execution_count": 7,
      "outputs": [
        {
          "output_type": "execute_result",
          "data": {
            "text/plain": [
              "0      52\n",
              "1      63\n",
              "2      46\n",
              "3      58\n",
              "4      49\n",
              "       ..\n",
              "457    58\n",
              "458    52\n",
              "459    55\n",
              "460    40\n",
              "461    46\n",
              "Name: age, Length: 462, dtype: int64"
            ]
          },
          "metadata": {
            "tags": []
          },
          "execution_count": 7
        }
      ]
    },
    {
      "cell_type": "code",
      "metadata": {
        "id": "kNz8RTbQc9f2",
        "colab_type": "code",
        "colab": {
          "base_uri": "https://localhost:8080/",
          "height": 294
        },
        "outputId": "d09f60e0-7ef7-485b-bbbd-39f25aa5f1d7"
      },
      "source": [
        "df.describe()"
      ],
      "execution_count": 6,
      "outputs": [
        {
          "output_type": "execute_result",
          "data": {
            "text/html": [
              "<div>\n",
              "<style scoped>\n",
              "    .dataframe tbody tr th:only-of-type {\n",
              "        vertical-align: middle;\n",
              "    }\n",
              "\n",
              "    .dataframe tbody tr th {\n",
              "        vertical-align: top;\n",
              "    }\n",
              "\n",
              "    .dataframe thead th {\n",
              "        text-align: right;\n",
              "    }\n",
              "</style>\n",
              "<table border=\"1\" class=\"dataframe\">\n",
              "  <thead>\n",
              "    <tr style=\"text-align: right;\">\n",
              "      <th></th>\n",
              "      <th>sbp</th>\n",
              "      <th>tobacco</th>\n",
              "      <th>ldl</th>\n",
              "      <th>adiposity</th>\n",
              "      <th>famhist</th>\n",
              "      <th>typea</th>\n",
              "      <th>obesity</th>\n",
              "      <th>alcohol</th>\n",
              "      <th>age</th>\n",
              "      <th>chd</th>\n",
              "    </tr>\n",
              "  </thead>\n",
              "  <tbody>\n",
              "    <tr>\n",
              "      <th>count</th>\n",
              "      <td>462.000000</td>\n",
              "      <td>462.000000</td>\n",
              "      <td>462.000000</td>\n",
              "      <td>462.000000</td>\n",
              "      <td>462.000000</td>\n",
              "      <td>462.000000</td>\n",
              "      <td>462.000000</td>\n",
              "      <td>462.000000</td>\n",
              "      <td>462.000000</td>\n",
              "      <td>462.000000</td>\n",
              "    </tr>\n",
              "    <tr>\n",
              "      <th>mean</th>\n",
              "      <td>138.326840</td>\n",
              "      <td>3.635649</td>\n",
              "      <td>4.740325</td>\n",
              "      <td>25.406732</td>\n",
              "      <td>0.415584</td>\n",
              "      <td>53.103896</td>\n",
              "      <td>26.044113</td>\n",
              "      <td>17.044394</td>\n",
              "      <td>42.816017</td>\n",
              "      <td>0.346320</td>\n",
              "    </tr>\n",
              "    <tr>\n",
              "      <th>std</th>\n",
              "      <td>20.496317</td>\n",
              "      <td>4.593024</td>\n",
              "      <td>2.070909</td>\n",
              "      <td>7.780699</td>\n",
              "      <td>0.493357</td>\n",
              "      <td>9.817534</td>\n",
              "      <td>4.213680</td>\n",
              "      <td>24.481059</td>\n",
              "      <td>14.608956</td>\n",
              "      <td>0.476313</td>\n",
              "    </tr>\n",
              "    <tr>\n",
              "      <th>min</th>\n",
              "      <td>101.000000</td>\n",
              "      <td>0.000000</td>\n",
              "      <td>0.980000</td>\n",
              "      <td>6.740000</td>\n",
              "      <td>0.000000</td>\n",
              "      <td>13.000000</td>\n",
              "      <td>14.700000</td>\n",
              "      <td>0.000000</td>\n",
              "      <td>15.000000</td>\n",
              "      <td>0.000000</td>\n",
              "    </tr>\n",
              "    <tr>\n",
              "      <th>25%</th>\n",
              "      <td>124.000000</td>\n",
              "      <td>0.052500</td>\n",
              "      <td>3.282500</td>\n",
              "      <td>19.775000</td>\n",
              "      <td>0.000000</td>\n",
              "      <td>47.000000</td>\n",
              "      <td>22.985000</td>\n",
              "      <td>0.510000</td>\n",
              "      <td>31.000000</td>\n",
              "      <td>0.000000</td>\n",
              "    </tr>\n",
              "    <tr>\n",
              "      <th>50%</th>\n",
              "      <td>134.000000</td>\n",
              "      <td>2.000000</td>\n",
              "      <td>4.340000</td>\n",
              "      <td>26.115000</td>\n",
              "      <td>0.000000</td>\n",
              "      <td>53.000000</td>\n",
              "      <td>25.805000</td>\n",
              "      <td>7.510000</td>\n",
              "      <td>45.000000</td>\n",
              "      <td>0.000000</td>\n",
              "    </tr>\n",
              "    <tr>\n",
              "      <th>75%</th>\n",
              "      <td>148.000000</td>\n",
              "      <td>5.500000</td>\n",
              "      <td>5.790000</td>\n",
              "      <td>31.227500</td>\n",
              "      <td>1.000000</td>\n",
              "      <td>60.000000</td>\n",
              "      <td>28.497500</td>\n",
              "      <td>23.892500</td>\n",
              "      <td>55.000000</td>\n",
              "      <td>1.000000</td>\n",
              "    </tr>\n",
              "    <tr>\n",
              "      <th>max</th>\n",
              "      <td>218.000000</td>\n",
              "      <td>31.200000</td>\n",
              "      <td>15.330000</td>\n",
              "      <td>42.490000</td>\n",
              "      <td>1.000000</td>\n",
              "      <td>78.000000</td>\n",
              "      <td>46.580000</td>\n",
              "      <td>147.190000</td>\n",
              "      <td>64.000000</td>\n",
              "      <td>1.000000</td>\n",
              "    </tr>\n",
              "  </tbody>\n",
              "</table>\n",
              "</div>"
            ],
            "text/plain": [
              "              sbp     tobacco         ldl  ...     alcohol         age         chd\n",
              "count  462.000000  462.000000  462.000000  ...  462.000000  462.000000  462.000000\n",
              "mean   138.326840    3.635649    4.740325  ...   17.044394   42.816017    0.346320\n",
              "std     20.496317    4.593024    2.070909  ...   24.481059   14.608956    0.476313\n",
              "min    101.000000    0.000000    0.980000  ...    0.000000   15.000000    0.000000\n",
              "25%    124.000000    0.052500    3.282500  ...    0.510000   31.000000    0.000000\n",
              "50%    134.000000    2.000000    4.340000  ...    7.510000   45.000000    0.000000\n",
              "75%    148.000000    5.500000    5.790000  ...   23.892500   55.000000    1.000000\n",
              "max    218.000000   31.200000   15.330000  ...  147.190000   64.000000    1.000000\n",
              "\n",
              "[8 rows x 10 columns]"
            ]
          },
          "metadata": {
            "tags": []
          },
          "execution_count": 6
        }
      ]
    },
    {
      "cell_type": "code",
      "metadata": {
        "id": "I7q4QXocH9Yj",
        "colab_type": "code",
        "colab": {}
      },
      "source": [
        "def confidence_interval(data, confidence=0.95):\n",
        "  \"\"\"\n",
        "  Calculate a confidence interval around a sample mean for given data.\n",
        "  Using t-distribution and two-tailed test, default 95% confidence. \n",
        "  Arguments:\n",
        "    data - iterable (list or numpy array) of sample observations\n",
        "    confidence - level of confidence for the interval\n",
        "  Returns:\n",
        "    tuple of (mean, lower bound, upper bound)\n",
        "  \"\"\"\n",
        "  data = np.array(data)\n",
        "  x_bar = np.mean(data)\n",
        "  n = len(data)\n",
        "  s = np.std(data, ddof=1)\n",
        "  std_err = s / np.sqrt(n)\n",
        "  t = stats.t.ppf((1 + confidence) / 2.0, n - 1)\n",
        "  margin_of_error = t*std_err\n",
        "  lower_bound = x_bar - margin_of_error\n",
        "  upper_bound = x_bar + margin_of_error\n",
        "  return (lower_bound, x_bar, upper_bound)"
      ],
      "execution_count": 8,
      "outputs": []
    },
    {
      "cell_type": "code",
      "metadata": {
        "id": "H7FtxLVMLY7k",
        "colab_type": "code",
        "colab": {
          "base_uri": "https://localhost:8080/",
          "height": 35
        },
        "outputId": "c7fc0078-1262-46b3-bb08-41537379e5ba"
      },
      "source": [
        "#  confidence interval for sbp: systolic blood pressure data\n",
        "import numpy as np\n",
        "from scipy import stats\n",
        "data = df['sbp']\n",
        "confidence_interval(data, confidence=.95)"
      ],
      "execution_count": 11,
      "outputs": [
        {
          "output_type": "execute_result",
          "data": {
            "text/plain": [
              "(136.45294750470532, 138.32683982683983, 140.20073214897434)"
            ]
          },
          "metadata": {
            "tags": []
          },
          "execution_count": 11
        }
      ]
    },
    {
      "cell_type": "code",
      "metadata": {
        "id": "t2qfFLZmRuT0",
        "colab_type": "code",
        "colab": {
          "base_uri": "https://localhost:8080/",
          "height": 87
        },
        "outputId": "0c45416e-8b7c-4c9e-cc81-7982a667a57c"
      },
      "source": [
        "# lets make the sbp: systolic blood pressure data group for sbp lessthan the \n",
        "#lower bound, between the lower and upper bound and above the upper bound \n",
        "\n",
        "df.loc[df['sbp'] <= 134.5, 'sbpgroup'] = 0 \n",
        "df.loc[(df['sbp'] > 134.5) & (df['sbp']<=138.3), 'sbpgroup'] = 1\n",
        "df.loc[df['sbp'] > 138.3, 'sbpgroup'] = 2  \n",
        "df['sbpgroup'].value_counts()"
      ],
      "execution_count": 25,
      "outputs": [
        {
          "output_type": "execute_result",
          "data": {
            "text/plain": [
              "0.0    242\n",
              "2.0    172\n",
              "1.0     48\n",
              "Name: sbpgroup, dtype: int64"
            ]
          },
          "metadata": {
            "tags": []
          },
          "execution_count": 25
        }
      ]
    },
    {
      "cell_type": "code",
      "metadata": {
        "id": "vowCjkMQNPBO",
        "colab_type": "code",
        "colab": {
          "base_uri": "https://localhost:8080/",
          "height": 35
        },
        "outputId": "d02213ac-6474-41e5-bb96-d8bb679a4e13"
      },
      "source": [
        "# confidence interval for tobacco data\n",
        "data = df['tobacco']\n",
        "confidence_interval(data, confidence=.95)"
      ],
      "execution_count": 26,
      "outputs": [
        {
          "output_type": "execute_result",
          "data": {
            "text/plain": [
              "(3.2157284213322077, 3.635649350649351, 4.055570279966494)"
            ]
          },
          "metadata": {
            "tags": []
          },
          "execution_count": 26
        }
      ]
    },
    {
      "cell_type": "code",
      "metadata": {
        "id": "Cxg8PPu1S7R0",
        "colab_type": "code",
        "colab": {
          "base_uri": "https://localhost:8080/",
          "height": 87
        },
        "outputId": "f008c23f-0c26-4d4a-b495-3c918fcfb7c8"
      },
      "source": [
        "# lets make the tobacco data group for tobacco lessthan the \n",
        "#lower bound, between the lower and upper bound and above the upper bound \n",
        "\n",
        "df.loc[df['tobacco'] <= 3.2, 'tobaccogroup'] = 0 \n",
        "df.loc[(df['tobacco'] > 3.2) & (df['tobacco']<=4.1), 'tobaccogroup'] = 1\n",
        "df.loc[df['tobacco'] > 4.1, 'tobaccogroup'] = 2  \n",
        "df['tobaccogroup'].value_counts()"
      ],
      "execution_count": 27,
      "outputs": [
        {
          "output_type": "execute_result",
          "data": {
            "text/plain": [
              "0.0    276\n",
              "2.0    158\n",
              "1.0     28\n",
              "Name: tobaccogroup, dtype: int64"
            ]
          },
          "metadata": {
            "tags": []
          },
          "execution_count": 27
        }
      ]
    },
    {
      "cell_type": "code",
      "metadata": {
        "id": "iWWNUCgqL2iK",
        "colab_type": "code",
        "colab": {
          "base_uri": "https://localhost:8080/",
          "height": 35
        },
        "outputId": "85debfc6-37db-497b-e8fb-b5bdeb7aad79"
      },
      "source": [
        "# confidence interval for ldl: low densiity lipoprotein cholesterol data\n",
        "data = df['ldl']\n",
        "confidence_interval(data, confidence=.95)"
      ],
      "execution_count": 12,
      "outputs": [
        {
          "output_type": "execute_result",
          "data": {
            "text/plain": [
              "(4.550990135683968, 4.740324675324675, 4.9296592149653815)"
            ]
          },
          "metadata": {
            "tags": []
          },
          "execution_count": 12
        }
      ]
    },
    {
      "cell_type": "code",
      "metadata": {
        "id": "JLlG7AI3T4X7",
        "colab_type": "code",
        "colab": {
          "base_uri": "https://localhost:8080/",
          "height": 87
        },
        "outputId": "8ab12dee-87fc-44bc-d835-99c0bbc76f66"
      },
      "source": [
        "# lets make the ldl: low densiity lipoprotein cholesterol data group for ldl lessthan the \n",
        "#lower bound, between the lower and upper bound and above the upper bound \n",
        "\n",
        "df.loc[df['ldl'] <= 3.2, 'ldlgroup'] = 0 \n",
        "df.loc[(df['ldl'] > 3.2) & (df['ldl']<=4.1), 'ldlgroup'] = 1\n",
        "df.loc[df['ldl'] > 4.1, 'ldlgroup'] = 2  \n",
        "df['ldlgroup'].value_counts()"
      ],
      "execution_count": 28,
      "outputs": [
        {
          "output_type": "execute_result",
          "data": {
            "text/plain": [
              "2.0    259\n",
              "0.0    109\n",
              "1.0     94\n",
              "Name: ldlgroup, dtype: int64"
            ]
          },
          "metadata": {
            "tags": []
          },
          "execution_count": 28
        }
      ]
    },
    {
      "cell_type": "code",
      "metadata": {
        "id": "O2ew8OsbNn3z",
        "colab_type": "code",
        "colab": {
          "base_uri": "https://localhost:8080/",
          "height": 35
        },
        "outputId": "ffc5a64d-6704-4c6e-eb18-77eb69307c96"
      },
      "source": [
        "# confidence interval for adiposity data\n",
        "data = df['adiposity']\n",
        "confidence_interval(data, confidence=.95)"
      ],
      "execution_count": 13,
      "outputs": [
        {
          "output_type": "execute_result",
          "data": {
            "text/plain": [
              "(24.695374959717974, 25.4067316017316, 26.118088243745227)"
            ]
          },
          "metadata": {
            "tags": []
          },
          "execution_count": 13
        }
      ]
    },
    {
      "cell_type": "code",
      "metadata": {
        "id": "RbfWLQjUUedG",
        "colab_type": "code",
        "colab": {
          "base_uri": "https://localhost:8080/",
          "height": 87
        },
        "outputId": "8aa349d4-202c-449c-df3a-f033d64d8d09"
      },
      "source": [
        "# lets make the adiposity data group for adiposity lessthan the \n",
        "#lower bound, between the lower and upper bound and above the upper bound \n",
        "\n",
        "df.loc[df['adiposity'] <= 24.7, 'adipositygroup'] = 0 \n",
        "df.loc[(df['adiposity'] > 24.7) & (df['adiposity']<=26.1), 'adipositygroup'] = 1\n",
        "df.loc[df['adiposity'] > 26.1, 'adipositygroup'] = 2  \n",
        "df['adipositygroup'].value_counts()"
      ],
      "execution_count": 31,
      "outputs": [
        {
          "output_type": "execute_result",
          "data": {
            "text/plain": [
              "2.0    231\n",
              "0.0    200\n",
              "1.0     31\n",
              "Name: adipositygroup, dtype: int64"
            ]
          },
          "metadata": {
            "tags": []
          },
          "execution_count": 31
        }
      ]
    },
    {
      "cell_type": "code",
      "metadata": {
        "id": "GOgbrRN6N_VX",
        "colab_type": "code",
        "colab": {
          "base_uri": "https://localhost:8080/",
          "height": 35
        },
        "outputId": "7c011d0d-673d-4607-dee4-a62a99125234"
      },
      "source": [
        "# confidence interval for typea: type-A behavior data\n",
        "data = df['typea']\n",
        "confidence_interval(data, confidence=.95)"
      ],
      "execution_count": 16,
      "outputs": [
        {
          "output_type": "execute_result",
          "data": {
            "text/plain": [
              "(52.206320132369555, 53.103896103896105, 54.001472075422654)"
            ]
          },
          "metadata": {
            "tags": []
          },
          "execution_count": 16
        }
      ]
    },
    {
      "cell_type": "code",
      "metadata": {
        "id": "FPeHWlaPVcba",
        "colab_type": "code",
        "colab": {
          "base_uri": "https://localhost:8080/",
          "height": 87
        },
        "outputId": "741961ab-2e8b-47b6-bbc4-d2031e99341a"
      },
      "source": [
        "# lets make the typea: type-A behavior data group for typea lessthan the \n",
        "#lower bound, between the lower and upper bound and above the upper bound \n",
        "\n",
        "df.loc[df['typea'] <= 24.7, 'typeagroup'] = 0 \n",
        "df.loc[(df['typea'] > 24.7) & (df['typea']<=26.1), 'typeagroup'] = 1\n",
        "df.loc[df['typea'] > 26.1, 'typeagroup'] = 2  \n",
        "df['typeagroup'].value_counts()"
      ],
      "execution_count": 32,
      "outputs": [
        {
          "output_type": "execute_result",
          "data": {
            "text/plain": [
              "2.0    458\n",
              "1.0      2\n",
              "0.0      2\n",
              "Name: typeagroup, dtype: int64"
            ]
          },
          "metadata": {
            "tags": []
          },
          "execution_count": 32
        }
      ]
    },
    {
      "cell_type": "code",
      "metadata": {
        "id": "nv4UodzBO4UF",
        "colab_type": "code",
        "colab": {
          "base_uri": "https://localhost:8080/",
          "height": 35
        },
        "outputId": "7ed23519-eb5a-418a-d4b9-d2272d59d528"
      },
      "source": [
        "# confidence interval for obesity data\n",
        "data = df['obesity']\n",
        "confidence_interval(data, confidence=.95)"
      ],
      "execution_count": 17,
      "outputs": [
        {
          "output_type": "execute_result",
          "data": {
            "text/plain": [
              "(25.65887344225081, 26.04411255411255, 26.429351665974295)"
            ]
          },
          "metadata": {
            "tags": []
          },
          "execution_count": 17
        }
      ]
    },
    {
      "cell_type": "code",
      "metadata": {
        "id": "COpDMIIDWDV0",
        "colab_type": "code",
        "colab": {
          "base_uri": "https://localhost:8080/",
          "height": 87
        },
        "outputId": "50d02710-b22b-4110-ea0f-93f5c62169d5"
      },
      "source": [
        "# lets make the obesity data group for obesity lessthan the \n",
        "#lower bound, between the lower and upper bound and above the upper bound \n",
        "\n",
        "df.loc[df['obesity'] <= 24.7, 'obesitygroup'] = 0 \n",
        "df.loc[(df['obesity'] > 24.7) & (df['obesity']<=26.1), 'obesitygroup'] = 1\n",
        "df.loc[df['obesity'] > 26.1, 'obesitygroup'] = 2  \n",
        "df['obesitygroup'].value_counts()"
      ],
      "execution_count": 33,
      "outputs": [
        {
          "output_type": "execute_result",
          "data": {
            "text/plain": [
              "2.0    211\n",
              "0.0    179\n",
              "1.0     72\n",
              "Name: obesitygroup, dtype: int64"
            ]
          },
          "metadata": {
            "tags": []
          },
          "execution_count": 33
        }
      ]
    },
    {
      "cell_type": "code",
      "metadata": {
        "id": "sBUdJnfVPROw",
        "colab_type": "code",
        "colab": {
          "base_uri": "https://localhost:8080/",
          "height": 35
        },
        "outputId": "0dc3686f-d3f2-48c7-b80b-1cdea3628598"
      },
      "source": [
        "# confidence interval for alcohol: current alcohol consumption data\n",
        "data = df['alcohol']\n",
        "confidence_interval(data, confidence=.95)"
      ],
      "execution_count": 56,
      "outputs": [
        {
          "output_type": "execute_result",
          "data": {
            "text/plain": [
              "(14.806193411597087, 17.044393939393935, 19.282594467190783)"
            ]
          },
          "metadata": {
            "tags": []
          },
          "execution_count": 56
        }
      ]
    },
    {
      "cell_type": "code",
      "metadata": {
        "id": "yDr1y4zJWa2l",
        "colab_type": "code",
        "colab": {
          "base_uri": "https://localhost:8080/",
          "height": 87
        },
        "outputId": "c109752e-94b6-4193-c642-2742692ed27f"
      },
      "source": [
        "# lets make the alcohol: current alcohol consumption data group for alcohol lessthan the \n",
        "#lower bound, between the lower and upper bound and above the upper bound \n",
        "\n",
        "df.loc[df['alcohol'] <= 14.8, 'alcoholgroup'] = 0 \n",
        "df.loc[(df['alcohol'] > 14.8) & (df['alcohol']<=19.3), 'alcoholgroup'] = 1\n",
        "df.loc[df['alcohol'] > 19.3, 'alcoholgroup'] = 2  \n",
        "df['alcoholgroup'].value_counts()"
      ],
      "execution_count": 57,
      "outputs": [
        {
          "output_type": "execute_result",
          "data": {
            "text/plain": [
              "0.0    302\n",
              "2.0    139\n",
              "1.0     21\n",
              "Name: alcoholgroup, dtype: int64"
            ]
          },
          "metadata": {
            "tags": []
          },
          "execution_count": 57
        }
      ]
    },
    {
      "cell_type": "code",
      "metadata": {
        "id": "cAZdQoU3PnE1",
        "colab_type": "code",
        "colab": {
          "base_uri": "https://localhost:8080/",
          "height": 35
        },
        "outputId": "31a3e427-9975-49b4-b5e9-3393372a1e1f"
      },
      "source": [
        "# confidence interval for age: age at onset data\n",
        "data = df['age']\n",
        "confidence_interval(data, confidence=.95)"
      ],
      "execution_count": 19,
      "outputs": [
        {
          "output_type": "execute_result",
          "data": {
            "text/plain": [
              "(41.48038169516487, 42.816017316017316, 44.15165293686976)"
            ]
          },
          "metadata": {
            "tags": []
          },
          "execution_count": 19
        }
      ]
    },
    {
      "cell_type": "code",
      "metadata": {
        "id": "5CIq8wmCMTfO",
        "colab_type": "code",
        "colab": {
          "base_uri": "https://localhost:8080/",
          "height": 87
        },
        "outputId": "b14c1201-b9d5-4acd-e3db-a62e719a1b55"
      },
      "source": [
        "# lets make the age group for age lessthan the lower bound, between the lower and upper\n",
        "# bound and above the upper bound \n",
        "\n",
        "df.loc[df['age'] <= 42, 'agegroup'] = 0 \n",
        "df.loc[(df['age'] > 42) & (df['age']<=44), 'agegroup'] = 1\n",
        "df.loc[df['age'] > 44, 'agegroup'] = 2  \n",
        "df['agegroup'].value_counts()      "
      ],
      "execution_count": 35,
      "outputs": [
        {
          "output_type": "execute_result",
          "data": {
            "text/plain": [
              "2.0    235\n",
              "0.0    211\n",
              "1.0     16\n",
              "Name: agegroup, dtype: int64"
            ]
          },
          "metadata": {
            "tags": []
          },
          "execution_count": 35
        }
      ]
    },
    {
      "cell_type": "code",
      "metadata": {
        "id": "FvwdWyA3MhXA",
        "colab_type": "code",
        "colab": {
          "base_uri": "https://localhost:8080/",
          "height": 222
        },
        "outputId": "916c383a-8a81-436c-ef96-61d709238d3c"
      },
      "source": [
        "df.head()"
      ],
      "execution_count": 37,
      "outputs": [
        {
          "output_type": "execute_result",
          "data": {
            "text/html": [
              "<div>\n",
              "<style scoped>\n",
              "    .dataframe tbody tr th:only-of-type {\n",
              "        vertical-align: middle;\n",
              "    }\n",
              "\n",
              "    .dataframe tbody tr th {\n",
              "        vertical-align: top;\n",
              "    }\n",
              "\n",
              "    .dataframe thead th {\n",
              "        text-align: right;\n",
              "    }\n",
              "</style>\n",
              "<table border=\"1\" class=\"dataframe\">\n",
              "  <thead>\n",
              "    <tr style=\"text-align: right;\">\n",
              "      <th></th>\n",
              "      <th>sbp</th>\n",
              "      <th>tobacco</th>\n",
              "      <th>ldl</th>\n",
              "      <th>adiposity</th>\n",
              "      <th>famhist</th>\n",
              "      <th>typea</th>\n",
              "      <th>obesity</th>\n",
              "      <th>alcohol</th>\n",
              "      <th>age</th>\n",
              "      <th>chd</th>\n",
              "      <th>agegroup</th>\n",
              "      <th>sbpgroup</th>\n",
              "      <th>tobaccogroup</th>\n",
              "      <th>ldlgroup</th>\n",
              "      <th>adipositygroup</th>\n",
              "      <th>typeagroup</th>\n",
              "      <th>obesitygroup</th>\n",
              "      <th>alcoholgroup</th>\n",
              "    </tr>\n",
              "  </thead>\n",
              "  <tbody>\n",
              "    <tr>\n",
              "      <th>0</th>\n",
              "      <td>160</td>\n",
              "      <td>12.00</td>\n",
              "      <td>5.73</td>\n",
              "      <td>23.11</td>\n",
              "      <td>1</td>\n",
              "      <td>49</td>\n",
              "      <td>25.30</td>\n",
              "      <td>97.20</td>\n",
              "      <td>52</td>\n",
              "      <td>1</td>\n",
              "      <td>2.0</td>\n",
              "      <td>2.0</td>\n",
              "      <td>2.0</td>\n",
              "      <td>2.0</td>\n",
              "      <td>0.0</td>\n",
              "      <td>2.0</td>\n",
              "      <td>1.0</td>\n",
              "      <td>2.0</td>\n",
              "    </tr>\n",
              "    <tr>\n",
              "      <th>1</th>\n",
              "      <td>144</td>\n",
              "      <td>0.01</td>\n",
              "      <td>4.41</td>\n",
              "      <td>28.61</td>\n",
              "      <td>0</td>\n",
              "      <td>55</td>\n",
              "      <td>28.87</td>\n",
              "      <td>2.06</td>\n",
              "      <td>63</td>\n",
              "      <td>1</td>\n",
              "      <td>2.0</td>\n",
              "      <td>2.0</td>\n",
              "      <td>0.0</td>\n",
              "      <td>2.0</td>\n",
              "      <td>2.0</td>\n",
              "      <td>2.0</td>\n",
              "      <td>2.0</td>\n",
              "      <td>0.0</td>\n",
              "    </tr>\n",
              "    <tr>\n",
              "      <th>2</th>\n",
              "      <td>118</td>\n",
              "      <td>0.08</td>\n",
              "      <td>3.48</td>\n",
              "      <td>32.28</td>\n",
              "      <td>1</td>\n",
              "      <td>52</td>\n",
              "      <td>29.14</td>\n",
              "      <td>3.81</td>\n",
              "      <td>46</td>\n",
              "      <td>0</td>\n",
              "      <td>2.0</td>\n",
              "      <td>0.0</td>\n",
              "      <td>0.0</td>\n",
              "      <td>1.0</td>\n",
              "      <td>2.0</td>\n",
              "      <td>2.0</td>\n",
              "      <td>2.0</td>\n",
              "      <td>0.0</td>\n",
              "    </tr>\n",
              "    <tr>\n",
              "      <th>3</th>\n",
              "      <td>170</td>\n",
              "      <td>7.50</td>\n",
              "      <td>6.41</td>\n",
              "      <td>38.03</td>\n",
              "      <td>1</td>\n",
              "      <td>51</td>\n",
              "      <td>31.99</td>\n",
              "      <td>24.26</td>\n",
              "      <td>58</td>\n",
              "      <td>1</td>\n",
              "      <td>2.0</td>\n",
              "      <td>2.0</td>\n",
              "      <td>2.0</td>\n",
              "      <td>2.0</td>\n",
              "      <td>2.0</td>\n",
              "      <td>2.0</td>\n",
              "      <td>2.0</td>\n",
              "      <td>0.0</td>\n",
              "    </tr>\n",
              "    <tr>\n",
              "      <th>4</th>\n",
              "      <td>134</td>\n",
              "      <td>13.60</td>\n",
              "      <td>3.50</td>\n",
              "      <td>27.78</td>\n",
              "      <td>1</td>\n",
              "      <td>60</td>\n",
              "      <td>25.99</td>\n",
              "      <td>57.34</td>\n",
              "      <td>49</td>\n",
              "      <td>1</td>\n",
              "      <td>2.0</td>\n",
              "      <td>0.0</td>\n",
              "      <td>2.0</td>\n",
              "      <td>1.0</td>\n",
              "      <td>2.0</td>\n",
              "      <td>2.0</td>\n",
              "      <td>1.0</td>\n",
              "      <td>2.0</td>\n",
              "    </tr>\n",
              "  </tbody>\n",
              "</table>\n",
              "</div>"
            ],
            "text/plain": [
              "   sbp  tobacco   ldl  ...  typeagroup  obesitygroup  alcoholgroup\n",
              "0  160    12.00  5.73  ...         2.0           1.0           2.0\n",
              "1  144     0.01  4.41  ...         2.0           2.0           0.0\n",
              "2  118     0.08  3.48  ...         2.0           2.0           0.0\n",
              "3  170     7.50  6.41  ...         2.0           2.0           0.0\n",
              "4  134    13.60  3.50  ...         2.0           1.0           2.0\n",
              "\n",
              "[5 rows x 18 columns]"
            ]
          },
          "metadata": {
            "tags": []
          },
          "execution_count": 37
        }
      ]
    },
    {
      "cell_type": "code",
      "metadata": {
        "id": "zwro-RcEXZ4t",
        "colab_type": "code",
        "colab": {
          "base_uri": "https://localhost:8080/",
          "height": 202
        },
        "outputId": "c77e5ca4-1f13-4551-b7b8-199cf195d68f"
      },
      "source": [
        "# New data set the facters which have effect on chd by grouping each data below\n",
        "# the lower bound confidence interval, between the lower and upper level intervan\n",
        "# and above the upper bound interval\n",
        "df_new =df[['sbpgroup', 'alcoholgroup', 'ldlgroup', 'adipositygroup',\n",
        "          'famhist', 'typeagroup', 'obesitygroup', 'alcoholgroup',\n",
        "          'agegroup', 'chd']].copy() \n",
        "df_new.head()"
      ],
      "execution_count": 45,
      "outputs": [
        {
          "output_type": "execute_result",
          "data": {
            "text/html": [
              "<div>\n",
              "<style scoped>\n",
              "    .dataframe tbody tr th:only-of-type {\n",
              "        vertical-align: middle;\n",
              "    }\n",
              "\n",
              "    .dataframe tbody tr th {\n",
              "        vertical-align: top;\n",
              "    }\n",
              "\n",
              "    .dataframe thead th {\n",
              "        text-align: right;\n",
              "    }\n",
              "</style>\n",
              "<table border=\"1\" class=\"dataframe\">\n",
              "  <thead>\n",
              "    <tr style=\"text-align: right;\">\n",
              "      <th></th>\n",
              "      <th>sbpgroup</th>\n",
              "      <th>alcoholgroup</th>\n",
              "      <th>ldlgroup</th>\n",
              "      <th>adipositygroup</th>\n",
              "      <th>famhist</th>\n",
              "      <th>typeagroup</th>\n",
              "      <th>obesitygroup</th>\n",
              "      <th>alcoholgroup</th>\n",
              "      <th>agegroup</th>\n",
              "      <th>chd</th>\n",
              "    </tr>\n",
              "  </thead>\n",
              "  <tbody>\n",
              "    <tr>\n",
              "      <th>0</th>\n",
              "      <td>2.0</td>\n",
              "      <td>2.0</td>\n",
              "      <td>2.0</td>\n",
              "      <td>0.0</td>\n",
              "      <td>1</td>\n",
              "      <td>2.0</td>\n",
              "      <td>1.0</td>\n",
              "      <td>2.0</td>\n",
              "      <td>2.0</td>\n",
              "      <td>1</td>\n",
              "    </tr>\n",
              "    <tr>\n",
              "      <th>1</th>\n",
              "      <td>2.0</td>\n",
              "      <td>0.0</td>\n",
              "      <td>2.0</td>\n",
              "      <td>2.0</td>\n",
              "      <td>0</td>\n",
              "      <td>2.0</td>\n",
              "      <td>2.0</td>\n",
              "      <td>0.0</td>\n",
              "      <td>2.0</td>\n",
              "      <td>1</td>\n",
              "    </tr>\n",
              "    <tr>\n",
              "      <th>2</th>\n",
              "      <td>0.0</td>\n",
              "      <td>0.0</td>\n",
              "      <td>1.0</td>\n",
              "      <td>2.0</td>\n",
              "      <td>1</td>\n",
              "      <td>2.0</td>\n",
              "      <td>2.0</td>\n",
              "      <td>0.0</td>\n",
              "      <td>2.0</td>\n",
              "      <td>0</td>\n",
              "    </tr>\n",
              "    <tr>\n",
              "      <th>3</th>\n",
              "      <td>2.0</td>\n",
              "      <td>0.0</td>\n",
              "      <td>2.0</td>\n",
              "      <td>2.0</td>\n",
              "      <td>1</td>\n",
              "      <td>2.0</td>\n",
              "      <td>2.0</td>\n",
              "      <td>0.0</td>\n",
              "      <td>2.0</td>\n",
              "      <td>1</td>\n",
              "    </tr>\n",
              "    <tr>\n",
              "      <th>4</th>\n",
              "      <td>0.0</td>\n",
              "      <td>2.0</td>\n",
              "      <td>1.0</td>\n",
              "      <td>2.0</td>\n",
              "      <td>1</td>\n",
              "      <td>2.0</td>\n",
              "      <td>1.0</td>\n",
              "      <td>2.0</td>\n",
              "      <td>2.0</td>\n",
              "      <td>1</td>\n",
              "    </tr>\n",
              "  </tbody>\n",
              "</table>\n",
              "</div>"
            ],
            "text/plain": [
              "   sbpgroup  alcoholgroup  ldlgroup  ...  alcoholgroup  agegroup  chd\n",
              "0       2.0           2.0       2.0  ...           2.0       2.0    1\n",
              "1       2.0           0.0       2.0  ...           0.0       2.0    1\n",
              "2       0.0           0.0       1.0  ...           0.0       2.0    0\n",
              "3       2.0           0.0       2.0  ...           0.0       2.0    1\n",
              "4       0.0           2.0       1.0  ...           2.0       2.0    1\n",
              "\n",
              "[5 rows x 10 columns]"
            ]
          },
          "metadata": {
            "tags": []
          },
          "execution_count": 45
        }
      ]
    },
    {
      "cell_type": "code",
      "metadata": {
        "id": "pypI9v5keL72",
        "colab_type": "code",
        "colab": {
          "base_uri": "https://localhost:8080/",
          "height": 355
        },
        "outputId": "027eb96d-8a5b-4ca5-ae69-d242f5b2fe43"
      },
      "source": [
        "df_new.corr()"
      ],
      "execution_count": 47,
      "outputs": [
        {
          "output_type": "execute_result",
          "data": {
            "text/html": [
              "<div>\n",
              "<style scoped>\n",
              "    .dataframe tbody tr th:only-of-type {\n",
              "        vertical-align: middle;\n",
              "    }\n",
              "\n",
              "    .dataframe tbody tr th {\n",
              "        vertical-align: top;\n",
              "    }\n",
              "\n",
              "    .dataframe thead th {\n",
              "        text-align: right;\n",
              "    }\n",
              "</style>\n",
              "<table border=\"1\" class=\"dataframe\">\n",
              "  <thead>\n",
              "    <tr style=\"text-align: right;\">\n",
              "      <th></th>\n",
              "      <th>sbpgroup</th>\n",
              "      <th>alcoholgroup</th>\n",
              "      <th>ldlgroup</th>\n",
              "      <th>adipositygroup</th>\n",
              "      <th>famhist</th>\n",
              "      <th>typeagroup</th>\n",
              "      <th>obesitygroup</th>\n",
              "      <th>alcoholgroup</th>\n",
              "      <th>agegroup</th>\n",
              "      <th>chd</th>\n",
              "    </tr>\n",
              "  </thead>\n",
              "  <tbody>\n",
              "    <tr>\n",
              "      <th>sbpgroup</th>\n",
              "      <td>1.000000</td>\n",
              "      <td>0.110558</td>\n",
              "      <td>0.202644</td>\n",
              "      <td>0.249295</td>\n",
              "      <td>0.056831</td>\n",
              "      <td>0.017243</td>\n",
              "      <td>0.219585</td>\n",
              "      <td>0.110558</td>\n",
              "      <td>0.258839</td>\n",
              "      <td>0.161840</td>\n",
              "    </tr>\n",
              "    <tr>\n",
              "      <th>alcoholgroup</th>\n",
              "      <td>0.110558</td>\n",
              "      <td>1.000000</td>\n",
              "      <td>-0.111148</td>\n",
              "      <td>0.101081</td>\n",
              "      <td>0.053115</td>\n",
              "      <td>-0.023490</td>\n",
              "      <td>0.062054</td>\n",
              "      <td>1.000000</td>\n",
              "      <td>0.054157</td>\n",
              "      <td>0.034815</td>\n",
              "    </tr>\n",
              "    <tr>\n",
              "      <th>ldlgroup</th>\n",
              "      <td>0.202644</td>\n",
              "      <td>-0.111148</td>\n",
              "      <td>1.000000</td>\n",
              "      <td>0.361916</td>\n",
              "      <td>0.151426</td>\n",
              "      <td>-0.036456</td>\n",
              "      <td>0.348445</td>\n",
              "      <td>-0.111148</td>\n",
              "      <td>0.244686</td>\n",
              "      <td>0.235587</td>\n",
              "    </tr>\n",
              "    <tr>\n",
              "      <th>adipositygroup</th>\n",
              "      <td>0.249295</td>\n",
              "      <td>0.101081</td>\n",
              "      <td>0.361916</td>\n",
              "      <td>1.000000</td>\n",
              "      <td>0.155514</td>\n",
              "      <td>0.036829</td>\n",
              "      <td>0.666578</td>\n",
              "      <td>0.101081</td>\n",
              "      <td>0.442777</td>\n",
              "      <td>0.208988</td>\n",
              "    </tr>\n",
              "    <tr>\n",
              "      <th>famhist</th>\n",
              "      <td>0.056831</td>\n",
              "      <td>0.053115</td>\n",
              "      <td>0.151426</td>\n",
              "      <td>0.155514</td>\n",
              "      <td>1.000000</td>\n",
              "      <td>0.014790</td>\n",
              "      <td>0.123211</td>\n",
              "      <td>0.053115</td>\n",
              "      <td>0.223936</td>\n",
              "      <td>0.272373</td>\n",
              "    </tr>\n",
              "    <tr>\n",
              "      <th>typeagroup</th>\n",
              "      <td>0.017243</td>\n",
              "      <td>-0.023490</td>\n",
              "      <td>-0.036456</td>\n",
              "      <td>0.036829</td>\n",
              "      <td>0.014790</td>\n",
              "      <td>1.000000</td>\n",
              "      <td>0.006700</td>\n",
              "      <td>-0.023490</td>\n",
              "      <td>0.004692</td>\n",
              "      <td>0.002419</td>\n",
              "    </tr>\n",
              "    <tr>\n",
              "      <th>obesitygroup</th>\n",
              "      <td>0.219585</td>\n",
              "      <td>0.062054</td>\n",
              "      <td>0.348445</td>\n",
              "      <td>0.666578</td>\n",
              "      <td>0.123211</td>\n",
              "      <td>0.006700</td>\n",
              "      <td>1.000000</td>\n",
              "      <td>0.062054</td>\n",
              "      <td>0.265687</td>\n",
              "      <td>0.103867</td>\n",
              "    </tr>\n",
              "    <tr>\n",
              "      <th>alcoholgroup</th>\n",
              "      <td>0.110558</td>\n",
              "      <td>1.000000</td>\n",
              "      <td>-0.111148</td>\n",
              "      <td>0.101081</td>\n",
              "      <td>0.053115</td>\n",
              "      <td>-0.023490</td>\n",
              "      <td>0.062054</td>\n",
              "      <td>1.000000</td>\n",
              "      <td>0.054157</td>\n",
              "      <td>0.034815</td>\n",
              "    </tr>\n",
              "    <tr>\n",
              "      <th>agegroup</th>\n",
              "      <td>0.258839</td>\n",
              "      <td>0.054157</td>\n",
              "      <td>0.244686</td>\n",
              "      <td>0.442777</td>\n",
              "      <td>0.223936</td>\n",
              "      <td>0.004692</td>\n",
              "      <td>0.265687</td>\n",
              "      <td>0.054157</td>\n",
              "      <td>1.000000</td>\n",
              "      <td>0.313842</td>\n",
              "    </tr>\n",
              "    <tr>\n",
              "      <th>chd</th>\n",
              "      <td>0.161840</td>\n",
              "      <td>0.034815</td>\n",
              "      <td>0.235587</td>\n",
              "      <td>0.208988</td>\n",
              "      <td>0.272373</td>\n",
              "      <td>0.002419</td>\n",
              "      <td>0.103867</td>\n",
              "      <td>0.034815</td>\n",
              "      <td>0.313842</td>\n",
              "      <td>1.000000</td>\n",
              "    </tr>\n",
              "  </tbody>\n",
              "</table>\n",
              "</div>"
            ],
            "text/plain": [
              "                sbpgroup  alcoholgroup  ...  agegroup       chd\n",
              "sbpgroup        1.000000      0.110558  ...  0.258839  0.161840\n",
              "alcoholgroup    0.110558      1.000000  ...  0.054157  0.034815\n",
              "ldlgroup        0.202644     -0.111148  ...  0.244686  0.235587\n",
              "adipositygroup  0.249295      0.101081  ...  0.442777  0.208988\n",
              "famhist         0.056831      0.053115  ...  0.223936  0.272373\n",
              "typeagroup      0.017243     -0.023490  ...  0.004692  0.002419\n",
              "obesitygroup    0.219585      0.062054  ...  0.265687  0.103867\n",
              "alcoholgroup    0.110558      1.000000  ...  0.054157  0.034815\n",
              "agegroup        0.258839      0.054157  ...  1.000000  0.313842\n",
              "chd             0.161840      0.034815  ...  0.313842  1.000000\n",
              "\n",
              "[10 rows x 10 columns]"
            ]
          },
          "metadata": {
            "tags": []
          },
          "execution_count": 47
        }
      ]
    },
    {
      "cell_type": "code",
      "metadata": {
        "id": "iGN0uV-Vefcd",
        "colab_type": "code",
        "colab": {
          "base_uri": "https://localhost:8080/",
          "height": 292
        },
        "outputId": "755ef27a-b920-4e54-c335-77add6abb324"
      },
      "source": [
        "#\n",
        "%matplotlib inline\n",
        "import matplotlib.pyplot as plt\n",
        "import seaborn as sns\n",
        "# we have to see each features the crosstab with coronary heart disease\n",
        "# age group ('0' means age<=42, '1' means 42< age <= 44 and '2' means age >44) \n",
        "# and coronary heart disease ('0' means absent and '1' means present)\n",
        "small_df_cr=pd.crosstab(df['chd'], df['agegroup'])\n",
        "small_df_cr.plot.bar()\n",
        "plt.title('Age group vs Coronary heart disease')\n",
        "plt.show()"
      ],
      "execution_count": 54,
      "outputs": [
        {
          "output_type": "display_data",
          "data": {
            "image/png": "[encoded data removed]",
            "text/plain": [
              "<Figure size 432x288 with 1 Axes>"
            ]
          },
          "metadata": {
            "tags": [],
            "needs_background": "light"
          }
        }
      ]
    },
    {
      "cell_type": "code",
      "metadata": {
        "id": "aYyjf31nrzxT",
        "colab_type": "code",
        "colab": {
          "base_uri": "https://localhost:8080/",
          "height": 265
        },
        "outputId": "089795fe-90b7-4ebe-d0d5-d85502158c43"
      },
      "source": [
        "df_new.corr().plot();"
      ],
      "execution_count": 70,
      "outputs": [
        {
          "output_type": "display_data",
          "data": {
            "image/png": "[encoded data removed]",
            "text/plain": [
              "<Figure size 432x288 with 1 Axes>"
            ]
          },
          "metadata": {
            "tags": [],
            "needs_background": "light"
          }
        }
      ]
    },
    {
      "cell_type": "code",
      "metadata": {
        "id": "EPas3aAFfCNB",
        "colab_type": "code",
        "colab": {
          "base_uri": "https://localhost:8080/",
          "height": 292
        },
        "outputId": "f3fbbcc9-816e-4c6d-f20d-94e88c5cb423"
      },
      "source": [
        "# we have to see each features the crosstab with coronary heart disease\n",
        "# alcohol group ('0' means age<=14.8, '1' means 14.8< age <= 19.3 and '2' means age >19.3) \n",
        "# and coronary heart disease ('0' means absent and '1' means present)\n",
        "small_df_cr=pd.crosstab(df['chd'], df['alcoholgroup'])\n",
        "small_df_cr.plot.bar()\n",
        "plt.title('Alcohol group vs Coronary heart disease')\n",
        "plt.show()"
      ],
      "execution_count": 58,
      "outputs": [
        {
          "output_type": "display_data",
          "data": {
            "image/png": "[encoded data removed]",
            "text/plain": [
              "<Figure size 432x288 with 1 Axes>"
            ]
          },
          "metadata": {
            "tags": [],
            "needs_background": "light"
          }
        }
      ]
    },
    {
      "cell_type": "code",
      "metadata": {
        "id": "dfvyrhapoowc",
        "colab_type": "code",
        "colab": {
          "base_uri": "https://localhost:8080/",
          "height": 292
        },
        "outputId": "437967fd-9e7d-494d-cfca-111f5f96085d"
      },
      "source": [
        "# obesity group ('0' means age<=24.7, '1' means 24.7< age <= 26.1 and '2' means age >26.1) \n",
        "# and coronary heart disease ('0' means absent and '1' means present)\n",
        "small_df_cr=pd.crosstab(df['chd'], df['obesitygroup'])\n",
        "small_df_cr.plot.bar()\n",
        "plt.title('Obesity group vs Coronary heart disease')\n",
        "plt.show()"
      ],
      "execution_count": 59,
      "outputs": [
        {
          "output_type": "display_data",
          "data": {
            "image/png": "[encoded data removed]",
            "text/plain": [
              "<Figure size 432x288 with 1 Axes>"
            ]
          },
          "metadata": {
            "tags": [],
            "needs_background": "light"
          }
        }
      ]
    },
    {
      "cell_type": "markdown",
      "metadata": {
        "id": "_12VhTUj38wT",
        "colab_type": "text"
      },
      "source": [
        ""
      ]
    }
  ]
}