{
  "nbformat": 4,
  "nbformat_minor": 0,
  "metadata": {
    "colab": {
      "name": "Tuan Ky Build Week 2 project assignment_applied_modeling_1+2+3.ipynb",
      "provenance": [],
      "collapsed_sections": [],
      "machine_shape": "hm",
      "include_colab_link": true
    },
    "kernelspec": {
      "display_name": "Python 3",
      "language": "python",
      "name": "python3"
    },
    "language_info": {
      "codemirror_mode": {
        "name": "ipython",
        "version": 3
      },
      "file_extension": ".py",
      "mimetype": "text/x-python",
      "name": "python",
      "nbconvert_exporter": "python",
      "pygments_lexer": "ipython3",
      "version": "3.7.3"
    }
  },
  "cells": [
    {
      "cell_type": "markdown",
      "metadata": {
        "id": "view-in-github",
        "colab_type": "text"
      },
      "source": [
        "<a href=\"https://colab.research.google.com/github/tuanky/DS-Unit-1-Build/blob/master/Tuan_Ky_Build_Week_2_project_assignment_applied_modeling_1%2B2%2B3.ipynb\" target=\"_parent\"><img src=\"https://colab.research.google.com/assets/colab-badge.svg\" alt=\"Open In Colab\"/></a>"
      ]
    },
    {
      "cell_type": "markdown",
      "metadata": {
        "colab_type": "text",
        "id": "nCc3XZEyG3XV"
      },
      "source": [
        "Lambda School Data Science\n",
        "\n",
        "*Unit 2, Sprint 3, Module 1*\n",
        "\n",
        "---\n",
        "\n",
        "\n",
        "# Define ML problems\n",
        "\n",
        "You will use your portfolio project dataset for all assignments this sprint.\n",
        "\n",
        "## Assignment\n",
        "\n",
        "Complete these tasks for your project, and document your decisions.\n",
        "\n",
        "- [ ] Choose your target. Which column in your tabular dataset will you predict? ** Crash Descriptor**\n",
        "- [ ] Is your problem regression or classification? Classification\n",
        "- [ ] How is your target distributed?\n",
        "    - Classification: How many classes? Are the classes imbalanced?** 4 classes**\n",
        "    - Regression: Is the target right-skewed? If so, you may want to log transform the target.\n",
        "- [ ] Choose which observations you will use to train, validate, and test your model.\n",
        "    - Are some observations outliers? Will you exclude them?\n",
        "    - Will you do a random split or a time-based split?\n",
        "- [ ] Choose your evaluation metric(s).\n",
        "    - Classification: Is your majority class frequency > 50% and < 70% ? If so, you can just use accuracy if you want. Outside that range, accuracy could be misleading. What evaluation metric will you choose, in addition to or instead of accuracy? **The majority class, Property Damage, is  within 50-70%**\n",
        "- [ ] Begin to clean and explore your data.\n",
        "- [ ] Begin to choose which features, if any, to exclude. Would some features \"leak\" future information?"
      ]
    },
    {
      "cell_type": "code",
      "metadata": {
        "id": "H4WsGULIKfAy",
        "colab_type": "code",
        "outputId": "1075c28f-9408-4994-dad3-5630668d3835",
        "colab": {
          "base_uri": "https://localhost:8080/",
          "height": 34
        }
      },
      "source": [
        "\n",
        "\n",
        "!pip install dask"
      ],
      "execution_count": 1,
      "outputs": [
        {
          "output_type": "stream",
          "text": [
            "Requirement already satisfied: dask in /usr/local/lib/python3.6/dist-packages (1.1.5)\n"
          ],
          "name": "stdout"
        }
      ]
    },
    {
      "cell_type": "code",
      "metadata": {
        "id": "Xu6FNcXu68op",
        "colab_type": "code",
        "outputId": "915070fb-0c38-4532-d5e2-affc22c89774",
        "colab": {
          "base_uri": "https://localhost:8080/",
          "height": 119
        }
      },
      "source": [
        "import pandas as pd\n",
        "import numpy as np\n",
        "import dask.dataframe as dd\n",
        "!pip install psutil requests"
      ],
      "execution_count": 2,
      "outputs": [
        {
          "output_type": "stream",
          "text": [
            "Requirement already satisfied: psutil in /usr/local/lib/python3.6/dist-packages (5.4.8)\n",
            "Requirement already satisfied: requests in /usr/local/lib/python3.6/dist-packages (2.21.0)\n",
            "Requirement already satisfied: certifi>=2017.4.17 in /usr/local/lib/python3.6/dist-packages (from requests) (2019.9.11)\n",
            "Requirement already satisfied: chardet<3.1.0,>=3.0.2 in /usr/local/lib/python3.6/dist-packages (from requests) (3.0.4)\n",
            "Requirement already satisfied: idna<2.9,>=2.5 in /usr/local/lib/python3.6/dist-packages (from requests) (2.8)\n",
            "Requirement already satisfied: urllib3<1.25,>=1.21.1 in /usr/local/lib/python3.6/dist-packages (from requests) (1.24.3)\n"
          ],
          "name": "stdout"
        }
      ]
    },
    {
      "cell_type": "code",
      "metadata": {
        "id": "l_v1lbaf72pa",
        "colab_type": "code",
        "outputId": "88d02a77-3ed7-4ce5-fbcc-c5f64b32df38",
        "colab": {
          "base_uri": "https://localhost:8080/",
          "height": 122
        }
      },
      "source": [
        "from google.colab import drive\n",
        "drive.mount('/content/gdrive')"
      ],
      "execution_count": 3,
      "outputs": [
        {
          "output_type": "stream",
          "text": [
            "Go to this URL in a browser: https://accounts.google.com/o/oauth2/auth?client_id=947318989803-6bn6qk8qdgf4n4g3pfee6491hc0brc4i.apps.googleusercontent.com&redirect_uri=urn%3Aietf%3Awg%3Aoauth%3A2.0%3Aoob&scope=email%20https%3A%2F%2Fwww.googleapis.com%2Fauth%2Fdocs.test%20https%3A%2F%2Fwww.googleapis.com%2Fauth%2Fdrive%20https%3A%2F%2Fwww.googleapis.com%2Fauth%2Fdrive.photos.readonly%20https%3A%2F%2Fwww.googleapis.com%2Fauth%2Fpeopleapi.readonly&response_type=code\n",
            "\n",
            "Enter your authorization code:\n",
            "··········\n",
            "Mounted at /content/gdrive\n"
          ],
          "name": "stdout"
        }
      ]
    },
    {
      "cell_type": "code",
      "metadata": {
        "colab_type": "code",
        "outputId": "431f20a2-ae21-4498-bfba-058c2e490112",
        "id": "qoNi9iGQQxSS",
        "colab": {
          "base_uri": "https://localhost:8080/",
          "height": 136
        }
      },
      "source": [
        "%%time\n",
        "def reduce_mem_usage(df):\n",
        "    \"\"\" iterate through all the columns of a dataframe and modify the data type\n",
        "        to reduce memory usage.        \n",
        "    \"\"\"\n",
        "    start_mem = df.memory_usage().sum() / 1024**2\n",
        "    start_mem_gb = start_mem / 1024\n",
        "    print(f'Memory usage of dataframe is {start_mem:.2f} MB',\n",
        "          f'/ {start_mem_gb:.2f} GB')\n",
        "    \n",
        "    for col in df:\n",
        "        col_type = str(df[col].dtypes)\n",
        "        \n",
        "        if col_type != 'object':\n",
        "            c_min = df[col].min()\n",
        "            c_max = df[col].max()\n",
        "            if col_type[:3] == 'int':\n",
        "                if c_min > np.iinfo(np.int8).min and c_max < np.iinfo(np.int8).max:\n",
        "                    df[col] = df[col].astype(np.int8)\n",
        "                elif c_min > np.iinfo(np.int16).min and c_max < np.iinfo(np.int16).max:\n",
        "                    df[col] = df[col].astype(np.int16)\n",
        "                elif c_min > np.iinfo(np.int32).min and c_max < np.iinfo(np.int32).max:\n",
        "                    df[col] = df[col].astype(np.int32)\n",
        "                elif c_min > np.iinfo(np.int64).min and c_max < np.iinfo(np.int64).max:\n",
        "                    df[col] = df[col].astype(np.int64)  \n",
        "            else:\n",
        "                #if c_min > np.finfo(np.float16).min and c_max < np.finfo(np.float16).max:\n",
        "                #    df[col] = df[col].astype(np.float16)\n",
        "                if c_min > np.finfo(np.float32).min and c_max < np.finfo(np.float32).max:\n",
        "                    df[col] = df[col].astype(np.float32)\n",
        "                else:\n",
        "                    df[col] = df[col].astype(np.float64)\n",
        "        else:\n",
        "            df[col] = df[col].astype('category')\n",
        "\n",
        "    end_mem = df.memory_usage().sum() / 1024**2\n",
        "    end_mem_gb = end_mem / 1024\n",
        "    print(f'Memory usage after optimization is: {end_mem:.2f} MB',\n",
        "          f'/ {end_mem_gb:.2f} GB')\n",
        "    mem_dec = 100 * (start_mem - end_mem) / start_mem\n",
        "    print(f'Decreased by {mem_dec:.1f}%')\n",
        "    \n",
        "    return df\n",
        "\n",
        "\n",
        "def import_data(file):\n",
        "    \"\"\"create a dataframe and optimize its memory usage\"\"\"\n",
        "\n",
        "    dtypes = {\n",
        "        'AVProductStatesIdentifier': 'float64',\n",
        "        'AVProductsEnabled': 'float64',\n",
        "        'AVProductsInstalled': 'float64',\n",
        "        'GeoNameIdentifier': 'float64',\n",
        "        'IsProtected': 'float64',\n",
        "        'PuaMode': 'object'\n",
        "    }\n",
        "    ddf = dd.read_csv(file, dtype=dtypes, parse_dates=True, keep_date_col=True)\n",
        "    df = ddf.compute()\n",
        "    df = reduce_mem_usage(df)\n",
        "    return df\n",
        "\n",
        "file = 'gdrive/My Drive/train.csv'\n",
        "print('-' * 80)\n",
        "print('train')\n",
        "df = import_data(file)"
      ],
      "execution_count": 4,
      "outputs": [
        {
          "output_type": "stream",
          "text": [
            "--------------------------------------------------------------------------------\n",
            "train\n",
            "Memory usage of dataframe is 129.87 MB / 0.13 GB\n",
            "Memory usage after optimization is: 31.46 MB / 0.03 GB\n",
            "Decreased by 75.8%\n",
            "CPU times: user 4.99 s, sys: 1.37 s, total: 6.36 s\n",
            "Wall time: 16.2 s\n"
          ],
          "name": "stdout"
        }
      ]
    },
    {
      "cell_type": "code",
      "metadata": {
        "id": "_XUvSpvc9XWx",
        "colab_type": "code",
        "outputId": "332e192c-d786-4bb1-8476-b50b7bd95a62",
        "colab": {
          "base_uri": "https://localhost:8080/",
          "height": 425
        }
      },
      "source": [
        "print(df.shape)\n",
        "df.head()"
      ],
      "execution_count": 5,
      "outputs": [
        {
          "output_type": "stream",
          "text": [
            "(895916, 18)\n"
          ],
          "name": "stdout"
        },
        {
          "output_type": "execute_result",
          "data": {
            "text/html": [
              "<div>\n",
              "<style scoped>\n",
              "    .dataframe tbody tr th:only-of-type {\n",
              "        vertical-align: middle;\n",
              "    }\n",
              "\n",
              "    .dataframe tbody tr th {\n",
              "        vertical-align: top;\n",
              "    }\n",
              "\n",
              "    .dataframe thead th {\n",
              "        text-align: right;\n",
              "    }\n",
              "</style>\n",
              "<table border=\"1\" class=\"dataframe\">\n",
              "  <thead>\n",
              "    <tr style=\"text-align: right;\">\n",
              "      <th></th>\n",
              "      <th>Year</th>\n",
              "      <th>Crash Descriptor</th>\n",
              "      <th>Time</th>\n",
              "      <th>Date</th>\n",
              "      <th>Day of Week</th>\n",
              "      <th>Police Report</th>\n",
              "      <th>Lighting Conditions</th>\n",
              "      <th>Municipality</th>\n",
              "      <th>Collision Type Descriptor</th>\n",
              "      <th>County Name</th>\n",
              "      <th>Road Descriptor</th>\n",
              "      <th>Weather Conditions</th>\n",
              "      <th>Traffic Control Device</th>\n",
              "      <th>Road Surface Conditions</th>\n",
              "      <th>DOT Reference Marker Location</th>\n",
              "      <th>Pedestrian Bicyclist Action</th>\n",
              "      <th>Event Descriptor</th>\n",
              "      <th>Number of Vehicles Involved</th>\n",
              "    </tr>\n",
              "  </thead>\n",
              "  <tbody>\n",
              "    <tr>\n",
              "      <th>0</th>\n",
              "      <td>2014</td>\n",
              "      <td>Injury Accident</td>\n",
              "      <td>5:35</td>\n",
              "      <td>6/18/2014</td>\n",
              "      <td>Wednesday</td>\n",
              "      <td>Y</td>\n",
              "      <td>Dawn</td>\n",
              "      <td>NEW YORK</td>\n",
              "      <td>OTHER</td>\n",
              "      <td>NEW YORK</td>\n",
              "      <td>Straight and Level</td>\n",
              "      <td>Clear</td>\n",
              "      <td>None</td>\n",
              "      <td>Dry</td>\n",
              "      <td>NaN</td>\n",
              "      <td>Crossing, No Signal or Crosswalk</td>\n",
              "      <td>Pedestrian, Collision With</td>\n",
              "      <td>1</td>\n",
              "    </tr>\n",
              "    <tr>\n",
              "      <th>1</th>\n",
              "      <td>2014</td>\n",
              "      <td>Property Damage Accident</td>\n",
              "      <td>15:28</td>\n",
              "      <td>11/6/2014</td>\n",
              "      <td>Thursday</td>\n",
              "      <td>Y</td>\n",
              "      <td>Daylight</td>\n",
              "      <td>HENRIETTA</td>\n",
              "      <td>RIGHT ANGLE</td>\n",
              "      <td>MONROE</td>\n",
              "      <td>Straight and Level</td>\n",
              "      <td>Rain</td>\n",
              "      <td>None</td>\n",
              "      <td>Wet</td>\n",
              "      <td>NaN</td>\n",
              "      <td>Not Applicable</td>\n",
              "      <td>Other Motor Vehicle, Collision With</td>\n",
              "      <td>2</td>\n",
              "    </tr>\n",
              "    <tr>\n",
              "      <th>2</th>\n",
              "      <td>2014</td>\n",
              "      <td>Property Damage Accident</td>\n",
              "      <td>15:27</td>\n",
              "      <td>3/19/2014</td>\n",
              "      <td>Wednesday</td>\n",
              "      <td>Y</td>\n",
              "      <td>Daylight</td>\n",
              "      <td>CICERO</td>\n",
              "      <td>OVERTAKING</td>\n",
              "      <td>ONONDAGA</td>\n",
              "      <td>Straight and Level</td>\n",
              "      <td>Cloudy</td>\n",
              "      <td>None</td>\n",
              "      <td>Dry</td>\n",
              "      <td>NaN</td>\n",
              "      <td>Not Applicable</td>\n",
              "      <td>Other Motor Vehicle, Collision With</td>\n",
              "      <td>2</td>\n",
              "    </tr>\n",
              "    <tr>\n",
              "      <th>3</th>\n",
              "      <td>2014</td>\n",
              "      <td>Property Damage Accident</td>\n",
              "      <td>4:03</td>\n",
              "      <td>6/23/2014</td>\n",
              "      <td>Monday</td>\n",
              "      <td>Y</td>\n",
              "      <td>Dark-Road Unlighted</td>\n",
              "      <td>COLESVILLE</td>\n",
              "      <td>OTHER</td>\n",
              "      <td>BROOME</td>\n",
              "      <td>Straight and Grade</td>\n",
              "      <td>Clear</td>\n",
              "      <td>None</td>\n",
              "      <td>Dry</td>\n",
              "      <td>88I91011017</td>\n",
              "      <td>Not Applicable</td>\n",
              "      <td>Deer</td>\n",
              "      <td>1</td>\n",
              "    </tr>\n",
              "    <tr>\n",
              "      <th>4</th>\n",
              "      <td>2014</td>\n",
              "      <td>Property Damage Accident</td>\n",
              "      <td>15:28</td>\n",
              "      <td>9/27/2014</td>\n",
              "      <td>Saturday</td>\n",
              "      <td>Y</td>\n",
              "      <td>Daylight</td>\n",
              "      <td>HECTOR</td>\n",
              "      <td>OTHER</td>\n",
              "      <td>SCHUYLER</td>\n",
              "      <td>Straight and Level</td>\n",
              "      <td>Cloudy</td>\n",
              "      <td>None</td>\n",
              "      <td>Dry</td>\n",
              "      <td>79 63061019</td>\n",
              "      <td>Not Applicable</td>\n",
              "      <td>Deer</td>\n",
              "      <td>1</td>\n",
              "    </tr>\n",
              "  </tbody>\n",
              "</table>\n",
              "</div>"
            ],
            "text/plain": [
              "   Year  ... Number of Vehicles Involved\n",
              "0  2014  ...                           1\n",
              "1  2014  ...                           2\n",
              "2  2014  ...                           2\n",
              "3  2014  ...                           1\n",
              "4  2014  ...                           1\n",
              "\n",
              "[5 rows x 18 columns]"
            ]
          },
          "metadata": {
            "tags": []
          },
          "execution_count": 5
        }
      ]
    },
    {
      "cell_type": "code",
      "metadata": {
        "id": "zjPipacFSkXw",
        "colab_type": "code",
        "outputId": "f6d94f0f-c697-4c39-c417-980397f4f046",
        "colab": {
          "base_uri": "https://localhost:8080/",
          "height": 374
        }
      },
      "source": [
        "df.tail()"
      ],
      "execution_count": 6,
      "outputs": [
        {
          "output_type": "execute_result",
          "data": {
            "text/html": [
              "<div>\n",
              "<style scoped>\n",
              "    .dataframe tbody tr th:only-of-type {\n",
              "        vertical-align: middle;\n",
              "    }\n",
              "\n",
              "    .dataframe tbody tr th {\n",
              "        vertical-align: top;\n",
              "    }\n",
              "\n",
              "    .dataframe thead th {\n",
              "        text-align: right;\n",
              "    }\n",
              "</style>\n",
              "<table border=\"1\" class=\"dataframe\">\n",
              "  <thead>\n",
              "    <tr style=\"text-align: right;\">\n",
              "      <th></th>\n",
              "      <th>Year</th>\n",
              "      <th>Crash Descriptor</th>\n",
              "      <th>Time</th>\n",
              "      <th>Date</th>\n",
              "      <th>Day of Week</th>\n",
              "      <th>Police Report</th>\n",
              "      <th>Lighting Conditions</th>\n",
              "      <th>Municipality</th>\n",
              "      <th>Collision Type Descriptor</th>\n",
              "      <th>County Name</th>\n",
              "      <th>Road Descriptor</th>\n",
              "      <th>Weather Conditions</th>\n",
              "      <th>Traffic Control Device</th>\n",
              "      <th>Road Surface Conditions</th>\n",
              "      <th>DOT Reference Marker Location</th>\n",
              "      <th>Pedestrian Bicyclist Action</th>\n",
              "      <th>Event Descriptor</th>\n",
              "      <th>Number of Vehicles Involved</th>\n",
              "    </tr>\n",
              "  </thead>\n",
              "  <tbody>\n",
              "    <tr>\n",
              "      <th>224083</th>\n",
              "      <td>2016</td>\n",
              "      <td>Property Damage Accident</td>\n",
              "      <td>18:19</td>\n",
              "      <td>11/27/2016</td>\n",
              "      <td>Sunday</td>\n",
              "      <td>Y</td>\n",
              "      <td>Dark-Road Unlighted</td>\n",
              "      <td>LEICESTER</td>\n",
              "      <td>OTHER</td>\n",
              "      <td>LIVINGSTON</td>\n",
              "      <td>Straight and Level</td>\n",
              "      <td>Cloudy</td>\n",
              "      <td>None</td>\n",
              "      <td>Dry</td>\n",
              "      <td>36 42021185</td>\n",
              "      <td>Not Applicable</td>\n",
              "      <td>Deer</td>\n",
              "      <td>1</td>\n",
              "    </tr>\n",
              "    <tr>\n",
              "      <th>224084</th>\n",
              "      <td>2016</td>\n",
              "      <td>Property Damage Accident</td>\n",
              "      <td>16:57</td>\n",
              "      <td>4/27/2016</td>\n",
              "      <td>Wednesday</td>\n",
              "      <td>Y</td>\n",
              "      <td>Daylight</td>\n",
              "      <td>NIAGARA FALLS</td>\n",
              "      <td>OTHER</td>\n",
              "      <td>NIAGARA</td>\n",
              "      <td>Straight and Level</td>\n",
              "      <td>Clear</td>\n",
              "      <td>None</td>\n",
              "      <td>Dry</td>\n",
              "      <td>NaN</td>\n",
              "      <td>Not Applicable</td>\n",
              "      <td>Fence, Collision With Fixed Object</td>\n",
              "      <td>1</td>\n",
              "    </tr>\n",
              "    <tr>\n",
              "      <th>224085</th>\n",
              "      <td>2016</td>\n",
              "      <td>Property Damage &amp; Injury Accident</td>\n",
              "      <td>21:50</td>\n",
              "      <td>12/6/2016</td>\n",
              "      <td>Tuesday</td>\n",
              "      <td>Y</td>\n",
              "      <td>Dark-Road Unlighted</td>\n",
              "      <td>CANDOR</td>\n",
              "      <td>RIGHT ANGLE</td>\n",
              "      <td>TIOGA</td>\n",
              "      <td>Curve and Level</td>\n",
              "      <td>Snow</td>\n",
              "      <td>None</td>\n",
              "      <td>Snow/Ice</td>\n",
              "      <td>96 65011135</td>\n",
              "      <td>Not Applicable</td>\n",
              "      <td>Other Motor Vehicle, Collision With</td>\n",
              "      <td>2</td>\n",
              "    </tr>\n",
              "    <tr>\n",
              "      <th>224086</th>\n",
              "      <td>2015</td>\n",
              "      <td>Property Damage Accident</td>\n",
              "      <td>19:30</td>\n",
              "      <td>9/19/2015</td>\n",
              "      <td>Saturday</td>\n",
              "      <td>Y</td>\n",
              "      <td>Dark-Road Lighted</td>\n",
              "      <td>NORTH HEMPSTEAD</td>\n",
              "      <td>REAR END</td>\n",
              "      <td>NASSAU</td>\n",
              "      <td>Straight and Level</td>\n",
              "      <td>Clear</td>\n",
              "      <td>None</td>\n",
              "      <td>Dry</td>\n",
              "      <td>NaN</td>\n",
              "      <td>Not Applicable</td>\n",
              "      <td>Other Motor Vehicle, Collision With</td>\n",
              "      <td>2</td>\n",
              "    </tr>\n",
              "    <tr>\n",
              "      <th>224087</th>\n",
              "      <td>2016</td>\n",
              "      <td>Injury Accident</td>\n",
              "      <td>12:35</td>\n",
              "      <td>1/7/2016</td>\n",
              "      <td>Thursday</td>\n",
              "      <td>Y</td>\n",
              "      <td>Daylight</td>\n",
              "      <td>CANANDAIGUA</td>\n",
              "      <td>OTHER</td>\n",
              "      <td>ONTARIO</td>\n",
              "      <td>Straight and Level</td>\n",
              "      <td>Cloudy</td>\n",
              "      <td>No Passing Zone</td>\n",
              "      <td>Dry</td>\n",
              "      <td>NaN</td>\n",
              "      <td>Working in Roadway</td>\n",
              "      <td>Pedestrian, Collision With</td>\n",
              "      <td>2</td>\n",
              "    </tr>\n",
              "  </tbody>\n",
              "</table>\n",
              "</div>"
            ],
            "text/plain": [
              "        Year  ... Number of Vehicles Involved\n",
              "224083  2016  ...                           1\n",
              "224084  2016  ...                           1\n",
              "224085  2016  ...                           2\n",
              "224086  2015  ...                           2\n",
              "224087  2016  ...                           2\n",
              "\n",
              "[5 rows x 18 columns]"
            ]
          },
          "metadata": {
            "tags": []
          },
          "execution_count": 6
        }
      ]
    },
    {
      "cell_type": "code",
      "metadata": {
        "id": "oyxwXcXl-9q8",
        "colab_type": "code",
        "outputId": "5ec9d31c-d99c-4f3d-9264-c8a36081a854",
        "colab": {
          "base_uri": "https://localhost:8080/",
          "height": 340
        }
      },
      "source": [
        "df.dtypes"
      ],
      "execution_count": 7,
      "outputs": [
        {
          "output_type": "execute_result",
          "data": {
            "text/plain": [
              "Year                                int16\n",
              "Crash Descriptor                 category\n",
              "Time                             category\n",
              "Date                             category\n",
              "Day of Week                      category\n",
              "Police Report                    category\n",
              "Lighting Conditions              category\n",
              "Municipality                     category\n",
              "Collision Type Descriptor        category\n",
              "County Name                      category\n",
              "Road Descriptor                  category\n",
              "Weather Conditions               category\n",
              "Traffic Control Device           category\n",
              "Road Surface Conditions          category\n",
              "DOT Reference Marker Location    category\n",
              "Pedestrian Bicyclist Action      category\n",
              "Event Descriptor                 category\n",
              "Number of Vehicles Involved          int8\n",
              "dtype: object"
            ]
          },
          "metadata": {
            "tags": []
          },
          "execution_count": 7
        }
      ]
    },
    {
      "cell_type": "code",
      "metadata": {
        "id": "YnGmzWpjSHb8",
        "colab_type": "code",
        "outputId": "b0294ab0-26ff-41d5-a1be-3490a6903972",
        "colab": {
          "base_uri": "https://localhost:8080/",
          "height": 357
        }
      },
      "source": [
        "train_condition = (df['Year'] < 2016)\n",
        "train = df[train_condition]\n",
        "test = df[~train_condition]\n",
        "test.head()"
      ],
      "execution_count": 8,
      "outputs": [
        {
          "output_type": "execute_result",
          "data": {
            "text/html": [
              "<div>\n",
              "<style scoped>\n",
              "    .dataframe tbody tr th:only-of-type {\n",
              "        vertical-align: middle;\n",
              "    }\n",
              "\n",
              "    .dataframe tbody tr th {\n",
              "        vertical-align: top;\n",
              "    }\n",
              "\n",
              "    .dataframe thead th {\n",
              "        text-align: right;\n",
              "    }\n",
              "</style>\n",
              "<table border=\"1\" class=\"dataframe\">\n",
              "  <thead>\n",
              "    <tr style=\"text-align: right;\">\n",
              "      <th></th>\n",
              "      <th>Year</th>\n",
              "      <th>Crash Descriptor</th>\n",
              "      <th>Time</th>\n",
              "      <th>Date</th>\n",
              "      <th>Day of Week</th>\n",
              "      <th>Police Report</th>\n",
              "      <th>Lighting Conditions</th>\n",
              "      <th>Municipality</th>\n",
              "      <th>Collision Type Descriptor</th>\n",
              "      <th>County Name</th>\n",
              "      <th>Road Descriptor</th>\n",
              "      <th>Weather Conditions</th>\n",
              "      <th>Traffic Control Device</th>\n",
              "      <th>Road Surface Conditions</th>\n",
              "      <th>DOT Reference Marker Location</th>\n",
              "      <th>Pedestrian Bicyclist Action</th>\n",
              "      <th>Event Descriptor</th>\n",
              "      <th>Number of Vehicles Involved</th>\n",
              "    </tr>\n",
              "  </thead>\n",
              "  <tbody>\n",
              "    <tr>\n",
              "      <th>299452</th>\n",
              "      <td>2016</td>\n",
              "      <td>Property Damage &amp; Injury Accident</td>\n",
              "      <td>10:38</td>\n",
              "      <td>5/15/2016</td>\n",
              "      <td>Sunday</td>\n",
              "      <td>Y</td>\n",
              "      <td>Daylight</td>\n",
              "      <td>OYSTER BAY COVE</td>\n",
              "      <td>HEAD ON</td>\n",
              "      <td>NASSAU</td>\n",
              "      <td>Curve and Level</td>\n",
              "      <td>Cloudy</td>\n",
              "      <td>None</td>\n",
              "      <td>Dry</td>\n",
              "      <td>NaN</td>\n",
              "      <td>Not Applicable</td>\n",
              "      <td>Other Motor Vehicle, Collision With</td>\n",
              "      <td>2</td>\n",
              "    </tr>\n",
              "    <tr>\n",
              "      <th>299453</th>\n",
              "      <td>2016</td>\n",
              "      <td>Property Damage Accident</td>\n",
              "      <td>0:00</td>\n",
              "      <td>5/20/2016</td>\n",
              "      <td>Friday</td>\n",
              "      <td>N</td>\n",
              "      <td>Daylight</td>\n",
              "      <td>QUEENS</td>\n",
              "      <td>Unknown</td>\n",
              "      <td>QUEENS</td>\n",
              "      <td>Straight and Level</td>\n",
              "      <td>Clear</td>\n",
              "      <td>None</td>\n",
              "      <td>Dry</td>\n",
              "      <td>NaN</td>\n",
              "      <td>Not Applicable</td>\n",
              "      <td>Other Motor Vehicle, Collision With</td>\n",
              "      <td>2</td>\n",
              "    </tr>\n",
              "    <tr>\n",
              "      <th>299454</th>\n",
              "      <td>2016</td>\n",
              "      <td>Injury Accident</td>\n",
              "      <td>19:29</td>\n",
              "      <td>8/15/2016</td>\n",
              "      <td>Monday</td>\n",
              "      <td>Y</td>\n",
              "      <td>Daylight</td>\n",
              "      <td>DEERFIELD</td>\n",
              "      <td>OTHER</td>\n",
              "      <td>ONEIDA</td>\n",
              "      <td>Straight and Level</td>\n",
              "      <td>Cloudy</td>\n",
              "      <td>None</td>\n",
              "      <td>Dry</td>\n",
              "      <td>926A26012004</td>\n",
              "      <td>Not Applicable</td>\n",
              "      <td>Light Support/Utility Pole, Collision With Fix...</td>\n",
              "      <td>1</td>\n",
              "    </tr>\n",
              "    <tr>\n",
              "      <th>299457</th>\n",
              "      <td>2016</td>\n",
              "      <td>Property Damage Accident</td>\n",
              "      <td>12:55</td>\n",
              "      <td>3/30/2016</td>\n",
              "      <td>Wednesday</td>\n",
              "      <td>Y</td>\n",
              "      <td>Daylight</td>\n",
              "      <td>HUNTINGTON</td>\n",
              "      <td>OVERTAKING</td>\n",
              "      <td>SUFFOLK</td>\n",
              "      <td>Straight and Level</td>\n",
              "      <td>Clear</td>\n",
              "      <td>None</td>\n",
              "      <td>Dry</td>\n",
              "      <td>NaN</td>\n",
              "      <td>Not Applicable</td>\n",
              "      <td>Other Motor Vehicle, Collision With</td>\n",
              "      <td>2</td>\n",
              "    </tr>\n",
              "    <tr>\n",
              "      <th>299459</th>\n",
              "      <td>2016</td>\n",
              "      <td>Property Damage Accident</td>\n",
              "      <td>20:10</td>\n",
              "      <td>7/9/2016</td>\n",
              "      <td>Saturday</td>\n",
              "      <td>Y</td>\n",
              "      <td>Dusk</td>\n",
              "      <td>TONAWANDA</td>\n",
              "      <td>OTHER</td>\n",
              "      <td>ERIE</td>\n",
              "      <td>Straight and Level</td>\n",
              "      <td>Rain</td>\n",
              "      <td>None</td>\n",
              "      <td>Wet</td>\n",
              "      <td>290I53011010</td>\n",
              "      <td>Not Applicable</td>\n",
              "      <td>Guide Rail - Not At End, Collision With Fixed ...</td>\n",
              "      <td>1</td>\n",
              "    </tr>\n",
              "  </tbody>\n",
              "</table>\n",
              "</div>"
            ],
            "text/plain": [
              "        Year  ... Number of Vehicles Involved\n",
              "299452  2016  ...                           2\n",
              "299453  2016  ...                           2\n",
              "299454  2016  ...                           1\n",
              "299457  2016  ...                           2\n",
              "299459  2016  ...                           1\n",
              "\n",
              "[5 rows x 18 columns]"
            ]
          },
          "metadata": {
            "tags": []
          },
          "execution_count": 8
        }
      ]
    },
    {
      "cell_type": "code",
      "metadata": {
        "id": "hcrTbwkBTHws",
        "colab_type": "code",
        "outputId": "dcae40b5-4c77-48dd-aa01-d4c47932b7db",
        "colab": {
          "base_uri": "https://localhost:8080/",
          "height": 340
        }
      },
      "source": [
        "test.isnull().sum()"
      ],
      "execution_count": 9,
      "outputs": [
        {
          "output_type": "execute_result",
          "data": {
            "text/plain": [
              "Year                                  0\n",
              "Crash Descriptor                      0\n",
              "Time                                  0\n",
              "Date                                  0\n",
              "Day of Week                           0\n",
              "Police Report                         0\n",
              "Lighting Conditions                   0\n",
              "Municipality                       3210\n",
              "Collision Type Descriptor             0\n",
              "County Name                           0\n",
              "Road Descriptor                       0\n",
              "Weather Conditions                    0\n",
              "Traffic Control Device                0\n",
              "Road Surface Conditions               0\n",
              "DOT Reference Marker Location    197567\n",
              "Pedestrian Bicyclist Action           0\n",
              "Event Descriptor                      0\n",
              "Number of Vehicles Involved           0\n",
              "dtype: int64"
            ]
          },
          "metadata": {
            "tags": []
          },
          "execution_count": 9
        }
      ]
    },
    {
      "cell_type": "code",
      "metadata": {
        "id": "jUQitRLCTWNN",
        "colab_type": "code",
        "colab": {}
      },
      "source": [
        "#Choose your target. Which column in your tabular dataset will you predict? Crash Descriptor \n",
        "#link : https://catalog.data.gov/dataset/motor-vehicle-crashes-case-information-beginning-2009\n",
        "\n",
        "#Cross Validation to model the data\n",
        "target = 'Crash Descriptor'\n",
        "features = train.drop(columns=target).columns.tolist()\n",
        "\n",
        "# Arrange data into X features matrix and y target vector\n",
        "X_train = train[features]\n",
        "y_train = train[target]\n",
        "X_test = test[features]\n",
        "y_test = test[target]"
      ],
      "execution_count": 0,
      "outputs": []
    },
    {
      "cell_type": "code",
      "metadata": {
        "id": "_xUALJEW-M_B",
        "colab_type": "code",
        "outputId": "71cb6405-210e-4815-e1ef-646f929fb130",
        "colab": {
          "base_uri": "https://localhost:8080/",
          "height": 102
        }
      },
      "source": [
        "#baseline\n",
        "df['Crash Descriptor'].value_counts(normalize=True)"
      ],
      "execution_count": 11,
      "outputs": [
        {
          "output_type": "execute_result",
          "data": {
            "text/plain": [
              "Property Damage Accident             0.600523\n",
              "Injury Accident                      0.204620\n",
              "Property Damage & Injury Accident    0.191531\n",
              "Fatal Accident                       0.003326\n",
              "Name: Crash Descriptor, dtype: float64"
            ]
          },
          "metadata": {
            "tags": []
          },
          "execution_count": 11
        }
      ]
    },
    {
      "cell_type": "code",
      "metadata": {
        "id": "yx1QyJmS_uR1",
        "colab_type": "code",
        "outputId": "5fb962df-5cfc-4095-835b-7453c52786af",
        "colab": {
          "base_uri": "https://localhost:8080/",
          "height": 204
        }
      },
      "source": [
        "# 2.Choose what data to hold out for your test set\n",
        "!pip install category_encoders\n",
        "import category_encoders as ce\n",
        "from scipy.stats import randint, uniform\n",
        "from sklearn.ensemble import RandomForestClassifier\n",
        "from sklearn.model_selection import RandomizedSearchCV\n",
        "from sklearn.pipeline import make_pipeline\n",
        "from sklearn.impute import SimpleImputer"
      ],
      "execution_count": 14,
      "outputs": [
        {
          "output_type": "stream",
          "text": [
            "Requirement already satisfied: category_encoders in /usr/local/lib/python3.6/dist-packages (2.1.0)\n",
            "Requirement already satisfied: statsmodels>=0.6.1 in /usr/local/lib/python3.6/dist-packages (from category_encoders) (0.10.1)\n",
            "Requirement already satisfied: pandas>=0.21.1 in /usr/local/lib/python3.6/dist-packages (from category_encoders) (0.25.3)\n",
            "Requirement already satisfied: scikit-learn>=0.20.0 in /usr/local/lib/python3.6/dist-packages (from category_encoders) (0.21.3)\n",
            "Requirement already satisfied: numpy>=1.11.3 in /usr/local/lib/python3.6/dist-packages (from category_encoders) (1.17.4)\n",
            "Requirement already satisfied: patsy>=0.4.1 in /usr/local/lib/python3.6/dist-packages (from category_encoders) (0.5.1)\n",
            "Requirement already satisfied: scipy>=0.19.0 in /usr/local/lib/python3.6/dist-packages (from category_encoders) (1.3.2)\n",
            "Requirement already satisfied: python-dateutil>=2.6.1 in /usr/local/lib/python3.6/dist-packages (from pandas>=0.21.1->category_encoders) (2.6.1)\n",
            "Requirement already satisfied: pytz>=2017.2 in /usr/local/lib/python3.6/dist-packages (from pandas>=0.21.1->category_encoders) (2018.9)\n",
            "Requirement already satisfied: joblib>=0.11 in /usr/local/lib/python3.6/dist-packages (from scikit-learn>=0.20.0->category_encoders) (0.14.0)\n",
            "Requirement already satisfied: six in /usr/local/lib/python3.6/dist-packages (from patsy>=0.4.1->category_encoders) (1.12.0)\n"
          ],
          "name": "stdout"
        }
      ]
    },
    {
      "cell_type": "code",
      "metadata": {
        "id": "feGe8mTwUJeE",
        "colab_type": "code",
        "outputId": "9ef3c44f-33a5-41ce-dbf0-ff65a0b687ce",
        "colab": {
          "base_uri": "https://localhost:8080/",
          "height": 51
        }
      },
      "source": [
        "%%time \n",
        "pipe = make_pipeline(\n",
        "    ce.OrdinalEncoder(),\n",
        "    SimpleImputer(strategy='median'), \n",
        "    RandomForestClassifier(n_estimators=100,\n",
        "                           random_state=42,\n",
        "                           n_jobs=1,\n",
        "                           oob_score=True)\n",
        "    )\n",
        "\n",
        "params = {\n",
        "    'randomforestclassifier__max_features': uniform(0, 1),\n",
        "    'randomforestclassifier__min_samples_leaf': randint(1, 50),\n",
        "    'randomforestclassifier__max_depth': [5, 10, 15, 20, None]\n",
        "}\n",
        "\n",
        "search = RandomizedSearchCV(\n",
        "    pipe,\n",
        "    param_distributions=params,\n",
        "    n_iter=10,\n",
        "    cv=4,\n",
        "    scoring='accuracy',\n",
        "    verbose=10,\n",
        "    return_train_score=True,\n",
        "    n_jobs=-1\n",
        ")\n",
        "\n",
        "pipe.fit(X_train, y_train);"
      ],
      "execution_count": 15,
      "outputs": [
        {
          "output_type": "stream",
          "text": [
            "CPU times: user 2min 58s, sys: 4.04 s, total: 3min 2s\n",
            "Wall time: 3min 2s\n"
          ],
          "name": "stdout"
        }
      ]
    },
    {
      "cell_type": "code",
      "metadata": {
        "id": "xRuERwpmG-0x",
        "colab_type": "code",
        "outputId": "af690299-b1ce-4845-a854-2474e81f3fba",
        "colab": {
          "base_uri": "https://localhost:8080/",
          "height": 51
        }
      },
      "source": [
        "print('Train Accuracy:', pipe.score(X_train, y_train))\n",
        "print('Test Accuracy', pipe.score(X_test, y_test))"
      ],
      "execution_count": 16,
      "outputs": [
        {
          "output_type": "stream",
          "text": [
            "Train Accuracy: 0.9994747545487603\n",
            "Test Accuracy 0.693231050518701\n"
          ],
          "name": "stdout"
        }
      ]
    },
    {
      "cell_type": "code",
      "metadata": {
        "id": "Xf1PmtuFWVfK",
        "colab_type": "code",
        "outputId": "d75c41cd-033d-4d52-f424-3f1c7a177ea1",
        "colab": {
          "base_uri": "https://localhost:8080/",
          "height": 526
        }
      },
      "source": [
        "%matplotlib inline\n",
        "import matplotlib.pyplot as plt\n",
        "\n",
        "# Get the feature importances\n",
        "rf = pipe.named_steps['randomforestclassifier']\n",
        "importances = pd.Series(rf.feature_importances_, X_train.columns)\n",
        "\n",
        "# Plot the feature importances\n",
        "n = len(X_train.columns)\n",
        "plt.figure(figsize=(10,n/2))\n",
        "plt.title(f'Top {n} features')\n",
        "importances.sort_values()[-n:].plot.barh(color='grey');"
      ],
      "execution_count": 17,
      "outputs": [
        {
          "output_type": "display_data",
          "data": {
            "image/png": "[encoded data removed]",
            "text/plain": [
              "<Figure size 720x612 with 1 Axes>"
            ]
          },
          "metadata": {
            "tags": []
          }
        }
      ]
    },
    {
      "cell_type": "code",
      "metadata": {
        "id": "ymHyUXe6fBWU",
        "colab_type": "code",
        "outputId": "0b515947-f753-4183-ac1d-b8e44132fc6b",
        "colab": {
          "base_uri": "https://localhost:8080/",
          "height": 102
        }
      },
      "source": [
        "%%time \n",
        "\n",
        "#drop-column imporance \n",
        "column  = 'Municipality'\n",
        "# Fit without column\n",
        "pipeline = make_pipeline(\n",
        "    ce.OrdinalEncoder(), \n",
        "    SimpleImputer(strategy='mean'), \n",
        "    RandomForestClassifier(n_estimators=100, random_state=42, n_jobs=-1)\n",
        ")\n",
        "pipeline.fit(X_train.drop(columns=column), y_train)\n",
        "score_without = pipeline.score(X_test.drop(columns=column), y_test)\n",
        "print(f'Validation Accuracy without {column}: {score_without}')\n",
        "\n",
        "# Fit with column\n",
        "pipeline = make_pipeline(\n",
        "    ce.OrdinalEncoder(), \n",
        "    SimpleImputer(strategy='mean'), \n",
        "    RandomForestClassifier(n_estimators=100, random_state=42, n_jobs=-1)\n",
        ")\n",
        "pipeline.fit(X_train, y_train)\n",
        "score_with = pipeline.score(X_test, y_test)\n",
        "print(f'Validation Accuracy with {column}: {score_with}')\n",
        "\n",
        "# Compare the error with & without column\n",
        "print(f'Drop-Column Importance for {column}: {score_with - score_without}')"
      ],
      "execution_count": 18,
      "outputs": [
        {
          "output_type": "stream",
          "text": [
            "Validation Accuracy without Municipality: 0.6851226201359355\n",
            "Validation Accuracy with Municipality: 0.693231050518701\n",
            "Drop-Column Importance for Municipality: 0.008108430382765541\n",
            "CPU times: user 12min 38s, sys: 10.3 s, total: 12min 48s\n",
            "Wall time: 3min 18s\n"
          ],
          "name": "stdout"
        }
      ]
    },
    {
      "cell_type": "code",
      "metadata": {
        "id": "mcAaRyWBh6IG",
        "colab_type": "code",
        "outputId": "9bd1ea02-55ae-4138-b5ca-de8cbf6d322a",
        "colab": {
          "base_uri": "https://localhost:8080/",
          "height": 102
        }
      },
      "source": [
        "%%time \n",
        "from sklearn.impute import SimpleImputer\n",
        "#drop-column imporance \n",
        "column  = 'Police Report'\n",
        "# Fit without column\n",
        "pipeline = make_pipeline(\n",
        "    ce.OrdinalEncoder(), \n",
        "    SimpleImputer(strategy='median'), \n",
        "    RandomForestClassifier(n_estimators=100, random_state=42, n_jobs=-1)\n",
        ")\n",
        "pipeline.fit(X_train.drop(columns=column), y_train)\n",
        "score_without = pipeline.score(X_test.drop(columns=column), y_test)\n",
        "print(f'Validation Accuracy without {column}: {score_without}')\n",
        "\n",
        "# Fit with column\n",
        "pipeline = make_pipeline(\n",
        "    ce.OrdinalEncoder(), \n",
        "    SimpleImputer(strategy='median'), \n",
        "    RandomForestClassifier(n_estimators=100, random_state=42, n_jobs=-1)\n",
        ")\n",
        "pipeline.fit(X_train, y_train)\n",
        "score_with = pipeline.score(X_test, y_test)\n",
        "print(f'Validation Accuracy with {column}: {score_with}')\n",
        "\n",
        "# Compare the error with & without column\n",
        "print(f'Drop-Column Importance for {column}: {score_with - score_without}')"
      ],
      "execution_count": 19,
      "outputs": [
        {
          "output_type": "stream",
          "text": [
            "Validation Accuracy without Police Report: 0.6839202671012361\n",
            "Validation Accuracy with Police Report: 0.693231050518701\n",
            "Drop-Column Importance for Police Report: 0.00931078341746494\n",
            "CPU times: user 13min 47s, sys: 2.68 s, total: 13min 50s\n",
            "Wall time: 3min 36s\n"
          ],
          "name": "stdout"
        }
      ]
    },
    {
      "cell_type": "code",
      "metadata": {
        "id": "NxtFp6HejpZP",
        "colab_type": "code",
        "outputId": "57ba9f9f-bd69-4283-c6d0-fcf2342da6a4",
        "colab": {
          "base_uri": "https://localhost:8080/",
          "height": 136
        }
      },
      "source": [
        "transformers = make_pipeline(\n",
        "    ce.OrdinalEncoder(), \n",
        "    SimpleImputer(strategy='median')\n",
        ")\n",
        "\n",
        "X_train_transformed = transformers.fit_transform(X_train)\n",
        "X_test_transformed = transformers.transform(X_test)\n",
        "\n",
        "model = RandomForestClassifier(n_estimators=100, random_state=42, n_jobs=-1)\n",
        "model.fit(X_train_transformed, y_train)"
      ],
      "execution_count": 20,
      "outputs": [
        {
          "output_type": "execute_result",
          "data": {
            "text/plain": [
              "RandomForestClassifier(bootstrap=True, class_weight=None, criterion='gini',\n",
              "                       max_depth=None, max_features='auto', max_leaf_nodes=None,\n",
              "                       min_impurity_decrease=0.0, min_impurity_split=None,\n",
              "                       min_samples_leaf=1, min_samples_split=2,\n",
              "                       min_weight_fraction_leaf=0.0, n_estimators=100,\n",
              "                       n_jobs=-1, oob_score=False, random_state=42, verbose=0,\n",
              "                       warm_start=False)"
            ]
          },
          "metadata": {
            "tags": []
          },
          "execution_count": 20
        }
      ]
    },
    {
      "cell_type": "code",
      "metadata": {
        "id": "nFY4kLy_lafr",
        "colab_type": "code",
        "outputId": "b1849711-c3db-44e8-f7ae-8557c16bc0cb",
        "colab": {
          "base_uri": "https://localhost:8080/",
          "height": 675
        }
      },
      "source": [
        "#use eli5 for PermutationImportance \n",
        "!pip install eli5\n",
        "\n",
        "import eli5\n",
        "from eli5.sklearn import PermutationImportance \n",
        "\n",
        "permuter = PermutationImportance(\n",
        "    model,\n",
        "    scoring = 'accuracy',\n",
        "    n_iter = 5,\n",
        "    random_state=42\n",
        ")\n",
        "permuter.fit(X_test_transformed, y_test)"
      ],
      "execution_count": 21,
      "outputs": [
        {
          "output_type": "stream",
          "text": [
            "Collecting eli5\n",
            "\u001b[?25l  Downloading https://files.pythonhosted.org/packages/97/2f/c85c7d8f8548e460829971785347e14e45fa5c6617da374711dec8cb38cc/eli5-0.10.1-py2.py3-none-any.whl (105kB)\n",
            "\r\u001b[K     |███                             | 10kB 18.4MB/s eta 0:00:01\r\u001b[K     |██████▏                         | 20kB 2.1MB/s eta 0:00:01\r\u001b[K     |█████████▎                      | 30kB 3.1MB/s eta 0:00:01\r\u001b[K     |████████████▍                   | 40kB 2.1MB/s eta 0:00:01\r\u001b[K     |███████████████▌                | 51kB 2.5MB/s eta 0:00:01\r\u001b[K     |██████████████████▋             | 61kB 3.0MB/s eta 0:00:01\r\u001b[K     |█████████████████████▊          | 71kB 3.4MB/s eta 0:00:01\r\u001b[K     |████████████████████████▊       | 81kB 3.9MB/s eta 0:00:01\r\u001b[K     |███████████████████████████▉    | 92kB 3.0MB/s eta 0:00:01\r\u001b[K     |███████████████████████████████ | 102kB 3.3MB/s eta 0:00:01\r\u001b[K     |████████████████████████████████| 112kB 3.3MB/s \n",
            "\u001b[?25hRequirement already satisfied: jinja2 in /usr/local/lib/python3.6/dist-packages (from eli5) (2.10.3)\n",
            "Requirement already satisfied: graphviz in /usr/local/lib/python3.6/dist-packages (from eli5) (0.10.1)\n",
            "Requirement already satisfied: numpy>=1.9.0 in /usr/local/lib/python3.6/dist-packages (from eli5) (1.17.4)\n",
            "Requirement already satisfied: attrs>16.0.0 in /usr/local/lib/python3.6/dist-packages (from eli5) (19.3.0)\n",
            "Requirement already satisfied: tabulate>=0.7.7 in /usr/local/lib/python3.6/dist-packages (from eli5) (0.8.5)\n",
            "Requirement already satisfied: six in /usr/local/lib/python3.6/dist-packages (from eli5) (1.12.0)\n",
            "Requirement already satisfied: scipy in /usr/local/lib/python3.6/dist-packages (from eli5) (1.3.2)\n",
            "Requirement already satisfied: scikit-learn>=0.18 in /usr/local/lib/python3.6/dist-packages (from eli5) (0.21.3)\n",
            "Requirement already satisfied: MarkupSafe>=0.23 in /usr/local/lib/python3.6/dist-packages (from jinja2->eli5) (1.1.1)\n",
            "Requirement already satisfied: joblib>=0.11 in /usr/local/lib/python3.6/dist-packages (from scikit-learn>=0.18->eli5) (0.14.0)\n",
            "Installing collected packages: eli5\n",
            "Successfully installed eli5-0.10.1\n"
          ],
          "name": "stdout"
        },
        {
          "output_type": "stream",
          "text": [
            "Using TensorFlow backend.\n"
          ],
          "name": "stderr"
        },
        {
          "output_type": "display_data",
          "data": {
            "text/html": [
              "<p style=\"color: red;\">\n",
              "The default version of TensorFlow in Colab will soon switch to TensorFlow 2.x.<br>\n",
              "We recommend you <a href=\"https://www.tensorflow.org/guide/migrate\" target=\"_blank\">upgrade</a> now \n",
              "or ensure your notebook will continue to use TensorFlow 1.x via the <code>%tensorflow_version 1.x</code> magic:\n",
              "<a href=\"https://colab.research.google.com/notebooks/tensorflow_version.ipynb\" target=\"_blank\">more info</a>.</p>\n"
            ],
            "text/plain": [
              "<IPython.core.display.HTML object>"
            ]
          },
          "metadata": {
            "tags": []
          }
        },
        {
          "output_type": "execute_result",
          "data": {
            "text/plain": [
              "PermutationImportance(cv='prefit',\n",
              "                      estimator=RandomForestClassifier(bootstrap=True,\n",
              "                                                       class_weight=None,\n",
              "                                                       criterion='gini',\n",
              "                                                       max_depth=None,\n",
              "                                                       max_features='auto',\n",
              "                                                       max_leaf_nodes=None,\n",
              "                                                       min_impurity_decrease=0.0,\n",
              "                                                       min_impurity_split=None,\n",
              "                                                       min_samples_leaf=1,\n",
              "                                                       min_samples_split=2,\n",
              "                                                       min_weight_fraction_leaf=0.0,\n",
              "                                                       n_estimators=100,\n",
              "                                                       n_jobs=-1,\n",
              "                                                       oob_score=False,\n",
              "                                                       random_state=42,\n",
              "                                                       verbose=0,\n",
              "                                                       warm_start=False),\n",
              "                      n_iter=5, random_state=42, refit=True,\n",
              "                      scoring='accuracy')"
            ]
          },
          "metadata": {
            "tags": []
          },
          "execution_count": 21
        }
      ]
    },
    {
      "cell_type": "code",
      "metadata": {
        "id": "np8_8ZJ-pGDr",
        "colab_type": "code",
        "outputId": "13c981de-7230-40ef-8bba-fe1fe7d94898",
        "colab": {
          "base_uri": "https://localhost:8080/",
          "height": 323
        }
      },
      "source": [
        "feature_names = X_test.columns.tolist()\n",
        "pd.Series(permuter.feature_importances_, feature_names).sort_values(ascending=False)"
      ],
      "execution_count": 22,
      "outputs": [
        {
          "output_type": "execute_result",
          "data": {
            "text/plain": [
              "Pedestrian Bicyclist Action      0.036585\n",
              "County Name                      0.029128\n",
              "Municipality                     0.028976\n",
              "Police Report                    0.015588\n",
              "Event Descriptor                 0.011504\n",
              "DOT Reference Marker Location    0.009110\n",
              "Number of Vehicles Involved      0.008004\n",
              "Collision Type Descriptor        0.007513\n",
              "Traffic Control Device           0.007510\n",
              "Road Descriptor                  0.003059\n",
              "Time                             0.002691\n",
              "Weather Conditions               0.002387\n",
              "Lighting Conditions              0.001616\n",
              "Date                             0.000940\n",
              "Road Surface Conditions          0.000784\n",
              "Day of Week                      0.000487\n",
              "Year                             0.000000\n",
              "dtype: float64"
            ]
          },
          "metadata": {
            "tags": []
          },
          "execution_count": 22
        }
      ]
    },
    {
      "cell_type": "code",
      "metadata": {
        "id": "VcHSPiZipcgA",
        "colab_type": "code",
        "outputId": "94bd1dfa-e4f4-4f0d-deae-4c1efc91a9b3",
        "colab": {
          "base_uri": "https://localhost:8080/",
          "height": 323
        }
      },
      "source": [
        "feature_names = X_test.columns.tolist()\n",
        "\n",
        "eli5.show_weights(\n",
        "    permuter,\n",
        "    top=None, #show permutation imprtances for all features\n",
        "    feature_names=feature_names\n",
        ")"
      ],
      "execution_count": 23,
      "outputs": [
        {
          "output_type": "execute_result",
          "data": {
            "text/html": [
              "\n",
              "    <style>\n",
              "    table.eli5-weights tr:hover {\n",
              "        filter: brightness(85%);\n",
              "    }\n",
              "</style>\n",
              "\n",
              "\n",
              "\n",
              "    \n",
              "\n",
              "    \n",
              "\n",
              "    \n",
              "\n",
              "    \n",
              "\n",
              "    \n",
              "\n",
              "    \n",
              "\n",
              "\n",
              "    \n",
              "\n",
              "    \n",
              "\n",
              "    \n",
              "\n",
              "    \n",
              "\n",
              "    \n",
              "\n",
              "    \n",
              "\n",
              "\n",
              "    \n",
              "\n",
              "    \n",
              "\n",
              "    \n",
              "\n",
              "    \n",
              "\n",
              "    \n",
              "        <table class=\"eli5-weights eli5-feature-importances\" style=\"border-collapse: collapse; border: none; margin-top: 0em; table-layout: auto;\">\n",
              "    <thead>\n",
              "    <tr style=\"border: none;\">\n",
              "        <th style=\"padding: 0 1em 0 0.5em; text-align: right; border: none;\">Weight</th>\n",
              "        <th style=\"padding: 0 0.5em 0 0.5em; text-align: left; border: none;\">Feature</th>\n",
              "    </tr>\n",
              "    </thead>\n",
              "    <tbody>\n",
              "    \n",
              "        <tr style=\"background-color: hsl(120, 100.00%, 80.00%); border: none;\">\n",
              "            <td style=\"padding: 0 1em 0 0.5em; text-align: right; border: none;\">\n",
              "                0.0366\n",
              "                \n",
              "                    &plusmn; 0.0007\n",
              "                \n",
              "            </td>\n",
              "            <td style=\"padding: 0 0.5em 0 0.5em; text-align: left; border: none;\">\n",
              "                Pedestrian Bicyclist Action\n",
              "            </td>\n",
              "        </tr>\n",
              "    \n",
              "        <tr style=\"background-color: hsl(120, 100.00%, 82.95%); border: none;\">\n",
              "            <td style=\"padding: 0 1em 0 0.5em; text-align: right; border: none;\">\n",
              "                0.0291\n",
              "                \n",
              "                    &plusmn; 0.0004\n",
              "                \n",
              "            </td>\n",
              "            <td style=\"padding: 0 0.5em 0 0.5em; text-align: left; border: none;\">\n",
              "                County Name\n",
              "            </td>\n",
              "        </tr>\n",
              "    \n",
              "        <tr style=\"background-color: hsl(120, 100.00%, 83.01%); border: none;\">\n",
              "            <td style=\"padding: 0 1em 0 0.5em; text-align: right; border: none;\">\n",
              "                0.0290\n",
              "                \n",
              "                    &plusmn; 0.0008\n",
              "                \n",
              "            </td>\n",
              "            <td style=\"padding: 0 0.5em 0 0.5em; text-align: left; border: none;\">\n",
              "                Municipality\n",
              "            </td>\n",
              "        </tr>\n",
              "    \n",
              "        <tr style=\"background-color: hsl(120, 100.00%, 88.99%); border: none;\">\n",
              "            <td style=\"padding: 0 1em 0 0.5em; text-align: right; border: none;\">\n",
              "                0.0156\n",
              "                \n",
              "                    &plusmn; 0.0001\n",
              "                \n",
              "            </td>\n",
              "            <td style=\"padding: 0 0.5em 0 0.5em; text-align: left; border: none;\">\n",
              "                Police Report\n",
              "            </td>\n",
              "        </tr>\n",
              "    \n",
              "        <tr style=\"background-color: hsl(120, 100.00%, 91.10%); border: none;\">\n",
              "            <td style=\"padding: 0 1em 0 0.5em; text-align: right; border: none;\">\n",
              "                0.0115\n",
              "                \n",
              "                    &plusmn; 0.0006\n",
              "                \n",
              "            </td>\n",
              "            <td style=\"padding: 0 0.5em 0 0.5em; text-align: left; border: none;\">\n",
              "                Event Descriptor\n",
              "            </td>\n",
              "        </tr>\n",
              "    \n",
              "        <tr style=\"background-color: hsl(120, 100.00%, 92.44%); border: none;\">\n",
              "            <td style=\"padding: 0 1em 0 0.5em; text-align: right; border: none;\">\n",
              "                0.0091\n",
              "                \n",
              "                    &plusmn; 0.0009\n",
              "                \n",
              "            </td>\n",
              "            <td style=\"padding: 0 0.5em 0 0.5em; text-align: left; border: none;\">\n",
              "                DOT Reference Marker Location\n",
              "            </td>\n",
              "        </tr>\n",
              "    \n",
              "        <tr style=\"background-color: hsl(120, 100.00%, 93.10%); border: none;\">\n",
              "            <td style=\"padding: 0 1em 0 0.5em; text-align: right; border: none;\">\n",
              "                0.0080\n",
              "                \n",
              "                    &plusmn; 0.0006\n",
              "                \n",
              "            </td>\n",
              "            <td style=\"padding: 0 0.5em 0 0.5em; text-align: left; border: none;\">\n",
              "                Number of Vehicles Involved\n",
              "            </td>\n",
              "        </tr>\n",
              "    \n",
              "        <tr style=\"background-color: hsl(120, 100.00%, 93.40%); border: none;\">\n",
              "            <td style=\"padding: 0 1em 0 0.5em; text-align: right; border: none;\">\n",
              "                0.0075\n",
              "                \n",
              "                    &plusmn; 0.0004\n",
              "                \n",
              "            </td>\n",
              "            <td style=\"padding: 0 0.5em 0 0.5em; text-align: left; border: none;\">\n",
              "                Collision Type Descriptor\n",
              "            </td>\n",
              "        </tr>\n",
              "    \n",
              "        <tr style=\"background-color: hsl(120, 100.00%, 93.40%); border: none;\">\n",
              "            <td style=\"padding: 0 1em 0 0.5em; text-align: right; border: none;\">\n",
              "                0.0075\n",
              "                \n",
              "                    &plusmn; 0.0007\n",
              "                \n",
              "            </td>\n",
              "            <td style=\"padding: 0 0.5em 0 0.5em; text-align: left; border: none;\">\n",
              "                Traffic Control Device\n",
              "            </td>\n",
              "        </tr>\n",
              "    \n",
              "        <tr style=\"background-color: hsl(120, 100.00%, 96.48%); border: none;\">\n",
              "            <td style=\"padding: 0 1em 0 0.5em; text-align: right; border: none;\">\n",
              "                0.0031\n",
              "                \n",
              "                    &plusmn; 0.0003\n",
              "                \n",
              "            </td>\n",
              "            <td style=\"padding: 0 0.5em 0 0.5em; text-align: left; border: none;\">\n",
              "                Road Descriptor\n",
              "            </td>\n",
              "        </tr>\n",
              "    \n",
              "        <tr style=\"background-color: hsl(120, 100.00%, 96.78%); border: none;\">\n",
              "            <td style=\"padding: 0 1em 0 0.5em; text-align: right; border: none;\">\n",
              "                0.0027\n",
              "                \n",
              "                    &plusmn; 0.0007\n",
              "                \n",
              "            </td>\n",
              "            <td style=\"padding: 0 0.5em 0 0.5em; text-align: left; border: none;\">\n",
              "                Time\n",
              "            </td>\n",
              "        </tr>\n",
              "    \n",
              "        <tr style=\"background-color: hsl(120, 100.00%, 97.04%); border: none;\">\n",
              "            <td style=\"padding: 0 1em 0 0.5em; text-align: right; border: none;\">\n",
              "                0.0024\n",
              "                \n",
              "                    &plusmn; 0.0004\n",
              "                \n",
              "            </td>\n",
              "            <td style=\"padding: 0 0.5em 0 0.5em; text-align: left; border: none;\">\n",
              "                Weather Conditions\n",
              "            </td>\n",
              "        </tr>\n",
              "    \n",
              "        <tr style=\"background-color: hsl(120, 100.00%, 97.75%); border: none;\">\n",
              "            <td style=\"padding: 0 1em 0 0.5em; text-align: right; border: none;\">\n",
              "                0.0016\n",
              "                \n",
              "                    &plusmn; 0.0004\n",
              "                \n",
              "            </td>\n",
              "            <td style=\"padding: 0 0.5em 0 0.5em; text-align: left; border: none;\">\n",
              "                Lighting Conditions\n",
              "            </td>\n",
              "        </tr>\n",
              "    \n",
              "        <tr style=\"background-color: hsl(120, 100.00%, 98.46%); border: none;\">\n",
              "            <td style=\"padding: 0 1em 0 0.5em; text-align: right; border: none;\">\n",
              "                0.0009\n",
              "                \n",
              "                    &plusmn; 0.0004\n",
              "                \n",
              "            </td>\n",
              "            <td style=\"padding: 0 0.5em 0 0.5em; text-align: left; border: none;\">\n",
              "                Date\n",
              "            </td>\n",
              "        </tr>\n",
              "    \n",
              "        <tr style=\"background-color: hsl(120, 100.00%, 98.64%); border: none;\">\n",
              "            <td style=\"padding: 0 1em 0 0.5em; text-align: right; border: none;\">\n",
              "                0.0008\n",
              "                \n",
              "                    &plusmn; 0.0002\n",
              "                \n",
              "            </td>\n",
              "            <td style=\"padding: 0 0.5em 0 0.5em; text-align: left; border: none;\">\n",
              "                Road Surface Conditions\n",
              "            </td>\n",
              "        </tr>\n",
              "    \n",
              "        <tr style=\"background-color: hsl(120, 100.00%, 99.03%); border: none;\">\n",
              "            <td style=\"padding: 0 1em 0 0.5em; text-align: right; border: none;\">\n",
              "                0.0005\n",
              "                \n",
              "                    &plusmn; 0.0003\n",
              "                \n",
              "            </td>\n",
              "            <td style=\"padding: 0 0.5em 0 0.5em; text-align: left; border: none;\">\n",
              "                Day of Week\n",
              "            </td>\n",
              "        </tr>\n",
              "    \n",
              "        <tr style=\"background-color: hsl(0, 100.00%, 100.00%); border: none;\">\n",
              "            <td style=\"padding: 0 1em 0 0.5em; text-align: right; border: none;\">\n",
              "                0\n",
              "                \n",
              "                    &plusmn; 0.0000\n",
              "                \n",
              "            </td>\n",
              "            <td style=\"padding: 0 0.5em 0 0.5em; text-align: left; border: none;\">\n",
              "                Year\n",
              "            </td>\n",
              "        </tr>\n",
              "    \n",
              "    \n",
              "    </tbody>\n",
              "</table>\n",
              "    \n",
              "\n",
              "    \n",
              "\n",
              "\n",
              "    \n",
              "\n",
              "    \n",
              "\n",
              "    \n",
              "\n",
              "    \n",
              "\n",
              "    \n",
              "\n",
              "    \n",
              "\n",
              "\n",
              "\n"
            ],
            "text/plain": [
              "<IPython.core.display.HTML object>"
            ]
          },
          "metadata": {
            "tags": []
          },
          "execution_count": 23
        }
      ]
    },
    {
      "cell_type": "code",
      "metadata": {
        "id": "akQygDIhp_Hr",
        "colab_type": "code",
        "outputId": "87d3b870-3d52-4409-9652-be9382d3ae17",
        "colab": {
          "base_uri": "https://localhost:8080/",
          "height": 34
        }
      },
      "source": [
        "print('Shape before removing features:', X_train.shape)"
      ],
      "execution_count": 24,
      "outputs": [
        {
          "output_type": "stream",
          "text": [
            "Shape before removing features: (594008, 17)\n"
          ],
          "name": "stdout"
        }
      ]
    },
    {
      "cell_type": "code",
      "metadata": {
        "id": "a1fOy8xlqx8X",
        "colab_type": "code",
        "outputId": "09c84607-7d11-4537-d67e-9c1927284be4",
        "colab": {
          "base_uri": "https://localhost:8080/",
          "height": 34
        }
      },
      "source": [
        "X_test = X_test[features]\n",
        "\n",
        "pipeline = make_pipeline(\n",
        "    ce.OrdinalEncoder(), \n",
        "    SimpleImputer(strategy='median'), \n",
        "    RandomForestClassifier(n_estimators=118, random_state=42, n_jobs=-1)\n",
        ")\n",
        "\n",
        "# Fit on train, score on val\n",
        "pipeline.fit(X_train, y_train)\n",
        "print('Test Accuracy', pipeline.score(X_test, y_test))"
      ],
      "execution_count": 25,
      "outputs": [
        {
          "output_type": "stream",
          "text": [
            "Test Accuracy 0.6933966638843622\n"
          ],
          "name": "stdout"
        }
      ]
    },
    {
      "cell_type": "code",
      "metadata": {
        "id": "SDROYopWAp0B",
        "colab_type": "code",
        "colab": {}
      },
      "source": [
        ""
      ],
      "execution_count": 0,
      "outputs": []
    },
    {
      "cell_type": "markdown",
      "metadata": {
        "id": "cZfsYyYBGEzq",
        "colab_type": "text"
      },
      "source": [
        "**Use xgboost for gradient boosting**\n",
        "\n",
        "\n",
        "\n"
      ]
    },
    {
      "cell_type": "code",
      "metadata": {
        "id": "N_igHlOAAzjo",
        "colab_type": "code",
        "outputId": "46193284-32b2-4c42-a1a3-396b9931425c",
        "colab": {
          "base_uri": "https://localhost:8080/",
          "height": 442
        }
      },
      "source": [
        "from xgboost import XGBClassifier\n",
        "\n",
        "pipeline = make_pipeline(\n",
        "    ce.OrdinalEncoder(), \n",
        "    XGBClassifier(n_estimators=118, random_state=42, n_jobs=-1, max_depth = 5)\n",
        ")\n",
        "\n",
        "pipeline.fit(X_train, y_train)"
      ],
      "execution_count": 26,
      "outputs": [
        {
          "output_type": "execute_result",
          "data": {
            "text/plain": [
              "Pipeline(memory=None,\n",
              "         steps=[('ordinalencoder',\n",
              "                 OrdinalEncoder(cols=['Time', 'Date', 'Day of Week',\n",
              "                                      'Police Report', 'Lighting Conditions',\n",
              "                                      'Municipality',\n",
              "                                      'Collision Type Descriptor',\n",
              "                                      'County Name', 'Road Descriptor',\n",
              "                                      'Weather Conditions',\n",
              "                                      'Traffic Control Device',\n",
              "                                      'Road Surface Conditions',\n",
              "                                      'DOT Reference Marker Location',\n",
              "                                      'Pedestrian Bicyclist Action',\n",
              "                                      'Event Descriptor'],\n",
              "                                drop_in...\n",
              "                 XGBClassifier(base_score=0.5, booster='gbtree',\n",
              "                               colsample_bylevel=1, colsample_bynode=1,\n",
              "                               colsample_bytree=1, gamma=0, learning_rate=0.1,\n",
              "                               max_delta_step=0, max_depth=5,\n",
              "                               min_child_weight=1, missing=None,\n",
              "                               n_estimators=118, n_jobs=-1, nthread=None,\n",
              "                               objective='multi:softprob', random_state=42,\n",
              "                               reg_alpha=0, reg_lambda=1, scale_pos_weight=1,\n",
              "                               seed=None, silent=None, subsample=1,\n",
              "                               verbosity=1))],\n",
              "         verbose=False)"
            ]
          },
          "metadata": {
            "tags": []
          },
          "execution_count": 26
        }
      ]
    },
    {
      "cell_type": "code",
      "metadata": {
        "id": "0m5U3KWFBfpn",
        "colab_type": "code",
        "outputId": "2be12584-4feb-4e81-e16b-5527699c89de",
        "colab": {
          "base_uri": "https://localhost:8080/",
          "height": 34
        }
      },
      "source": [
        "from sklearn.metrics import accuracy_score\n",
        "y_pred = pipeline.predict(X_test)\n",
        "print('Test Accuracy', accuracy_score(y_test, y_pred))"
      ],
      "execution_count": 27,
      "outputs": [
        {
          "output_type": "stream",
          "text": [
            "Test Accuracy 0.704158220385018\n"
          ],
          "name": "stdout"
        }
      ]
    },
    {
      "cell_type": "code",
      "metadata": {
        "id": "ptUHA7anByya",
        "colab_type": "code",
        "outputId": "f6b079a8-ad6a-4f57-cf6a-aee0eed89b65",
        "colab": {
          "base_uri": "https://localhost:8080/",
          "height": 1000
        }
      },
      "source": [
        "encoder = ce.OrdinalEncoder()\n",
        "X_train_encoded = encoder.fit_transform(X_train)\n",
        "X_test_encoded = encoder.transform(X_test)\n",
        "\n",
        "model = XGBClassifier(\n",
        "    n_estimators=1000, # <= 1000 trees, depends on early stopping\n",
        "    max_depth=5,       # try deeper trees because of high cardinality categoricals\n",
        "    learning_rate=0.5, # try higher learning rate\n",
        "    n_jobs=-1\n",
        ")\n",
        "\n",
        "eval_set = [(X_train_encoded, y_train), \n",
        "            (X_test_encoded, y_test)]\n",
        "\n",
        "model.fit(X_train_encoded, y_train, \n",
        "          eval_set=eval_set, \n",
        "          eval_metric='merror', \n",
        "          early_stopping_rounds=50)"
      ],
      "execution_count": 28,
      "outputs": [
        {
          "output_type": "stream",
          "text": [
            "[0]\tvalidation_0-merror:0.328169\tvalidation_1-merror:0.34013\n",
            "Multiple eval metrics have been passed: 'validation_1-merror' will be used for early stopping.\n",
            "\n",
            "Will train until validation_1-merror hasn't improved in 50 rounds.\n",
            "[1]\tvalidation_0-merror:0.32725\tvalidation_1-merror:0.338964\n",
            "[2]\tvalidation_0-merror:0.328586\tvalidation_1-merror:0.340488\n",
            "[3]\tvalidation_0-merror:0.316075\tvalidation_1-merror:0.326305\n",
            "[4]\tvalidation_0-merror:0.312849\tvalidation_1-merror:0.322171\n",
            "[5]\tvalidation_0-merror:0.307353\tvalidation_1-merror:0.315715\n",
            "[6]\tvalidation_0-merror:0.306152\tvalidation_1-merror:0.31451\n",
            "[7]\tvalidation_0-merror:0.303895\tvalidation_1-merror:0.311996\n",
            "[8]\tvalidation_0-merror:0.303104\tvalidation_1-merror:0.310916\n",
            "[9]\tvalidation_0-merror:0.301356\tvalidation_1-merror:0.309061\n",
            "[10]\tvalidation_0-merror:0.297169\tvalidation_1-merror:0.303609\n",
            "[11]\tvalidation_0-merror:0.296255\tvalidation_1-merror:0.30189\n",
            "[12]\tvalidation_0-merror:0.295516\tvalidation_1-merror:0.300903\n",
            "[13]\tvalidation_0-merror:0.294878\tvalidation_1-merror:0.300582\n",
            "[14]\tvalidation_0-merror:0.294048\tvalidation_1-merror:0.299462\n",
            "[15]\tvalidation_0-merror:0.29354\tvalidation_1-merror:0.29922\n",
            "[16]\tvalidation_0-merror:0.292452\tvalidation_1-merror:0.297667\n",
            "[17]\tvalidation_0-merror:0.292308\tvalidation_1-merror:0.297389\n",
            "[18]\tvalidation_0-merror:0.291882\tvalidation_1-merror:0.296985\n",
            "[19]\tvalidation_0-merror:0.291511\tvalidation_1-merror:0.296693\n",
            "[20]\tvalidation_0-merror:0.291382\tvalidation_1-merror:0.296468\n",
            "[21]\tvalidation_0-merror:0.290713\tvalidation_1-merror:0.295732\n",
            "[22]\tvalidation_0-merror:0.290471\tvalidation_1-merror:0.295415\n",
            "[23]\tvalidation_0-merror:0.29026\tvalidation_1-merror:0.295209\n",
            "[24]\tvalidation_0-merror:0.290075\tvalidation_1-merror:0.29511\n",
            "[25]\tvalidation_0-merror:0.289528\tvalidation_1-merror:0.294282\n",
            "[26]\tvalidation_0-merror:0.289358\tvalidation_1-merror:0.294312\n",
            "[27]\tvalidation_0-merror:0.289249\tvalidation_1-merror:0.294302\n",
            "[28]\tvalidation_0-merror:0.288979\tvalidation_1-merror:0.294066\n",
            "[29]\tvalidation_0-merror:0.288878\tvalidation_1-merror:0.293984\n",
            "[30]\tvalidation_0-merror:0.288739\tvalidation_1-merror:0.294017\n",
            "[31]\tvalidation_0-merror:0.288595\tvalidation_1-merror:0.294047\n",
            "[32]\tvalidation_0-merror:0.288385\tvalidation_1-merror:0.29395\n",
            "[33]\tvalidation_0-merror:0.288345\tvalidation_1-merror:0.293914\n",
            "[34]\tvalidation_0-merror:0.288208\tvalidation_1-merror:0.293805\n",
            "[35]\tvalidation_0-merror:0.287974\tvalidation_1-merror:0.293782\n",
            "[36]\tvalidation_0-merror:0.287819\tvalidation_1-merror:0.293874\n",
            "[37]\tvalidation_0-merror:0.28772\tvalidation_1-merror:0.293768\n",
            "[38]\tvalidation_0-merror:0.287515\tvalidation_1-merror:0.293566\n",
            "[39]\tvalidation_0-merror:0.287456\tvalidation_1-merror:0.293589\n",
            "[40]\tvalidation_0-merror:0.287314\tvalidation_1-merror:0.293517\n",
            "[41]\tvalidation_0-merror:0.28718\tvalidation_1-merror:0.293334\n",
            "[42]\tvalidation_0-merror:0.287062\tvalidation_1-merror:0.293215\n",
            "[43]\tvalidation_0-merror:0.28676\tvalidation_1-merror:0.292778\n",
            "[44]\tvalidation_0-merror:0.286614\tvalidation_1-merror:0.292808\n",
            "[45]\tvalidation_0-merror:0.28641\tvalidation_1-merror:0.292652\n",
            "[46]\tvalidation_0-merror:0.2864\tvalidation_1-merror:0.292566\n",
            "[47]\tvalidation_0-merror:0.286232\tvalidation_1-merror:0.292579\n",
            "[48]\tvalidation_0-merror:0.28608\tvalidation_1-merror:0.292486\n",
            "[49]\tvalidation_0-merror:0.285993\tvalidation_1-merror:0.29247\n",
            "[50]\tvalidation_0-merror:0.285912\tvalidation_1-merror:0.292516\n",
            "[51]\tvalidation_0-merror:0.285843\tvalidation_1-merror:0.292377\n",
            "[52]\tvalidation_0-merror:0.285745\tvalidation_1-merror:0.292347\n",
            "[53]\tvalidation_0-merror:0.285676\tvalidation_1-merror:0.292268\n",
            "[54]\tvalidation_0-merror:0.285595\tvalidation_1-merror:0.292268\n",
            "[55]\tvalidation_0-merror:0.285462\tvalidation_1-merror:0.292185\n",
            "[56]\tvalidation_0-merror:0.285301\tvalidation_1-merror:0.292165\n",
            "[57]\tvalidation_0-merror:0.28501\tvalidation_1-merror:0.292069\n",
            "[58]\tvalidation_0-merror:0.285015\tvalidation_1-merror:0.292036\n",
            "[59]\tvalidation_0-merror:0.284865\tvalidation_1-merror:0.292019\n",
            "[60]\tvalidation_0-merror:0.284767\tvalidation_1-merror:0.29198\n",
            "[61]\tvalidation_0-merror:0.28469\tvalidation_1-merror:0.291993\n",
            "[62]\tvalidation_0-merror:0.284619\tvalidation_1-merror:0.292076\n",
            "[63]\tvalidation_0-merror:0.284631\tvalidation_1-merror:0.292076\n",
            "[64]\tvalidation_0-merror:0.284473\tvalidation_1-merror:0.292112\n",
            "[65]\tvalidation_0-merror:0.284298\tvalidation_1-merror:0.292053\n",
            "[66]\tvalidation_0-merror:0.284178\tvalidation_1-merror:0.292069\n",
            "[67]\tvalidation_0-merror:0.284042\tvalidation_1-merror:0.292046\n",
            "[68]\tvalidation_0-merror:0.283954\tvalidation_1-merror:0.292006\n",
            "[69]\tvalidation_0-merror:0.283855\tvalidation_1-merror:0.291857\n",
            "[70]\tvalidation_0-merror:0.283749\tvalidation_1-merror:0.291794\n",
            "[71]\tvalidation_0-merror:0.283707\tvalidation_1-merror:0.291797\n",
            "[72]\tvalidation_0-merror:0.283582\tvalidation_1-merror:0.291784\n",
            "[73]\tvalidation_0-merror:0.283521\tvalidation_1-merror:0.291774\n",
            "[74]\tvalidation_0-merror:0.283397\tvalidation_1-merror:0.291731\n",
            "[75]\tvalidation_0-merror:0.283208\tvalidation_1-merror:0.291682\n",
            "[76]\tvalidation_0-merror:0.283225\tvalidation_1-merror:0.291692\n",
            "[77]\tvalidation_0-merror:0.283119\tvalidation_1-merror:0.291632\n",
            "[78]\tvalidation_0-merror:0.283102\tvalidation_1-merror:0.291662\n",
            "[79]\tvalidation_0-merror:0.282939\tvalidation_1-merror:0.291569\n",
            "[80]\tvalidation_0-merror:0.282853\tvalidation_1-merror:0.291599\n",
            "[81]\tvalidation_0-merror:0.282806\tvalidation_1-merror:0.291615\n",
            "[82]\tvalidation_0-merror:0.282673\tvalidation_1-merror:0.291542\n",
            "[83]\tvalidation_0-merror:0.282636\tvalidation_1-merror:0.291526\n",
            "[84]\tvalidation_0-merror:0.28252\tvalidation_1-merror:0.291523\n",
            "[85]\tvalidation_0-merror:0.282484\tvalidation_1-merror:0.291562\n",
            "[86]\tvalidation_0-merror:0.282466\tvalidation_1-merror:0.291658\n",
            "[87]\tvalidation_0-merror:0.282377\tvalidation_1-merror:0.291612\n",
            "[88]\tvalidation_0-merror:0.282323\tvalidation_1-merror:0.291566\n",
            "[89]\tvalidation_0-merror:0.28218\tvalidation_1-merror:0.291589\n",
            "[90]\tvalidation_0-merror:0.282141\tvalidation_1-merror:0.291582\n",
            "[91]\tvalidation_0-merror:0.282052\tvalidation_1-merror:0.291486\n",
            "[92]\tvalidation_0-merror:0.281949\tvalidation_1-merror:0.291526\n",
            "[93]\tvalidation_0-merror:0.281887\tvalidation_1-merror:0.291536\n",
            "[94]\tvalidation_0-merror:0.281845\tvalidation_1-merror:0.291576\n",
            "[95]\tvalidation_0-merror:0.281686\tvalidation_1-merror:0.291566\n",
            "[96]\tvalidation_0-merror:0.281649\tvalidation_1-merror:0.291576\n",
            "[97]\tvalidation_0-merror:0.28154\tvalidation_1-merror:0.291503\n",
            "[98]\tvalidation_0-merror:0.281505\tvalidation_1-merror:0.291503\n",
            "[99]\tvalidation_0-merror:0.281365\tvalidation_1-merror:0.291526\n",
            "[100]\tvalidation_0-merror:0.281303\tvalidation_1-merror:0.291526\n",
            "[101]\tvalidation_0-merror:0.281186\tvalidation_1-merror:0.291599\n",
            "[102]\tvalidation_0-merror:0.281114\tvalidation_1-merror:0.291516\n",
            "[103]\tvalidation_0-merror:0.281082\tvalidation_1-merror:0.291476\n",
            "[104]\tvalidation_0-merror:0.280957\tvalidation_1-merror:0.291413\n",
            "[105]\tvalidation_0-merror:0.280907\tvalidation_1-merror:0.291417\n",
            "[106]\tvalidation_0-merror:0.280784\tvalidation_1-merror:0.29139\n",
            "[107]\tvalidation_0-merror:0.280793\tvalidation_1-merror:0.29135\n",
            "[108]\tvalidation_0-merror:0.280707\tvalidation_1-merror:0.291364\n",
            "[109]\tvalidation_0-merror:0.280665\tvalidation_1-merror:0.29136\n",
            "[110]\tvalidation_0-merror:0.280607\tvalidation_1-merror:0.291476\n",
            "[111]\tvalidation_0-merror:0.280521\tvalidation_1-merror:0.29147\n",
            "[112]\tvalidation_0-merror:0.280457\tvalidation_1-merror:0.291456\n",
            "[113]\tvalidation_0-merror:0.280419\tvalidation_1-merror:0.29147\n",
            "[114]\tvalidation_0-merror:0.280276\tvalidation_1-merror:0.291486\n",
            "[115]\tvalidation_0-merror:0.280314\tvalidation_1-merror:0.291503\n",
            "[116]\tvalidation_0-merror:0.280266\tvalidation_1-merror:0.291466\n",
            "[117]\tvalidation_0-merror:0.28017\tvalidation_1-merror:0.291473\n",
            "[118]\tvalidation_0-merror:0.280087\tvalidation_1-merror:0.291523\n",
            "[119]\tvalidation_0-merror:0.280001\tvalidation_1-merror:0.291486\n",
            "[120]\tvalidation_0-merror:0.279986\tvalidation_1-merror:0.291513\n",
            "[121]\tvalidation_0-merror:0.279912\tvalidation_1-merror:0.291493\n",
            "[122]\tvalidation_0-merror:0.279722\tvalidation_1-merror:0.291546\n",
            "[123]\tvalidation_0-merror:0.279661\tvalidation_1-merror:0.291466\n",
            "[124]\tvalidation_0-merror:0.279582\tvalidation_1-merror:0.291463\n",
            "[125]\tvalidation_0-merror:0.279486\tvalidation_1-merror:0.291334\n",
            "[126]\tvalidation_0-merror:0.279432\tvalidation_1-merror:0.291417\n",
            "[127]\tvalidation_0-merror:0.279271\tvalidation_1-merror:0.291496\n",
            "[128]\tvalidation_0-merror:0.279212\tvalidation_1-merror:0.291413\n",
            "[129]\tvalidation_0-merror:0.279116\tvalidation_1-merror:0.291446\n",
            "[130]\tvalidation_0-merror:0.279092\tvalidation_1-merror:0.29147\n",
            "[131]\tvalidation_0-merror:0.279033\tvalidation_1-merror:0.291576\n",
            "[132]\tvalidation_0-merror:0.278973\tvalidation_1-merror:0.291552\n",
            "[133]\tvalidation_0-merror:0.27892\tvalidation_1-merror:0.291569\n",
            "[134]\tvalidation_0-merror:0.278816\tvalidation_1-merror:0.291652\n",
            "[135]\tvalidation_0-merror:0.278693\tvalidation_1-merror:0.291718\n",
            "[136]\tvalidation_0-merror:0.278636\tvalidation_1-merror:0.291688\n",
            "[137]\tvalidation_0-merror:0.278644\tvalidation_1-merror:0.291625\n",
            "[138]\tvalidation_0-merror:0.278575\tvalidation_1-merror:0.291642\n",
            "[139]\tvalidation_0-merror:0.278525\tvalidation_1-merror:0.291692\n",
            "[140]\tvalidation_0-merror:0.278508\tvalidation_1-merror:0.291708\n",
            "[141]\tvalidation_0-merror:0.278476\tvalidation_1-merror:0.291708\n",
            "[142]\tvalidation_0-merror:0.278469\tvalidation_1-merror:0.291675\n",
            "[143]\tvalidation_0-merror:0.278429\tvalidation_1-merror:0.291645\n",
            "[144]\tvalidation_0-merror:0.278365\tvalidation_1-merror:0.291675\n",
            "[145]\tvalidation_0-merror:0.278281\tvalidation_1-merror:0.291612\n",
            "[146]\tvalidation_0-merror:0.278269\tvalidation_1-merror:0.291678\n",
            "[147]\tvalidation_0-merror:0.278239\tvalidation_1-merror:0.291672\n",
            "[148]\tvalidation_0-merror:0.27816\tvalidation_1-merror:0.291658\n",
            "[149]\tvalidation_0-merror:0.27808\tvalidation_1-merror:0.291665\n",
            "[150]\tvalidation_0-merror:0.278074\tvalidation_1-merror:0.291692\n",
            "[151]\tvalidation_0-merror:0.277976\tvalidation_1-merror:0.291728\n",
            "[152]\tvalidation_0-merror:0.277865\tvalidation_1-merror:0.291552\n",
            "[153]\tvalidation_0-merror:0.277779\tvalidation_1-merror:0.291546\n",
            "[154]\tvalidation_0-merror:0.277724\tvalidation_1-merror:0.291595\n",
            "[155]\tvalidation_0-merror:0.277634\tvalidation_1-merror:0.291582\n",
            "[156]\tvalidation_0-merror:0.277602\tvalidation_1-merror:0.291569\n",
            "[157]\tvalidation_0-merror:0.277476\tvalidation_1-merror:0.291559\n",
            "[158]\tvalidation_0-merror:0.277328\tvalidation_1-merror:0.291542\n",
            "[159]\tvalidation_0-merror:0.277288\tvalidation_1-merror:0.291586\n",
            "[160]\tvalidation_0-merror:0.277239\tvalidation_1-merror:0.291625\n",
            "[161]\tvalidation_0-merror:0.277171\tvalidation_1-merror:0.291619\n",
            "[162]\tvalidation_0-merror:0.277185\tvalidation_1-merror:0.291635\n",
            "[163]\tvalidation_0-merror:0.277107\tvalidation_1-merror:0.291609\n",
            "[164]\tvalidation_0-merror:0.277028\tvalidation_1-merror:0.291685\n",
            "[165]\tvalidation_0-merror:0.276927\tvalidation_1-merror:0.291701\n",
            "[166]\tvalidation_0-merror:0.276835\tvalidation_1-merror:0.291586\n",
            "[167]\tvalidation_0-merror:0.276784\tvalidation_1-merror:0.291615\n",
            "[168]\tvalidation_0-merror:0.276687\tvalidation_1-merror:0.291586\n",
            "[169]\tvalidation_0-merror:0.276656\tvalidation_1-merror:0.291586\n",
            "[170]\tvalidation_0-merror:0.276554\tvalidation_1-merror:0.291549\n",
            "[171]\tvalidation_0-merror:0.27651\tvalidation_1-merror:0.291506\n",
            "[172]\tvalidation_0-merror:0.276417\tvalidation_1-merror:0.291503\n",
            "[173]\tvalidation_0-merror:0.276358\tvalidation_1-merror:0.291473\n",
            "[174]\tvalidation_0-merror:0.276341\tvalidation_1-merror:0.291456\n",
            "[175]\tvalidation_0-merror:0.276281\tvalidation_1-merror:0.291509\n",
            "Stopping. Best iteration:\n",
            "[125]\tvalidation_0-merror:0.279486\tvalidation_1-merror:0.291334\n",
            "\n"
          ],
          "name": "stdout"
        },
        {
          "output_type": "execute_result",
          "data": {
            "text/plain": [
              "XGBClassifier(base_score=0.5, booster='gbtree', colsample_bylevel=1,\n",
              "              colsample_bynode=1, colsample_bytree=1, gamma=0,\n",
              "              learning_rate=0.5, max_delta_step=0, max_depth=5,\n",
              "              min_child_weight=1, missing=None, n_estimators=1000, n_jobs=-1,\n",
              "              nthread=None, objective='multi:softprob', random_state=0,\n",
              "              reg_alpha=0, reg_lambda=1, scale_pos_weight=1, seed=None,\n",
              "              silent=None, subsample=1, verbosity=1)"
            ]
          },
          "metadata": {
            "tags": []
          },
          "execution_count": 28
        }
      ]
    },
    {
      "cell_type": "code",
      "metadata": {
        "id": "4Ogu-gT_BkbK",
        "colab_type": "code",
        "outputId": "e0589d71-bf42-4a7d-ab84-08dadb59437c",
        "colab": {
          "base_uri": "https://localhost:8080/",
          "height": 296
        }
      },
      "source": [
        "#store into list\n",
        "results = model.evals_result() \n",
        "\n",
        "#adding the index list into variable\n",
        "\n",
        "train_error = results['validation_0']['merror'] \n",
        "val_error = results['validation_1']['merror']\n",
        "epoch = range(1, len(train_error)+1) #domain for n_estimators\n",
        "\n",
        "#plotting \n",
        "plt.plot(epoch, train_error, label='Train')\n",
        "plt.plot(epoch, val_error, label='Validation')\n",
        "plt.ylabel('Classification Error')\n",
        "plt.xlabel('Model Complexity (n_estimators)')\n",
        "plt.ylim((0.285, 0.305)) # Zoom in\n",
        "plt.legend();\n",
        "plt.title(\"STUFF\");"
      ],
      "execution_count": 31,
      "outputs": [
        {
          "output_type": "display_data",
          "data": {
            "image/png": "[encoded data removed]",
            "text/plain": [
              "<Figure size 432x288 with 1 Axes>"
            ]
          },
          "metadata": {
            "tags": []
          }
        }
      ]
    },
    {
      "cell_type": "code",
      "metadata": {
        "id": "4cAxAPSbF7Dz",
        "colab_type": "code",
        "colab": {
          "base_uri": "https://localhost:8080/",
          "height": 425
        },
        "outputId": "4d767234-7a09-42bb-9fbe-b422f9c93ee3"
      },
      "source": [
        "!pip install pdpbox"
      ],
      "execution_count": 32,
      "outputs": [
        {
          "output_type": "stream",
          "text": [
            "Collecting pdpbox\n",
            "\u001b[?25l  Downloading https://files.pythonhosted.org/packages/87/23/ac7da5ba1c6c03a87c412e7e7b6e91a10d6ecf4474906c3e736f93940d49/PDPbox-0.2.0.tar.gz (57.7MB)\n",
            "\u001b[K     |████████████████████████████████| 57.7MB 36kB/s \n",
            "\u001b[?25hRequirement already satisfied: pandas in /usr/local/lib/python3.6/dist-packages (from pdpbox) (0.25.3)\n",
            "Requirement already satisfied: numpy in /usr/local/lib/python3.6/dist-packages (from pdpbox) (1.17.4)\n",
            "Requirement already satisfied: scipy in /usr/local/lib/python3.6/dist-packages (from pdpbox) (1.3.2)\n",
            "Requirement already satisfied: matplotlib>=2.1.2 in /usr/local/lib/python3.6/dist-packages (from pdpbox) (3.1.1)\n",
            "Requirement already satisfied: joblib in /usr/local/lib/python3.6/dist-packages (from pdpbox) (0.14.0)\n",
            "Requirement already satisfied: psutil in /usr/local/lib/python3.6/dist-packages (from pdpbox) (5.4.8)\n",
            "Requirement already satisfied: scikit-learn in /usr/local/lib/python3.6/dist-packages (from pdpbox) (0.21.3)\n",
            "Requirement already satisfied: pytz>=2017.2 in /usr/local/lib/python3.6/dist-packages (from pandas->pdpbox) (2018.9)\n",
            "Requirement already satisfied: python-dateutil>=2.6.1 in /usr/local/lib/python3.6/dist-packages (from pandas->pdpbox) (2.6.1)\n",
            "Requirement already satisfied: pyparsing!=2.0.4,!=2.1.2,!=2.1.6,>=2.0.1 in /usr/local/lib/python3.6/dist-packages (from matplotlib>=2.1.2->pdpbox) (2.4.5)\n",
            "Requirement already satisfied: kiwisolver>=1.0.1 in /usr/local/lib/python3.6/dist-packages (from matplotlib>=2.1.2->pdpbox) (1.1.0)\n",
            "Requirement already satisfied: cycler>=0.10 in /usr/local/lib/python3.6/dist-packages (from matplotlib>=2.1.2->pdpbox) (0.10.0)\n",
            "Requirement already satisfied: six>=1.5 in /usr/local/lib/python3.6/dist-packages (from python-dateutil>=2.6.1->pandas->pdpbox) (1.12.0)\n",
            "Requirement already satisfied: setuptools in /usr/local/lib/python3.6/dist-packages (from kiwisolver>=1.0.1->matplotlib>=2.1.2->pdpbox) (41.4.0)\n",
            "Building wheels for collected packages: pdpbox\n",
            "  Building wheel for pdpbox (setup.py) ... \u001b[?25l\u001b[?25hdone\n",
            "  Created wheel for pdpbox: filename=PDPbox-0.2.0-cp36-none-any.whl size=57690723 sha256=6b9604acb12b7051a64e4a13135410d9a90f76c5ff16a0c715843f7a040dbb58\n",
            "  Stored in directory: /root/.cache/pip/wheels/7d/08/51/63fd122b04a2c87d780464eeffb94867c75bd96a64d500a3fe\n",
            "Successfully built pdpbox\n",
            "Installing collected packages: pdpbox\n",
            "Successfully installed pdpbox-0.2.0\n"
          ],
          "name": "stdout"
        }
      ]
    },
    {
      "cell_type": "code",
      "metadata": {
        "id": "ti-bcYAbk2T1",
        "colab_type": "code",
        "colab": {
          "base_uri": "https://localhost:8080/",
          "height": 51
        },
        "outputId": "e02c4073-cda8-4cc6-a2df-0ddd734d4612"
      },
      "source": [
        "%%time \n",
        "\n",
        "plt.rcParams['figure.dpi'] = 72\n",
        "from pdpbox.pdp import pdp_isolate, pdp_plot\n",
        "\n",
        "\n",
        "target = 'Crash Descriptor'\n",
        "features = train.drop(columns=target).columns.tolist()\n",
        "\n",
        "X = df[features]\n",
        "y = df[target]\n",
        "\n",
        "# Use Ordinal Encoder, outside of a pipeline\n",
        "encoder = ce.OrdinalEncoder()\n",
        "X_encoded = encoder.fit_transform(X)\n",
        "\n",
        "model = RandomForestClassifier(n_estimators=100, random_state=42, n_jobs=-1)\n",
        "model.fit(X_encoded, y)"
      ],
      "execution_count": 39,
      "outputs": [
        {
          "output_type": "stream",
          "text": [
            "CPU times: user 11min 32s, sys: 6.48 s, total: 11min 38s\n",
            "Wall time: 2min 57s\n"
          ],
          "name": "stdout"
        }
      ]
    },
    {
      "cell_type": "code",
      "metadata": {
        "id": "BaoOQKdyl8pV",
        "colab_type": "code",
        "colab": {
          "base_uri": "https://localhost:8080/",
          "height": 979
        },
        "outputId": "c35a89af-7ef2-42eb-ae48-b9f7e8b12cda"
      },
      "source": [
        "%%time \n",
        "# Use Pdpbox\n",
        "%matplotlib inline\n",
        "import matplotlib.pyplot as plt\n",
        "from pdpbox import pdp\n",
        "feature = 'Time'\n",
        "pdp_dist = pdp.pdp_isolate(model=model, dataset=X_encoded, model_features=features, feature=feature)\n",
        "pdp.pdp_plot(pdp_dist, feature);"
      ],
      "execution_count": 41,
      "outputs": [
        {
          "output_type": "stream",
          "text": [
            "findfont: Font family ['Arial'] not found. Falling back to DejaVu Sans.\n",
            "findfont: Font family ['Arial'] not found. Falling back to DejaVu Sans.\n",
            "findfont: Font family ['Arial'] not found. Falling back to DejaVu Sans.\n",
            "findfont: Font family ['Arial'] not found. Falling back to DejaVu Sans.\n"
          ],
          "name": "stderr"
        },
        {
          "output_type": "stream",
          "text": [
            "CPU times: user 12min 27s, sys: 1.22 s, total: 12min 28s\n",
            "Wall time: 3min 15s\n"
          ],
          "name": "stdout"
        },
        {
          "output_type": "display_data",
          "data": {
            "image/png": "[encoded data removed]",
            "text/plain": [
              "<Figure size 1080x1080 with 5 Axes>"
            ]
          },
          "metadata": {
            "tags": []
          }
        }
      ]
    },
    {
      "cell_type": "code",
      "metadata": {
        "id": "F8vT4ZcFtpkW",
        "colab_type": "code",
        "colab": {
          "base_uri": "https://localhost:8080/",
          "height": 1000
        },
        "outputId": "3807bb94-b607-48e5-c5f5-e5dbc05f07ee"
      },
      "source": [
        "\n",
        "%%time \n",
        "\n",
        "from pdpbox.pdp import pdp_interact, pdp_interact_plot\n",
        "features = ['Road Descriptor', 'Weather Conditions']\n",
        "\n",
        "interaction = pdp_interact(\n",
        "    model=model, \n",
        "    dataset=X_encoded, \n",
        "    model_features=X_encoded.columns, \n",
        "    features=features\n",
        ")\n",
        "\n",
        "pdp_interact_plot(interaction, plot_type='grid', feature_names=features);"
      ],
      "execution_count": 44,
      "outputs": [
        {
          "output_type": "stream",
          "text": [
            "findfont: Font family ['Arial'] not found. Falling back to DejaVu Sans.\n"
          ],
          "name": "stderr"
        },
        {
          "output_type": "stream",
          "text": [
            "CPU times: user 30min 2s, sys: 6.25 s, total: 30min 8s\n",
            "Wall time: 7min 53s\n"
          ],
          "name": "stdout"
        },
        {
          "output_type": "display_data",
          "data": {
            "image/png": "[encoded data removed]",
            "text/plain": [
              "<Figure size 1080x1224 with 9 Axes>"
            ]
          },
          "metadata": {
            "tags": []
          }
        }
      ]
    },
    {
      "cell_type": "code",
      "metadata": {
        "id": "KJzPQNvbvwQc",
        "colab_type": "code",
        "colab": {}
      },
      "source": [
        ""
      ],
      "execution_count": 0,
      "outputs": []
    }
  ]
}