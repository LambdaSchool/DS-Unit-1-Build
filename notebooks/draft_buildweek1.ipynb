{
 "cells": [
  {
   "cell_type": "code",
   "execution_count": 1,
   "metadata": {},
   "outputs": [],
   "source": [
    "import pandas as pd \n",
    "import geopandas as gpd\n",
    "from glob import glob\n",
    "import numpy as np\n",
    "from scipy import stats\n",
    "import matplotlib.pyplot as plt"
   ]
  },
  {
   "cell_type": "code",
   "execution_count": 2,
   "metadata": {},
   "outputs": [
    {
     "name": "stdout",
     "output_type": "stream",
     "text": [
      "(1860256, 18)\n"
     ]
    },
    {
     "data": {
      "text/html": [
       "<div>\n",
       "<style scoped>\n",
       "    .dataframe tbody tr th:only-of-type {\n",
       "        vertical-align: middle;\n",
       "    }\n",
       "\n",
       "    .dataframe tbody tr th {\n",
       "        vertical-align: top;\n",
       "    }\n",
       "\n",
       "    .dataframe thead th {\n",
       "        text-align: right;\n",
       "    }\n",
       "</style>\n",
       "<table border=\"1\" class=\"dataframe\">\n",
       "  <thead>\n",
       "    <tr style=\"text-align: right;\">\n",
       "      <th></th>\n",
       "      <th>trip_id</th>\n",
       "      <th>duration</th>\n",
       "      <th>start_time</th>\n",
       "      <th>end_time</th>\n",
       "      <th>start_station</th>\n",
       "      <th>start_lat</th>\n",
       "      <th>start_lon</th>\n",
       "      <th>end_station</th>\n",
       "      <th>end_lat</th>\n",
       "      <th>end_lon</th>\n",
       "      <th>bike_id</th>\n",
       "      <th>plan_duration</th>\n",
       "      <th>trip_route_category</th>\n",
       "      <th>passholder_type</th>\n",
       "      <th>bike_type</th>\n",
       "      <th>start_station_id</th>\n",
       "      <th>end_station_id</th>\n",
       "      <th>Unnamed: 0</th>\n",
       "    </tr>\n",
       "  </thead>\n",
       "  <tbody>\n",
       "    <tr>\n",
       "      <th>0</th>\n",
       "      <td>124657107</td>\n",
       "      <td>5</td>\n",
       "      <td>7/1/2019 0:04</td>\n",
       "      <td>7/1/2019 0:09</td>\n",
       "      <td>4312.0</td>\n",
       "      <td>34.066990</td>\n",
       "      <td>-118.290878</td>\n",
       "      <td>4410.0</td>\n",
       "      <td>34.063351</td>\n",
       "      <td>-118.296799</td>\n",
       "      <td>6168</td>\n",
       "      <td>30.0</td>\n",
       "      <td>One Way</td>\n",
       "      <td>Monthly Pass</td>\n",
       "      <td>standard</td>\n",
       "      <td>NaN</td>\n",
       "      <td>NaN</td>\n",
       "      <td>NaN</td>\n",
       "    </tr>\n",
       "    <tr>\n",
       "      <th>1</th>\n",
       "      <td>124657587</td>\n",
       "      <td>9</td>\n",
       "      <td>7/1/2019 0:07</td>\n",
       "      <td>7/1/2019 0:16</td>\n",
       "      <td>3066.0</td>\n",
       "      <td>34.063389</td>\n",
       "      <td>-118.236160</td>\n",
       "      <td>3066.0</td>\n",
       "      <td>34.063389</td>\n",
       "      <td>-118.236160</td>\n",
       "      <td>17584</td>\n",
       "      <td>30.0</td>\n",
       "      <td>Round Trip</td>\n",
       "      <td>Monthly Pass</td>\n",
       "      <td>electric</td>\n",
       "      <td>NaN</td>\n",
       "      <td>NaN</td>\n",
       "      <td>NaN</td>\n",
       "    </tr>\n",
       "    <tr>\n",
       "      <th>2</th>\n",
       "      <td>124658068</td>\n",
       "      <td>5</td>\n",
       "      <td>7/1/2019 0:20</td>\n",
       "      <td>7/1/2019 0:25</td>\n",
       "      <td>4410.0</td>\n",
       "      <td>34.063351</td>\n",
       "      <td>-118.296799</td>\n",
       "      <td>4312.0</td>\n",
       "      <td>34.066990</td>\n",
       "      <td>-118.290878</td>\n",
       "      <td>18920</td>\n",
       "      <td>30.0</td>\n",
       "      <td>One Way</td>\n",
       "      <td>Monthly Pass</td>\n",
       "      <td>electric</td>\n",
       "      <td>NaN</td>\n",
       "      <td>NaN</td>\n",
       "      <td>NaN</td>\n",
       "    </tr>\n",
       "    <tr>\n",
       "      <th>3</th>\n",
       "      <td>124659747</td>\n",
       "      <td>20</td>\n",
       "      <td>7/1/2019 0:44</td>\n",
       "      <td>7/1/2019 1:04</td>\n",
       "      <td>3045.0</td>\n",
       "      <td>34.028511</td>\n",
       "      <td>-118.256668</td>\n",
       "      <td>4275.0</td>\n",
       "      <td>34.012520</td>\n",
       "      <td>-118.285896</td>\n",
       "      <td>6016</td>\n",
       "      <td>1.0</td>\n",
       "      <td>One Way</td>\n",
       "      <td>Walk-up</td>\n",
       "      <td>standard</td>\n",
       "      <td>NaN</td>\n",
       "      <td>NaN</td>\n",
       "      <td>NaN</td>\n",
       "    </tr>\n",
       "    <tr>\n",
       "      <th>4</th>\n",
       "      <td>124660227</td>\n",
       "      <td>27</td>\n",
       "      <td>7/1/2019 0:44</td>\n",
       "      <td>7/1/2019 1:11</td>\n",
       "      <td>3035.0</td>\n",
       "      <td>34.048401</td>\n",
       "      <td>-118.260948</td>\n",
       "      <td>3049.0</td>\n",
       "      <td>34.056969</td>\n",
       "      <td>-118.253593</td>\n",
       "      <td>5867</td>\n",
       "      <td>30.0</td>\n",
       "      <td>One Way</td>\n",
       "      <td>Monthly Pass</td>\n",
       "      <td>standard</td>\n",
       "      <td>NaN</td>\n",
       "      <td>NaN</td>\n",
       "      <td>NaN</td>\n",
       "    </tr>\n",
       "  </tbody>\n",
       "</table>\n",
       "</div>"
      ],
      "text/plain": [
       "     trip_id  duration     start_time       end_time  start_station  \\\n",
       "0  124657107         5  7/1/2019 0:04  7/1/2019 0:09         4312.0   \n",
       "1  124657587         9  7/1/2019 0:07  7/1/2019 0:16         3066.0   \n",
       "2  124658068         5  7/1/2019 0:20  7/1/2019 0:25         4410.0   \n",
       "3  124659747        20  7/1/2019 0:44  7/1/2019 1:04         3045.0   \n",
       "4  124660227        27  7/1/2019 0:44  7/1/2019 1:11         3035.0   \n",
       "\n",
       "   start_lat   start_lon  end_station    end_lat     end_lon bike_id  \\\n",
       "0  34.066990 -118.290878       4410.0  34.063351 -118.296799    6168   \n",
       "1  34.063389 -118.236160       3066.0  34.063389 -118.236160   17584   \n",
       "2  34.063351 -118.296799       4312.0  34.066990 -118.290878   18920   \n",
       "3  34.028511 -118.256668       4275.0  34.012520 -118.285896    6016   \n",
       "4  34.048401 -118.260948       3049.0  34.056969 -118.253593    5867   \n",
       "\n",
       "   plan_duration trip_route_category passholder_type bike_type  \\\n",
       "0           30.0             One Way    Monthly Pass  standard   \n",
       "1           30.0          Round Trip    Monthly Pass  electric   \n",
       "2           30.0             One Way    Monthly Pass  electric   \n",
       "3            1.0             One Way         Walk-up  standard   \n",
       "4           30.0             One Way    Monthly Pass  standard   \n",
       "\n",
       "   start_station_id  end_station_id  Unnamed: 0  \n",
       "0               NaN             NaN         NaN  \n",
       "1               NaN             NaN         NaN  \n",
       "2               NaN             NaN         NaN  \n",
       "3               NaN             NaN         NaN  \n",
       "4               NaN             NaN         NaN  "
      ]
     },
     "execution_count": 2,
     "metadata": {},
     "output_type": "execute_result"
    }
   ],
   "source": [
    "filepath = glob(\"/home/alex/data/la-metro-bike-share/*.csv\")\n",
    "dataframes = [pd.read_csv(f, low_memory=False) for f in filepath]\n",
    "df = pd.concat(dataframes)\n",
    "print(df.shape)\n",
    "df.head()"
   ]
  },
  {
   "cell_type": "code",
   "execution_count": 3,
   "metadata": {},
   "outputs": [],
   "source": [
    "def crop_trips_by_coordinates(dataframe):\n",
    "    dataframe = dataframe[dataframe[\"start_lat\"] > 33].copy()\n",
    "    dataframe = dataframe[dataframe[\"end_lat\"] > 33].copy()\n",
    "    dataframe = dataframe[dataframe[\"start_lon\"] < -116].copy()\n",
    "    dataframe = dataframe[dataframe[\"end_lon\"] < -116].copy()\n",
    "    return dataframe\n",
    "\n",
    "df_crop = crop_trips_by_coordinates(df).copy()\n",
    "\n",
    "def generate_datetime_features(dataframe):\n",
    "    dataframe[\"start_time\"] = pd.to_datetime(dataframe[\"start_time\"])\n",
    "    dataframe[\"end_time\"] = pd.to_datetime(dataframe[\"end_time\"])\n",
    "    dataframe[\"trip_duration_in_minutes\"] = dataframe[\"end_time\"] - dataframe[\"start_time\"]\n",
    "    df = dataframe[dataframe[\"trip_duration_in_minutes\"] > pd.Timedelta(minutes=0)].copy()\n",
    "    df = df[df[\"trip_duration_in_minutes\"] < pd.Timedelta(hours=24)]\n",
    "    df[\"trip_duration_in_minutes\"] = df[\"trip_duration_in_minutes\"] / pd.Timedelta(minutes=1)\n",
    "    df[\"year\"] = df[\"start_time\"].dt.year\n",
    "    df[\"month\"] = df[\"start_time\"].dt.month\n",
    "    df[\"day_of_week\"] = df[\"start_time\"].dt.dayofweek\n",
    "    df[\"hour\"] = df[\"start_time\"].dt.hour\n",
    "    df = df.sort_values(\"start_time\")\n",
    "    return df\n",
    "\n",
    "df_datetime = generate_datetime_features(df_crop)\n",
    "\n",
    "df_for_processing = df_datetime[[\"trip_id\",\"start_time\",\"end_time\",\"start_lat\",\"start_lon\",\"end_lat\",\"end_lon\",\"bike_id\",\"trip_route_category\",\"passholder_type\",\"trip_duration_in_minutes\",\"year\",\"month\",\"day_of_week\",\"hour\"]].copy()\n",
    "\n",
    "def add_coordinate_features(dataframe):\n",
    "    df = dataframe.copy()\n",
    "    df['StartCoordinate'] = list(zip(df.start_lat, df.start_lon))\n",
    "    df['EndCoordinate'] = list(zip(df.end_lat, df.end_lon))\n",
    "    return df\n",
    "\n",
    "df_for_processing = add_coordinate_features(df_for_processing)\n",
    "\n",
    "simplified_dictionary = {\"Annual Pass\": \"Subscriber\", \"Flex Pass\":\"Subscriber\", \"Monthly Pass\": \"Subscriber\", \"One Day Pass\": \"Customer\", \"Walk-up\":\"Customer\"}\n",
    "\n",
    "df_for_processing[\"UserType\"] = df_for_processing[\"passholder_type\"].map(simplified_dictionary)\n",
    "\n"
   ]
  },
  {
   "cell_type": "code",
   "execution_count": 4,
   "metadata": {},
   "outputs": [],
   "source": [
    "# function to calculate Cohen's d for independent samples\n",
    "def cohen_d(d1, d2):\n",
    "    # calculate the size of samples\n",
    "    n1, n2 = len(d1), len(d2)\n",
    "    # calculate the variance of the samples\n",
    "    s1, s2 = np.var(d1, ddof=1), np.var(d2, ddof=1)\n",
    "    # calculate the pooled standard deviation\n",
    "    s = np.sqrt(((n1 - 1) * s1 + (n2 - 1) * s2) / (n1 + n2 - 2))\n",
    "    # calculate the means of the samples\n",
    "    u1, u2 = np.mean(d1), np.mean(d2)\n",
    "    # calculate the effect size\n",
    "    return np.absolute((u1 - u2) / s)\n",
    "\n",
    "def sample_confidence_intervals(sample, confidence=0.95):\n",
    "    sample = np.array(sample)\n",
    "  # Remove NaN values\n",
    "    sample = sample[~np.isnan(sample)]\n",
    "  # Sample mean\n",
    "    mean = np.mean(sample)\n",
    "  # Sample size\n",
    "    n = len(sample)\n",
    "  # Standard error\n",
    "    stderr = np.std(sample, ddof=1) / np.sqrt(n)\n",
    "  # T-statistic that contains 95% of possible sample means within its bounds\n",
    "    t = stats.t.ppf((1 + confidence) / 2.0, n-1)\n",
    "  # Margin of error \n",
    "    margin_of_error = t * stderr\n",
    "\n",
    "    return mean, margin_of_error\n"
   ]
  },
  {
   "cell_type": "code",
   "execution_count": null,
   "metadata": {},
   "outputs": [],
   "source": []
  },
  {
   "cell_type": "code",
   "execution_count": 8,
   "metadata": {},
   "outputs": [
    {
     "data": {
      "text/plain": [
       "UserType\n",
       "Customer      48.258638\n",
       "Subscriber    13.599370\n",
       "Name: trip_duration_in_minutes, dtype: float64"
      ]
     },
     "execution_count": 8,
     "metadata": {},
     "output_type": "execute_result"
    }
   ],
   "source": [
    "df_for_processing.groupby(\"UserType\")[\"trip_duration_in_minutes\"].mean()"
   ]
  },
  {
   "cell_type": "code",
   "execution_count": 17,
   "metadata": {},
   "outputs": [],
   "source": [
    "customer_sample = df_for_processing[df_for_processing[\"UserType\"] ==  \"Customer\"][\"trip_duration_in_minutes\"].sample(50000)\n",
    "subscriber_sample = df_for_processing[df_for_processing[\"UserType\"] ==  \"Subscriber\"][\"trip_duration_in_minutes\"].sample(50000)\n"
   ]
  },
  {
   "cell_type": "code",
   "execution_count": null,
   "metadata": {},
   "outputs": [],
   "source": []
  },
  {
   "cell_type": "code",
   "execution_count": 18,
   "metadata": {},
   "outputs": [
    {
     "data": {
      "text/plain": [
       "(48.88423233333334, 0.9184515340059345)"
      ]
     },
     "execution_count": 18,
     "metadata": {},
     "output_type": "execute_result"
    }
   ],
   "source": [
    "sample_confidence_intervals(customer_sample)"
   ]
  },
  {
   "cell_type": "code",
   "execution_count": 19,
   "metadata": {},
   "outputs": [
    {
     "data": {
      "text/plain": [
       "(14.027503333333332, 0.37184170348952983)"
      ]
     },
     "execution_count": 19,
     "metadata": {},
     "output_type": "execute_result"
    }
   ],
   "source": [
    "sample_confidence_intervals(subscriber_sample)"
   ]
  },
  {
   "cell_type": "code",
   "execution_count": null,
   "metadata": {},
   "outputs": [],
   "source": []
  },
  {
   "cell_type": "code",
   "execution_count": 20,
   "metadata": {},
   "outputs": [],
   "source": [
    "labels = [\"Customer\", \"Subscriber\"]\n",
    "\n",
    "means = [sample_confidence_intervals(customer_sample)[0], \n",
    "         sample_confidence_intervals(subscriber_sample)[0]]\n",
    "\n",
    "margin_of_error = [sample_confidence_intervals(customer_sample)[1], \n",
    "                   sample_confidence_intervals(subscriber_sample)[1]]\n",
    "\n"
   ]
  },
  {
   "cell_type": "code",
   "execution_count": 25,
   "metadata": {},
   "outputs": [
    {
     "data": {
      "text/html": [
       "<div>\n",
       "<style scoped>\n",
       "    .dataframe tbody tr th:only-of-type {\n",
       "        vertical-align: middle;\n",
       "    }\n",
       "\n",
       "    .dataframe tbody tr th {\n",
       "        vertical-align: top;\n",
       "    }\n",
       "\n",
       "    .dataframe thead th {\n",
       "        text-align: right;\n",
       "    }\n",
       "</style>\n",
       "<table border=\"1\" class=\"dataframe\">\n",
       "  <thead>\n",
       "    <tr style=\"text-align: right;\">\n",
       "      <th></th>\n",
       "      <th>Mean</th>\n",
       "      <th>Margin of error</th>\n",
       "    </tr>\n",
       "  </thead>\n",
       "  <tbody>\n",
       "    <tr>\n",
       "      <th>Customer</th>\n",
       "      <td>48.884232</td>\n",
       "      <td>0.918452</td>\n",
       "    </tr>\n",
       "    <tr>\n",
       "      <th>Subscriber</th>\n",
       "      <td>14.027503</td>\n",
       "      <td>0.371842</td>\n",
       "    </tr>\n",
       "  </tbody>\n",
       "</table>\n",
       "</div>"
      ],
      "text/plain": [
       "                 Mean  Margin of error\n",
       "Customer    48.884232         0.918452\n",
       "Subscriber  14.027503         0.371842"
      ]
     },
     "execution_count": 25,
     "metadata": {},
     "output_type": "execute_result"
    }
   ],
   "source": [
    "means_df = pd.DataFrame([means, margin_of_error], columns=labels).T\n",
    "\n",
    "means_df.columns = [\"Mean\", \"Margin of error\"]\n",
    "\n",
    "#means_df = means_df.loc[labels]\n",
    "\n",
    "moe = means_df[\"Margin of error\"].values\n",
    "\n",
    "means_df"
   ]
  },
  {
   "cell_type": "code",
   "execution_count": 38,
   "metadata": {},
   "outputs": [],
   "source": [
    "means_df[\"pretty_label\"] = np.round(means_df[\"Mean\"]).astype(int).astype(str) + \" ± \" + np.round(means_df[\"Margin of error\"],1).astype(str)"
   ]
  },
  {
   "cell_type": "code",
   "execution_count": 39,
   "metadata": {},
   "outputs": [],
   "source": [
    "means_df[\"pretty_label\"] = means_df[\"pretty_label\"].astype(str)"
   ]
  },
  {
   "cell_type": "code",
   "execution_count": 40,
   "metadata": {},
   "outputs": [
    {
     "data": {
      "text/html": [
       "<div>\n",
       "<style scoped>\n",
       "    .dataframe tbody tr th:only-of-type {\n",
       "        vertical-align: middle;\n",
       "    }\n",
       "\n",
       "    .dataframe tbody tr th {\n",
       "        vertical-align: top;\n",
       "    }\n",
       "\n",
       "    .dataframe thead th {\n",
       "        text-align: right;\n",
       "    }\n",
       "</style>\n",
       "<table border=\"1\" class=\"dataframe\">\n",
       "  <thead>\n",
       "    <tr style=\"text-align: right;\">\n",
       "      <th></th>\n",
       "      <th>Mean</th>\n",
       "      <th>Margin of error</th>\n",
       "      <th>pretty_label</th>\n",
       "    </tr>\n",
       "  </thead>\n",
       "  <tbody>\n",
       "    <tr>\n",
       "      <th>Customer</th>\n",
       "      <td>48.884232</td>\n",
       "      <td>0.918452</td>\n",
       "      <td>49 ± 0.9</td>\n",
       "    </tr>\n",
       "    <tr>\n",
       "      <th>Subscriber</th>\n",
       "      <td>14.027503</td>\n",
       "      <td>0.371842</td>\n",
       "      <td>14 ± 0.4</td>\n",
       "    </tr>\n",
       "  </tbody>\n",
       "</table>\n",
       "</div>"
      ],
      "text/plain": [
       "                 Mean  Margin of error pretty_label\n",
       "Customer    48.884232         0.918452     49 ± 0.9\n",
       "Subscriber  14.027503         0.371842     14 ± 0.4"
      ]
     },
     "execution_count": 40,
     "metadata": {},
     "output_type": "execute_result"
    }
   ],
   "source": [
    "means_df"
   ]
  },
  {
   "cell_type": "code",
   "execution_count": 41,
   "metadata": {},
   "outputs": [],
   "source": [
    "y = means_df[\"pretty_label\"]\n"
   ]
  },
  {
   "cell_type": "code",
   "execution_count": 336,
   "metadata": {},
   "outputs": [
    {
     "data": {
      "image/png": "[encoded data removed]",
      "text/plain": [
       "<Figure size 576x432 with 1 Axes>"
      ]
     },
     "metadata": {
      "needs_background": "light"
     },
     "output_type": "display_data"
    }
   ],
   "source": [
    "fig, ax = plt.subplots(figsize=(8,6))\n",
    "means_df[\"Mean\"].sort_values().plot.barh(xerr=moe, color=\"#78d64b\",width=0.85, error_kw=dict(ecolor='black', lw=1, capsize=10, capthick=1))\n",
    "\n",
    "\n",
    "ax.spines['right'].set_visible(False)\n",
    "ax.spines['top'].set_visible(False)\n",
    "ax.spines['bottom'].set_visible(False)\n",
    "ax.spines['left'].set_visible(False)\n",
    "\n",
    "\n",
    "\n",
    "ax.yaxis.set_tick_params(labelsize=12)\n",
    "\n",
    "ax.text(0.4,0.275 , y[1] + \" minutes\", size=12,weight=\"500\",alpha=1, transform=ax.transAxes)\n",
    "ax.text(0.4,0.695 , y[0] + \" minutes\", size=12,weight=\"500\",alpha=1, transform=ax.transAxes)\n",
    "\n",
    "plt.suptitle(\"Customers Take Longer Trips\", size=18, y=1.05, ha=\"left\", x=0, fontweight=\"bold\", transform=ax.transAxes)\n",
    "plt.title(\"Average Trip Duration\", size=16, alpha=0.75, loc=\"left\", y= 0.925, x=0, transform=ax.transAxes)\n",
    "\n",
    "plt.subplots_adjust(top=0.85)\n",
    "\n",
    "plt.tick_params(bottom=False, left=False, labelbottom=False)\n",
    "\n",
    "#plt.axhline(y=-0.55, xmin=0, xmax=0.95, lw=1, color=\"black\", alpha=0.5)\n",
    "ax.text(x=0.355,y=0, s=\"Source: Los Angeles County Metropolitan Transportation Authority\", size=8,weight=\"400\",alpha=0.75, transform=ax.transAxes)\n",
    "\n",
    "\n",
    "\n",
    "#plt.show()\n",
    "\n",
    "plt.savefig(\"/home/alex/data/la-metro-bike-share/metro-bike-share-triplengths.png\", dpi=300)"
   ]
  },
  {
   "cell_type": "code",
   "execution_count": null,
   "metadata": {},
   "outputs": [],
   "source": []
  },
  {
   "cell_type": "code",
   "execution_count": 128,
   "metadata": {},
   "outputs": [
    {
     "data": {
      "text/html": [
       "<div>\n",
       "<style scoped>\n",
       "    .dataframe tbody tr th:only-of-type {\n",
       "        vertical-align: middle;\n",
       "    }\n",
       "\n",
       "    .dataframe tbody tr th {\n",
       "        vertical-align: top;\n",
       "    }\n",
       "\n",
       "    .dataframe thead th {\n",
       "        text-align: right;\n",
       "    }\n",
       "</style>\n",
       "<table border=\"1\" class=\"dataframe\">\n",
       "  <thead>\n",
       "    <tr style=\"text-align: right;\">\n",
       "      <th></th>\n",
       "      <th>trip_id</th>\n",
       "      <th>start_time</th>\n",
       "      <th>end_time</th>\n",
       "      <th>start_lat</th>\n",
       "      <th>start_lon</th>\n",
       "      <th>end_lat</th>\n",
       "      <th>end_lon</th>\n",
       "      <th>bike_id</th>\n",
       "      <th>trip_route_category</th>\n",
       "      <th>passholder_type</th>\n",
       "      <th>trip_duration_in_minutes</th>\n",
       "      <th>year</th>\n",
       "      <th>month</th>\n",
       "      <th>day_of_week</th>\n",
       "      <th>hour</th>\n",
       "      <th>StartCoordinate</th>\n",
       "      <th>EndCoordinate</th>\n",
       "      <th>UserType</th>\n",
       "    </tr>\n",
       "  </thead>\n",
       "  <tbody>\n",
       "    <tr>\n",
       "      <th>0</th>\n",
       "      <td>1912818</td>\n",
       "      <td>2016-07-07 04:17:00</td>\n",
       "      <td>2016-07-07 04:20:00</td>\n",
       "      <td>34.056610</td>\n",
       "      <td>-118.23721</td>\n",
       "      <td>34.056610</td>\n",
       "      <td>-118.23721</td>\n",
       "      <td>6281</td>\n",
       "      <td>Round Trip</td>\n",
       "      <td>Monthly Pass</td>\n",
       "      <td>3.0</td>\n",
       "      <td>2016</td>\n",
       "      <td>7</td>\n",
       "      <td>3</td>\n",
       "      <td>4</td>\n",
       "      <td>(34.0566101, -118.23721)</td>\n",
       "      <td>(34.0566101, -118.23721)</td>\n",
       "      <td>Subscriber</td>\n",
       "    </tr>\n",
       "    <tr>\n",
       "      <th>0</th>\n",
       "      <td>1912818</td>\n",
       "      <td>2016-07-07 04:17:00</td>\n",
       "      <td>2016-07-07 04:20:00</td>\n",
       "      <td>34.056610</td>\n",
       "      <td>-118.23721</td>\n",
       "      <td>34.056610</td>\n",
       "      <td>-118.23721</td>\n",
       "      <td>6281</td>\n",
       "      <td>Round Trip</td>\n",
       "      <td>Monthly Pass</td>\n",
       "      <td>3.0</td>\n",
       "      <td>2016</td>\n",
       "      <td>7</td>\n",
       "      <td>3</td>\n",
       "      <td>4</td>\n",
       "      <td>(34.0566101, -118.23721)</td>\n",
       "      <td>(34.0566101, -118.23721)</td>\n",
       "      <td>Subscriber</td>\n",
       "    </tr>\n",
       "    <tr>\n",
       "      <th>1</th>\n",
       "      <td>1919661</td>\n",
       "      <td>2016-07-07 06:00:00</td>\n",
       "      <td>2016-07-07 06:33:00</td>\n",
       "      <td>34.056610</td>\n",
       "      <td>-118.23721</td>\n",
       "      <td>34.056610</td>\n",
       "      <td>-118.23721</td>\n",
       "      <td>6281</td>\n",
       "      <td>Round Trip</td>\n",
       "      <td>Monthly Pass</td>\n",
       "      <td>33.0</td>\n",
       "      <td>2016</td>\n",
       "      <td>7</td>\n",
       "      <td>3</td>\n",
       "      <td>6</td>\n",
       "      <td>(34.0566101, -118.23721)</td>\n",
       "      <td>(34.0566101, -118.23721)</td>\n",
       "      <td>Subscriber</td>\n",
       "    </tr>\n",
       "    <tr>\n",
       "      <th>1</th>\n",
       "      <td>1919661</td>\n",
       "      <td>2016-07-07 06:00:00</td>\n",
       "      <td>2016-07-07 06:33:00</td>\n",
       "      <td>34.056610</td>\n",
       "      <td>-118.23721</td>\n",
       "      <td>34.056610</td>\n",
       "      <td>-118.23721</td>\n",
       "      <td>6281</td>\n",
       "      <td>Round Trip</td>\n",
       "      <td>Monthly Pass</td>\n",
       "      <td>33.0</td>\n",
       "      <td>2016</td>\n",
       "      <td>7</td>\n",
       "      <td>3</td>\n",
       "      <td>6</td>\n",
       "      <td>(34.0566101, -118.23721)</td>\n",
       "      <td>(34.0566101, -118.23721)</td>\n",
       "      <td>Subscriber</td>\n",
       "    </tr>\n",
       "    <tr>\n",
       "      <th>2</th>\n",
       "      <td>1933383</td>\n",
       "      <td>2016-07-07 10:32:00</td>\n",
       "      <td>2016-07-07 10:37:00</td>\n",
       "      <td>34.052898</td>\n",
       "      <td>-118.24156</td>\n",
       "      <td>34.052898</td>\n",
       "      <td>-118.24156</td>\n",
       "      <td>5861</td>\n",
       "      <td>Round Trip</td>\n",
       "      <td>Flex Pass</td>\n",
       "      <td>5.0</td>\n",
       "      <td>2016</td>\n",
       "      <td>7</td>\n",
       "      <td>3</td>\n",
       "      <td>10</td>\n",
       "      <td>(34.0528984, -118.24156)</td>\n",
       "      <td>(34.0528984, -118.24156)</td>\n",
       "      <td>Subscriber</td>\n",
       "    </tr>\n",
       "  </tbody>\n",
       "</table>\n",
       "</div>"
      ],
      "text/plain": [
       "   trip_id          start_time            end_time  start_lat  start_lon  \\\n",
       "0  1912818 2016-07-07 04:17:00 2016-07-07 04:20:00  34.056610 -118.23721   \n",
       "0  1912818 2016-07-07 04:17:00 2016-07-07 04:20:00  34.056610 -118.23721   \n",
       "1  1919661 2016-07-07 06:00:00 2016-07-07 06:33:00  34.056610 -118.23721   \n",
       "1  1919661 2016-07-07 06:00:00 2016-07-07 06:33:00  34.056610 -118.23721   \n",
       "2  1933383 2016-07-07 10:32:00 2016-07-07 10:37:00  34.052898 -118.24156   \n",
       "\n",
       "     end_lat    end_lon bike_id trip_route_category passholder_type  \\\n",
       "0  34.056610 -118.23721    6281          Round Trip    Monthly Pass   \n",
       "0  34.056610 -118.23721    6281          Round Trip    Monthly Pass   \n",
       "1  34.056610 -118.23721    6281          Round Trip    Monthly Pass   \n",
       "1  34.056610 -118.23721    6281          Round Trip    Monthly Pass   \n",
       "2  34.052898 -118.24156    5861          Round Trip       Flex Pass   \n",
       "\n",
       "   trip_duration_in_minutes  year  month  day_of_week  hour  \\\n",
       "0                       3.0  2016      7            3     4   \n",
       "0                       3.0  2016      7            3     4   \n",
       "1                      33.0  2016      7            3     6   \n",
       "1                      33.0  2016      7            3     6   \n",
       "2                       5.0  2016      7            3    10   \n",
       "\n",
       "            StartCoordinate             EndCoordinate    UserType  \n",
       "0  (34.0566101, -118.23721)  (34.0566101, -118.23721)  Subscriber  \n",
       "0  (34.0566101, -118.23721)  (34.0566101, -118.23721)  Subscriber  \n",
       "1  (34.0566101, -118.23721)  (34.0566101, -118.23721)  Subscriber  \n",
       "1  (34.0566101, -118.23721)  (34.0566101, -118.23721)  Subscriber  \n",
       "2  (34.0528984, -118.24156)  (34.0528984, -118.24156)  Subscriber  "
      ]
     },
     "execution_count": 128,
     "metadata": {},
     "output_type": "execute_result"
    }
   ],
   "source": [
    "df_for_processing.head()"
   ]
  },
  {
   "cell_type": "code",
   "execution_count": 129,
   "metadata": {},
   "outputs": [
    {
     "data": {
      "text/html": [
       "<div>\n",
       "<style scoped>\n",
       "    .dataframe tbody tr th:only-of-type {\n",
       "        vertical-align: middle;\n",
       "    }\n",
       "\n",
       "    .dataframe tbody tr th {\n",
       "        vertical-align: top;\n",
       "    }\n",
       "\n",
       "    .dataframe thead th {\n",
       "        text-align: right;\n",
       "    }\n",
       "</style>\n",
       "<table border=\"1\" class=\"dataframe\">\n",
       "  <thead>\n",
       "    <tr style=\"text-align: right;\">\n",
       "      <th></th>\n",
       "      <th>trip_id</th>\n",
       "      <th>start_time</th>\n",
       "      <th>end_time</th>\n",
       "      <th>start_lat</th>\n",
       "      <th>start_lon</th>\n",
       "      <th>end_lat</th>\n",
       "      <th>end_lon</th>\n",
       "      <th>bike_id</th>\n",
       "      <th>trip_route_category</th>\n",
       "      <th>passholder_type</th>\n",
       "      <th>trip_duration_in_minutes</th>\n",
       "      <th>year</th>\n",
       "      <th>month</th>\n",
       "      <th>day_of_week</th>\n",
       "      <th>hour</th>\n",
       "      <th>StartCoordinate</th>\n",
       "      <th>EndCoordinate</th>\n",
       "      <th>UserType</th>\n",
       "      <th>DayType</th>\n",
       "    </tr>\n",
       "  </thead>\n",
       "  <tbody>\n",
       "    <tr>\n",
       "      <th>0</th>\n",
       "      <td>1912818</td>\n",
       "      <td>2016-07-07 04:17:00</td>\n",
       "      <td>2016-07-07 04:20:00</td>\n",
       "      <td>34.056610</td>\n",
       "      <td>-118.23721</td>\n",
       "      <td>34.056610</td>\n",
       "      <td>-118.23721</td>\n",
       "      <td>6281</td>\n",
       "      <td>Round Trip</td>\n",
       "      <td>Monthly Pass</td>\n",
       "      <td>3.0</td>\n",
       "      <td>2016</td>\n",
       "      <td>7</td>\n",
       "      <td>3</td>\n",
       "      <td>4</td>\n",
       "      <td>(34.0566101, -118.23721)</td>\n",
       "      <td>(34.0566101, -118.23721)</td>\n",
       "      <td>Subscriber</td>\n",
       "      <td>Weekday</td>\n",
       "    </tr>\n",
       "    <tr>\n",
       "      <th>0</th>\n",
       "      <td>1912818</td>\n",
       "      <td>2016-07-07 04:17:00</td>\n",
       "      <td>2016-07-07 04:20:00</td>\n",
       "      <td>34.056610</td>\n",
       "      <td>-118.23721</td>\n",
       "      <td>34.056610</td>\n",
       "      <td>-118.23721</td>\n",
       "      <td>6281</td>\n",
       "      <td>Round Trip</td>\n",
       "      <td>Monthly Pass</td>\n",
       "      <td>3.0</td>\n",
       "      <td>2016</td>\n",
       "      <td>7</td>\n",
       "      <td>3</td>\n",
       "      <td>4</td>\n",
       "      <td>(34.0566101, -118.23721)</td>\n",
       "      <td>(34.0566101, -118.23721)</td>\n",
       "      <td>Subscriber</td>\n",
       "      <td>Weekday</td>\n",
       "    </tr>\n",
       "    <tr>\n",
       "      <th>1</th>\n",
       "      <td>1919661</td>\n",
       "      <td>2016-07-07 06:00:00</td>\n",
       "      <td>2016-07-07 06:33:00</td>\n",
       "      <td>34.056610</td>\n",
       "      <td>-118.23721</td>\n",
       "      <td>34.056610</td>\n",
       "      <td>-118.23721</td>\n",
       "      <td>6281</td>\n",
       "      <td>Round Trip</td>\n",
       "      <td>Monthly Pass</td>\n",
       "      <td>33.0</td>\n",
       "      <td>2016</td>\n",
       "      <td>7</td>\n",
       "      <td>3</td>\n",
       "      <td>6</td>\n",
       "      <td>(34.0566101, -118.23721)</td>\n",
       "      <td>(34.0566101, -118.23721)</td>\n",
       "      <td>Subscriber</td>\n",
       "      <td>Weekday</td>\n",
       "    </tr>\n",
       "    <tr>\n",
       "      <th>1</th>\n",
       "      <td>1919661</td>\n",
       "      <td>2016-07-07 06:00:00</td>\n",
       "      <td>2016-07-07 06:33:00</td>\n",
       "      <td>34.056610</td>\n",
       "      <td>-118.23721</td>\n",
       "      <td>34.056610</td>\n",
       "      <td>-118.23721</td>\n",
       "      <td>6281</td>\n",
       "      <td>Round Trip</td>\n",
       "      <td>Monthly Pass</td>\n",
       "      <td>33.0</td>\n",
       "      <td>2016</td>\n",
       "      <td>7</td>\n",
       "      <td>3</td>\n",
       "      <td>6</td>\n",
       "      <td>(34.0566101, -118.23721)</td>\n",
       "      <td>(34.0566101, -118.23721)</td>\n",
       "      <td>Subscriber</td>\n",
       "      <td>Weekday</td>\n",
       "    </tr>\n",
       "    <tr>\n",
       "      <th>2</th>\n",
       "      <td>1933383</td>\n",
       "      <td>2016-07-07 10:32:00</td>\n",
       "      <td>2016-07-07 10:37:00</td>\n",
       "      <td>34.052898</td>\n",
       "      <td>-118.24156</td>\n",
       "      <td>34.052898</td>\n",
       "      <td>-118.24156</td>\n",
       "      <td>5861</td>\n",
       "      <td>Round Trip</td>\n",
       "      <td>Flex Pass</td>\n",
       "      <td>5.0</td>\n",
       "      <td>2016</td>\n",
       "      <td>7</td>\n",
       "      <td>3</td>\n",
       "      <td>10</td>\n",
       "      <td>(34.0528984, -118.24156)</td>\n",
       "      <td>(34.0528984, -118.24156)</td>\n",
       "      <td>Subscriber</td>\n",
       "      <td>Weekday</td>\n",
       "    </tr>\n",
       "  </tbody>\n",
       "</table>\n",
       "</div>"
      ],
      "text/plain": [
       "   trip_id          start_time            end_time  start_lat  start_lon  \\\n",
       "0  1912818 2016-07-07 04:17:00 2016-07-07 04:20:00  34.056610 -118.23721   \n",
       "0  1912818 2016-07-07 04:17:00 2016-07-07 04:20:00  34.056610 -118.23721   \n",
       "1  1919661 2016-07-07 06:00:00 2016-07-07 06:33:00  34.056610 -118.23721   \n",
       "1  1919661 2016-07-07 06:00:00 2016-07-07 06:33:00  34.056610 -118.23721   \n",
       "2  1933383 2016-07-07 10:32:00 2016-07-07 10:37:00  34.052898 -118.24156   \n",
       "\n",
       "     end_lat    end_lon bike_id trip_route_category passholder_type  \\\n",
       "0  34.056610 -118.23721    6281          Round Trip    Monthly Pass   \n",
       "0  34.056610 -118.23721    6281          Round Trip    Monthly Pass   \n",
       "1  34.056610 -118.23721    6281          Round Trip    Monthly Pass   \n",
       "1  34.056610 -118.23721    6281          Round Trip    Monthly Pass   \n",
       "2  34.052898 -118.24156    5861          Round Trip       Flex Pass   \n",
       "\n",
       "   trip_duration_in_minutes  year  month  day_of_week  hour  \\\n",
       "0                       3.0  2016      7            3     4   \n",
       "0                       3.0  2016      7            3     4   \n",
       "1                      33.0  2016      7            3     6   \n",
       "1                      33.0  2016      7            3     6   \n",
       "2                       5.0  2016      7            3    10   \n",
       "\n",
       "            StartCoordinate             EndCoordinate    UserType  DayType  \n",
       "0  (34.0566101, -118.23721)  (34.0566101, -118.23721)  Subscriber  Weekday  \n",
       "0  (34.0566101, -118.23721)  (34.0566101, -118.23721)  Subscriber  Weekday  \n",
       "1  (34.0566101, -118.23721)  (34.0566101, -118.23721)  Subscriber  Weekday  \n",
       "1  (34.0566101, -118.23721)  (34.0566101, -118.23721)  Subscriber  Weekday  \n",
       "2  (34.0528984, -118.24156)  (34.0528984, -118.24156)  Subscriber  Weekday  "
      ]
     },
     "execution_count": 129,
     "metadata": {},
     "output_type": "execute_result"
    }
   ],
   "source": [
    "df_for_processing['DayType'] = df_for_processing['day_of_week'].apply(lambda x: 'Weekday' if x <= 4 else 'Weekend')\n",
    "\n",
    "df_for_processing.head()"
   ]
  },
  {
   "cell_type": "code",
   "execution_count": 130,
   "metadata": {},
   "outputs": [
    {
     "data": {
      "text/plain": [
       "Ttest_indResult(statistic=-29.381134436372953, pvalue=6.125365751799963e-189)"
      ]
     },
     "execution_count": 130,
     "metadata": {},
     "output_type": "execute_result"
    }
   ],
   "source": [
    "sample_of_weekdays = df_for_processing[df_for_processing[\"DayType\"] == \"Weekday\"][\"trip_duration_in_minutes\"].sample(50000)\n",
    "\n",
    "sample_of_weekends = df_for_processing[df_for_processing[\"DayType\"] == \"Weekend\"][\"trip_duration_in_minutes\"].sample(50000)\n",
    "\n",
    "\n",
    "stats.ttest_ind(sample_of_weekdays, sample_of_weekends)"
   ]
  },
  {
   "cell_type": "code",
   "execution_count": 131,
   "metadata": {},
   "outputs": [
    {
     "data": {
      "text/plain": [
       "0.1858226101170921"
      ]
     },
     "execution_count": 131,
     "metadata": {},
     "output_type": "execute_result"
    }
   ],
   "source": [
    "cohen_d(sample_of_weekdays, \n",
    "        \n",
    "        sample_of_weekends)"
   ]
  },
  {
   "cell_type": "code",
   "execution_count": 138,
   "metadata": {},
   "outputs": [],
   "source": [
    "subscribers_df = df_for_processing[df_for_processing[\"UserType\"] == \"Subscriber\"].copy()\n",
    "customers_df = df_for_processing[df_for_processing[\"UserType\"] == \"Customer\"].copy()"
   ]
  },
  {
   "cell_type": "code",
   "execution_count": 139,
   "metadata": {},
   "outputs": [],
   "source": [
    "sample_of_customer_weekdays = subscribers_df[subscribers_df[\"DayType\"] == \"Weekday\"][\"trip_duration_in_minutes\"].sample(50000)\n",
    "sample_of_customer_weekends = subscribers_df[subscribers_df[\"DayType\"] == \"Weekend\"][\"trip_duration_in_minutes\"].sample(50000)\n",
    "\n",
    "sample_of_subscriber_weekdays = customers_df[customers_df[\"DayType\"] == \"Weekday\"][\"trip_duration_in_minutes\"].sample(50000)\n",
    "sample_of_subscriber_weekends = customers_df[customers_df[\"DayType\"] == \"Weekend\"][\"trip_duration_in_minutes\"].sample(50000)"
   ]
  },
  {
   "cell_type": "code",
   "execution_count": 140,
   "metadata": {},
   "outputs": [
    {
     "data": {
      "text/plain": [
       "Ttest_indResult(statistic=-16.092772367114822, pvalue=3.39385404907888e-58)"
      ]
     },
     "execution_count": 140,
     "metadata": {},
     "output_type": "execute_result"
    }
   ],
   "source": [
    "stats.ttest_ind(sample_of_customer_weekdays, sample_of_customer_weekends)"
   ]
  },
  {
   "cell_type": "code",
   "execution_count": 141,
   "metadata": {},
   "outputs": [
    {
     "data": {
      "text/plain": [
       "0.10177962909340446"
      ]
     },
     "execution_count": 141,
     "metadata": {},
     "output_type": "execute_result"
    }
   ],
   "source": [
    "cohen_d(sample_of_customer_weekdays, \n",
    "        \n",
    "        sample_of_customer_weekends)"
   ]
  },
  {
   "cell_type": "code",
   "execution_count": 142,
   "metadata": {},
   "outputs": [
    {
     "data": {
      "text/plain": [
       "Ttest_indResult(statistic=-12.060987800287672, pvalue=1.7907658634873523e-33)"
      ]
     },
     "execution_count": 142,
     "metadata": {},
     "output_type": "execute_result"
    }
   ],
   "source": [
    "stats.ttest_ind(sample_of_subscriber_weekdays, sample_of_subscriber_weekends)"
   ]
  },
  {
   "cell_type": "code",
   "execution_count": 143,
   "metadata": {},
   "outputs": [
    {
     "data": {
      "text/plain": [
       "0.07628038456082614"
      ]
     },
     "execution_count": 143,
     "metadata": {},
     "output_type": "execute_result"
    }
   ],
   "source": [
    "cohen_d(sample_of_subscriber_weekdays, \n",
    "        \n",
    "        sample_of_subscriber_weekends)"
   ]
  },
  {
   "cell_type": "code",
   "execution_count": 144,
   "metadata": {},
   "outputs": [
    {
     "data": {
      "text/html": [
       "<div>\n",
       "<style scoped>\n",
       "    .dataframe tbody tr th:only-of-type {\n",
       "        vertical-align: middle;\n",
       "    }\n",
       "\n",
       "    .dataframe tbody tr th {\n",
       "        vertical-align: top;\n",
       "    }\n",
       "\n",
       "    .dataframe thead th {\n",
       "        text-align: right;\n",
       "    }\n",
       "</style>\n",
       "<table border=\"1\" class=\"dataframe\">\n",
       "  <thead>\n",
       "    <tr style=\"text-align: right;\">\n",
       "      <th>DayType</th>\n",
       "      <th>Weekday</th>\n",
       "      <th>Weekend</th>\n",
       "    </tr>\n",
       "    <tr>\n",
       "      <th>UserType</th>\n",
       "      <th></th>\n",
       "      <th></th>\n",
       "    </tr>\n",
       "  </thead>\n",
       "  <tbody>\n",
       "    <tr>\n",
       "      <th>Customer</th>\n",
       "      <td>0.599197</td>\n",
       "      <td>0.400803</td>\n",
       "    </tr>\n",
       "    <tr>\n",
       "      <th>Subscriber</th>\n",
       "      <td>0.807656</td>\n",
       "      <td>0.192344</td>\n",
       "    </tr>\n",
       "  </tbody>\n",
       "</table>\n",
       "</div>"
      ],
      "text/plain": [
       "DayType      Weekday   Weekend\n",
       "UserType                      \n",
       "Customer    0.599197  0.400803\n",
       "Subscriber  0.807656  0.192344"
      ]
     },
     "execution_count": 144,
     "metadata": {},
     "output_type": "execute_result"
    }
   ],
   "source": [
    "pd.crosstab(df_for_processing[\"UserType\"], df_for_processing[\"DayType\"], normalize=\"index\")"
   ]
  },
  {
   "cell_type": "code",
   "execution_count": 154,
   "metadata": {},
   "outputs": [
    {
     "name": "stdout",
     "output_type": "stream",
     "text": [
      "chi2_stat: 92487.98487192241\n",
      "p_value: 0.0\n",
      "dof: 1\n",
      "expected: [[476453.98838112 173720.01161888]\n",
      " [850552.01161888 310119.98838112]]\n"
     ]
    }
   ],
   "source": [
    "observed = pd.crosstab(df_for_processing[\"UserType\"], df_for_processing[\"DayType\"]).values\n",
    "chi2_stat, p_value, dof, expected = stats.chi2_contingency(observed)\n",
    "\n",
    "print(\"chi2_stat:\", chi2_stat)\n",
    "\n",
    "print(\"p_value:\",p_value)\n",
    "\n",
    "print(\"dof:\",dof)\n",
    "\n",
    "print(\"expected:\",expected)\n"
   ]
  },
  {
   "cell_type": "markdown",
   "metadata": {},
   "source": [
    "Given a $\\chi^2$ statistic of 92487.98487192241, a $\\text{p value}$ of 0.0, 1 degree of freedom, and a confidence interval of 95%, I reject the null hypothesis that user type and day type are independent. Instead I suggest the alternative hypothesis that user type and day type are not independent."
   ]
  },
  {
   "cell_type": "code",
   "execution_count": 272,
   "metadata": {},
   "outputs": [],
   "source": [
    "df_for_correlation = df_for_processing[[\"UserType\",\"DayType\"]].copy()\n",
    "correlation_dictionary = {\"Subscriber\":1, \"Customer\":2, \"Weekday\":3, \"Weekend\":4}\n",
    "df_for_correlation[\"UserType\"] = df_for_correlation[\"UserType\"].map(correlation_dictionary)\n",
    "df_for_correlation[\"DayType\"] = df_for_correlation[\"DayType\"].map(correlation_dictionary)"
   ]
  },
  {
   "cell_type": "code",
   "execution_count": 273,
   "metadata": {},
   "outputs": [
    {
     "data": {
      "text/html": [
       "<div>\n",
       "<style scoped>\n",
       "    .dataframe tbody tr th:only-of-type {\n",
       "        vertical-align: middle;\n",
       "    }\n",
       "\n",
       "    .dataframe tbody tr th {\n",
       "        vertical-align: top;\n",
       "    }\n",
       "\n",
       "    .dataframe thead th {\n",
       "        text-align: right;\n",
       "    }\n",
       "</style>\n",
       "<table border=\"1\" class=\"dataframe\">\n",
       "  <thead>\n",
       "    <tr style=\"text-align: right;\">\n",
       "      <th></th>\n",
       "      <th>UserType</th>\n",
       "      <th>DayType</th>\n",
       "    </tr>\n",
       "  </thead>\n",
       "  <tbody>\n",
       "    <tr>\n",
       "      <th>UserType</th>\n",
       "      <td>1.000000</td>\n",
       "      <td>0.225998</td>\n",
       "    </tr>\n",
       "    <tr>\n",
       "      <th>DayType</th>\n",
       "      <td>0.225998</td>\n",
       "      <td>1.000000</td>\n",
       "    </tr>\n",
       "  </tbody>\n",
       "</table>\n",
       "</div>"
      ],
      "text/plain": [
       "          UserType   DayType\n",
       "UserType  1.000000  0.225998\n",
       "DayType   0.225998  1.000000"
      ]
     },
     "execution_count": 273,
     "metadata": {},
     "output_type": "execute_result"
    }
   ],
   "source": [
    "df_for_correlation.corr()"
   ]
  },
  {
   "cell_type": "code",
   "execution_count": 204,
   "metadata": {},
   "outputs": [
    {
     "data": {
      "text/html": [
       "<div>\n",
       "<style scoped>\n",
       "    .dataframe tbody tr th:only-of-type {\n",
       "        vertical-align: middle;\n",
       "    }\n",
       "\n",
       "    .dataframe tbody tr th {\n",
       "        vertical-align: top;\n",
       "    }\n",
       "\n",
       "    .dataframe thead th {\n",
       "        text-align: right;\n",
       "    }\n",
       "</style>\n",
       "<table border=\"1\" class=\"dataframe\">\n",
       "  <thead>\n",
       "    <tr style=\"text-align: right;\">\n",
       "      <th>DayType</th>\n",
       "      <th>Weekday</th>\n",
       "      <th>Weekend</th>\n",
       "    </tr>\n",
       "    <tr>\n",
       "      <th>UserType</th>\n",
       "      <th></th>\n",
       "      <th></th>\n",
       "    </tr>\n",
       "  </thead>\n",
       "  <tbody>\n",
       "    <tr>\n",
       "      <th>Customer</th>\n",
       "      <td>0.599197</td>\n",
       "      <td>0.400803</td>\n",
       "    </tr>\n",
       "    <tr>\n",
       "      <th>Subscriber</th>\n",
       "      <td>0.807656</td>\n",
       "      <td>0.192344</td>\n",
       "    </tr>\n",
       "  </tbody>\n",
       "</table>\n",
       "</div>"
      ],
      "text/plain": [
       "DayType      Weekday   Weekend\n",
       "UserType                      \n",
       "Customer    0.599197  0.400803\n",
       "Subscriber  0.807656  0.192344"
      ]
     },
     "execution_count": 204,
     "metadata": {},
     "output_type": "execute_result"
    }
   ],
   "source": [
    "crosstab_df = pd.crosstab(df_for_processing[\"UserType\"], df_for_processing[\"DayType\"], normalize=\"index\")\n",
    "crosstab_df"
   ]
  },
  {
   "cell_type": "code",
   "execution_count": 335,
   "metadata": {},
   "outputs": [
    {
     "data": {
      "image/png": "[encoded data removed]",
      "text/plain": [
       "<Figure size 576x432 with 1 Axes>"
      ]
     },
     "metadata": {
      "needs_background": "light"
     },
     "output_type": "display_data"
    }
   ],
   "source": [
    "fig, ax = plt.subplots(figsize=(8,6))\n",
    "\n",
    "crosstab_df.plot(kind=\"bar\", color=[\"#78d64b\",\"#808080\"], ax=ax)\n",
    "\n",
    "ax.spines['right'].set_visible(False)\n",
    "ax.spines['top'].set_visible(False)\n",
    "ax.spines['bottom'].set_visible(False)\n",
    "ax.spines['left'].set_visible(False)\n",
    "\n",
    "plt.tick_params(bottom=False, left=False, labelbottom=True, labelleft=False)\n",
    "\n",
    "plt.xticks(rotation=0)\n",
    "plt.xlabel(\" \")\n",
    "\n",
    "plt.suptitle(\"Subscribers Prefer Weekdays\", size=18, y=1.1, ha=\"left\", x=0, fontweight=\"bold\", transform=ax.transAxes)\n",
    "plt.title(\"% of Total Trips\", size=16,alpha=0.75, loc=\"left\", y= .97, x=0, transform=ax.transAxes)\n",
    "\n",
    "#plt.axhline(y=-0.5, xmin=0, xmax=0.95, lw=1, color=\"black\", alpha=0.5)\n",
    "ax.text(x=0.355,y=-0.15, s=\"Source: Los Angeles County Metropolitan Transportation Authority\", size=8,weight=\"400\",alpha=0.75, transform=ax.transAxes)\n",
    "\n",
    "plt.subplots_adjust(top=0.85)\n",
    "\n",
    "ax.text(0.15,0.1 , str(np.round(crosstab_df.iloc[0,0]*100, 1)) + \"%\", size=12,weight=\"500\",alpha=1, transform=ax.transAxes)\n",
    "ax.text(0.275,0.1 , str(np.round(crosstab_df.iloc[0,1]*100, 1)) + \"%\", size=12,weight=\"500\",alpha=1, transform=ax.transAxes)\n",
    "\n",
    "ax.text(0.65,0.1 , str(np.round(crosstab_df.iloc[1,0]*100, 1)) + \"%\", size=12,weight=\"500\",alpha=1, transform=ax.transAxes)\n",
    "ax.text(0.775,0.1 , str(np.round(crosstab_df.iloc[1,1]*100, 1)) + \"%\", size=12,weight=\"500\",alpha=1, transform=ax.transAxes)\n",
    "\n",
    "plt.legend([\"Weekday\", \"Weekend\"], frameon=False, bbox_to_anchor=(0.275, 0.795),bbox_transform=plt.gcf().transFigure)\n",
    "\n",
    "plt.savefig(\"/home/alex/data/la-metro-bike-share/metro-bike-share-daytypes.png\", dpi=300)"
   ]
  },
  {
   "cell_type": "code",
   "execution_count": null,
   "metadata": {},
   "outputs": [],
   "source": []
  },
  {
   "cell_type": "code",
   "execution_count": null,
   "metadata": {},
   "outputs": [],
   "source": []
  },
  {
   "cell_type": "code",
   "execution_count": 287,
   "metadata": {},
   "outputs": [
    {
     "data": {
      "text/html": [
       "<div>\n",
       "<style scoped>\n",
       "    .dataframe tbody tr th:only-of-type {\n",
       "        vertical-align: middle;\n",
       "    }\n",
       "\n",
       "    .dataframe tbody tr th {\n",
       "        vertical-align: top;\n",
       "    }\n",
       "\n",
       "    .dataframe thead th {\n",
       "        text-align: right;\n",
       "    }\n",
       "</style>\n",
       "<table border=\"1\" class=\"dataframe\">\n",
       "  <thead>\n",
       "    <tr style=\"text-align: right;\">\n",
       "      <th>hour</th>\n",
       "      <th>0</th>\n",
       "      <th>1</th>\n",
       "      <th>2</th>\n",
       "      <th>3</th>\n",
       "      <th>4</th>\n",
       "      <th>5</th>\n",
       "      <th>6</th>\n",
       "      <th>7</th>\n",
       "      <th>8</th>\n",
       "      <th>9</th>\n",
       "      <th>...</th>\n",
       "      <th>14</th>\n",
       "      <th>15</th>\n",
       "      <th>16</th>\n",
       "      <th>17</th>\n",
       "      <th>18</th>\n",
       "      <th>19</th>\n",
       "      <th>20</th>\n",
       "      <th>21</th>\n",
       "      <th>22</th>\n",
       "      <th>23</th>\n",
       "    </tr>\n",
       "    <tr>\n",
       "      <th>UserType</th>\n",
       "      <th></th>\n",
       "      <th></th>\n",
       "      <th></th>\n",
       "      <th></th>\n",
       "      <th></th>\n",
       "      <th></th>\n",
       "      <th></th>\n",
       "      <th></th>\n",
       "      <th></th>\n",
       "      <th></th>\n",
       "      <th></th>\n",
       "      <th></th>\n",
       "      <th></th>\n",
       "      <th></th>\n",
       "      <th></th>\n",
       "      <th></th>\n",
       "      <th></th>\n",
       "      <th></th>\n",
       "      <th></th>\n",
       "      <th></th>\n",
       "      <th></th>\n",
       "    </tr>\n",
       "  </thead>\n",
       "  <tbody>\n",
       "    <tr>\n",
       "      <th>Customer</th>\n",
       "      <td>1.422081</td>\n",
       "      <td>0.999425</td>\n",
       "      <td>0.586612</td>\n",
       "      <td>0.195025</td>\n",
       "      <td>0.142423</td>\n",
       "      <td>0.240859</td>\n",
       "      <td>0.533703</td>\n",
       "      <td>1.255356</td>\n",
       "      <td>2.622067</td>\n",
       "      <td>3.822054</td>\n",
       "      <td>...</td>\n",
       "      <td>8.680446</td>\n",
       "      <td>8.684752</td>\n",
       "      <td>8.698595</td>\n",
       "      <td>8.181810</td>\n",
       "      <td>7.148856</td>\n",
       "      <td>5.862431</td>\n",
       "      <td>4.238250</td>\n",
       "      <td>3.532285</td>\n",
       "      <td>2.870616</td>\n",
       "      <td>2.107128</td>\n",
       "    </tr>\n",
       "    <tr>\n",
       "      <th>Subscriber</th>\n",
       "      <td>0.920674</td>\n",
       "      <td>0.583800</td>\n",
       "      <td>0.392531</td>\n",
       "      <td>0.251234</td>\n",
       "      <td>0.281561</td>\n",
       "      <td>0.575012</td>\n",
       "      <td>2.177704</td>\n",
       "      <td>4.930592</td>\n",
       "      <td>7.031099</td>\n",
       "      <td>5.540411</td>\n",
       "      <td>...</td>\n",
       "      <td>5.396012</td>\n",
       "      <td>5.856263</td>\n",
       "      <td>7.733623</td>\n",
       "      <td>9.682667</td>\n",
       "      <td>8.131324</td>\n",
       "      <td>6.238627</td>\n",
       "      <td>4.595958</td>\n",
       "      <td>3.252598</td>\n",
       "      <td>2.230777</td>\n",
       "      <td>1.510504</td>\n",
       "    </tr>\n",
       "  </tbody>\n",
       "</table>\n",
       "<p>2 rows × 24 columns</p>\n",
       "</div>"
      ],
      "text/plain": [
       "hour              0         1         2         3         4         5   \\\n",
       "UserType                                                                 \n",
       "Customer    1.422081  0.999425  0.586612  0.195025  0.142423  0.240859   \n",
       "Subscriber  0.920674  0.583800  0.392531  0.251234  0.281561  0.575012   \n",
       "\n",
       "hour              6         7         8         9   ...        14        15  \\\n",
       "UserType                                            ...                       \n",
       "Customer    0.533703  1.255356  2.622067  3.822054  ...  8.680446  8.684752   \n",
       "Subscriber  2.177704  4.930592  7.031099  5.540411  ...  5.396012  5.856263   \n",
       "\n",
       "hour              16        17        18        19        20        21  \\\n",
       "UserType                                                                 \n",
       "Customer    8.698595  8.181810  7.148856  5.862431  4.238250  3.532285   \n",
       "Subscriber  7.733623  9.682667  8.131324  6.238627  4.595958  3.252598   \n",
       "\n",
       "hour              22        23  \n",
       "UserType                        \n",
       "Customer    2.870616  2.107128  \n",
       "Subscriber  2.230777  1.510504  \n",
       "\n",
       "[2 rows x 24 columns]"
      ]
     },
     "execution_count": 287,
     "metadata": {},
     "output_type": "execute_result"
    }
   ],
   "source": [
    "crosstab_hod_df = pd.crosstab(df_for_processing[\"UserType\"], df_for_processing[\"hour\"], normalize=\"index\")*100\n",
    "\n",
    "crosstab_hod_df"
   ]
  },
  {
   "cell_type": "code",
   "execution_count": 338,
   "metadata": {},
   "outputs": [
    {
     "data": {
      "image/png": "[encoded data removed]",
      "text/plain": [
       "<Figure size 576x432 with 1 Axes>"
      ]
     },
     "metadata": {
      "needs_background": "light"
     },
     "output_type": "display_data"
    }
   ],
   "source": [
    "fig, ax = plt.subplots(figsize=(8,6))\n",
    "\n",
    "\n",
    "\n",
    "crosstab_hod_df.plot(kind=\"bar\", ax=ax, cmap=\"tab20b\")\n",
    "plt.xticks(rotation=0, size=12)\n",
    "plt.yticks([10])\n",
    "plt.subplots_adjust(top=0.85)\n",
    "plt.xlabel(\" \")\n",
    "plt.tick_params(bottom=False, left=True, labelbottom=True, labelleft=True)\n",
    "\n",
    "ax.spines['right'].set_visible(False)\n",
    "ax.spines['top'].set_visible(False)\n",
    "ax.spines['bottom'].set_visible(False)\n",
    "ax.spines['left'].set_visible(False)\n",
    "\n",
    "plt.suptitle(\"Subscribers Skip Midday to Ride After Work\", size=18, y=1.175, ha=\"left\", x=0, fontweight=\"bold\", transform=ax.transAxes)\n",
    "plt.title(\"% of Total Rides by Hour\", size=16, alpha=0.5, loc=\"left\", color=\"black\", y= 1.05, x=0, transform=ax.transAxes)\n",
    "\n",
    "ax.text(x=0.355,y=-0.15, s=\"Source: Los Angeles County Metropolitan Transportation Authority\", size=8,weight=\"400\",alpha=0.75, transform=ax.transAxes)\n",
    "ax.legend([\"Midnight\", \"1 am\", \"2 am\", \"3 am\", \"4 am\", \"5 am\", \"6 am\", \"7 am\", \"8 am\", \"9 am\", \"10 am\", \"11 am\", \"Noon\", \"1 pm\", \"2 pm\", \"3 pm\", \"4 pm\", \"5 pm\", \"6 pm\", \"7 pm\", \"8 pm\", \"9 pm\", \"10 pm\", \"11 pm\"], frameon=False,fontsize=10, loc=\"upper center\", ncol=2, title=\"Hour of Day\", bbox_to_anchor=(0.525, 0.875),bbox_transform=plt.gcf().transFigure)\n",
    "\n",
    "\n",
    "\n",
    "plt.show()\n",
    "#plt.savefig(\"metro-bike-share-weekly-trends.png\", dpi=500)"
   ]
  },
  {
   "cell_type": "code",
   "execution_count": null,
   "metadata": {},
   "outputs": [],
   "source": []
  },
  {
   "cell_type": "markdown",
   "metadata": {},
   "source": [
    "Hypothesis testing\n",
    "\n",
    "Null-hypothesis: Customer trip durations are equal to subscriber trip durations.\n",
    "\n",
    "$H_0: \\bar{x}_{Customer} = \\bar{x}_{Subscriber}$\n",
    "\n",
    "Alternative hypothesis: Customer trip durations are not equal to subscriber trip durations\n",
    "\n",
    "$H_a: \\bar{x}_{Customer} \\neq \\bar{x}_{Subscriber}$\n",
    "\n",
    "Confidence level: 95%\n",
    "\n"
   ]
  },
  {
   "cell_type": "code",
   "execution_count": 339,
   "metadata": {},
   "outputs": [
    {
     "data": {
      "text/plain": [
       "Ttest_indResult(statistic=-69.2646126319151, pvalue=0.0)"
      ]
     },
     "execution_count": 339,
     "metadata": {},
     "output_type": "execute_result"
    }
   ],
   "source": [
    "sample_of_subscribers = df_for_processing[df_for_processing[\"UserType\"] == \"Subscriber\"][\"trip_duration_in_minutes\"].sample(50000)\n",
    "\n",
    "sample_of_customers = df_for_processing[df_for_processing[\"UserType\"] == \"Customer\"][\"trip_duration_in_minutes\"].sample(50000)\n",
    "\n",
    "\n",
    "stats.ttest_ind(sample_of_subscribers, sample_of_customers)\n",
    "                \n",
    "                "
   ]
  },
  {
   "cell_type": "code",
   "execution_count": 6,
   "metadata": {},
   "outputs": [
    {
     "data": {
      "text/plain": [
       "0.43690376183403073"
      ]
     },
     "execution_count": 6,
     "metadata": {},
     "output_type": "execute_result"
    }
   ],
   "source": [
    "cohen_d(sample_of_subscribers, \n",
    "        \n",
    "        sample_of_customers)"
   ]
  },
  {
   "cell_type": "code",
   "execution_count": 7,
   "metadata": {},
   "outputs": [
    {
     "data": {
      "text/plain": [
       "(13.976395333333334, 0.365854843417433)"
      ]
     },
     "execution_count": 7,
     "metadata": {},
     "output_type": "execute_result"
    }
   ],
   "source": [
    "sample_confidence_intervals(sample_of_subscribers)"
   ]
  },
  {
   "cell_type": "code",
   "execution_count": 8,
   "metadata": {},
   "outputs": [
    {
     "data": {
      "text/plain": [
       "(48.91490866666666, 0.9213227275431897)"
      ]
     },
     "execution_count": 8,
     "metadata": {},
     "output_type": "execute_result"
    }
   ],
   "source": [
    "sample_confidence_intervals(sample_of_customers)"
   ]
  },
  {
   "cell_type": "markdown",
   "metadata": {},
   "source": [
    "Hypothesis testing\n",
    "\n",
    "Null-hypothesis: Weekday trip durations are equal to weekend trip durations.\n",
    "\n",
    "$H_0: \\bar{x}_{Weekday} = \\bar{x}_{Weekend}$\n",
    "\n",
    "Alternative hypothesis: Weekday trip durations are not equal to weekend trip durations\n",
    "\n",
    "$H_a: \\bar{x}_{Weekday} \\neq \\bar{x}_{Weekend}$\n",
    "\n",
    "Confidence level: 95%\n",
    "\n"
   ]
  },
  {
   "cell_type": "code",
   "execution_count": 10,
   "metadata": {},
   "outputs": [],
   "source": [
    "df_for_processing['DayType'] = df_for_processing['day_of_week'].apply(lambda x: 'Weekday' if x <= 4 else 'Weekend')"
   ]
  },
  {
   "cell_type": "code",
   "execution_count": 11,
   "metadata": {},
   "outputs": [
    {
     "data": {
      "text/plain": [
       "Ttest_indResult(statistic=-27.36407046679856, pvalue=2.9741188067674656e-164)"
      ]
     },
     "execution_count": 11,
     "metadata": {},
     "output_type": "execute_result"
    }
   ],
   "source": [
    "sample_of_weekdays = df_for_processing[df_for_processing[\"DayType\"] == \"Weekday\"][\"trip_duration_in_minutes\"].sample(50000)\n",
    "\n",
    "sample_of_weekends = df_for_processing[df_for_processing[\"DayType\"] == \"Weekend\"][\"trip_duration_in_minutes\"].sample(50000)\n",
    "\n",
    "\n",
    "stats.ttest_ind(sample_of_weekdays, sample_of_weekends)\n",
    "                \n",
    "                "
   ]
  },
  {
   "cell_type": "code",
   "execution_count": 12,
   "metadata": {},
   "outputs": [
    {
     "data": {
      "text/plain": [
       "0.1730655774568608"
      ]
     },
     "execution_count": 12,
     "metadata": {},
     "output_type": "execute_result"
    }
   ],
   "source": [
    "cohen_d(sample_of_weekdays, \n",
    "        \n",
    "        sample_of_weekends)"
   ]
  },
  {
   "cell_type": "code",
   "execution_count": 13,
   "metadata": {},
   "outputs": [
    {
     "data": {
      "text/plain": [
       "(22.702348999999998, 0.5896862081638822)"
      ]
     },
     "execution_count": 13,
     "metadata": {},
     "output_type": "execute_result"
    }
   ],
   "source": [
    "sample_confidence_intervals(sample_of_weekdays)"
   ]
  },
  {
   "cell_type": "code",
   "execution_count": 14,
   "metadata": {},
   "outputs": [
    {
     "data": {
      "text/plain": [
       "(35.670805333333334, 0.7177146794824898)"
      ]
     },
     "execution_count": 14,
     "metadata": {},
     "output_type": "execute_result"
    }
   ],
   "source": [
    "sample_confidence_intervals(sample_of_weekends)"
   ]
  },
  {
   "cell_type": "markdown",
   "metadata": {},
   "source": [
    "Null hypothesis: User type (Customer or Subscriber) and day type (Weekday or Weekend) are independent.\n",
    "\n",
    "Alternative hypothesis: User type and day type are not independent.\n",
    "\n",
    "Confidence interval: 95%"
   ]
  }
 ],
 "metadata": {
  "kernelspec": {
   "display_name": "Python 3",
   "language": "python",
   "name": "python3"
  },
  "language_info": {
   "codemirror_mode": {
    "name": "ipython",
    "version": 3
   },
   "file_extension": ".py",
   "mimetype": "text/x-python",
   "name": "python",
   "nbconvert_exporter": "python",
   "pygments_lexer": "ipython3",
   "version": "3.7.6"
  }
 },
 "nbformat": 4,
 "nbformat_minor": 4
}
