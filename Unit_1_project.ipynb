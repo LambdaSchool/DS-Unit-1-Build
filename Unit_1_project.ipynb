{
  "nbformat": 4,
  "nbformat_minor": 0,
  "metadata": {
    "colab": {
      "name": "Unit 1 project",
      "provenance": [],
      "collapsed_sections": [],
      "include_colab_link": true
    },
    "kernelspec": {
      "name": "python3",
      "display_name": "Python 3"
    }
  },
  "cells": [
    {
      "cell_type": "markdown",
      "metadata": {
        "id": "view-in-github",
        "colab_type": "text"
      },
      "source": [
        "<a href=\"https://colab.research.google.com/github/KhaSab5292/DS-Unit-1-Build/blob/master/Unit_1_project.ipynb\" target=\"_parent\"><img src=\"https://colab.research.google.com/assets/colab-badge.svg\" alt=\"Open In Colab\"/></a>"
      ]
    },
    {
      "cell_type": "code",
      "metadata": {
        "id": "ng63oKnJI-uT",
        "colab_type": "code",
        "outputId": "1336b518-d259-4189-8a61-f0c1cd58edb5",
        "colab": {
          "base_uri": "https://localhost:8080/",
          "height": 34
        }
      },
      "source": [
        "import pandas as pd\n",
        "import numpy as np\n",
        "import matplotlib.pyplot as plt\n",
        "from google.colab import drive\n",
        "\n",
        "drive.mount('/content/drive')"
      ],
      "execution_count": 454,
      "outputs": [
        {
          "output_type": "stream",
          "text": [
            "Drive already mounted at /content/drive; to attempt to forcibly remount, call drive.mount(\"/content/drive\", force_remount=True).\n"
          ],
          "name": "stdout"
        }
      ]
    },
    {
      "cell_type": "code",
      "metadata": {
        "id": "ooGSBbLZIhBF",
        "colab_type": "code",
        "outputId": "7aebffa8-6db3-4742-a561-3cdf55ef8ba6",
        "colab": {
          "base_uri": "https://localhost:8080/",
          "height": 221
        }
      },
      "source": [
        "dfdogs = pd.read_csv('/content/drive/My Drive/Lambda/Unit 1/DOHMH_Dog_Bite_Data.csv')\n",
        "print(dfdogs.shape)\n",
        "dfdogs.head()"
      ],
      "execution_count": 455,
      "outputs": [
        {
          "output_type": "stream",
          "text": [
            "(10280, 9)\n"
          ],
          "name": "stdout"
        },
        {
          "output_type": "execute_result",
          "data": {
            "text/html": [
              "<div>\n",
              "<style scoped>\n",
              "    .dataframe tbody tr th:only-of-type {\n",
              "        vertical-align: middle;\n",
              "    }\n",
              "\n",
              "    .dataframe tbody tr th {\n",
              "        vertical-align: top;\n",
              "    }\n",
              "\n",
              "    .dataframe thead th {\n",
              "        text-align: right;\n",
              "    }\n",
              "</style>\n",
              "<table border=\"1\" class=\"dataframe\">\n",
              "  <thead>\n",
              "    <tr style=\"text-align: right;\">\n",
              "      <th></th>\n",
              "      <th>UniqueID</th>\n",
              "      <th>DateOfBite</th>\n",
              "      <th>Species</th>\n",
              "      <th>Breed</th>\n",
              "      <th>Age</th>\n",
              "      <th>Gender</th>\n",
              "      <th>SpayNeuter</th>\n",
              "      <th>Borough</th>\n",
              "      <th>ZipCode</th>\n",
              "    </tr>\n",
              "  </thead>\n",
              "  <tbody>\n",
              "    <tr>\n",
              "      <th>0</th>\n",
              "      <td>1</td>\n",
              "      <td>January 02 2015</td>\n",
              "      <td>DOG</td>\n",
              "      <td>Poodle, Standard</td>\n",
              "      <td>3</td>\n",
              "      <td>M</td>\n",
              "      <td>True</td>\n",
              "      <td>Brooklyn</td>\n",
              "      <td>11238</td>\n",
              "    </tr>\n",
              "    <tr>\n",
              "      <th>1</th>\n",
              "      <td>2</td>\n",
              "      <td>January 02 2015</td>\n",
              "      <td>DOG</td>\n",
              "      <td>HUSKY</td>\n",
              "      <td>NaN</td>\n",
              "      <td>U</td>\n",
              "      <td>False</td>\n",
              "      <td>Brooklyn</td>\n",
              "      <td>11249</td>\n",
              "    </tr>\n",
              "    <tr>\n",
              "      <th>2</th>\n",
              "      <td>3</td>\n",
              "      <td>January 02 2015</td>\n",
              "      <td>DOG</td>\n",
              "      <td>NaN</td>\n",
              "      <td>NaN</td>\n",
              "      <td>U</td>\n",
              "      <td>False</td>\n",
              "      <td>Brooklyn</td>\n",
              "      <td>NaN</td>\n",
              "    </tr>\n",
              "    <tr>\n",
              "      <th>3</th>\n",
              "      <td>4</td>\n",
              "      <td>January 01 2015</td>\n",
              "      <td>DOG</td>\n",
              "      <td>American Pit Bull Terrier/Pit Bull</td>\n",
              "      <td>6</td>\n",
              "      <td>M</td>\n",
              "      <td>False</td>\n",
              "      <td>Brooklyn</td>\n",
              "      <td>11221</td>\n",
              "    </tr>\n",
              "    <tr>\n",
              "      <th>4</th>\n",
              "      <td>5</td>\n",
              "      <td>January 03 2015</td>\n",
              "      <td>DOG</td>\n",
              "      <td>American Pit Bull Terrier/Pit Bull</td>\n",
              "      <td>1</td>\n",
              "      <td>M</td>\n",
              "      <td>False</td>\n",
              "      <td>Brooklyn</td>\n",
              "      <td>11207</td>\n",
              "    </tr>\n",
              "  </tbody>\n",
              "</table>\n",
              "</div>"
            ],
            "text/plain": [
              "   UniqueID       DateOfBite Species  ... SpayNeuter   Borough ZipCode\n",
              "0         1  January 02 2015     DOG  ...       True  Brooklyn   11238\n",
              "1         2  January 02 2015     DOG  ...      False  Brooklyn   11249\n",
              "2         3  January 02 2015     DOG  ...      False  Brooklyn     NaN\n",
              "3         4  January 01 2015     DOG  ...      False  Brooklyn   11221\n",
              "4         5  January 03 2015     DOG  ...      False  Brooklyn   11207\n",
              "\n",
              "[5 rows x 9 columns]"
            ]
          },
          "metadata": {
            "tags": []
          },
          "execution_count": 455
        }
      ]
    },
    {
      "cell_type": "code",
      "metadata": {
        "id": "K3oN3tixHZe5",
        "colab_type": "code",
        "outputId": "1aabc649-0732-4a2a-f64a-e9304018bd8f",
        "colab": {
          "base_uri": "https://localhost:8080/",
          "height": 187
        }
      },
      "source": [
        "dfdogs.isnull().sum()"
      ],
      "execution_count": 456,
      "outputs": [
        {
          "output_type": "execute_result",
          "data": {
            "text/plain": [
              "UniqueID         0\n",
              "DateOfBite       0\n",
              "Species          0\n",
              "Breed         1588\n",
              "Age           4746\n",
              "Gender           0\n",
              "SpayNeuter       0\n",
              "Borough          0\n",
              "ZipCode       2667\n",
              "dtype: int64"
            ]
          },
          "metadata": {
            "tags": []
          },
          "execution_count": 456
        }
      ]
    },
    {
      "cell_type": "code",
      "metadata": {
        "id": "puVfyuWdMoZ6",
        "colab_type": "code",
        "outputId": "5ae6bb7a-41f5-4ab2-95cb-3e720f12953b",
        "colab": {
          "base_uri": "https://localhost:8080/",
          "height": 187
        }
      },
      "source": [
        "dfdogs.dtypes"
      ],
      "execution_count": 457,
      "outputs": [
        {
          "output_type": "execute_result",
          "data": {
            "text/plain": [
              "UniqueID       int64\n",
              "DateOfBite    object\n",
              "Species       object\n",
              "Breed         object\n",
              "Age           object\n",
              "Gender        object\n",
              "SpayNeuter      bool\n",
              "Borough       object\n",
              "ZipCode       object\n",
              "dtype: object"
            ]
          },
          "metadata": {
            "tags": []
          },
          "execution_count": 457
        }
      ]
    },
    {
      "cell_type": "code",
      "metadata": {
        "id": "kvtITjwfHrUg",
        "colab_type": "code",
        "outputId": "3ee8dfc2-a281-46b2-8424-44b992b18e91",
        "colab": {
          "base_uri": "https://localhost:8080/",
          "height": 297
        }
      },
      "source": [
        "dfdogs.describe()"
      ],
      "execution_count": 458,
      "outputs": [
        {
          "output_type": "execute_result",
          "data": {
            "text/html": [
              "<div>\n",
              "<style scoped>\n",
              "    .dataframe tbody tr th:only-of-type {\n",
              "        vertical-align: middle;\n",
              "    }\n",
              "\n",
              "    .dataframe tbody tr th {\n",
              "        vertical-align: top;\n",
              "    }\n",
              "\n",
              "    .dataframe thead th {\n",
              "        text-align: right;\n",
              "    }\n",
              "</style>\n",
              "<table border=\"1\" class=\"dataframe\">\n",
              "  <thead>\n",
              "    <tr style=\"text-align: right;\">\n",
              "      <th></th>\n",
              "      <th>UniqueID</th>\n",
              "    </tr>\n",
              "  </thead>\n",
              "  <tbody>\n",
              "    <tr>\n",
              "      <th>count</th>\n",
              "      <td>10280.000000</td>\n",
              "    </tr>\n",
              "    <tr>\n",
              "      <th>mean</th>\n",
              "      <td>5140.500000</td>\n",
              "    </tr>\n",
              "    <tr>\n",
              "      <th>std</th>\n",
              "      <td>2967.724718</td>\n",
              "    </tr>\n",
              "    <tr>\n",
              "      <th>min</th>\n",
              "      <td>1.000000</td>\n",
              "    </tr>\n",
              "    <tr>\n",
              "      <th>25%</th>\n",
              "      <td>2570.750000</td>\n",
              "    </tr>\n",
              "    <tr>\n",
              "      <th>50%</th>\n",
              "      <td>5140.500000</td>\n",
              "    </tr>\n",
              "    <tr>\n",
              "      <th>75%</th>\n",
              "      <td>7710.250000</td>\n",
              "    </tr>\n",
              "    <tr>\n",
              "      <th>max</th>\n",
              "      <td>10280.000000</td>\n",
              "    </tr>\n",
              "  </tbody>\n",
              "</table>\n",
              "</div>"
            ],
            "text/plain": [
              "           UniqueID\n",
              "count  10280.000000\n",
              "mean    5140.500000\n",
              "std     2967.724718\n",
              "min        1.000000\n",
              "25%     2570.750000\n",
              "50%     5140.500000\n",
              "75%     7710.250000\n",
              "max    10280.000000"
            ]
          },
          "metadata": {
            "tags": []
          },
          "execution_count": 458
        }
      ]
    },
    {
      "cell_type": "code",
      "metadata": {
        "id": "8fDEN2QIHvhJ",
        "colab_type": "code",
        "outputId": "fb384900-6a67-407d-afe1-251995244271",
        "colab": {
          "base_uri": "https://localhost:8080/",
          "height": 173
        }
      },
      "source": [
        "dfdogs.describe(exclude = 'number')"
      ],
      "execution_count": 459,
      "outputs": [
        {
          "output_type": "execute_result",
          "data": {
            "text/html": [
              "<div>\n",
              "<style scoped>\n",
              "    .dataframe tbody tr th:only-of-type {\n",
              "        vertical-align: middle;\n",
              "    }\n",
              "\n",
              "    .dataframe tbody tr th {\n",
              "        vertical-align: top;\n",
              "    }\n",
              "\n",
              "    .dataframe thead th {\n",
              "        text-align: right;\n",
              "    }\n",
              "</style>\n",
              "<table border=\"1\" class=\"dataframe\">\n",
              "  <thead>\n",
              "    <tr style=\"text-align: right;\">\n",
              "      <th></th>\n",
              "      <th>DateOfBite</th>\n",
              "      <th>Species</th>\n",
              "      <th>Breed</th>\n",
              "      <th>Age</th>\n",
              "      <th>Gender</th>\n",
              "      <th>SpayNeuter</th>\n",
              "      <th>Borough</th>\n",
              "      <th>ZipCode</th>\n",
              "    </tr>\n",
              "  </thead>\n",
              "  <tbody>\n",
              "    <tr>\n",
              "      <th>count</th>\n",
              "      <td>10280</td>\n",
              "      <td>10280</td>\n",
              "      <td>8692</td>\n",
              "      <td>5534</td>\n",
              "      <td>10280</td>\n",
              "      <td>10280</td>\n",
              "      <td>10280</td>\n",
              "      <td>7613</td>\n",
              "    </tr>\n",
              "    <tr>\n",
              "      <th>unique</th>\n",
              "      <td>1096</td>\n",
              "      <td>1</td>\n",
              "      <td>1032</td>\n",
              "      <td>153</td>\n",
              "      <td>3</td>\n",
              "      <td>2</td>\n",
              "      <td>6</td>\n",
              "      <td>349</td>\n",
              "    </tr>\n",
              "    <tr>\n",
              "      <th>top</th>\n",
              "      <td>June 06 2015</td>\n",
              "      <td>DOG</td>\n",
              "      <td>Pit Bull</td>\n",
              "      <td>2</td>\n",
              "      <td>U</td>\n",
              "      <td>False</td>\n",
              "      <td>Queens</td>\n",
              "      <td>10029</td>\n",
              "    </tr>\n",
              "    <tr>\n",
              "      <th>freq</th>\n",
              "      <td>25</td>\n",
              "      <td>10280</td>\n",
              "      <td>1921</td>\n",
              "      <td>835</td>\n",
              "      <td>4448</td>\n",
              "      <td>7289</td>\n",
              "      <td>2520</td>\n",
              "      <td>166</td>\n",
              "    </tr>\n",
              "  </tbody>\n",
              "</table>\n",
              "</div>"
            ],
            "text/plain": [
              "          DateOfBite Species     Breed   Age Gender SpayNeuter Borough ZipCode\n",
              "count          10280   10280      8692  5534  10280      10280   10280    7613\n",
              "unique          1096       1      1032   153      3          2       6     349\n",
              "top     June 06 2015     DOG  Pit Bull     2      U      False  Queens   10029\n",
              "freq              25   10280      1921   835   4448       7289    2520     166"
            ]
          },
          "metadata": {
            "tags": []
          },
          "execution_count": 459
        }
      ]
    },
    {
      "cell_type": "markdown",
      "metadata": {
        "id": "xRqDzI3Y8kUs",
        "colab_type": "text"
      },
      "source": [
        "# **Cleaning the dataset**"
      ]
    },
    {
      "cell_type": "code",
      "metadata": {
        "id": "3Jksm5or0LlQ",
        "colab_type": "code",
        "outputId": "5aae7c9f-e205-45cf-e409-a4c091eb5d9f",
        "colab": {
          "base_uri": "https://localhost:8080/",
          "height": 85
        }
      },
      "source": [
        "dfdogs['Gender'].value_counts()"
      ],
      "execution_count": 460,
      "outputs": [
        {
          "output_type": "execute_result",
          "data": {
            "text/plain": [
              "U    4448\n",
              "M    4203\n",
              "F    1629\n",
              "Name: Gender, dtype: int64"
            ]
          },
          "metadata": {
            "tags": []
          },
          "execution_count": 460
        }
      ]
    },
    {
      "cell_type": "code",
      "metadata": {
        "id": "S9K7_PFY1JxV",
        "colab_type": "code",
        "outputId": "61e23d3f-678a-4b87-c805-6462f560d589",
        "colab": {
          "base_uri": "https://localhost:8080/",
          "height": 136
        }
      },
      "source": [
        "dfdogs['Borough'].value_counts()"
      ],
      "execution_count": 461,
      "outputs": [
        {
          "output_type": "execute_result",
          "data": {
            "text/plain": [
              "Queens           2520\n",
              "Manhattan        2354\n",
              "Brooklyn         2281\n",
              "Bronx            1757\n",
              "Staten Island     931\n",
              "Other             437\n",
              "Name: Borough, dtype: int64"
            ]
          },
          "metadata": {
            "tags": []
          },
          "execution_count": 461
        }
      ]
    },
    {
      "cell_type": "code",
      "metadata": {
        "id": "T3qhLTCKKm77",
        "colab_type": "code",
        "outputId": "662c6df9-e6bd-49a1-8a5c-4bdc23746dcb",
        "colab": {
          "base_uri": "https://localhost:8080/",
          "height": 221
        }
      },
      "source": [
        "dfdogs = dfdogs.drop(columns = ['Species', 'Age', 'SpayNeuter', 'ZipCode'])\n",
        "print(dfdogs.shape)\n",
        "dfdogs.head()"
      ],
      "execution_count": 462,
      "outputs": [
        {
          "output_type": "stream",
          "text": [
            "(10280, 5)\n"
          ],
          "name": "stdout"
        },
        {
          "output_type": "execute_result",
          "data": {
            "text/html": [
              "<div>\n",
              "<style scoped>\n",
              "    .dataframe tbody tr th:only-of-type {\n",
              "        vertical-align: middle;\n",
              "    }\n",
              "\n",
              "    .dataframe tbody tr th {\n",
              "        vertical-align: top;\n",
              "    }\n",
              "\n",
              "    .dataframe thead th {\n",
              "        text-align: right;\n",
              "    }\n",
              "</style>\n",
              "<table border=\"1\" class=\"dataframe\">\n",
              "  <thead>\n",
              "    <tr style=\"text-align: right;\">\n",
              "      <th></th>\n",
              "      <th>UniqueID</th>\n",
              "      <th>DateOfBite</th>\n",
              "      <th>Breed</th>\n",
              "      <th>Gender</th>\n",
              "      <th>Borough</th>\n",
              "    </tr>\n",
              "  </thead>\n",
              "  <tbody>\n",
              "    <tr>\n",
              "      <th>0</th>\n",
              "      <td>1</td>\n",
              "      <td>January 02 2015</td>\n",
              "      <td>Poodle, Standard</td>\n",
              "      <td>M</td>\n",
              "      <td>Brooklyn</td>\n",
              "    </tr>\n",
              "    <tr>\n",
              "      <th>1</th>\n",
              "      <td>2</td>\n",
              "      <td>January 02 2015</td>\n",
              "      <td>HUSKY</td>\n",
              "      <td>U</td>\n",
              "      <td>Brooklyn</td>\n",
              "    </tr>\n",
              "    <tr>\n",
              "      <th>2</th>\n",
              "      <td>3</td>\n",
              "      <td>January 02 2015</td>\n",
              "      <td>NaN</td>\n",
              "      <td>U</td>\n",
              "      <td>Brooklyn</td>\n",
              "    </tr>\n",
              "    <tr>\n",
              "      <th>3</th>\n",
              "      <td>4</td>\n",
              "      <td>January 01 2015</td>\n",
              "      <td>American Pit Bull Terrier/Pit Bull</td>\n",
              "      <td>M</td>\n",
              "      <td>Brooklyn</td>\n",
              "    </tr>\n",
              "    <tr>\n",
              "      <th>4</th>\n",
              "      <td>5</td>\n",
              "      <td>January 03 2015</td>\n",
              "      <td>American Pit Bull Terrier/Pit Bull</td>\n",
              "      <td>M</td>\n",
              "      <td>Brooklyn</td>\n",
              "    </tr>\n",
              "  </tbody>\n",
              "</table>\n",
              "</div>"
            ],
            "text/plain": [
              "   UniqueID       DateOfBite  ... Gender   Borough\n",
              "0         1  January 02 2015  ...      M  Brooklyn\n",
              "1         2  January 02 2015  ...      U  Brooklyn\n",
              "2         3  January 02 2015  ...      U  Brooklyn\n",
              "3         4  January 01 2015  ...      M  Brooklyn\n",
              "4         5  January 03 2015  ...      M  Brooklyn\n",
              "\n",
              "[5 rows x 5 columns]"
            ]
          },
          "metadata": {
            "tags": []
          },
          "execution_count": 462
        }
      ]
    },
    {
      "cell_type": "code",
      "metadata": {
        "id": "FH13mk2Y3XUY",
        "colab_type": "code",
        "outputId": "1b37ea5c-cc89-465d-9c5c-56925eb68ac1",
        "colab": {
          "base_uri": "https://localhost:8080/",
          "height": 119
        }
      },
      "source": [
        "dfdogs = dfdogs.rename(columns = {'Breed': 'DogBreed'})\n",
        "dfdogs.isnull().sum()"
      ],
      "execution_count": 463,
      "outputs": [
        {
          "output_type": "execute_result",
          "data": {
            "text/plain": [
              "UniqueID         0\n",
              "DateOfBite       0\n",
              "DogBreed      1588\n",
              "Gender           0\n",
              "Borough          0\n",
              "dtype: int64"
            ]
          },
          "metadata": {
            "tags": []
          },
          "execution_count": 463
        }
      ]
    },
    {
      "cell_type": "code",
      "metadata": {
        "id": "9vhhMQPg3JQp",
        "colab_type": "code",
        "outputId": "f2e0d691-dd21-4cdd-b251-3b5740d2e35d",
        "colab": {
          "base_uri": "https://localhost:8080/",
          "height": 136
        }
      },
      "source": [
        "dfdogs = dfdogs.dropna(subset = ['DogBreed'])\n",
        "print(dfdogs.shape)\n",
        "dfdogs.isnull().sum()"
      ],
      "execution_count": 464,
      "outputs": [
        {
          "output_type": "stream",
          "text": [
            "(8692, 5)\n"
          ],
          "name": "stdout"
        },
        {
          "output_type": "execute_result",
          "data": {
            "text/plain": [
              "UniqueID      0\n",
              "DateOfBite    0\n",
              "DogBreed      0\n",
              "Gender        0\n",
              "Borough       0\n",
              "dtype: int64"
            ]
          },
          "metadata": {
            "tags": []
          },
          "execution_count": 464
        }
      ]
    },
    {
      "cell_type": "code",
      "metadata": {
        "id": "NWqY6ien2V1g",
        "colab_type": "code",
        "outputId": "ba3597be-9f91-4c3d-bd28-d0f833bfc5f5",
        "colab": {
          "base_uri": "https://localhost:8080/",
          "height": 221
        }
      },
      "source": [
        "dfdogs = dfdogs[dfdogs['Borough'] != 'Other']\n",
        "print(dfdogs.shape)\n",
        "dfdogs.head()"
      ],
      "execution_count": 465,
      "outputs": [
        {
          "output_type": "stream",
          "text": [
            "(8355, 5)\n"
          ],
          "name": "stdout"
        },
        {
          "output_type": "execute_result",
          "data": {
            "text/html": [
              "<div>\n",
              "<style scoped>\n",
              "    .dataframe tbody tr th:only-of-type {\n",
              "        vertical-align: middle;\n",
              "    }\n",
              "\n",
              "    .dataframe tbody tr th {\n",
              "        vertical-align: top;\n",
              "    }\n",
              "\n",
              "    .dataframe thead th {\n",
              "        text-align: right;\n",
              "    }\n",
              "</style>\n",
              "<table border=\"1\" class=\"dataframe\">\n",
              "  <thead>\n",
              "    <tr style=\"text-align: right;\">\n",
              "      <th></th>\n",
              "      <th>UniqueID</th>\n",
              "      <th>DateOfBite</th>\n",
              "      <th>DogBreed</th>\n",
              "      <th>Gender</th>\n",
              "      <th>Borough</th>\n",
              "    </tr>\n",
              "  </thead>\n",
              "  <tbody>\n",
              "    <tr>\n",
              "      <th>0</th>\n",
              "      <td>1</td>\n",
              "      <td>January 02 2015</td>\n",
              "      <td>Poodle, Standard</td>\n",
              "      <td>M</td>\n",
              "      <td>Brooklyn</td>\n",
              "    </tr>\n",
              "    <tr>\n",
              "      <th>1</th>\n",
              "      <td>2</td>\n",
              "      <td>January 02 2015</td>\n",
              "      <td>HUSKY</td>\n",
              "      <td>U</td>\n",
              "      <td>Brooklyn</td>\n",
              "    </tr>\n",
              "    <tr>\n",
              "      <th>3</th>\n",
              "      <td>4</td>\n",
              "      <td>January 01 2015</td>\n",
              "      <td>American Pit Bull Terrier/Pit Bull</td>\n",
              "      <td>M</td>\n",
              "      <td>Brooklyn</td>\n",
              "    </tr>\n",
              "    <tr>\n",
              "      <th>4</th>\n",
              "      <td>5</td>\n",
              "      <td>January 03 2015</td>\n",
              "      <td>American Pit Bull Terrier/Pit Bull</td>\n",
              "      <td>M</td>\n",
              "      <td>Brooklyn</td>\n",
              "    </tr>\n",
              "    <tr>\n",
              "      <th>5</th>\n",
              "      <td>6</td>\n",
              "      <td>January 05 2015</td>\n",
              "      <td>American Pit Bull Terrier/Pit Bull</td>\n",
              "      <td>F</td>\n",
              "      <td>Brooklyn</td>\n",
              "    </tr>\n",
              "  </tbody>\n",
              "</table>\n",
              "</div>"
            ],
            "text/plain": [
              "   UniqueID       DateOfBite  ... Gender   Borough\n",
              "0         1  January 02 2015  ...      M  Brooklyn\n",
              "1         2  January 02 2015  ...      U  Brooklyn\n",
              "3         4  January 01 2015  ...      M  Brooklyn\n",
              "4         5  January 03 2015  ...      M  Brooklyn\n",
              "5         6  January 05 2015  ...      F  Brooklyn\n",
              "\n",
              "[5 rows x 5 columns]"
            ]
          },
          "metadata": {
            "tags": []
          },
          "execution_count": 465
        }
      ]
    },
    {
      "cell_type": "code",
      "metadata": {
        "id": "4_9Ozl8pBSKS",
        "colab_type": "code",
        "outputId": "59a184e2-a868-41ae-bd03-a5d04904fa49",
        "colab": {
          "base_uri": "https://localhost:8080/",
          "height": 173
        }
      },
      "source": [
        "dfdogs.describe(exclude = 'number')"
      ],
      "execution_count": 466,
      "outputs": [
        {
          "output_type": "execute_result",
          "data": {
            "text/html": [
              "<div>\n",
              "<style scoped>\n",
              "    .dataframe tbody tr th:only-of-type {\n",
              "        vertical-align: middle;\n",
              "    }\n",
              "\n",
              "    .dataframe tbody tr th {\n",
              "        vertical-align: top;\n",
              "    }\n",
              "\n",
              "    .dataframe thead th {\n",
              "        text-align: right;\n",
              "    }\n",
              "</style>\n",
              "<table border=\"1\" class=\"dataframe\">\n",
              "  <thead>\n",
              "    <tr style=\"text-align: right;\">\n",
              "      <th></th>\n",
              "      <th>DateOfBite</th>\n",
              "      <th>DogBreed</th>\n",
              "      <th>Gender</th>\n",
              "      <th>Borough</th>\n",
              "    </tr>\n",
              "  </thead>\n",
              "  <tbody>\n",
              "    <tr>\n",
              "      <th>count</th>\n",
              "      <td>8355</td>\n",
              "      <td>8355</td>\n",
              "      <td>8355</td>\n",
              "      <td>8355</td>\n",
              "    </tr>\n",
              "    <tr>\n",
              "      <th>unique</th>\n",
              "      <td>1095</td>\n",
              "      <td>993</td>\n",
              "      <td>3</td>\n",
              "      <td>5</td>\n",
              "    </tr>\n",
              "    <tr>\n",
              "      <th>top</th>\n",
              "      <td>June 06 2015</td>\n",
              "      <td>Pit Bull</td>\n",
              "      <td>M</td>\n",
              "      <td>Queens</td>\n",
              "    </tr>\n",
              "    <tr>\n",
              "      <th>freq</th>\n",
              "      <td>21</td>\n",
              "      <td>1886</td>\n",
              "      <td>3959</td>\n",
              "      <td>2189</td>\n",
              "    </tr>\n",
              "  </tbody>\n",
              "</table>\n",
              "</div>"
            ],
            "text/plain": [
              "          DateOfBite  DogBreed Gender Borough\n",
              "count           8355      8355   8355    8355\n",
              "unique          1095       993      3       5\n",
              "top     June 06 2015  Pit Bull      M  Queens\n",
              "freq              21      1886   3959    2189"
            ]
          },
          "metadata": {
            "tags": []
          },
          "execution_count": 466
        }
      ]
    },
    {
      "cell_type": "markdown",
      "metadata": {
        "id": "nO3-ng7R9JsX",
        "colab_type": "text"
      },
      "source": [
        "# **Cleaning \"Breed\" column**"
      ]
    },
    {
      "cell_type": "code",
      "metadata": {
        "id": "5es6HIAvCdIl",
        "colab_type": "code",
        "outputId": "9a152ece-4619-437e-8885-f126d2a30fc2",
        "colab": {
          "base_uri": "https://localhost:8080/",
          "height": 221
        }
      },
      "source": [
        "dfdogs['DogBreed'].value_counts().sort_values(ascending = False)"
      ],
      "execution_count": 467,
      "outputs": [
        {
          "output_type": "execute_result",
          "data": {
            "text/plain": [
              "Pit Bull                                1886\n",
              "American Pit Bull Terrier/Pit Bull       346\n",
              "Shih Tzu                                 344\n",
              "Chihuahua                                338\n",
              "American Pit Bull Mix / Pit Bull Mix     327\n",
              "                                        ... \n",
              "PIT BULL/GERMAN SHEPHARD                   1\n",
              "HAVANESE X                                 1\n",
              "BOSTEN TERRIER/ FRENCH BULL DOG            1\n",
              "PEKINGESE -X                               1\n",
              "JSCK RUSSEL/DALMATION                      1\n",
              "Name: DogBreed, Length: 993, dtype: int64"
            ]
          },
          "metadata": {
            "tags": []
          },
          "execution_count": 467
        }
      ]
    },
    {
      "cell_type": "code",
      "metadata": {
        "id": "fjBSFx0qB8my",
        "colab_type": "code",
        "colab": {}
      },
      "source": [
        "def fix_breed_label(breed):\n",
        "    if breed in ['American Pit Bull Terrier/Pit Bull', 'American Pit Bull Mix / Pit Bull Mix', 'PIT BULL MIX', 'BLUE NOSE PIT BULL', 'PITBULL']:\n",
        "      return 'Pit Bull'\n",
        "    elif breed in ['Siberian Husky', 'HUSKY -X', 'ALASKAN HUSKY MIX', 'ALASKA HUSKY', 'HUSKY']:\n",
        "      return 'Husky '\n",
        "    elif breed in ['Labrador Retriever Crossbreed', 'LABRADOR MIX']:\n",
        "      return 'Labrador Retriever'\n",
        "    elif breed in ['Bull dog', 'Bull Dog, English', 'Bull Dog, French', 'FRENCH BULL DOG', 'ENGLISH BULL DOG', 'BULLDOG MIX',\n",
        "                   'BULL DOG X', 'French Bulldog']:\n",
        "      return 'Bull Dog'\n",
        "    elif breed in ['Poodle, Standard', 'MINI POODLE X', 'SCHNAUZER POODLE MIX', 'Poodle, Miniature', 'POODLE MIX', 'Poodle, Toy', \n",
        "                   'Poodle Crossbreed']:\n",
        "      return 'Poodle'\n",
        "    elif breed in ['Chihuahua Crossbreed', 'CHIHUAHUA', 'CHIHUAHUA- X']:\n",
        "      return 'Chihuahua'\n",
        "    elif breed in ['Yorkshire Terrier', 'American Staffordshire Terrier', 'BEAVER TERRIERS', 'TERRIER MIX', 'TERRIER', \n",
        "                   'BOSTON BORDER TERRIER', 'Boston Terrier', 'BOSTON TERRIER MIX', 'MIXED TERRIER', 'Yorkshire Terrier Crossbreed', \n",
        "                   'Staffordshire Bull Terrier', 'Bull Terrier', 'West High White Terrier', 'Jack Russell Terrier', 'Terrier mix']:\n",
        "      return 'Terrier'\n",
        "    elif breed in ['SHEPHERD', 'Australian Shepherd', 'German Shepherd', 'German Shepherd Crossbreed', 'SHEPHERD X', \n",
        "                   'GERMAN SHEPERD POINT MIX', 'German Shepherd Dog']:\n",
        "      return 'Shepherd'\n",
        "    elif breed in ['SHIH TZU MIX', 'Shih Tzu Crossbreed']:\n",
        "      return 'Shih Tzu'\n",
        "    elif breed in ['Beagle Crossbreed', 'BEAGLE HOUND']:\n",
        "      return 'Beagle'\n",
        "    elif breed in ['MUTT']:\n",
        "      return 'Mutt'\n",
        "    elif breed in ['GOLDEN RETRIEVER']:\n",
        "      return 'Golden Retriever'\n",
        "    elif breed in ['MIXED', 'UNKNOWN', 'Mixed/Other', 'NOT SURE, RESCUE', 'MIXED BREED', 'Unknown']:\n",
        "      return 'Other' \n",
        "    else:\n",
        "      return breed"
      ],
      "execution_count": 0,
      "outputs": []
    },
    {
      "cell_type": "code",
      "metadata": {
        "id": "bhr_9MYJKTDy",
        "colab_type": "code",
        "outputId": "51afe3e6-57cb-42be-fead-9856b1ddfa1c",
        "colab": {
          "base_uri": "https://localhost:8080/",
          "height": 221
        }
      },
      "source": [
        "dfdogs['DogBreed'] = dfdogs['DogBreed'].apply(fix_breed_label)\n",
        "dfdogs['DogBreed'].value_counts().sort_values(ascending = False)"
      ],
      "execution_count": 469,
      "outputs": [
        {
          "output_type": "execute_result",
          "data": {
            "text/plain": [
              "Pit Bull            2597\n",
              "Terrier              537\n",
              "Other                492\n",
              "Chihuahua            383\n",
              "Shih Tzu             362\n",
              "                    ... \n",
              "BOXER/CATTLE           1\n",
              "CAVASHU                1\n",
              "AMERICAN TERRIER       1\n",
              "LHATESE                1\n",
              "PIT TERRIER MIX        1\n",
              "Name: DogBreed, Length: 943, dtype: int64"
            ]
          },
          "metadata": {
            "tags": []
          },
          "execution_count": 469
        }
      ]
    },
    {
      "cell_type": "code",
      "metadata": {
        "id": "C7C5RodgShCC",
        "colab_type": "code",
        "outputId": "b469acee-dbcc-4975-b910-a9923109e21a",
        "colab": {
          "base_uri": "https://localhost:8080/",
          "height": 221
        }
      },
      "source": [
        "counts = dfdogs['DogBreed'].value_counts()\n",
        "dfdogs = dfdogs[~dfdogs['DogBreed'].isin(counts[counts < 50].index)]\n",
        "\n",
        "print(dfdogs.shape)\n",
        "dfdogs.head()"
      ],
      "execution_count": 470,
      "outputs": [
        {
          "output_type": "stream",
          "text": [
            "(6329, 5)\n"
          ],
          "name": "stdout"
        },
        {
          "output_type": "execute_result",
          "data": {
            "text/html": [
              "<div>\n",
              "<style scoped>\n",
              "    .dataframe tbody tr th:only-of-type {\n",
              "        vertical-align: middle;\n",
              "    }\n",
              "\n",
              "    .dataframe tbody tr th {\n",
              "        vertical-align: top;\n",
              "    }\n",
              "\n",
              "    .dataframe thead th {\n",
              "        text-align: right;\n",
              "    }\n",
              "</style>\n",
              "<table border=\"1\" class=\"dataframe\">\n",
              "  <thead>\n",
              "    <tr style=\"text-align: right;\">\n",
              "      <th></th>\n",
              "      <th>UniqueID</th>\n",
              "      <th>DateOfBite</th>\n",
              "      <th>DogBreed</th>\n",
              "      <th>Gender</th>\n",
              "      <th>Borough</th>\n",
              "    </tr>\n",
              "  </thead>\n",
              "  <tbody>\n",
              "    <tr>\n",
              "      <th>0</th>\n",
              "      <td>1</td>\n",
              "      <td>January 02 2015</td>\n",
              "      <td>Poodle</td>\n",
              "      <td>M</td>\n",
              "      <td>Brooklyn</td>\n",
              "    </tr>\n",
              "    <tr>\n",
              "      <th>1</th>\n",
              "      <td>2</td>\n",
              "      <td>January 02 2015</td>\n",
              "      <td>Husky</td>\n",
              "      <td>U</td>\n",
              "      <td>Brooklyn</td>\n",
              "    </tr>\n",
              "    <tr>\n",
              "      <th>3</th>\n",
              "      <td>4</td>\n",
              "      <td>January 01 2015</td>\n",
              "      <td>Pit Bull</td>\n",
              "      <td>M</td>\n",
              "      <td>Brooklyn</td>\n",
              "    </tr>\n",
              "    <tr>\n",
              "      <th>4</th>\n",
              "      <td>5</td>\n",
              "      <td>January 03 2015</td>\n",
              "      <td>Pit Bull</td>\n",
              "      <td>M</td>\n",
              "      <td>Brooklyn</td>\n",
              "    </tr>\n",
              "    <tr>\n",
              "      <th>5</th>\n",
              "      <td>6</td>\n",
              "      <td>January 05 2015</td>\n",
              "      <td>Pit Bull</td>\n",
              "      <td>F</td>\n",
              "      <td>Brooklyn</td>\n",
              "    </tr>\n",
              "  </tbody>\n",
              "</table>\n",
              "</div>"
            ],
            "text/plain": [
              "   UniqueID       DateOfBite  DogBreed Gender   Borough\n",
              "0         1  January 02 2015    Poodle      M  Brooklyn\n",
              "1         2  January 02 2015    Husky       U  Brooklyn\n",
              "3         4  January 01 2015  Pit Bull      M  Brooklyn\n",
              "4         5  January 03 2015  Pit Bull      M  Brooklyn\n",
              "5         6  January 05 2015  Pit Bull      F  Brooklyn"
            ]
          },
          "metadata": {
            "tags": []
          },
          "execution_count": 470
        }
      ]
    },
    {
      "cell_type": "code",
      "metadata": {
        "id": "FafPv8xOOGZi",
        "colab_type": "code",
        "outputId": "1b69c3a2-36f5-4cbd-8818-3bc2e62a6072",
        "colab": {
          "base_uri": "https://localhost:8080/",
          "height": 357
        }
      },
      "source": [
        "dfdogs['DogBreed'].value_counts()"
      ],
      "execution_count": 471,
      "outputs": [
        {
          "output_type": "execute_result",
          "data": {
            "text/plain": [
              "Pit Bull              2597\n",
              "Terrier                537\n",
              "Other                  492\n",
              "Chihuahua              383\n",
              "Shih Tzu               362\n",
              "Shepherd               342\n",
              "Labrador Retriever     242\n",
              "Bull Dog               207\n",
              "Maltese                184\n",
              "Poodle                 180\n",
              "Rottweiler             152\n",
              "Husky                  134\n",
              "Jack Russ              109\n",
              "Beagle                  92\n",
              "Cocker Spaniel          91\n",
              "Boxer                   62\n",
              "Golden Retriever        59\n",
              "Pomeranian              54\n",
              "Shiba Inu               50\n",
              "Name: DogBreed, dtype: int64"
            ]
          },
          "metadata": {
            "tags": []
          },
          "execution_count": 471
        }
      ]
    },
    {
      "cell_type": "code",
      "metadata": {
        "id": "YEkZKBJRBQ86",
        "colab_type": "code",
        "colab": {
          "base_uri": "https://localhost:8080/",
          "height": 34
        },
        "outputId": "5916e995-8356-4776-de0b-9cdfa31798d4"
      },
      "source": [
        "dfdogs = dfdogs[dfdogs['DogBreed'] != 'Other']\n",
        "dfdogs.shape"
      ],
      "execution_count": 472,
      "outputs": [
        {
          "output_type": "execute_result",
          "data": {
            "text/plain": [
              "(5837, 5)"
            ]
          },
          "metadata": {
            "tags": []
          },
          "execution_count": 472
        }
      ]
    },
    {
      "cell_type": "code",
      "metadata": {
        "id": "eG1KarIuNkKs",
        "colab_type": "code",
        "outputId": "e94e4926-a8cf-42aa-9335-750e57501ced",
        "colab": {
          "base_uri": "https://localhost:8080/",
          "height": 713
        }
      },
      "source": [
        "plt.axes([0, 0, 1, 2])\n",
        "dfdogs['DogBreed'].value_counts().sort_values().plot('barh')\n",
        "\n",
        "plt.title(\"Dog Attacks in New York City, 2015-2017\", fontsize = 20, fontweight = 'bold')\n",
        "plt.xlabel('Number of Dogs')\n",
        "plt.ylabel('Breeds')\n",
        "\n",
        "plt.grid()"
      ],
      "execution_count": 473,
      "outputs": [
        {
          "output_type": "stream",
          "text": [
            "/usr/local/lib/python3.6/dist-packages/ipykernel_launcher.py:2: FutureWarning: `Series.plot()` should not be called with positional arguments, only keyword arguments. The order of positional arguments will change in the future. Use `Series.plot(kind='barh')` instead of `Series.plot('barh',)`.\n",
            "  \n"
          ],
          "name": "stderr"
        },
        {
          "output_type": "display_data",
          "data": {
            "image/png": "[encoded data removed]",
            "text/plain": [
              "<Figure size 432x288 with 1 Axes>"
            ]
          },
          "metadata": {
            "tags": []
          }
        }
      ]
    },
    {
      "cell_type": "markdown",
      "metadata": {
        "id": "PyKnD7hF964G",
        "colab_type": "text"
      },
      "source": [
        "# **Graphs by Year**"
      ]
    },
    {
      "cell_type": "code",
      "metadata": {
        "id": "UUy5-zWjWdez",
        "colab_type": "code",
        "outputId": "041332ea-9283-43fc-b978-38b04ecb693a",
        "colab": {
          "base_uri": "https://localhost:8080/",
          "height": 221
        }
      },
      "source": [
        "dfdogs['DateOfBite']"
      ],
      "execution_count": 474,
      "outputs": [
        {
          "output_type": "execute_result",
          "data": {
            "text/plain": [
              "0         January 02 2015\n",
              "1         January 02 2015\n",
              "3         January 01 2015\n",
              "4         January 03 2015\n",
              "5         January 05 2015\n",
              "               ...       \n",
              "10265    December 14 2017\n",
              "10267    December 15 2017\n",
              "10269    December 14 2017\n",
              "10271    December 17 2017\n",
              "10274    December 21 2017\n",
              "Name: DateOfBite, Length: 5837, dtype: object"
            ]
          },
          "metadata": {
            "tags": []
          },
          "execution_count": 474
        }
      ]
    },
    {
      "cell_type": "code",
      "metadata": {
        "id": "tedMSdsYds2c",
        "colab_type": "code",
        "outputId": "9d6c37d9-1fc2-4cf6-eb24-8ec6499748c7",
        "colab": {
          "base_uri": "https://localhost:8080/",
          "height": 34
        }
      },
      "source": [
        "df2015 = dfdogs[dfdogs['DateOfBite'].str.contains(\"2015\")]\n",
        "df2016 = dfdogs[dfdogs['DateOfBite'].str.contains(\"2016\")]\n",
        "df2017 = dfdogs[dfdogs['DateOfBite'].str.contains(\"2017\")]\n",
        "df2015.shape, df2016.shape, df2017.shape"
      ],
      "execution_count": 475,
      "outputs": [
        {
          "output_type": "execute_result",
          "data": {
            "text/plain": [
              "((2041, 5), (1832, 5), (1964, 5))"
            ]
          },
          "metadata": {
            "tags": []
          },
          "execution_count": 475
        }
      ]
    },
    {
      "cell_type": "code",
      "metadata": {
        "id": "43tNxoLBisyp",
        "colab_type": "code",
        "outputId": "a8ee8278-3db3-44f0-9850-7cc6f3bf9871",
        "colab": {
          "base_uri": "https://localhost:8080/",
          "height": 713
        }
      },
      "source": [
        "plt.axes([0, 0, 1, 2])\n",
        "df2016['DogBreed'].value_counts().sort_values().plot('barh')\n",
        "\n",
        "plt.title(\"Dog Attacks in New York City, 2016\", fontsize = 20, fontweight = 'bold')\n",
        "plt.xlabel('Number of Dogs')\n",
        "plt.ylabel('Breeds')\n",
        "\n",
        "plt.grid()"
      ],
      "execution_count": 476,
      "outputs": [
        {
          "output_type": "stream",
          "text": [
            "/usr/local/lib/python3.6/dist-packages/ipykernel_launcher.py:2: FutureWarning: `Series.plot()` should not be called with positional arguments, only keyword arguments. The order of positional arguments will change in the future. Use `Series.plot(kind='barh')` instead of `Series.plot('barh',)`.\n",
            "  \n"
          ],
          "name": "stderr"
        },
        {
          "output_type": "display_data",
          "data": {
            "image/png": "[encoded data removed]",
            "text/plain": [
              "<Figure size 432x288 with 1 Axes>"
            ]
          },
          "metadata": {
            "tags": []
          }
        }
      ]
    },
    {
      "cell_type": "code",
      "metadata": {
        "id": "R6ImKReCiyYw",
        "colab_type": "code",
        "outputId": "b76ad1b2-de82-4500-99eb-c0880c247363",
        "colab": {
          "base_uri": "https://localhost:8080/",
          "height": 713
        }
      },
      "source": [
        "plt.axes([0, 0, 1, 2])\n",
        "df2017['DogBreed'].value_counts().sort_values().plot('barh')\n",
        "\n",
        "plt.title(\"Dog Attacks in New York City, 2017\", fontsize = 20, fontweight = 'bold')\n",
        "plt.xlabel('Number of Dogs')\n",
        "plt.ylabel('Breeds')\n",
        "\n",
        "plt.grid()"
      ],
      "execution_count": 477,
      "outputs": [
        {
          "output_type": "stream",
          "text": [
            "/usr/local/lib/python3.6/dist-packages/ipykernel_launcher.py:2: FutureWarning: `Series.plot()` should not be called with positional arguments, only keyword arguments. The order of positional arguments will change in the future. Use `Series.plot(kind='barh')` instead of `Series.plot('barh',)`.\n",
            "  \n"
          ],
          "name": "stderr"
        },
        {
          "output_type": "display_data",
          "data": {
            "image/png": "[encoded data removed]",
            "text/plain": [
              "<Figure size 432x288 with 1 Axes>"
            ]
          },
          "metadata": {
            "tags": []
          }
        }
      ]
    },
    {
      "cell_type": "code",
      "metadata": {
        "id": "DgelPNuMgRsN",
        "colab_type": "code",
        "outputId": "9a221c99-ec45-41e6-84b7-eed520e453c9",
        "colab": {
          "base_uri": "https://localhost:8080/",
          "height": 102
        }
      },
      "source": [
        "dfdogs['DogBreed'].describe()"
      ],
      "execution_count": 478,
      "outputs": [
        {
          "output_type": "execute_result",
          "data": {
            "text/plain": [
              "count         5837\n",
              "unique          18\n",
              "top       Pit Bull\n",
              "freq          2597\n",
              "Name: DogBreed, dtype: object"
            ]
          },
          "metadata": {
            "tags": []
          },
          "execution_count": 478
        }
      ]
    },
    {
      "cell_type": "markdown",
      "metadata": {
        "id": "VmzBMu1Z-Cvt",
        "colab_type": "text"
      },
      "source": [
        "# **Boroughs**"
      ]
    },
    {
      "cell_type": "code",
      "metadata": {
        "id": "r_aV0cxVExJi",
        "colab_type": "code",
        "outputId": "c2ed8304-b0b8-4620-f9be-a1265439ff45",
        "colab": {
          "base_uri": "https://localhost:8080/",
          "height": 119
        }
      },
      "source": [
        "dfdogs['Borough'].value_counts()"
      ],
      "execution_count": 479,
      "outputs": [
        {
          "output_type": "execute_result",
          "data": {
            "text/plain": [
              "Queens           1461\n",
              "Brooklyn         1331\n",
              "Bronx            1229\n",
              "Manhattan        1195\n",
              "Staten Island     621\n",
              "Name: Borough, dtype: int64"
            ]
          },
          "metadata": {
            "tags": []
          },
          "execution_count": 479
        }
      ]
    },
    {
      "cell_type": "code",
      "metadata": {
        "id": "Ux1bMzHgCQ93",
        "colab_type": "code",
        "outputId": "5b58687a-9ce5-42cb-ccec-7e6730756100",
        "colab": {
          "base_uri": "https://localhost:8080/",
          "height": 119
        }
      },
      "source": [
        "df2015['Borough'].value_counts()"
      ],
      "execution_count": 480,
      "outputs": [
        {
          "output_type": "execute_result",
          "data": {
            "text/plain": [
              "Queens           530\n",
              "Brooklyn         467\n",
              "Manhattan        422\n",
              "Bronx            409\n",
              "Staten Island    213\n",
              "Name: Borough, dtype: int64"
            ]
          },
          "metadata": {
            "tags": []
          },
          "execution_count": 480
        }
      ]
    },
    {
      "cell_type": "code",
      "metadata": {
        "id": "D3hWIe-LCLmf",
        "colab_type": "code",
        "outputId": "c3b86677-b589-4ddc-a903-f4dd9c3eee43",
        "colab": {
          "base_uri": "https://localhost:8080/",
          "height": 119
        }
      },
      "source": [
        "df2016['Borough'].value_counts()"
      ],
      "execution_count": 481,
      "outputs": [
        {
          "output_type": "execute_result",
          "data": {
            "text/plain": [
              "Queens           473\n",
              "Brooklyn         424\n",
              "Bronx            386\n",
              "Manhattan        348\n",
              "Staten Island    201\n",
              "Name: Borough, dtype: int64"
            ]
          },
          "metadata": {
            "tags": []
          },
          "execution_count": 481
        }
      ]
    },
    {
      "cell_type": "code",
      "metadata": {
        "id": "gD7vvjt9-O4p",
        "colab_type": "code",
        "outputId": "2d323fa7-5aec-426d-d18a-674e1da0705b",
        "colab": {
          "base_uri": "https://localhost:8080/",
          "height": 119
        }
      },
      "source": [
        "df2017['Borough'].value_counts()"
      ],
      "execution_count": 482,
      "outputs": [
        {
          "output_type": "execute_result",
          "data": {
            "text/plain": [
              "Queens           458\n",
              "Brooklyn         440\n",
              "Bronx            434\n",
              "Manhattan        425\n",
              "Staten Island    207\n",
              "Name: Borough, dtype: int64"
            ]
          },
          "metadata": {
            "tags": []
          },
          "execution_count": 482
        }
      ]
    },
    {
      "cell_type": "code",
      "metadata": {
        "id": "6kPPnQfNGje2",
        "colab_type": "code",
        "outputId": "eca71003-caf5-4bee-a481-2fea9e4d4980",
        "colab": {
          "base_uri": "https://localhost:8080/",
          "height": 340
        }
      },
      "source": [
        "df2015['Year'] = '2015'\n",
        "df2016['Year'] = '2016'\n",
        "df2017['Year'] = '2017'\n",
        "df2015.shape, df2016.shape, df2017.shape"
      ],
      "execution_count": 483,
      "outputs": [
        {
          "output_type": "stream",
          "text": [
            "/usr/local/lib/python3.6/dist-packages/ipykernel_launcher.py:1: SettingWithCopyWarning: \n",
            "A value is trying to be set on a copy of a slice from a DataFrame.\n",
            "Try using .loc[row_indexer,col_indexer] = value instead\n",
            "\n",
            "See the caveats in the documentation: http://pandas.pydata.org/pandas-docs/stable/user_guide/indexing.html#returning-a-view-versus-a-copy\n",
            "  \"\"\"Entry point for launching an IPython kernel.\n",
            "/usr/local/lib/python3.6/dist-packages/ipykernel_launcher.py:2: SettingWithCopyWarning: \n",
            "A value is trying to be set on a copy of a slice from a DataFrame.\n",
            "Try using .loc[row_indexer,col_indexer] = value instead\n",
            "\n",
            "See the caveats in the documentation: http://pandas.pydata.org/pandas-docs/stable/user_guide/indexing.html#returning-a-view-versus-a-copy\n",
            "  \n",
            "/usr/local/lib/python3.6/dist-packages/ipykernel_launcher.py:3: SettingWithCopyWarning: \n",
            "A value is trying to be set on a copy of a slice from a DataFrame.\n",
            "Try using .loc[row_indexer,col_indexer] = value instead\n",
            "\n",
            "See the caveats in the documentation: http://pandas.pydata.org/pandas-docs/stable/user_guide/indexing.html#returning-a-view-versus-a-copy\n",
            "  This is separate from the ipykernel package so we can avoid doing imports until\n"
          ],
          "name": "stderr"
        },
        {
          "output_type": "execute_result",
          "data": {
            "text/plain": [
              "((2041, 6), (1832, 6), (1964, 6))"
            ]
          },
          "metadata": {
            "tags": []
          },
          "execution_count": 483
        }
      ]
    },
    {
      "cell_type": "code",
      "metadata": {
        "id": "xYwMb5KKIGSN",
        "colab_type": "code",
        "outputId": "f7b32e16-07b9-4e0f-a84d-8ee2f0d2f7e1",
        "colab": {
          "base_uri": "https://localhost:8080/",
          "height": 190
        }
      },
      "source": [
        "dfdogs = pd.concat([df2015, df2016, df2017])\n",
        "print(dfdogs.shape)\n",
        "pd.crosstab(dfdogs['Year'], dfdogs['Borough'])"
      ],
      "execution_count": 484,
      "outputs": [
        {
          "output_type": "stream",
          "text": [
            "(5837, 6)\n"
          ],
          "name": "stdout"
        },
        {
          "output_type": "execute_result",
          "data": {
            "text/html": [
              "<div>\n",
              "<style scoped>\n",
              "    .dataframe tbody tr th:only-of-type {\n",
              "        vertical-align: middle;\n",
              "    }\n",
              "\n",
              "    .dataframe tbody tr th {\n",
              "        vertical-align: top;\n",
              "    }\n",
              "\n",
              "    .dataframe thead th {\n",
              "        text-align: right;\n",
              "    }\n",
              "</style>\n",
              "<table border=\"1\" class=\"dataframe\">\n",
              "  <thead>\n",
              "    <tr style=\"text-align: right;\">\n",
              "      <th>Borough</th>\n",
              "      <th>Bronx</th>\n",
              "      <th>Brooklyn</th>\n",
              "      <th>Manhattan</th>\n",
              "      <th>Queens</th>\n",
              "      <th>Staten Island</th>\n",
              "    </tr>\n",
              "    <tr>\n",
              "      <th>Year</th>\n",
              "      <th></th>\n",
              "      <th></th>\n",
              "      <th></th>\n",
              "      <th></th>\n",
              "      <th></th>\n",
              "    </tr>\n",
              "  </thead>\n",
              "  <tbody>\n",
              "    <tr>\n",
              "      <th>2015</th>\n",
              "      <td>409</td>\n",
              "      <td>467</td>\n",
              "      <td>422</td>\n",
              "      <td>530</td>\n",
              "      <td>213</td>\n",
              "    </tr>\n",
              "    <tr>\n",
              "      <th>2016</th>\n",
              "      <td>386</td>\n",
              "      <td>424</td>\n",
              "      <td>348</td>\n",
              "      <td>473</td>\n",
              "      <td>201</td>\n",
              "    </tr>\n",
              "    <tr>\n",
              "      <th>2017</th>\n",
              "      <td>434</td>\n",
              "      <td>440</td>\n",
              "      <td>425</td>\n",
              "      <td>458</td>\n",
              "      <td>207</td>\n",
              "    </tr>\n",
              "  </tbody>\n",
              "</table>\n",
              "</div>"
            ],
            "text/plain": [
              "Borough  Bronx  Brooklyn  Manhattan  Queens  Staten Island\n",
              "Year                                                      \n",
              "2015       409       467        422     530            213\n",
              "2016       386       424        348     473            201\n",
              "2017       434       440        425     458            207"
            ]
          },
          "metadata": {
            "tags": []
          },
          "execution_count": 484
        }
      ]
    },
    {
      "cell_type": "code",
      "metadata": {
        "id": "PImSA22YRmXx",
        "colab_type": "code",
        "outputId": "aac0af2d-90f0-4c30-85fe-7e33dbe42aab",
        "colab": {
          "base_uri": "https://localhost:8080/",
          "height": 300
        }
      },
      "source": [
        "crosstab = pd.crosstab(dfdogs['Year'], dfdogs['Borough'])\n",
        "crosstab.plot(kind = 'bar')\n",
        "\n",
        "plt.title(\"Attacks in Each Borough\", fontsize = 20, fontweight = 'bold')\n",
        "plt.xlabel('Year')\n",
        "plt.xticks(rotation = 'horizontal')\n",
        "plt.ylabel('Number of Attacks')\n",
        "\n",
        "plt.grid()"
      ],
      "execution_count": 485,
      "outputs": [
        {
          "output_type": "display_data",
          "data": {
            "image/png": "[encoded data removed]",
            "text/plain": [
              "<Figure size 432x288 with 1 Axes>"
            ]
          },
          "metadata": {
            "tags": []
          }
        }
      ]
    },
    {
      "cell_type": "markdown",
      "metadata": {
        "id": "yle86osT4MdL",
        "colab_type": "text"
      },
      "source": [
        "# **Dog Registration**"
      ]
    },
    {
      "cell_type": "code",
      "metadata": {
        "id": "ixMYbC-g2M5M",
        "colab_type": "code",
        "outputId": "00a4b27d-0268-4beb-a812-1077066cb3cc",
        "colab": {
          "base_uri": "https://localhost:8080/",
          "height": 221
        }
      },
      "source": [
        "df = pd.read_csv('/content/drive/My Drive/Lambda/Unit 1/NYC_Dog_Licensing_Dataset.csv')\n",
        "print(df.shape)\n",
        "df.head()"
      ],
      "execution_count": 486,
      "outputs": [
        {
          "output_type": "stream",
          "text": [
            "(345727, 10)\n"
          ],
          "name": "stdout"
        },
        {
          "output_type": "execute_result",
          "data": {
            "text/html": [
              "<div>\n",
              "<style scoped>\n",
              "    .dataframe tbody tr th:only-of-type {\n",
              "        vertical-align: middle;\n",
              "    }\n",
              "\n",
              "    .dataframe tbody tr th {\n",
              "        vertical-align: top;\n",
              "    }\n",
              "\n",
              "    .dataframe thead th {\n",
              "        text-align: right;\n",
              "    }\n",
              "</style>\n",
              "<table border=\"1\" class=\"dataframe\">\n",
              "  <thead>\n",
              "    <tr style=\"text-align: right;\">\n",
              "      <th></th>\n",
              "      <th>RowNumber</th>\n",
              "      <th>AnimalName</th>\n",
              "      <th>AnimalGender</th>\n",
              "      <th>AnimalBirthMonth</th>\n",
              "      <th>BreedName</th>\n",
              "      <th>Borough</th>\n",
              "      <th>ZipCode</th>\n",
              "      <th>LicenseIssuedDate</th>\n",
              "      <th>LicenseExpiredDate</th>\n",
              "      <th>Extract Year</th>\n",
              "    </tr>\n",
              "  </thead>\n",
              "  <tbody>\n",
              "    <tr>\n",
              "      <th>0</th>\n",
              "      <td>1</td>\n",
              "      <td>PAIGE</td>\n",
              "      <td>F</td>\n",
              "      <td>2014</td>\n",
              "      <td>American Pit Bull Mix / Pit Bull Mix</td>\n",
              "      <td>NaN</td>\n",
              "      <td>10035</td>\n",
              "      <td>09/12/2014</td>\n",
              "      <td>09/12/2017</td>\n",
              "      <td>2016</td>\n",
              "    </tr>\n",
              "    <tr>\n",
              "      <th>1</th>\n",
              "      <td>2</td>\n",
              "      <td>YOGI</td>\n",
              "      <td>M</td>\n",
              "      <td>2010</td>\n",
              "      <td>Boxer</td>\n",
              "      <td>NaN</td>\n",
              "      <td>10465</td>\n",
              "      <td>09/12/2014</td>\n",
              "      <td>10/02/2017</td>\n",
              "      <td>2016</td>\n",
              "    </tr>\n",
              "    <tr>\n",
              "      <th>2</th>\n",
              "      <td>3</td>\n",
              "      <td>ALI</td>\n",
              "      <td>M</td>\n",
              "      <td>2014</td>\n",
              "      <td>Basenji</td>\n",
              "      <td>NaN</td>\n",
              "      <td>10013</td>\n",
              "      <td>09/12/2014</td>\n",
              "      <td>09/12/2019</td>\n",
              "      <td>2016</td>\n",
              "    </tr>\n",
              "    <tr>\n",
              "      <th>3</th>\n",
              "      <td>4</td>\n",
              "      <td>QUEEN</td>\n",
              "      <td>F</td>\n",
              "      <td>2013</td>\n",
              "      <td>Akita Crossbreed</td>\n",
              "      <td>NaN</td>\n",
              "      <td>10013</td>\n",
              "      <td>09/12/2014</td>\n",
              "      <td>09/12/2017</td>\n",
              "      <td>2016</td>\n",
              "    </tr>\n",
              "    <tr>\n",
              "      <th>4</th>\n",
              "      <td>5</td>\n",
              "      <td>LOLA</td>\n",
              "      <td>F</td>\n",
              "      <td>2009</td>\n",
              "      <td>Maltese</td>\n",
              "      <td>NaN</td>\n",
              "      <td>10028</td>\n",
              "      <td>09/12/2014</td>\n",
              "      <td>10/09/2017</td>\n",
              "      <td>2016</td>\n",
              "    </tr>\n",
              "  </tbody>\n",
              "</table>\n",
              "</div>"
            ],
            "text/plain": [
              "   RowNumber AnimalName  ... LicenseExpiredDate  Extract Year\n",
              "0          1      PAIGE  ...         09/12/2017          2016\n",
              "1          2       YOGI  ...         10/02/2017          2016\n",
              "2          3        ALI  ...         09/12/2019          2016\n",
              "3          4      QUEEN  ...         09/12/2017          2016\n",
              "4          5       LOLA  ...         10/09/2017          2016\n",
              "\n",
              "[5 rows x 10 columns]"
            ]
          },
          "metadata": {
            "tags": []
          },
          "execution_count": 486
        }
      ]
    },
    {
      "cell_type": "code",
      "metadata": {
        "id": "ZA8kOgPN4Upk",
        "colab_type": "code",
        "outputId": "9f9f0932-10ba-4404-b1c6-f7e49086640c",
        "colab": {
          "base_uri": "https://localhost:8080/",
          "height": 204
        }
      },
      "source": [
        "df.isnull().sum()"
      ],
      "execution_count": 487,
      "outputs": [
        {
          "output_type": "execute_result",
          "data": {
            "text/plain": [
              "RowNumber                  0\n",
              "AnimalName               706\n",
              "AnimalGender              18\n",
              "AnimalBirthMonth           0\n",
              "BreedName                  0\n",
              "Borough               345727\n",
              "ZipCode                    0\n",
              "LicenseIssuedDate          0\n",
              "LicenseExpiredDate         0\n",
              "Extract Year               0\n",
              "dtype: int64"
            ]
          },
          "metadata": {
            "tags": []
          },
          "execution_count": 487
        }
      ]
    },
    {
      "cell_type": "code",
      "metadata": {
        "id": "kQMKC1np4xf6",
        "colab_type": "code",
        "outputId": "c084d701-dedc-44e6-d12a-c576f9336ce7",
        "colab": {
          "base_uri": "https://localhost:8080/",
          "height": 297
        }
      },
      "source": [
        "df.describe()"
      ],
      "execution_count": 488,
      "outputs": [
        {
          "output_type": "execute_result",
          "data": {
            "text/html": [
              "<div>\n",
              "<style scoped>\n",
              "    .dataframe tbody tr th:only-of-type {\n",
              "        vertical-align: middle;\n",
              "    }\n",
              "\n",
              "    .dataframe tbody tr th {\n",
              "        vertical-align: top;\n",
              "    }\n",
              "\n",
              "    .dataframe thead th {\n",
              "        text-align: right;\n",
              "    }\n",
              "</style>\n",
              "<table border=\"1\" class=\"dataframe\">\n",
              "  <thead>\n",
              "    <tr style=\"text-align: right;\">\n",
              "      <th></th>\n",
              "      <th>RowNumber</th>\n",
              "      <th>AnimalBirthMonth</th>\n",
              "      <th>Borough</th>\n",
              "      <th>ZipCode</th>\n",
              "      <th>Extract Year</th>\n",
              "    </tr>\n",
              "  </thead>\n",
              "  <tbody>\n",
              "    <tr>\n",
              "      <th>count</th>\n",
              "      <td>345727.000000</td>\n",
              "      <td>345727.000000</td>\n",
              "      <td>0.0</td>\n",
              "      <td>345727.000000</td>\n",
              "      <td>345727.000000</td>\n",
              "    </tr>\n",
              "    <tr>\n",
              "      <th>mean</th>\n",
              "      <td>57637.653550</td>\n",
              "      <td>2011.278532</td>\n",
              "      <td>NaN</td>\n",
              "      <td>10694.652327</td>\n",
              "      <td>2017.013456</td>\n",
              "    </tr>\n",
              "    <tr>\n",
              "      <th>std</th>\n",
              "      <td>33295.226899</td>\n",
              "      <td>14.781626</td>\n",
              "      <td>NaN</td>\n",
              "      <td>1218.220439</td>\n",
              "      <td>0.815687</td>\n",
              "    </tr>\n",
              "    <tr>\n",
              "      <th>min</th>\n",
              "      <td>1.000000</td>\n",
              "      <td>1.000000</td>\n",
              "      <td>NaN</td>\n",
              "      <td>121.000000</td>\n",
              "      <td>2016.000000</td>\n",
              "    </tr>\n",
              "    <tr>\n",
              "      <th>25%</th>\n",
              "      <td>28811.000000</td>\n",
              "      <td>2008.000000</td>\n",
              "      <td>NaN</td>\n",
              "      <td>10029.000000</td>\n",
              "      <td>2016.000000</td>\n",
              "    </tr>\n",
              "    <tr>\n",
              "      <th>50%</th>\n",
              "      <td>57622.000000</td>\n",
              "      <td>2012.000000</td>\n",
              "      <td>NaN</td>\n",
              "      <td>10466.000000</td>\n",
              "      <td>2017.000000</td>\n",
              "    </tr>\n",
              "    <tr>\n",
              "      <th>75%</th>\n",
              "      <td>86432.000000</td>\n",
              "      <td>2015.000000</td>\n",
              "      <td>NaN</td>\n",
              "      <td>11226.000000</td>\n",
              "      <td>2018.000000</td>\n",
              "    </tr>\n",
              "    <tr>\n",
              "      <th>max</th>\n",
              "      <td>117371.000000</td>\n",
              "      <td>2018.000000</td>\n",
              "      <td>NaN</td>\n",
              "      <td>99508.000000</td>\n",
              "      <td>2018.000000</td>\n",
              "    </tr>\n",
              "  </tbody>\n",
              "</table>\n",
              "</div>"
            ],
            "text/plain": [
              "           RowNumber  AnimalBirthMonth  Borough        ZipCode   Extract Year\n",
              "count  345727.000000     345727.000000      0.0  345727.000000  345727.000000\n",
              "mean    57637.653550       2011.278532      NaN   10694.652327    2017.013456\n",
              "std     33295.226899         14.781626      NaN    1218.220439       0.815687\n",
              "min         1.000000          1.000000      NaN     121.000000    2016.000000\n",
              "25%     28811.000000       2008.000000      NaN   10029.000000    2016.000000\n",
              "50%     57622.000000       2012.000000      NaN   10466.000000    2017.000000\n",
              "75%     86432.000000       2015.000000      NaN   11226.000000    2018.000000\n",
              "max    117371.000000       2018.000000      NaN   99508.000000    2018.000000"
            ]
          },
          "metadata": {
            "tags": []
          },
          "execution_count": 488
        }
      ]
    },
    {
      "cell_type": "code",
      "metadata": {
        "id": "RHDzIUfw423e",
        "colab_type": "code",
        "outputId": "c22223ec-7540-417d-a4ae-1e30d3ae484d",
        "colab": {
          "base_uri": "https://localhost:8080/",
          "height": 173
        }
      },
      "source": [
        "df.describe(exclude = 'number')"
      ],
      "execution_count": 489,
      "outputs": [
        {
          "output_type": "execute_result",
          "data": {
            "text/html": [
              "<div>\n",
              "<style scoped>\n",
              "    .dataframe tbody tr th:only-of-type {\n",
              "        vertical-align: middle;\n",
              "    }\n",
              "\n",
              "    .dataframe tbody tr th {\n",
              "        vertical-align: top;\n",
              "    }\n",
              "\n",
              "    .dataframe thead th {\n",
              "        text-align: right;\n",
              "    }\n",
              "</style>\n",
              "<table border=\"1\" class=\"dataframe\">\n",
              "  <thead>\n",
              "    <tr style=\"text-align: right;\">\n",
              "      <th></th>\n",
              "      <th>AnimalName</th>\n",
              "      <th>AnimalGender</th>\n",
              "      <th>BreedName</th>\n",
              "      <th>LicenseIssuedDate</th>\n",
              "      <th>LicenseExpiredDate</th>\n",
              "    </tr>\n",
              "  </thead>\n",
              "  <tbody>\n",
              "    <tr>\n",
              "      <th>count</th>\n",
              "      <td>345021</td>\n",
              "      <td>345709</td>\n",
              "      <td>345727</td>\n",
              "      <td>345727</td>\n",
              "      <td>345727</td>\n",
              "    </tr>\n",
              "    <tr>\n",
              "      <th>unique</th>\n",
              "      <td>22261</td>\n",
              "      <td>2</td>\n",
              "      <td>319</td>\n",
              "      <td>1571</td>\n",
              "      <td>2987</td>\n",
              "    </tr>\n",
              "    <tr>\n",
              "      <th>top</th>\n",
              "      <td>UNKNOWN</td>\n",
              "      <td>M</td>\n",
              "      <td>Unknown</td>\n",
              "      <td>09/13/2017</td>\n",
              "      <td>07/30/2017</td>\n",
              "    </tr>\n",
              "    <tr>\n",
              "      <th>freq</th>\n",
              "      <td>5379</td>\n",
              "      <td>189161</td>\n",
              "      <td>38785</td>\n",
              "      <td>844</td>\n",
              "      <td>1567</td>\n",
              "    </tr>\n",
              "  </tbody>\n",
              "</table>\n",
              "</div>"
            ],
            "text/plain": [
              "       AnimalName AnimalGender BreedName LicenseIssuedDate LicenseExpiredDate\n",
              "count      345021       345709    345727            345727             345727\n",
              "unique      22261            2       319              1571               2987\n",
              "top       UNKNOWN            M   Unknown        09/13/2017         07/30/2017\n",
              "freq         5379       189161     38785               844               1567"
            ]
          },
          "metadata": {
            "tags": []
          },
          "execution_count": 489
        }
      ]
    },
    {
      "cell_type": "markdown",
      "metadata": {
        "id": "SxU4xjaVPgZA",
        "colab_type": "text"
      },
      "source": [
        "# **Cleaning**"
      ]
    },
    {
      "cell_type": "code",
      "metadata": {
        "id": "f7C5KgEF4__g",
        "colab_type": "code",
        "outputId": "823155c2-930c-4e3a-df5e-8afa338db95b",
        "colab": {
          "base_uri": "https://localhost:8080/",
          "height": 34
        }
      },
      "source": [
        "df = df.drop(columns = ['AnimalBirthMonth', 'Borough', 'LicenseIssuedDate', \n",
        "                        'LicenseExpiredDate', 'ZipCode'])\n",
        "df.shape"
      ],
      "execution_count": 490,
      "outputs": [
        {
          "output_type": "execute_result",
          "data": {
            "text/plain": [
              "(345727, 5)"
            ]
          },
          "metadata": {
            "tags": []
          },
          "execution_count": 490
        }
      ]
    },
    {
      "cell_type": "code",
      "metadata": {
        "id": "mxGAUidk6IVR",
        "colab_type": "code",
        "outputId": "79b5b56e-97c9-4ac2-ce40-bb671e4874ae",
        "colab": {
          "base_uri": "https://localhost:8080/",
          "height": 136
        }
      },
      "source": [
        "df = df.rename(columns = {'BreedName': 'DogBreed'})\n",
        "df = df.dropna(subset = ['DogBreed', 'AnimalName', 'AnimalGender'])\n",
        "print(df.shape)\n",
        "df.isnull().sum()"
      ],
      "execution_count": 491,
      "outputs": [
        {
          "output_type": "stream",
          "text": [
            "(345003, 5)\n"
          ],
          "name": "stdout"
        },
        {
          "output_type": "execute_result",
          "data": {
            "text/plain": [
              "RowNumber       0\n",
              "AnimalName      0\n",
              "AnimalGender    0\n",
              "DogBreed        0\n",
              "Extract Year    0\n",
              "dtype: int64"
            ]
          },
          "metadata": {
            "tags": []
          },
          "execution_count": 491
        }
      ]
    },
    {
      "cell_type": "code",
      "metadata": {
        "id": "H_0aR5nM-45G",
        "colab_type": "code",
        "colab": {
          "base_uri": "https://localhost:8080/",
          "height": 221
        },
        "outputId": "8b0cbb7d-83ae-4f1b-c4cd-78e988d0f66d"
      },
      "source": [
        "df['DogBreed'].value_counts()"
      ],
      "execution_count": 492,
      "outputs": [
        {
          "output_type": "execute_result",
          "data": {
            "text/plain": [
              "Unknown                38782\n",
              "Yorkshire Terrier      21819\n",
              "Shih Tzu               19592\n",
              "Chihuahua              15625\n",
              "Maltese                11361\n",
              "                       ...  \n",
              "Tosa                       1\n",
              "Azawakh                    1\n",
              "Portuguese Sheepdog        1\n",
              "Karelian Bear Dog          1\n",
              "Stabyhoun                  1\n",
              "Name: DogBreed, Length: 319, dtype: int64"
            ]
          },
          "metadata": {
            "tags": []
          },
          "execution_count": 492
        }
      ]
    },
    {
      "cell_type": "code",
      "metadata": {
        "id": "zsk8gd_R9RQc",
        "colab_type": "code",
        "colab": {
          "base_uri": "https://localhost:8080/",
          "height": 221
        },
        "outputId": "c9717374-c284-414b-ab84-b3584c11cecc"
      },
      "source": [
        "df['DogBreed'] = df['DogBreed'].apply(fix_breed_label)\n",
        "df['DogBreed'].value_counts()"
      ],
      "execution_count": 493,
      "outputs": [
        {
          "output_type": "execute_result",
          "data": {
            "text/plain": [
              "Terrier                41837\n",
              "Other                  38782\n",
              "Shih Tzu               24595\n",
              "Chihuahua              20309\n",
              "Labrador Retriever     19833\n",
              "                       ...  \n",
              "Stabyhoun                  1\n",
              "Azawakh                    1\n",
              "Tosa                       1\n",
              "Portuguese Sheepdog        1\n",
              "Karelian Bear Dog          1\n",
              "Name: DogBreed, Length: 298, dtype: int64"
            ]
          },
          "metadata": {
            "tags": []
          },
          "execution_count": 493
        }
      ]
    },
    {
      "cell_type": "code",
      "metadata": {
        "id": "JniSuMKB9-Mg",
        "colab_type": "code",
        "colab": {
          "base_uri": "https://localhost:8080/",
          "height": 221
        },
        "outputId": "c4c1f15f-137f-4666-b80f-109294ba7a4c"
      },
      "source": [
        "df = df[df['DogBreed'] != 'Other']\n",
        "counts = df['DogBreed'].value_counts()\n",
        "df = df[~df['DogBreed'].isin(counts[counts < 4000].index)]\n",
        "\n",
        "print(df.shape)\n",
        "df.head()"
      ],
      "execution_count": 494,
      "outputs": [
        {
          "output_type": "stream",
          "text": [
            "(207730, 5)\n"
          ],
          "name": "stdout"
        },
        {
          "output_type": "execute_result",
          "data": {
            "text/html": [
              "<div>\n",
              "<style scoped>\n",
              "    .dataframe tbody tr th:only-of-type {\n",
              "        vertical-align: middle;\n",
              "    }\n",
              "\n",
              "    .dataframe tbody tr th {\n",
              "        vertical-align: top;\n",
              "    }\n",
              "\n",
              "    .dataframe thead th {\n",
              "        text-align: right;\n",
              "    }\n",
              "</style>\n",
              "<table border=\"1\" class=\"dataframe\">\n",
              "  <thead>\n",
              "    <tr style=\"text-align: right;\">\n",
              "      <th></th>\n",
              "      <th>RowNumber</th>\n",
              "      <th>AnimalName</th>\n",
              "      <th>AnimalGender</th>\n",
              "      <th>DogBreed</th>\n",
              "      <th>Extract Year</th>\n",
              "    </tr>\n",
              "  </thead>\n",
              "  <tbody>\n",
              "    <tr>\n",
              "      <th>0</th>\n",
              "      <td>1</td>\n",
              "      <td>PAIGE</td>\n",
              "      <td>F</td>\n",
              "      <td>Pit Bull</td>\n",
              "      <td>2016</td>\n",
              "    </tr>\n",
              "    <tr>\n",
              "      <th>4</th>\n",
              "      <td>5</td>\n",
              "      <td>LOLA</td>\n",
              "      <td>F</td>\n",
              "      <td>Maltese</td>\n",
              "      <td>2016</td>\n",
              "    </tr>\n",
              "    <tr>\n",
              "      <th>7</th>\n",
              "      <td>8</td>\n",
              "      <td>CHEWBACCA</td>\n",
              "      <td>F</td>\n",
              "      <td>Labrador Retriever</td>\n",
              "      <td>2016</td>\n",
              "    </tr>\n",
              "    <tr>\n",
              "      <th>9</th>\n",
              "      <td>10</td>\n",
              "      <td>MASSIMO</td>\n",
              "      <td>M</td>\n",
              "      <td>Bull Dog</td>\n",
              "      <td>2016</td>\n",
              "    </tr>\n",
              "    <tr>\n",
              "      <th>11</th>\n",
              "      <td>12</td>\n",
              "      <td>LEMMY</td>\n",
              "      <td>F</td>\n",
              "      <td>Terrier</td>\n",
              "      <td>2016</td>\n",
              "    </tr>\n",
              "  </tbody>\n",
              "</table>\n",
              "</div>"
            ],
            "text/plain": [
              "    RowNumber AnimalName AnimalGender            DogBreed  Extract Year\n",
              "0           1      PAIGE            F            Pit Bull          2016\n",
              "4           5       LOLA            F             Maltese          2016\n",
              "7           8  CHEWBACCA            F  Labrador Retriever          2016\n",
              "9          10    MASSIMO            M            Bull Dog          2016\n",
              "11         12      LEMMY            F             Terrier          2016"
            ]
          },
          "metadata": {
            "tags": []
          },
          "execution_count": 494
        }
      ]
    },
    {
      "cell_type": "code",
      "metadata": {
        "id": "I7_ZMdMw-fLF",
        "colab_type": "code",
        "colab": {
          "base_uri": "https://localhost:8080/",
          "height": 289
        },
        "outputId": "5c43a9e1-6f66-4b68-ba4a-8beb93999329"
      },
      "source": [
        "df['DogBreed'].value_counts()"
      ],
      "execution_count": 495,
      "outputs": [
        {
          "output_type": "execute_result",
          "data": {
            "text/plain": [
              "Terrier               41837\n",
              "Shih Tzu              24595\n",
              "Chihuahua             20309\n",
              "Labrador Retriever    19833\n",
              "Pit Bull              18623\n",
              "Poodle                15498\n",
              "Shepherd              12098\n",
              "Maltese               11361\n",
              "Bull Dog               8874\n",
              "Beagle                 8768\n",
              "Pomeranian             6322\n",
              "Havanese               5898\n",
              "Golden Retriever       5176\n",
              "Cocker Spaniel         4342\n",
              "Shiba Inu              4196\n",
              "Name: DogBreed, dtype: int64"
            ]
          },
          "metadata": {
            "tags": []
          },
          "execution_count": 495
        }
      ]
    },
    {
      "cell_type": "markdown",
      "metadata": {
        "id": "uS2bSolZPncN",
        "colab_type": "text"
      },
      "source": [
        "# **Graphing**"
      ]
    },
    {
      "cell_type": "code",
      "metadata": {
        "id": "fXFQ0ZrVC77z",
        "colab_type": "code",
        "colab": {
          "base_uri": "https://localhost:8080/",
          "height": 713
        },
        "outputId": "0d61422b-a944-4eaf-84be-9153084f0dd0"
      },
      "source": [
        "plt.axes([0, 0, 1, 2])\n",
        "df['DogBreed'].value_counts().sort_values().plot('barh')\n",
        "\n",
        "plt.title(\"Top 15 Registed Dog Breeds,\", fontsize = 20, fontweight = 'bold')\n",
        "plt.xlabel('Number of Dogs')\n",
        "plt.ylabel('Breeds')\n",
        "\n",
        "plt.grid()"
      ],
      "execution_count": 496,
      "outputs": [
        {
          "output_type": "stream",
          "text": [
            "/usr/local/lib/python3.6/dist-packages/ipykernel_launcher.py:2: FutureWarning: `Series.plot()` should not be called with positional arguments, only keyword arguments. The order of positional arguments will change in the future. Use `Series.plot(kind='barh')` instead of `Series.plot('barh',)`.\n",
            "  \n"
          ],
          "name": "stderr"
        },
        {
          "output_type": "display_data",
          "data": {
            "image/png": "[encoded data removed]",
            "text/plain": [
              "<Figure size 432x288 with 1 Axes>"
            ]
          },
          "metadata": {
            "tags": []
          }
        }
      ]
    },
    {
      "cell_type": "code",
      "metadata": {
        "id": "J790tr0VP7Qe",
        "colab_type": "code",
        "colab": {
          "base_uri": "https://localhost:8080/",
          "height": 34
        },
        "outputId": "d6c85007-6eb3-45ea-f31e-c20dd1b20efc"
      },
      "source": [
        "df_2016 = df[df['Extract Year'] == 2016]\n",
        "df_2017 = df[df['Extract Year'] == 2017]\n",
        "df_2018 = df[df['Extract Year'] == 2018]\n",
        "df_2016.shape, df_2017.shape, df_2018.shape"
      ],
      "execution_count": 497,
      "outputs": [
        {
          "output_type": "execute_result",
          "data": {
            "text/plain": [
              "((67538, 5), (70238, 5), (69954, 5))"
            ]
          },
          "metadata": {
            "tags": []
          },
          "execution_count": 497
        }
      ]
    },
    {
      "cell_type": "code",
      "metadata": {
        "id": "uzCbKn41RDwU",
        "colab_type": "code",
        "colab": {
          "base_uri": "https://localhost:8080/",
          "height": 713
        },
        "outputId": "9963fb54-7c58-46f5-c582-7d2e0a62fc3c"
      },
      "source": [
        "plt.axes([0, 0, 1, 2])\n",
        "df_2016['DogBreed'].value_counts().sort_values().plot('barh')\n",
        "\n",
        "plt.title(\"Top Registed Dog Breeds, 2016,\", fontsize = 20, fontweight = 'bold')\n",
        "plt.xlabel('Number of Dogs')\n",
        "plt.ylabel('Breeds')\n",
        "\n",
        "plt.grid()"
      ],
      "execution_count": 498,
      "outputs": [
        {
          "output_type": "stream",
          "text": [
            "/usr/local/lib/python3.6/dist-packages/ipykernel_launcher.py:2: FutureWarning: `Series.plot()` should not be called with positional arguments, only keyword arguments. The order of positional arguments will change in the future. Use `Series.plot(kind='barh')` instead of `Series.plot('barh',)`.\n",
            "  \n"
          ],
          "name": "stderr"
        },
        {
          "output_type": "display_data",
          "data": {
            "image/png": "[encoded data removed]",
            "text/plain": [
              "<Figure size 432x288 with 1 Axes>"
            ]
          },
          "metadata": {
            "tags": []
          }
        }
      ]
    },
    {
      "cell_type": "code",
      "metadata": {
        "id": "4DlUhF9LRWZt",
        "colab_type": "code",
        "colab": {
          "base_uri": "https://localhost:8080/",
          "height": 713
        },
        "outputId": "09fdbc18-bd27-4a72-8feb-ab3415a7e20e"
      },
      "source": [
        "plt.axes([0, 0, 1, 2])\n",
        "df_2017['DogBreed'].value_counts().sort_values().plot('barh')\n",
        "\n",
        "plt.title(\"Top Registed Dog Breeds, 2017,\", fontsize = 20, fontweight = 'bold')\n",
        "plt.xlabel('Number of Dogs')\n",
        "plt.ylabel('Breeds')\n",
        "\n",
        "plt.grid()"
      ],
      "execution_count": 499,
      "outputs": [
        {
          "output_type": "stream",
          "text": [
            "/usr/local/lib/python3.6/dist-packages/ipykernel_launcher.py:2: FutureWarning: `Series.plot()` should not be called with positional arguments, only keyword arguments. The order of positional arguments will change in the future. Use `Series.plot(kind='barh')` instead of `Series.plot('barh',)`.\n",
            "  \n"
          ],
          "name": "stderr"
        },
        {
          "output_type": "display_data",
          "data": {
            "image/png": "[encoded data removed]",
            "text/plain": [
              "<Figure size 432x288 with 1 Axes>"
            ]
          },
          "metadata": {
            "tags": []
          }
        }
      ]
    }
  ]
}