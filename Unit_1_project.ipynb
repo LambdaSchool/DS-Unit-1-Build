{
  "nbformat": 4,
  "nbformat_minor": 0,
  "metadata": {
    "colab": {
      "name": "Unit 1 project",
      "provenance": [],
      "collapsed_sections": [],
      "include_colab_link": true
    },
    "kernelspec": {
      "name": "python3",
      "display_name": "Python 3"
    }
  },
  "cells": [
    {
      "cell_type": "markdown",
      "metadata": {
        "id": "view-in-github",
        "colab_type": "text"
      },
      "source": [
        "<a href=\"https://colab.research.google.com/github/KhaSab5292/DS-Unit-1-Build/blob/master/Unit_1_project.ipynb\" target=\"_parent\"><img src=\"https://colab.research.google.com/assets/colab-badge.svg\" alt=\"Open In Colab\"/></a>"
      ]
    },
    {
      "cell_type": "code",
      "metadata": {
        "id": "ng63oKnJI-uT",
        "colab_type": "code",
        "colab": {}
      },
      "source": [
        "import pandas as pd\n",
        "import numpy as np\n",
        "import matplotlib.pyplot as plt"
      ],
      "execution_count": 0,
      "outputs": []
    },
    {
      "cell_type": "code",
      "metadata": {
        "id": "ooGSBbLZIhBF",
        "colab_type": "code",
        "outputId": "df8692ae-5a5c-44a7-fe34-8a610828c5e0",
        "colab": {
          "base_uri": "https://localhost:8080/",
          "height": 221
        }
      },
      "source": [
        "dfdogs = pd.read_csv('DOHMH_Dog_Bite_Data.csv')\n",
        "print(dfdogs.shape)\n",
        "dfdogs.head()"
      ],
      "execution_count": 2,
      "outputs": [
        {
          "output_type": "stream",
          "text": [
            "(10280, 9)\n"
          ],
          "name": "stdout"
        },
        {
          "output_type": "execute_result",
          "data": {
            "text/html": [
              "<div>\n",
              "<style scoped>\n",
              "    .dataframe tbody tr th:only-of-type {\n",
              "        vertical-align: middle;\n",
              "    }\n",
              "\n",
              "    .dataframe tbody tr th {\n",
              "        vertical-align: top;\n",
              "    }\n",
              "\n",
              "    .dataframe thead th {\n",
              "        text-align: right;\n",
              "    }\n",
              "</style>\n",
              "<table border=\"1\" class=\"dataframe\">\n",
              "  <thead>\n",
              "    <tr style=\"text-align: right;\">\n",
              "      <th></th>\n",
              "      <th>UniqueID</th>\n",
              "      <th>DateOfBite</th>\n",
              "      <th>Species</th>\n",
              "      <th>Breed</th>\n",
              "      <th>Age</th>\n",
              "      <th>Gender</th>\n",
              "      <th>SpayNeuter</th>\n",
              "      <th>Borough</th>\n",
              "      <th>ZipCode</th>\n",
              "    </tr>\n",
              "  </thead>\n",
              "  <tbody>\n",
              "    <tr>\n",
              "      <th>0</th>\n",
              "      <td>1</td>\n",
              "      <td>January 02 2015</td>\n",
              "      <td>DOG</td>\n",
              "      <td>Poodle, Standard</td>\n",
              "      <td>3</td>\n",
              "      <td>M</td>\n",
              "      <td>True</td>\n",
              "      <td>Brooklyn</td>\n",
              "      <td>11238</td>\n",
              "    </tr>\n",
              "    <tr>\n",
              "      <th>1</th>\n",
              "      <td>2</td>\n",
              "      <td>January 02 2015</td>\n",
              "      <td>DOG</td>\n",
              "      <td>HUSKY</td>\n",
              "      <td>NaN</td>\n",
              "      <td>U</td>\n",
              "      <td>False</td>\n",
              "      <td>Brooklyn</td>\n",
              "      <td>11249</td>\n",
              "    </tr>\n",
              "    <tr>\n",
              "      <th>2</th>\n",
              "      <td>3</td>\n",
              "      <td>January 02 2015</td>\n",
              "      <td>DOG</td>\n",
              "      <td>NaN</td>\n",
              "      <td>NaN</td>\n",
              "      <td>U</td>\n",
              "      <td>False</td>\n",
              "      <td>Brooklyn</td>\n",
              "      <td>NaN</td>\n",
              "    </tr>\n",
              "    <tr>\n",
              "      <th>3</th>\n",
              "      <td>4</td>\n",
              "      <td>January 01 2015</td>\n",
              "      <td>DOG</td>\n",
              "      <td>American Pit Bull Terrier/Pit Bull</td>\n",
              "      <td>6</td>\n",
              "      <td>M</td>\n",
              "      <td>False</td>\n",
              "      <td>Brooklyn</td>\n",
              "      <td>11221</td>\n",
              "    </tr>\n",
              "    <tr>\n",
              "      <th>4</th>\n",
              "      <td>5</td>\n",
              "      <td>January 03 2015</td>\n",
              "      <td>DOG</td>\n",
              "      <td>American Pit Bull Terrier/Pit Bull</td>\n",
              "      <td>1</td>\n",
              "      <td>M</td>\n",
              "      <td>False</td>\n",
              "      <td>Brooklyn</td>\n",
              "      <td>11207</td>\n",
              "    </tr>\n",
              "  </tbody>\n",
              "</table>\n",
              "</div>"
            ],
            "text/plain": [
              "   UniqueID       DateOfBite Species  ... SpayNeuter   Borough ZipCode\n",
              "0         1  January 02 2015     DOG  ...       True  Brooklyn   11238\n",
              "1         2  January 02 2015     DOG  ...      False  Brooklyn   11249\n",
              "2         3  January 02 2015     DOG  ...      False  Brooklyn     NaN\n",
              "3         4  January 01 2015     DOG  ...      False  Brooklyn   11221\n",
              "4         5  January 03 2015     DOG  ...      False  Brooklyn   11207\n",
              "\n",
              "[5 rows x 9 columns]"
            ]
          },
          "metadata": {
            "tags": []
          },
          "execution_count": 2
        }
      ]
    },
    {
      "cell_type": "code",
      "metadata": {
        "id": "K3oN3tixHZe5",
        "colab_type": "code",
        "outputId": "4954532c-3b0c-4046-9df5-9145ac8e384a",
        "colab": {
          "base_uri": "https://localhost:8080/",
          "height": 187
        }
      },
      "source": [
        "dfdogs.isnull().sum()"
      ],
      "execution_count": 3,
      "outputs": [
        {
          "output_type": "execute_result",
          "data": {
            "text/plain": [
              "UniqueID         0\n",
              "DateOfBite       0\n",
              "Species          0\n",
              "Breed         1588\n",
              "Age           4746\n",
              "Gender           0\n",
              "SpayNeuter       0\n",
              "Borough          0\n",
              "ZipCode       2667\n",
              "dtype: int64"
            ]
          },
          "metadata": {
            "tags": []
          },
          "execution_count": 3
        }
      ]
    },
    {
      "cell_type": "code",
      "metadata": {
        "id": "puVfyuWdMoZ6",
        "colab_type": "code",
        "outputId": "1d4d5eaa-0581-4ea3-a6bd-9bf0242a78a4",
        "colab": {
          "base_uri": "https://localhost:8080/",
          "height": 187
        }
      },
      "source": [
        "dfdogs.dtypes"
      ],
      "execution_count": 4,
      "outputs": [
        {
          "output_type": "execute_result",
          "data": {
            "text/plain": [
              "UniqueID       int64\n",
              "DateOfBite    object\n",
              "Species       object\n",
              "Breed         object\n",
              "Age           object\n",
              "Gender        object\n",
              "SpayNeuter      bool\n",
              "Borough       object\n",
              "ZipCode       object\n",
              "dtype: object"
            ]
          },
          "metadata": {
            "tags": []
          },
          "execution_count": 4
        }
      ]
    },
    {
      "cell_type": "code",
      "metadata": {
        "id": "kvtITjwfHrUg",
        "colab_type": "code",
        "outputId": "9f87d7a0-85a3-42ec-f816-0780e144bc7d",
        "colab": {
          "base_uri": "https://localhost:8080/",
          "height": 297
        }
      },
      "source": [
        "dfdogs.describe()"
      ],
      "execution_count": 5,
      "outputs": [
        {
          "output_type": "execute_result",
          "data": {
            "text/html": [
              "<div>\n",
              "<style scoped>\n",
              "    .dataframe tbody tr th:only-of-type {\n",
              "        vertical-align: middle;\n",
              "    }\n",
              "\n",
              "    .dataframe tbody tr th {\n",
              "        vertical-align: top;\n",
              "    }\n",
              "\n",
              "    .dataframe thead th {\n",
              "        text-align: right;\n",
              "    }\n",
              "</style>\n",
              "<table border=\"1\" class=\"dataframe\">\n",
              "  <thead>\n",
              "    <tr style=\"text-align: right;\">\n",
              "      <th></th>\n",
              "      <th>UniqueID</th>\n",
              "    </tr>\n",
              "  </thead>\n",
              "  <tbody>\n",
              "    <tr>\n",
              "      <th>count</th>\n",
              "      <td>10280.000000</td>\n",
              "    </tr>\n",
              "    <tr>\n",
              "      <th>mean</th>\n",
              "      <td>5140.500000</td>\n",
              "    </tr>\n",
              "    <tr>\n",
              "      <th>std</th>\n",
              "      <td>2967.724718</td>\n",
              "    </tr>\n",
              "    <tr>\n",
              "      <th>min</th>\n",
              "      <td>1.000000</td>\n",
              "    </tr>\n",
              "    <tr>\n",
              "      <th>25%</th>\n",
              "      <td>2570.750000</td>\n",
              "    </tr>\n",
              "    <tr>\n",
              "      <th>50%</th>\n",
              "      <td>5140.500000</td>\n",
              "    </tr>\n",
              "    <tr>\n",
              "      <th>75%</th>\n",
              "      <td>7710.250000</td>\n",
              "    </tr>\n",
              "    <tr>\n",
              "      <th>max</th>\n",
              "      <td>10280.000000</td>\n",
              "    </tr>\n",
              "  </tbody>\n",
              "</table>\n",
              "</div>"
            ],
            "text/plain": [
              "           UniqueID\n",
              "count  10280.000000\n",
              "mean    5140.500000\n",
              "std     2967.724718\n",
              "min        1.000000\n",
              "25%     2570.750000\n",
              "50%     5140.500000\n",
              "75%     7710.250000\n",
              "max    10280.000000"
            ]
          },
          "metadata": {
            "tags": []
          },
          "execution_count": 5
        }
      ]
    },
    {
      "cell_type": "code",
      "metadata": {
        "id": "8fDEN2QIHvhJ",
        "colab_type": "code",
        "outputId": "e1d7f4ff-0e10-4796-98b7-89606b96a689",
        "colab": {
          "base_uri": "https://localhost:8080/",
          "height": 173
        }
      },
      "source": [
        "dfdogs.describe(exclude = 'number')"
      ],
      "execution_count": 6,
      "outputs": [
        {
          "output_type": "execute_result",
          "data": {
            "text/html": [
              "<div>\n",
              "<style scoped>\n",
              "    .dataframe tbody tr th:only-of-type {\n",
              "        vertical-align: middle;\n",
              "    }\n",
              "\n",
              "    .dataframe tbody tr th {\n",
              "        vertical-align: top;\n",
              "    }\n",
              "\n",
              "    .dataframe thead th {\n",
              "        text-align: right;\n",
              "    }\n",
              "</style>\n",
              "<table border=\"1\" class=\"dataframe\">\n",
              "  <thead>\n",
              "    <tr style=\"text-align: right;\">\n",
              "      <th></th>\n",
              "      <th>DateOfBite</th>\n",
              "      <th>Species</th>\n",
              "      <th>Breed</th>\n",
              "      <th>Age</th>\n",
              "      <th>Gender</th>\n",
              "      <th>SpayNeuter</th>\n",
              "      <th>Borough</th>\n",
              "      <th>ZipCode</th>\n",
              "    </tr>\n",
              "  </thead>\n",
              "  <tbody>\n",
              "    <tr>\n",
              "      <th>count</th>\n",
              "      <td>10280</td>\n",
              "      <td>10280</td>\n",
              "      <td>8692</td>\n",
              "      <td>5534</td>\n",
              "      <td>10280</td>\n",
              "      <td>10280</td>\n",
              "      <td>10280</td>\n",
              "      <td>7613</td>\n",
              "    </tr>\n",
              "    <tr>\n",
              "      <th>unique</th>\n",
              "      <td>1096</td>\n",
              "      <td>1</td>\n",
              "      <td>1032</td>\n",
              "      <td>153</td>\n",
              "      <td>3</td>\n",
              "      <td>2</td>\n",
              "      <td>6</td>\n",
              "      <td>349</td>\n",
              "    </tr>\n",
              "    <tr>\n",
              "      <th>top</th>\n",
              "      <td>September 16 2017</td>\n",
              "      <td>DOG</td>\n",
              "      <td>Pit Bull</td>\n",
              "      <td>2</td>\n",
              "      <td>U</td>\n",
              "      <td>False</td>\n",
              "      <td>Queens</td>\n",
              "      <td>10029</td>\n",
              "    </tr>\n",
              "    <tr>\n",
              "      <th>freq</th>\n",
              "      <td>25</td>\n",
              "      <td>10280</td>\n",
              "      <td>1921</td>\n",
              "      <td>835</td>\n",
              "      <td>4448</td>\n",
              "      <td>7289</td>\n",
              "      <td>2520</td>\n",
              "      <td>166</td>\n",
              "    </tr>\n",
              "  </tbody>\n",
              "</table>\n",
              "</div>"
            ],
            "text/plain": [
              "               DateOfBite Species     Breed  ... SpayNeuter Borough ZipCode\n",
              "count               10280   10280      8692  ...      10280   10280    7613\n",
              "unique               1096       1      1032  ...          2       6     349\n",
              "top     September 16 2017     DOG  Pit Bull  ...      False  Queens   10029\n",
              "freq                   25   10280      1921  ...       7289    2520     166\n",
              "\n",
              "[4 rows x 8 columns]"
            ]
          },
          "metadata": {
            "tags": []
          },
          "execution_count": 6
        }
      ]
    },
    {
      "cell_type": "code",
      "metadata": {
        "id": "3Jksm5or0LlQ",
        "colab_type": "code",
        "outputId": "95ed3657-5894-4188-c1ff-9d8fc64dad1c",
        "colab": {
          "base_uri": "https://localhost:8080/",
          "height": 85
        }
      },
      "source": [
        "dfdogs['Gender'].value_counts()"
      ],
      "execution_count": 7,
      "outputs": [
        {
          "output_type": "execute_result",
          "data": {
            "text/plain": [
              "U    4448\n",
              "M    4203\n",
              "F    1629\n",
              "Name: Gender, dtype: int64"
            ]
          },
          "metadata": {
            "tags": []
          },
          "execution_count": 7
        }
      ]
    },
    {
      "cell_type": "code",
      "metadata": {
        "id": "S9K7_PFY1JxV",
        "colab_type": "code",
        "outputId": "d80f088e-5833-4cf6-ac61-3df7f42678b1",
        "colab": {
          "base_uri": "https://localhost:8080/",
          "height": 136
        }
      },
      "source": [
        "dfdogs['Borough'].value_counts()"
      ],
      "execution_count": 8,
      "outputs": [
        {
          "output_type": "execute_result",
          "data": {
            "text/plain": [
              "Queens           2520\n",
              "Manhattan        2354\n",
              "Brooklyn         2281\n",
              "Bronx            1757\n",
              "Staten Island     931\n",
              "Other             437\n",
              "Name: Borough, dtype: int64"
            ]
          },
          "metadata": {
            "tags": []
          },
          "execution_count": 8
        }
      ]
    },
    {
      "cell_type": "code",
      "metadata": {
        "id": "T3qhLTCKKm77",
        "colab_type": "code",
        "outputId": "fe9c98bc-919a-456f-e28c-3a990093c7b8",
        "colab": {
          "base_uri": "https://localhost:8080/",
          "height": 221
        }
      },
      "source": [
        "dfdogs = dfdogs.drop(columns = ['Species', 'Age', 'Gender', 'SpayNeuter', 'ZipCode'])\n",
        "print(dfdogs.shape)\n",
        "dfdogs.head()"
      ],
      "execution_count": 9,
      "outputs": [
        {
          "output_type": "stream",
          "text": [
            "(10280, 4)\n"
          ],
          "name": "stdout"
        },
        {
          "output_type": "execute_result",
          "data": {
            "text/html": [
              "<div>\n",
              "<style scoped>\n",
              "    .dataframe tbody tr th:only-of-type {\n",
              "        vertical-align: middle;\n",
              "    }\n",
              "\n",
              "    .dataframe tbody tr th {\n",
              "        vertical-align: top;\n",
              "    }\n",
              "\n",
              "    .dataframe thead th {\n",
              "        text-align: right;\n",
              "    }\n",
              "</style>\n",
              "<table border=\"1\" class=\"dataframe\">\n",
              "  <thead>\n",
              "    <tr style=\"text-align: right;\">\n",
              "      <th></th>\n",
              "      <th>UniqueID</th>\n",
              "      <th>DateOfBite</th>\n",
              "      <th>Breed</th>\n",
              "      <th>Borough</th>\n",
              "    </tr>\n",
              "  </thead>\n",
              "  <tbody>\n",
              "    <tr>\n",
              "      <th>0</th>\n",
              "      <td>1</td>\n",
              "      <td>January 02 2015</td>\n",
              "      <td>Poodle, Standard</td>\n",
              "      <td>Brooklyn</td>\n",
              "    </tr>\n",
              "    <tr>\n",
              "      <th>1</th>\n",
              "      <td>2</td>\n",
              "      <td>January 02 2015</td>\n",
              "      <td>HUSKY</td>\n",
              "      <td>Brooklyn</td>\n",
              "    </tr>\n",
              "    <tr>\n",
              "      <th>2</th>\n",
              "      <td>3</td>\n",
              "      <td>January 02 2015</td>\n",
              "      <td>NaN</td>\n",
              "      <td>Brooklyn</td>\n",
              "    </tr>\n",
              "    <tr>\n",
              "      <th>3</th>\n",
              "      <td>4</td>\n",
              "      <td>January 01 2015</td>\n",
              "      <td>American Pit Bull Terrier/Pit Bull</td>\n",
              "      <td>Brooklyn</td>\n",
              "    </tr>\n",
              "    <tr>\n",
              "      <th>4</th>\n",
              "      <td>5</td>\n",
              "      <td>January 03 2015</td>\n",
              "      <td>American Pit Bull Terrier/Pit Bull</td>\n",
              "      <td>Brooklyn</td>\n",
              "    </tr>\n",
              "  </tbody>\n",
              "</table>\n",
              "</div>"
            ],
            "text/plain": [
              "   UniqueID       DateOfBite                               Breed   Borough\n",
              "0         1  January 02 2015                    Poodle, Standard  Brooklyn\n",
              "1         2  January 02 2015                               HUSKY  Brooklyn\n",
              "2         3  January 02 2015                                 NaN  Brooklyn\n",
              "3         4  January 01 2015  American Pit Bull Terrier/Pit Bull  Brooklyn\n",
              "4         5  January 03 2015  American Pit Bull Terrier/Pit Bull  Brooklyn"
            ]
          },
          "metadata": {
            "tags": []
          },
          "execution_count": 9
        }
      ]
    },
    {
      "cell_type": "code",
      "metadata": {
        "id": "FH13mk2Y3XUY",
        "colab_type": "code",
        "outputId": "3cc85614-f503-4b92-ee23-f9a1332985e4",
        "colab": {
          "base_uri": "https://localhost:8080/",
          "height": 102
        }
      },
      "source": [
        "dfdogs = dfdogs.rename(columns = {'Breed': 'DogBreed'})\n",
        "dfdogs.isnull().sum()"
      ],
      "execution_count": 10,
      "outputs": [
        {
          "output_type": "execute_result",
          "data": {
            "text/plain": [
              "UniqueID         0\n",
              "DateOfBite       0\n",
              "DogBreed      1588\n",
              "Borough          0\n",
              "dtype: int64"
            ]
          },
          "metadata": {
            "tags": []
          },
          "execution_count": 10
        }
      ]
    },
    {
      "cell_type": "code",
      "metadata": {
        "id": "9vhhMQPg3JQp",
        "colab_type": "code",
        "outputId": "f9d9bf51-d8e0-420e-87e5-6f359eb01340",
        "colab": {
          "base_uri": "https://localhost:8080/",
          "height": 102
        }
      },
      "source": [
        "dfdogs = dfdogs.dropna(subset = ['DogBreed'])\n",
        "dfdogs.isnull().sum()"
      ],
      "execution_count": 11,
      "outputs": [
        {
          "output_type": "execute_result",
          "data": {
            "text/plain": [
              "UniqueID      0\n",
              "DateOfBite    0\n",
              "DogBreed      0\n",
              "Borough       0\n",
              "dtype: int64"
            ]
          },
          "metadata": {
            "tags": []
          },
          "execution_count": 11
        }
      ]
    },
    {
      "cell_type": "code",
      "metadata": {
        "id": "NWqY6ien2V1g",
        "colab_type": "code",
        "outputId": "e792733f-b53d-44ca-cae0-b1f47ebfbfd2",
        "colab": {
          "base_uri": "https://localhost:8080/",
          "height": 221
        }
      },
      "source": [
        "print(dfdogs.shape)\n",
        "dfdogs.head()"
      ],
      "execution_count": 12,
      "outputs": [
        {
          "output_type": "stream",
          "text": [
            "(8692, 4)\n"
          ],
          "name": "stdout"
        },
        {
          "output_type": "execute_result",
          "data": {
            "text/html": [
              "<div>\n",
              "<style scoped>\n",
              "    .dataframe tbody tr th:only-of-type {\n",
              "        vertical-align: middle;\n",
              "    }\n",
              "\n",
              "    .dataframe tbody tr th {\n",
              "        vertical-align: top;\n",
              "    }\n",
              "\n",
              "    .dataframe thead th {\n",
              "        text-align: right;\n",
              "    }\n",
              "</style>\n",
              "<table border=\"1\" class=\"dataframe\">\n",
              "  <thead>\n",
              "    <tr style=\"text-align: right;\">\n",
              "      <th></th>\n",
              "      <th>UniqueID</th>\n",
              "      <th>DateOfBite</th>\n",
              "      <th>DogBreed</th>\n",
              "      <th>Borough</th>\n",
              "    </tr>\n",
              "  </thead>\n",
              "  <tbody>\n",
              "    <tr>\n",
              "      <th>0</th>\n",
              "      <td>1</td>\n",
              "      <td>January 02 2015</td>\n",
              "      <td>Poodle, Standard</td>\n",
              "      <td>Brooklyn</td>\n",
              "    </tr>\n",
              "    <tr>\n",
              "      <th>1</th>\n",
              "      <td>2</td>\n",
              "      <td>January 02 2015</td>\n",
              "      <td>HUSKY</td>\n",
              "      <td>Brooklyn</td>\n",
              "    </tr>\n",
              "    <tr>\n",
              "      <th>3</th>\n",
              "      <td>4</td>\n",
              "      <td>January 01 2015</td>\n",
              "      <td>American Pit Bull Terrier/Pit Bull</td>\n",
              "      <td>Brooklyn</td>\n",
              "    </tr>\n",
              "    <tr>\n",
              "      <th>4</th>\n",
              "      <td>5</td>\n",
              "      <td>January 03 2015</td>\n",
              "      <td>American Pit Bull Terrier/Pit Bull</td>\n",
              "      <td>Brooklyn</td>\n",
              "    </tr>\n",
              "    <tr>\n",
              "      <th>5</th>\n",
              "      <td>6</td>\n",
              "      <td>January 05 2015</td>\n",
              "      <td>American Pit Bull Terrier/Pit Bull</td>\n",
              "      <td>Brooklyn</td>\n",
              "    </tr>\n",
              "  </tbody>\n",
              "</table>\n",
              "</div>"
            ],
            "text/plain": [
              "   UniqueID       DateOfBite                            DogBreed   Borough\n",
              "0         1  January 02 2015                    Poodle, Standard  Brooklyn\n",
              "1         2  January 02 2015                               HUSKY  Brooklyn\n",
              "3         4  January 01 2015  American Pit Bull Terrier/Pit Bull  Brooklyn\n",
              "4         5  January 03 2015  American Pit Bull Terrier/Pit Bull  Brooklyn\n",
              "5         6  January 05 2015  American Pit Bull Terrier/Pit Bull  Brooklyn"
            ]
          },
          "metadata": {
            "tags": []
          },
          "execution_count": 12
        }
      ]
    },
    {
      "cell_type": "code",
      "metadata": {
        "id": "4_9Ozl8pBSKS",
        "colab_type": "code",
        "outputId": "59e267ef-da37-49eb-9043-6153c8285ef9",
        "colab": {
          "base_uri": "https://localhost:8080/",
          "height": 173
        }
      },
      "source": [
        "dfdogs.describe(exclude = 'number')"
      ],
      "execution_count": 13,
      "outputs": [
        {
          "output_type": "execute_result",
          "data": {
            "text/html": [
              "<div>\n",
              "<style scoped>\n",
              "    .dataframe tbody tr th:only-of-type {\n",
              "        vertical-align: middle;\n",
              "    }\n",
              "\n",
              "    .dataframe tbody tr th {\n",
              "        vertical-align: top;\n",
              "    }\n",
              "\n",
              "    .dataframe thead th {\n",
              "        text-align: right;\n",
              "    }\n",
              "</style>\n",
              "<table border=\"1\" class=\"dataframe\">\n",
              "  <thead>\n",
              "    <tr style=\"text-align: right;\">\n",
              "      <th></th>\n",
              "      <th>DateOfBite</th>\n",
              "      <th>DogBreed</th>\n",
              "      <th>Borough</th>\n",
              "    </tr>\n",
              "  </thead>\n",
              "  <tbody>\n",
              "    <tr>\n",
              "      <th>count</th>\n",
              "      <td>8692</td>\n",
              "      <td>8692</td>\n",
              "      <td>8692</td>\n",
              "    </tr>\n",
              "    <tr>\n",
              "      <th>unique</th>\n",
              "      <td>1096</td>\n",
              "      <td>1032</td>\n",
              "      <td>6</td>\n",
              "    </tr>\n",
              "    <tr>\n",
              "      <th>top</th>\n",
              "      <td>June 06 2015</td>\n",
              "      <td>Pit Bull</td>\n",
              "      <td>Queens</td>\n",
              "    </tr>\n",
              "    <tr>\n",
              "      <th>freq</th>\n",
              "      <td>22</td>\n",
              "      <td>1921</td>\n",
              "      <td>2189</td>\n",
              "    </tr>\n",
              "  </tbody>\n",
              "</table>\n",
              "</div>"
            ],
            "text/plain": [
              "          DateOfBite  DogBreed Borough\n",
              "count           8692      8692    8692\n",
              "unique          1096      1032       6\n",
              "top     June 06 2015  Pit Bull  Queens\n",
              "freq              22      1921    2189"
            ]
          },
          "metadata": {
            "tags": []
          },
          "execution_count": 13
        }
      ]
    },
    {
      "cell_type": "code",
      "metadata": {
        "id": "5es6HIAvCdIl",
        "colab_type": "code",
        "outputId": "b29db82f-9c47-4380-dc12-4f1d55d4ddf4",
        "colab": {
          "base_uri": "https://localhost:8080/",
          "height": 1000
        }
      },
      "source": [
        "dfdogs['DogBreed'].value_counts().sort_values(ascending = False)"
      ],
      "execution_count": 14,
      "outputs": [
        {
          "output_type": "execute_result",
          "data": {
            "text/plain": [
              "Pit Bull                                   1921\n",
              "Shih Tzu                                    364\n",
              "American Pit Bull Terrier/Pit Bull          349\n",
              "Chihuahua                                   344\n",
              "American Pit Bull Mix / Pit Bull Mix        340\n",
              "German Shepherd                             274\n",
              "Mixed/Other                                 262\n",
              "Yorkshire Terrier                           228\n",
              "Maltese                                     187\n",
              "UNKNOWN                                     169\n",
              "Rottweiler                                  159\n",
              "Labrador Retriever                          157\n",
              "Bull dog                                    121\n",
              "Siberian Husky                              117\n",
              "Jack Russ                                   113\n",
              "Poodle, Standard                            111\n",
              "Cocker Spaniel                               96\n",
              "Labrador Retriever Crossbreed                83\n",
              "American Staffordshire Terrier               81\n",
              "TERRIER                                      79\n",
              "Beagle                                       73\n",
              "Boxer                                        64\n",
              "Golden Retriever                             58\n",
              "Pomeranian                                   55\n",
              "Shiba Inu                                    51\n",
              "MIXED                                        50\n",
              "Bull Dog, English                            46\n",
              "Bull Dog, French                             44\n",
              "Chihuahua Crossbreed                         44\n",
              "TERRIER MIX                                  43\n",
              "                                           ... \n",
              "POMERANIAN/ HUSKY                             1\n",
              "CHINESE TIEN YUN CHU                          1\n",
              "TEACUP YORKIE                                 1\n",
              "MIKI                                          1\n",
              "Collie, Bearded                               1\n",
              "AUSTRALIAN CATTLE DOG MIX                     1\n",
              "SHIH TZU / MALTESE MIX                        1\n",
              "ALPACA                                        1\n",
              "POODLE- X                                     1\n",
              "MALTESE/TERRIER X                             1\n",
              "SHIH TZU/YORKIE                               1\n",
              "SHIH TZU (MALE) & SHIH TZU MIX (FEMALE)       1\n",
              "CHOW/MINI PINCHER                             1\n",
              "MIX BREED/ PIT BULL                           1\n",
              "PIT BULL OR ROTTWEILER X                      1\n",
              "SHIBA INU                                     1\n",
              "BOXER/PITBULL MIX                             1\n",
              "LAB/BASSET HOUND X                            1\n",
              "FOX HOUND                                     1\n",
              "POODLE OR DALMATION                           1\n",
              "CHIHUAHUA/LAB                                 1\n",
              "MALTESE/WESTIE X                              1\n",
              "HUSKY/CATTLE MIX                              1\n",
              "ALASKAN MALMUTE                               1\n",
              "CHIHUAHUA                                     1\n",
              "AMER BULL TERRIER                             1\n",
              "BLUE HEELER X                                 1\n",
              "PITBULL/ LABRADOR MIX                         1\n",
              "HUSKY/CATTLE DOG MIX                          1\n",
              "CATAHOULA CUR                                 1\n",
              "Name: DogBreed, Length: 1032, dtype: int64"
            ]
          },
          "metadata": {
            "tags": []
          },
          "execution_count": 14
        }
      ]
    },
    {
      "cell_type": "code",
      "metadata": {
        "id": "fjBSFx0qB8my",
        "colab_type": "code",
        "colab": {}
      },
      "source": [
        "def fix_breed_label(breed):\n",
        "    if breed in ['American Pit Bull Terrier/Pit Bull', 'American Pit Bull Mix / Pit Bull Mix', 'PIT BULL MIX']:\n",
        "      return 'Pit Bull'\n",
        "    elif breed in ['Siberian Husky', 'HUSKY -X', 'ALASKAN HUSKY MIX', 'ALASKA HUSKY', 'HUSKY']:\n",
        "      return 'Husky '\n",
        "    elif breed in ['Labrador Retriever Crossbreed', 'LABRADOR MIX']:\n",
        "      return 'Labrador Retriever'\n",
        "    elif breed in ['Bull dog', 'Bull Dog, English', 'Bull Dog, French', 'FRENCH BULL DOG', 'ENGLISH BULL DOG']:\n",
        "      return 'Bull Dog'\n",
        "    elif breed in ['Poodle, Standard', 'MINI POODLE X', 'SCHNAUZER POODLE MIX', 'Poodle, Miniature', 'POODLE MIX', 'Poodle, Toy']:\n",
        "      return 'Poodle'\n",
        "    elif breed in ['Chihuahua Crossbreed', 'CHIHUAHUA']:\n",
        "      return 'Chihuahua'\n",
        "    elif breed in ['Yorkshire Terrier', 'American Staffordshire Terrier', 'BEAVER TERRIERS', 'TERRIER MIX', 'TERRIER', \n",
        "                   'BOSTON BORDER TERRIER', 'Boston Terrier', 'BOSTON TERRIER MIX', 'MIXED TERRIER', 'Yorkshire Terrier Crossbreed', \n",
        "                   'Staffordshire Bull Terrier', 'Bull Terrier', 'West High White Terrier']:\n",
        "      return 'Terrier'\n",
        "    elif breed in ['SHEPHERD', 'Australian Shepherd', 'German Shepherd', 'German Shepherd Crossbreed']:\n",
        "      return 'Shepherd'\n",
        "    elif breed in ['SHIH TZU MIX']:\n",
        "      return 'Shih Tzu'\n",
        "    elif breed in ['Beagle Crossbreed']:\n",
        "      return 'Beagle'\n",
        "    elif breed in ['MIXED', 'UNKNOWN', 'Mixed/Other', 'NOT SURE, RESCUE', 'MIXED BREED']:\n",
        "      return 'Other' \n",
        "    else:\n",
        "      return breed"
      ],
      "execution_count": 0,
      "outputs": []
    },
    {
      "cell_type": "code",
      "metadata": {
        "id": "bhr_9MYJKTDy",
        "colab_type": "code",
        "outputId": "74a646c8-f9b7-4846-9b7d-04bb032b67e2",
        "colab": {
          "base_uri": "https://localhost:8080/",
          "height": 1000
        }
      },
      "source": [
        "dfdogs['DogBreed'] = dfdogs['DogBreed'].apply(fix_breed_label)\n",
        "dfdogs['DogBreed'].value_counts().sort_values(ascending = False)"
      ],
      "execution_count": 16,
      "outputs": [
        {
          "output_type": "execute_result",
          "data": {
            "text/plain": [
              "Pit Bull                                   2648\n",
              "Terrier                                     559\n",
              "Other                                       514\n",
              "Chihuahua                                   389\n",
              "Shih Tzu                                    384\n",
              "Shepherd                                    356\n",
              "Labrador Retriever                          258\n",
              "Bull Dog                                    213\n",
              "Poodle                                      187\n",
              "Maltese                                     187\n",
              "Rottweiler                                  159\n",
              "Husky                                       141\n",
              "Jack Russ                                   113\n",
              "Cocker Spaniel                               96\n",
              "Beagle                                       94\n",
              "Boxer                                        64\n",
              "Golden Retriever                             58\n",
              "Pomeranian                                   55\n",
              "Shiba Inu                                    51\n",
              "Bichon Frise                                 43\n",
              "Chow Chow                                    42\n",
              "Cane Corso                                   42\n",
              "Miniature Pinscher                           37\n",
              "Doberman Pinscher                            36\n",
              "Lhasa Apso                                   36\n",
              "Dachshund Smooth Coat                        35\n",
              "Pekingese                                    30\n",
              "Akita                                        30\n",
              "Havanese                                     28\n",
              "MUTT                                         26\n",
              "                                           ... \n",
              "MIX- BOXER                                    1\n",
              "AMER BULL TERRIER                             1\n",
              "ROTTWEILER/ GERMAN SHEPHERD MIX               1\n",
              "POMERANIAN / POODLE MIX                       1\n",
              "PITBULL/ROTTWEILER                            1\n",
              "LAB/ PIT BULL MIX                             1\n",
              "CHINESE TIEN YUN CHU                          1\n",
              "TEACUP YORKIE                                 1\n",
              "MIKI                                          1\n",
              "Collie, Bearded                               1\n",
              "AUSTRALIAN CATTLE DOG MIX                     1\n",
              "SHIH TZU / MALTESE MIX                        1\n",
              "ALPACA                                        1\n",
              "POODLE- X                                     1\n",
              "MALTESE/TERRIER X                             1\n",
              "SHIH TZU (MALE) & SHIH TZU MIX (FEMALE)       1\n",
              "CHOW/MINI PINCHER                             1\n",
              "MIX BREED/ PIT BULL                           1\n",
              "POMERANIAN/ HUSKY                             1\n",
              "PIT BULL OR ROTTWEILER X                      1\n",
              "BOXER/PITBULL MIX                             1\n",
              "LAB/BASSET HOUND X                            1\n",
              "GERMAN SHEPERD/AUSTRALIAN MIX                 1\n",
              "POODLE OR DALMATION                           1\n",
              "MARQUIS                                       1\n",
              "SHIH TZU/YORKIE                               1\n",
              "LAB/RAT TERRIER X                             1\n",
              "MALTESE/WESTIE X                              1\n",
              "ALASKAN MALMUTE                               1\n",
              "GOLDEN RETRIEVER                              1\n",
              "Name: DogBreed, Length: 991, dtype: int64"
            ]
          },
          "metadata": {
            "tags": []
          },
          "execution_count": 16
        }
      ]
    },
    {
      "cell_type": "code",
      "metadata": {
        "id": "C7C5RodgShCC",
        "colab_type": "code",
        "colab": {}
      },
      "source": [
        "counts = dfdogs['DogBreed'].value_counts()\n",
        "\n",
        "dfdogs = dfdogs[~dfdogs['DogBreed'].isin(counts[counts < 20].index)]"
      ],
      "execution_count": 0,
      "outputs": []
    },
    {
      "cell_type": "code",
      "metadata": {
        "id": "e7dcldVyQnkb",
        "colab_type": "code",
        "outputId": "bb31222d-2c60-447d-8877-adfd76eef5a6",
        "colab": {
          "base_uri": "https://localhost:8080/",
          "height": 221
        }
      },
      "source": [
        "print(dfdogs.shape)\n",
        "dfdogs.head()"
      ],
      "execution_count": 18,
      "outputs": [
        {
          "output_type": "stream",
          "text": [
            "(6937, 4)\n"
          ],
          "name": "stdout"
        },
        {
          "output_type": "execute_result",
          "data": {
            "text/html": [
              "<div>\n",
              "<style scoped>\n",
              "    .dataframe tbody tr th:only-of-type {\n",
              "        vertical-align: middle;\n",
              "    }\n",
              "\n",
              "    .dataframe tbody tr th {\n",
              "        vertical-align: top;\n",
              "    }\n",
              "\n",
              "    .dataframe thead th {\n",
              "        text-align: right;\n",
              "    }\n",
              "</style>\n",
              "<table border=\"1\" class=\"dataframe\">\n",
              "  <thead>\n",
              "    <tr style=\"text-align: right;\">\n",
              "      <th></th>\n",
              "      <th>UniqueID</th>\n",
              "      <th>DateOfBite</th>\n",
              "      <th>DogBreed</th>\n",
              "      <th>Borough</th>\n",
              "    </tr>\n",
              "  </thead>\n",
              "  <tbody>\n",
              "    <tr>\n",
              "      <th>0</th>\n",
              "      <td>1</td>\n",
              "      <td>January 02 2015</td>\n",
              "      <td>Poodle</td>\n",
              "      <td>Brooklyn</td>\n",
              "    </tr>\n",
              "    <tr>\n",
              "      <th>1</th>\n",
              "      <td>2</td>\n",
              "      <td>January 02 2015</td>\n",
              "      <td>Husky</td>\n",
              "      <td>Brooklyn</td>\n",
              "    </tr>\n",
              "    <tr>\n",
              "      <th>3</th>\n",
              "      <td>4</td>\n",
              "      <td>January 01 2015</td>\n",
              "      <td>Pit Bull</td>\n",
              "      <td>Brooklyn</td>\n",
              "    </tr>\n",
              "    <tr>\n",
              "      <th>4</th>\n",
              "      <td>5</td>\n",
              "      <td>January 03 2015</td>\n",
              "      <td>Pit Bull</td>\n",
              "      <td>Brooklyn</td>\n",
              "    </tr>\n",
              "    <tr>\n",
              "      <th>5</th>\n",
              "      <td>6</td>\n",
              "      <td>January 05 2015</td>\n",
              "      <td>Pit Bull</td>\n",
              "      <td>Brooklyn</td>\n",
              "    </tr>\n",
              "  </tbody>\n",
              "</table>\n",
              "</div>"
            ],
            "text/plain": [
              "   UniqueID       DateOfBite  DogBreed   Borough\n",
              "0         1  January 02 2015    Poodle  Brooklyn\n",
              "1         2  January 02 2015    Husky   Brooklyn\n",
              "3         4  January 01 2015  Pit Bull  Brooklyn\n",
              "4         5  January 03 2015  Pit Bull  Brooklyn\n",
              "5         6  January 05 2015  Pit Bull  Brooklyn"
            ]
          },
          "metadata": {
            "tags": []
          },
          "execution_count": 18
        }
      ]
    },
    {
      "cell_type": "code",
      "metadata": {
        "id": "FafPv8xOOGZi",
        "colab_type": "code",
        "outputId": "7a360c95-d64b-40e5-f222-58a1c24d64da",
        "colab": {
          "base_uri": "https://localhost:8080/",
          "height": 561
        }
      },
      "source": [
        "dfdogs['DogBreed'].value_counts()"
      ],
      "execution_count": 19,
      "outputs": [
        {
          "output_type": "execute_result",
          "data": {
            "text/plain": [
              "Pit Bull                 2648\n",
              "Terrier                   559\n",
              "Other                     514\n",
              "Chihuahua                 389\n",
              "Shih Tzu                  384\n",
              "Shepherd                  356\n",
              "Labrador Retriever        258\n",
              "Bull Dog                  213\n",
              "Poodle                    187\n",
              "Maltese                   187\n",
              "Rottweiler                159\n",
              "Husky                     141\n",
              "Jack Russ                 113\n",
              "Cocker Spaniel             96\n",
              "Beagle                     94\n",
              "Boxer                      64\n",
              "Golden Retriever           58\n",
              "Pomeranian                 55\n",
              "Shiba Inu                  51\n",
              "Bichon Frise               43\n",
              "Cane Corso                 42\n",
              "Chow Chow                  42\n",
              "Miniature Pinscher         37\n",
              "Lhasa Apso                 36\n",
              "Doberman Pinscher          36\n",
              "Dachshund Smooth Coat      35\n",
              "Akita                      30\n",
              "Pekingese                  30\n",
              "Havanese                   28\n",
              "MUTT                       26\n",
              "Mastiff, Bull              26\n",
              "Name: DogBreed, dtype: int64"
            ]
          },
          "metadata": {
            "tags": []
          },
          "execution_count": 19
        }
      ]
    },
    {
      "cell_type": "code",
      "metadata": {
        "id": "UUy5-zWjWdez",
        "colab_type": "code",
        "outputId": "6efa4457-357f-4937-f6f6-846bf4e68e03",
        "colab": {
          "base_uri": "https://localhost:8080/",
          "height": 1000
        }
      },
      "source": [
        "dfdogs['DateOfBite']"
      ],
      "execution_count": 20,
      "outputs": [
        {
          "output_type": "execute_result",
          "data": {
            "text/plain": [
              "0         January 02 2015\n",
              "1         January 02 2015\n",
              "3         January 01 2015\n",
              "4         January 03 2015\n",
              "5         January 05 2015\n",
              "7         January 05 2015\n",
              "12        January 05 2015\n",
              "13        January 01 2015\n",
              "14        January 07 2015\n",
              "15        January 05 2015\n",
              "16        January 09 2015\n",
              "17        January 10 2015\n",
              "18        January 10 2015\n",
              "19        January 13 2015\n",
              "20        January 12 2015\n",
              "21        January 16 2015\n",
              "22        January 12 2015\n",
              "23        January 17 2015\n",
              "24        January 21 2015\n",
              "25        January 22 2015\n",
              "27        January 27 2015\n",
              "28        January 25 2015\n",
              "29        January 25 2015\n",
              "30        January 25 2015\n",
              "32        January 29 2015\n",
              "33        January 31 2015\n",
              "34        January 31 2015\n",
              "36        January 23 2015\n",
              "38       February 04 2015\n",
              "40       February 01 2015\n",
              "               ...       \n",
              "10236    November 03 2017\n",
              "10238    November 05 2017\n",
              "10239    November 04 2017\n",
              "10241     October 30 2017\n",
              "10243    November 06 2017\n",
              "10246    November 15 2017\n",
              "10249    November 19 2017\n",
              "10250    November 09 2017\n",
              "10251    November 16 2017\n",
              "10252    November 23 2017\n",
              "10253    November 27 2017\n",
              "10255    November 29 2017\n",
              "10256    December 05 2017\n",
              "10257    December 07 2017\n",
              "10258    December 10 2017\n",
              "10259    December 10 2017\n",
              "10260    December 02 2017\n",
              "10261    December 09 2017\n",
              "10262    November 30 2017\n",
              "10263    December 12 2017\n",
              "10264    December 13 2017\n",
              "10265    December 14 2017\n",
              "10267    December 15 2017\n",
              "10268    December 17 2017\n",
              "10269    December 14 2017\n",
              "10270    December 18 2017\n",
              "10271    December 17 2017\n",
              "10272    December 09 2017\n",
              "10274    December 21 2017\n",
              "10278    December 28 2017\n",
              "Name: DateOfBite, Length: 6937, dtype: object"
            ]
          },
          "metadata": {
            "tags": []
          },
          "execution_count": 20
        }
      ]
    },
    {
      "cell_type": "code",
      "metadata": {
        "id": "tedMSdsYds2c",
        "colab_type": "code",
        "outputId": "519cdd6a-0153-4e3b-b67b-ba20a6d1010b",
        "colab": {
          "base_uri": "https://localhost:8080/",
          "height": 34
        }
      },
      "source": [
        "dfdogs2015 = dfdogs[dfdogs['DateOfBite'].str.contains(\"2015\")]\n",
        "dfdogs2016 = dfdogs[dfdogs['DateOfBite'].str.contains(\"2016\")]\n",
        "dfdogs2017 = dfdogs[dfdogs['DateOfBite'].str.contains(\"2017\")]\n",
        "dfdogs2015.shape, dfdogs2016.shape, dfdogs2017.shape"
      ],
      "execution_count": 21,
      "outputs": [
        {
          "output_type": "execute_result",
          "data": {
            "text/plain": [
              "((2394, 4), (2102, 4), (2441, 4))"
            ]
          },
          "metadata": {
            "tags": []
          },
          "execution_count": 21
        }
      ]
    },
    {
      "cell_type": "code",
      "metadata": {
        "id": "C82sO1iGfr30",
        "colab_type": "code",
        "outputId": "02d217b7-6e0d-44fe-9653-878616c2015b",
        "colab": {
          "base_uri": "https://localhost:8080/",
          "height": 659
        }
      },
      "source": [
        "plt.axes([0, 0, 1, 2])\n",
        "dfdogs2015['DogBreed'].value_counts().sort_values().plot('barh')\n",
        "\n",
        "plt.title(\"Dog Attacks in New York City, 2015\", fontsize = 20, fontweight = 'bold')\n",
        "plt.xlabel('Number of Dogs')\n",
        "plt.ylabel('Breeds')\n",
        "\n",
        "plt.grid()\n"
      ],
      "execution_count": 22,
      "outputs": [
        {
          "output_type": "display_data",
          "data": {
            "image/png": "[encoded data removed]",
            "text/plain": [
              "<Figure size 432x288 with 1 Axes>"
            ]
          },
          "metadata": {
            "tags": []
          }
        }
      ]
    },
    {
      "cell_type": "code",
      "metadata": {
        "id": "43tNxoLBisyp",
        "colab_type": "code",
        "outputId": "91aa735b-3021-47b3-98d7-b44e99fe2898",
        "colab": {
          "base_uri": "https://localhost:8080/",
          "height": 659
        }
      },
      "source": [
        "plt.axes([0, 0, 1, 2])\n",
        "dfdogs2016['DogBreed'].value_counts().sort_values().plot('barh')\n",
        "\n",
        "plt.title(\"Dog Attacks in New York City, 2016\", fontsize = 20, fontweight = 'bold')\n",
        "plt.xlabel('Number of Dogs')\n",
        "plt.ylabel('Breeds')\n",
        "\n",
        "plt.grid()"
      ],
      "execution_count": 23,
      "outputs": [
        {
          "output_type": "display_data",
          "data": {
            "image/png": "[encoded data removed]",
            "text/plain": [
              "<Figure size 432x288 with 1 Axes>"
            ]
          },
          "metadata": {
            "tags": []
          }
        }
      ]
    },
    {
      "cell_type": "code",
      "metadata": {
        "id": "R6ImKReCiyYw",
        "colab_type": "code",
        "outputId": "7923a16f-0adf-47b7-f66b-412ca33cdd1b",
        "colab": {
          "base_uri": "https://localhost:8080/",
          "height": 659
        }
      },
      "source": [
        "plt.axes([0, 0, 1, 2])\n",
        "dfdogs2017['DogBreed'].value_counts().sort_values().plot('barh')\n",
        "\n",
        "plt.title(\"Dog Attacks in New York City, 2017\", fontsize = 20, fontweight = 'bold')\n",
        "plt.xlabel('Number of Dogs')\n",
        "plt.ylabel('Breeds')\n",
        "\n",
        "plt.grid()"
      ],
      "execution_count": 24,
      "outputs": [
        {
          "output_type": "display_data",
          "data": {
            "image/png": "[encoded data removed]",
            "text/plain": [
              "<Figure size 432x288 with 1 Axes>"
            ]
          },
          "metadata": {
            "tags": []
          }
        }
      ]
    }
  ]
}