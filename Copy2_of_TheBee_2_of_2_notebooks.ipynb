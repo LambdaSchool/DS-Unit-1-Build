{
  "nbformat": 4,
  "nbformat_minor": 0,
  "metadata": {
    "colab": {
      "name": "Copy2 of TheBee_2_of_2_notebooks.ipynb",
      "provenance": [],
      "collapsed_sections": [],
      "include_colab_link": true
    },
    "kernelspec": {
      "name": "python3",
      "display_name": "Python 3"
    }
  },
  "cells": [
    {
      "cell_type": "markdown",
      "metadata": {
        "id": "view-in-github",
        "colab_type": "text"
      },
      "source": [
        "<a href=\"https://colab.research.google.com/github/maiormarso/DS-Unit-1-Build/blob/master/Copy2_of_TheBee_2_of_2_notebooks.ipynb\" target=\"_parent\"><img src=\"https://colab.research.google.com/assets/colab-badge.svg\" alt=\"Open In Colab\"/></a>"
      ]
    },
    {
      "cell_type": "code",
      "metadata": {
        "id": "fsi5-ycVljLe",
        "colab_type": "code",
        "outputId": "5a01a35b-7cb4-4e1d-8d13-ee7e305d641b",
        "colab": {
          "base_uri": "https://localhost:8080/",
          "height": 175
        }
      },
      "source": [
        "!pip install chart_studio"
      ],
      "execution_count": 0,
      "outputs": [
        {
          "output_type": "stream",
          "text": [
            "Requirement already satisfied: chart_studio in /usr/local/lib/python3.6/dist-packages (1.0.0)\n",
            "Requirement already satisfied: requests in /usr/local/lib/python3.6/dist-packages (from chart_studio) (2.21.0)\n",
            "Requirement already satisfied: plotly in /usr/local/lib/python3.6/dist-packages (from chart_studio) (4.1.1)\n",
            "Requirement already satisfied: six in /usr/local/lib/python3.6/dist-packages (from chart_studio) (1.12.0)\n",
            "Requirement already satisfied: retrying>=1.3.3 in /usr/local/lib/python3.6/dist-packages (from chart_studio) (1.3.3)\n",
            "Requirement already satisfied: idna<2.9,>=2.5 in /usr/local/lib/python3.6/dist-packages (from requests->chart_studio) (2.8)\n",
            "Requirement already satisfied: certifi>=2017.4.17 in /usr/local/lib/python3.6/dist-packages (from requests->chart_studio) (2019.9.11)\n",
            "Requirement already satisfied: chardet<3.1.0,>=3.0.2 in /usr/local/lib/python3.6/dist-packages (from requests->chart_studio) (3.0.4)\n",
            "Requirement already satisfied: urllib3<1.25,>=1.21.1 in /usr/local/lib/python3.6/dist-packages (from requests->chart_studio) (1.24.3)\n"
          ],
          "name": "stdout"
        }
      ]
    },
    {
      "cell_type": "code",
      "metadata": {
        "id": "S2KLbWVdWsgd",
        "colab_type": "code",
        "colab": {}
      },
      "source": [
        ""
      ],
      "execution_count": 0,
      "outputs": []
    },
    {
      "cell_type": "code",
      "metadata": {
        "id": "030pmt7mpjhD",
        "colab_type": "code",
        "colab": {}
      },
      "source": [
        "import chart_studio.plotly as plt\n",
        "import numpy as np\n",
        "import pandas as pd"
      ],
      "execution_count": 0,
      "outputs": []
    },
    {
      "cell_type": "code",
      "metadata": {
        "id": "TKLE1Jw9vMs7",
        "colab_type": "code",
        "colab": {}
      },
      "source": [
        "column_headers = ['year','season','state','total_annual_loss', 'beekeepers', 'beekeepers_exculsive_to_state','colonies','colonies_exclusive_to_state','total_loss']\n",
        "\n",
        "df=pd.read_csv('http://marso.space/bee/bee_colony_loss.csv', header=None, names=column_headers)"
      ],
      "execution_count": 0,
      "outputs": []
    },
    {
      "cell_type": "markdown",
      "metadata": {
        "id": "D3jkHm2I4flP",
        "colab_type": "text"
      },
      "source": [
        "Unable to get a colony abount from total_annual_loss percent against colonies, I took the csv file into excel where I was able to get the actual total loss of colonies in an individual column named total_loss.\n"
      ]
    },
    {
      "cell_type": "code",
      "metadata": {
        "id": "EUV0zr9JT5Tx",
        "colab_type": "code",
        "outputId": "fcaccf69-94a1-4ef0-ed28-85c5f5521d6a",
        "colab": {
          "base_uri": "https://localhost:8080/",
          "height": 639
        }
      },
      "source": [
        "df.head(20)"
      ],
      "execution_count": 0,
      "outputs": [
        {
          "output_type": "execute_result",
          "data": {
            "text/html": [
              "<div>\n",
              "<style scoped>\n",
              "    .dataframe tbody tr th:only-of-type {\n",
              "        vertical-align: middle;\n",
              "    }\n",
              "\n",
              "    .dataframe tbody tr th {\n",
              "        vertical-align: top;\n",
              "    }\n",
              "\n",
              "    .dataframe thead th {\n",
              "        text-align: right;\n",
              "    }\n",
              "</style>\n",
              "<table border=\"1\" class=\"dataframe\">\n",
              "  <thead>\n",
              "    <tr style=\"text-align: right;\">\n",
              "      <th></th>\n",
              "      <th>year</th>\n",
              "      <th>season</th>\n",
              "      <th>state</th>\n",
              "      <th>total_annual_loss</th>\n",
              "      <th>beekeepers</th>\n",
              "      <th>beekeepers_exculsive_to_state</th>\n",
              "      <th>colonies</th>\n",
              "      <th>colonies_exclusive_to_state</th>\n",
              "      <th>total_loss</th>\n",
              "    </tr>\n",
              "  </thead>\n",
              "  <tbody>\n",
              "    <tr>\n",
              "      <th>0</th>\n",
              "      <td>2016/17</td>\n",
              "      <td>Annual</td>\n",
              "      <td>Massachusetts</td>\n",
              "      <td>0.159</td>\n",
              "      <td>87</td>\n",
              "      <td>0.94</td>\n",
              "      <td>27,186.00</td>\n",
              "      <td>0.02</td>\n",
              "      <td>4322.57</td>\n",
              "    </tr>\n",
              "    <tr>\n",
              "      <th>1</th>\n",
              "      <td>2016/17</td>\n",
              "      <td>Annual</td>\n",
              "      <td>Montana</td>\n",
              "      <td>0.171</td>\n",
              "      <td>21</td>\n",
              "      <td>0.52</td>\n",
              "      <td>35,905.00</td>\n",
              "      <td>0</td>\n",
              "      <td>6139.76</td>\n",
              "    </tr>\n",
              "    <tr>\n",
              "      <th>2</th>\n",
              "      <td>2016/17</td>\n",
              "      <td>Annual</td>\n",
              "      <td>Nevada</td>\n",
              "      <td>0.230</td>\n",
              "      <td>13</td>\n",
              "      <td>0.92</td>\n",
              "      <td>2,512.00</td>\n",
              "      <td>0.05</td>\n",
              "      <td>577.76</td>\n",
              "    </tr>\n",
              "    <tr>\n",
              "      <th>3</th>\n",
              "      <td>2016/17</td>\n",
              "      <td>Annual</td>\n",
              "      <td>Maine</td>\n",
              "      <td>0.233</td>\n",
              "      <td>65</td>\n",
              "      <td>0.94</td>\n",
              "      <td>41,102.00</td>\n",
              "      <td>0.01</td>\n",
              "      <td>9576.77</td>\n",
              "    </tr>\n",
              "    <tr>\n",
              "      <th>4</th>\n",
              "      <td>2016/17</td>\n",
              "      <td>Annual</td>\n",
              "      <td>Wyoming</td>\n",
              "      <td>0.234</td>\n",
              "      <td>18</td>\n",
              "      <td>0.78</td>\n",
              "      <td>6,521.00</td>\n",
              "      <td>0.01</td>\n",
              "      <td>1525.91</td>\n",
              "    </tr>\n",
              "    <tr>\n",
              "      <th>5</th>\n",
              "      <td>2016/17</td>\n",
              "      <td>Annual</td>\n",
              "      <td>Hawaii</td>\n",
              "      <td>0.262</td>\n",
              "      <td>10</td>\n",
              "      <td>1</td>\n",
              "      <td>84</td>\n",
              "      <td>1</td>\n",
              "      <td>22.01</td>\n",
              "    </tr>\n",
              "    <tr>\n",
              "      <th>6</th>\n",
              "      <td>2016/17</td>\n",
              "      <td>Annual</td>\n",
              "      <td>Mississippi</td>\n",
              "      <td>0.263</td>\n",
              "      <td>9</td>\n",
              "      <td>0.22</td>\n",
              "      <td>17,802.00</td>\n",
              "      <td>0</td>\n",
              "      <td>4681.93</td>\n",
              "    </tr>\n",
              "    <tr>\n",
              "      <th>7</th>\n",
              "      <td>2016/17</td>\n",
              "      <td>Annual</td>\n",
              "      <td>West Virginia</td>\n",
              "      <td>0.266</td>\n",
              "      <td>52</td>\n",
              "      <td>0.94</td>\n",
              "      <td>993</td>\n",
              "      <td>0.8</td>\n",
              "      <td>264.14</td>\n",
              "    </tr>\n",
              "    <tr>\n",
              "      <th>8</th>\n",
              "      <td>2016/17</td>\n",
              "      <td>Annual</td>\n",
              "      <td>Idaho</td>\n",
              "      <td>0.273</td>\n",
              "      <td>30</td>\n",
              "      <td>0.83</td>\n",
              "      <td>76,794.00</td>\n",
              "      <td>0.02</td>\n",
              "      <td>20964.76</td>\n",
              "    </tr>\n",
              "    <tr>\n",
              "      <th>9</th>\n",
              "      <td>2016/17</td>\n",
              "      <td>Annual</td>\n",
              "      <td>Florida</td>\n",
              "      <td>0.292</td>\n",
              "      <td>62</td>\n",
              "      <td>0.82</td>\n",
              "      <td>95,872.00</td>\n",
              "      <td>0.04</td>\n",
              "      <td>27994.62</td>\n",
              "    </tr>\n",
              "    <tr>\n",
              "      <th>10</th>\n",
              "      <td>2016/17</td>\n",
              "      <td>Annual</td>\n",
              "      <td>Wisconsin</td>\n",
              "      <td>0.294</td>\n",
              "      <td>99</td>\n",
              "      <td>0.94</td>\n",
              "      <td>15,800.00</td>\n",
              "      <td>0.1</td>\n",
              "      <td>4645.20</td>\n",
              "    </tr>\n",
              "    <tr>\n",
              "      <th>11</th>\n",
              "      <td>2016/17</td>\n",
              "      <td>Annual</td>\n",
              "      <td>North Carolina</td>\n",
              "      <td>0.299</td>\n",
              "      <td>206</td>\n",
              "      <td>0.96</td>\n",
              "      <td>7,246.00</td>\n",
              "      <td>0.21</td>\n",
              "      <td>2166.55</td>\n",
              "    </tr>\n",
              "    <tr>\n",
              "      <th>12</th>\n",
              "      <td>2016/17</td>\n",
              "      <td>Annual</td>\n",
              "      <td>California</td>\n",
              "      <td>0.305</td>\n",
              "      <td>163</td>\n",
              "      <td>0.63</td>\n",
              "      <td>383,369.00</td>\n",
              "      <td>0.2</td>\n",
              "      <td>116927.55</td>\n",
              "    </tr>\n",
              "    <tr>\n",
              "      <th>13</th>\n",
              "      <td>2016/17</td>\n",
              "      <td>Annual</td>\n",
              "      <td>Georgia</td>\n",
              "      <td>0.305</td>\n",
              "      <td>81</td>\n",
              "      <td>0.88</td>\n",
              "      <td>38,443.00</td>\n",
              "      <td>0.08</td>\n",
              "      <td>11725.12</td>\n",
              "    </tr>\n",
              "    <tr>\n",
              "      <th>14</th>\n",
              "      <td>2016/17</td>\n",
              "      <td>Annual</td>\n",
              "      <td>MultiStateOperation</td>\n",
              "      <td>0.318</td>\n",
              "      <td>126</td>\n",
              "      <td>NaN</td>\n",
              "      <td>345,567.00</td>\n",
              "      <td>NaN</td>\n",
              "      <td>109890.31</td>\n",
              "    </tr>\n",
              "    <tr>\n",
              "      <th>15</th>\n",
              "      <td>2016/17</td>\n",
              "      <td>Annual</td>\n",
              "      <td>South Dakota</td>\n",
              "      <td>0.322</td>\n",
              "      <td>12</td>\n",
              "      <td>0.5</td>\n",
              "      <td>29,626.00</td>\n",
              "      <td>0</td>\n",
              "      <td>9539.57</td>\n",
              "    </tr>\n",
              "    <tr>\n",
              "      <th>16</th>\n",
              "      <td>2016/17</td>\n",
              "      <td>Annual</td>\n",
              "      <td>Oregon</td>\n",
              "      <td>0.324</td>\n",
              "      <td>137</td>\n",
              "      <td>0.93</td>\n",
              "      <td>35,433.00</td>\n",
              "      <td>0.02</td>\n",
              "      <td>11480.29</td>\n",
              "    </tr>\n",
              "    <tr>\n",
              "      <th>17</th>\n",
              "      <td>2016/17</td>\n",
              "      <td>Annual</td>\n",
              "      <td>Michigan</td>\n",
              "      <td>0.326</td>\n",
              "      <td>138</td>\n",
              "      <td>0.96</td>\n",
              "      <td>14,949.00</td>\n",
              "      <td>0.12</td>\n",
              "      <td>4873.37</td>\n",
              "    </tr>\n",
              "    <tr>\n",
              "      <th>18</th>\n",
              "      <td>2016/17</td>\n",
              "      <td>Annual</td>\n",
              "      <td>Missouri</td>\n",
              "      <td>0.336</td>\n",
              "      <td>88</td>\n",
              "      <td>0.97</td>\n",
              "      <td>1,177.00</td>\n",
              "      <td>0.94</td>\n",
              "      <td>395.47</td>\n",
              "    </tr>\n",
              "    <tr>\n",
              "      <th>19</th>\n",
              "      <td>2016/17</td>\n",
              "      <td>Annual</td>\n",
              "      <td>Texas</td>\n",
              "      <td>0.349</td>\n",
              "      <td>136</td>\n",
              "      <td>0.93</td>\n",
              "      <td>60,699.00</td>\n",
              "      <td>0.09</td>\n",
              "      <td>21183.95</td>\n",
              "    </tr>\n",
              "  </tbody>\n",
              "</table>\n",
              "</div>"
            ],
            "text/plain": [
              "         year    season  ... colonies_exclusive_to_state  total_loss\n",
              "0    2016/17    Annual   ...                        0.02     4322.57\n",
              "1    2016/17    Annual   ...                           0     6139.76\n",
              "2    2016/17    Annual   ...                        0.05      577.76\n",
              "3    2016/17    Annual   ...                        0.01     9576.77\n",
              "4    2016/17    Annual   ...                        0.01     1525.91\n",
              "5    2016/17    Annual   ...                           1       22.01\n",
              "6    2016/17    Annual   ...                           0     4681.93\n",
              "7    2016/17    Annual   ...                         0.8      264.14\n",
              "8    2016/17    Annual   ...                        0.02    20964.76\n",
              "9    2016/17    Annual   ...                        0.04    27994.62\n",
              "10   2016/17    Annual   ...                         0.1     4645.20\n",
              "11   2016/17    Annual   ...                        0.21     2166.55\n",
              "12   2016/17    Annual   ...                         0.2   116927.55\n",
              "13   2016/17    Annual   ...                        0.08    11725.12\n",
              "14   2016/17    Annual   ...                        NaN    109890.31\n",
              "15   2016/17    Annual   ...                           0     9539.57\n",
              "16   2016/17    Annual   ...                        0.02    11480.29\n",
              "17   2016/17    Annual   ...                        0.12     4873.37\n",
              "18   2016/17    Annual   ...                        0.94      395.47\n",
              "19   2016/17    Annual   ...                        0.09    21183.95\n",
              "\n",
              "[20 rows x 9 columns]"
            ]
          },
          "metadata": {
            "tags": []
          },
          "execution_count": 33
        }
      ]
    },
    {
      "cell_type": "code",
      "metadata": {
        "id": "YBz88FbQSE2v",
        "colab_type": "code",
        "outputId": "cd01ce63-98c0-4f39-cd34-dd988b62eaee",
        "colab": {
          "base_uri": "https://localhost:8080/",
          "height": 193
        }
      },
      "source": [
        "df.dtypes"
      ],
      "execution_count": 0,
      "outputs": [
        {
          "output_type": "execute_result",
          "data": {
            "text/plain": [
              "year                              object\n",
              "season                            object\n",
              "state                             object\n",
              "total_annual_loss                float64\n",
              "beekeepers                         int64\n",
              "beekeepers_exculsive_to_state     object\n",
              "colonies                          object\n",
              "colonies_exclusive_to_state       object\n",
              "total_loss                       float64\n",
              "dtype: object"
            ]
          },
          "metadata": {
            "tags": []
          },
          "execution_count": 34
        }
      ]
    },
    {
      "cell_type": "code",
      "metadata": {
        "id": "z9x8D5iP6GZU",
        "colab_type": "code",
        "colab": {}
      },
      "source": [
        "dd=df"
      ],
      "execution_count": 0,
      "outputs": []
    },
    {
      "cell_type": "code",
      "metadata": {
        "id": "FElAfs8csLiK",
        "colab_type": "code",
        "outputId": "eb102377-fd8e-462c-cd50-980bda786a70",
        "colab": {
          "base_uri": "https://localhost:8080/",
          "height": 193
        }
      },
      "source": [
        "dd.dtypes"
      ],
      "execution_count": 0,
      "outputs": [
        {
          "output_type": "execute_result",
          "data": {
            "text/plain": [
              "year                              object\n",
              "season                            object\n",
              "state                             object\n",
              "total_annual_loss                float64\n",
              "beekeepers                         int64\n",
              "beekeepers_exculsive_to_state     object\n",
              "colonies                          object\n",
              "colonies_exclusive_to_state       object\n",
              "total_loss                       float64\n",
              "dtype: object"
            ]
          },
          "metadata": {
            "tags": []
          },
          "execution_count": 36
        }
      ]
    },
    {
      "cell_type": "code",
      "metadata": {
        "id": "ZHtISBvj6f9T",
        "colab_type": "code",
        "colab": {}
      },
      "source": [
        ""
      ],
      "execution_count": 0,
      "outputs": []
    },
    {
      "cell_type": "markdown",
      "metadata": {
        "id": "cFxFDn6I6_-l",
        "colab_type": "text"
      },
      "source": [
        "Using the groupby with year and state unstacked the dataframe placing the states on top row and the years to the left column.\n",
        "This was done in order to (T) transform the dataframe putting the years across the top with the states in rows on the allowing\n",
        "for totals on the bottom and the mean on the right of the dataframe."
      ]
    },
    {
      "cell_type": "code",
      "metadata": {
        "id": "Pj6iFhtARRWU",
        "colab_type": "code",
        "colab": {}
      },
      "source": [
        "g=dd.groupby(['year','state']).agg({'total_loss':'mean'}).unstack(level=1)"
      ],
      "execution_count": 0,
      "outputs": []
    },
    {
      "cell_type": "code",
      "metadata": {
        "id": "fsFTkeLsbLqq",
        "colab_type": "code",
        "colab": {}
      },
      "source": [
        "g.columns= g.columns.get_level_values(1)"
      ],
      "execution_count": 0,
      "outputs": []
    },
    {
      "cell_type": "code",
      "metadata": {
        "id": "qcCpPq8HcqPw",
        "colab_type": "code",
        "outputId": "667b8c59-7524-4a77-dad9-61475d87e6fc",
        "colab": {
          "base_uri": "https://localhost:8080/",
          "height": 278
        }
      },
      "source": [
        "g.head()"
      ],
      "execution_count": 0,
      "outputs": [
        {
          "output_type": "execute_result",
          "data": {
            "text/html": [
              "<div>\n",
              "<style scoped>\n",
              "    .dataframe tbody tr th:only-of-type {\n",
              "        vertical-align: middle;\n",
              "    }\n",
              "\n",
              "    .dataframe tbody tr th {\n",
              "        vertical-align: top;\n",
              "    }\n",
              "\n",
              "    .dataframe thead th {\n",
              "        text-align: right;\n",
              "    }\n",
              "</style>\n",
              "<table border=\"1\" class=\"dataframe\">\n",
              "  <thead>\n",
              "    <tr style=\"text-align: right;\">\n",
              "      <th>state</th>\n",
              "      <th>Alabama</th>\n",
              "      <th>Arizona</th>\n",
              "      <th>Arkansas</th>\n",
              "      <th>California</th>\n",
              "      <th>Colorado</th>\n",
              "      <th>Connecticut</th>\n",
              "      <th>Delaware</th>\n",
              "      <th>District of Columbia</th>\n",
              "      <th>Florida</th>\n",
              "      <th>Georgia</th>\n",
              "      <th>Hawaii</th>\n",
              "      <th>Idaho</th>\n",
              "      <th>Illinois</th>\n",
              "      <th>Indiana</th>\n",
              "      <th>Iowa</th>\n",
              "      <th>Kansas</th>\n",
              "      <th>Kentucky</th>\n",
              "      <th>Louisiana</th>\n",
              "      <th>Maine</th>\n",
              "      <th>Maryland</th>\n",
              "      <th>Massachusetts</th>\n",
              "      <th>Michigan</th>\n",
              "      <th>Minnesota</th>\n",
              "      <th>Mississippi</th>\n",
              "      <th>Missouri</th>\n",
              "      <th>Montana</th>\n",
              "      <th>MultiStateOperation</th>\n",
              "      <th>Nebraska</th>\n",
              "      <th>Nevada</th>\n",
              "      <th>New Hampshire</th>\n",
              "      <th>New Jersey</th>\n",
              "      <th>New Mexico</th>\n",
              "      <th>New York</th>\n",
              "      <th>North Carolina</th>\n",
              "      <th>North Dakota</th>\n",
              "      <th>Ohio</th>\n",
              "      <th>Oklahoma</th>\n",
              "      <th>Oregon</th>\n",
              "      <th>Pennsylvania</th>\n",
              "      <th>Rhode Island</th>\n",
              "      <th>South Carolina</th>\n",
              "      <th>South Dakota</th>\n",
              "      <th>Tennessee</th>\n",
              "      <th>Texas</th>\n",
              "      <th>Utah</th>\n",
              "      <th>Vermont</th>\n",
              "      <th>Virginia</th>\n",
              "      <th>Washington</th>\n",
              "      <th>West Virginia</th>\n",
              "      <th>Wisconsin</th>\n",
              "      <th>Wyoming</th>\n",
              "    </tr>\n",
              "    <tr>\n",
              "      <th>year</th>\n",
              "      <th></th>\n",
              "      <th></th>\n",
              "      <th></th>\n",
              "      <th></th>\n",
              "      <th></th>\n",
              "      <th></th>\n",
              "      <th></th>\n",
              "      <th></th>\n",
              "      <th></th>\n",
              "      <th></th>\n",
              "      <th></th>\n",
              "      <th></th>\n",
              "      <th></th>\n",
              "      <th></th>\n",
              "      <th></th>\n",
              "      <th></th>\n",
              "      <th></th>\n",
              "      <th></th>\n",
              "      <th></th>\n",
              "      <th></th>\n",
              "      <th></th>\n",
              "      <th></th>\n",
              "      <th></th>\n",
              "      <th></th>\n",
              "      <th></th>\n",
              "      <th></th>\n",
              "      <th></th>\n",
              "      <th></th>\n",
              "      <th></th>\n",
              "      <th></th>\n",
              "      <th></th>\n",
              "      <th></th>\n",
              "      <th></th>\n",
              "      <th></th>\n",
              "      <th></th>\n",
              "      <th></th>\n",
              "      <th></th>\n",
              "      <th></th>\n",
              "      <th></th>\n",
              "      <th></th>\n",
              "      <th></th>\n",
              "      <th></th>\n",
              "      <th></th>\n",
              "      <th></th>\n",
              "      <th></th>\n",
              "      <th></th>\n",
              "      <th></th>\n",
              "      <th></th>\n",
              "      <th></th>\n",
              "      <th></th>\n",
              "      <th></th>\n",
              "    </tr>\n",
              "  </thead>\n",
              "  <tbody>\n",
              "    <tr>\n",
              "      <th>2010/11</th>\n",
              "      <td>63.80</td>\n",
              "      <td>466.23</td>\n",
              "      <td>29.01</td>\n",
              "      <td>46584.22</td>\n",
              "      <td>286.77</td>\n",
              "      <td>291.04</td>\n",
              "      <td>15.99</td>\n",
              "      <td>NaN</td>\n",
              "      <td>7861.05</td>\n",
              "      <td>5016.78</td>\n",
              "      <td>417.67</td>\n",
              "      <td>2370.44</td>\n",
              "      <td>594.08</td>\n",
              "      <td>2203.42</td>\n",
              "      <td>836.86</td>\n",
              "      <td>68.08</td>\n",
              "      <td>144.05</td>\n",
              "      <td>3913.31</td>\n",
              "      <td>4925.49</td>\n",
              "      <td>363.38</td>\n",
              "      <td>327.17</td>\n",
              "      <td>8617.20</td>\n",
              "      <td>16310.65</td>\n",
              "      <td>13318.83</td>\n",
              "      <td>203.19</td>\n",
              "      <td>4031.52</td>\n",
              "      <td>43567.42</td>\n",
              "      <td>2056.74</td>\n",
              "      <td>NaN</td>\n",
              "      <td>165.90</td>\n",
              "      <td>84.94</td>\n",
              "      <td>2.99</td>\n",
              "      <td>5582.16</td>\n",
              "      <td>1452.87</td>\n",
              "      <td>15422.00</td>\n",
              "      <td>378.25</td>\n",
              "      <td>216.14</td>\n",
              "      <td>3245.89</td>\n",
              "      <td>6289.92</td>\n",
              "      <td>55.03</td>\n",
              "      <td>291.15</td>\n",
              "      <td>1255.30</td>\n",
              "      <td>151.06</td>\n",
              "      <td>13558.59</td>\n",
              "      <td>634.14</td>\n",
              "      <td>305.32</td>\n",
              "      <td>608.33</td>\n",
              "      <td>4369.26</td>\n",
              "      <td>400.07</td>\n",
              "      <td>2417.50</td>\n",
              "      <td>NaN</td>\n",
              "    </tr>\n",
              "    <tr>\n",
              "      <th>2011/12</th>\n",
              "      <td>157.14</td>\n",
              "      <td>120.06</td>\n",
              "      <td>134.92</td>\n",
              "      <td>46297.40</td>\n",
              "      <td>337.69</td>\n",
              "      <td>96.14</td>\n",
              "      <td>241.11</td>\n",
              "      <td>1601.08</td>\n",
              "      <td>20540.94</td>\n",
              "      <td>6162.91</td>\n",
              "      <td>2800.51</td>\n",
              "      <td>1815.70</td>\n",
              "      <td>539.54</td>\n",
              "      <td>438.25</td>\n",
              "      <td>343.04</td>\n",
              "      <td>229.12</td>\n",
              "      <td>320.66</td>\n",
              "      <td>920.49</td>\n",
              "      <td>16394.00</td>\n",
              "      <td>564.35</td>\n",
              "      <td>12434.21</td>\n",
              "      <td>2143.48</td>\n",
              "      <td>252.86</td>\n",
              "      <td>NaN</td>\n",
              "      <td>222.87</td>\n",
              "      <td>4203.49</td>\n",
              "      <td>43153.33</td>\n",
              "      <td>4007.00</td>\n",
              "      <td>560.29</td>\n",
              "      <td>130.13</td>\n",
              "      <td>215.99</td>\n",
              "      <td>81.97</td>\n",
              "      <td>5243.74</td>\n",
              "      <td>815.75</td>\n",
              "      <td>13836.15</td>\n",
              "      <td>1643.22</td>\n",
              "      <td>56.94</td>\n",
              "      <td>5567.64</td>\n",
              "      <td>6051.21</td>\n",
              "      <td>16.00</td>\n",
              "      <td>495.30</td>\n",
              "      <td>NaN</td>\n",
              "      <td>318.26</td>\n",
              "      <td>4290.09</td>\n",
              "      <td>1773.95</td>\n",
              "      <td>273.43</td>\n",
              "      <td>711.00</td>\n",
              "      <td>10202.87</td>\n",
              "      <td>236.99</td>\n",
              "      <td>343.29</td>\n",
              "      <td>NaN</td>\n",
              "    </tr>\n",
              "    <tr>\n",
              "      <th>2012/13</th>\n",
              "      <td>428.13</td>\n",
              "      <td>489.85</td>\n",
              "      <td>669.06</td>\n",
              "      <td>286660.83</td>\n",
              "      <td>725.38</td>\n",
              "      <td>634.18</td>\n",
              "      <td>11998.43</td>\n",
              "      <td>374.12</td>\n",
              "      <td>35602.56</td>\n",
              "      <td>7203.00</td>\n",
              "      <td>752.03</td>\n",
              "      <td>33135.67</td>\n",
              "      <td>1452.51</td>\n",
              "      <td>1107.58</td>\n",
              "      <td>2408.70</td>\n",
              "      <td>1054.56</td>\n",
              "      <td>306.68</td>\n",
              "      <td>344.02</td>\n",
              "      <td>32353.71</td>\n",
              "      <td>13200.67</td>\n",
              "      <td>8586.58</td>\n",
              "      <td>16559.75</td>\n",
              "      <td>41584.00</td>\n",
              "      <td>94361.09</td>\n",
              "      <td>415.16</td>\n",
              "      <td>10669.84</td>\n",
              "      <td>283236.62</td>\n",
              "      <td>79048.11</td>\n",
              "      <td>NaN</td>\n",
              "      <td>267.91</td>\n",
              "      <td>18758.19</td>\n",
              "      <td>43.03</td>\n",
              "      <td>29719.81</td>\n",
              "      <td>2720.02</td>\n",
              "      <td>122209.51</td>\n",
              "      <td>11822.64</td>\n",
              "      <td>5471.36</td>\n",
              "      <td>8371.14</td>\n",
              "      <td>21281.54</td>\n",
              "      <td>72.00</td>\n",
              "      <td>1242.94</td>\n",
              "      <td>80898.03</td>\n",
              "      <td>697.50</td>\n",
              "      <td>57151.02</td>\n",
              "      <td>7891.44</td>\n",
              "      <td>1252.51</td>\n",
              "      <td>14000.16</td>\n",
              "      <td>34691.79</td>\n",
              "      <td>1526.69</td>\n",
              "      <td>15786.19</td>\n",
              "      <td>8963.55</td>\n",
              "    </tr>\n",
              "    <tr>\n",
              "      <th>2013/14</th>\n",
              "      <td>479.77</td>\n",
              "      <td>222.13</td>\n",
              "      <td>3190.49</td>\n",
              "      <td>142683.92</td>\n",
              "      <td>21049.65</td>\n",
              "      <td>1249.30</td>\n",
              "      <td>9069.06</td>\n",
              "      <td>323.09</td>\n",
              "      <td>29923.20</td>\n",
              "      <td>8663.26</td>\n",
              "      <td>4225.53</td>\n",
              "      <td>31526.87</td>\n",
              "      <td>1555.42</td>\n",
              "      <td>1927.21</td>\n",
              "      <td>1414.23</td>\n",
              "      <td>314.13</td>\n",
              "      <td>690.11</td>\n",
              "      <td>3499.35</td>\n",
              "      <td>18312.16</td>\n",
              "      <td>10179.56</td>\n",
              "      <td>2412.46</td>\n",
              "      <td>13102.14</td>\n",
              "      <td>36696.42</td>\n",
              "      <td>51123.69</td>\n",
              "      <td>579.34</td>\n",
              "      <td>7148.09</td>\n",
              "      <td>167805.46</td>\n",
              "      <td>23454.89</td>\n",
              "      <td>251.67</td>\n",
              "      <td>192.07</td>\n",
              "      <td>10746.80</td>\n",
              "      <td>39.98</td>\n",
              "      <td>16568.76</td>\n",
              "      <td>22535.61</td>\n",
              "      <td>72902.32</td>\n",
              "      <td>11384.96</td>\n",
              "      <td>3844.22</td>\n",
              "      <td>16709.88</td>\n",
              "      <td>17678.34</td>\n",
              "      <td>80.04</td>\n",
              "      <td>1077.09</td>\n",
              "      <td>28953.87</td>\n",
              "      <td>748.51</td>\n",
              "      <td>66870.03</td>\n",
              "      <td>2639.21</td>\n",
              "      <td>1073.85</td>\n",
              "      <td>11576.47</td>\n",
              "      <td>25065.32</td>\n",
              "      <td>527.74</td>\n",
              "      <td>19679.97</td>\n",
              "      <td>4613.75</td>\n",
              "    </tr>\n",
              "    <tr>\n",
              "      <th>2014/15</th>\n",
              "      <td>241.92</td>\n",
              "      <td>679.73</td>\n",
              "      <td>1655.72</td>\n",
              "      <td>161900.39</td>\n",
              "      <td>32176.88</td>\n",
              "      <td>370.16</td>\n",
              "      <td>28344.26</td>\n",
              "      <td>NaN</td>\n",
              "      <td>33869.04</td>\n",
              "      <td>2067.13</td>\n",
              "      <td>1680.93</td>\n",
              "      <td>26094.97</td>\n",
              "      <td>821.81</td>\n",
              "      <td>378.79</td>\n",
              "      <td>740.48</td>\n",
              "      <td>528.30</td>\n",
              "      <td>385.12</td>\n",
              "      <td>1920.41</td>\n",
              "      <td>28417.46</td>\n",
              "      <td>14968.61</td>\n",
              "      <td>681.82</td>\n",
              "      <td>3559.06</td>\n",
              "      <td>69355.40</td>\n",
              "      <td>8003.55</td>\n",
              "      <td>639.97</td>\n",
              "      <td>14845.82</td>\n",
              "      <td>180174.08</td>\n",
              "      <td>35716.62</td>\n",
              "      <td>494.75</td>\n",
              "      <td>185.18</td>\n",
              "      <td>411.15</td>\n",
              "      <td>939.06</td>\n",
              "      <td>30288.04</td>\n",
              "      <td>1123.20</td>\n",
              "      <td>96600.22</td>\n",
              "      <td>2278.90</td>\n",
              "      <td>11587.62</td>\n",
              "      <td>11165.11</td>\n",
              "      <td>32447.77</td>\n",
              "      <td>192.08</td>\n",
              "      <td>747.49</td>\n",
              "      <td>36248.01</td>\n",
              "      <td>613.83</td>\n",
              "      <td>84741.96</td>\n",
              "      <td>6996.19</td>\n",
              "      <td>249.27</td>\n",
              "      <td>2141.35</td>\n",
              "      <td>58272.86</td>\n",
              "      <td>457.36</td>\n",
              "      <td>31006.01</td>\n",
              "      <td>5915.00</td>\n",
              "    </tr>\n",
              "  </tbody>\n",
              "</table>\n",
              "</div>"
            ],
            "text/plain": [
              "state       Alabama    Arizona   ...   Wisconsin    Wyoming \n",
              "year                             ...                        \n",
              " 2010/11       63.80     466.23  ...      2417.50        NaN\n",
              " 2011/12      157.14     120.06  ...       343.29        NaN\n",
              " 2012/13      428.13     489.85  ...     15786.19    8963.55\n",
              " 2013/14      479.77     222.13  ...     19679.97    4613.75\n",
              " 2014/15      241.92     679.73  ...     31006.01    5915.00\n",
              "\n",
              "[5 rows x 51 columns]"
            ]
          },
          "metadata": {
            "tags": []
          },
          "execution_count": 39
        }
      ]
    },
    {
      "cell_type": "code",
      "metadata": {
        "id": "cp8IB0JRfv_h",
        "colab_type": "code",
        "colab": {}
      },
      "source": [
        "g.loc['average']=g.mean(axis=0,skipna=True)\n",
        "g\n",
        "g.T\n",
        "gt=g.T"
      ],
      "execution_count": 0,
      "outputs": []
    },
    {
      "cell_type": "code",
      "metadata": {
        "id": "dbrsJYXDsn_d",
        "colab_type": "code",
        "outputId": "e8934c22-b824-4062-b311-2e7b9560fa5a",
        "colab": {
          "base_uri": "https://localhost:8080/",
          "height": 225
        }
      },
      "source": [
        "gt.head()"
      ],
      "execution_count": 0,
      "outputs": [
        {
          "output_type": "execute_result",
          "data": {
            "text/html": [
              "<div>\n",
              "<style scoped>\n",
              "    .dataframe tbody tr th:only-of-type {\n",
              "        vertical-align: middle;\n",
              "    }\n",
              "\n",
              "    .dataframe tbody tr th {\n",
              "        vertical-align: top;\n",
              "    }\n",
              "\n",
              "    .dataframe thead th {\n",
              "        text-align: right;\n",
              "    }\n",
              "</style>\n",
              "<table border=\"1\" class=\"dataframe\">\n",
              "  <thead>\n",
              "    <tr style=\"text-align: right;\">\n",
              "      <th>year</th>\n",
              "      <th>2010/11</th>\n",
              "      <th>2011/12</th>\n",
              "      <th>2012/13</th>\n",
              "      <th>2013/14</th>\n",
              "      <th>2014/15</th>\n",
              "      <th>2015/16</th>\n",
              "      <th>2016/17</th>\n",
              "      <th>average</th>\n",
              "    </tr>\n",
              "    <tr>\n",
              "      <th>state</th>\n",
              "      <th></th>\n",
              "      <th></th>\n",
              "      <th></th>\n",
              "      <th></th>\n",
              "      <th></th>\n",
              "      <th></th>\n",
              "      <th></th>\n",
              "      <th></th>\n",
              "    </tr>\n",
              "  </thead>\n",
              "  <tbody>\n",
              "    <tr>\n",
              "      <th>Alabama</th>\n",
              "      <td>63.80</td>\n",
              "      <td>157.14</td>\n",
              "      <td>428.13</td>\n",
              "      <td>479.77</td>\n",
              "      <td>241.92</td>\n",
              "      <td>152.79</td>\n",
              "      <td>199.98</td>\n",
              "      <td>246.218571</td>\n",
              "    </tr>\n",
              "    <tr>\n",
              "      <th>Arizona</th>\n",
              "      <td>466.23</td>\n",
              "      <td>120.06</td>\n",
              "      <td>489.85</td>\n",
              "      <td>222.13</td>\n",
              "      <td>679.73</td>\n",
              "      <td>14.99</td>\n",
              "      <td>343.20</td>\n",
              "      <td>333.741429</td>\n",
              "    </tr>\n",
              "    <tr>\n",
              "      <th>Arkansas</th>\n",
              "      <td>29.01</td>\n",
              "      <td>134.92</td>\n",
              "      <td>669.06</td>\n",
              "      <td>3190.49</td>\n",
              "      <td>1655.72</td>\n",
              "      <td>1020.10</td>\n",
              "      <td>1263.65</td>\n",
              "      <td>1137.564286</td>\n",
              "    </tr>\n",
              "    <tr>\n",
              "      <th>California</th>\n",
              "      <td>46584.22</td>\n",
              "      <td>46297.40</td>\n",
              "      <td>286660.83</td>\n",
              "      <td>142683.92</td>\n",
              "      <td>161900.39</td>\n",
              "      <td>192597.80</td>\n",
              "      <td>116927.55</td>\n",
              "      <td>141950.301429</td>\n",
              "    </tr>\n",
              "    <tr>\n",
              "      <th>Colorado</th>\n",
              "      <td>286.77</td>\n",
              "      <td>337.69</td>\n",
              "      <td>725.38</td>\n",
              "      <td>21049.65</td>\n",
              "      <td>32176.88</td>\n",
              "      <td>944.09</td>\n",
              "      <td>323.13</td>\n",
              "      <td>7977.655714</td>\n",
              "    </tr>\n",
              "  </tbody>\n",
              "</table>\n",
              "</div>"
            ],
            "text/plain": [
              "year           2010/11    2011/12   ...   2016/17         average\n",
              "state                               ...                          \n",
              " Alabama          63.80     157.14  ...     199.98     246.218571\n",
              " Arizona         466.23     120.06  ...     343.20     333.741429\n",
              " Arkansas         29.01     134.92  ...    1263.65    1137.564286\n",
              " California    46584.22   46297.40  ...  116927.55  141950.301429\n",
              " Colorado        286.77     337.69  ...     323.13    7977.655714\n",
              "\n",
              "[5 rows x 8 columns]"
            ]
          },
          "metadata": {
            "tags": []
          },
          "execution_count": 41
        }
      ]
    },
    {
      "cell_type": "code",
      "metadata": {
        "id": "agj4TIjcUUXq",
        "colab_type": "code",
        "colab": {}
      },
      "source": [
        "\n",
        "gt.tail(50)"
      ],
      "execution_count": 0,
      "outputs": []
    },
    {
      "cell_type": "code",
      "metadata": {
        "id": "ja92YFfNcmg-",
        "colab_type": "code",
        "outputId": "561d850b-f621-4ac3-cdff-81226ce7ae0b",
        "colab": {
          "base_uri": "https://localhost:8080/",
          "height": 106
        }
      },
      "source": [
        "gt.loc['total']=g.sum(axis=1,skipna=True)\n",
        "gt.tail(1)"
      ],
      "execution_count": 0,
      "outputs": [
        {
          "output_type": "execute_result",
          "data": {
            "text/html": [
              "<div>\n",
              "<style scoped>\n",
              "    .dataframe tbody tr th:only-of-type {\n",
              "        vertical-align: middle;\n",
              "    }\n",
              "\n",
              "    .dataframe tbody tr th {\n",
              "        vertical-align: top;\n",
              "    }\n",
              "\n",
              "    .dataframe thead th {\n",
              "        text-align: right;\n",
              "    }\n",
              "</style>\n",
              "<table border=\"1\" class=\"dataframe\">\n",
              "  <thead>\n",
              "    <tr style=\"text-align: right;\">\n",
              "      <th>year</th>\n",
              "      <th>2010/11</th>\n",
              "      <th>2011/12</th>\n",
              "      <th>2012/13</th>\n",
              "      <th>2013/14</th>\n",
              "      <th>2014/15</th>\n",
              "      <th>2015/16</th>\n",
              "      <th>2016/17</th>\n",
              "      <th>average</th>\n",
              "    </tr>\n",
              "    <tr>\n",
              "      <th>state</th>\n",
              "      <th></th>\n",
              "      <th></th>\n",
              "      <th></th>\n",
              "      <th></th>\n",
              "      <th></th>\n",
              "      <th></th>\n",
              "      <th></th>\n",
              "      <th></th>\n",
              "    </tr>\n",
              "  </thead>\n",
              "  <tbody>\n",
              "    <tr>\n",
              "      <th>total</th>\n",
              "      <td>221771.2</td>\n",
              "      <td>219336.5</td>\n",
              "      <td>1410201.79</td>\n",
              "      <td>928581.39</td>\n",
              "      <td>1065320.84</td>\n",
              "      <td>987130.64</td>\n",
              "      <td>541317.33</td>\n",
              "      <td>778930.899429</td>\n",
              "    </tr>\n",
              "  </tbody>\n",
              "</table>\n",
              "</div>"
            ],
            "text/plain": [
              "year    2010/11    2011/12     2012/13   ...   2015/16    2016/17         average\n",
              "state                                    ...                                     \n",
              "total   221771.2   219336.5  1410201.79  ...  987130.64  541317.33  778930.899429\n",
              "\n",
              "[1 rows x 8 columns]"
            ]
          },
          "metadata": {
            "tags": []
          },
          "execution_count": 43
        }
      ]
    },
    {
      "cell_type": "code",
      "metadata": {
        "id": "2l_zNk-F0udY",
        "colab_type": "code",
        "colab": {}
      },
      "source": [
        "#gtc.head()"
      ],
      "execution_count": 0,
      "outputs": []
    },
    {
      "cell_type": "code",
      "metadata": {
        "id": "o_ofeMQEYpux",
        "colab_type": "code",
        "outputId": "a88c8228-5eac-42e6-c465-7a3263b91f07",
        "colab": {
          "base_uri": "https://localhost:8080/",
          "height": 508
        }
      },
      "source": [
        "from matplotlib.ticker import FuncFormatter\n",
        "import matplotlib.pyplot as plt\n",
        "import numpy as np\n",
        "import pandas as pd\n",
        "plt.style.use('fivethirtyeight')\n",
        "x = [2010, 2011, 2012, 2013, 2014, 2015, 2016]\t \n",
        "y =[221771.2,219336.5,1410201.79,928581.39,1065320.84,987130.54,541317.33]\n",
        "\n",
        "x = np.arange(7)\n",
        "money = [221771.2,219336.5,1410201.79,928581.39,1065320.84,987130.54,541317.33]\n",
        "fig, ax1 = plt.subplots()\n",
        "\n",
        "def millions(x, pos):\n",
        "    'The two args are the value and tick position'\n",
        "    return '$%1.1fM' % (x * 1e-6)\n",
        "\n",
        "formatter = FuncFormatter(millions)\n",
        "ax.set_ylabel('Percent of total votes', fontsize=9, fontweight='bold')\n",
        "ax.set_xlabel('Rating', fontsize=9, fontweight='bold', labelpad=10)\n",
        "\n",
        "\n",
        "\n",
        "#fig = plt.figure()\n",
        "fig.patch.set(facecolor='#FFD700')\n",
        "plt.style.use(['dark_background'])\n",
        "ax.yaxis.set_major_formatter(formatter)\n",
        "plt.xlabel('year')\n",
        "\n",
        "plt.ylabel('Quantity Bee Colony Loss',fontsize=16)\n",
        "plt.bar(x, height=y,color='black',edgecolor='white')\n",
        "plt.xticks(x,( 2010, 2011, 2012, 2013, 2014, 2015, 2016))\n",
        "plt.title('Bee Colony Loss Bar Chart',fontsize=20)\n",
        "plt.show()\n",
        " "
      ],
      "execution_count": 0,
      "outputs": [
        {
          "output_type": "display_data",
          "data": {
            "image/png": "[encoded data removed]",
            "text/plain": [
              "<Figure size 640x480 with 1 Axes>"
            ]
          },
          "metadata": {
            "tags": []
          }
        }
      ]
    },
    {
      "cell_type": "code",
      "metadata": {
        "id": "lmfOH_C1X9Bn",
        "colab_type": "code",
        "outputId": "d1974018-b8c4-4bff-8053-fd198ec6ae55",
        "colab": {
          "base_uri": "https://localhost:8080/",
          "height": 508
        }
      },
      "source": [
        "from matplotlib.ticker import FuncFormatter\n",
        "import matplotlib.pyplot as plt\n",
        "import numpy as np\n",
        "import pandas as pd\n",
        "plt.style.use('fivethirtyeight')\n",
        "x = [2010, 2011, 2012, 2013, 2014, 2015, 2016]\t \n",
        "y =[603574,694292,3006214,2750691,2517608,2341662,1640309]\n",
        "\n",
        "x = np.arange(7)\n",
        "money = [603574,694292,3006214,2750691,2517608,2341662,1640309]\n",
        "\n",
        "\n",
        "def millions(x, pos):\n",
        "    'The two args are the value and tick position'\n",
        "    return '$%1.1fM' % (x * 1e-6)\n",
        "fig, ax1 = plt.subplots()\n",
        "\n",
        "formatter = FuncFormatter(millions)\n",
        "ax.set_ylabel('Percent of total votes', fontsize=9, fontweight='bold')\n",
        "ax.set_xlabel('Rating', fontsize=9, fontweight='bold', labelpad=10)\n",
        "ax.set(facecolor='white')\n",
        "\n",
        "#fig = plt.figure()\n",
        "fig.patch.set(facecolor='#FFD700')\n",
        "ax.yaxis.set_major_formatter(formatter)\n",
        "plt.xlabel('year')\n",
        "\n",
        "plt.ylabel('Quantity Bee Colonies',fontsize=16)\n",
        "plt.bar(x, height=y,color='black',edgecolor='black')\n",
        "plt.xticks(x,( 2010, 2011, 2012, 2013, 2014, 2015, 2016))\n",
        "plt.title('Bee Colonies Across the USA',fontsize=20)\n",
        "plt.show()"
      ],
      "execution_count": 0,
      "outputs": [
        {
          "output_type": "display_data",
          "data": {
            "image/png": "[encoded data removed]",
            "text/plain": [
              "<Figure size 640x480 with 1 Axes>"
            ]
          },
          "metadata": {
            "tags": []
          }
        }
      ]
    },
    {
      "cell_type": "code",
      "metadata": {
        "id": "xclncKWlNkNw",
        "colab_type": "code",
        "outputId": "0c7a7553-ccab-40e2-cfd4-aa63b28bfa5f",
        "colab": {
          "base_uri": "https://localhost:8080/",
          "height": 325
        }
      },
      "source": [
        "from matplotlib.ticker import FuncFormatter\n",
        "import matplotlib.pyplot as plt\n",
        "import numpy as np\n",
        "import pandas as pd\n",
        "plt.style.use('fivethirtyeight')\n",
        "x = [2010, 2011, 2012, 2013, 2014, 2015, 2016]\t \n",
        "y =[2630,3223,4516,6202,5134,4973,4324]\n",
        "\n",
        "x = np.arange(7)\n",
        "\n",
        "\n",
        "\n",
        "# def millions(x, pos):\n",
        "#     'The two args are the value and tick position'\n",
        "#     return '$%1.1fM' % (x * 1e-6)\n",
        "\n",
        "fig, ax = plt.subplots()\n",
        "formatter = FuncFormatter(millions)\n",
        "ax.set(facecolor='white')\n",
        "\n",
        "#fig = plt.figure()\n",
        "fig.patch.set(facecolor='white')\n",
        "ax.yaxis.set_major_formatter(formatter)\n",
        "plt.xlabel('year')\n",
        "\n",
        "plt.ylabel('Quantity of Bee Keepers',fontsize=16)\n",
        "plt.bar(x, height=y,color='#FF8C00',edgecolor='black')\n",
        "plt.xticks(x,( 2010, 2011, 2012, 2013, 2014, 2015, 2016))\n",
        "plt.title('Bee Keepers Across the USA',fontsize=20)\n",
        "plt.show()"
      ],
      "execution_count": 0,
      "outputs": [
        {
          "output_type": "display_data",
          "data": {
            "image/png": "[encoded data removed]",
            "text/plain": [
              "<Figure size 432x288 with 1 Axes>"
            ]
          },
          "metadata": {
            "tags": []
          }
        }
      ]
    },
    {
      "cell_type": "code",
      "metadata": {
        "id": "2cuC3TWeUAng",
        "colab_type": "code",
        "outputId": "83807240-10b9-4199-9265-39b4a6231542",
        "colab": {
          "base_uri": "https://localhost:8080/",
          "height": 472
        }
      },
      "source": [
        "import matplotlib.pyplot as plt\n",
        "from matplotlib.dates import date2num\n",
        "import datetime\n",
        "\n",
        "N=7  # number if items in list\n",
        "\n",
        "x = [2630,3223,4516,6202,5134,4973,4324]\n",
        "y = [603574,694292,3006214,2750691,2517608,2341662,1640309]\n",
        "\n",
        "fig, ax1 = plt.subplots()\n",
        "color = 'tab:red'                             # bars      red\n",
        "ind = np.arange(N) \n",
        "width = 0.35       \n",
        "ax1.bar(ind, x, width, label='beekeepers', color=color) # bars red\n",
        "ax2 = ax1.twinx()                             # bars      blue\n",
        "ax2.bar(ind + width, y, width,label='bees')   # bars      blue\n",
        "ax1.set_ylabel('Beekeepers',color=color)       # beekeeper red\n",
        "color = 'tab:blue'                            # bees     blue\n",
        "ax2.set_ylabel('bees', color=color)           # bees      label\n",
        "\n",
        "ax1.set_xlabel('Year')\n",
        "plt.title('RED Bee Keepers and BLUE Bees')#, color=color)\n",
        "plt.xticks(ind + width / 4, (2010, 2011, 2012, 2013, 2014, 2015, 2016))\n",
        "plt.legend(loc='best')\n",
        "ax1.legend();"
      ],
      "execution_count": 0,
      "outputs": [
        {
          "output_type": "display_data",
          "data": {
            "image/png": "[encoded data removed]",
            "text/plain": [
              "<Figure size 640x480 with 2 Axes>"
            ]
          },
          "metadata": {
            "tags": []
          }
        }
      ]
    },
    {
      "cell_type": "code",
      "metadata": {
        "id": "8D6cRhQmoN1Z",
        "colab_type": "code",
        "colab": {}
      },
      "source": [
        ""
      ],
      "execution_count": 0,
      "outputs": []
    },
    {
      "cell_type": "code",
      "metadata": {
        "id": "twZM_zIUW271",
        "colab_type": "code",
        "outputId": "14365442-8c6f-4ca1-8cec-65b7ad1dc758",
        "colab": {
          "base_uri": "https://localhost:8080/",
          "height": 488
        }
      },
      "source": [
        "import matplotlib.pyplot as plt\n",
        "# Plot the mean results\n",
        "# Define labels, positions, bar heights and error bar heights\n",
        "\n",
        "fig = plt.figure()\n",
        "fig, ax = plt.subplots(figsize=(12, 5))\n",
        "plt.rcParams.update(plt.rcParamsDefault)\n",
        "x1 = [2010, 2011, 2012, 2013, 2014, 2015, 2016]\n",
        "\n",
        "y2 =[221771.2,219336.5,1410201.79,928581.39,1065320.84,987130.54,541317.33] \n",
        "ax.plot(x1, y2, color = 'blue', label=\"Bee Colony Loss\")\n",
        "plt.errorbar(x1, y2, linestyle=\"--\", color = 'blue')\n",
        "\n",
        "plt.legend(frameon=False)\n",
        "plt.xlabel('Year', fontsize=14)\n",
        "plt.ylabel('Bee Colony Loss', fontsize=14)\n",
        "plt.show()"
      ],
      "execution_count": 0,
      "outputs": [
        {
          "output_type": "display_data",
          "data": {
            "text/plain": [
              "<Figure size 640x480 with 0 Axes>"
            ]
          },
          "metadata": {
            "tags": []
          }
        },
        {
          "output_type": "display_data",
          "data": {
            "image/png": "[encoded data removed]",
            "text/plain": [
              "<Figure size 1200x500 with 1 Axes>"
            ]
          },
          "metadata": {
            "tags": []
          }
        }
      ]
    },
    {
      "cell_type": "markdown",
      "metadata": {
        "id": "HhyW4BKsGTo6",
        "colab_type": "text"
      },
      "source": [
        "Bat Man"
      ]
    }
  ]
}