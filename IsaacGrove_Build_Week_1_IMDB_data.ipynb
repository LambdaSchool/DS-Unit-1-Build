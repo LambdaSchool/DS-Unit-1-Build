{
  "nbformat": 4,
  "nbformat_minor": 0,
  "metadata": {
    "colab": {
      "name": "IsaacGrove_Build_Week_1_IMDB_data.ipynb",
      "provenance": [],
      "machine_shape": "hm",
      "authorship_tag": "ABX9TyPXM0RR+ethYOOm4kBKxQXA",
      "include_colab_link": true
    },
    "kernelspec": {
      "name": "python3",
      "display_name": "Python 3"
    }
  },
  "cells": [
    {
      "cell_type": "markdown",
      "metadata": {
        "id": "view-in-github",
        "colab_type": "text"
      },
      "source": [
        "<a href=\"https://colab.research.google.com/github/isaacgrove/DS-Unit-1-Build/blob/master/IsaacGrove_Build_Week_1_IMDB_data.ipynb\" target=\"_parent\"><img src=\"https://colab.research.google.com/assets/colab-badge.svg\" alt=\"Open In Colab\"/></a>"
      ]
    },
    {
      "cell_type": "code",
      "metadata": {
        "id": "-wmN2f13jnKm",
        "colab_type": "code",
        "colab": {}
      },
      "source": [
        "import pandas as pd"
      ],
      "execution_count": 0,
      "outputs": []
    },
    {
      "cell_type": "code",
      "metadata": {
        "id": "Lr8rf-SBjs2-",
        "colab_type": "code",
        "colab": {}
      },
      "source": [
        "# title basics\n",
        "title_url = 'https://datasets.imdbws.com/title.basics.tsv.gz'\n",
        "\n",
        "\n",
        "# crew (directors & writers)\n",
        "crew_url = 'https://datasets.imdbws.com/title.crew.tsv.gz'\n",
        "\n",
        "# ratings\n",
        "ratings_url = 'https://datasets.imdbws.com/title.ratings.tsv.gz'\n",
        "\n",
        "\n",
        "\n",
        "\n",
        "# DON'T NEED\n",
        "#\n",
        "# principal actors\n",
        "principals_url = 'https://datasets.imdbws.com/title.principals.tsv.gz'\n",
        "# name basics\n",
        "names_url = 'https://datasets.imdbws.com/name.basics.tsv.gz'\n",
        "# title akas\n",
        "akas_url = 'https://datasets.imdbws.com/title.akas.tsv.gz'\n",
        "# title episode\n",
        "episode_url = 'https://datasets.imdbws.com/title.episode.tsv.gz'\n",
        "#"
      ],
      "execution_count": 0,
      "outputs": []
    },
    {
      "cell_type": "code",
      "metadata": {
        "id": "CSWJbd94t6xN",
        "colab_type": "code",
        "outputId": "180857e3-28b2-4484-bf10-01a1ec12c5ab",
        "colab": {
          "base_uri": "https://localhost:8080/",
          "height": 221
        }
      },
      "source": [
        "# Next few cells simply lay out individual dataframes\n",
        "\n",
        "df_ratings = pd.read_csv(ratings_url,compression='gzip',sep='\\t')\n",
        "print(df_ratings.shape)\n",
        "df_ratings.head()"
      ],
      "execution_count": 3,
      "outputs": [
        {
          "output_type": "stream",
          "text": [
            "(1022151, 3)\n"
          ],
          "name": "stdout"
        },
        {
          "output_type": "execute_result",
          "data": {
            "text/html": [
              "<div>\n",
              "<style scoped>\n",
              "    .dataframe tbody tr th:only-of-type {\n",
              "        vertical-align: middle;\n",
              "    }\n",
              "\n",
              "    .dataframe tbody tr th {\n",
              "        vertical-align: top;\n",
              "    }\n",
              "\n",
              "    .dataframe thead th {\n",
              "        text-align: right;\n",
              "    }\n",
              "</style>\n",
              "<table border=\"1\" class=\"dataframe\">\n",
              "  <thead>\n",
              "    <tr style=\"text-align: right;\">\n",
              "      <th></th>\n",
              "      <th>tconst</th>\n",
              "      <th>averageRating</th>\n",
              "      <th>numVotes</th>\n",
              "    </tr>\n",
              "  </thead>\n",
              "  <tbody>\n",
              "    <tr>\n",
              "      <th>0</th>\n",
              "      <td>tt0000001</td>\n",
              "      <td>5.6</td>\n",
              "      <td>1584</td>\n",
              "    </tr>\n",
              "    <tr>\n",
              "      <th>1</th>\n",
              "      <td>tt0000002</td>\n",
              "      <td>6.1</td>\n",
              "      <td>189</td>\n",
              "    </tr>\n",
              "    <tr>\n",
              "      <th>2</th>\n",
              "      <td>tt0000003</td>\n",
              "      <td>6.5</td>\n",
              "      <td>1244</td>\n",
              "    </tr>\n",
              "    <tr>\n",
              "      <th>3</th>\n",
              "      <td>tt0000004</td>\n",
              "      <td>6.2</td>\n",
              "      <td>117</td>\n",
              "    </tr>\n",
              "    <tr>\n",
              "      <th>4</th>\n",
              "      <td>tt0000005</td>\n",
              "      <td>6.1</td>\n",
              "      <td>1989</td>\n",
              "    </tr>\n",
              "  </tbody>\n",
              "</table>\n",
              "</div>"
            ],
            "text/plain": [
              "      tconst  averageRating  numVotes\n",
              "0  tt0000001            5.6      1584\n",
              "1  tt0000002            6.1       189\n",
              "2  tt0000003            6.5      1244\n",
              "3  tt0000004            6.2       117\n",
              "4  tt0000005            6.1      1989"
            ]
          },
          "metadata": {
            "tags": []
          },
          "execution_count": 3
        }
      ]
    },
    {
      "cell_type": "code",
      "metadata": {
        "id": "bxJWxldnpar8",
        "colab_type": "code",
        "outputId": "7f7bed3f-ca27-480d-8837-f8fe9c1659d6",
        "colab": {
          "base_uri": "https://localhost:8080/",
          "height": 221
        }
      },
      "source": [
        "df_crew = pd.read_csv(crew_url,compression='gzip',sep='\\t')\n",
        "print(df_crew.shape)\n",
        "df_crew.head()\n"
      ],
      "execution_count": 4,
      "outputs": [
        {
          "output_type": "stream",
          "text": [
            "(6524093, 3)\n"
          ],
          "name": "stdout"
        },
        {
          "output_type": "execute_result",
          "data": {
            "text/html": [
              "<div>\n",
              "<style scoped>\n",
              "    .dataframe tbody tr th:only-of-type {\n",
              "        vertical-align: middle;\n",
              "    }\n",
              "\n",
              "    .dataframe tbody tr th {\n",
              "        vertical-align: top;\n",
              "    }\n",
              "\n",
              "    .dataframe thead th {\n",
              "        text-align: right;\n",
              "    }\n",
              "</style>\n",
              "<table border=\"1\" class=\"dataframe\">\n",
              "  <thead>\n",
              "    <tr style=\"text-align: right;\">\n",
              "      <th></th>\n",
              "      <th>tconst</th>\n",
              "      <th>directors</th>\n",
              "      <th>writers</th>\n",
              "    </tr>\n",
              "  </thead>\n",
              "  <tbody>\n",
              "    <tr>\n",
              "      <th>0</th>\n",
              "      <td>tt0000001</td>\n",
              "      <td>nm0005690</td>\n",
              "      <td>\\N</td>\n",
              "    </tr>\n",
              "    <tr>\n",
              "      <th>1</th>\n",
              "      <td>tt0000002</td>\n",
              "      <td>nm0721526</td>\n",
              "      <td>\\N</td>\n",
              "    </tr>\n",
              "    <tr>\n",
              "      <th>2</th>\n",
              "      <td>tt0000003</td>\n",
              "      <td>nm0721526</td>\n",
              "      <td>\\N</td>\n",
              "    </tr>\n",
              "    <tr>\n",
              "      <th>3</th>\n",
              "      <td>tt0000004</td>\n",
              "      <td>nm0721526</td>\n",
              "      <td>\\N</td>\n",
              "    </tr>\n",
              "    <tr>\n",
              "      <th>4</th>\n",
              "      <td>tt0000005</td>\n",
              "      <td>nm0005690</td>\n",
              "      <td>\\N</td>\n",
              "    </tr>\n",
              "  </tbody>\n",
              "</table>\n",
              "</div>"
            ],
            "text/plain": [
              "      tconst  directors writers\n",
              "0  tt0000001  nm0005690      \\N\n",
              "1  tt0000002  nm0721526      \\N\n",
              "2  tt0000003  nm0721526      \\N\n",
              "3  tt0000004  nm0721526      \\N\n",
              "4  tt0000005  nm0005690      \\N"
            ]
          },
          "metadata": {
            "tags": []
          },
          "execution_count": 4
        }
      ]
    },
    {
      "cell_type": "code",
      "metadata": {
        "id": "RmDhT78Jjy5_",
        "colab_type": "code",
        "outputId": "53e06d30-bd56-4d73-e2b6-150c372d34db",
        "colab": {
          "base_uri": "https://localhost:8080/",
          "height": 275
        }
      },
      "source": [
        "# Main df we're starting with. \n",
        "\n",
        "df_title = pd.read_csv(title_url,compression='gzip',sep='\\t')\n",
        "print(df_title.shape)\n",
        "df_title.head()"
      ],
      "execution_count": 5,
      "outputs": [
        {
          "output_type": "stream",
          "text": [
            "/usr/local/lib/python3.6/dist-packages/IPython/core/interactiveshell.py:2718: DtypeWarning: Columns (5) have mixed types. Specify dtype option on import or set low_memory=False.\n",
            "  interactivity=interactivity, compiler=compiler, result=result)\n"
          ],
          "name": "stderr"
        },
        {
          "output_type": "stream",
          "text": [
            "(6524093, 9)\n"
          ],
          "name": "stdout"
        },
        {
          "output_type": "execute_result",
          "data": {
            "text/html": [
              "<div>\n",
              "<style scoped>\n",
              "    .dataframe tbody tr th:only-of-type {\n",
              "        vertical-align: middle;\n",
              "    }\n",
              "\n",
              "    .dataframe tbody tr th {\n",
              "        vertical-align: top;\n",
              "    }\n",
              "\n",
              "    .dataframe thead th {\n",
              "        text-align: right;\n",
              "    }\n",
              "</style>\n",
              "<table border=\"1\" class=\"dataframe\">\n",
              "  <thead>\n",
              "    <tr style=\"text-align: right;\">\n",
              "      <th></th>\n",
              "      <th>tconst</th>\n",
              "      <th>titleType</th>\n",
              "      <th>primaryTitle</th>\n",
              "      <th>originalTitle</th>\n",
              "      <th>isAdult</th>\n",
              "      <th>startYear</th>\n",
              "      <th>endYear</th>\n",
              "      <th>runtimeMinutes</th>\n",
              "      <th>genres</th>\n",
              "    </tr>\n",
              "  </thead>\n",
              "  <tbody>\n",
              "    <tr>\n",
              "      <th>0</th>\n",
              "      <td>tt0000001</td>\n",
              "      <td>short</td>\n",
              "      <td>Carmencita</td>\n",
              "      <td>Carmencita</td>\n",
              "      <td>0</td>\n",
              "      <td>1894</td>\n",
              "      <td>\\N</td>\n",
              "      <td>1</td>\n",
              "      <td>Documentary,Short</td>\n",
              "    </tr>\n",
              "    <tr>\n",
              "      <th>1</th>\n",
              "      <td>tt0000002</td>\n",
              "      <td>short</td>\n",
              "      <td>Le clown et ses chiens</td>\n",
              "      <td>Le clown et ses chiens</td>\n",
              "      <td>0</td>\n",
              "      <td>1892</td>\n",
              "      <td>\\N</td>\n",
              "      <td>5</td>\n",
              "      <td>Animation,Short</td>\n",
              "    </tr>\n",
              "    <tr>\n",
              "      <th>2</th>\n",
              "      <td>tt0000003</td>\n",
              "      <td>short</td>\n",
              "      <td>Pauvre Pierrot</td>\n",
              "      <td>Pauvre Pierrot</td>\n",
              "      <td>0</td>\n",
              "      <td>1892</td>\n",
              "      <td>\\N</td>\n",
              "      <td>4</td>\n",
              "      <td>Animation,Comedy,Romance</td>\n",
              "    </tr>\n",
              "    <tr>\n",
              "      <th>3</th>\n",
              "      <td>tt0000004</td>\n",
              "      <td>short</td>\n",
              "      <td>Un bon bock</td>\n",
              "      <td>Un bon bock</td>\n",
              "      <td>0</td>\n",
              "      <td>1892</td>\n",
              "      <td>\\N</td>\n",
              "      <td>\\N</td>\n",
              "      <td>Animation,Short</td>\n",
              "    </tr>\n",
              "    <tr>\n",
              "      <th>4</th>\n",
              "      <td>tt0000005</td>\n",
              "      <td>short</td>\n",
              "      <td>Blacksmith Scene</td>\n",
              "      <td>Blacksmith Scene</td>\n",
              "      <td>0</td>\n",
              "      <td>1893</td>\n",
              "      <td>\\N</td>\n",
              "      <td>1</td>\n",
              "      <td>Comedy,Short</td>\n",
              "    </tr>\n",
              "  </tbody>\n",
              "</table>\n",
              "</div>"
            ],
            "text/plain": [
              "      tconst titleType  ... runtimeMinutes                    genres\n",
              "0  tt0000001     short  ...              1         Documentary,Short\n",
              "1  tt0000002     short  ...              5           Animation,Short\n",
              "2  tt0000003     short  ...              4  Animation,Comedy,Romance\n",
              "3  tt0000004     short  ...             \\N           Animation,Short\n",
              "4  tt0000005     short  ...              1              Comedy,Short\n",
              "\n",
              "[5 rows x 9 columns]"
            ]
          },
          "metadata": {
            "tags": []
          },
          "execution_count": 5
        }
      ]
    },
    {
      "cell_type": "code",
      "metadata": {
        "id": "Sg7bVMuUMoD6",
        "colab_type": "code",
        "outputId": "63d9cc51-ba79-4502-b86b-8d423b1b4f59",
        "colab": {
          "base_uri": "https://localhost:8080/",
          "height": 204
        }
      },
      "source": [
        "df_title['titleType'].value_counts()"
      ],
      "execution_count": 6,
      "outputs": [
        {
          "output_type": "execute_result",
          "data": {
            "text/plain": [
              "tvEpisode       4611897\n",
              "short            722868\n",
              "movie            542754\n",
              "video            253734\n",
              "tvSeries         178347\n",
              "tvMovie          120829\n",
              "tvMiniSeries      29343\n",
              "tvSpecial         27472\n",
              "videoGame         24974\n",
              "tvShort           11875\n",
              "Name: titleType, dtype: int64"
            ]
          },
          "metadata": {
            "tags": []
          },
          "execution_count": 6
        }
      ]
    },
    {
      "cell_type": "code",
      "metadata": {
        "id": "QTZCIJxEciqb",
        "colab_type": "code",
        "outputId": "824454cb-cc5d-4089-c713-11436c401201",
        "colab": {
          "base_uri": "https://localhost:8080/",
          "height": 221
        }
      },
      "source": [
        "# Only use movies\n",
        "# 500k rows instead of 6.5 million\n",
        "\n",
        "df_movies = df_title[df_title['titleType']=='movie']\n",
        "print(df_movies.shape)\n",
        "df_movies.head()"
      ],
      "execution_count": 7,
      "outputs": [
        {
          "output_type": "stream",
          "text": [
            "(542754, 9)\n"
          ],
          "name": "stdout"
        },
        {
          "output_type": "execute_result",
          "data": {
            "text/html": [
              "<div>\n",
              "<style scoped>\n",
              "    .dataframe tbody tr th:only-of-type {\n",
              "        vertical-align: middle;\n",
              "    }\n",
              "\n",
              "    .dataframe tbody tr th {\n",
              "        vertical-align: top;\n",
              "    }\n",
              "\n",
              "    .dataframe thead th {\n",
              "        text-align: right;\n",
              "    }\n",
              "</style>\n",
              "<table border=\"1\" class=\"dataframe\">\n",
              "  <thead>\n",
              "    <tr style=\"text-align: right;\">\n",
              "      <th></th>\n",
              "      <th>tconst</th>\n",
              "      <th>titleType</th>\n",
              "      <th>primaryTitle</th>\n",
              "      <th>originalTitle</th>\n",
              "      <th>isAdult</th>\n",
              "      <th>startYear</th>\n",
              "      <th>endYear</th>\n",
              "      <th>runtimeMinutes</th>\n",
              "      <th>genres</th>\n",
              "    </tr>\n",
              "  </thead>\n",
              "  <tbody>\n",
              "    <tr>\n",
              "      <th>8</th>\n",
              "      <td>tt0000009</td>\n",
              "      <td>movie</td>\n",
              "      <td>Miss Jerry</td>\n",
              "      <td>Miss Jerry</td>\n",
              "      <td>0</td>\n",
              "      <td>1894</td>\n",
              "      <td>\\N</td>\n",
              "      <td>45</td>\n",
              "      <td>Romance</td>\n",
              "    </tr>\n",
              "    <tr>\n",
              "      <th>145</th>\n",
              "      <td>tt0000147</td>\n",
              "      <td>movie</td>\n",
              "      <td>The Corbett-Fitzsimmons Fight</td>\n",
              "      <td>The Corbett-Fitzsimmons Fight</td>\n",
              "      <td>0</td>\n",
              "      <td>1897</td>\n",
              "      <td>\\N</td>\n",
              "      <td>20</td>\n",
              "      <td>Documentary,News,Sport</td>\n",
              "    </tr>\n",
              "    <tr>\n",
              "      <th>332</th>\n",
              "      <td>tt0000335</td>\n",
              "      <td>movie</td>\n",
              "      <td>Soldiers of the Cross</td>\n",
              "      <td>Soldiers of the Cross</td>\n",
              "      <td>0</td>\n",
              "      <td>1900</td>\n",
              "      <td>\\N</td>\n",
              "      <td>\\N</td>\n",
              "      <td>Biography,Drama</td>\n",
              "    </tr>\n",
              "    <tr>\n",
              "      <th>499</th>\n",
              "      <td>tt0000502</td>\n",
              "      <td>movie</td>\n",
              "      <td>Bohemios</td>\n",
              "      <td>Bohemios</td>\n",
              "      <td>0</td>\n",
              "      <td>1905</td>\n",
              "      <td>\\N</td>\n",
              "      <td>100</td>\n",
              "      <td>\\N</td>\n",
              "    </tr>\n",
              "    <tr>\n",
              "      <th>571</th>\n",
              "      <td>tt0000574</td>\n",
              "      <td>movie</td>\n",
              "      <td>The Story of the Kelly Gang</td>\n",
              "      <td>The Story of the Kelly Gang</td>\n",
              "      <td>0</td>\n",
              "      <td>1906</td>\n",
              "      <td>\\N</td>\n",
              "      <td>70</td>\n",
              "      <td>Biography,Crime,Drama</td>\n",
              "    </tr>\n",
              "  </tbody>\n",
              "</table>\n",
              "</div>"
            ],
            "text/plain": [
              "        tconst titleType  ... runtimeMinutes                  genres\n",
              "8    tt0000009     movie  ...             45                 Romance\n",
              "145  tt0000147     movie  ...             20  Documentary,News,Sport\n",
              "332  tt0000335     movie  ...             \\N         Biography,Drama\n",
              "499  tt0000502     movie  ...            100                      \\N\n",
              "571  tt0000574     movie  ...             70   Biography,Crime,Drama\n",
              "\n",
              "[5 rows x 9 columns]"
            ]
          },
          "metadata": {
            "tags": []
          },
          "execution_count": 7
        }
      ]
    },
    {
      "cell_type": "code",
      "metadata": {
        "id": "67BZmL02c382",
        "colab_type": "code",
        "outputId": "d4c053da-9420-481d-ceb3-0f3c72a8ddde",
        "colab": {
          "base_uri": "https://localhost:8080/",
          "height": 221
        }
      },
      "source": [
        "# Exclude adult films\n",
        "\n",
        "df_movies = df_movies[df_movies['isAdult']==0]\n",
        "print(df_movies.shape)\n",
        "df_movies.head()"
      ],
      "execution_count": 8,
      "outputs": [
        {
          "output_type": "stream",
          "text": [
            "(534057, 9)\n"
          ],
          "name": "stdout"
        },
        {
          "output_type": "execute_result",
          "data": {
            "text/html": [
              "<div>\n",
              "<style scoped>\n",
              "    .dataframe tbody tr th:only-of-type {\n",
              "        vertical-align: middle;\n",
              "    }\n",
              "\n",
              "    .dataframe tbody tr th {\n",
              "        vertical-align: top;\n",
              "    }\n",
              "\n",
              "    .dataframe thead th {\n",
              "        text-align: right;\n",
              "    }\n",
              "</style>\n",
              "<table border=\"1\" class=\"dataframe\">\n",
              "  <thead>\n",
              "    <tr style=\"text-align: right;\">\n",
              "      <th></th>\n",
              "      <th>tconst</th>\n",
              "      <th>titleType</th>\n",
              "      <th>primaryTitle</th>\n",
              "      <th>originalTitle</th>\n",
              "      <th>isAdult</th>\n",
              "      <th>startYear</th>\n",
              "      <th>endYear</th>\n",
              "      <th>runtimeMinutes</th>\n",
              "      <th>genres</th>\n",
              "    </tr>\n",
              "  </thead>\n",
              "  <tbody>\n",
              "    <tr>\n",
              "      <th>8</th>\n",
              "      <td>tt0000009</td>\n",
              "      <td>movie</td>\n",
              "      <td>Miss Jerry</td>\n",
              "      <td>Miss Jerry</td>\n",
              "      <td>0</td>\n",
              "      <td>1894</td>\n",
              "      <td>\\N</td>\n",
              "      <td>45</td>\n",
              "      <td>Romance</td>\n",
              "    </tr>\n",
              "    <tr>\n",
              "      <th>145</th>\n",
              "      <td>tt0000147</td>\n",
              "      <td>movie</td>\n",
              "      <td>The Corbett-Fitzsimmons Fight</td>\n",
              "      <td>The Corbett-Fitzsimmons Fight</td>\n",
              "      <td>0</td>\n",
              "      <td>1897</td>\n",
              "      <td>\\N</td>\n",
              "      <td>20</td>\n",
              "      <td>Documentary,News,Sport</td>\n",
              "    </tr>\n",
              "    <tr>\n",
              "      <th>332</th>\n",
              "      <td>tt0000335</td>\n",
              "      <td>movie</td>\n",
              "      <td>Soldiers of the Cross</td>\n",
              "      <td>Soldiers of the Cross</td>\n",
              "      <td>0</td>\n",
              "      <td>1900</td>\n",
              "      <td>\\N</td>\n",
              "      <td>\\N</td>\n",
              "      <td>Biography,Drama</td>\n",
              "    </tr>\n",
              "    <tr>\n",
              "      <th>499</th>\n",
              "      <td>tt0000502</td>\n",
              "      <td>movie</td>\n",
              "      <td>Bohemios</td>\n",
              "      <td>Bohemios</td>\n",
              "      <td>0</td>\n",
              "      <td>1905</td>\n",
              "      <td>\\N</td>\n",
              "      <td>100</td>\n",
              "      <td>\\N</td>\n",
              "    </tr>\n",
              "    <tr>\n",
              "      <th>571</th>\n",
              "      <td>tt0000574</td>\n",
              "      <td>movie</td>\n",
              "      <td>The Story of the Kelly Gang</td>\n",
              "      <td>The Story of the Kelly Gang</td>\n",
              "      <td>0</td>\n",
              "      <td>1906</td>\n",
              "      <td>\\N</td>\n",
              "      <td>70</td>\n",
              "      <td>Biography,Crime,Drama</td>\n",
              "    </tr>\n",
              "  </tbody>\n",
              "</table>\n",
              "</div>"
            ],
            "text/plain": [
              "        tconst titleType  ... runtimeMinutes                  genres\n",
              "8    tt0000009     movie  ...             45                 Romance\n",
              "145  tt0000147     movie  ...             20  Documentary,News,Sport\n",
              "332  tt0000335     movie  ...             \\N         Biography,Drama\n",
              "499  tt0000502     movie  ...            100                      \\N\n",
              "571  tt0000574     movie  ...             70   Biography,Crime,Drama\n",
              "\n",
              "[5 rows x 9 columns]"
            ]
          },
          "metadata": {
            "tags": []
          },
          "execution_count": 8
        }
      ]
    },
    {
      "cell_type": "code",
      "metadata": {
        "id": "2U0n45rjmv74",
        "colab_type": "code",
        "outputId": "55d750df-f4fd-4b96-ce36-26ecc6f3f90b",
        "colab": {
          "base_uri": "https://localhost:8080/",
          "height": 204
        }
      },
      "source": [
        "# Drop unnecessary columns\n",
        "\n",
        "df_movies = df_movies.drop(['originalTitle', 'isAdult', 'endYear'], axis=1)\n",
        "\n",
        "df_movies.head()"
      ],
      "execution_count": 9,
      "outputs": [
        {
          "output_type": "execute_result",
          "data": {
            "text/html": [
              "<div>\n",
              "<style scoped>\n",
              "    .dataframe tbody tr th:only-of-type {\n",
              "        vertical-align: middle;\n",
              "    }\n",
              "\n",
              "    .dataframe tbody tr th {\n",
              "        vertical-align: top;\n",
              "    }\n",
              "\n",
              "    .dataframe thead th {\n",
              "        text-align: right;\n",
              "    }\n",
              "</style>\n",
              "<table border=\"1\" class=\"dataframe\">\n",
              "  <thead>\n",
              "    <tr style=\"text-align: right;\">\n",
              "      <th></th>\n",
              "      <th>tconst</th>\n",
              "      <th>titleType</th>\n",
              "      <th>primaryTitle</th>\n",
              "      <th>startYear</th>\n",
              "      <th>runtimeMinutes</th>\n",
              "      <th>genres</th>\n",
              "    </tr>\n",
              "  </thead>\n",
              "  <tbody>\n",
              "    <tr>\n",
              "      <th>8</th>\n",
              "      <td>tt0000009</td>\n",
              "      <td>movie</td>\n",
              "      <td>Miss Jerry</td>\n",
              "      <td>1894</td>\n",
              "      <td>45</td>\n",
              "      <td>Romance</td>\n",
              "    </tr>\n",
              "    <tr>\n",
              "      <th>145</th>\n",
              "      <td>tt0000147</td>\n",
              "      <td>movie</td>\n",
              "      <td>The Corbett-Fitzsimmons Fight</td>\n",
              "      <td>1897</td>\n",
              "      <td>20</td>\n",
              "      <td>Documentary,News,Sport</td>\n",
              "    </tr>\n",
              "    <tr>\n",
              "      <th>332</th>\n",
              "      <td>tt0000335</td>\n",
              "      <td>movie</td>\n",
              "      <td>Soldiers of the Cross</td>\n",
              "      <td>1900</td>\n",
              "      <td>\\N</td>\n",
              "      <td>Biography,Drama</td>\n",
              "    </tr>\n",
              "    <tr>\n",
              "      <th>499</th>\n",
              "      <td>tt0000502</td>\n",
              "      <td>movie</td>\n",
              "      <td>Bohemios</td>\n",
              "      <td>1905</td>\n",
              "      <td>100</td>\n",
              "      <td>\\N</td>\n",
              "    </tr>\n",
              "    <tr>\n",
              "      <th>571</th>\n",
              "      <td>tt0000574</td>\n",
              "      <td>movie</td>\n",
              "      <td>The Story of the Kelly Gang</td>\n",
              "      <td>1906</td>\n",
              "      <td>70</td>\n",
              "      <td>Biography,Crime,Drama</td>\n",
              "    </tr>\n",
              "  </tbody>\n",
              "</table>\n",
              "</div>"
            ],
            "text/plain": [
              "        tconst titleType  ... runtimeMinutes                  genres\n",
              "8    tt0000009     movie  ...             45                 Romance\n",
              "145  tt0000147     movie  ...             20  Documentary,News,Sport\n",
              "332  tt0000335     movie  ...             \\N         Biography,Drama\n",
              "499  tt0000502     movie  ...            100                      \\N\n",
              "571  tt0000574     movie  ...             70   Biography,Crime,Drama\n",
              "\n",
              "[5 rows x 6 columns]"
            ]
          },
          "metadata": {
            "tags": []
          },
          "execution_count": 9
        }
      ]
    },
    {
      "cell_type": "code",
      "metadata": {
        "id": "4i85pJhIdL2t",
        "colab_type": "code",
        "outputId": "d73c6755-4035-4604-9944-b9a9ea94b394",
        "colab": {
          "base_uri": "https://localhost:8080/",
          "height": 136
        }
      },
      "source": [
        "# Turn startYear column into numbers. First see that it is an object.\n",
        "\n",
        "df_movies.dtypes"
      ],
      "execution_count": 10,
      "outputs": [
        {
          "output_type": "execute_result",
          "data": {
            "text/plain": [
              "tconst            object\n",
              "titleType         object\n",
              "primaryTitle      object\n",
              "startYear         object\n",
              "runtimeMinutes    object\n",
              "genres            object\n",
              "dtype: object"
            ]
          },
          "metadata": {
            "tags": []
          },
          "execution_count": 10
        }
      ]
    },
    {
      "cell_type": "code",
      "metadata": {
        "id": "qTTi3FblJwx2",
        "colab_type": "code",
        "outputId": "0dcef433-7e23-40fa-baee-a42277954ff2",
        "colab": {
          "base_uri": "https://localhost:8080/",
          "height": 136
        }
      },
      "source": [
        "# Still an object after replacing NaNs\n",
        "\n",
        "import numpy as np\n",
        "df_movies = df_movies.replace({'\\\\N': np.NaN})\n",
        "\n",
        "df_movies.dtypes"
      ],
      "execution_count": 11,
      "outputs": [
        {
          "output_type": "execute_result",
          "data": {
            "text/plain": [
              "tconst            object\n",
              "titleType         object\n",
              "primaryTitle      object\n",
              "startYear         object\n",
              "runtimeMinutes    object\n",
              "genres            object\n",
              "dtype: object"
            ]
          },
          "metadata": {
            "tags": []
          },
          "execution_count": 11
        }
      ]
    },
    {
      "cell_type": "code",
      "metadata": {
        "id": "JOJQJQmcfEiK",
        "colab_type": "code",
        "outputId": "eba256b4-d76a-45cd-e314-d0e7eeb5a981",
        "colab": {
          "base_uri": "https://localhost:8080/",
          "height": 1000
        }
      },
      "source": [
        "# All the years look like integers but aren't\n",
        "\n",
        "pd.set_option('display.max_rows', 222)\n",
        "\n",
        "df_movies['startYear'].value_counts()"
      ],
      "execution_count": 12,
      "outputs": [
        {
          "output_type": "execute_result",
          "data": {
            "text/plain": [
              "2017    18014\n",
              "2016    17603\n",
              "2018    17414\n",
              "2015    16520\n",
              "2014    15879\n",
              "2019    15457\n",
              "2013    14867\n",
              "2012    14048\n",
              "2011    13040\n",
              "2010    12011\n",
              "2009    11178\n",
              "2008     9532\n",
              "2007     8191\n",
              "2006     7549\n",
              "2005     7032\n",
              "2020     6977\n",
              "2004     6191\n",
              "2003     5543\n",
              "2002     5470\n",
              "2001     5244\n",
              "2000     4896\n",
              "1999     4716\n",
              "1998     4535\n",
              "1997     4376\n",
              "1990     4215\n",
              "1995     4135\n",
              "1996     4129\n",
              "1991     4121\n",
              "1988     4120\n",
              "1992     4084\n",
              "1989     4061\n",
              "1987     3973\n",
              "1993     3947\n",
              "1994     3932\n",
              "1986     3889\n",
              "1985     3872\n",
              "1984     3854\n",
              "1983     3779\n",
              "1979     3738\n",
              "1980     3711\n",
              "1982     3691\n",
              "1981     3671\n",
              "1972     3652\n",
              "1978     3576\n",
              "1973     3573\n",
              "1975     3562\n",
              "1974     3509\n",
              "1971     3502\n",
              "1976     3486\n",
              "1977     3467\n",
              "1970     2952\n",
              "1969     2754\n",
              "1968     2665\n",
              "1965     2323\n",
              "1967     2312\n",
              "1966     2282\n",
              "1964     2050\n",
              "1963     1867\n",
              "1920     1859\n",
              "1962     1832\n",
              "1961     1827\n",
              "1921     1799\n",
              "1960     1795\n",
              "1959     1651\n",
              "1919     1608\n",
              "1958     1538\n",
              "1922     1425\n",
              "1918     1423\n",
              "1957     1423\n",
              "1956     1380\n",
              "1916     1316\n",
              "1917     1306\n",
              "1932     1226\n",
              "1927     1221\n",
              "1955     1218\n",
              "1954     1207\n",
              "1925     1202\n",
              "1928     1198\n",
              "1931     1189\n",
              "1930     1188\n",
              "1923     1186\n",
              "1924     1166\n",
              "1926     1155\n",
              "1952     1149\n",
              "1936     1143\n",
              "1929     1140\n",
              "1937     1123\n",
              "1953     1120\n",
              "1933     1117\n",
              "1938     1064\n",
              "1936     1058\n",
              "1950     1057\n",
              "1951     1013\n",
              "1957     1004\n",
              "1937      998\n",
              "1969      975\n",
              "1968      969\n",
              "1935      963\n",
              "1935      962\n",
              "1953      952\n",
              "1934      948\n",
              "1956      942\n",
              "1958      941\n",
              "1949      940\n",
              "1939      939\n",
              "1970      932\n",
              "1939      926\n",
              "1955      926\n",
              "1934      926\n",
              "1938      924\n",
              "1967      916\n",
              "1942      912\n",
              "1915      904\n",
              "1940      900\n",
              "1954      891\n",
              "1961      891\n",
              "1966      879\n",
              "1917      877\n",
              "1928      876\n",
              "1952      875\n",
              "1962      871\n",
              "1960      868\n",
              "1927      860\n",
              "1950      859\n",
              "1959      856\n",
              "1925      848\n",
              "1940      847\n",
              "1941      846\n",
              "1948      842\n",
              "1964      837\n",
              "1919      831\n",
              "1965      831\n",
              "1933      829\n",
              "1926      827\n",
              "1951      825\n",
              "1918      821\n",
              "1932      817\n",
              "1943      815\n",
              "1947      810\n",
              "1949      810\n",
              "1963      808\n",
              "1931      803\n",
              "1929      801\n",
              "1921      799\n",
              "1920      791\n",
              "1916      781\n",
              "1924      760\n",
              "1948      755\n",
              "1922      752\n",
              "1915      742\n",
              "1944      735\n",
              "1930      725\n",
              "1923      721\n",
              "2021      714\n",
              "1946      700\n",
              "1947      686\n",
              "1941      682\n",
              "1914      673\n",
              "1945      662\n",
              "1946      618\n",
              "1942      557\n",
              "1913      516\n",
              "1943      515\n",
              "1914      485\n",
              "1945      460\n",
              "1944      437\n",
              "1912      284\n",
              "1971      257\n",
              "1913      174\n",
              "2022      143\n",
              "1911      130\n",
              "1912       79\n",
              "1910       75\n",
              "1909       67\n",
              "1911       44\n",
              "1972       44\n",
              "1910       36\n",
              "1909       31\n",
              "1906       29\n",
              "2023       28\n",
              "1898       26\n",
              "1908       22\n",
              "1973       19\n",
              "1905       18\n",
              "1907       14\n",
              "1900       13\n",
              "2024       12\n",
              "1903       12\n",
              "1899       12\n",
              "1901        9\n",
              "1904        7\n",
              "1974        6\n",
              "1902        6\n",
              "1908        5\n",
              "2026        5\n",
              "1983        4\n",
              "1977        3\n",
              "1990        3\n",
              "1975        3\n",
              "1986        2\n",
              "1978        2\n",
              "1979        2\n",
              "2027        2\n",
              "2025        2\n",
              "1976        2\n",
              "1987        1\n",
              "2020        1\n",
              "1897        1\n",
              "2014        1\n",
              "1981        1\n",
              "2010        1\n",
              "2001        1\n",
              "1993        1\n",
              "1907        1\n",
              "1906        1\n",
              "1905        1\n",
              "1900        1\n",
              "1897        1\n",
              "1894        1\n",
              "2115        1\n",
              "1989        1\n",
              "Name: startYear, dtype: int64"
            ]
          },
          "metadata": {
            "tags": []
          },
          "execution_count": 12
        }
      ]
    },
    {
      "cell_type": "code",
      "metadata": {
        "id": "muncMKJkuT4h",
        "colab_type": "code",
        "outputId": "7e119b1c-94d9-419d-d028-e5d8e221593a",
        "colab": {
          "base_uri": "https://localhost:8080/",
          "height": 34
        }
      },
      "source": [
        "# Check nulls first\n",
        "\n",
        "df_movies['startYear'].isnull().sum()"
      ],
      "execution_count": 13,
      "outputs": [
        {
          "output_type": "execute_result",
          "data": {
            "text/plain": [
              "61834"
            ]
          },
          "metadata": {
            "tags": []
          },
          "execution_count": 13
        }
      ]
    },
    {
      "cell_type": "code",
      "metadata": {
        "id": "VRCNBWkg4Uxi",
        "colab_type": "code",
        "outputId": "0ce047fc-44d3-4f54-8f17-5247e2b453b1",
        "colab": {
          "base_uri": "https://localhost:8080/",
          "height": 34
        }
      },
      "source": [
        "# Drop nulls over the whole dataframe...\n",
        "\n",
        "df_movies = df_movies.dropna()\n",
        "print(df_movies.shape)"
      ],
      "execution_count": 14,
      "outputs": [
        {
          "output_type": "stream",
          "text": [
            "(309736, 6)\n"
          ],
          "name": "stdout"
        }
      ]
    },
    {
      "cell_type": "code",
      "metadata": {
        "id": "gMqdqs5o5YlD",
        "colab_type": "code",
        "outputId": "72402c09-43b8-4ed1-b357-11c494c57927",
        "colab": {
          "base_uri": "https://localhost:8080/",
          "height": 34
        }
      },
      "source": [
        "# The nulls are gone.\n",
        "\n",
        "df_movies['startYear'].isnull().sum()"
      ],
      "execution_count": 15,
      "outputs": [
        {
          "output_type": "execute_result",
          "data": {
            "text/plain": [
              "0"
            ]
          },
          "metadata": {
            "tags": []
          },
          "execution_count": 15
        }
      ]
    },
    {
      "cell_type": "code",
      "metadata": {
        "id": "vGhZzyYvBoZL",
        "colab_type": "code",
        "colab": {}
      },
      "source": [
        "# Create new column with numeric-type years\n",
        "\n",
        "new_column = pd.to_numeric(df_movies['startYear'])"
      ],
      "execution_count": 0,
      "outputs": []
    },
    {
      "cell_type": "code",
      "metadata": {
        "id": "XEQWaQmOB7jf",
        "colab_type": "code",
        "colab": {}
      },
      "source": [
        "df_movies['year'] = new_column"
      ],
      "execution_count": 0,
      "outputs": []
    },
    {
      "cell_type": "code",
      "metadata": {
        "id": "h260whKQB-T0",
        "colab_type": "code",
        "outputId": "2cf1e2bf-fcad-4964-caa8-3c5a479419b6",
        "colab": {
          "base_uri": "https://localhost:8080/",
          "height": 204
        }
      },
      "source": [
        "df_movies.head()"
      ],
      "execution_count": 18,
      "outputs": [
        {
          "output_type": "execute_result",
          "data": {
            "text/html": [
              "<div>\n",
              "<style scoped>\n",
              "    .dataframe tbody tr th:only-of-type {\n",
              "        vertical-align: middle;\n",
              "    }\n",
              "\n",
              "    .dataframe tbody tr th {\n",
              "        vertical-align: top;\n",
              "    }\n",
              "\n",
              "    .dataframe thead th {\n",
              "        text-align: right;\n",
              "    }\n",
              "</style>\n",
              "<table border=\"1\" class=\"dataframe\">\n",
              "  <thead>\n",
              "    <tr style=\"text-align: right;\">\n",
              "      <th></th>\n",
              "      <th>tconst</th>\n",
              "      <th>titleType</th>\n",
              "      <th>primaryTitle</th>\n",
              "      <th>startYear</th>\n",
              "      <th>runtimeMinutes</th>\n",
              "      <th>genres</th>\n",
              "      <th>year</th>\n",
              "    </tr>\n",
              "  </thead>\n",
              "  <tbody>\n",
              "    <tr>\n",
              "      <th>8</th>\n",
              "      <td>tt0000009</td>\n",
              "      <td>movie</td>\n",
              "      <td>Miss Jerry</td>\n",
              "      <td>1894</td>\n",
              "      <td>45</td>\n",
              "      <td>Romance</td>\n",
              "      <td>1894</td>\n",
              "    </tr>\n",
              "    <tr>\n",
              "      <th>145</th>\n",
              "      <td>tt0000147</td>\n",
              "      <td>movie</td>\n",
              "      <td>The Corbett-Fitzsimmons Fight</td>\n",
              "      <td>1897</td>\n",
              "      <td>20</td>\n",
              "      <td>Documentary,News,Sport</td>\n",
              "      <td>1897</td>\n",
              "    </tr>\n",
              "    <tr>\n",
              "      <th>571</th>\n",
              "      <td>tt0000574</td>\n",
              "      <td>movie</td>\n",
              "      <td>The Story of the Kelly Gang</td>\n",
              "      <td>1906</td>\n",
              "      <td>70</td>\n",
              "      <td>Biography,Crime,Drama</td>\n",
              "      <td>1906</td>\n",
              "    </tr>\n",
              "    <tr>\n",
              "      <th>673</th>\n",
              "      <td>tt0000679</td>\n",
              "      <td>movie</td>\n",
              "      <td>The Fairylogue and Radio-Plays</td>\n",
              "      <td>1908</td>\n",
              "      <td>120</td>\n",
              "      <td>Adventure,Fantasy</td>\n",
              "      <td>1908</td>\n",
              "    </tr>\n",
              "    <tr>\n",
              "      <th>1173</th>\n",
              "      <td>tt0001184</td>\n",
              "      <td>movie</td>\n",
              "      <td>Don Juan de Serrallonga</td>\n",
              "      <td>1910</td>\n",
              "      <td>58</td>\n",
              "      <td>Adventure,Drama</td>\n",
              "      <td>1910</td>\n",
              "    </tr>\n",
              "  </tbody>\n",
              "</table>\n",
              "</div>"
            ],
            "text/plain": [
              "         tconst titleType  ...                  genres  year\n",
              "8     tt0000009     movie  ...                 Romance  1894\n",
              "145   tt0000147     movie  ...  Documentary,News,Sport  1897\n",
              "571   tt0000574     movie  ...   Biography,Crime,Drama  1906\n",
              "673   tt0000679     movie  ...       Adventure,Fantasy  1908\n",
              "1173  tt0001184     movie  ...         Adventure,Drama  1910\n",
              "\n",
              "[5 rows x 7 columns]"
            ]
          },
          "metadata": {
            "tags": []
          },
          "execution_count": 18
        }
      ]
    },
    {
      "cell_type": "code",
      "metadata": {
        "id": "zeMOh3JWCAMx",
        "colab_type": "code",
        "outputId": "df34ad8c-bbe1-4e99-ff53-2a3e1ef2f7d0",
        "colab": {
          "base_uri": "https://localhost:8080/",
          "height": 153
        }
      },
      "source": [
        "# Good to go\n",
        "\n",
        "df_movies.dtypes"
      ],
      "execution_count": 19,
      "outputs": [
        {
          "output_type": "execute_result",
          "data": {
            "text/plain": [
              "tconst            object\n",
              "titleType         object\n",
              "primaryTitle      object\n",
              "startYear         object\n",
              "runtimeMinutes    object\n",
              "genres            object\n",
              "year               int64\n",
              "dtype: object"
            ]
          },
          "metadata": {
            "tags": []
          },
          "execution_count": 19
        }
      ]
    },
    {
      "cell_type": "code",
      "metadata": {
        "id": "FaJGYWvQzrm1",
        "colab_type": "code",
        "outputId": "4f2fd5b8-4d59-4299-c66d-bc0f937df654",
        "colab": {
          "base_uri": "https://localhost:8080/",
          "height": 359
        }
      },
      "source": [
        "# Merge directors onto df\n",
        "\n",
        "movies_and_directors = pd.merge(df_movies, \n",
        "                               df_crew, \n",
        "                               on='tconst', \n",
        "                               how='inner')\n",
        "movies_and_directors.head(10)"
      ],
      "execution_count": 20,
      "outputs": [
        {
          "output_type": "execute_result",
          "data": {
            "text/html": [
              "<div>\n",
              "<style scoped>\n",
              "    .dataframe tbody tr th:only-of-type {\n",
              "        vertical-align: middle;\n",
              "    }\n",
              "\n",
              "    .dataframe tbody tr th {\n",
              "        vertical-align: top;\n",
              "    }\n",
              "\n",
              "    .dataframe thead th {\n",
              "        text-align: right;\n",
              "    }\n",
              "</style>\n",
              "<table border=\"1\" class=\"dataframe\">\n",
              "  <thead>\n",
              "    <tr style=\"text-align: right;\">\n",
              "      <th></th>\n",
              "      <th>tconst</th>\n",
              "      <th>titleType</th>\n",
              "      <th>primaryTitle</th>\n",
              "      <th>startYear</th>\n",
              "      <th>runtimeMinutes</th>\n",
              "      <th>genres</th>\n",
              "      <th>year</th>\n",
              "      <th>directors</th>\n",
              "      <th>writers</th>\n",
              "    </tr>\n",
              "  </thead>\n",
              "  <tbody>\n",
              "    <tr>\n",
              "      <th>0</th>\n",
              "      <td>tt0000009</td>\n",
              "      <td>movie</td>\n",
              "      <td>Miss Jerry</td>\n",
              "      <td>1894</td>\n",
              "      <td>45</td>\n",
              "      <td>Romance</td>\n",
              "      <td>1894</td>\n",
              "      <td>nm0085156</td>\n",
              "      <td>nm0085156</td>\n",
              "    </tr>\n",
              "    <tr>\n",
              "      <th>1</th>\n",
              "      <td>tt0000147</td>\n",
              "      <td>movie</td>\n",
              "      <td>The Corbett-Fitzsimmons Fight</td>\n",
              "      <td>1897</td>\n",
              "      <td>20</td>\n",
              "      <td>Documentary,News,Sport</td>\n",
              "      <td>1897</td>\n",
              "      <td>nm0714557</td>\n",
              "      <td>\\N</td>\n",
              "    </tr>\n",
              "    <tr>\n",
              "      <th>2</th>\n",
              "      <td>tt0000574</td>\n",
              "      <td>movie</td>\n",
              "      <td>The Story of the Kelly Gang</td>\n",
              "      <td>1906</td>\n",
              "      <td>70</td>\n",
              "      <td>Biography,Crime,Drama</td>\n",
              "      <td>1906</td>\n",
              "      <td>nm0846879</td>\n",
              "      <td>nm0846879</td>\n",
              "    </tr>\n",
              "    <tr>\n",
              "      <th>3</th>\n",
              "      <td>tt0000679</td>\n",
              "      <td>movie</td>\n",
              "      <td>The Fairylogue and Radio-Plays</td>\n",
              "      <td>1908</td>\n",
              "      <td>120</td>\n",
              "      <td>Adventure,Fantasy</td>\n",
              "      <td>1908</td>\n",
              "      <td>nm0091767,nm0877783</td>\n",
              "      <td>nm0000875,nm0877783</td>\n",
              "    </tr>\n",
              "    <tr>\n",
              "      <th>4</th>\n",
              "      <td>tt0001184</td>\n",
              "      <td>movie</td>\n",
              "      <td>Don Juan de Serrallonga</td>\n",
              "      <td>1910</td>\n",
              "      <td>58</td>\n",
              "      <td>Adventure,Drama</td>\n",
              "      <td>1910</td>\n",
              "      <td>nm0063413,nm0550220</td>\n",
              "      <td>nm0049370</td>\n",
              "    </tr>\n",
              "    <tr>\n",
              "      <th>5</th>\n",
              "      <td>tt0001258</td>\n",
              "      <td>movie</td>\n",
              "      <td>The White Slave Trade</td>\n",
              "      <td>1910</td>\n",
              "      <td>45</td>\n",
              "      <td>Drama</td>\n",
              "      <td>1910</td>\n",
              "      <td>nm0088881</td>\n",
              "      <td>\\N</td>\n",
              "    </tr>\n",
              "    <tr>\n",
              "      <th>6</th>\n",
              "      <td>tt0001285</td>\n",
              "      <td>movie</td>\n",
              "      <td>The Life of Moses</td>\n",
              "      <td>1909</td>\n",
              "      <td>50</td>\n",
              "      <td>Biography,Drama,Family</td>\n",
              "      <td>1909</td>\n",
              "      <td>nm0085865</td>\n",
              "      <td>\\N</td>\n",
              "    </tr>\n",
              "    <tr>\n",
              "      <th>7</th>\n",
              "      <td>tt0001498</td>\n",
              "      <td>movie</td>\n",
              "      <td>The Battle of Trafalgar</td>\n",
              "      <td>1911</td>\n",
              "      <td>51</td>\n",
              "      <td>War</td>\n",
              "      <td>1911</td>\n",
              "      <td>nm0205986</td>\n",
              "      <td>\\N</td>\n",
              "    </tr>\n",
              "    <tr>\n",
              "      <th>8</th>\n",
              "      <td>tt0001790</td>\n",
              "      <td>movie</td>\n",
              "      <td>Les Misérables, Part 1: Jean Valjean</td>\n",
              "      <td>1913</td>\n",
              "      <td>60</td>\n",
              "      <td>Drama</td>\n",
              "      <td>1913</td>\n",
              "      <td>nm0135052</td>\n",
              "      <td>nm0135053,nm0401076</td>\n",
              "    </tr>\n",
              "    <tr>\n",
              "      <th>9</th>\n",
              "      <td>tt0001812</td>\n",
              "      <td>movie</td>\n",
              "      <td>Oedipus Rex</td>\n",
              "      <td>1911</td>\n",
              "      <td>56</td>\n",
              "      <td>Drama</td>\n",
              "      <td>1911</td>\n",
              "      <td>nm0294276</td>\n",
              "      <td>nm0814668</td>\n",
              "    </tr>\n",
              "  </tbody>\n",
              "</table>\n",
              "</div>"
            ],
            "text/plain": [
              "      tconst titleType  ...            directors              writers\n",
              "0  tt0000009     movie  ...            nm0085156            nm0085156\n",
              "1  tt0000147     movie  ...            nm0714557                   \\N\n",
              "2  tt0000574     movie  ...            nm0846879            nm0846879\n",
              "3  tt0000679     movie  ...  nm0091767,nm0877783  nm0000875,nm0877783\n",
              "4  tt0001184     movie  ...  nm0063413,nm0550220            nm0049370\n",
              "5  tt0001258     movie  ...            nm0088881                   \\N\n",
              "6  tt0001285     movie  ...            nm0085865                   \\N\n",
              "7  tt0001498     movie  ...            nm0205986                   \\N\n",
              "8  tt0001790     movie  ...            nm0135052  nm0135053,nm0401076\n",
              "9  tt0001812     movie  ...            nm0294276            nm0814668\n",
              "\n",
              "[10 rows x 9 columns]"
            ]
          },
          "metadata": {
            "tags": []
          },
          "execution_count": 20
        }
      ]
    },
    {
      "cell_type": "code",
      "metadata": {
        "id": "2VbkxtJtep4R",
        "colab_type": "code",
        "outputId": "5fcfbd47-941c-4d87-a9c8-2b758dec2bf1",
        "colab": {
          "base_uri": "https://localhost:8080/",
          "height": 549
        }
      },
      "source": [
        "# Merge ratings on as well\n",
        "\n",
        "movies_directors_and_ratings = pd.merge(movies_and_directors, \n",
        "                               df_ratings, \n",
        "                               on='tconst', \n",
        "                               how='inner')\n",
        "movies_directors_and_ratings.head(10)"
      ],
      "execution_count": 21,
      "outputs": [
        {
          "output_type": "execute_result",
          "data": {
            "text/html": [
              "<div>\n",
              "<style scoped>\n",
              "    .dataframe tbody tr th:only-of-type {\n",
              "        vertical-align: middle;\n",
              "    }\n",
              "\n",
              "    .dataframe tbody tr th {\n",
              "        vertical-align: top;\n",
              "    }\n",
              "\n",
              "    .dataframe thead th {\n",
              "        text-align: right;\n",
              "    }\n",
              "</style>\n",
              "<table border=\"1\" class=\"dataframe\">\n",
              "  <thead>\n",
              "    <tr style=\"text-align: right;\">\n",
              "      <th></th>\n",
              "      <th>tconst</th>\n",
              "      <th>titleType</th>\n",
              "      <th>primaryTitle</th>\n",
              "      <th>startYear</th>\n",
              "      <th>runtimeMinutes</th>\n",
              "      <th>genres</th>\n",
              "      <th>year</th>\n",
              "      <th>directors</th>\n",
              "      <th>writers</th>\n",
              "      <th>averageRating</th>\n",
              "      <th>numVotes</th>\n",
              "    </tr>\n",
              "  </thead>\n",
              "  <tbody>\n",
              "    <tr>\n",
              "      <th>0</th>\n",
              "      <td>tt0000009</td>\n",
              "      <td>movie</td>\n",
              "      <td>Miss Jerry</td>\n",
              "      <td>1894</td>\n",
              "      <td>45</td>\n",
              "      <td>Romance</td>\n",
              "      <td>1894</td>\n",
              "      <td>nm0085156</td>\n",
              "      <td>nm0085156</td>\n",
              "      <td>5.4</td>\n",
              "      <td>86</td>\n",
              "    </tr>\n",
              "    <tr>\n",
              "      <th>1</th>\n",
              "      <td>tt0000147</td>\n",
              "      <td>movie</td>\n",
              "      <td>The Corbett-Fitzsimmons Fight</td>\n",
              "      <td>1897</td>\n",
              "      <td>20</td>\n",
              "      <td>Documentary,News,Sport</td>\n",
              "      <td>1897</td>\n",
              "      <td>nm0714557</td>\n",
              "      <td>\\N</td>\n",
              "      <td>5.2</td>\n",
              "      <td>325</td>\n",
              "    </tr>\n",
              "    <tr>\n",
              "      <th>2</th>\n",
              "      <td>tt0000574</td>\n",
              "      <td>movie</td>\n",
              "      <td>The Story of the Kelly Gang</td>\n",
              "      <td>1906</td>\n",
              "      <td>70</td>\n",
              "      <td>Biography,Crime,Drama</td>\n",
              "      <td>1906</td>\n",
              "      <td>nm0846879</td>\n",
              "      <td>nm0846879</td>\n",
              "      <td>6.1</td>\n",
              "      <td>555</td>\n",
              "    </tr>\n",
              "    <tr>\n",
              "      <th>3</th>\n",
              "      <td>tt0000679</td>\n",
              "      <td>movie</td>\n",
              "      <td>The Fairylogue and Radio-Plays</td>\n",
              "      <td>1908</td>\n",
              "      <td>120</td>\n",
              "      <td>Adventure,Fantasy</td>\n",
              "      <td>1908</td>\n",
              "      <td>nm0091767,nm0877783</td>\n",
              "      <td>nm0000875,nm0877783</td>\n",
              "      <td>4.8</td>\n",
              "      <td>33</td>\n",
              "    </tr>\n",
              "    <tr>\n",
              "      <th>4</th>\n",
              "      <td>tt0001184</td>\n",
              "      <td>movie</td>\n",
              "      <td>Don Juan de Serrallonga</td>\n",
              "      <td>1910</td>\n",
              "      <td>58</td>\n",
              "      <td>Adventure,Drama</td>\n",
              "      <td>1910</td>\n",
              "      <td>nm0063413,nm0550220</td>\n",
              "      <td>nm0049370</td>\n",
              "      <td>3.1</td>\n",
              "      <td>11</td>\n",
              "    </tr>\n",
              "    <tr>\n",
              "      <th>5</th>\n",
              "      <td>tt0001258</td>\n",
              "      <td>movie</td>\n",
              "      <td>The White Slave Trade</td>\n",
              "      <td>1910</td>\n",
              "      <td>45</td>\n",
              "      <td>Drama</td>\n",
              "      <td>1910</td>\n",
              "      <td>nm0088881</td>\n",
              "      <td>\\N</td>\n",
              "      <td>5.8</td>\n",
              "      <td>76</td>\n",
              "    </tr>\n",
              "    <tr>\n",
              "      <th>6</th>\n",
              "      <td>tt0001285</td>\n",
              "      <td>movie</td>\n",
              "      <td>The Life of Moses</td>\n",
              "      <td>1909</td>\n",
              "      <td>50</td>\n",
              "      <td>Biography,Drama,Family</td>\n",
              "      <td>1909</td>\n",
              "      <td>nm0085865</td>\n",
              "      <td>\\N</td>\n",
              "      <td>5.1</td>\n",
              "      <td>30</td>\n",
              "    </tr>\n",
              "    <tr>\n",
              "      <th>7</th>\n",
              "      <td>tt0001790</td>\n",
              "      <td>movie</td>\n",
              "      <td>Les Misérables, Part 1: Jean Valjean</td>\n",
              "      <td>1913</td>\n",
              "      <td>60</td>\n",
              "      <td>Drama</td>\n",
              "      <td>1913</td>\n",
              "      <td>nm0135052</td>\n",
              "      <td>nm0135053,nm0401076</td>\n",
              "      <td>5.8</td>\n",
              "      <td>21</td>\n",
              "    </tr>\n",
              "    <tr>\n",
              "      <th>8</th>\n",
              "      <td>tt0001812</td>\n",
              "      <td>movie</td>\n",
              "      <td>Oedipus Rex</td>\n",
              "      <td>1911</td>\n",
              "      <td>56</td>\n",
              "      <td>Drama</td>\n",
              "      <td>1911</td>\n",
              "      <td>nm0294276</td>\n",
              "      <td>nm0814668</td>\n",
              "      <td>5.8</td>\n",
              "      <td>6</td>\n",
              "    </tr>\n",
              "    <tr>\n",
              "      <th>9</th>\n",
              "      <td>tt0001892</td>\n",
              "      <td>movie</td>\n",
              "      <td>Den sorte drøm</td>\n",
              "      <td>1911</td>\n",
              "      <td>53</td>\n",
              "      <td>Drama</td>\n",
              "      <td>1911</td>\n",
              "      <td>nm0300487</td>\n",
              "      <td>nm0300487,nm2131092</td>\n",
              "      <td>5.9</td>\n",
              "      <td>178</td>\n",
              "    </tr>\n",
              "  </tbody>\n",
              "</table>\n",
              "</div>"
            ],
            "text/plain": [
              "      tconst titleType  ... averageRating numVotes\n",
              "0  tt0000009     movie  ...           5.4       86\n",
              "1  tt0000147     movie  ...           5.2      325\n",
              "2  tt0000574     movie  ...           6.1      555\n",
              "3  tt0000679     movie  ...           4.8       33\n",
              "4  tt0001184     movie  ...           3.1       11\n",
              "5  tt0001258     movie  ...           5.8       76\n",
              "6  tt0001285     movie  ...           5.1       30\n",
              "7  tt0001790     movie  ...           5.8       21\n",
              "8  tt0001812     movie  ...           5.8        6\n",
              "9  tt0001892     movie  ...           5.9      178\n",
              "\n",
              "[10 rows x 11 columns]"
            ]
          },
          "metadata": {
            "tags": []
          },
          "execution_count": 21
        }
      ]
    },
    {
      "cell_type": "code",
      "metadata": {
        "id": "PDrs-MQFeplu",
        "colab_type": "code",
        "outputId": "bf208d30-cbe0-4224-8531-cfea5398df25",
        "colab": {
          "base_uri": "https://localhost:8080/",
          "height": 34
        }
      },
      "source": [
        "# This df is our starting point.\n",
        "# \n",
        "# So right now we have all movies with their directors and average IMDB ratings\n",
        "\n",
        "movies_directors_and_ratings.shape"
      ],
      "execution_count": 22,
      "outputs": [
        {
          "output_type": "execute_result",
          "data": {
            "text/plain": [
              "(208413, 11)"
            ]
          },
          "metadata": {
            "tags": []
          },
          "execution_count": 22
        }
      ]
    },
    {
      "cell_type": "code",
      "metadata": {
        "id": "kCrQxixqP99a",
        "colab_type": "code",
        "colab": {
          "base_uri": "https://localhost:8080/",
          "height": 34
        },
        "outputId": "3a1c75d6-ee07-46a3-9533-a7b823d261f5"
      },
      "source": [
        "df_movies_1940s = movies_directors_and_ratings[(movies_directors_and_ratings['year'] >= 1940) & (movies_directors_and_ratings['year'] <= 1949)]\n",
        "print(df_movies_1940s.shape)"
      ],
      "execution_count": 23,
      "outputs": [
        {
          "output_type": "stream",
          "text": [
            "(7710, 11)\n"
          ],
          "name": "stdout"
        }
      ]
    },
    {
      "cell_type": "code",
      "metadata": {
        "id": "-vzOipx1P9zf",
        "colab_type": "code",
        "colab": {
          "base_uri": "https://localhost:8080/",
          "height": 34
        },
        "outputId": "4c515178-7704-4161-b335-b1947bba10b9"
      },
      "source": [
        "df_movies_1950s = movies_directors_and_ratings[(movies_directors_and_ratings['year'] >= 1950) & (movies_directors_and_ratings['year'] <= 1959)]\n",
        "print(df_movies_1950s.shape)"
      ],
      "execution_count": 24,
      "outputs": [
        {
          "output_type": "stream",
          "text": [
            "(10543, 11)\n"
          ],
          "name": "stdout"
        }
      ]
    },
    {
      "cell_type": "code",
      "metadata": {
        "id": "qVh6_LGLPw5D",
        "colab_type": "code",
        "colab": {
          "base_uri": "https://localhost:8080/",
          "height": 34
        },
        "outputId": "d5dd00c5-601f-4c1d-a6fb-7d635b2b3fb0"
      },
      "source": [
        "df_movies_1960s = movies_directors_and_ratings[(movies_directors_and_ratings['year'] >= 1960) & (movies_directors_and_ratings['year'] <= 1969)]\n",
        "print(df_movies_1960s.shape)"
      ],
      "execution_count": 25,
      "outputs": [
        {
          "output_type": "stream",
          "text": [
            "(13483, 11)\n"
          ],
          "name": "stdout"
        }
      ]
    },
    {
      "cell_type": "code",
      "metadata": {
        "id": "54XEHHiRzrtt",
        "colab_type": "code",
        "outputId": "1e6faf54-ad8c-4a96-d7d1-36909503f6d3",
        "colab": {
          "base_uri": "https://localhost:8080/",
          "height": 34
        }
      },
      "source": [
        "df_movies_1970s = movies_directors_and_ratings[(movies_directors_and_ratings['year'] >= 1970) & (movies_directors_and_ratings['year'] <= 1979)]\n",
        "\n",
        "print(df_movies_1970s.shape)"
      ],
      "execution_count": 26,
      "outputs": [
        {
          "output_type": "stream",
          "text": [
            "(16147, 11)\n"
          ],
          "name": "stdout"
        }
      ]
    },
    {
      "cell_type": "code",
      "metadata": {
        "id": "IMK8R8N0Pcwc",
        "colab_type": "code",
        "colab": {
          "base_uri": "https://localhost:8080/",
          "height": 34
        },
        "outputId": "d6f08c43-34c5-4197-8e77-9e24597ed14d"
      },
      "source": [
        "df_movies_1980s = movies_directors_and_ratings[(movies_directors_and_ratings['year'] >= 1980) & (movies_directors_and_ratings['year'] <= 1989)]\n",
        "print(df_movies_1980s.shape)"
      ],
      "execution_count": 27,
      "outputs": [
        {
          "output_type": "stream",
          "text": [
            "(17452, 11)\n"
          ],
          "name": "stdout"
        }
      ]
    },
    {
      "cell_type": "code",
      "metadata": {
        "id": "Gyep07g_Pcin",
        "colab_type": "code",
        "colab": {
          "base_uri": "https://localhost:8080/",
          "height": 34
        },
        "outputId": "be654586-6be8-441c-c948-739b771d0238"
      },
      "source": [
        "df_movies_1990s = movies_directors_and_ratings[(movies_directors_and_ratings['year'] >= 1990) & (movies_directors_and_ratings['year'] <= 1999)]\n",
        "print(df_movies_1990s.shape)"
      ],
      "execution_count": 28,
      "outputs": [
        {
          "output_type": "stream",
          "text": [
            "(19691, 11)\n"
          ],
          "name": "stdout"
        }
      ]
    },
    {
      "cell_type": "code",
      "metadata": {
        "id": "aP5dsGpwPcaR",
        "colab_type": "code",
        "colab": {}
      },
      "source": [
        "df_movies_2000s = movies_directors_and_ratings[(movies_directors_and_ratings['year'] >= 2000) & (movies_directors_and_ratings['year'] <= 2009)]"
      ],
      "execution_count": 0,
      "outputs": []
    },
    {
      "cell_type": "code",
      "metadata": {
        "id": "4CBCgaSsCCIw",
        "colab_type": "code",
        "outputId": "e3abb836-267f-47c0-c5e2-1fedefbbb2d1",
        "colab": {
          "base_uri": "https://localhost:8080/",
          "height": 34
        }
      },
      "source": [
        "df_movies_2010s = movies_directors_and_ratings[(movies_directors_and_ratings['year'] >= 2010) & (movies_directors_and_ratings['year'] <= 2019)]\n",
        "\n",
        "print(df_movies_2010s.shape)"
      ],
      "execution_count": 30,
      "outputs": [
        {
          "output_type": "stream",
          "text": [
            "(72947, 11)\n"
          ],
          "name": "stdout"
        }
      ]
    },
    {
      "cell_type": "code",
      "metadata": {
        "id": "SDXjelK22PVY",
        "colab_type": "code",
        "colab": {
          "base_uri": "https://localhost:8080/",
          "height": 34
        },
        "outputId": "14df3067-18cc-4db8-df4d-55c0d423a8b8"
      },
      "source": [
        "print(df_movies_2000s.shape)"
      ],
      "execution_count": 31,
      "outputs": [
        {
          "output_type": "stream",
          "text": [
            "(39013, 11)\n"
          ],
          "name": "stdout"
        }
      ]
    },
    {
      "cell_type": "code",
      "metadata": {
        "id": "BqDQnoSWP680",
        "colab_type": "code",
        "colab": {}
      },
      "source": [
        "mean40 = df_movies_1940s['averageRating'].mean()"
      ],
      "execution_count": 0,
      "outputs": []
    },
    {
      "cell_type": "code",
      "metadata": {
        "id": "cYhUMTYuP60-",
        "colab_type": "code",
        "colab": {}
      },
      "source": [
        "mean50 = df_movies_1950s['averageRating'].mean()"
      ],
      "execution_count": 0,
      "outputs": []
    },
    {
      "cell_type": "code",
      "metadata": {
        "id": "DOg1vK7DP4Uf",
        "colab_type": "code",
        "colab": {}
      },
      "source": [
        "mean60 = df_movies_1960s['averageRating'].mean()"
      ],
      "execution_count": 0,
      "outputs": []
    },
    {
      "cell_type": "code",
      "metadata": {
        "id": "J91FBXocPNWQ",
        "colab_type": "code",
        "colab": {}
      },
      "source": [
        "mean70 = df_movies_1970s['averageRating'].mean()"
      ],
      "execution_count": 0,
      "outputs": []
    },
    {
      "cell_type": "code",
      "metadata": {
        "id": "L2-B2OmsPolF",
        "colab_type": "code",
        "colab": {}
      },
      "source": [
        "mean80 = df_movies_1980s['averageRating'].mean()"
      ],
      "execution_count": 0,
      "outputs": []
    },
    {
      "cell_type": "code",
      "metadata": {
        "id": "uzHY93UuPoNv",
        "colab_type": "code",
        "colab": {}
      },
      "source": [
        "mean90 = df_movies_1990s['averageRating'].mean()"
      ],
      "execution_count": 0,
      "outputs": []
    },
    {
      "cell_type": "code",
      "metadata": {
        "id": "u98Q-UbyPoBr",
        "colab_type": "code",
        "colab": {}
      },
      "source": [
        "mean00 = df_movies_2000s['averageRating'].mean()"
      ],
      "execution_count": 0,
      "outputs": []
    },
    {
      "cell_type": "code",
      "metadata": {
        "id": "a9pM3styPNOv",
        "colab_type": "code",
        "colab": {}
      },
      "source": [
        "mean10 = df_movies_2010s['averageRating'].mean()"
      ],
      "execution_count": 0,
      "outputs": []
    },
    {
      "cell_type": "code",
      "metadata": {
        "id": "ko4BqDUpPNFC",
        "colab_type": "code",
        "outputId": "ce70dcf9-632e-4a9b-f660-ce6456056a00",
        "colab": {
          "base_uri": "https://localhost:8080/",
          "height": 238
        }
      },
      "source": [
        "horror_70s = df_movies_1970s[df_movies_1970s['genres'] == 'Horror']\n",
        "print(horror_70s.shape)\n",
        "horror_70s.head()"
      ],
      "execution_count": 40,
      "outputs": [
        {
          "output_type": "stream",
          "text": [
            "(355, 11)\n"
          ],
          "name": "stdout"
        },
        {
          "output_type": "execute_result",
          "data": {
            "text/html": [
              "<div>\n",
              "<style scoped>\n",
              "    .dataframe tbody tr th:only-of-type {\n",
              "        vertical-align: middle;\n",
              "    }\n",
              "\n",
              "    .dataframe tbody tr th {\n",
              "        vertical-align: top;\n",
              "    }\n",
              "\n",
              "    .dataframe thead th {\n",
              "        text-align: right;\n",
              "    }\n",
              "</style>\n",
              "<table border=\"1\" class=\"dataframe\">\n",
              "  <thead>\n",
              "    <tr style=\"text-align: right;\">\n",
              "      <th></th>\n",
              "      <th>tconst</th>\n",
              "      <th>titleType</th>\n",
              "      <th>primaryTitle</th>\n",
              "      <th>startYear</th>\n",
              "      <th>runtimeMinutes</th>\n",
              "      <th>genres</th>\n",
              "      <th>year</th>\n",
              "      <th>directors</th>\n",
              "      <th>writers</th>\n",
              "      <th>averageRating</th>\n",
              "      <th>numVotes</th>\n",
              "    </tr>\n",
              "  </thead>\n",
              "  <tbody>\n",
              "    <tr>\n",
              "      <th>24197</th>\n",
              "      <td>tt0054724</td>\n",
              "      <td>movie</td>\n",
              "      <td>I Eat Your Skin</td>\n",
              "      <td>1971</td>\n",
              "      <td>92</td>\n",
              "      <td>Horror</td>\n",
              "      <td>1971</td>\n",
              "      <td>nm0855096</td>\n",
              "      <td>nm0855096</td>\n",
              "      <td>3.4</td>\n",
              "      <td>1170</td>\n",
              "    </tr>\n",
              "    <tr>\n",
              "      <th>30118</th>\n",
              "      <td>tt0063608</td>\n",
              "      <td>movie</td>\n",
              "      <td>Sinthia: The Devil's Doll</td>\n",
              "      <td>1970</td>\n",
              "      <td>78</td>\n",
              "      <td>Horror</td>\n",
              "      <td>1970</td>\n",
              "      <td>nm0824306</td>\n",
              "      <td>nm0732299,nm0824306</td>\n",
              "      <td>3.6</td>\n",
              "      <td>191</td>\n",
              "    </tr>\n",
              "    <tr>\n",
              "      <th>30944</th>\n",
              "      <td>tt0064902</td>\n",
              "      <td>movie</td>\n",
              "      <td>The Blood Rose</td>\n",
              "      <td>1970</td>\n",
              "      <td>92</td>\n",
              "      <td>Horror</td>\n",
              "      <td>1970</td>\n",
              "      <td>nm0612474</td>\n",
              "      <td>nm0612474,nm0140342,nm0649180</td>\n",
              "      <td>6.0</td>\n",
              "      <td>296</td>\n",
              "    </tr>\n",
              "    <tr>\n",
              "      <th>31119</th>\n",
              "      <td>tt0065168</td>\n",
              "      <td>movie</td>\n",
              "      <td>The Nude Vampire</td>\n",
              "      <td>1970</td>\n",
              "      <td>90</td>\n",
              "      <td>Horror</td>\n",
              "      <td>1970</td>\n",
              "      <td>nm0210811</td>\n",
              "      <td>nm0210811,nm0594959</td>\n",
              "      <td>5.5</td>\n",
              "      <td>1164</td>\n",
              "    </tr>\n",
              "    <tr>\n",
              "      <th>31276</th>\n",
              "      <td>tt0065478</td>\n",
              "      <td>movie</td>\n",
              "      <td>Blood Mania</td>\n",
              "      <td>1970</td>\n",
              "      <td>81</td>\n",
              "      <td>Horror</td>\n",
              "      <td>1970</td>\n",
              "      <td>nm0642057</td>\n",
              "      <td>nm0139433,nm0187176,nm0755105</td>\n",
              "      <td>4.0</td>\n",
              "      <td>820</td>\n",
              "    </tr>\n",
              "  </tbody>\n",
              "</table>\n",
              "</div>"
            ],
            "text/plain": [
              "          tconst titleType  ... averageRating numVotes\n",
              "24197  tt0054724     movie  ...           3.4     1170\n",
              "30118  tt0063608     movie  ...           3.6      191\n",
              "30944  tt0064902     movie  ...           6.0      296\n",
              "31119  tt0065168     movie  ...           5.5     1164\n",
              "31276  tt0065478     movie  ...           4.0      820\n",
              "\n",
              "[5 rows x 11 columns]"
            ]
          },
          "metadata": {
            "tags": []
          },
          "execution_count": 40
        }
      ]
    },
    {
      "cell_type": "code",
      "metadata": {
        "id": "pS3e_BmoQe7A",
        "colab_type": "code",
        "outputId": "ba0730b6-9d1a-4d2a-a5bc-24d4f48aaa5b",
        "colab": {
          "base_uri": "https://localhost:8080/",
          "height": 34
        }
      },
      "source": [
        "horror_70s['averageRating'].mean()"
      ],
      "execution_count": 41,
      "outputs": [
        {
          "output_type": "execute_result",
          "data": {
            "text/plain": [
              "5.088169014084505"
            ]
          },
          "metadata": {
            "tags": []
          },
          "execution_count": 41
        }
      ]
    },
    {
      "cell_type": "code",
      "metadata": {
        "id": "DL-kZlQyQjTd",
        "colab_type": "code",
        "outputId": "559597d9-ba42-432b-a36d-d1d4f3975c26",
        "colab": {
          "base_uri": "https://localhost:8080/",
          "height": 275
        }
      },
      "source": [
        "comedy_70s = df_movies_1970s[df_movies_1970s['genres'] == 'Comedy']\n",
        "print(comedy_70s.shape)\n",
        "comedy_70s.head()"
      ],
      "execution_count": 42,
      "outputs": [
        {
          "output_type": "stream",
          "text": [
            "(2054, 11)\n"
          ],
          "name": "stdout"
        },
        {
          "output_type": "execute_result",
          "data": {
            "text/html": [
              "<div>\n",
              "<style scoped>\n",
              "    .dataframe tbody tr th:only-of-type {\n",
              "        vertical-align: middle;\n",
              "    }\n",
              "\n",
              "    .dataframe tbody tr th {\n",
              "        vertical-align: top;\n",
              "    }\n",
              "\n",
              "    .dataframe thead th {\n",
              "        text-align: right;\n",
              "    }\n",
              "</style>\n",
              "<table border=\"1\" class=\"dataframe\">\n",
              "  <thead>\n",
              "    <tr style=\"text-align: right;\">\n",
              "      <th></th>\n",
              "      <th>tconst</th>\n",
              "      <th>titleType</th>\n",
              "      <th>primaryTitle</th>\n",
              "      <th>startYear</th>\n",
              "      <th>runtimeMinutes</th>\n",
              "      <th>genres</th>\n",
              "      <th>year</th>\n",
              "      <th>directors</th>\n",
              "      <th>writers</th>\n",
              "      <th>averageRating</th>\n",
              "      <th>numVotes</th>\n",
              "    </tr>\n",
              "  </thead>\n",
              "  <tbody>\n",
              "    <tr>\n",
              "      <th>8901</th>\n",
              "      <td>tt0031458</td>\n",
              "      <td>movie</td>\n",
              "      <td>El huésped del sevillano</td>\n",
              "      <td>1970</td>\n",
              "      <td>86</td>\n",
              "      <td>Comedy</td>\n",
              "      <td>1970</td>\n",
              "      <td>nm0649563</td>\n",
              "      <td>nm0524001,nm0720019,nm0848519</td>\n",
              "      <td>7.1</td>\n",
              "      <td>8</td>\n",
              "    </tr>\n",
              "    <tr>\n",
              "      <th>29549</th>\n",
              "      <td>tt0062784</td>\n",
              "      <td>movie</td>\n",
              "      <td>El certificado</td>\n",
              "      <td>1970</td>\n",
              "      <td>102</td>\n",
              "      <td>Comedy</td>\n",
              "      <td>1970</td>\n",
              "      <td>nm0516202</td>\n",
              "      <td>nm0516202</td>\n",
              "      <td>6.0</td>\n",
              "      <td>20</td>\n",
              "    </tr>\n",
              "    <tr>\n",
              "      <th>29929</th>\n",
              "      <td>tt0063334</td>\n",
              "      <td>movie</td>\n",
              "      <td>Nahtche V'Hageneral</td>\n",
              "      <td>1972</td>\n",
              "      <td>105</td>\n",
              "      <td>Comedy</td>\n",
              "      <td>1972</td>\n",
              "      <td>nm0643136</td>\n",
              "      <td>nm0851780</td>\n",
              "      <td>5.9</td>\n",
              "      <td>7</td>\n",
              "    </tr>\n",
              "    <tr>\n",
              "      <th>30157</th>\n",
              "      <td>tt0063666</td>\n",
              "      <td>movie</td>\n",
              "      <td>Love, Emilia</td>\n",
              "      <td>1970</td>\n",
              "      <td>74</td>\n",
              "      <td>Comedy</td>\n",
              "      <td>1970</td>\n",
              "      <td>nm0845223</td>\n",
              "      <td>nm0845223,nm0879476</td>\n",
              "      <td>6.9</td>\n",
              "      <td>53</td>\n",
              "    </tr>\n",
              "    <tr>\n",
              "      <th>30207</th>\n",
              "      <td>tt0063751</td>\n",
              "      <td>movie</td>\n",
              "      <td>The Howl</td>\n",
              "      <td>1970</td>\n",
              "      <td>93</td>\n",
              "      <td>Comedy</td>\n",
              "      <td>1970</td>\n",
              "      <td>nm0000972</td>\n",
              "      <td>nm0000972,nm0299295,nm0519418,nm0698541</td>\n",
              "      <td>5.5</td>\n",
              "      <td>323</td>\n",
              "    </tr>\n",
              "  </tbody>\n",
              "</table>\n",
              "</div>"
            ],
            "text/plain": [
              "          tconst titleType  ... averageRating numVotes\n",
              "8901   tt0031458     movie  ...           7.1        8\n",
              "29549  tt0062784     movie  ...           6.0       20\n",
              "29929  tt0063334     movie  ...           5.9        7\n",
              "30157  tt0063666     movie  ...           6.9       53\n",
              "30207  tt0063751     movie  ...           5.5      323\n",
              "\n",
              "[5 rows x 11 columns]"
            ]
          },
          "metadata": {
            "tags": []
          },
          "execution_count": 42
        }
      ]
    },
    {
      "cell_type": "code",
      "metadata": {
        "id": "KKGMeaDHQw8w",
        "colab_type": "code",
        "outputId": "2beeddbe-4f15-41ba-8d72-c9f77d8de21a",
        "colab": {
          "base_uri": "https://localhost:8080/",
          "height": 275
        }
      },
      "source": [
        "comedy_70s = df_movies_1970s[df_movies_1970s['genres'] == 'Comedy']\n",
        "print(comedy_70s.shape)\n",
        "comedy_70s.head()"
      ],
      "execution_count": 43,
      "outputs": [
        {
          "output_type": "stream",
          "text": [
            "(2054, 11)\n"
          ],
          "name": "stdout"
        },
        {
          "output_type": "execute_result",
          "data": {
            "text/html": [
              "<div>\n",
              "<style scoped>\n",
              "    .dataframe tbody tr th:only-of-type {\n",
              "        vertical-align: middle;\n",
              "    }\n",
              "\n",
              "    .dataframe tbody tr th {\n",
              "        vertical-align: top;\n",
              "    }\n",
              "\n",
              "    .dataframe thead th {\n",
              "        text-align: right;\n",
              "    }\n",
              "</style>\n",
              "<table border=\"1\" class=\"dataframe\">\n",
              "  <thead>\n",
              "    <tr style=\"text-align: right;\">\n",
              "      <th></th>\n",
              "      <th>tconst</th>\n",
              "      <th>titleType</th>\n",
              "      <th>primaryTitle</th>\n",
              "      <th>startYear</th>\n",
              "      <th>runtimeMinutes</th>\n",
              "      <th>genres</th>\n",
              "      <th>year</th>\n",
              "      <th>directors</th>\n",
              "      <th>writers</th>\n",
              "      <th>averageRating</th>\n",
              "      <th>numVotes</th>\n",
              "    </tr>\n",
              "  </thead>\n",
              "  <tbody>\n",
              "    <tr>\n",
              "      <th>8901</th>\n",
              "      <td>tt0031458</td>\n",
              "      <td>movie</td>\n",
              "      <td>El huésped del sevillano</td>\n",
              "      <td>1970</td>\n",
              "      <td>86</td>\n",
              "      <td>Comedy</td>\n",
              "      <td>1970</td>\n",
              "      <td>nm0649563</td>\n",
              "      <td>nm0524001,nm0720019,nm0848519</td>\n",
              "      <td>7.1</td>\n",
              "      <td>8</td>\n",
              "    </tr>\n",
              "    <tr>\n",
              "      <th>29549</th>\n",
              "      <td>tt0062784</td>\n",
              "      <td>movie</td>\n",
              "      <td>El certificado</td>\n",
              "      <td>1970</td>\n",
              "      <td>102</td>\n",
              "      <td>Comedy</td>\n",
              "      <td>1970</td>\n",
              "      <td>nm0516202</td>\n",
              "      <td>nm0516202</td>\n",
              "      <td>6.0</td>\n",
              "      <td>20</td>\n",
              "    </tr>\n",
              "    <tr>\n",
              "      <th>29929</th>\n",
              "      <td>tt0063334</td>\n",
              "      <td>movie</td>\n",
              "      <td>Nahtche V'Hageneral</td>\n",
              "      <td>1972</td>\n",
              "      <td>105</td>\n",
              "      <td>Comedy</td>\n",
              "      <td>1972</td>\n",
              "      <td>nm0643136</td>\n",
              "      <td>nm0851780</td>\n",
              "      <td>5.9</td>\n",
              "      <td>7</td>\n",
              "    </tr>\n",
              "    <tr>\n",
              "      <th>30157</th>\n",
              "      <td>tt0063666</td>\n",
              "      <td>movie</td>\n",
              "      <td>Love, Emilia</td>\n",
              "      <td>1970</td>\n",
              "      <td>74</td>\n",
              "      <td>Comedy</td>\n",
              "      <td>1970</td>\n",
              "      <td>nm0845223</td>\n",
              "      <td>nm0845223,nm0879476</td>\n",
              "      <td>6.9</td>\n",
              "      <td>53</td>\n",
              "    </tr>\n",
              "    <tr>\n",
              "      <th>30207</th>\n",
              "      <td>tt0063751</td>\n",
              "      <td>movie</td>\n",
              "      <td>The Howl</td>\n",
              "      <td>1970</td>\n",
              "      <td>93</td>\n",
              "      <td>Comedy</td>\n",
              "      <td>1970</td>\n",
              "      <td>nm0000972</td>\n",
              "      <td>nm0000972,nm0299295,nm0519418,nm0698541</td>\n",
              "      <td>5.5</td>\n",
              "      <td>323</td>\n",
              "    </tr>\n",
              "  </tbody>\n",
              "</table>\n",
              "</div>"
            ],
            "text/plain": [
              "          tconst titleType  ... averageRating numVotes\n",
              "8901   tt0031458     movie  ...           7.1        8\n",
              "29549  tt0062784     movie  ...           6.0       20\n",
              "29929  tt0063334     movie  ...           5.9        7\n",
              "30157  tt0063666     movie  ...           6.9       53\n",
              "30207  tt0063751     movie  ...           5.5      323\n",
              "\n",
              "[5 rows x 11 columns]"
            ]
          },
          "metadata": {
            "tags": []
          },
          "execution_count": 43
        }
      ]
    },
    {
      "cell_type": "code",
      "metadata": {
        "id": "Wb5rV93SQuJv",
        "colab_type": "code",
        "outputId": "893840b8-8d4d-4504-8f0e-acf813b20f04",
        "colab": {
          "base_uri": "https://localhost:8080/",
          "height": 34
        }
      },
      "source": [
        "comedy_70s['averageRating'].mean()"
      ],
      "execution_count": 44,
      "outputs": [
        {
          "output_type": "execute_result",
          "data": {
            "text/plain": [
              "5.48768257059395"
            ]
          },
          "metadata": {
            "tags": []
          },
          "execution_count": 44
        }
      ]
    },
    {
      "cell_type": "code",
      "metadata": {
        "id": "mj0wZR45Q4Og",
        "colab_type": "code",
        "outputId": "20f6ac1c-ef7a-40af-c406-b7ac4c460b3e",
        "colab": {
          "base_uri": "https://localhost:8080/",
          "height": 714
        }
      },
      "source": [
        "# I just want the top 10 single genres. No combos.\n",
        "\n",
        "df_movies_2010s['genres'].value_counts().nlargest(40)"
      ],
      "execution_count": 45,
      "outputs": [
        {
          "output_type": "execute_result",
          "data": {
            "text/plain": [
              "Drama                            11298\n",
              "Documentary                      10548\n",
              "Comedy                            5092\n",
              "Comedy,Drama                      2704\n",
              "Horror                            2484\n",
              "Drama,Romance                     1600\n",
              "Thriller                          1443\n",
              "Comedy,Drama,Romance              1250\n",
              "Comedy,Romance                    1230\n",
              "Drama,Thriller                    1036\n",
              "Horror,Thriller                   1011\n",
              "Action                             788\n",
              "Biography,Documentary              772\n",
              "Documentary,Drama                  611\n",
              "Romance                            604\n",
              "Documentary,Music                  602\n",
              "Action,Crime,Drama                 586\n",
              "Comedy,Horror                      561\n",
              "Crime,Drama,Thriller               540\n",
              "Crime,Drama                        522\n",
              "Biography,Documentary,History      508\n",
              "Drama,Family                       494\n",
              "Documentary,History                492\n",
              "Family                             473\n",
              "Horror,Mystery,Thriller            414\n",
              "Action,Drama                       401\n",
              "Biography,Documentary,Drama        383\n",
              "Action,Thriller                    380\n",
              "Drama,Horror,Thriller              368\n",
              "Action,Comedy                      347\n",
              "Documentary,Sport                  337\n",
              "Comedy,Drama,Family                334\n",
              "Animation                          328\n",
              "Drama,Mystery,Thriller             327\n",
              "Biography,Documentary,Music        262\n",
              "Sci-Fi                             259\n",
              "Action,Adventure,Comedy            258\n",
              "Biography,Drama                    258\n",
              "Adventure,Animation,Comedy         251\n",
              "Action,Crime,Thriller              247\n",
              "Name: genres, dtype: int64"
            ]
          },
          "metadata": {
            "tags": []
          },
          "execution_count": 45
        }
      ]
    },
    {
      "cell_type": "code",
      "metadata": {
        "id": "440ez-oASW1n",
        "colab_type": "code",
        "outputId": "a4442f4b-a285-4580-9bfc-49757fac4227",
        "colab": {
          "base_uri": "https://localhost:8080/",
          "height": 187
        }
      },
      "source": [
        "# Means for the top 10 genres for 1970s, 2010s\n",
        "\n",
        "# Documentaries 6.9 and 7.2 ---- Horror 5.0 and 4.6\n",
        "# The extremes got more extreme\n",
        "\n",
        "\n",
        "genre_list = ['Drama', 'Documentary', 'Comedy', \n",
        "              'Horror', 'Thriller', 'Action',\n",
        "              'Romance', 'Family', 'Animation', 'Sci-Fi']\n",
        "\n",
        "def get_genre_means_1970s(list):\n",
        "  for genre in list:\n",
        "    df = df_movies_1970s[df_movies_1970s['genres'] == genre]\n",
        "    print('The average rating for ' + str(genre) + \" movies in the 1970s is: \" + str(df['averageRating'].mean()))\n",
        "\n",
        "get_genre_means_1970s(genre_list)"
      ],
      "execution_count": 46,
      "outputs": [
        {
          "output_type": "stream",
          "text": [
            "The average rating for Drama movies in the 1970s is: 6.33316923076923\n",
            "The average rating for Documentary movies in the 1970s is: 6.92979797979798\n",
            "The average rating for Comedy movies in the 1970s is: 5.48768257059395\n",
            "The average rating for Horror movies in the 1970s is: 5.088169014084505\n",
            "The average rating for Thriller movies in the 1970s is: 5.555118110236221\n",
            "The average rating for Action movies in the 1970s is: 5.758232931726908\n",
            "The average rating for Romance movies in the 1970s is: 6.204098360655736\n",
            "The average rating for Family movies in the 1970s is: 6.41276595744681\n",
            "The average rating for Animation movies in the 1970s is: 6.531818181818182\n",
            "The average rating for Sci-Fi movies in the 1970s is: 5.2025\n"
          ],
          "name": "stdout"
        }
      ]
    },
    {
      "cell_type": "code",
      "metadata": {
        "id": "R-qfhP0svHiR",
        "colab_type": "code",
        "colab": {
          "base_uri": "https://localhost:8080/",
          "height": 34
        },
        "outputId": "4ef4ab2b-f1c0-4f8f-e1ec-b640c82442b0"
      },
      "source": [
        "ordered_genres_1970s = ['Horror', 'Sci-Fi', 'Comedy', \n",
        "                        'Thriller', 'Action', 'Romance', \n",
        "                        'Drama', 'Family', 'Animation', 'Documentary']\n",
        "\n",
        "df_movies_1970s.averageRating.mean()"
      ],
      "execution_count": 47,
      "outputs": [
        {
          "output_type": "execute_result",
          "data": {
            "text/plain": [
              "6.053762308788022"
            ]
          },
          "metadata": {
            "tags": []
          },
          "execution_count": 47
        }
      ]
    },
    {
      "cell_type": "code",
      "metadata": {
        "id": "RpE1tzWBT66s",
        "colab_type": "code",
        "outputId": "97c2d73e-3e1b-49b6-ba99-11deab0d3043",
        "colab": {
          "base_uri": "https://localhost:8080/",
          "height": 187
        }
      },
      "source": [
        "def get_genre_means_2010s(list):\n",
        "  for genre in list:\n",
        "    df = df_movies_2010s[df_movies_2010s['genres'] == genre]\n",
        "    print('The average rating for ' + str(genre) + \" movies in the 2010s is: \" + str(df['averageRating'].mean()))\n",
        "\n",
        "get_genre_means_2010s(genre_list)"
      ],
      "execution_count": 48,
      "outputs": [
        {
          "output_type": "stream",
          "text": [
            "The average rating for Drama movies in the 2010s is: 6.430173482032175\n",
            "The average rating for Documentary movies in the 2010s is: 7.2236063708759914\n",
            "The average rating for Comedy movies in the 2010s is: 5.707835820895516\n",
            "The average rating for Horror movies in the 2010s is: 4.630958132045085\n",
            "The average rating for Thriller movies in the 2010s is: 5.4932778932778925\n",
            "The average rating for Action movies in the 2010s is: 5.593527918781728\n",
            "The average rating for Romance movies in the 2010s is: 5.963576158940398\n",
            "The average rating for Family movies in the 2010s is: 5.9270613107822445\n",
            "The average rating for Animation movies in the 2010s is: 5.964024390243901\n",
            "The average rating for Sci-Fi movies in the 2010s is: 5.095752895752895\n"
          ],
          "name": "stdout"
        }
      ]
    },
    {
      "cell_type": "code",
      "metadata": {
        "id": "Fo7cTgrCKZYM",
        "colab_type": "code",
        "colab": {
          "base_uri": "https://localhost:8080/",
          "height": 391
        },
        "outputId": "95e20f04-5199-4de5-80c6-be7b960cd27a"
      },
      "source": [
        "movies_directors_and_ratings['directors'].value_counts().nlargest(21)"
      ],
      "execution_count": 49,
      "outputs": [
        {
          "output_type": "execute_result",
          "data": {
            "text/plain": [
              "\\N           1044\n",
              "nm0627864     193\n",
              "nm0064415     134\n",
              "nm0001238     132\n",
              "nm0782947     131\n",
              "nm0484645     125\n",
              "nm0437356     112\n",
              "nm0385171     111\n",
              "nm0000406     110\n",
              "nm0861703     107\n",
              "nm0781261     106\n",
              "nm0002031     103\n",
              "nm0792450     102\n",
              "nm0554924      98\n",
              "nm0567757      97\n",
              "nm0136025      94\n",
              "nm0005847      92\n",
              "nm0217035      92\n",
              "nm0853028      88\n",
              "nm0245385      87\n",
              "nm0045800      85\n",
              "Name: directors, dtype: int64"
            ]
          },
          "metadata": {
            "tags": []
          },
          "execution_count": 49
        }
      ]
    },
    {
      "cell_type": "code",
      "metadata": {
        "id": "PaaLWTANgAy7",
        "colab_type": "code",
        "outputId": "34ad03f4-5fef-421c-afb7-503e6033c61d",
        "colab": {
          "base_uri": "https://localhost:8080/",
          "height": 71
        }
      },
      "source": [
        "# I'm gonna take the top n most prolific directors and see if their mean is any better\n",
        "# than everyone else's means (t-test)\n",
        "# Since I'm only working with a few, I can go get their names easily later.\n",
        "\n",
        "\n",
        "\n",
        "# Make a list of top 20 directors\n",
        "\n",
        "\n",
        "top20_directors = movies_directors_and_ratings['directors'].value_counts().nlargest(21)\n",
        "\n",
        "director_list = []\n",
        "\n",
        "for value in top20_directors.keys():\n",
        "  director_list.append(value)\n",
        "\n",
        "print(director_list)\n",
        "del director_list[0]\n",
        "print(director_list)"
      ],
      "execution_count": 50,
      "outputs": [
        {
          "output_type": "stream",
          "text": [
            "['\\\\N', 'nm0627864', 'nm0064415', 'nm0001238', 'nm0782947', 'nm0484645', 'nm0437356', 'nm0385171', 'nm0000406', 'nm0861703', 'nm0781261', 'nm0002031', 'nm0792450', 'nm0554924', 'nm0567757', 'nm0136025', 'nm0005847', 'nm0217035', 'nm0853028', 'nm0245385', 'nm0045800']\n",
            "['nm0627864', 'nm0064415', 'nm0001238', 'nm0782947', 'nm0484645', 'nm0437356', 'nm0385171', 'nm0000406', 'nm0861703', 'nm0781261', 'nm0002031', 'nm0792450', 'nm0554924', 'nm0567757', 'nm0136025', 'nm0005847', 'nm0217035', 'nm0853028', 'nm0245385', 'nm0045800']\n"
          ],
          "name": "stdout"
        }
      ]
    },
    {
      "cell_type": "code",
      "metadata": {
        "id": "EgRWR1tsGUyU",
        "colab_type": "code",
        "colab": {
          "base_uri": "https://localhost:8080/",
          "height": 221
        },
        "outputId": "1aacdc81-ad6a-4ede-ceae-33c11dfb3b92"
      },
      "source": [
        "directors_condition = ((movies_directors_and_ratings['directors'] == director_list[0]) | \n",
        "                      #  (movies_directors_and_ratings['directors'] == director_list[1]) |\n",
        "                      #  (movies_directors_and_ratings['directors'] == director_list[2]) |\n",
        "                      #  (movies_directors_and_ratings['directors'] == director_list[3]) |\n",
        "                      #  (movies_directors_and_ratings['directors'] == director_list[4]) |\n",
        "                      #  (movies_directors_and_ratings['directors'] == director_list[5]) |\n",
        "                       (movies_directors_and_ratings['directors'] == director_list[6]) |\n",
        "                       (movies_directors_and_ratings['directors'] == director_list[7]) |\n",
        "                       (movies_directors_and_ratings['directors'] == director_list[8]) |\n",
        "                       (movies_directors_and_ratings['directors'] == director_list[9]) |\n",
        "                       (movies_directors_and_ratings['directors'] == director_list[10]) |\n",
        "                       (movies_directors_and_ratings['directors'] == director_list[11]) |\n",
        "                       (movies_directors_and_ratings['directors'] == director_list[12]) |\n",
        "                       (movies_directors_and_ratings['directors'] == director_list[13]) |\n",
        "                       (movies_directors_and_ratings['directors'] == director_list[14]) |\n",
        "                       (movies_directors_and_ratings['directors'] == director_list[15]) |\n",
        "                       (movies_directors_and_ratings['directors'] == director_list[16]) |\n",
        "                       (movies_directors_and_ratings['directors'] == director_list[17]) |\n",
        "                       (movies_directors_and_ratings['directors'] == director_list[18]) |\n",
        "                       (movies_directors_and_ratings['directors'] == director_list[19]))\n",
        "top_directors_only = movies_directors_and_ratings[directors_condition]\n",
        "\n",
        "print(top_directors_only.shape)\n",
        "top_directors_only.head()"
      ],
      "execution_count": 51,
      "outputs": [
        {
          "output_type": "stream",
          "text": [
            "(1565, 11)\n"
          ],
          "name": "stdout"
        },
        {
          "output_type": "execute_result",
          "data": {
            "text/html": [
              "<div>\n",
              "<style scoped>\n",
              "    .dataframe tbody tr th:only-of-type {\n",
              "        vertical-align: middle;\n",
              "    }\n",
              "\n",
              "    .dataframe tbody tr th {\n",
              "        vertical-align: top;\n",
              "    }\n",
              "\n",
              "    .dataframe thead th {\n",
              "        text-align: right;\n",
              "    }\n",
              "</style>\n",
              "<table border=\"1\" class=\"dataframe\">\n",
              "  <thead>\n",
              "    <tr style=\"text-align: right;\">\n",
              "      <th></th>\n",
              "      <th>tconst</th>\n",
              "      <th>titleType</th>\n",
              "      <th>primaryTitle</th>\n",
              "      <th>startYear</th>\n",
              "      <th>runtimeMinutes</th>\n",
              "      <th>genres</th>\n",
              "      <th>year</th>\n",
              "      <th>directors</th>\n",
              "      <th>writers</th>\n",
              "      <th>averageRating</th>\n",
              "      <th>numVotes</th>\n",
              "    </tr>\n",
              "  </thead>\n",
              "  <tbody>\n",
              "    <tr>\n",
              "      <th>104</th>\n",
              "      <td>tt0004712</td>\n",
              "      <td>movie</td>\n",
              "      <td>The Undesirable</td>\n",
              "      <td>1915</td>\n",
              "      <td>67</td>\n",
              "      <td>Drama</td>\n",
              "      <td>1915</td>\n",
              "      <td>nm0002031</td>\n",
              "      <td>nm0417905,nm0869321</td>\n",
              "      <td>6.3</td>\n",
              "      <td>157</td>\n",
              "    </tr>\n",
              "    <tr>\n",
              "      <th>131</th>\n",
              "      <td>tt0005179</td>\n",
              "      <td>movie</td>\n",
              "      <td>David Harum</td>\n",
              "      <td>1915</td>\n",
              "      <td>50</td>\n",
              "      <td>Comedy,Drama,Romance</td>\n",
              "      <td>1915</td>\n",
              "      <td>nm0245385</td>\n",
              "      <td>nm0245385,nm0921684</td>\n",
              "      <td>5.6</td>\n",
              "      <td>21</td>\n",
              "    </tr>\n",
              "    <tr>\n",
              "      <th>204</th>\n",
              "      <td>tt0006426</td>\n",
              "      <td>movie</td>\n",
              "      <td>Betty of Greystone</td>\n",
              "      <td>1916</td>\n",
              "      <td>50</td>\n",
              "      <td>Drama</td>\n",
              "      <td>1916</td>\n",
              "      <td>nm0245385</td>\n",
              "      <td>nm0682756</td>\n",
              "      <td>5.2</td>\n",
              "      <td>12</td>\n",
              "    </tr>\n",
              "    <tr>\n",
              "      <th>227</th>\n",
              "      <td>tt0006679</td>\n",
              "      <td>movie</td>\n",
              "      <td>Fifty-Fifty</td>\n",
              "      <td>1916</td>\n",
              "      <td>55</td>\n",
              "      <td>Drama</td>\n",
              "      <td>1916</td>\n",
              "      <td>nm0245385</td>\n",
              "      <td>nm0245385,nm0794340</td>\n",
              "      <td>4.9</td>\n",
              "      <td>9</td>\n",
              "    </tr>\n",
              "    <tr>\n",
              "      <th>231</th>\n",
              "      <td>tt0006736</td>\n",
              "      <td>movie</td>\n",
              "      <td>The Good Bad-Man</td>\n",
              "      <td>1916</td>\n",
              "      <td>50</td>\n",
              "      <td>Romance,Western</td>\n",
              "      <td>1916</td>\n",
              "      <td>nm0245385</td>\n",
              "      <td>nm0001196</td>\n",
              "      <td>6.6</td>\n",
              "      <td>136</td>\n",
              "    </tr>\n",
              "  </tbody>\n",
              "</table>\n",
              "</div>"
            ],
            "text/plain": [
              "        tconst titleType  ... averageRating numVotes\n",
              "104  tt0004712     movie  ...           6.3      157\n",
              "131  tt0005179     movie  ...           5.6       21\n",
              "204  tt0006426     movie  ...           5.2       12\n",
              "227  tt0006679     movie  ...           4.9        9\n",
              "231  tt0006736     movie  ...           6.6      136\n",
              "\n",
              "[5 rows x 11 columns]"
            ]
          },
          "metadata": {
            "tags": []
          },
          "execution_count": 51
        }
      ]
    },
    {
      "cell_type": "code",
      "metadata": {
        "id": "bCh1isCeK9dA",
        "colab_type": "code",
        "colab": {
          "base_uri": "https://localhost:8080/",
          "height": 289
        },
        "outputId": "439d8b89-b986-47da-a744-27a7264ae2a9"
      },
      "source": [
        "top_directors_only['directors'].value_counts()"
      ],
      "execution_count": 52,
      "outputs": [
        {
          "output_type": "execute_result",
          "data": {
            "text/plain": [
              "nm0627864    193\n",
              "nm0385171    111\n",
              "nm0000406    110\n",
              "nm0861703    107\n",
              "nm0781261    106\n",
              "nm0002031    103\n",
              "nm0792450    102\n",
              "nm0554924     98\n",
              "nm0567757     97\n",
              "nm0136025     94\n",
              "nm0217035     92\n",
              "nm0005847     92\n",
              "nm0853028     88\n",
              "nm0245385     87\n",
              "nm0045800     85\n",
              "Name: directors, dtype: int64"
            ]
          },
          "metadata": {
            "tags": []
          },
          "execution_count": 52
        }
      ]
    },
    {
      "cell_type": "code",
      "metadata": {
        "id": "VCG5IsNnLRgf",
        "colab_type": "code",
        "colab": {}
      },
      "source": [
        "# Extra variables\n",
        "\n",
        "top_directors_mean = top_directors_only['averageRating'].mean()\n",
        "top_directors_std = top_directors_only['averageRating'].std()\n",
        "all_directors_mean = movies_directors_and_ratings['averageRating'].mean()\n",
        "all_directors_std = movies_directors_and_ratings['averageRating'].std()\n",
        "x_labels = ['Top 20', 'Everyone else']\n",
        "x_pos = np.arange(len(x_labels))\n",
        "ratings = [top_directors_mean, all_directors_mean]\n",
        "error = [top_directors_std, all_directors_std]\n"
      ],
      "execution_count": 0,
      "outputs": []
    },
    {
      "cell_type": "code",
      "metadata": {
        "id": "j4N8tifCYeUn",
        "colab_type": "code",
        "colab": {}
      },
      "source": [
        "# Set up error bars for Visualization 2\n",
        "\n",
        "import scipy.stats as stats\n",
        "\n",
        "def confidence_interval(data, confidence=0.95):\n",
        "  \"\"\"\n",
        "  Calculate a confidence interval around a sample mean for given data.\n",
        "  Using t-distribution and two-tailed test, default 95% confidence. \n",
        "  \n",
        "  Arguments:\n",
        "    data - iterable (list or numpy array) of sample observations\n",
        "    confidence - level of confidence for the interval\n",
        "  \n",
        "  Returns:\n",
        "    tuple of (mean, lower bound, upper bound)\n",
        "  \"\"\"\n",
        "  data = np.array(data)\n",
        "  mean = np.mean(data)\n",
        "  n = len(data)\n",
        "  # Numpy by default calculates the \"population\" std_dev\n",
        "  # The following line is wrong:\n",
        "  # s = np.std(data) \n",
        "  # But we want the \"sample\" std_dev\n",
        "  s = np.std(data, ddof=1) # will use n-1 in the denominator\n",
        "  # And will actually calculate the sample standard deviation\n",
        "  stderr = s / np.sqrt(n)\n",
        "  margin_of_error = stderr * stats.t.ppf((1 + confidence) / 2.0, n - 1)\n",
        "  return (margin_of_error)\n",
        "\n",
        "shwifty = confidence_interval(top_directors_only['averageRating'], confidence=0.95)"
      ],
      "execution_count": 0,
      "outputs": []
    },
    {
      "cell_type": "code",
      "metadata": {
        "id": "4kaYtbcpyNri",
        "colab_type": "code",
        "outputId": "e740a3cd-9b0b-488b-863a-61571c9ea2d7",
        "colab": {
          "base_uri": "https://localhost:8080/",
          "height": 304
        }
      },
      "source": [
        "# VISUALIZATION 1: Did Boomers make the worst movies?\n",
        "\n",
        "mean_data = pd.Series([mean40, mean50, mean60, mean70, mean80, mean90, mean00, mean10], \n",
        "                 index=[\"40's\", \"50's\", \"60's\", \"70's\", \"80's\", \"90's\", \"00's\", \"10's\"])\n",
        "\n",
        "%matplotlib inline\n",
        "import matplotlib.pyplot as plt\n",
        "import numpy as np\n",
        "import pandas as pd\n",
        "\n",
        "fig, ax = plt.subplots()\n",
        "\n",
        "# Data\n",
        "ax.plot(mean_data, color='C1');\n",
        "\n",
        "# Styling\n",
        "plt.style.use('fivethirtyeight')\n",
        "fig.patch.set(facecolor='white')\n",
        "ax.set(facecolor='white')\n",
        "\n",
        "# Title\n",
        "ax.set_title(\"Did Boomers make the worst movies?\", loc='left', \n",
        "             color='black', fontsize='14', fontweight='bold', x=-0.07, y=1.1)\n",
        "\n",
        "# Subtitle\n",
        "ax.text(s='Mean IMDB rating by decade', \n",
        "        x=-0.87, y=6.37, color='black', fontsize='12')\n",
        "\n",
        "# y ticks\n",
        "#ax.set_yticks(ticks=[5.5, 6, 6.5])\n",
        "\n",
        "# y tick labels\n",
        "#ax.set_yticklabels(labels=[' ', '6.1', ' ', '6.2', ' ', '6.3', ' ', '6.4'])\n",
        "#                   color='gray', rotation='horizontal', fontsize='11')\n",
        "\n",
        "# Remove vertical lines\n",
        "ax.xaxis.grid(False)"
      ],
      "execution_count": 55,
      "outputs": [
        {
          "output_type": "display_data",
          "data": {
            "image/png": "[encoded data removed]",
            "text/plain": [
              "<Figure size 432x288 with 1 Axes>"
            ]
          },
          "metadata": {
            "tags": []
          }
        }
      ]
    },
    {
      "cell_type": "code",
      "metadata": {
        "id": "GTetxrH7R7nj",
        "colab_type": "code",
        "colab": {
          "base_uri": "https://localhost:8080/",
          "height": 335
        },
        "outputId": "e856e01e-3fd1-42df-a36c-364160b2d659"
      },
      "source": [
        "# VISUALIZATION 2 - Top 20 most prolific directors vs everyone else\n",
        "\n",
        "\n",
        "fake = pd.Series([top_directors_mean, all_directors_mean])\n",
        "\n",
        "#Set Stylesheet\n",
        "plt.style.use('fivethirtyeight')\n",
        "\n",
        "# figure / axes syntax\n",
        "fig, ax = plt.subplots()\n",
        "\n",
        "# for item in [fig, ax]:\n",
        "#     item.patch.set_visible(False)\n",
        "\n",
        "# plot the bars\n",
        "fake.plot.bar(fake, yerr=shwifty, width=0.6, color='#1FD760');\n",
        "\n",
        "# title\n",
        "ax.set_title(\"Prolific directors don't make better movies\", loc='left', \n",
        "             color='black', fontsize='12.5', fontweight='semibold', x=-0.08, y=1.13)\n",
        "\n",
        "# subtitle\n",
        "ax.text(s='The top 20 directors (by movie count) vs everyone else', \n",
        "        x=-0.72, y=7.63, color='black', fontsize='11')\n",
        "\n",
        "\n",
        "# x label\n",
        "# ax.set_xlabel('Rating     ', color='black', fontsize='11', \n",
        "#               fontweight='normal')\n",
        "\n",
        "# y label\n",
        "ax.set_ylabel('Avg. IMDB rating', color='black', \n",
        "              fontsize='10.5', fontweight='normal')\n",
        "\n",
        "# x tick labels\n",
        "ax.set_xticklabels(labels=['Top 20', 'All Others'], \n",
        "                   color='black', rotation='horizontal', fontsize='12', y=0.01)\n",
        "# y tick labels\n",
        "ax.set_yticklabels(labels=['0', '1', '2', '3', '4', '5', '6', '7'], \n",
        "                   color='black', rotation='horizontal', fontsize='12')\n",
        "ax.grid(False)\n",
        "\n",
        "# set y ticks\n",
        "ax.set_yticks(ticks=range(0,8))\n",
        "\n",
        "# set figure background color\n",
        "fig.set_facecolor(color='white')\n",
        "# fig.patch.set(facecolor='white')\n",
        "\n",
        "# set axes background color\n",
        "ax.set_facecolor(color='white')\n",
        "\n",
        "# ax.spines['bottom'].set_visible(False)\n",
        "#ax.spines['left'].set_visible(False)\n",
        "ax.spines['right'].set_visible(False)\n",
        "ax.spines['top'].set_visible(False)\n",
        "\n",
        "# extend x ticks\n",
        "ax.tick_params(which='major', length=10, color='#E4E4E4', axis='x')\n"
      ],
      "execution_count": 56,
      "outputs": [
        {
          "output_type": "display_data",
          "data": {
            "image/png": "[encoded data removed]",
            "text/plain": [
              "<Figure size 432x288 with 1 Axes>"
            ]
          },
          "metadata": {
            "tags": []
          }
        }
      ]
    },
    {
      "cell_type": "code",
      "metadata": {
        "id": "5PlmveC-LhN5",
        "colab_type": "code",
        "outputId": "9b2875d5-39f7-48cc-f9d4-1755baf9b726",
        "colab": {
          "base_uri": "https://localhost:8080/",
          "height": 54
        }
      },
      "source": [
        "# Next 3 cells are setting up for visualization 3\n",
        "\n",
        "genre_means_1970 = []\n",
        "\n",
        "def list_genre_means_1970s(list):\n",
        "  for genre in list:\n",
        "    df = df_movies_1970s[df_movies_1970s['genres'] == genre]\n",
        "    genre_means_1970.append(df['averageRating'].mean())\n",
        "\n",
        "list_genre_means_1970s(genre_list)\n",
        "print(genre_means_1970)"
      ],
      "execution_count": 57,
      "outputs": [
        {
          "output_type": "stream",
          "text": [
            "[6.33316923076923, 6.92979797979798, 5.48768257059395, 5.088169014084505, 5.555118110236221, 5.758232931726908, 6.204098360655736, 6.41276595744681, 6.531818181818182, 5.2025]\n"
          ],
          "name": "stdout"
        }
      ]
    },
    {
      "cell_type": "code",
      "metadata": {
        "id": "s2kbKK0Nmyfo",
        "colab_type": "code",
        "outputId": "5b81c56c-2f5d-4c7f-ccd6-b39c03fdce0e",
        "colab": {
          "base_uri": "https://localhost:8080/",
          "height": 54
        }
      },
      "source": [
        "genre_means_2010s = []\n",
        "\n",
        "def list_genre_means_2010s(list):\n",
        "  for genre in list:\n",
        "    df = df_movies_2010s[df_movies_2010s['genres'] == genre]\n",
        "    genre_means_2010s.append(df['averageRating'].mean())\n",
        "\n",
        "list_genre_means_2010s(genre_list)\n",
        "print(genre_means_2010s)"
      ],
      "execution_count": 58,
      "outputs": [
        {
          "output_type": "stream",
          "text": [
            "[6.430173482032175, 7.2236063708759914, 5.707835820895516, 4.630958132045085, 5.4932778932778925, 5.593527918781728, 5.963576158940398, 5.9270613107822445, 5.964024390243901, 5.095752895752895]\n"
          ],
          "name": "stdout"
        }
      ]
    },
    {
      "cell_type": "code",
      "metadata": {
        "id": "Ogtzhj7fs0Kz",
        "colab_type": "code",
        "colab": {
          "base_uri": "https://localhost:8080/",
          "height": 51
        },
        "outputId": "d61f7164-2911-47b8-f3f1-7f8ec4a35cff"
      },
      "source": [
        "ordered_genres_2010s = ['Horror', 'Sci-Fi', \n",
        "                        'Thriller', 'Action', 'Comedy', 'Animation', \n",
        "                        'Family', 'Romance', 'Drama', 'Documentary']\n",
        "\n",
        "print(df_movies_1970s.averageRating.mean())\n",
        "print(df_movies_2010s.averageRating.mean())"
      ],
      "execution_count": 59,
      "outputs": [
        {
          "output_type": "stream",
          "text": [
            "6.053762308788022\n",
            "6.2652281793631195\n"
          ],
          "name": "stdout"
        }
      ]
    },
    {
      "cell_type": "code",
      "metadata": {
        "id": "lwJ16BtFHXaR",
        "colab_type": "code",
        "outputId": "2026fcae-a81a-4873-c82f-3c62fc2f69f0",
        "colab": {
          "base_uri": "https://localhost:8080/",
          "height": 568
        }
      },
      "source": [
        "# Visualization 3: means by genre\n",
        "\n",
        "import numpy as np\n",
        "import seaborn as sns\n",
        "import matplotlib.pyplot as plt\n",
        "sns.set(style=\"white\", context=\"talk\")\n",
        "\n",
        "\n",
        "# Set up the matplotlib figure\n",
        "f, (ax1, ax2) = plt.subplots(2, 1, figsize=(16, 8), sharex=True)\n",
        "#show_values_on_bars(ax)\n",
        "\n",
        "# Title\n",
        "ax1.set_title(\"IMDB ratings by genre (vs overall average)\",fontsize=30)\n",
        "\n",
        "genre_means_1970.sort()\n",
        "# Top plot\n",
        "x = np.array(ordered_genres_2010s)\n",
        "y1 = np.array(genre_means_1970) - np.array(df_movies_1970s.averageRating.mean())\n",
        "sns.barplot(x=x, y=y1, palette=\"Greens\", ax=ax1)\n",
        "ax1.axhline(0, color=\"k\", clip_on=False)\n",
        "ax1.set_ylabel(\"1970s\")\n",
        "ax1.set_xlabel(\".        Horror         Sci-Fi        Comedy      Thriller       Action     Romance    Drama      Family     Animation    Documentary\")\n",
        "ax1.text(s='6.9', x=8.85, y=0.95, fontsize='20', color='black', fontweight='bold')\n",
        "ax1.text(s='6.5', x=7.85, y=0.55, fontsize='18', color='black')\n",
        "ax1.text(s='6.4', x=6.85, y=0.45, fontsize='18', color='black')\n",
        "ax1.text(s='6.3', x=5.85, y=0.35, fontsize='18', color='black')\n",
        "ax1.text(s='6.2', x=4.85, y=0.25, fontsize='18', color='black')\n",
        "ax1.text(s='5.8', x=3.85, y=-0.45, fontsize='18', color='black')\n",
        "ax1.text(s='5.6', x=2.85, y=-0.65, fontsize='18', color='black')\n",
        "ax1.text(s='5.5', x=1.85, y=-0.75, fontsize='18', color='black')\n",
        "ax1.text(s='5.2', x=0.85, y=-0.75, fontsize='18', color='black')\n",
        "ax1.text(s='5.1', x=-0.15, y=-0.85, fontsize='18', color='black')\n",
        "\n",
        "genre_means_2010s.sort()\n",
        "# Bottom plot\n",
        "y2 = np.array(genre_means_2010s) - np.array(df_movies_2010s.averageRating.mean()) \n",
        "sns.barplot(x=x, y=y2, palette=\"Greens\", ax=ax2)\n",
        "ax2.axhline(0, color=\"k\", clip_on=False)\n",
        "ax2.set_ylabel(\"2010s\")\n",
        "ax2.text(s='7.2', x=8.85, y=1.05, fontsize='20', color='black', fontweight='bold')\n",
        "ax2.text(s='6.4', x=7.85, y=0.25, fontsize='18', color='black')\n",
        "ax2.text(s='5.9', x=6.85, y=-0.55, fontsize='18', color='black')\n",
        "ax2.text(s='5.9', x=5.85, y=-0.55, fontsize='18', color='black')\n",
        "ax2.text(s='5.9', x=4.85, y=-0.55, fontsize='18', color='black')\n",
        "ax2.text(s='5.7', x=3.85, y=-0.80, fontsize='18', color='black')\n",
        "ax2.text(s='5.6', x=2.85, y=-0.90, fontsize='18', color='black')\n",
        "ax2.text(s='5.5', x=1.85, y=-1.05, fontsize='18', color='black')\n",
        "ax2.text(s='5.1', x=0.85, y=-1.40, fontsize='18', color='black')\n",
        "ax2.text(s='4.6', x=-0.15, y=-1.45, fontsize='18', color='black')\n",
        "\n",
        "# Finalize the plot\n",
        "sns.despine(bottom=True)\n",
        "plt.setp(f.axes, yticks=[])\n",
        "plt.tight_layout(h_pad=2)"
      ],
      "execution_count": 60,
      "outputs": [
        {
          "output_type": "display_data",
          "data": {
            "image/png": "[encoded data removed]",
            "text/plain": [
              "<Figure size 1152x576 with 2 Axes>"
            ]
          },
          "metadata": {
            "tags": []
          }
        }
      ]
    },
    {
      "cell_type": "code",
      "metadata": {
        "id": "i91YpQO9xG3x",
        "colab_type": "code",
        "colab": {
          "base_uri": "https://localhost:8080/",
          "height": 221
        },
        "outputId": "5ea6e3c9-1224-4a1b-c26c-56f82716ddc4"
      },
      "source": [
        "# The reason the 2010s baseline looks off centered is because \n",
        "# there were a LOT of documentaries and dramas skewing the mean\n",
        "\n",
        "df_movies_2010s['genres'].value_counts()"
      ],
      "execution_count": 61,
      "outputs": [
        {
          "output_type": "execute_result",
          "data": {
            "text/plain": [
              "Drama                         11298\n",
              "Documentary                   10548\n",
              "Comedy                         5092\n",
              "Comedy,Drama                   2704\n",
              "Horror                         2484\n",
              "                              ...  \n",
              "Documentary,Horror,Romance        1\n",
              "Action,Documentary,Horror         1\n",
              "Adventure,Biography,Family        1\n",
              "Crime,Documentary,Sport           1\n",
              "Biography,History,Music           1\n",
              "Name: genres, Length: 931, dtype: int64"
            ]
          },
          "metadata": {
            "tags": []
          },
          "execution_count": 61
        }
      ]
    },
    {
      "cell_type": "code",
      "metadata": {
        "id": "n3bdg2n6xLCI",
        "colab_type": "code",
        "colab": {}
      },
      "source": [
        ""
      ],
      "execution_count": 0,
      "outputs": []
    }
  ]
}