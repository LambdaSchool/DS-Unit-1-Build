{
  "nbformat": 4,
  "nbformat_minor": 0,
  "metadata": {
    "colab": {
      "name": "Unit 1 Build Week",
      "provenance": [],
      "collapsed_sections": [],
      "authorship_tag": "ABX9TyNnZbUNBaLIxS0vByowmzJG",
      "include_colab_link": true
    },
    "kernelspec": {
      "name": "python3",
      "display_name": "Python 3"
    }
  },
  "cells": [
    {
      "cell_type": "markdown",
      "metadata": {
        "id": "view-in-github",
        "colab_type": "text"
      },
      "source": [
        "<a href=\"https://colab.research.google.com/github/GodingWal/DS-Unit-1-Build/blob/master/Unit_1_Build_Week.ipynb\" target=\"_parent\"><img src=\"https://colab.research.google.com/assets/colab-badge.svg\" alt=\"Open In Colab\"/></a>"
      ]
    },
    {
      "cell_type": "code",
      "metadata": {
        "id": "4d9YZrKsLS82",
        "colab_type": "code",
        "outputId": "03f49a7d-1dff-4e14-c0ac-a00263673f2d",
        "colab": {
          "base_uri": "https://localhost:8080/",
          "height": 71
        }
      },
      "source": [
        "import pandas as pd\n",
        "import numpy as np\n",
        "import matplotlib.pyplot as plt\n",
        "import matplotlib.patches as mpatches\n",
        "from sklearn.preprocessing import StandardScaler\n",
        "from sklearn.decomposition import PCA\n",
        "import statistics\n",
        "from scipy import stats\n",
        "import seaborn as sns"
      ],
      "execution_count": 1,
      "outputs": [
        {
          "output_type": "stream",
          "text": [
            "/usr/local/lib/python3.6/dist-packages/statsmodels/tools/_testing.py:19: FutureWarning: pandas.util.testing is deprecated. Use the functions in the public API at pandas.testing instead.\n",
            "  import pandas.util.testing as tm\n"
          ],
          "name": "stderr"
        }
      ]
    },
    {
      "cell_type": "code",
      "metadata": {
        "id": "XhO1iCA9LZdO",
        "colab_type": "code",
        "outputId": "f0e3ec17-744d-43b5-dcae-3a3e95621863",
        "colab": {
          "resources": {
            "http://localhost:8080/nbextensions/google.colab/files.js": {
              "data": "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",
              "ok": true,
              "headers": [
                [
                  "content-type",
                  "application/javascript"
                ]
              ],
              "status": 200,
              "status_text": ""
            }
          },
          "base_uri": "https://localhost:8080/",
          "height": 74
        }
      },
      "source": [
        "from google.colab import files\n",
        "uploaded = files.upload()"
      ],
      "execution_count": 2,
      "outputs": [
        {
          "output_type": "display_data",
          "data": {
            "text/html": [
              "\n",
              "     <input type=\"file\" id=\"files-0bac3af4-c37d-4df4-8d40-5deae7d58891\" name=\"files[]\" multiple disabled />\n",
              "     <output id=\"result-0bac3af4-c37d-4df4-8d40-5deae7d58891\">\n",
              "      Upload widget is only available when the cell has been executed in the\n",
              "      current browser session. Please rerun this cell to enable.\n",
              "      </output>\n",
              "      <script src=\"/nbextensions/google.colab/files.js\"></script> "
            ],
            "text/plain": [
              "<IPython.core.display.HTML object>"
            ]
          },
          "metadata": {
            "tags": []
          }
        },
        {
          "output_type": "stream",
          "text": [
            "Saving nba_team_stats_00_to_18.csv to nba_team_stats_00_to_18.csv\n"
          ],
          "name": "stdout"
        }
      ]
    },
    {
      "cell_type": "code",
      "metadata": {
        "id": "-M347x4EMKb4",
        "colab_type": "code",
        "outputId": "9eeaeb07-39c8-40f4-d9e8-3c6a7d9f1e8f",
        "colab": {
          "base_uri": "https://localhost:8080/",
          "height": 306
        }
      },
      "source": [
        "nba = pd.read_csv('nba_team_stats_00_to_18.csv')\n",
        "nba.head()"
      ],
      "execution_count": 3,
      "outputs": [
        {
          "output_type": "execute_result",
          "data": {
            "text/html": [
              "<div>\n",
              "<style scoped>\n",
              "    .dataframe tbody tr th:only-of-type {\n",
              "        vertical-align: middle;\n",
              "    }\n",
              "\n",
              "    .dataframe tbody tr th {\n",
              "        vertical-align: top;\n",
              "    }\n",
              "\n",
              "    .dataframe thead th {\n",
              "        text-align: right;\n",
              "    }\n",
              "</style>\n",
              "<table border=\"1\" class=\"dataframe\">\n",
              "  <thead>\n",
              "    <tr style=\"text-align: right;\">\n",
              "      <th></th>\n",
              "      <th>Unnamed: 0</th>\n",
              "      <th>TEAM</th>\n",
              "      <th>GP</th>\n",
              "      <th>W</th>\n",
              "      <th>L</th>\n",
              "      <th>WIN%</th>\n",
              "      <th>MIN</th>\n",
              "      <th>PTS</th>\n",
              "      <th>FGM</th>\n",
              "      <th>FGA</th>\n",
              "      <th>FG%</th>\n",
              "      <th>3PM</th>\n",
              "      <th>3PA</th>\n",
              "      <th>3P%</th>\n",
              "      <th>FTM</th>\n",
              "      <th>FTA</th>\n",
              "      <th>FT%</th>\n",
              "      <th>OREB</th>\n",
              "      <th>DREB</th>\n",
              "      <th>REB</th>\n",
              "      <th>AST</th>\n",
              "      <th>TOV</th>\n",
              "      <th>STL</th>\n",
              "      <th>BLK</th>\n",
              "      <th>BLKA</th>\n",
              "      <th>PF</th>\n",
              "      <th>PFD</th>\n",
              "      <th>+/-</th>\n",
              "      <th>SEASON</th>\n",
              "    </tr>\n",
              "  </thead>\n",
              "  <tbody>\n",
              "    <tr>\n",
              "      <th>0</th>\n",
              "      <td>0</td>\n",
              "      <td>Atlanta Hawks</td>\n",
              "      <td>82</td>\n",
              "      <td>29</td>\n",
              "      <td>53</td>\n",
              "      <td>0.354</td>\n",
              "      <td>48.4</td>\n",
              "      <td>113.3</td>\n",
              "      <td>41.4</td>\n",
              "      <td>91.8</td>\n",
              "      <td>45.1</td>\n",
              "      <td>13.0</td>\n",
              "      <td>37.0</td>\n",
              "      <td>35.2</td>\n",
              "      <td>17.6</td>\n",
              "      <td>23.4</td>\n",
              "      <td>75.2</td>\n",
              "      <td>11.6</td>\n",
              "      <td>34.5</td>\n",
              "      <td>46.1</td>\n",
              "      <td>25.8</td>\n",
              "      <td>17.0</td>\n",
              "      <td>8.2</td>\n",
              "      <td>5.1</td>\n",
              "      <td>5.5</td>\n",
              "      <td>23.6</td>\n",
              "      <td>22.2</td>\n",
              "      <td>-6.0</td>\n",
              "      <td>2018-19</td>\n",
              "    </tr>\n",
              "    <tr>\n",
              "      <th>1</th>\n",
              "      <td>1</td>\n",
              "      <td>Boston Celtics</td>\n",
              "      <td>82</td>\n",
              "      <td>49</td>\n",
              "      <td>33</td>\n",
              "      <td>0.598</td>\n",
              "      <td>48.2</td>\n",
              "      <td>112.4</td>\n",
              "      <td>42.1</td>\n",
              "      <td>90.5</td>\n",
              "      <td>46.5</td>\n",
              "      <td>12.6</td>\n",
              "      <td>34.5</td>\n",
              "      <td>36.5</td>\n",
              "      <td>15.6</td>\n",
              "      <td>19.5</td>\n",
              "      <td>80.2</td>\n",
              "      <td>9.8</td>\n",
              "      <td>34.7</td>\n",
              "      <td>44.5</td>\n",
              "      <td>26.3</td>\n",
              "      <td>12.8</td>\n",
              "      <td>8.6</td>\n",
              "      <td>5.3</td>\n",
              "      <td>3.9</td>\n",
              "      <td>20.4</td>\n",
              "      <td>19.5</td>\n",
              "      <td>4.4</td>\n",
              "      <td>2018-19</td>\n",
              "    </tr>\n",
              "    <tr>\n",
              "      <th>2</th>\n",
              "      <td>2</td>\n",
              "      <td>Brooklyn Nets</td>\n",
              "      <td>82</td>\n",
              "      <td>42</td>\n",
              "      <td>40</td>\n",
              "      <td>0.512</td>\n",
              "      <td>48.7</td>\n",
              "      <td>112.2</td>\n",
              "      <td>40.3</td>\n",
              "      <td>89.7</td>\n",
              "      <td>44.9</td>\n",
              "      <td>12.8</td>\n",
              "      <td>36.2</td>\n",
              "      <td>35.3</td>\n",
              "      <td>19.0</td>\n",
              "      <td>25.5</td>\n",
              "      <td>74.5</td>\n",
              "      <td>11.0</td>\n",
              "      <td>35.6</td>\n",
              "      <td>46.6</td>\n",
              "      <td>23.8</td>\n",
              "      <td>15.1</td>\n",
              "      <td>6.6</td>\n",
              "      <td>4.1</td>\n",
              "      <td>5.3</td>\n",
              "      <td>21.5</td>\n",
              "      <td>22.0</td>\n",
              "      <td>-0.1</td>\n",
              "      <td>2018-19</td>\n",
              "    </tr>\n",
              "    <tr>\n",
              "      <th>3</th>\n",
              "      <td>3</td>\n",
              "      <td>Charlotte Hornets</td>\n",
              "      <td>82</td>\n",
              "      <td>39</td>\n",
              "      <td>43</td>\n",
              "      <td>0.476</td>\n",
              "      <td>48.4</td>\n",
              "      <td>110.7</td>\n",
              "      <td>40.2</td>\n",
              "      <td>89.8</td>\n",
              "      <td>44.8</td>\n",
              "      <td>11.9</td>\n",
              "      <td>33.9</td>\n",
              "      <td>35.1</td>\n",
              "      <td>18.4</td>\n",
              "      <td>23.1</td>\n",
              "      <td>79.7</td>\n",
              "      <td>9.9</td>\n",
              "      <td>33.9</td>\n",
              "      <td>43.8</td>\n",
              "      <td>23.2</td>\n",
              "      <td>12.2</td>\n",
              "      <td>7.2</td>\n",
              "      <td>4.9</td>\n",
              "      <td>6.0</td>\n",
              "      <td>18.9</td>\n",
              "      <td>20.6</td>\n",
              "      <td>-1.1</td>\n",
              "      <td>2018-19</td>\n",
              "    </tr>\n",
              "    <tr>\n",
              "      <th>4</th>\n",
              "      <td>4</td>\n",
              "      <td>Chicago Bulls</td>\n",
              "      <td>82</td>\n",
              "      <td>22</td>\n",
              "      <td>60</td>\n",
              "      <td>0.268</td>\n",
              "      <td>48.5</td>\n",
              "      <td>104.9</td>\n",
              "      <td>39.8</td>\n",
              "      <td>87.9</td>\n",
              "      <td>45.3</td>\n",
              "      <td>9.1</td>\n",
              "      <td>25.9</td>\n",
              "      <td>35.1</td>\n",
              "      <td>16.2</td>\n",
              "      <td>20.7</td>\n",
              "      <td>78.3</td>\n",
              "      <td>8.8</td>\n",
              "      <td>34.1</td>\n",
              "      <td>42.9</td>\n",
              "      <td>21.9</td>\n",
              "      <td>14.1</td>\n",
              "      <td>7.4</td>\n",
              "      <td>4.3</td>\n",
              "      <td>5.8</td>\n",
              "      <td>20.3</td>\n",
              "      <td>18.7</td>\n",
              "      <td>-8.4</td>\n",
              "      <td>2018-19</td>\n",
              "    </tr>\n",
              "  </tbody>\n",
              "</table>\n",
              "</div>"
            ],
            "text/plain": [
              "   Unnamed: 0               TEAM  GP   W   L  ...  BLKA    PF   PFD  +/-   SEASON\n",
              "0           0      Atlanta Hawks  82  29  53  ...   5.5  23.6  22.2 -6.0  2018-19\n",
              "1           1     Boston Celtics  82  49  33  ...   3.9  20.4  19.5  4.4  2018-19\n",
              "2           2      Brooklyn Nets  82  42  40  ...   5.3  21.5  22.0 -0.1  2018-19\n",
              "3           3  Charlotte Hornets  82  39  43  ...   6.0  18.9  20.6 -1.1  2018-19\n",
              "4           4      Chicago Bulls  82  22  60  ...   5.8  20.3  18.7 -8.4  2018-19\n",
              "\n",
              "[5 rows x 29 columns]"
            ]
          },
          "metadata": {
            "tags": []
          },
          "execution_count": 3
        }
      ]
    },
    {
      "cell_type": "code",
      "metadata": {
        "id": "GwBgbXplYXZM",
        "colab_type": "code",
        "colab": {}
      },
      "source": [
        "df = nba.drop('Unnamed: 0', axis=1)"
      ],
      "execution_count": 0,
      "outputs": []
    },
    {
      "cell_type": "code",
      "metadata": {
        "id": "cRn2aU_gZzKm",
        "colab_type": "code",
        "colab": {
          "base_uri": "https://localhost:8080/",
          "height": 204
        },
        "outputId": "4ecfaf09-f423-4763-e7b5-ae57e20a01fd"
      },
      "source": [
        "df.head()"
      ],
      "execution_count": 5,
      "outputs": [
        {
          "output_type": "execute_result",
          "data": {
            "text/html": [
              "<div>\n",
              "<style scoped>\n",
              "    .dataframe tbody tr th:only-of-type {\n",
              "        vertical-align: middle;\n",
              "    }\n",
              "\n",
              "    .dataframe tbody tr th {\n",
              "        vertical-align: top;\n",
              "    }\n",
              "\n",
              "    .dataframe thead th {\n",
              "        text-align: right;\n",
              "    }\n",
              "</style>\n",
              "<table border=\"1\" class=\"dataframe\">\n",
              "  <thead>\n",
              "    <tr style=\"text-align: right;\">\n",
              "      <th></th>\n",
              "      <th>TEAM</th>\n",
              "      <th>GP</th>\n",
              "      <th>W</th>\n",
              "      <th>L</th>\n",
              "      <th>WIN%</th>\n",
              "      <th>MIN</th>\n",
              "      <th>PTS</th>\n",
              "      <th>FGM</th>\n",
              "      <th>FGA</th>\n",
              "      <th>FG%</th>\n",
              "      <th>3PM</th>\n",
              "      <th>3PA</th>\n",
              "      <th>3P%</th>\n",
              "      <th>FTM</th>\n",
              "      <th>FTA</th>\n",
              "      <th>FT%</th>\n",
              "      <th>OREB</th>\n",
              "      <th>DREB</th>\n",
              "      <th>REB</th>\n",
              "      <th>AST</th>\n",
              "      <th>TOV</th>\n",
              "      <th>STL</th>\n",
              "      <th>BLK</th>\n",
              "      <th>BLKA</th>\n",
              "      <th>PF</th>\n",
              "      <th>PFD</th>\n",
              "      <th>+/-</th>\n",
              "      <th>SEASON</th>\n",
              "    </tr>\n",
              "  </thead>\n",
              "  <tbody>\n",
              "    <tr>\n",
              "      <th>0</th>\n",
              "      <td>Atlanta Hawks</td>\n",
              "      <td>82</td>\n",
              "      <td>29</td>\n",
              "      <td>53</td>\n",
              "      <td>0.354</td>\n",
              "      <td>48.4</td>\n",
              "      <td>113.3</td>\n",
              "      <td>41.4</td>\n",
              "      <td>91.8</td>\n",
              "      <td>45.1</td>\n",
              "      <td>13.0</td>\n",
              "      <td>37.0</td>\n",
              "      <td>35.2</td>\n",
              "      <td>17.6</td>\n",
              "      <td>23.4</td>\n",
              "      <td>75.2</td>\n",
              "      <td>11.6</td>\n",
              "      <td>34.5</td>\n",
              "      <td>46.1</td>\n",
              "      <td>25.8</td>\n",
              "      <td>17.0</td>\n",
              "      <td>8.2</td>\n",
              "      <td>5.1</td>\n",
              "      <td>5.5</td>\n",
              "      <td>23.6</td>\n",
              "      <td>22.2</td>\n",
              "      <td>-6.0</td>\n",
              "      <td>2018-19</td>\n",
              "    </tr>\n",
              "    <tr>\n",
              "      <th>1</th>\n",
              "      <td>Boston Celtics</td>\n",
              "      <td>82</td>\n",
              "      <td>49</td>\n",
              "      <td>33</td>\n",
              "      <td>0.598</td>\n",
              "      <td>48.2</td>\n",
              "      <td>112.4</td>\n",
              "      <td>42.1</td>\n",
              "      <td>90.5</td>\n",
              "      <td>46.5</td>\n",
              "      <td>12.6</td>\n",
              "      <td>34.5</td>\n",
              "      <td>36.5</td>\n",
              "      <td>15.6</td>\n",
              "      <td>19.5</td>\n",
              "      <td>80.2</td>\n",
              "      <td>9.8</td>\n",
              "      <td>34.7</td>\n",
              "      <td>44.5</td>\n",
              "      <td>26.3</td>\n",
              "      <td>12.8</td>\n",
              "      <td>8.6</td>\n",
              "      <td>5.3</td>\n",
              "      <td>3.9</td>\n",
              "      <td>20.4</td>\n",
              "      <td>19.5</td>\n",
              "      <td>4.4</td>\n",
              "      <td>2018-19</td>\n",
              "    </tr>\n",
              "    <tr>\n",
              "      <th>2</th>\n",
              "      <td>Brooklyn Nets</td>\n",
              "      <td>82</td>\n",
              "      <td>42</td>\n",
              "      <td>40</td>\n",
              "      <td>0.512</td>\n",
              "      <td>48.7</td>\n",
              "      <td>112.2</td>\n",
              "      <td>40.3</td>\n",
              "      <td>89.7</td>\n",
              "      <td>44.9</td>\n",
              "      <td>12.8</td>\n",
              "      <td>36.2</td>\n",
              "      <td>35.3</td>\n",
              "      <td>19.0</td>\n",
              "      <td>25.5</td>\n",
              "      <td>74.5</td>\n",
              "      <td>11.0</td>\n",
              "      <td>35.6</td>\n",
              "      <td>46.6</td>\n",
              "      <td>23.8</td>\n",
              "      <td>15.1</td>\n",
              "      <td>6.6</td>\n",
              "      <td>4.1</td>\n",
              "      <td>5.3</td>\n",
              "      <td>21.5</td>\n",
              "      <td>22.0</td>\n",
              "      <td>-0.1</td>\n",
              "      <td>2018-19</td>\n",
              "    </tr>\n",
              "    <tr>\n",
              "      <th>3</th>\n",
              "      <td>Charlotte Hornets</td>\n",
              "      <td>82</td>\n",
              "      <td>39</td>\n",
              "      <td>43</td>\n",
              "      <td>0.476</td>\n",
              "      <td>48.4</td>\n",
              "      <td>110.7</td>\n",
              "      <td>40.2</td>\n",
              "      <td>89.8</td>\n",
              "      <td>44.8</td>\n",
              "      <td>11.9</td>\n",
              "      <td>33.9</td>\n",
              "      <td>35.1</td>\n",
              "      <td>18.4</td>\n",
              "      <td>23.1</td>\n",
              "      <td>79.7</td>\n",
              "      <td>9.9</td>\n",
              "      <td>33.9</td>\n",
              "      <td>43.8</td>\n",
              "      <td>23.2</td>\n",
              "      <td>12.2</td>\n",
              "      <td>7.2</td>\n",
              "      <td>4.9</td>\n",
              "      <td>6.0</td>\n",
              "      <td>18.9</td>\n",
              "      <td>20.6</td>\n",
              "      <td>-1.1</td>\n",
              "      <td>2018-19</td>\n",
              "    </tr>\n",
              "    <tr>\n",
              "      <th>4</th>\n",
              "      <td>Chicago Bulls</td>\n",
              "      <td>82</td>\n",
              "      <td>22</td>\n",
              "      <td>60</td>\n",
              "      <td>0.268</td>\n",
              "      <td>48.5</td>\n",
              "      <td>104.9</td>\n",
              "      <td>39.8</td>\n",
              "      <td>87.9</td>\n",
              "      <td>45.3</td>\n",
              "      <td>9.1</td>\n",
              "      <td>25.9</td>\n",
              "      <td>35.1</td>\n",
              "      <td>16.2</td>\n",
              "      <td>20.7</td>\n",
              "      <td>78.3</td>\n",
              "      <td>8.8</td>\n",
              "      <td>34.1</td>\n",
              "      <td>42.9</td>\n",
              "      <td>21.9</td>\n",
              "      <td>14.1</td>\n",
              "      <td>7.4</td>\n",
              "      <td>4.3</td>\n",
              "      <td>5.8</td>\n",
              "      <td>20.3</td>\n",
              "      <td>18.7</td>\n",
              "      <td>-8.4</td>\n",
              "      <td>2018-19</td>\n",
              "    </tr>\n",
              "  </tbody>\n",
              "</table>\n",
              "</div>"
            ],
            "text/plain": [
              "                TEAM  GP   W   L   WIN%  ...  BLKA    PF   PFD  +/-   SEASON\n",
              "0      Atlanta Hawks  82  29  53  0.354  ...   5.5  23.6  22.2 -6.0  2018-19\n",
              "1     Boston Celtics  82  49  33  0.598  ...   3.9  20.4  19.5  4.4  2018-19\n",
              "2      Brooklyn Nets  82  42  40  0.512  ...   5.3  21.5  22.0 -0.1  2018-19\n",
              "3  Charlotte Hornets  82  39  43  0.476  ...   6.0  18.9  20.6 -1.1  2018-19\n",
              "4      Chicago Bulls  82  22  60  0.268  ...   5.8  20.3  18.7 -8.4  2018-19\n",
              "\n",
              "[5 rows x 28 columns]"
            ]
          },
          "metadata": {
            "tags": []
          },
          "execution_count": 5
        }
      ]
    },
    {
      "cell_type": "code",
      "metadata": {
        "id": "v1Zjt73lnznf",
        "colab_type": "code",
        "colab": {
          "base_uri": "https://localhost:8080/",
          "height": 510
        },
        "outputId": "e547e0cc-0fd9-482e-ad0a-559d31c318e5"
      },
      "source": [
        "df.isnull().sum()"
      ],
      "execution_count": 6,
      "outputs": [
        {
          "output_type": "execute_result",
          "data": {
            "text/plain": [
              "TEAM      0\n",
              "GP        0\n",
              "W         0\n",
              "L         0\n",
              "WIN%      0\n",
              "MIN       0\n",
              "PTS       0\n",
              "FGM       0\n",
              "FGA       0\n",
              "FG%       0\n",
              "3PM       0\n",
              "3PA       0\n",
              "3P%       0\n",
              "FTM       0\n",
              "FTA       0\n",
              "FT%       0\n",
              "OREB      0\n",
              "DREB      0\n",
              "REB       0\n",
              "AST       0\n",
              "TOV       0\n",
              "STL       0\n",
              "BLK       0\n",
              "BLKA      0\n",
              "PF        0\n",
              "PFD       0\n",
              "+/-       0\n",
              "SEASON    0\n",
              "dtype: int64"
            ]
          },
          "metadata": {
            "tags": []
          },
          "execution_count": 6
        }
      ]
    },
    {
      "cell_type": "code",
      "metadata": {
        "id": "XC0Tg-pH6NtJ",
        "colab_type": "code",
        "colab": {}
      },
      "source": [
        "#df = df.set_index('SEASON')"
      ],
      "execution_count": 0,
      "outputs": []
    },
    {
      "cell_type": "code",
      "metadata": {
        "id": "Dyz0xq1V6UjQ",
        "colab_type": "code",
        "colab": {
          "base_uri": "https://localhost:8080/",
          "height": 1000
        },
        "outputId": "b661c17c-f44d-4b5f-c781-9d427d529cb5"
      },
      "source": [
        "df.head(35)"
      ],
      "execution_count": 8,
      "outputs": [
        {
          "output_type": "execute_result",
          "data": {
            "text/html": [
              "<div>\n",
              "<style scoped>\n",
              "    .dataframe tbody tr th:only-of-type {\n",
              "        vertical-align: middle;\n",
              "    }\n",
              "\n",
              "    .dataframe tbody tr th {\n",
              "        vertical-align: top;\n",
              "    }\n",
              "\n",
              "    .dataframe thead th {\n",
              "        text-align: right;\n",
              "    }\n",
              "</style>\n",
              "<table border=\"1\" class=\"dataframe\">\n",
              "  <thead>\n",
              "    <tr style=\"text-align: right;\">\n",
              "      <th></th>\n",
              "      <th>TEAM</th>\n",
              "      <th>GP</th>\n",
              "      <th>W</th>\n",
              "      <th>L</th>\n",
              "      <th>WIN%</th>\n",
              "      <th>MIN</th>\n",
              "      <th>PTS</th>\n",
              "      <th>FGM</th>\n",
              "      <th>FGA</th>\n",
              "      <th>FG%</th>\n",
              "      <th>3PM</th>\n",
              "      <th>3PA</th>\n",
              "      <th>3P%</th>\n",
              "      <th>FTM</th>\n",
              "      <th>FTA</th>\n",
              "      <th>FT%</th>\n",
              "      <th>OREB</th>\n",
              "      <th>DREB</th>\n",
              "      <th>REB</th>\n",
              "      <th>AST</th>\n",
              "      <th>TOV</th>\n",
              "      <th>STL</th>\n",
              "      <th>BLK</th>\n",
              "      <th>BLKA</th>\n",
              "      <th>PF</th>\n",
              "      <th>PFD</th>\n",
              "      <th>+/-</th>\n",
              "      <th>SEASON</th>\n",
              "    </tr>\n",
              "  </thead>\n",
              "  <tbody>\n",
              "    <tr>\n",
              "      <th>0</th>\n",
              "      <td>Atlanta Hawks</td>\n",
              "      <td>82</td>\n",
              "      <td>29</td>\n",
              "      <td>53</td>\n",
              "      <td>0.354</td>\n",
              "      <td>48.4</td>\n",
              "      <td>113.3</td>\n",
              "      <td>41.4</td>\n",
              "      <td>91.8</td>\n",
              "      <td>45.1</td>\n",
              "      <td>13.0</td>\n",
              "      <td>37.0</td>\n",
              "      <td>35.2</td>\n",
              "      <td>17.6</td>\n",
              "      <td>23.4</td>\n",
              "      <td>75.2</td>\n",
              "      <td>11.6</td>\n",
              "      <td>34.5</td>\n",
              "      <td>46.1</td>\n",
              "      <td>25.8</td>\n",
              "      <td>17.0</td>\n",
              "      <td>8.2</td>\n",
              "      <td>5.1</td>\n",
              "      <td>5.5</td>\n",
              "      <td>23.6</td>\n",
              "      <td>22.2</td>\n",
              "      <td>-6.0</td>\n",
              "      <td>2018-19</td>\n",
              "    </tr>\n",
              "    <tr>\n",
              "      <th>1</th>\n",
              "      <td>Boston Celtics</td>\n",
              "      <td>82</td>\n",
              "      <td>49</td>\n",
              "      <td>33</td>\n",
              "      <td>0.598</td>\n",
              "      <td>48.2</td>\n",
              "      <td>112.4</td>\n",
              "      <td>42.1</td>\n",
              "      <td>90.5</td>\n",
              "      <td>46.5</td>\n",
              "      <td>12.6</td>\n",
              "      <td>34.5</td>\n",
              "      <td>36.5</td>\n",
              "      <td>15.6</td>\n",
              "      <td>19.5</td>\n",
              "      <td>80.2</td>\n",
              "      <td>9.8</td>\n",
              "      <td>34.7</td>\n",
              "      <td>44.5</td>\n",
              "      <td>26.3</td>\n",
              "      <td>12.8</td>\n",
              "      <td>8.6</td>\n",
              "      <td>5.3</td>\n",
              "      <td>3.9</td>\n",
              "      <td>20.4</td>\n",
              "      <td>19.5</td>\n",
              "      <td>4.4</td>\n",
              "      <td>2018-19</td>\n",
              "    </tr>\n",
              "    <tr>\n",
              "      <th>2</th>\n",
              "      <td>Brooklyn Nets</td>\n",
              "      <td>82</td>\n",
              "      <td>42</td>\n",
              "      <td>40</td>\n",
              "      <td>0.512</td>\n",
              "      <td>48.7</td>\n",
              "      <td>112.2</td>\n",
              "      <td>40.3</td>\n",
              "      <td>89.7</td>\n",
              "      <td>44.9</td>\n",
              "      <td>12.8</td>\n",
              "      <td>36.2</td>\n",
              "      <td>35.3</td>\n",
              "      <td>19.0</td>\n",
              "      <td>25.5</td>\n",
              "      <td>74.5</td>\n",
              "      <td>11.0</td>\n",
              "      <td>35.6</td>\n",
              "      <td>46.6</td>\n",
              "      <td>23.8</td>\n",
              "      <td>15.1</td>\n",
              "      <td>6.6</td>\n",
              "      <td>4.1</td>\n",
              "      <td>5.3</td>\n",
              "      <td>21.5</td>\n",
              "      <td>22.0</td>\n",
              "      <td>-0.1</td>\n",
              "      <td>2018-19</td>\n",
              "    </tr>\n",
              "    <tr>\n",
              "      <th>3</th>\n",
              "      <td>Charlotte Hornets</td>\n",
              "      <td>82</td>\n",
              "      <td>39</td>\n",
              "      <td>43</td>\n",
              "      <td>0.476</td>\n",
              "      <td>48.4</td>\n",
              "      <td>110.7</td>\n",
              "      <td>40.2</td>\n",
              "      <td>89.8</td>\n",
              "      <td>44.8</td>\n",
              "      <td>11.9</td>\n",
              "      <td>33.9</td>\n",
              "      <td>35.1</td>\n",
              "      <td>18.4</td>\n",
              "      <td>23.1</td>\n",
              "      <td>79.7</td>\n",
              "      <td>9.9</td>\n",
              "      <td>33.9</td>\n",
              "      <td>43.8</td>\n",
              "      <td>23.2</td>\n",
              "      <td>12.2</td>\n",
              "      <td>7.2</td>\n",
              "      <td>4.9</td>\n",
              "      <td>6.0</td>\n",
              "      <td>18.9</td>\n",
              "      <td>20.6</td>\n",
              "      <td>-1.1</td>\n",
              "      <td>2018-19</td>\n",
              "    </tr>\n",
              "    <tr>\n",
              "      <th>4</th>\n",
              "      <td>Chicago Bulls</td>\n",
              "      <td>82</td>\n",
              "      <td>22</td>\n",
              "      <td>60</td>\n",
              "      <td>0.268</td>\n",
              "      <td>48.5</td>\n",
              "      <td>104.9</td>\n",
              "      <td>39.8</td>\n",
              "      <td>87.9</td>\n",
              "      <td>45.3</td>\n",
              "      <td>9.1</td>\n",
              "      <td>25.9</td>\n",
              "      <td>35.1</td>\n",
              "      <td>16.2</td>\n",
              "      <td>20.7</td>\n",
              "      <td>78.3</td>\n",
              "      <td>8.8</td>\n",
              "      <td>34.1</td>\n",
              "      <td>42.9</td>\n",
              "      <td>21.9</td>\n",
              "      <td>14.1</td>\n",
              "      <td>7.4</td>\n",
              "      <td>4.3</td>\n",
              "      <td>5.8</td>\n",
              "      <td>20.3</td>\n",
              "      <td>18.7</td>\n",
              "      <td>-8.4</td>\n",
              "      <td>2018-19</td>\n",
              "    </tr>\n",
              "    <tr>\n",
              "      <th>5</th>\n",
              "      <td>Cleveland Cavaliers</td>\n",
              "      <td>82</td>\n",
              "      <td>19</td>\n",
              "      <td>63</td>\n",
              "      <td>0.232</td>\n",
              "      <td>48.2</td>\n",
              "      <td>104.5</td>\n",
              "      <td>38.9</td>\n",
              "      <td>87.6</td>\n",
              "      <td>44.4</td>\n",
              "      <td>10.3</td>\n",
              "      <td>29.1</td>\n",
              "      <td>35.5</td>\n",
              "      <td>16.4</td>\n",
              "      <td>20.7</td>\n",
              "      <td>79.2</td>\n",
              "      <td>10.7</td>\n",
              "      <td>31.9</td>\n",
              "      <td>42.7</td>\n",
              "      <td>20.7</td>\n",
              "      <td>13.5</td>\n",
              "      <td>6.5</td>\n",
              "      <td>2.4</td>\n",
              "      <td>5.6</td>\n",
              "      <td>20.0</td>\n",
              "      <td>19.4</td>\n",
              "      <td>-9.6</td>\n",
              "      <td>2018-19</td>\n",
              "    </tr>\n",
              "    <tr>\n",
              "      <th>6</th>\n",
              "      <td>Dallas Mavericks</td>\n",
              "      <td>82</td>\n",
              "      <td>33</td>\n",
              "      <td>49</td>\n",
              "      <td>0.402</td>\n",
              "      <td>48.2</td>\n",
              "      <td>108.9</td>\n",
              "      <td>38.8</td>\n",
              "      <td>86.9</td>\n",
              "      <td>44.7</td>\n",
              "      <td>12.5</td>\n",
              "      <td>36.6</td>\n",
              "      <td>34.0</td>\n",
              "      <td>18.8</td>\n",
              "      <td>25.3</td>\n",
              "      <td>74.2</td>\n",
              "      <td>10.1</td>\n",
              "      <td>35.2</td>\n",
              "      <td>45.3</td>\n",
              "      <td>23.4</td>\n",
              "      <td>14.2</td>\n",
              "      <td>6.5</td>\n",
              "      <td>4.3</td>\n",
              "      <td>4.5</td>\n",
              "      <td>20.1</td>\n",
              "      <td>23.2</td>\n",
              "      <td>-1.3</td>\n",
              "      <td>2018-19</td>\n",
              "    </tr>\n",
              "    <tr>\n",
              "      <th>7</th>\n",
              "      <td>Denver Nuggets</td>\n",
              "      <td>82</td>\n",
              "      <td>54</td>\n",
              "      <td>28</td>\n",
              "      <td>0.659</td>\n",
              "      <td>48.1</td>\n",
              "      <td>110.7</td>\n",
              "      <td>41.9</td>\n",
              "      <td>90.0</td>\n",
              "      <td>46.6</td>\n",
              "      <td>11.0</td>\n",
              "      <td>31.4</td>\n",
              "      <td>35.1</td>\n",
              "      <td>15.8</td>\n",
              "      <td>20.9</td>\n",
              "      <td>75.5</td>\n",
              "      <td>11.9</td>\n",
              "      <td>34.5</td>\n",
              "      <td>46.4</td>\n",
              "      <td>27.4</td>\n",
              "      <td>13.4</td>\n",
              "      <td>7.7</td>\n",
              "      <td>4.4</td>\n",
              "      <td>5.0</td>\n",
              "      <td>20.0</td>\n",
              "      <td>20.4</td>\n",
              "      <td>4.0</td>\n",
              "      <td>2018-19</td>\n",
              "    </tr>\n",
              "    <tr>\n",
              "      <th>8</th>\n",
              "      <td>Detroit Pistons</td>\n",
              "      <td>82</td>\n",
              "      <td>41</td>\n",
              "      <td>41</td>\n",
              "      <td>0.500</td>\n",
              "      <td>48.4</td>\n",
              "      <td>107.0</td>\n",
              "      <td>38.8</td>\n",
              "      <td>88.3</td>\n",
              "      <td>44.0</td>\n",
              "      <td>12.1</td>\n",
              "      <td>34.8</td>\n",
              "      <td>34.8</td>\n",
              "      <td>17.3</td>\n",
              "      <td>23.1</td>\n",
              "      <td>74.7</td>\n",
              "      <td>11.4</td>\n",
              "      <td>33.6</td>\n",
              "      <td>45.0</td>\n",
              "      <td>22.5</td>\n",
              "      <td>13.8</td>\n",
              "      <td>6.9</td>\n",
              "      <td>4.0</td>\n",
              "      <td>5.1</td>\n",
              "      <td>22.1</td>\n",
              "      <td>21.3</td>\n",
              "      <td>-0.2</td>\n",
              "      <td>2018-19</td>\n",
              "    </tr>\n",
              "    <tr>\n",
              "      <th>9</th>\n",
              "      <td>Golden State Warriors</td>\n",
              "      <td>82</td>\n",
              "      <td>57</td>\n",
              "      <td>25</td>\n",
              "      <td>0.695</td>\n",
              "      <td>48.3</td>\n",
              "      <td>117.7</td>\n",
              "      <td>44.0</td>\n",
              "      <td>89.8</td>\n",
              "      <td>49.1</td>\n",
              "      <td>13.3</td>\n",
              "      <td>34.4</td>\n",
              "      <td>38.5</td>\n",
              "      <td>16.3</td>\n",
              "      <td>20.4</td>\n",
              "      <td>80.1</td>\n",
              "      <td>9.7</td>\n",
              "      <td>36.5</td>\n",
              "      <td>46.2</td>\n",
              "      <td>29.4</td>\n",
              "      <td>14.3</td>\n",
              "      <td>7.6</td>\n",
              "      <td>6.4</td>\n",
              "      <td>3.6</td>\n",
              "      <td>21.4</td>\n",
              "      <td>19.5</td>\n",
              "      <td>6.5</td>\n",
              "      <td>2018-19</td>\n",
              "    </tr>\n",
              "    <tr>\n",
              "      <th>10</th>\n",
              "      <td>Houston Rockets</td>\n",
              "      <td>82</td>\n",
              "      <td>53</td>\n",
              "      <td>29</td>\n",
              "      <td>0.646</td>\n",
              "      <td>48.4</td>\n",
              "      <td>113.9</td>\n",
              "      <td>39.2</td>\n",
              "      <td>87.4</td>\n",
              "      <td>44.9</td>\n",
              "      <td>16.1</td>\n",
              "      <td>45.4</td>\n",
              "      <td>35.6</td>\n",
              "      <td>19.3</td>\n",
              "      <td>24.4</td>\n",
              "      <td>79.1</td>\n",
              "      <td>10.2</td>\n",
              "      <td>31.9</td>\n",
              "      <td>42.1</td>\n",
              "      <td>21.2</td>\n",
              "      <td>13.3</td>\n",
              "      <td>8.5</td>\n",
              "      <td>4.9</td>\n",
              "      <td>4.5</td>\n",
              "      <td>22.0</td>\n",
              "      <td>20.0</td>\n",
              "      <td>4.8</td>\n",
              "      <td>2018-19</td>\n",
              "    </tr>\n",
              "    <tr>\n",
              "      <th>11</th>\n",
              "      <td>Indiana Pacers</td>\n",
              "      <td>82</td>\n",
              "      <td>48</td>\n",
              "      <td>34</td>\n",
              "      <td>0.585</td>\n",
              "      <td>48.1</td>\n",
              "      <td>108.0</td>\n",
              "      <td>41.3</td>\n",
              "      <td>87.0</td>\n",
              "      <td>47.5</td>\n",
              "      <td>9.5</td>\n",
              "      <td>25.4</td>\n",
              "      <td>37.4</td>\n",
              "      <td>15.8</td>\n",
              "      <td>21.1</td>\n",
              "      <td>75.2</td>\n",
              "      <td>9.3</td>\n",
              "      <td>33.7</td>\n",
              "      <td>43.0</td>\n",
              "      <td>26.0</td>\n",
              "      <td>13.7</td>\n",
              "      <td>8.7</td>\n",
              "      <td>4.9</td>\n",
              "      <td>5.2</td>\n",
              "      <td>19.4</td>\n",
              "      <td>20.0</td>\n",
              "      <td>3.3</td>\n",
              "      <td>2018-19</td>\n",
              "    </tr>\n",
              "    <tr>\n",
              "      <th>12</th>\n",
              "      <td>LA Clippers</td>\n",
              "      <td>82</td>\n",
              "      <td>48</td>\n",
              "      <td>34</td>\n",
              "      <td>0.585</td>\n",
              "      <td>48.4</td>\n",
              "      <td>115.1</td>\n",
              "      <td>41.3</td>\n",
              "      <td>87.5</td>\n",
              "      <td>47.1</td>\n",
              "      <td>10.0</td>\n",
              "      <td>25.8</td>\n",
              "      <td>38.8</td>\n",
              "      <td>22.6</td>\n",
              "      <td>28.5</td>\n",
              "      <td>79.2</td>\n",
              "      <td>9.7</td>\n",
              "      <td>35.8</td>\n",
              "      <td>45.5</td>\n",
              "      <td>24.0</td>\n",
              "      <td>14.5</td>\n",
              "      <td>6.8</td>\n",
              "      <td>4.7</td>\n",
              "      <td>6.1</td>\n",
              "      <td>23.3</td>\n",
              "      <td>24.0</td>\n",
              "      <td>0.9</td>\n",
              "      <td>2018-19</td>\n",
              "    </tr>\n",
              "    <tr>\n",
              "      <th>13</th>\n",
              "      <td>Los Angeles Lakers</td>\n",
              "      <td>82</td>\n",
              "      <td>37</td>\n",
              "      <td>45</td>\n",
              "      <td>0.451</td>\n",
              "      <td>48.2</td>\n",
              "      <td>111.8</td>\n",
              "      <td>42.6</td>\n",
              "      <td>90.5</td>\n",
              "      <td>47.0</td>\n",
              "      <td>10.3</td>\n",
              "      <td>31.0</td>\n",
              "      <td>33.3</td>\n",
              "      <td>16.3</td>\n",
              "      <td>23.3</td>\n",
              "      <td>69.9</td>\n",
              "      <td>10.2</td>\n",
              "      <td>36.4</td>\n",
              "      <td>46.6</td>\n",
              "      <td>25.6</td>\n",
              "      <td>15.7</td>\n",
              "      <td>7.5</td>\n",
              "      <td>5.4</td>\n",
              "      <td>5.1</td>\n",
              "      <td>20.7</td>\n",
              "      <td>20.8</td>\n",
              "      <td>-1.7</td>\n",
              "      <td>2018-19</td>\n",
              "    </tr>\n",
              "    <tr>\n",
              "      <th>14</th>\n",
              "      <td>Memphis Grizzlies</td>\n",
              "      <td>82</td>\n",
              "      <td>33</td>\n",
              "      <td>49</td>\n",
              "      <td>0.402</td>\n",
              "      <td>48.5</td>\n",
              "      <td>103.5</td>\n",
              "      <td>38.0</td>\n",
              "      <td>84.4</td>\n",
              "      <td>45.0</td>\n",
              "      <td>9.9</td>\n",
              "      <td>28.9</td>\n",
              "      <td>34.2</td>\n",
              "      <td>17.7</td>\n",
              "      <td>23.0</td>\n",
              "      <td>77.2</td>\n",
              "      <td>8.8</td>\n",
              "      <td>33.0</td>\n",
              "      <td>41.8</td>\n",
              "      <td>23.9</td>\n",
              "      <td>14.0</td>\n",
              "      <td>8.3</td>\n",
              "      <td>5.5</td>\n",
              "      <td>4.9</td>\n",
              "      <td>22.0</td>\n",
              "      <td>21.4</td>\n",
              "      <td>-2.6</td>\n",
              "      <td>2018-19</td>\n",
              "    </tr>\n",
              "    <tr>\n",
              "      <th>15</th>\n",
              "      <td>Miami Heat</td>\n",
              "      <td>82</td>\n",
              "      <td>39</td>\n",
              "      <td>43</td>\n",
              "      <td>0.476</td>\n",
              "      <td>48.1</td>\n",
              "      <td>105.7</td>\n",
              "      <td>39.6</td>\n",
              "      <td>88.0</td>\n",
              "      <td>45.0</td>\n",
              "      <td>11.3</td>\n",
              "      <td>32.4</td>\n",
              "      <td>34.9</td>\n",
              "      <td>15.1</td>\n",
              "      <td>21.7</td>\n",
              "      <td>69.5</td>\n",
              "      <td>11.2</td>\n",
              "      <td>35.1</td>\n",
              "      <td>46.3</td>\n",
              "      <td>24.3</td>\n",
              "      <td>14.7</td>\n",
              "      <td>7.6</td>\n",
              "      <td>5.5</td>\n",
              "      <td>4.7</td>\n",
              "      <td>20.9</td>\n",
              "      <td>20.1</td>\n",
              "      <td>-0.2</td>\n",
              "      <td>2018-19</td>\n",
              "    </tr>\n",
              "    <tr>\n",
              "      <th>16</th>\n",
              "      <td>Milwaukee Bucks</td>\n",
              "      <td>82</td>\n",
              "      <td>60</td>\n",
              "      <td>22</td>\n",
              "      <td>0.732</td>\n",
              "      <td>48.2</td>\n",
              "      <td>118.1</td>\n",
              "      <td>43.4</td>\n",
              "      <td>91.1</td>\n",
              "      <td>47.6</td>\n",
              "      <td>13.5</td>\n",
              "      <td>38.2</td>\n",
              "      <td>35.3</td>\n",
              "      <td>17.9</td>\n",
              "      <td>23.2</td>\n",
              "      <td>77.3</td>\n",
              "      <td>9.3</td>\n",
              "      <td>40.4</td>\n",
              "      <td>49.7</td>\n",
              "      <td>26.0</td>\n",
              "      <td>13.9</td>\n",
              "      <td>7.5</td>\n",
              "      <td>5.9</td>\n",
              "      <td>4.8</td>\n",
              "      <td>19.6</td>\n",
              "      <td>20.2</td>\n",
              "      <td>8.9</td>\n",
              "      <td>2018-19</td>\n",
              "    </tr>\n",
              "    <tr>\n",
              "      <th>17</th>\n",
              "      <td>Minnesota Timberwolves</td>\n",
              "      <td>82</td>\n",
              "      <td>36</td>\n",
              "      <td>46</td>\n",
              "      <td>0.439</td>\n",
              "      <td>48.4</td>\n",
              "      <td>112.5</td>\n",
              "      <td>41.6</td>\n",
              "      <td>91.3</td>\n",
              "      <td>45.6</td>\n",
              "      <td>10.1</td>\n",
              "      <td>28.7</td>\n",
              "      <td>35.1</td>\n",
              "      <td>19.1</td>\n",
              "      <td>24.3</td>\n",
              "      <td>78.7</td>\n",
              "      <td>11.3</td>\n",
              "      <td>33.5</td>\n",
              "      <td>44.8</td>\n",
              "      <td>24.6</td>\n",
              "      <td>13.1</td>\n",
              "      <td>8.3</td>\n",
              "      <td>5.0</td>\n",
              "      <td>5.5</td>\n",
              "      <td>20.3</td>\n",
              "      <td>21.9</td>\n",
              "      <td>-1.5</td>\n",
              "      <td>2018-19</td>\n",
              "    </tr>\n",
              "    <tr>\n",
              "      <th>18</th>\n",
              "      <td>New Orleans Pelicans</td>\n",
              "      <td>82</td>\n",
              "      <td>33</td>\n",
              "      <td>49</td>\n",
              "      <td>0.402</td>\n",
              "      <td>48.2</td>\n",
              "      <td>115.4</td>\n",
              "      <td>43.7</td>\n",
              "      <td>92.2</td>\n",
              "      <td>47.3</td>\n",
              "      <td>10.3</td>\n",
              "      <td>29.9</td>\n",
              "      <td>34.4</td>\n",
              "      <td>17.8</td>\n",
              "      <td>23.4</td>\n",
              "      <td>76.1</td>\n",
              "      <td>11.1</td>\n",
              "      <td>36.2</td>\n",
              "      <td>47.3</td>\n",
              "      <td>27.0</td>\n",
              "      <td>14.8</td>\n",
              "      <td>7.4</td>\n",
              "      <td>5.4</td>\n",
              "      <td>5.4</td>\n",
              "      <td>21.1</td>\n",
              "      <td>21.0</td>\n",
              "      <td>-1.3</td>\n",
              "      <td>2018-19</td>\n",
              "    </tr>\n",
              "    <tr>\n",
              "      <th>19</th>\n",
              "      <td>New York Knicks</td>\n",
              "      <td>82</td>\n",
              "      <td>17</td>\n",
              "      <td>65</td>\n",
              "      <td>0.207</td>\n",
              "      <td>48.2</td>\n",
              "      <td>104.6</td>\n",
              "      <td>38.2</td>\n",
              "      <td>88.3</td>\n",
              "      <td>43.3</td>\n",
              "      <td>10.0</td>\n",
              "      <td>29.5</td>\n",
              "      <td>34.0</td>\n",
              "      <td>18.1</td>\n",
              "      <td>23.9</td>\n",
              "      <td>75.9</td>\n",
              "      <td>10.5</td>\n",
              "      <td>34.3</td>\n",
              "      <td>44.7</td>\n",
              "      <td>20.1</td>\n",
              "      <td>14.0</td>\n",
              "      <td>6.8</td>\n",
              "      <td>5.1</td>\n",
              "      <td>5.6</td>\n",
              "      <td>20.9</td>\n",
              "      <td>20.8</td>\n",
              "      <td>-9.2</td>\n",
              "      <td>2018-19</td>\n",
              "    </tr>\n",
              "    <tr>\n",
              "      <th>20</th>\n",
              "      <td>Oklahoma City Thunder</td>\n",
              "      <td>82</td>\n",
              "      <td>49</td>\n",
              "      <td>33</td>\n",
              "      <td>0.598</td>\n",
              "      <td>48.4</td>\n",
              "      <td>114.5</td>\n",
              "      <td>42.6</td>\n",
              "      <td>94.0</td>\n",
              "      <td>45.4</td>\n",
              "      <td>11.4</td>\n",
              "      <td>32.6</td>\n",
              "      <td>34.8</td>\n",
              "      <td>17.8</td>\n",
              "      <td>25.0</td>\n",
              "      <td>71.3</td>\n",
              "      <td>12.6</td>\n",
              "      <td>35.5</td>\n",
              "      <td>48.1</td>\n",
              "      <td>23.4</td>\n",
              "      <td>14.0</td>\n",
              "      <td>9.3</td>\n",
              "      <td>5.2</td>\n",
              "      <td>5.1</td>\n",
              "      <td>22.4</td>\n",
              "      <td>22.5</td>\n",
              "      <td>3.4</td>\n",
              "      <td>2018-19</td>\n",
              "    </tr>\n",
              "    <tr>\n",
              "      <th>21</th>\n",
              "      <td>Orlando Magic</td>\n",
              "      <td>82</td>\n",
              "      <td>42</td>\n",
              "      <td>40</td>\n",
              "      <td>0.512</td>\n",
              "      <td>48.2</td>\n",
              "      <td>107.3</td>\n",
              "      <td>40.4</td>\n",
              "      <td>89.1</td>\n",
              "      <td>45.4</td>\n",
              "      <td>11.4</td>\n",
              "      <td>32.1</td>\n",
              "      <td>35.6</td>\n",
              "      <td>15.0</td>\n",
              "      <td>19.2</td>\n",
              "      <td>78.2</td>\n",
              "      <td>10.0</td>\n",
              "      <td>35.4</td>\n",
              "      <td>45.4</td>\n",
              "      <td>25.5</td>\n",
              "      <td>13.2</td>\n",
              "      <td>6.6</td>\n",
              "      <td>5.4</td>\n",
              "      <td>4.4</td>\n",
              "      <td>18.6</td>\n",
              "      <td>18.7</td>\n",
              "      <td>0.7</td>\n",
              "      <td>2018-19</td>\n",
              "    </tr>\n",
              "    <tr>\n",
              "      <th>22</th>\n",
              "      <td>Philadelphia 76ers</td>\n",
              "      <td>82</td>\n",
              "      <td>51</td>\n",
              "      <td>31</td>\n",
              "      <td>0.622</td>\n",
              "      <td>48.3</td>\n",
              "      <td>115.2</td>\n",
              "      <td>41.5</td>\n",
              "      <td>88.2</td>\n",
              "      <td>47.1</td>\n",
              "      <td>10.8</td>\n",
              "      <td>30.2</td>\n",
              "      <td>35.9</td>\n",
              "      <td>21.2</td>\n",
              "      <td>27.5</td>\n",
              "      <td>77.1</td>\n",
              "      <td>10.9</td>\n",
              "      <td>36.9</td>\n",
              "      <td>47.8</td>\n",
              "      <td>26.9</td>\n",
              "      <td>14.9</td>\n",
              "      <td>7.4</td>\n",
              "      <td>5.3</td>\n",
              "      <td>4.1</td>\n",
              "      <td>21.3</td>\n",
              "      <td>22.1</td>\n",
              "      <td>2.7</td>\n",
              "      <td>2018-19</td>\n",
              "    </tr>\n",
              "    <tr>\n",
              "      <th>23</th>\n",
              "      <td>Phoenix Suns</td>\n",
              "      <td>82</td>\n",
              "      <td>19</td>\n",
              "      <td>63</td>\n",
              "      <td>0.232</td>\n",
              "      <td>48.5</td>\n",
              "      <td>107.5</td>\n",
              "      <td>40.1</td>\n",
              "      <td>87.4</td>\n",
              "      <td>45.9</td>\n",
              "      <td>9.6</td>\n",
              "      <td>29.3</td>\n",
              "      <td>32.9</td>\n",
              "      <td>17.6</td>\n",
              "      <td>22.7</td>\n",
              "      <td>77.9</td>\n",
              "      <td>9.1</td>\n",
              "      <td>31.3</td>\n",
              "      <td>40.4</td>\n",
              "      <td>23.9</td>\n",
              "      <td>15.6</td>\n",
              "      <td>9.0</td>\n",
              "      <td>5.1</td>\n",
              "      <td>5.0</td>\n",
              "      <td>23.6</td>\n",
              "      <td>20.7</td>\n",
              "      <td>-9.3</td>\n",
              "      <td>2018-19</td>\n",
              "    </tr>\n",
              "    <tr>\n",
              "      <th>24</th>\n",
              "      <td>Portland Trail Blazers</td>\n",
              "      <td>82</td>\n",
              "      <td>53</td>\n",
              "      <td>29</td>\n",
              "      <td>0.646</td>\n",
              "      <td>48.4</td>\n",
              "      <td>114.7</td>\n",
              "      <td>42.3</td>\n",
              "      <td>90.6</td>\n",
              "      <td>46.7</td>\n",
              "      <td>11.0</td>\n",
              "      <td>30.7</td>\n",
              "      <td>35.9</td>\n",
              "      <td>19.0</td>\n",
              "      <td>23.3</td>\n",
              "      <td>81.4</td>\n",
              "      <td>11.8</td>\n",
              "      <td>36.2</td>\n",
              "      <td>48.0</td>\n",
              "      <td>23.0</td>\n",
              "      <td>13.8</td>\n",
              "      <td>6.7</td>\n",
              "      <td>5.0</td>\n",
              "      <td>5.1</td>\n",
              "      <td>20.4</td>\n",
              "      <td>20.7</td>\n",
              "      <td>4.2</td>\n",
              "      <td>2018-19</td>\n",
              "    </tr>\n",
              "    <tr>\n",
              "      <th>25</th>\n",
              "      <td>Sacramento Kings</td>\n",
              "      <td>82</td>\n",
              "      <td>39</td>\n",
              "      <td>43</td>\n",
              "      <td>0.476</td>\n",
              "      <td>48.1</td>\n",
              "      <td>114.2</td>\n",
              "      <td>43.2</td>\n",
              "      <td>93.1</td>\n",
              "      <td>46.4</td>\n",
              "      <td>11.3</td>\n",
              "      <td>29.9</td>\n",
              "      <td>37.8</td>\n",
              "      <td>16.5</td>\n",
              "      <td>22.7</td>\n",
              "      <td>72.6</td>\n",
              "      <td>11.0</td>\n",
              "      <td>34.4</td>\n",
              "      <td>45.4</td>\n",
              "      <td>25.4</td>\n",
              "      <td>13.4</td>\n",
              "      <td>8.3</td>\n",
              "      <td>4.4</td>\n",
              "      <td>5.1</td>\n",
              "      <td>21.4</td>\n",
              "      <td>21.4</td>\n",
              "      <td>-1.1</td>\n",
              "      <td>2018-19</td>\n",
              "    </tr>\n",
              "    <tr>\n",
              "      <th>26</th>\n",
              "      <td>San Antonio Spurs</td>\n",
              "      <td>82</td>\n",
              "      <td>48</td>\n",
              "      <td>34</td>\n",
              "      <td>0.585</td>\n",
              "      <td>48.3</td>\n",
              "      <td>111.7</td>\n",
              "      <td>42.3</td>\n",
              "      <td>88.4</td>\n",
              "      <td>47.8</td>\n",
              "      <td>9.9</td>\n",
              "      <td>25.3</td>\n",
              "      <td>39.2</td>\n",
              "      <td>17.2</td>\n",
              "      <td>21.0</td>\n",
              "      <td>81.9</td>\n",
              "      <td>9.2</td>\n",
              "      <td>35.5</td>\n",
              "      <td>44.7</td>\n",
              "      <td>24.5</td>\n",
              "      <td>12.1</td>\n",
              "      <td>6.1</td>\n",
              "      <td>4.7</td>\n",
              "      <td>4.0</td>\n",
              "      <td>18.1</td>\n",
              "      <td>19.6</td>\n",
              "      <td>1.7</td>\n",
              "      <td>2018-19</td>\n",
              "    </tr>\n",
              "    <tr>\n",
              "      <th>27</th>\n",
              "      <td>Toronto Raptors</td>\n",
              "      <td>82</td>\n",
              "      <td>58</td>\n",
              "      <td>24</td>\n",
              "      <td>0.707</td>\n",
              "      <td>48.5</td>\n",
              "      <td>114.4</td>\n",
              "      <td>42.2</td>\n",
              "      <td>89.1</td>\n",
              "      <td>47.4</td>\n",
              "      <td>12.4</td>\n",
              "      <td>33.8</td>\n",
              "      <td>36.6</td>\n",
              "      <td>17.7</td>\n",
              "      <td>22.0</td>\n",
              "      <td>80.4</td>\n",
              "      <td>9.6</td>\n",
              "      <td>35.6</td>\n",
              "      <td>45.2</td>\n",
              "      <td>25.4</td>\n",
              "      <td>14.0</td>\n",
              "      <td>8.3</td>\n",
              "      <td>5.3</td>\n",
              "      <td>4.5</td>\n",
              "      <td>21.0</td>\n",
              "      <td>20.5</td>\n",
              "      <td>6.1</td>\n",
              "      <td>2018-19</td>\n",
              "    </tr>\n",
              "    <tr>\n",
              "      <th>28</th>\n",
              "      <td>Utah Jazz</td>\n",
              "      <td>82</td>\n",
              "      <td>50</td>\n",
              "      <td>32</td>\n",
              "      <td>0.610</td>\n",
              "      <td>48.2</td>\n",
              "      <td>111.7</td>\n",
              "      <td>40.4</td>\n",
              "      <td>86.4</td>\n",
              "      <td>46.8</td>\n",
              "      <td>12.1</td>\n",
              "      <td>34.0</td>\n",
              "      <td>35.6</td>\n",
              "      <td>18.8</td>\n",
              "      <td>25.5</td>\n",
              "      <td>73.6</td>\n",
              "      <td>10.0</td>\n",
              "      <td>36.4</td>\n",
              "      <td>46.4</td>\n",
              "      <td>26.0</td>\n",
              "      <td>15.1</td>\n",
              "      <td>8.1</td>\n",
              "      <td>5.9</td>\n",
              "      <td>4.6</td>\n",
              "      <td>21.1</td>\n",
              "      <td>22.4</td>\n",
              "      <td>5.3</td>\n",
              "      <td>2018-19</td>\n",
              "    </tr>\n",
              "    <tr>\n",
              "      <th>29</th>\n",
              "      <td>Washington Wizards</td>\n",
              "      <td>82</td>\n",
              "      <td>32</td>\n",
              "      <td>50</td>\n",
              "      <td>0.390</td>\n",
              "      <td>48.6</td>\n",
              "      <td>114.0</td>\n",
              "      <td>42.1</td>\n",
              "      <td>90.1</td>\n",
              "      <td>46.8</td>\n",
              "      <td>11.3</td>\n",
              "      <td>33.3</td>\n",
              "      <td>34.1</td>\n",
              "      <td>18.4</td>\n",
              "      <td>23.9</td>\n",
              "      <td>76.8</td>\n",
              "      <td>9.7</td>\n",
              "      <td>32.7</td>\n",
              "      <td>42.4</td>\n",
              "      <td>26.3</td>\n",
              "      <td>14.1</td>\n",
              "      <td>8.3</td>\n",
              "      <td>4.6</td>\n",
              "      <td>4.6</td>\n",
              "      <td>20.7</td>\n",
              "      <td>21.2</td>\n",
              "      <td>-2.9</td>\n",
              "      <td>2018-19</td>\n",
              "    </tr>\n",
              "    <tr>\n",
              "      <th>30</th>\n",
              "      <td>Atlanta Hawks</td>\n",
              "      <td>82</td>\n",
              "      <td>24</td>\n",
              "      <td>58</td>\n",
              "      <td>0.293</td>\n",
              "      <td>48.1</td>\n",
              "      <td>103.4</td>\n",
              "      <td>38.2</td>\n",
              "      <td>85.5</td>\n",
              "      <td>44.6</td>\n",
              "      <td>11.2</td>\n",
              "      <td>31.0</td>\n",
              "      <td>36.0</td>\n",
              "      <td>15.8</td>\n",
              "      <td>20.2</td>\n",
              "      <td>78.5</td>\n",
              "      <td>9.1</td>\n",
              "      <td>32.8</td>\n",
              "      <td>41.9</td>\n",
              "      <td>23.7</td>\n",
              "      <td>15.5</td>\n",
              "      <td>7.8</td>\n",
              "      <td>4.2</td>\n",
              "      <td>5.5</td>\n",
              "      <td>19.6</td>\n",
              "      <td>20.3</td>\n",
              "      <td>-5.5</td>\n",
              "      <td>2017-18</td>\n",
              "    </tr>\n",
              "    <tr>\n",
              "      <th>31</th>\n",
              "      <td>Boston Celtics</td>\n",
              "      <td>82</td>\n",
              "      <td>55</td>\n",
              "      <td>27</td>\n",
              "      <td>0.671</td>\n",
              "      <td>48.3</td>\n",
              "      <td>104.0</td>\n",
              "      <td>38.3</td>\n",
              "      <td>85.1</td>\n",
              "      <td>45.0</td>\n",
              "      <td>11.5</td>\n",
              "      <td>30.4</td>\n",
              "      <td>37.7</td>\n",
              "      <td>16.0</td>\n",
              "      <td>20.7</td>\n",
              "      <td>77.1</td>\n",
              "      <td>9.4</td>\n",
              "      <td>35.1</td>\n",
              "      <td>44.5</td>\n",
              "      <td>22.5</td>\n",
              "      <td>14.0</td>\n",
              "      <td>7.4</td>\n",
              "      <td>4.5</td>\n",
              "      <td>4.4</td>\n",
              "      <td>19.7</td>\n",
              "      <td>19.2</td>\n",
              "      <td>3.6</td>\n",
              "      <td>2017-18</td>\n",
              "    </tr>\n",
              "    <tr>\n",
              "      <th>32</th>\n",
              "      <td>Brooklyn Nets</td>\n",
              "      <td>82</td>\n",
              "      <td>28</td>\n",
              "      <td>54</td>\n",
              "      <td>0.341</td>\n",
              "      <td>48.4</td>\n",
              "      <td>106.6</td>\n",
              "      <td>38.2</td>\n",
              "      <td>86.8</td>\n",
              "      <td>44.1</td>\n",
              "      <td>12.7</td>\n",
              "      <td>35.7</td>\n",
              "      <td>35.6</td>\n",
              "      <td>17.4</td>\n",
              "      <td>22.6</td>\n",
              "      <td>77.2</td>\n",
              "      <td>9.7</td>\n",
              "      <td>34.8</td>\n",
              "      <td>44.4</td>\n",
              "      <td>23.7</td>\n",
              "      <td>15.2</td>\n",
              "      <td>6.2</td>\n",
              "      <td>4.8</td>\n",
              "      <td>5.5</td>\n",
              "      <td>20.6</td>\n",
              "      <td>19.7</td>\n",
              "      <td>-3.7</td>\n",
              "      <td>2017-18</td>\n",
              "    </tr>\n",
              "    <tr>\n",
              "      <th>33</th>\n",
              "      <td>Charlotte Hornets</td>\n",
              "      <td>82</td>\n",
              "      <td>36</td>\n",
              "      <td>46</td>\n",
              "      <td>0.439</td>\n",
              "      <td>48.2</td>\n",
              "      <td>108.2</td>\n",
              "      <td>39.0</td>\n",
              "      <td>86.7</td>\n",
              "      <td>45.0</td>\n",
              "      <td>10.0</td>\n",
              "      <td>27.2</td>\n",
              "      <td>36.9</td>\n",
              "      <td>20.2</td>\n",
              "      <td>27.0</td>\n",
              "      <td>74.7</td>\n",
              "      <td>10.1</td>\n",
              "      <td>35.4</td>\n",
              "      <td>45.5</td>\n",
              "      <td>21.6</td>\n",
              "      <td>12.7</td>\n",
              "      <td>6.8</td>\n",
              "      <td>4.5</td>\n",
              "      <td>4.9</td>\n",
              "      <td>17.2</td>\n",
              "      <td>22.4</td>\n",
              "      <td>0.3</td>\n",
              "      <td>2017-18</td>\n",
              "    </tr>\n",
              "    <tr>\n",
              "      <th>34</th>\n",
              "      <td>Chicago Bulls</td>\n",
              "      <td>82</td>\n",
              "      <td>27</td>\n",
              "      <td>55</td>\n",
              "      <td>0.329</td>\n",
              "      <td>48.4</td>\n",
              "      <td>102.9</td>\n",
              "      <td>38.7</td>\n",
              "      <td>88.8</td>\n",
              "      <td>43.5</td>\n",
              "      <td>11.0</td>\n",
              "      <td>31.1</td>\n",
              "      <td>35.5</td>\n",
              "      <td>14.6</td>\n",
              "      <td>19.2</td>\n",
              "      <td>75.9</td>\n",
              "      <td>9.6</td>\n",
              "      <td>35.0</td>\n",
              "      <td>44.7</td>\n",
              "      <td>23.5</td>\n",
              "      <td>14.0</td>\n",
              "      <td>7.6</td>\n",
              "      <td>3.5</td>\n",
              "      <td>5.2</td>\n",
              "      <td>19.2</td>\n",
              "      <td>17.4</td>\n",
              "      <td>-7.0</td>\n",
              "      <td>2017-18</td>\n",
              "    </tr>\n",
              "  </tbody>\n",
              "</table>\n",
              "</div>"
            ],
            "text/plain": [
              "                      TEAM  GP   W   L   WIN%  ...  BLKA    PF   PFD  +/-   SEASON\n",
              "0            Atlanta Hawks  82  29  53  0.354  ...   5.5  23.6  22.2 -6.0  2018-19\n",
              "1           Boston Celtics  82  49  33  0.598  ...   3.9  20.4  19.5  4.4  2018-19\n",
              "2            Brooklyn Nets  82  42  40  0.512  ...   5.3  21.5  22.0 -0.1  2018-19\n",
              "3        Charlotte Hornets  82  39  43  0.476  ...   6.0  18.9  20.6 -1.1  2018-19\n",
              "4            Chicago Bulls  82  22  60  0.268  ...   5.8  20.3  18.7 -8.4  2018-19\n",
              "5      Cleveland Cavaliers  82  19  63  0.232  ...   5.6  20.0  19.4 -9.6  2018-19\n",
              "6         Dallas Mavericks  82  33  49  0.402  ...   4.5  20.1  23.2 -1.3  2018-19\n",
              "7           Denver Nuggets  82  54  28  0.659  ...   5.0  20.0  20.4  4.0  2018-19\n",
              "8          Detroit Pistons  82  41  41  0.500  ...   5.1  22.1  21.3 -0.2  2018-19\n",
              "9    Golden State Warriors  82  57  25  0.695  ...   3.6  21.4  19.5  6.5  2018-19\n",
              "10         Houston Rockets  82  53  29  0.646  ...   4.5  22.0  20.0  4.8  2018-19\n",
              "11          Indiana Pacers  82  48  34  0.585  ...   5.2  19.4  20.0  3.3  2018-19\n",
              "12             LA Clippers  82  48  34  0.585  ...   6.1  23.3  24.0  0.9  2018-19\n",
              "13      Los Angeles Lakers  82  37  45  0.451  ...   5.1  20.7  20.8 -1.7  2018-19\n",
              "14       Memphis Grizzlies  82  33  49  0.402  ...   4.9  22.0  21.4 -2.6  2018-19\n",
              "15              Miami Heat  82  39  43  0.476  ...   4.7  20.9  20.1 -0.2  2018-19\n",
              "16         Milwaukee Bucks  82  60  22  0.732  ...   4.8  19.6  20.2  8.9  2018-19\n",
              "17  Minnesota Timberwolves  82  36  46  0.439  ...   5.5  20.3  21.9 -1.5  2018-19\n",
              "18    New Orleans Pelicans  82  33  49  0.402  ...   5.4  21.1  21.0 -1.3  2018-19\n",
              "19         New York Knicks  82  17  65  0.207  ...   5.6  20.9  20.8 -9.2  2018-19\n",
              "20   Oklahoma City Thunder  82  49  33  0.598  ...   5.1  22.4  22.5  3.4  2018-19\n",
              "21           Orlando Magic  82  42  40  0.512  ...   4.4  18.6  18.7  0.7  2018-19\n",
              "22      Philadelphia 76ers  82  51  31  0.622  ...   4.1  21.3  22.1  2.7  2018-19\n",
              "23            Phoenix Suns  82  19  63  0.232  ...   5.0  23.6  20.7 -9.3  2018-19\n",
              "24  Portland Trail Blazers  82  53  29  0.646  ...   5.1  20.4  20.7  4.2  2018-19\n",
              "25        Sacramento Kings  82  39  43  0.476  ...   5.1  21.4  21.4 -1.1  2018-19\n",
              "26       San Antonio Spurs  82  48  34  0.585  ...   4.0  18.1  19.6  1.7  2018-19\n",
              "27         Toronto Raptors  82  58  24  0.707  ...   4.5  21.0  20.5  6.1  2018-19\n",
              "28               Utah Jazz  82  50  32  0.610  ...   4.6  21.1  22.4  5.3  2018-19\n",
              "29      Washington Wizards  82  32  50  0.390  ...   4.6  20.7  21.2 -2.9  2018-19\n",
              "30           Atlanta Hawks  82  24  58  0.293  ...   5.5  19.6  20.3 -5.5  2017-18\n",
              "31          Boston Celtics  82  55  27  0.671  ...   4.4  19.7  19.2  3.6  2017-18\n",
              "32           Brooklyn Nets  82  28  54  0.341  ...   5.5  20.6  19.7 -3.7  2017-18\n",
              "33       Charlotte Hornets  82  36  46  0.439  ...   4.9  17.2  22.4  0.3  2017-18\n",
              "34           Chicago Bulls  82  27  55  0.329  ...   5.2  19.2  17.4 -7.0  2017-18\n",
              "\n",
              "[35 rows x 28 columns]"
            ]
          },
          "metadata": {
            "tags": []
          },
          "execution_count": 8
        }
      ]
    },
    {
      "cell_type": "code",
      "metadata": {
        "id": "N3OcJiuuumdb",
        "colab_type": "code",
        "colab": {
          "base_uri": "https://localhost:8080/",
          "height": 85
        },
        "outputId": "a9cf890c-6695-4530-a567-b13deae33859"
      },
      "source": [
        "nba_00_01 = df[(df['SEASON']=='2000-01')]\n",
        "print(statistics.mean(nba_00_01['3PA']))\n",
        "print(statistics.mean(nba_00_01['3P%']))\n",
        "print(statistics.mean(nba_00_01['FGA']))\n",
        "statistics.mean(nba_00_01['PTS'])"
      ],
      "execution_count": 35,
      "outputs": [
        {
          "output_type": "stream",
          "text": [
            "13.706896551724139\n",
            "35.182758620689654\n",
            "80.60344827586206\n"
          ],
          "name": "stdout"
        },
        {
          "output_type": "execute_result",
          "data": {
            "text/plain": [
              "94.8103448275862"
            ]
          },
          "metadata": {
            "tags": []
          },
          "execution_count": 35
        }
      ]
    },
    {
      "cell_type": "code",
      "metadata": {
        "id": "kWi9EXWZkzb2",
        "colab_type": "code",
        "colab": {
          "base_uri": "https://localhost:8080/",
          "height": 85
        },
        "outputId": "bd98ddca-af80-44ba-a270-ecd168aa6681"
      },
      "source": [
        "nba_01_02 = df[(df['SEASON']=='2001-02')]\n",
        "print(statistics.mean(nba_01_02['3PA']))\n",
        "print(statistics.mean(nba_01_02['3P%']))\n",
        "print(statistics.mean(nba_01_02['FGA']))\n",
        "statistics.mean(nba_01_02['PTS'])"
      ],
      "execution_count": 36,
      "outputs": [
        {
          "output_type": "stream",
          "text": [
            "14.755172413793103\n",
            "35.175862068965515\n",
            "81.26551724137931\n"
          ],
          "name": "stdout"
        },
        {
          "output_type": "execute_result",
          "data": {
            "text/plain": [
              "95.47241379310344"
            ]
          },
          "metadata": {
            "tags": []
          },
          "execution_count": 36
        }
      ]
    },
    {
      "cell_type": "code",
      "metadata": {
        "id": "m5Fa6mb9k0DC",
        "colab_type": "code",
        "colab": {
          "base_uri": "https://localhost:8080/",
          "height": 85
        },
        "outputId": "a487bd67-e1f8-4e6a-a8d6-ef135e392033"
      },
      "source": [
        "nba_02_03 = df[(df['SEASON']=='2002-03')]\n",
        "print(statistics.mean(nba_02_03['3PA']))\n",
        "print(statistics.mean(nba_02_03['3P%']))\n",
        "print(statistics.mean(nba_02_03['FGA']))\n",
        "statistics.mean(nba_02_03['PTS'])"
      ],
      "execution_count": 37,
      "outputs": [
        {
          "output_type": "stream",
          "text": [
            "14.675862068965518\n",
            "34.66206896551724\n",
            "80.78275862068965\n"
          ],
          "name": "stdout"
        },
        {
          "output_type": "execute_result",
          "data": {
            "text/plain": [
              "95.0896551724138"
            ]
          },
          "metadata": {
            "tags": []
          },
          "execution_count": 37
        }
      ]
    },
    {
      "cell_type": "code",
      "metadata": {
        "id": "ZcW72BlYk0ht",
        "colab_type": "code",
        "colab": {
          "base_uri": "https://localhost:8080/",
          "height": 85
        },
        "outputId": "51453263-151e-40e8-9ec9-a3c0da6132c3"
      },
      "source": [
        "nba_03_04 = df[(df['SEASON']=='2003-04')]\n",
        "print(statistics.mean(nba_03_04['3PA']))\n",
        "print(statistics.mean(nba_03_04['3P%']))\n",
        "print(statistics.mean(nba_03_04['FGA']))\n",
        "statistics.mean(nba_03_04['PTS'])"
      ],
      "execution_count": 38,
      "outputs": [
        {
          "output_type": "stream",
          "text": [
            "14.920689655172414\n",
            "34.5551724137931\n",
            "79.81724137931035\n"
          ],
          "name": "stdout"
        },
        {
          "output_type": "execute_result",
          "data": {
            "text/plain": [
              "93.39655172413794"
            ]
          },
          "metadata": {
            "tags": []
          },
          "execution_count": 38
        }
      ]
    },
    {
      "cell_type": "code",
      "metadata": {
        "id": "lFkDPc3Ak095",
        "colab_type": "code",
        "colab": {
          "base_uri": "https://localhost:8080/",
          "height": 85
        },
        "outputId": "82e06fed-caa3-4891-cd4e-37ff8ce01614"
      },
      "source": [
        "nba_04_05 = df[(df['SEASON']=='2004-05')]\n",
        "print(statistics.mean(nba_04_05['3PA']))\n",
        "print(statistics.mean(nba_04_05['3P%']))\n",
        "print(statistics.mean(nba_04_05['FGA']))\n",
        "statistics.mean(nba_04_05['PTS'])"
      ],
      "execution_count": 39,
      "outputs": [
        {
          "output_type": "stream",
          "text": [
            "15.75\n",
            "35.31666666666667\n",
            "80.33666666666667\n"
          ],
          "name": "stdout"
        },
        {
          "output_type": "execute_result",
          "data": {
            "text/plain": [
              "97.19"
            ]
          },
          "metadata": {
            "tags": []
          },
          "execution_count": 39
        }
      ]
    },
    {
      "cell_type": "code",
      "metadata": {
        "id": "hwbiV4Lxk1bg",
        "colab_type": "code",
        "colab": {
          "base_uri": "https://localhost:8080/",
          "height": 85
        },
        "outputId": "89240776-c0a9-4d47-ddfd-abcb8c9517de"
      },
      "source": [
        "nba_05_06 = df[(df['SEASON']=='2005-06')]\n",
        "print(statistics.mean(nba_05_06['3PA']))\n",
        "print(statistics.mean(nba_05_06['3P%']))\n",
        "print(statistics.mean(nba_05_06['FGA']))\n",
        "statistics.mean(nba_05_06['PTS'])"
      ],
      "execution_count": 40,
      "outputs": [
        {
          "output_type": "stream",
          "text": [
            "15.983333333333334\n",
            "35.68666666666667\n",
            "78.99\n"
          ],
          "name": "stdout"
        },
        {
          "output_type": "execute_result",
          "data": {
            "text/plain": [
              "97.01333333333334"
            ]
          },
          "metadata": {
            "tags": []
          },
          "execution_count": 40
        }
      ]
    },
    {
      "cell_type": "code",
      "metadata": {
        "id": "aoSjtIdKk108",
        "colab_type": "code",
        "colab": {
          "base_uri": "https://localhost:8080/",
          "height": 85
        },
        "outputId": "656ff000-4683-4439-b8c6-2ae3f549033d"
      },
      "source": [
        "nba_06_07 = df[(df['SEASON']=='2006-07')]\n",
        "print(statistics.mean(nba_06_07['3PA']))\n",
        "print(statistics.mean(nba_06_07['3P%']))\n",
        "print(statistics.mean(nba_06_07['FGA']))\n",
        "statistics.mean(nba_06_07['PTS'])"
      ],
      "execution_count": 41,
      "outputs": [
        {
          "output_type": "stream",
          "text": [
            "16.94\n",
            "35.68\n",
            "79.71\n"
          ],
          "name": "stdout"
        },
        {
          "output_type": "execute_result",
          "data": {
            "text/plain": [
              "98.74"
            ]
          },
          "metadata": {
            "tags": []
          },
          "execution_count": 41
        }
      ]
    },
    {
      "cell_type": "code",
      "metadata": {
        "id": "WfFwCNBvk2LN",
        "colab_type": "code",
        "colab": {
          "base_uri": "https://localhost:8080/",
          "height": 85
        },
        "outputId": "4b69082d-f092-4a2d-e97a-2001925ef785"
      },
      "source": [
        "nba_07_08 = df[(df['SEASON']=='2007-08')]\n",
        "print(statistics.mean(nba_07_08['3PA']))\n",
        "print(statistics.mean(nba_07_08['3P%']))\n",
        "print(statistics.mean(nba_07_08['FGA']))\n",
        "statistics.mean(nba_07_08['PTS'])"
      ],
      "execution_count": 42,
      "outputs": [
        {
          "output_type": "stream",
          "text": [
            "18.106666666666666\n",
            "36.02333333333333\n",
            "81.51\n"
          ],
          "name": "stdout"
        },
        {
          "output_type": "execute_result",
          "data": {
            "text/plain": [
              "99.92333333333333"
            ]
          },
          "metadata": {
            "tags": []
          },
          "execution_count": 42
        }
      ]
    },
    {
      "cell_type": "code",
      "metadata": {
        "id": "ypmGo4b2k2c4",
        "colab_type": "code",
        "colab": {
          "base_uri": "https://localhost:8080/",
          "height": 85
        },
        "outputId": "593a6d40-2906-4c04-c81a-ca720b754602"
      },
      "source": [
        "nba_08_09 = df[(df['SEASON']=='2008-09')]\n",
        "print(statistics.mean(nba_08_09['3PA']))\n",
        "print(statistics.mean(nba_08_09['3P%']))\n",
        "print(statistics.mean(nba_08_09['FGA']))\n",
        "statistics.mean(nba_08_09['PTS'])"
      ],
      "execution_count": 43,
      "outputs": [
        {
          "output_type": "stream",
          "text": [
            "18.133333333333333\n",
            "36.54333333333334\n",
            "80.91666666666667\n"
          ],
          "name": "stdout"
        },
        {
          "output_type": "execute_result",
          "data": {
            "text/plain": [
              "99.94333333333333"
            ]
          },
          "metadata": {
            "tags": []
          },
          "execution_count": 43
        }
      ]
    },
    {
      "cell_type": "code",
      "metadata": {
        "id": "U3W5tYDJk3CE",
        "colab_type": "code",
        "colab": {
          "base_uri": "https://localhost:8080/",
          "height": 85
        },
        "outputId": "78fd3901-d9db-4200-feff-e5f46fea8c48"
      },
      "source": [
        "nba_09_10 = df[(df['SEASON']=='2009-10')]\n",
        "print(statistics.mean(nba_09_10['3PA']))\n",
        "print(statistics.mean(nba_09_10['3P%']))\n",
        "print(statistics.mean(nba_09_10['FGA']))\n",
        "statistics.mean(nba_09_10['PTS'])"
      ],
      "execution_count": 44,
      "outputs": [
        {
          "output_type": "stream",
          "text": [
            "18.136666666666667\n",
            "35.276666666666664\n",
            "81.69333333333333\n"
          ],
          "name": "stdout"
        },
        {
          "output_type": "execute_result",
          "data": {
            "text/plain": [
              "100.45"
            ]
          },
          "metadata": {
            "tags": []
          },
          "execution_count": 44
        }
      ]
    },
    {
      "cell_type": "code",
      "metadata": {
        "id": "Ddrv_MBok3d5",
        "colab_type": "code",
        "colab": {
          "base_uri": "https://localhost:8080/",
          "height": 85
        },
        "outputId": "05f16a92-7a77-45d3-fd9c-0230e537dbbe"
      },
      "source": [
        "nba_10_11 = df[(df['SEASON']=='2010-11')]\n",
        "print(statistics.mean(nba_10_11['3PA']))\n",
        "print(statistics.mean(nba_10_11['3P%']))\n",
        "print(statistics.mean(nba_10_11['FGA']))\n",
        "statistics.mean(nba_10_11['PTS'])"
      ],
      "execution_count": 45,
      "outputs": [
        {
          "output_type": "stream",
          "text": [
            "18.01\n",
            "35.626666666666665\n",
            "81.21\n"
          ],
          "name": "stdout"
        },
        {
          "output_type": "execute_result",
          "data": {
            "text/plain": [
              "99.55333333333333"
            ]
          },
          "metadata": {
            "tags": []
          },
          "execution_count": 45
        }
      ]
    },
    {
      "cell_type": "code",
      "metadata": {
        "id": "ussTmFuTk32k",
        "colab_type": "code",
        "colab": {
          "base_uri": "https://localhost:8080/",
          "height": 85
        },
        "outputId": "77fd8df5-be1b-485a-ee92-7512c3911a09"
      },
      "source": [
        "nba_11_12 = df[(df['SEASON']=='2011-12')]\n",
        "print(statistics.mean(nba_11_12['3PA']))\n",
        "print(statistics.mean(nba_11_12['3P%']))\n",
        "print(statistics.mean(nba_11_12['FGA']))\n",
        "statistics.mean(nba_11_12['PTS'])"
      ],
      "execution_count": 46,
      "outputs": [
        {
          "output_type": "stream",
          "text": [
            "18.386666666666667\n",
            "34.723333333333336\n",
            "81.42999999999999\n"
          ],
          "name": "stdout"
        },
        {
          "output_type": "execute_result",
          "data": {
            "text/plain": [
              "96.26"
            ]
          },
          "metadata": {
            "tags": []
          },
          "execution_count": 46
        }
      ]
    },
    {
      "cell_type": "code",
      "metadata": {
        "id": "pEliODdWlhRS",
        "colab_type": "code",
        "colab": {
          "base_uri": "https://localhost:8080/",
          "height": 85
        },
        "outputId": "d5030c4d-a7ef-4292-f45c-229e19ffd29a"
      },
      "source": [
        "nba_12_13 = df[(df['SEASON']=='2012-13')]\n",
        "print(statistics.mean(nba_12_13['3PA']))\n",
        "print(statistics.mean(nba_12_13['3P%']))\n",
        "print(statistics.mean(nba_12_13['FGA']))\n",
        "statistics.mean(nba_12_13['PTS'])"
      ],
      "execution_count": 47,
      "outputs": [
        {
          "output_type": "stream",
          "text": [
            "19.966666666666665\n",
            "35.75666666666667\n",
            "82.02666666666667\n"
          ],
          "name": "stdout"
        },
        {
          "output_type": "execute_result",
          "data": {
            "text/plain": [
              "98.13666666666667"
            ]
          },
          "metadata": {
            "tags": []
          },
          "execution_count": 47
        }
      ]
    },
    {
      "cell_type": "code",
      "metadata": {
        "id": "Cg51jETylhxt",
        "colab_type": "code",
        "colab": {
          "base_uri": "https://localhost:8080/",
          "height": 85
        },
        "outputId": "f8a5434a-c6ba-420d-d202-8905a17dea82"
      },
      "source": [
        "nba_13_14 = df[(df['SEASON']=='2013-14')]\n",
        "print(statistics.mean(nba_13_14['3PA']))\n",
        "print(statistics.mean(nba_13_14['3P%']))\n",
        "print(statistics.mean(nba_13_14['FGA']))\n",
        "statistics.mean(nba_13_14['PTS'])"
      ],
      "execution_count": 48,
      "outputs": [
        {
          "output_type": "stream",
          "text": [
            "21.536666666666665\n",
            "35.876666666666665\n",
            "83.0\n"
          ],
          "name": "stdout"
        },
        {
          "output_type": "execute_result",
          "data": {
            "text/plain": [
              "101.01"
            ]
          },
          "metadata": {
            "tags": []
          },
          "execution_count": 48
        }
      ]
    },
    {
      "cell_type": "code",
      "metadata": {
        "id": "a2Jo8nk6liKT",
        "colab_type": "code",
        "colab": {
          "base_uri": "https://localhost:8080/",
          "height": 85
        },
        "outputId": "2a4e32a1-8962-41d1-ce7b-ff7e2d920ca5"
      },
      "source": [
        "nba_14_15 = df[(df['SEASON']=='2014-15')]\n",
        "print(statistics.mean(nba_14_15['3PA']))\n",
        "print(statistics.mean(nba_14_15['3P%']))\n",
        "print(statistics.mean(nba_14_15['FGA']))\n",
        "statistics.mean(nba_14_15['PTS'])"
      ],
      "execution_count": 49,
      "outputs": [
        {
          "output_type": "stream",
          "text": [
            "22.41\n",
            "34.910000000000004\n",
            "83.56333333333333\n"
          ],
          "name": "stdout"
        },
        {
          "output_type": "execute_result",
          "data": {
            "text/plain": [
              "100.01666666666667"
            ]
          },
          "metadata": {
            "tags": []
          },
          "execution_count": 49
        }
      ]
    },
    {
      "cell_type": "code",
      "metadata": {
        "id": "RPDICXPOlihA",
        "colab_type": "code",
        "colab": {
          "base_uri": "https://localhost:8080/",
          "height": 85
        },
        "outputId": "e20fce9f-6292-4465-dc9a-6434a8079a52"
      },
      "source": [
        "nba_15_16 = df[(df['SEASON']=='2015-16')]\n",
        "print(statistics.mean(nba_15_16['3PA']))\n",
        "print(statistics.mean(nba_15_16['3P%']))\n",
        "print(statistics.mean(nba_15_16['FGA']))\n",
        "statistics.mean(nba_15_16['PTS'])"
      ],
      "execution_count": 50,
      "outputs": [
        {
          "output_type": "stream",
          "text": [
            "24.083333333333332\n",
            "35.276666666666664\n",
            "84.57000000000001\n"
          ],
          "name": "stdout"
        },
        {
          "output_type": "execute_result",
          "data": {
            "text/plain": [
              "102.66333333333333"
            ]
          },
          "metadata": {
            "tags": []
          },
          "execution_count": 50
        }
      ]
    },
    {
      "cell_type": "code",
      "metadata": {
        "id": "Hur8iUMeli7C",
        "colab_type": "code",
        "colab": {
          "base_uri": "https://localhost:8080/",
          "height": 85
        },
        "outputId": "6a538bff-57a7-4ac8-939c-20add7c8193d"
      },
      "source": [
        "nba_16_17 = df[(df['SEASON']=='2016-17')]\n",
        "print(statistics.mean(nba_16_17['3PA']))\n",
        "print(statistics.mean(nba_16_17['3P%']))\n",
        "print(statistics.mean(nba_16_17['FGA']))\n",
        "statistics.mean(nba_16_17['PTS'])"
      ],
      "execution_count": 51,
      "outputs": [
        {
          "output_type": "stream",
          "text": [
            "27.003333333333334\n",
            "35.71666666666667\n",
            "85.41666666666667\n"
          ],
          "name": "stdout"
        },
        {
          "output_type": "execute_result",
          "data": {
            "text/plain": [
              "105.59"
            ]
          },
          "metadata": {
            "tags": []
          },
          "execution_count": 51
        }
      ]
    },
    {
      "cell_type": "code",
      "metadata": {
        "id": "mkTs3l5tljRk",
        "colab_type": "code",
        "colab": {
          "base_uri": "https://localhost:8080/",
          "height": 85
        },
        "outputId": "743e0cb9-8954-4041-a092-a907cf84ae2a"
      },
      "source": [
        "nba_17_18 = df[(df['SEASON']=='2017-18')]\n",
        "print(statistics.mean(nba_17_18['3PA']))\n",
        "print(statistics.mean(nba_17_18['3P%']))\n",
        "print(statistics.mean(nba_17_18['FGA']))\n",
        "statistics.mean(nba_17_18['PTS'])"
      ],
      "execution_count": 52,
      "outputs": [
        {
          "output_type": "stream",
          "text": [
            "28.996666666666666\n",
            "36.17333333333333\n",
            "86.06333333333333\n"
          ],
          "name": "stdout"
        },
        {
          "output_type": "execute_result",
          "data": {
            "text/plain": [
              "106.33666666666667"
            ]
          },
          "metadata": {
            "tags": []
          },
          "execution_count": 52
        }
      ]
    },
    {
      "cell_type": "code",
      "metadata": {
        "id": "sNBj0Xj9n7Zx",
        "colab_type": "code",
        "colab": {
          "base_uri": "https://localhost:8080/",
          "height": 85
        },
        "outputId": "72b80653-9882-434d-d049-e49d86a5883d"
      },
      "source": [
        "nba_18_19 = df[(df['SEASON']=='2018-19')]\n",
        "print(statistics.mean(nba_18_19['3PA']))\n",
        "print(statistics.mean(nba_18_19['3P%']))\n",
        "print(statistics.mean(nba_18_19['FGA']))\n",
        "statistics.mean(nba_18_19['PTS'])"
      ],
      "execution_count": 53,
      "outputs": [
        {
          "output_type": "stream",
          "text": [
            "32.00666666666667\n",
            "35.55\n",
            "89.21333333333334\n"
          ],
          "name": "stdout"
        },
        {
          "output_type": "execute_result",
          "data": {
            "text/plain": [
              "111.20333333333333"
            ]
          },
          "metadata": {
            "tags": []
          },
          "execution_count": 53
        }
      ]
    },
    {
      "cell_type": "code",
      "metadata": {
        "id": "LE4Qj9XuTAn9",
        "colab_type": "code",
        "colab": {}
      },
      "source": [
        "nba_3PA_mean =  np.array([13.7, 14.7, 14.7, 14.9, 15.7, 16, 17, 18.1, \n",
        "18.1, 18, 18.4, 20, 21.5, 22.4, 24.1, 27, 29, 32])"
      ],
      "execution_count": 0,
      "outputs": []
    },
    {
      "cell_type": "code",
      "metadata": {
        "id": "IEKqTgP4egPK",
        "colab_type": "code",
        "colab": {}
      },
      "source": [
        "nba_3PM_mean = np.array([4.8, 5.2, 5.1, 5.2, 5.6, 6.1, 6.6, 6.6, 6.4,\n",
        "6.5, 6.4, 7.2, 7.7, 8.5, 9.6, 10.5, 11.4])"
      ],
      "execution_count": 0,
      "outputs": []
    },
    {
      "cell_type": "code",
      "metadata": {
        "id": "_jWuJxKHXerE",
        "colab_type": "code",
        "colab": {
          "base_uri": "https://localhost:8080/",
          "height": 472
        },
        "outputId": "d82bb2ea-13a1-49aa-ba1c-3b3fc77c1299"
      },
      "source": [
        "plt.rcdefaults()\n",
        "fig, ax = plt.subplots()\n",
        "\n",
        "NBA_Season = ('00-01', '01-02', '02-03', '03-04', '04-05', '05-06', '06-07',\n",
        "              '07-08', '08-09', '09-10', '10-11', '11-12', '12-13', '13-14',\n",
        "              '14-15', '15-16', '16-17', '17-18', '18-19')\n",
        "y_pos = np.arange(len(NBA_Season))\n",
        "performance = [13.70,14.75,14.67,14.92,15.75,15.98,16.94,18.10,\n",
        "18.13,18.13,18.01,18.38,19.96,21.53,22.41,24.08,27,28.99,32]\n",
        "\n",
        "\n",
        "ax.barh(y_pos, performance, align='center')\n",
        "ax.set_yticks(y_pos)\n",
        "ax.set_yticklabels(NBA_Season)\n",
        "ax.invert_yaxis() \n",
        "ax.set_ylabel('Seasons')\n",
        "ax.set_xlabel('3 Pointer Attempted')\n",
        "ax.set_title('Average Number of Three Pointers Attempted per Game a Season')\n",
        "\n",
        "plt.show()"
      ],
      "execution_count": 30,
      "outputs": [
        {
          "output_type": "display_data",
          "data": {
            "image/png": "[encoded data removed]",
            "text/plain": [
              "<Figure size 640x480 with 1 Axes>"
            ]
          },
          "metadata": {
            "tags": []
          }
        }
      ]
    },
    {
      "cell_type": "code",
      "metadata": {
        "id": "-rMFVyk3yuqQ",
        "colab_type": "code",
        "colab": {
          "base_uri": "https://localhost:8080/",
          "height": 500
        },
        "outputId": "2c83881f-21b4-4572-90b6-74b91a67f613"
      },
      "source": [
        "names = ['00-01', '01-02', '02-03', '03-04', '04-05', '05-06', '06-07',\n",
        "              '07-08', '08-09', '09-10', '10-11', '11-12', '12-13', '13-14',\n",
        "              '14-15', '15-16', '16-17', '17-18', '18-19']\n",
        "\n",
        "values = [94.81,95.47,95.08,93.39,97.17,97.01,98.74,99.92,99.94,100.45,\n",
        "               99.55,96.26,98.13,101.01,100.01,102.66,105.59,106.33,111.20]\n",
        "plt.plot(names,values, 'bo-', label='2X')\n",
        "degrees = 70\n",
        "plt.xticks(rotation=degrees)\n",
        "plt.axis([0,20,90,115])\n",
        "plt.ylabel('Average Amount of Points per Game')\n",
        "plt.xlabel('Season')\n",
        "plt.title('Average Amount of Points per Game in a Season')\n",
        "\n",
        "plt.show()"
      ],
      "execution_count": 31,
      "outputs": [
        {
          "output_type": "display_data",
          "data": {
            "image/png": "[encoded data removed]",
            "text/plain": [
              "<Figure size 640x480 with 1 Axes>"
            ]
          },
          "metadata": {
            "tags": []
          }
        }
      ]
    },
    {
      "cell_type": "code",
      "metadata": {
        "id": "OUui1y9LGoU5",
        "colab_type": "code",
        "colab": {
          "base_uri": "https://localhost:8080/",
          "height": 498
        },
        "outputId": "1623e8ec-3980-41b2-af78-7d5513170b5b"
      },
      "source": [
        "names = ['00-01', '01-02', '02-03', '03-04', '04-05', '05-06', '06-07',\n",
        "              '07-08', '08-09', '09-10', '10-11', '11-12', '12-13', '13-14',\n",
        "              '14-15', '15-16', '16-17', '17-18', '18-19']\n",
        "\n",
        "y_pos = np.arange(len(names))\n",
        "values = [80.60,81.26,80.78,79.81,80.33,78.99,79.71,81.51,80.91,\n",
        "          81.69,81.21,81.42,82.02,83.0,83.56,84.57,85.41,86.06,89.21]\n",
        "\n",
        "plt.bar(y_pos, values, align='center', alpha=0.5)\n",
        "plt.xticks(y_pos, names)\n",
        "plt.ylabel('Numbers of FGA')\n",
        "plt.xlabel('Season')\n",
        "degrees = 90\n",
        "plt.xticks(rotation=degrees)\n",
        "plt.axis([0,20,75,90])\n",
        "plt.title('Number of FGA per Game a Season')\n",
        "\n",
        "plt.show()"
      ],
      "execution_count": 32,
      "outputs": [
        {
          "output_type": "display_data",
          "data": {
            "image/png": "[encoded data removed]",
            "text/plain": [
              "<Figure size 640x480 with 1 Axes>"
            ]
          },
          "metadata": {
            "tags": []
          }
        }
      ]
    },
    {
      "cell_type": "code",
      "metadata": {
        "id": "n2JhKS9hU9sp",
        "colab_type": "code",
        "colab": {}
      },
      "source": [
        ""
      ],
      "execution_count": 0,
      "outputs": []
    }
  ]
}