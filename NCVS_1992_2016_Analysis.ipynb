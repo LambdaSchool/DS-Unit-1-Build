{
  "nbformat": 4,
  "nbformat_minor": 0,
  "metadata": {
    "colab": {
      "name": "NCVS 1992-2016 Analysis",
      "provenance": [],
      "include_colab_link": true
    },
    "kernelspec": {
      "name": "python3",
      "display_name": "Python 3"
    },
    "accelerator": "GPU"
  },
  "cells": [
    {
      "cell_type": "markdown",
      "metadata": {
        "id": "view-in-github",
        "colab_type": "text"
      },
      "source": [
        "<a href=\"https://colab.research.google.com/github/MaxTheMooshroom/DS-Unit-1-Build/blob/master/NCVS_1992_2016_Analysis.ipynb\" target=\"_parent\"><img src=\"https://colab.research.google.com/assets/colab-badge.svg\" alt=\"Open In Colab\"/></a>"
      ]
    },
    {
      "cell_type": "code",
      "metadata": {
        "id": "xWPfu-5eLxfJ",
        "colab_type": "code",
        "colab": {}
      },
      "source": [
        "import pandas as pd"
      ],
      "execution_count": 0,
      "outputs": []
    },
    {
      "cell_type": "code",
      "metadata": {
        "id": "7JqseS0FS1Nx",
        "colab_type": "code",
        "outputId": "9aadb2a6-d758-480e-fdc0-9066e1c99145",
        "colab": {
          "base_uri": "https://localhost:8080/",
          "height": 124
        }
      },
      "source": [
        "from google.colab import drive\n",
        "drive.mount('/content/drive')"
      ],
      "execution_count": 0,
      "outputs": [
        {
          "output_type": "stream",
          "text": [
            "Go to this URL in a browser: https://accounts.google.com/o/oauth2/auth?client_id=947318989803-6bn6qk8qdgf4n4g3pfee6491hc0brc4i.apps.googleusercontent.com&redirect_uri=urn%3Aietf%3Awg%3Aoauth%3A2.0%3Aoob&scope=email%20https%3A%2F%2Fwww.googleapis.com%2Fauth%2Fdocs.test%20https%3A%2F%2Fwww.googleapis.com%2Fauth%2Fdrive%20https%3A%2F%2Fwww.googleapis.com%2Fauth%2Fdrive.photos.readonly%20https%3A%2F%2Fwww.googleapis.com%2Fauth%2Fpeopleapi.readonly&response_type=code\n",
            "\n",
            "Enter your authorization code:\n",
            "··········\n",
            "Mounted at /content/drive\n"
          ],
          "name": "stdout"
        }
      ]
    },
    {
      "cell_type": "code",
      "metadata": {
        "id": "bAS74IJaLwGd",
        "colab_type": "code",
        "outputId": "f988dc0c-d316-4db6-de33-1eddc966157a",
        "colab": {
          "base_uri": "https://localhost:8080/",
          "height": 72
        }
      },
      "source": [
        "df = pd.read_csv('/content/drive/My Drive/36834-0002-Data.tsv',delimiter='\\t',encoding='utf-8')"
      ],
      "execution_count": 0,
      "outputs": [
        {
          "output_type": "stream",
          "text": [
            "/usr/local/lib/python3.6/dist-packages/IPython/core/interactiveshell.py:2718: DtypeWarning: Columns (25) have mixed types. Specify dtype option on import or set low_memory=False.\n",
            "  interactivity=interactivity, compiler=compiler, result=result)\n"
          ],
          "name": "stderr"
        }
      ]
    },
    {
      "cell_type": "code",
      "metadata": {
        "id": "WyqQqSYnku0K",
        "colab_type": "code",
        "outputId": "98bae03b-aa40-4a4b-ab18-5d9d8c52a201",
        "colab": {
          "base_uri": "https://localhost:8080/",
          "height": 35
        }
      },
      "source": [
        "df.shape"
      ],
      "execution_count": 0,
      "outputs": [
        {
          "output_type": "execute_result",
          "data": {
            "text/plain": [
              "(4377389, 152)"
            ]
          },
          "metadata": {
            "tags": []
          },
          "execution_count": 5
        }
      ]
    },
    {
      "cell_type": "code",
      "metadata": {
        "id": "uLhKMCZm74Mf",
        "colab_type": "code",
        "colab": {}
      },
      "source": [
        "dataDictionary = {\"YEAR\": \n",
        "                          {\"Desc\": \"YEAR\",\n",
        "                           \"Null\": []}, \n",
        "                  \"YEARQ\": \n",
        "                          {\"Desc\": \"YEAR AND QUARTER OF INTERVIEW (YYYY.Q)\",\n",
        "                           \"Null\": []}, \n",
        "                  \"IDHH\": \n",
        "                          {\"Desc\": \"NCVS ID FOR HOUSEHOLDS\",\n",
        "                           \"Null\": []}, \n",
        "                  \"V2015\": \n",
        "                          {\"Desc\": \"TENURE (ALLOCATED)\",\n",
        "                           1: \"Owned or being bought\",\n",
        "                           2: \"Rented for cash\",\n",
        "                           3: \"No cash rent\",\n",
        "                           8: \"Residue\",\n",
        "                           9: \"Out of universe\",\n",
        "                           \"Null\": [8,9]},\n",
        "                  \"V2021\": \n",
        "                          {\"Desc\": \"TYPE OF LIVING QUARTERS (ALLOCATED)\",\n",
        "                           1: \"House, apartment, flat\",\n",
        "                           2: \"Housing unit in nontransient hotel, motel, etc.\",\n",
        "                           3: \"Housing unit permanent in transient hotel, motel, etc\",\n",
        "                           4: \"Housing unit in rooming house\",\n",
        "                           5: \"Mobile home or trailer with no permanent room added\",\n",
        "                           6: \"Mobile home or trailer with one or more permanent rooms added\",\n",
        "                           7: \"Housing unit not specified above\",\n",
        "                           8: \"Quarters not housing unit in rooming or boarding house\",\n",
        "                           9: \"Unit not permanent in transient hotel, motel, etc.\",\n",
        "                           10: \"Unoccupied site for mobile home, trailer, or tent\",\n",
        "                           11: \"Student quarters in college dormitory\",\n",
        "                           12: \"Other unit not specified above\",\n",
        "                           98: \"Residue\",\n",
        "                           99: \"Out of Universe\",\n",
        "                           \"Null\": [98,99]},\n",
        "                  \"V2022\": \n",
        "                          {\"Desc\": \"LOCATION OF PHONE\",\n",
        "                           1: \"Phone in unit\",\n",
        "                           2: \"Phone in common area (hallway, etc.)\",\n",
        "                           3: \"Phone in another unit (neighbor, friend, etc.)\",\n",
        "                           4: \"Work/office phone\",\n",
        "                           5: \"No phone\",\n",
        "                           8: \"Residue\",\n",
        "                           9: \"Out of universe\",\n",
        "                           \"Null\": [8,9]},\n",
        "                  \"V2024\":\n",
        "                          {\"Desc\": \"NUMBER OF HOUSING UNITS IN STRUCTURE\",\n",
        "                           1: 1,\n",
        "                           2: 2,\n",
        "                           3: 3,\n",
        "                           4: 4,\n",
        "                           5: \"5-9\",\n",
        "                           6: \"10+\",\n",
        "                           7: \"Mobile home or trailer\",\n",
        "                           8: \"Only OTHER units\",\n",
        "                           98: \"Residue\",\n",
        "                           99: \"Out of universe\",\n",
        "                           \"Null\": [98,99]},\n",
        "                  \"V2026\":\n",
        "                          {\"Desc\": \"HOUSEHOLD INCOME (ALLOCATED) (START 2015, Q1) \",\n",
        "                           1: \"Less than $5,000\",\n",
        "                           2: \"$5,000 to $7,499\",\n",
        "                           3: \"$7,500 to $9,999\",\n",
        "                           4: \"$10,000 to $12,499\",\n",
        "                           5: \"$12,500 to $14,999\",\n",
        "                           6: \"$15,000 to $17,499\",\n",
        "                           7: \"$17,500 to $19,999\",\n",
        "                           8: \"$20,000 to $24,999\",\n",
        "                           9: \"$25,000 to $29,999\",\n",
        "                           10: \"$30,000 to $34,999\",\n",
        "                           11: \"$35,000 to $39,999\",\n",
        "                           12: \"$40,000 to $49,999\",\n",
        "                           13: \"$50,000 to $74,999\",\n",
        "                           14: \"$75,000 and over\",\n",
        "                           98: \"Residue\",\n",
        "                           99: \"Out of universe\",\n",
        "                           \"Null\": [98,99]},\n",
        "                  \"SC214A\":\n",
        "                          {\"Desc\": \"HOUSEHOLD INCOME (ALLOCATED) (START 2015, Q1) \",\n",
        "                           \"Null\": [99,-1]},\n",
        "                  \"V2078\":\n",
        "                          {\"Desc\": \"NUMBER MOTOR VEHICLES OWNED \",\n",
        "                           \"Null\": [8,9]},\n",
        "                  \"V2116\":\n",
        "                          {\"Desc\": \"HOUSEHOLD WEIGHT\",\n",
        "                           \"Null\": []},\n",
        "                  \"V2117\":\n",
        "                          {\"Desc\": \"PSEUDOSTRATUM\",\n",
        "                           \"Null\": [999]},\n",
        "                  \"V2118\":\n",
        "                          {\"Desc\": \"SECUCODE\",\n",
        "                           \"Null\": [9]},\n",
        "                  \"V2119\": \n",
        "                          {\"Desc\": \"COLLEGE/UNIVERSITY \",\n",
        "                           \"Null\": [8,9]},\n",
        "                  \"V2120\":\n",
        "                          {\"Desc\": \"PUBLIC HOUSING \",\n",
        "                           \"Null\": [8,9]},\n",
        "                  \"V2122\":                                                                        #last one with values, rest to be filled out at later date\n",
        "                          {\"Desc\": \"FAMILY STRUCTURE CODE\",\n",
        "                           \"Null\": [98,99]},\n",
        "                  \"V2126B\":\n",
        "                          {\"Desc\": \"PLACE SIZE CODE\",\n",
        "                           \"Null\": [-1,0]},\n",
        "                  \"V2127B\":\n",
        "                          {\"Desc\": \"REGION\",\n",
        "                           \"Null\": [-1]},\n",
        "                  \"V2129\":\n",
        "                          {\"Desc\": \"CBSA MSA STATUS\"},\n",
        "                  \"V2130\":\n",
        "                          {\"Desc\": \"MONTH ALLOCATED FROM PANEL/ROT NO.\"},\n",
        "                  \"V3001\":\n",
        "                          {\"Desc\": \"PERSON RECORD TYPE\"},\n",
        "                  \"IDPER\":\n",
        "                          {\"Desc\": \"NCVS ID FOR PERSONS\"},\n",
        "                  \"V3002\":\n",
        "                          {\"Desc\": \"ICPSR HOUSEHOLD IDENTIFICATION NUMBER\"},\n",
        "                  \"V3003\":\n",
        "                          {\"Desc\": \"YEAR AND QUARTER IDENTIFICATION\"},\n",
        "                  \"V3004\":\n",
        "                          {\"Desc\": \"SAMPLE NUMBER\"},\n",
        "                  \"V3005\":\n",
        "                          {\"Desc\": \"SCRAMBLED CONTROL NUMBER\"},\n",
        "                  \"V3006\":\n",
        "                          {\"Desc\": \"HOUSEHOLD NUMBER\"},\n",
        "                  \"V3007\":\n",
        "                          {\"Desc\": \"LAST TWO DIGITS OF SCRAMBLED CONTROL NO. (END 2004 Q4)\"},\n",
        "                  \"V3008\":\n",
        "                          {\"Desc\": \"PANEL AND ROTATION GROUP\"},\n",
        "                  \"V3009\":\n",
        "                          {\"Desc\": \"PERSON SEQUENCE NUMBER\"},\n",
        "                  \"V3010\":\n",
        "                          {\"Desc\": \"PERSON LINE NUMBER\"},\n",
        "                  \"V3011\":\n",
        "                          {\"Desc\": \"TYPE OF INTERVIEW\"},\n",
        "                  \"V3012\":\n",
        "                          {\"Desc\": \"RELATIONSHIP TO REFERENCE PERSON\"},\n",
        "                  \"V3013\":\n",
        "                          {\"Desc\": \"AGE (ORIGINAL)\"},\n",
        "                  \"V3014\":\n",
        "                          {\"Desc\": \"AGE (ALLOCATED)\"},\n",
        "                  \"V3015\":\n",
        "                          {\"Desc\": \"MARITAL STATUS (CURRENT SURVEY)\"},\n",
        "                  \"V3016\":\n",
        "                          {\"Desc\": \"MARITAL STATUS (PREVIOUS SURVEY)\"},\n",
        "                  \"V3017\":\n",
        "                          {\"Desc\": \"SEX (ORIGINAL)\"},\n",
        "                  \"V3018\":\n",
        "                          {\"Desc\": \"SEX (ALLOCATED)\"},\n",
        "                  \"V3019\":\n",
        "                          {\"Desc\": \"NOW AN ARMED FORCES MEMBER\"},\n",
        "                  \"V3020\":\n",
        "                          {\"Desc\": \"EDUCATIONAL ATTAINMENT\"},\n",
        "                  \"V3021\":\n",
        "                          {\"Desc\": \"EDUCATION COMPLETE YEAR (END 2002 Q4)\"},\n",
        "                  \"V3022\":\n",
        "                          {\"Desc\": \"RACE (ORIGINAL) (END 2002 Q4)\"},\n",
        "                  \"V3023\":\n",
        "                          {\"Desc\": \"RACE (ALLOCATED) (END 2002 Q4)\"},\n",
        "                  \"V3023A\":\n",
        "                          {\"Desc\": \"RACE RECODE (START 2003 Q1)\"},\n",
        "                  \"V3024\":\n",
        "                          {\"Desc\": \"HISPANIC ORIGIN\"},\n",
        "                  \"V3024A\":\n",
        "                          {\"Desc\": \"HISPANIC ORIGIN (ALLOCATED) (START 2014 Q1)\"},\n",
        "                  \"V3025\":\n",
        "                          {\"Desc\": \"MONTH INTERVIEW COMPLETED\"},\n",
        "                  \"V3026\":\n",
        "                          {\"Desc\": \"DAY INTERVIEW COMPLETED\"},\n",
        "                  \"V3027\":\n",
        "                          {\"Desc\": \"YEAR INTERVIEW COMPLETED\"},\n",
        "                  \"V3028\":\n",
        "                          {\"Desc\": \"HOW OFTEN GONE SHOPPING (END 2002 Q2)\"},\n",
        "                  \"V3029\":\n",
        "                          {\"Desc\": \"HOW OFTEN SPENT EVENING AWAY FROM HOME (END 2000 Q2)\"},\n",
        "                  \"V3030\":\n",
        "                          {\"Desc\": \"HOW OFTEN RIDDEN PUBLIC TRANSPORTATION (END 2000 Q2)\"},\n",
        "                  \"V3031\":\n",
        "                          {\"Desc\": \"HOW LONG AT THIS ADDRESS (MONTHS)\"},\n",
        "                  \"V3032\":\n",
        "                          {\"Desc\": \"HOW LONG AT THIS ADDRESS (YEARS)\"},\n",
        "                  \"V3033\":\n",
        "                          {\"Desc\": \"HOW MANY TIMES MOVED IN LAST 5 YEARS\"},\n",
        "                  \"V3034\":\n",
        "                          {\"Desc\": \"SOMETHING STOLEN OR ATTEMPT\"},\n",
        "                  \"V3035\":\n",
        "                          {\"Desc\": \"NO. TIMES SOMETHING STOLEN OR ATTEMPT\"},\n",
        "                  \"V3036\":\n",
        "                          {\"Desc\": \"BROKEN IN OR ATTEMPTED\"},\n",
        "                  \"V3037\":\n",
        "                          {\"Desc\": \"NO. TIMES BROKEN IN OR ATTEMPTED\"},\n",
        "                  \"V3038\":\n",
        "                          {\"Desc\": \"MOTOR VEHICLE THEFT\"},\n",
        "                  \"V3039\":\n",
        "                          {\"Desc\": \"NO. TIMES MOTOR VEHICLE THEFT\"},\n",
        "                  \"V3040\":\n",
        "                          {\"Desc\": \"ATTACK, THREAT, THEFT: LOCATION CUES\"},\n",
        "                  \"V3041\":\n",
        "                          {\"Desc\": \"NO. TIMES ATTACK, LOCATION CUES\"},\n",
        "                  \"V3042\":\n",
        "                          {\"Desc\": \"ATTACK, THREAT: WEAPON, ATTACK CUES\"},\n",
        "                  \"V3043\":\n",
        "                          {\"Desc\": \"NO. TIMES ATTACK, WEAPON CUES\"},\n",
        "                  \"V3044\":\n",
        "                          {\"Desc\": \"STOLEN, ATTACK, THREAT: OFFENDER KNOWN\"},\n",
        "                  \"V3045\":\n",
        "                          {\"Desc\": \"NO. TIMES ATTACK, OFFENDER KNOWN\"},\n",
        "                  \"V3046\":\n",
        "                          {\"Desc\": \"FORCED OR COERCED UNWANTED SEX\"},\n",
        "                  \"V3047\":\n",
        "                          {\"Desc\": \"NO. TIMES UNWANTED SEX\"},\n",
        "                  \"V3048\":\n",
        "                          {\"Desc\": \"CALL POLICE TO REPORT SOMETHING ELSE\"},\n",
        "                  \"V3049\":\n",
        "                          {\"Desc\": \"FIRST INCIDENT\"},\n",
        "                  \"V3050\":\n",
        "                          {\"Desc\": \"SECOND INCIDENT\"},\n",
        "                  \"V3051\":\n",
        "                          {\"Desc\": \"THIRD INCIDENT\"},\n",
        "                  \"V3052\":\n",
        "                          {\"Desc\": \"CHECK B: ATTACK, THREAT, THEFT\"},\n",
        "                  \"V3053\":\n",
        "                          {\"Desc\": \"NO. TIMES ATTACK, THREAT, THEFT\"},\n",
        "                  \"V3054\":\n",
        "                          {\"Desc\": \"THOUGHT CRIME BUT DIDN'T CALL POLICE\"},\n",
        "                  \"V3055\":\n",
        "                          {\"Desc\": \"FIRST INCIDENT\"},\n",
        "                  \"V3056\":\n",
        "                          {\"Desc\": \"SECOND INCIDENT\"},\n",
        "                  \"V3057\":\n",
        "                          {\"Desc\": \"THIRD INCIDENT\"},\n",
        "                  \"V3058\":\n",
        "                          {\"Desc\": \"CHECK C: ATTACK, THREAT, THEFT\"},\n",
        "                  \"V3059\":\n",
        "                          {\"Desc\": \"NO. TIMES ATTACK, THREAT, THEFT\"},\n",
        "                  \"V3059A\":\n",
        "                          {\"Desc\": \"LI USED COMPUTER IN LAST 6 MONTHS (START 2001 Q3) (END 2004 Q2)\"},\n",
        "                  \"V3059B\":\n",
        "                          {\"Desc\": \"C PERSONAL USE AT HOME (START 2001 Q3) (END 2004 Q2)\"},\n",
        "                  \"V3059C\":\n",
        "                          {\"Desc\": \"C PERSONAL USE AT WORK (START 2001 Q3) (END 2004 Q2)\"},\n",
        "                  \"V3059D\":\n",
        "                          {\"Desc\": \"C PERSONAL USE AT SCHOOL, LIBRARIES, ETC (START 2001 Q3) (END 2004 Q2)\"},\n",
        "                  \"V3059E\":\n",
        "                          {\"Desc\": \"C OPERATE HOME BUSINESS (START 2001 Q3) (END 2004 Q2)\"},\n",
        "                  \"V3059F\":\n",
        "                          {\"Desc\": \"C NONE OF ABOVE (START 2001 Q3) (END 2004 Q2)\"},\n",
        "                  \"V3059G\":\n",
        "                          {\"Desc\": \"RESIDUE: USED COMPUTER IN LAST 6 MONTHS (START 2001 Q3) (END 2004 Q2)\"},\n",
        "                  \"V3059H\":\n",
        "                          {\"Desc\": \"N COMPUTERS PERSONAL USE/HOME BUSINESS (START 2001 Q3) (END 2004 Q2)\"},\n",
        "                  \"V3059I\":\n",
        "                          {\"Desc\": \"INTERNET FOR PERSONAL/HOME BUSINESS (START 2001 Q3) (END 2004 Q2)\"},\n",
        "                  \"V3059J\":\n",
        "                          {\"Desc\": \"LI COMPUTER-RELATED INCIDENTS LAST 6 MONTHS (START 2001 Q3) (END 2004 Q2)\"},\n",
        "                  \"V3059K\":\n",
        "                          {\"Desc\": \"C FRAUD PURCHASE OVER INTERNET (START 2001 Q3) (END 2004 Q2)\"},\n",
        "                  \"V3059L\":\n",
        "                          {\"Desc\": \"C COMPUTER VIRUS ATTACK (START 2001 Q3) (END 2004 Q2)\"},\n",
        "                  \"V3059M\":\n",
        "                          {\"Desc\": \"C THREATS OF HARM/ATTACK ON-LINE (START 2001 Q3) (END 2004 Q2)\"},\n",
        "                  \"V3059N\":\n",
        "                          {\"Desc\": \"C OBSCENE MESSAGES ON-LINE (START 2001 Q3) (END 2004 Q2)\"},\n",
        "                  \"V3059O\":\n",
        "                          {\"Desc\": \"C SOFTWARE COPYRIGHT W HOME BUSINESS (START 2001 Q3) (END 2004 Q2)\"},\n",
        "                  \"V3059P\":\n",
        "                          {\"Desc\": \"C OTHER COMPUTER-RELATED CRIME (START 2001 Q3) (END 2004 Q2)\"},\n",
        "                  \"V3059Q\":\n",
        "                          {\"Desc\": \"C NO COMPUTER-RELATED INCIDENTS (START 2001 Q3) (END 2004 Q2)\"},\n",
        "                  \"V3059R\":\n",
        "                          {\"Desc\": \"RESIDUE: COMPUTER-RELATED INCIDENTS LAST 6 MONTHS (START 2001 Q3) (END 2004 Q2)\"},\n",
        "                  \"V3059S\":\n",
        "                          {\"Desc\": \"LOSSES FROM COMPUTER-RELATED INCIDENTS (START 2001 Q3) (END 2004 Q2)\"},\n",
        "                  \"V3059T\":\n",
        "                          {\"Desc\": \"AMOUNT OF LOSSES COMPUTER-RELATED INCIDENTS (START 2001 Q3) (END 2004 Q2)\"},\n",
        "                  \"V3059U\":\n",
        "                          {\"Desc\": \"LI REPORT INCIDENTS (START 2001 Q3) (END 2004 Q2)\"},\n",
        "                  \"V3059V\":\n",
        "                          {\"Desc\": \"C LAW ENFORCEMENT (START 2001 Q3) (END 2004 Q2)\"},\n",
        "                  \"V3059W\":\n",
        "                          {\"Desc\": \"C INTERNET SERVICE PROVIDER (START 2001 Q3) (END 2004 Q2)\"},\n",
        "                  \"V3059X\":\n",
        "                          {\"Desc\": \"C WEBSITE ADMINISTRATOR (START 2001 Q3) (END 2004 Q2)\"},\n",
        "                  \"V3059Y\":\n",
        "                          {\"Desc\": \"C SYSTEMS ADMINISTRATOR (START 2001 Q3) (END 2004 Q2)\"},\n",
        "                  \"V3059Z\":\n",
        "                          {\"Desc\": \"C SOMEONE ELSE (START 2001 Q3) (END 2004 Q2)\"},\n",
        "                  \"V3059AA\":\n",
        "                          {\"Desc\": \"C NONE OF ABOVE (START 2001 Q3) (END 2004 Q2)\"},\n",
        "                  \"V3059AB\":\n",
        "                          {\"Desc\": \"RESIDUE: REPORT INCIDENTS (START 2001 Q3) (END 2004 Q2)\"},\n",
        "                  \"V3060\":\n",
        "                          {\"Desc\": \"CHECK ITEM D(L): LI WHO PRESENT DURING SCREEN QUESTIONS\"},\n",
        "                  \"V3061\":\n",
        "                          {\"Desc\": \"CHECK ITEM D(1): C TELEPHONE INTERVIEW\"},\n",
        "                  \"V3062\":\n",
        "                          {\"Desc\": \"CHECK ITEM D(2): C NO ONE BESIDES RESPONDENT PRESENT\"},\n",
        "                  \"V3063\":\n",
        "                          {\"Desc\": \"CHECK ITEM D(3): C RESPONDENT'S SPOUSE\"},\n",
        "                  \"V3064\":\n",
        "                          {\"Desc\": \"CHECK ITEM D(4): C HH MEMBER(S) 12+, NOT SPOUSE\"},\n",
        "                  \"V3065\":\n",
        "                          {\"Desc\": \"CHECK ITEM D(5): C HH MEMBER(S) UNDER 12\"},\n",
        "                  \"V3066\":\n",
        "                          {\"Desc\": \"CHECK ITEM D(6): C NONHOUSEHOLD MEMBER(S)\"},\n",
        "                  \"V3067\":\n",
        "                          {\"Desc\": \"CHECK ITEM D(7): C SOMEONE PRESENT, CAN'T SAY WHO\"},\n",
        "                  \"V3068\":\n",
        "                          {\"Desc\": \"CHECK ITEM D(8): C DON'T KNOW IF SOMEONE ELSE PRESENT\"},\n",
        "                  \"V3069\":\n",
        "                          {\"Desc\": \"CHECK ITEM D(R): RESIDUE: WHO PRESENT DURING SCREEN\"},\n",
        "                  \"V3070\":\n",
        "                          {\"Desc\": \"CHECK ITEM E: DID SELECTED RESPONDENT HELP PROXY\"},\n",
        "                  \"V3_V4526H3A\":\n",
        "                          {\"Desc\": \"ARE YOU DEAF OR DO YOU HAVE SERIOUS DIFFICULTY HEARING? (START 2016 Q3)\"},\n",
        "                  \"V3_V4526H3B\":\n",
        "                          {\"Desc\": \"ARE YOU BLIND OR DO YOU HAVE SERIOUS DIFFICULTY SEEING EVEN WHEN WEARING GLASSES (START 2016 Q3)\"},\n",
        "                  \"V3_V4526H5\":\n",
        "                          {\"Desc\": \"DIFFICULT: LEARN, REMEMBER, CONCENTRATE (START 2016 Q3)\"},\n",
        "                  \"V3_V4526H4\":\n",
        "                          {\"Desc\": \"LIMITS PHYSICAL ACTIVITIES (START 2016 Q3)\"},\n",
        "                  \"V3_V4526H6\":\n",
        "                          {\"Desc\": \"DIFFICULT: DRESSING, BATHING, GET AROUND HOME (START 2016 Q3)\"},\n",
        "                  \"V3_V4526H7\":\n",
        "                          {\"Desc\": \"DIFFICULT GO OUTSIDE HOME TO SHOP OR DR OFFICE (START 2016 Q3)\"},\n",
        "                  \"V3071\":\n",
        "                          {\"Desc\": \"HAVE JOB OR WORK LAST WEEK\"},\n",
        "                  \"V3072\":\n",
        "                          {\"Desc\": \"HAVE JOB OR WORK IN LAST 6 MONTHS\"},\n",
        "                  \"V3073\":\n",
        "                          {\"Desc\": \"DID JOB/WORK LAST 2 WEEKS OR MORE\"},\n",
        "                  \"V3074\":\n",
        "                          {\"Desc\": \"WHICH BEST DESCRIBES YOUR JOB\"},\n",
        "                  \"V3075\":\n",
        "                          {\"Desc\": \"IS EMPLOYMENT PRIVATE, GOVT OR SELF\"},\n",
        "                  \"V3076\":\n",
        "                          {\"Desc\": \"IS WORK MOSTLY IN CITY, SUBURB, RURAL\"},\n",
        "                  \"V3077\":\n",
        "                          {\"Desc\": \"HOUSEHOLD RESPONDENT\"},\n",
        "                  \"V3078\":\n",
        "                          {\"Desc\": \"EMPLOYED BY A COLLEGE OR UNIVERSITY\"},\n",
        "                  \"V3079\":\n",
        "                          {\"Desc\": \"ATTENDING COLLEGE\"},\n",
        "                  \"V3080\":\n",
        "                          {\"Desc\": \"PERSON WEIGHT\"},\n",
        "                  \"WGTPERCY\":\n",
        "                          {\"Desc\": \"ADJUSTED PERSON WEIGHT - COLLECTION YEAR\"},\n",
        "                  \"V3081\":\n",
        "                          {\"Desc\": \"NUMBER OF CRIME INCIDENT REPORTS\"},\n",
        "                  \"V3082\":\n",
        "                          {\"Desc\": \"YEAR IDENTIFICATION (START 1999 Q3)\"},\n",
        "                  \"PER_TIS\":\n",
        "                          {\"Desc\": \"PERSON TIME IN SAMPLE (START 2015 Q1)\"},\n",
        "                  \"PERINTVNUM\":\n",
        "                          {\"Desc\": \"PERSON INTERVIEW NUMBER (START 2015 Q1)\"},\n",
        "                  \"PINTTYPE_TIS1\":\n",
        "                          {\"Desc\": \"PERSON TYPE INTERVIEW CODE TIME IN SAMPLE 1 (START 2015 Q1)\"},\n",
        "                  \"PINTTYPE_TIS2\":\n",
        "                          {\"Desc\": \"PERSON TYPE INTERVIEW CODE TIME IN SAMPLE 2 (START 2015 Q1)\"},\n",
        "                  \"PINTTYPE_TIS3\":\n",
        "                          {\"Desc\": \"PERSON TYPE INTERVIEW CODE TIME IN SAMPLE 3 (START 2015 Q1)\"},\n",
        "                  \"PINTTYPE_TIS4\":\n",
        "                          {\"Desc\": \"PERSON TYPE INTERVIEW CODE TIME IN SAMPLE 4 (START 2015 Q1)\"},\n",
        "                  \"PINTTYPE_TIS5\":\n",
        "                          {\"Desc\": \"PERSON TYPE INTERVIEW CODE TIME IN SAMPLE 5 (START 2015 Q1)\"},\n",
        "                  \"PINTTYPE_TIS6\":\n",
        "                          {\"Desc\": \"PERSON TYPE INTERVIEW CODE TIME IN SAMPLE 6 (START 2015 Q1)\"},\n",
        "                  \"PINTTYPE_TIS7\":\n",
        "                          {\"Desc\": \"PERSON TYPE INTERVIEW CODE TIME IN SAMPLE 7 (START 2015 Q1)\"},\n",
        "                  \"PERBOUNDED\":\n",
        "                          {\"Desc\": \"PERSON BOUNDED BY PREVIOUS TIME IN SAMPLE (START 2015 Q1)\"},\n",
        "                  \"VFLAG\":\n",
        "                          {\"Desc\": \"HOUSEHOLD VICTIMIZATION FLAG\"},\n",
        "                  \"VTYPE\":\n",
        "                          {\"Desc\": \"TYPE OF VICTIMIZATION\"}}"
      ],
      "execution_count": 0,
      "outputs": []
    },
    {
      "cell_type": "code",
      "metadata": {
        "id": "3-jLBl69ZLPq",
        "colab_type": "code",
        "outputId": "d8f9b1e3-89c1-4fc1-ad7f-983978fe2651",
        "colab": {
          "base_uri": "https://localhost:8080/",
          "height": 1000
        }
      },
      "source": [
        "for col in df.columns:\n",
        "  print(col, \": \", (df[col] == 'V4526A').any())"
      ],
      "execution_count": 0,
      "outputs": [
        {
          "output_type": "stream",
          "text": [
            "/usr/local/lib/python3.6/dist-packages/pandas/core/ops/__init__.py:1115: FutureWarning: elementwise comparison failed; returning scalar instead, but in the future will perform elementwise comparison\n",
            "  result = method(y)\n"
          ],
          "name": "stderr"
        },
        {
          "output_type": "stream",
          "text": [
            "YEAR :  False\n",
            "YEARQ :  False\n",
            "IDHH :  False\n",
            "V2015 :  False\n",
            "V2021 :  False\n",
            "V2022 :  False\n",
            "V2024 :  False\n",
            "V2026 :  False\n",
            "SC214A :  False\n",
            "V2078 :  False\n",
            "V2116 :  False\n",
            "V2117 :  False\n",
            "V2118 :  False\n",
            "V2119 :  False\n",
            "V2120 :  False\n",
            "V2122 :  False\n",
            "V2126B :  False\n",
            "V2127B :  False\n",
            "V2129 :  False\n",
            "V2130 :  False\n",
            "V3001 :  False\n",
            "IDPER :  False\n",
            "V3002 :  False\n",
            "V3003 :  False\n",
            "V3004 :  False\n",
            "V3005 :  False\n",
            "V3006 :  False\n",
            "V3007 :  False\n",
            "V3008 :  False\n",
            "V3009 :  False\n",
            "V3010 :  False\n",
            "V3011 :  False\n",
            "V3012 :  False\n",
            "V3013 :  False\n",
            "V3014 :  False\n",
            "V3015 :  False\n",
            "V3016 :  False\n",
            "V3017 :  False\n",
            "V3018 :  False\n",
            "V3019 :  False\n",
            "V3020 :  False\n",
            "V3021 :  False\n",
            "V3022 :  False\n",
            "V3023 :  False\n",
            "V3023A :  False\n",
            "V3024 :  False\n",
            "V3024A :  False\n",
            "V3025 :  False\n",
            "V3026 :  False\n",
            "V3027 :  False\n",
            "V3028 :  False\n",
            "V3029 :  False\n",
            "V3030 :  False\n",
            "V3031 :  False\n",
            "V3032 :  False\n",
            "V3033 :  False\n",
            "V3034 :  False\n",
            "V3035 :  False\n",
            "V3036 :  False\n",
            "V3037 :  False\n",
            "V3038 :  False\n",
            "V3039 :  False\n",
            "V3040 :  False\n",
            "V3041 :  False\n",
            "V3042 :  False\n",
            "V3043 :  False\n",
            "V3044 :  False\n",
            "V3045 :  False\n",
            "V3046 :  False\n",
            "V3047 :  False\n",
            "V3048 :  False\n",
            "V3049 :  False\n",
            "V3050 :  False\n",
            "V3051 :  False\n",
            "V3052 :  False\n",
            "V3053 :  False\n",
            "V3054 :  False\n",
            "V3055 :  False\n",
            "V3056 :  False\n",
            "V3057 :  False\n",
            "V3058 :  False\n",
            "V3059 :  False\n",
            "V3059A :  False\n",
            "V3059B :  False\n",
            "V3059C :  False\n",
            "V3059D :  False\n",
            "V3059E :  False\n",
            "V3059F :  False\n",
            "V3059G :  False\n",
            "V3059H :  False\n",
            "V3059I :  False\n",
            "V3059J :  False\n",
            "V3059K :  False\n",
            "V3059L :  False\n",
            "V3059M :  False\n",
            "V3059N :  False\n",
            "V3059O :  False\n",
            "V3059P :  False\n",
            "V3059Q :  False\n",
            "V3059R :  False\n",
            "V3059S :  False\n",
            "V3059T :  False\n",
            "V3059U :  False\n",
            "V3059V :  False\n",
            "V3059W :  False\n",
            "V3059X :  False\n",
            "V3059Y :  False\n",
            "V3059Z :  False\n",
            "V3059AA :  False\n",
            "V3059AB :  False\n",
            "V3060 :  False\n",
            "V3061 :  False\n",
            "V3062 :  False\n",
            "V3063 :  False\n",
            "V3064 :  False\n",
            "V3065 :  False\n",
            "V3066 :  False\n",
            "V3067 :  False\n",
            "V3068 :  False\n",
            "V3069 :  False\n",
            "V3070 :  False\n",
            "V3_V4526H3A :  False\n",
            "V3_V4526H3B :  False\n",
            "V3_V4526H5 :  False\n",
            "V3_V4526H4 :  False\n",
            "V3_V4526H6 :  False\n",
            "V3_V4526H7 :  False\n",
            "V3071 :  False\n",
            "V3072 :  False\n",
            "V3073 :  False\n",
            "V3074 :  False\n",
            "V3075 :  False\n",
            "V3076 :  False\n",
            "V3077 :  False\n",
            "V3078 :  False\n",
            "V3079 :  False\n",
            "V3080 :  False\n",
            "WGTPERCY :  False\n",
            "V3081 :  False\n",
            "V3082 :  False\n",
            "PER_TIS :  False\n",
            "PERINTVNUM :  False\n",
            "PINTTYPE_TIS1 :  False\n",
            "PINTTYPE_TIS2 :  False\n",
            "PINTTYPE_TIS3 :  False\n",
            "PINTTYPE_TIS4 :  False\n",
            "PINTTYPE_TIS5 :  False\n",
            "PINTTYPE_TIS6 :  False\n",
            "PINTTYPE_TIS7 :  False\n",
            "PERBOUNDED :  False\n",
            "VFLAG :  False\n",
            "VTYPE :  False\n"
          ],
          "name": "stdout"
        }
      ]
    },
    {
      "cell_type": "code",
      "metadata": {
        "id": "jPIXFZHZqAcn",
        "colab_type": "code",
        "outputId": "99b4b385-8d9b-4b2e-f51f-55b17cc27b32",
        "colab": {
          "base_uri": "https://localhost:8080/",
          "height": 1000
        }
      },
      "source": [
        "descs = []\n",
        "for c in df.columns:\n",
        "  #print(c, \"\\n\", \"\\t\", dataDictionary[c]['Desc'],'\\n')\n",
        "  descs.append(c + \"\\n\" + \"\\t\" + dataDictionary[c]['Desc'] + '\\n')\n",
        "for s in descs:\n",
        "  print(s)"
      ],
      "execution_count": 0,
      "outputs": [
        {
          "output_type": "stream",
          "text": [
            "YEAR\n",
            "\tYEAR\n",
            "\n",
            "YEARQ\n",
            "\tYEAR AND QUARTER OF INTERVIEW (YYYY.Q)\n",
            "\n",
            "IDHH\n",
            "\tNCVS ID FOR HOUSEHOLDS\n",
            "\n",
            "V2015\n",
            "\tTENURE (ALLOCATED)\n",
            "\n",
            "V2021\n",
            "\tTYPE OF LIVING QUARTERS (ALLOCATED)\n",
            "\n",
            "V2022\n",
            "\tLOCATION OF PHONE\n",
            "\n",
            "V2024\n",
            "\tNUMBER OF HOUSING UNITS IN STRUCTURE\n",
            "\n",
            "V2026\n",
            "\tHOUSEHOLD INCOME (ALLOCATED) (START 2015, Q1) \n",
            "\n",
            "SC214A\n",
            "\tHOUSEHOLD INCOME (ALLOCATED) (START 2015, Q1) \n",
            "\n",
            "V2078\n",
            "\tNUMBER MOTOR VEHICLES OWNED \n",
            "\n",
            "V2116\n",
            "\tHOUSEHOLD WEIGHT\n",
            "\n",
            "V2117\n",
            "\tPSEUDOSTRATUM\n",
            "\n",
            "V2118\n",
            "\tSECUCODE\n",
            "\n",
            "V2119\n",
            "\tCOLLEGE/UNIVERSITY \n",
            "\n",
            "V2120\n",
            "\tPUBLIC HOUSING \n",
            "\n",
            "V2122\n",
            "\tFAMILY STRUCTURE CODE\n",
            "\n",
            "V2126B\n",
            "\tPLACE SIZE CODE\n",
            "\n",
            "V2127B\n",
            "\tREGION\n",
            "\n",
            "V2129\n",
            "\tCBSA MSA STATUS\n",
            "\n",
            "V2130\n",
            "\tMONTH ALLOCATED FROM PANEL/ROT NO.\n",
            "\n",
            "V3001\n",
            "\tPERSON RECORD TYPE\n",
            "\n",
            "IDPER\n",
            "\tNCVS ID FOR PERSONS\n",
            "\n",
            "V3002\n",
            "\tICPSR HOUSEHOLD IDENTIFICATION NUMBER\n",
            "\n",
            "V3003\n",
            "\tYEAR AND QUARTER IDENTIFICATION\n",
            "\n",
            "V3004\n",
            "\tSAMPLE NUMBER\n",
            "\n",
            "V3005\n",
            "\tSCRAMBLED CONTROL NUMBER\n",
            "\n",
            "V3006\n",
            "\tHOUSEHOLD NUMBER\n",
            "\n",
            "V3007\n",
            "\tLAST TWO DIGITS OF SCRAMBLED CONTROL NO. (END 2004 Q4)\n",
            "\n",
            "V3008\n",
            "\tPANEL AND ROTATION GROUP\n",
            "\n",
            "V3009\n",
            "\tPERSON SEQUENCE NUMBER\n",
            "\n",
            "V3010\n",
            "\tPERSON LINE NUMBER\n",
            "\n",
            "V3011\n",
            "\tTYPE OF INTERVIEW\n",
            "\n",
            "V3012\n",
            "\tRELATIONSHIP TO REFERENCE PERSON\n",
            "\n",
            "V3013\n",
            "\tAGE (ORIGINAL)\n",
            "\n",
            "V3014\n",
            "\tAGE (ALLOCATED)\n",
            "\n",
            "V3015\n",
            "\tMARITAL STATUS (CURRENT SURVEY)\n",
            "\n",
            "V3016\n",
            "\tMARITAL STATUS (PREVIOUS SURVEY)\n",
            "\n",
            "V3017\n",
            "\tSEX (ORIGINAL)\n",
            "\n",
            "V3018\n",
            "\tSEX (ALLOCATED)\n",
            "\n",
            "V3019\n",
            "\tNOW AN ARMED FORCES MEMBER\n",
            "\n",
            "V3020\n",
            "\tEDUCATIONAL ATTAINMENT\n",
            "\n",
            "V3021\n",
            "\tEDUCATION COMPLETE YEAR (END 2002 Q4)\n",
            "\n",
            "V3022\n",
            "\tRACE (ORIGINAL) (END 2002 Q4)\n",
            "\n",
            "V3023\n",
            "\tRACE (ALLOCATED) (END 2002 Q4)\n",
            "\n",
            "V3023A\n",
            "\tRACE RECODE (START 2003 Q1)\n",
            "\n",
            "V3024\n",
            "\tHISPANIC ORIGIN\n",
            "\n",
            "V3024A\n",
            "\tHISPANIC ORIGIN (ALLOCATED) (START 2014 Q1)\n",
            "\n",
            "V3025\n",
            "\tMONTH INTERVIEW COMPLETED\n",
            "\n",
            "V3026\n",
            "\tDAY INTERVIEW COMPLETED\n",
            "\n",
            "V3027\n",
            "\tYEAR INTERVIEW COMPLETED\n",
            "\n",
            "V3028\n",
            "\tHOW OFTEN GONE SHOPPING (END 2002 Q2)\n",
            "\n",
            "V3029\n",
            "\tHOW OFTEN SPENT EVENING AWAY FROM HOME (END 2000 Q2)\n",
            "\n",
            "V3030\n",
            "\tHOW OFTEN RIDDEN PUBLIC TRANSPORTATION (END 2000 Q2)\n",
            "\n",
            "V3031\n",
            "\tHOW LONG AT THIS ADDRESS (MONTHS)\n",
            "\n",
            "V3032\n",
            "\tHOW LONG AT THIS ADDRESS (YEARS)\n",
            "\n",
            "V3033\n",
            "\tHOW MANY TIMES MOVED IN LAST 5 YEARS\n",
            "\n",
            "V3034\n",
            "\tSOMETHING STOLEN OR ATTEMPT\n",
            "\n",
            "V3035\n",
            "\tNO. TIMES SOMETHING STOLEN OR ATTEMPT\n",
            "\n",
            "V3036\n",
            "\tBROKEN IN OR ATTEMPTED\n",
            "\n",
            "V3037\n",
            "\tNO. TIMES BROKEN IN OR ATTEMPTED\n",
            "\n",
            "V3038\n",
            "\tMOTOR VEHICLE THEFT\n",
            "\n",
            "V3039\n",
            "\tNO. TIMES MOTOR VEHICLE THEFT\n",
            "\n",
            "V3040\n",
            "\tATTACK, THREAT, THEFT: LOCATION CUES\n",
            "\n",
            "V3041\n",
            "\tNO. TIMES ATTACK, LOCATION CUES\n",
            "\n",
            "V3042\n",
            "\tATTACK, THREAT: WEAPON, ATTACK CUES\n",
            "\n",
            "V3043\n",
            "\tNO. TIMES ATTACK, WEAPON CUES\n",
            "\n",
            "V3044\n",
            "\tSTOLEN, ATTACK, THREAT: OFFENDER KNOWN\n",
            "\n",
            "V3045\n",
            "\tNO. TIMES ATTACK, OFFENDER KNOWN\n",
            "\n",
            "V3046\n",
            "\tFORCED OR COERCED UNWANTED SEX\n",
            "\n",
            "V3047\n",
            "\tNO. TIMES UNWANTED SEX\n",
            "\n",
            "V3048\n",
            "\tCALL POLICE TO REPORT SOMETHING ELSE\n",
            "\n",
            "V3049\n",
            "\tFIRST INCIDENT\n",
            "\n",
            "V3050\n",
            "\tSECOND INCIDENT\n",
            "\n",
            "V3051\n",
            "\tTHIRD INCIDENT\n",
            "\n",
            "V3052\n",
            "\tCHECK B: ATTACK, THREAT, THEFT\n",
            "\n",
            "V3053\n",
            "\tNO. TIMES ATTACK, THREAT, THEFT\n",
            "\n",
            "V3054\n",
            "\tTHOUGHT CRIME BUT DIDN'T CALL POLICE\n",
            "\n",
            "V3055\n",
            "\tFIRST INCIDENT\n",
            "\n",
            "V3056\n",
            "\tSECOND INCIDENT\n",
            "\n",
            "V3057\n",
            "\tTHIRD INCIDENT\n",
            "\n",
            "V3058\n",
            "\tCHECK C: ATTACK, THREAT, THEFT\n",
            "\n",
            "V3059\n",
            "\tNO. TIMES ATTACK, THREAT, THEFT\n",
            "\n",
            "V3059A\n",
            "\tLI USED COMPUTER IN LAST 6 MONTHS (START 2001 Q3) (END 2004 Q2)\n",
            "\n",
            "V3059B\n",
            "\tC PERSONAL USE AT HOME (START 2001 Q3) (END 2004 Q2)\n",
            "\n",
            "V3059C\n",
            "\tC PERSONAL USE AT WORK (START 2001 Q3) (END 2004 Q2)\n",
            "\n",
            "V3059D\n",
            "\tC PERSONAL USE AT SCHOOL, LIBRARIES, ETC (START 2001 Q3) (END 2004 Q2)\n",
            "\n",
            "V3059E\n",
            "\tC OPERATE HOME BUSINESS (START 2001 Q3) (END 2004 Q2)\n",
            "\n",
            "V3059F\n",
            "\tC NONE OF ABOVE (START 2001 Q3) (END 2004 Q2)\n",
            "\n",
            "V3059G\n",
            "\tRESIDUE: USED COMPUTER IN LAST 6 MONTHS (START 2001 Q3) (END 2004 Q2)\n",
            "\n",
            "V3059H\n",
            "\tN COMPUTERS PERSONAL USE/HOME BUSINESS (START 2001 Q3) (END 2004 Q2)\n",
            "\n",
            "V3059I\n",
            "\tINTERNET FOR PERSONAL/HOME BUSINESS (START 2001 Q3) (END 2004 Q2)\n",
            "\n",
            "V3059J\n",
            "\tLI COMPUTER-RELATED INCIDENTS LAST 6 MONTHS (START 2001 Q3) (END 2004 Q2)\n",
            "\n",
            "V3059K\n",
            "\tC FRAUD PURCHASE OVER INTERNET (START 2001 Q3) (END 2004 Q2)\n",
            "\n",
            "V3059L\n",
            "\tC COMPUTER VIRUS ATTACK (START 2001 Q3) (END 2004 Q2)\n",
            "\n",
            "V3059M\n",
            "\tC THREATS OF HARM/ATTACK ON-LINE (START 2001 Q3) (END 2004 Q2)\n",
            "\n",
            "V3059N\n",
            "\tC OBSCENE MESSAGES ON-LINE (START 2001 Q3) (END 2004 Q2)\n",
            "\n",
            "V3059O\n",
            "\tC SOFTWARE COPYRIGHT W HOME BUSINESS (START 2001 Q3) (END 2004 Q2)\n",
            "\n",
            "V3059P\n",
            "\tC OTHER COMPUTER-RELATED CRIME (START 2001 Q3) (END 2004 Q2)\n",
            "\n",
            "V3059Q\n",
            "\tC NO COMPUTER-RELATED INCIDENTS (START 2001 Q3) (END 2004 Q2)\n",
            "\n",
            "V3059R\n",
            "\tRESIDUE: COMPUTER-RELATED INCIDENTS LAST 6 MONTHS (START 2001 Q3) (END 2004 Q2)\n",
            "\n",
            "V3059S\n",
            "\tLOSSES FROM COMPUTER-RELATED INCIDENTS (START 2001 Q3) (END 2004 Q2)\n",
            "\n",
            "V3059T\n",
            "\tAMOUNT OF LOSSES COMPUTER-RELATED INCIDENTS (START 2001 Q3) (END 2004 Q2)\n",
            "\n",
            "V3059U\n",
            "\tLI REPORT INCIDENTS (START 2001 Q3) (END 2004 Q2)\n",
            "\n",
            "V3059V\n",
            "\tC LAW ENFORCEMENT (START 2001 Q3) (END 2004 Q2)\n",
            "\n",
            "V3059W\n",
            "\tC INTERNET SERVICE PROVIDER (START 2001 Q3) (END 2004 Q2)\n",
            "\n",
            "V3059X\n",
            "\tC WEBSITE ADMINISTRATOR (START 2001 Q3) (END 2004 Q2)\n",
            "\n",
            "V3059Y\n",
            "\tC SYSTEMS ADMINISTRATOR (START 2001 Q3) (END 2004 Q2)\n",
            "\n",
            "V3059Z\n",
            "\tC SOMEONE ELSE (START 2001 Q3) (END 2004 Q2)\n",
            "\n",
            "V3059AA\n",
            "\tC NONE OF ABOVE (START 2001 Q3) (END 2004 Q2)\n",
            "\n",
            "V3059AB\n",
            "\tRESIDUE: REPORT INCIDENTS (START 2001 Q3) (END 2004 Q2)\n",
            "\n",
            "V3060\n",
            "\tCHECK ITEM D(L): LI WHO PRESENT DURING SCREEN QUESTIONS\n",
            "\n",
            "V3061\n",
            "\tCHECK ITEM D(1): C TELEPHONE INTERVIEW\n",
            "\n",
            "V3062\n",
            "\tCHECK ITEM D(2): C NO ONE BESIDES RESPONDENT PRESENT\n",
            "\n",
            "V3063\n",
            "\tCHECK ITEM D(3): C RESPONDENT'S SPOUSE\n",
            "\n",
            "V3064\n",
            "\tCHECK ITEM D(4): C HH MEMBER(S) 12+, NOT SPOUSE\n",
            "\n",
            "V3065\n",
            "\tCHECK ITEM D(5): C HH MEMBER(S) UNDER 12\n",
            "\n",
            "V3066\n",
            "\tCHECK ITEM D(6): C NONHOUSEHOLD MEMBER(S)\n",
            "\n",
            "V3067\n",
            "\tCHECK ITEM D(7): C SOMEONE PRESENT, CAN'T SAY WHO\n",
            "\n",
            "V3068\n",
            "\tCHECK ITEM D(8): C DON'T KNOW IF SOMEONE ELSE PRESENT\n",
            "\n",
            "V3069\n",
            "\tCHECK ITEM D(R): RESIDUE: WHO PRESENT DURING SCREEN\n",
            "\n",
            "V3070\n",
            "\tCHECK ITEM E: DID SELECTED RESPONDENT HELP PROXY\n",
            "\n",
            "V3_V4526H3A\n",
            "\tARE YOU DEAF OR DO YOU HAVE SERIOUS DIFFICULTY HEARING? (START 2016 Q3)\n",
            "\n",
            "V3_V4526H3B\n",
            "\tARE YOU BLIND OR DO YOU HAVE SERIOUS DIFFICULTY SEEING EVEN WHEN WEARING GLASSES (START 2016 Q3)\n",
            "\n",
            "V3_V4526H5\n",
            "\tDIFFICULT: LEARN, REMEMBER, CONCENTRATE (START 2016 Q3)\n",
            "\n",
            "V3_V4526H4\n",
            "\tLIMITS PHYSICAL ACTIVITIES (START 2016 Q3)\n",
            "\n",
            "V3_V4526H6\n",
            "\tDIFFICULT: DRESSING, BATHING, GET AROUND HOME (START 2016 Q3)\n",
            "\n",
            "V3_V4526H7\n",
            "\tDIFFICULT GO OUTSIDE HOME TO SHOP OR DR OFFICE (START 2016 Q3)\n",
            "\n",
            "V3071\n",
            "\tHAVE JOB OR WORK LAST WEEK\n",
            "\n",
            "V3072\n",
            "\tHAVE JOB OR WORK IN LAST 6 MONTHS\n",
            "\n",
            "V3073\n",
            "\tDID JOB/WORK LAST 2 WEEKS OR MORE\n",
            "\n",
            "V3074\n",
            "\tWHICH BEST DESCRIBES YOUR JOB\n",
            "\n",
            "V3075\n",
            "\tIS EMPLOYMENT PRIVATE, GOVT OR SELF\n",
            "\n",
            "V3076\n",
            "\tIS WORK MOSTLY IN CITY, SUBURB, RURAL\n",
            "\n",
            "V3077\n",
            "\tHOUSEHOLD RESPONDENT\n",
            "\n",
            "V3078\n",
            "\tEMPLOYED BY A COLLEGE OR UNIVERSITY\n",
            "\n",
            "V3079\n",
            "\tATTENDING COLLEGE\n",
            "\n",
            "V3080\n",
            "\tPERSON WEIGHT\n",
            "\n",
            "WGTPERCY\n",
            "\tADJUSTED PERSON WEIGHT - COLLECTION YEAR\n",
            "\n",
            "V3081\n",
            "\tNUMBER OF CRIME INCIDENT REPORTS\n",
            "\n",
            "V3082\n",
            "\tYEAR IDENTIFICATION (START 1999 Q3)\n",
            "\n",
            "PER_TIS\n",
            "\tPERSON TIME IN SAMPLE (START 2015 Q1)\n",
            "\n",
            "PERINTVNUM\n",
            "\tPERSON INTERVIEW NUMBER (START 2015 Q1)\n",
            "\n",
            "PINTTYPE_TIS1\n",
            "\tPERSON TYPE INTERVIEW CODE TIME IN SAMPLE 1 (START 2015 Q1)\n",
            "\n",
            "PINTTYPE_TIS2\n",
            "\tPERSON TYPE INTERVIEW CODE TIME IN SAMPLE 2 (START 2015 Q1)\n",
            "\n",
            "PINTTYPE_TIS3\n",
            "\tPERSON TYPE INTERVIEW CODE TIME IN SAMPLE 3 (START 2015 Q1)\n",
            "\n",
            "PINTTYPE_TIS4\n",
            "\tPERSON TYPE INTERVIEW CODE TIME IN SAMPLE 4 (START 2015 Q1)\n",
            "\n",
            "PINTTYPE_TIS5\n",
            "\tPERSON TYPE INTERVIEW CODE TIME IN SAMPLE 5 (START 2015 Q1)\n",
            "\n",
            "PINTTYPE_TIS6\n",
            "\tPERSON TYPE INTERVIEW CODE TIME IN SAMPLE 6 (START 2015 Q1)\n",
            "\n",
            "PINTTYPE_TIS7\n",
            "\tPERSON TYPE INTERVIEW CODE TIME IN SAMPLE 7 (START 2015 Q1)\n",
            "\n",
            "PERBOUNDED\n",
            "\tPERSON BOUNDED BY PREVIOUS TIME IN SAMPLE (START 2015 Q1)\n",
            "\n",
            "VFLAG\n",
            "\tHOUSEHOLD VICTIMIZATION FLAG\n",
            "\n",
            "VTYPE\n",
            "\tTYPE OF VICTIMIZATION\n",
            "\n"
          ],
          "name": "stdout"
        }
      ]
    },
    {
      "cell_type": "code",
      "metadata": {
        "id": "WvHZuI7Xix2Q",
        "colab_type": "code",
        "outputId": "072de5a1-793c-41cb-dc49-3a4bb7c183fe",
        "colab": {
          "base_uri": "https://localhost:8080/",
          "height": 89
        }
      },
      "source": [
        "df.columns.contains('VG21F3')"
      ],
      "execution_count": 0,
      "outputs": [
        {
          "output_type": "stream",
          "text": [
            "/usr/local/lib/python3.6/dist-packages/ipykernel_launcher.py:1: FutureWarning: The 'contains' method is deprecated and will be removed in a future version. Use 'key in index' instead of 'index.contains(key)'\n",
            "  \"\"\"Entry point for launching an IPython kernel.\n"
          ],
          "name": "stderr"
        },
        {
          "output_type": "execute_result",
          "data": {
            "text/plain": [
              "False"
            ]
          },
          "metadata": {
            "tags": []
          },
          "execution_count": 9
        }
      ]
    },
    {
      "cell_type": "code",
      "metadata": {
        "id": "BLKdf5b86Kxg",
        "colab_type": "code",
        "outputId": "d13ade84-cdaf-40f7-8db0-d14e0683cd2b",
        "colab": {
          "base_uri": "https://localhost:8080/",
          "height": 243
        }
      },
      "source": [
        "df['V2021'].value_counts().sort_index()"
      ],
      "execution_count": 0,
      "outputs": [
        {
          "output_type": "execute_result",
          "data": {
            "text/plain": [
              "1     4203074\n",
              "2        1857\n",
              "3         531\n",
              "4        1017\n",
              "5      127861\n",
              "6       22804\n",
              "7        1546\n",
              "8         957\n",
              "9         113\n",
              "10        177\n",
              "11      14079\n",
              "12       3373\n",
              "Name: V2021, dtype: int64"
            ]
          },
          "metadata": {
            "tags": []
          },
          "execution_count": 10
        }
      ]
    },
    {
      "cell_type": "code",
      "metadata": {
        "id": "OEMlS-_M6U7V",
        "colab_type": "code",
        "colab": {}
      },
      "source": [
        "df2 = df[df['VTYPE'] == 1].reset_index()"
      ],
      "execution_count": 0,
      "outputs": []
    },
    {
      "cell_type": "code",
      "metadata": {
        "id": "kwlZqxFQvAV0",
        "colab_type": "code",
        "outputId": "a67e0ee6-49eb-4f40-81b2-b00a4595a245",
        "colab": {
          "base_uri": "https://localhost:8080/",
          "height": 35
        }
      },
      "source": [
        "df2.shape"
      ],
      "execution_count": 0,
      "outputs": [
        {
          "output_type": "execute_result",
          "data": {
            "text/plain": [
              "(36009, 153)"
            ]
          },
          "metadata": {
            "tags": []
          },
          "execution_count": 12
        }
      ]
    },
    {
      "cell_type": "code",
      "metadata": {
        "id": "3SGqso8Vu8OK",
        "colab_type": "code",
        "outputId": "6b858ce1-2a9a-4a71-edb7-94bf65a8a4f2",
        "colab": {
          "base_uri": "https://localhost:8080/",
          "height": 191
        }
      },
      "source": [
        "for i in range(0, len(df2.columns)):\n",
        "  if len(df2[df2.columns[i]].value_counts()) == 1:\n",
        "    print(df2.columns[i], \"SINGLE\\n\")\n",
        "  if i < len(df2.columns) - 1:\n",
        "    for j in range(i + 1, len(df2.columns)):\n",
        "      if df2[df2.columns[i]].equals(df2[df2.columns[j]]):\n",
        "        print(df2.columns[i], \"&\", df2.columns[j], 'SAME\\n')"
      ],
      "execution_count": 0,
      "outputs": [
        {
          "output_type": "stream",
          "text": [
            "YEAR & V3027 SAME\n",
            "\n",
            "V2130 & V3025 SAME\n",
            "\n",
            "V3001 SINGLE\n",
            "\n",
            "VFLAG SINGLE\n",
            "\n",
            "VTYPE SINGLE\n",
            "\n"
          ],
          "name": "stdout"
        }
      ]
    },
    {
      "cell_type": "code",
      "metadata": {
        "id": "vG1_aOnyyB64",
        "colab_type": "code",
        "outputId": "9ab57515-07f9-4e5e-ded1-5b4f1475c60f",
        "colab": {
          "base_uri": "https://localhost:8080/",
          "height": 139
        }
      },
      "source": [
        "df2_drop = df2.drop('V3027', axis=1).drop('V3001', axis=1).drop('VFLAG', axis=1).drop('VTYPE', axis=1).drop('V2130', axis=1)\n",
        "df2_drop.columns"
      ],
      "execution_count": 0,
      "outputs": [
        {
          "output_type": "execute_result",
          "data": {
            "text/plain": [
              "Index(['index', 'YEAR', 'YEARQ', 'IDHH', 'V2015', 'V2021', 'V2022', 'V2024',\n",
              "       'V2026', 'SC214A',\n",
              "       ...\n",
              "       'PER_TIS', 'PERINTVNUM', 'PINTTYPE_TIS1', 'PINTTYPE_TIS2',\n",
              "       'PINTTYPE_TIS3', 'PINTTYPE_TIS4', 'PINTTYPE_TIS5', 'PINTTYPE_TIS6',\n",
              "       'PINTTYPE_TIS7', 'PERBOUNDED'],\n",
              "      dtype='object', length=148)"
            ]
          },
          "metadata": {
            "tags": []
          },
          "execution_count": 14
        }
      ]
    },
    {
      "cell_type": "code",
      "metadata": {
        "id": "OFV1VhYl0ZhI",
        "colab_type": "code",
        "outputId": "ae7b47c4-ce3c-44fb-ed94-6f9d38150a32",
        "colab": {
          "base_uri": "https://localhost:8080/",
          "height": 35
        }
      },
      "source": [
        "df2_drop.drop('index', axis=1)\n",
        "df2_drop.shape"
      ],
      "execution_count": 0,
      "outputs": [
        {
          "output_type": "execute_result",
          "data": {
            "text/plain": [
              "(36009, 148)"
            ]
          },
          "metadata": {
            "tags": []
          },
          "execution_count": 15
        }
      ]
    },
    {
      "cell_type": "code",
      "metadata": {
        "id": "_4ualjGO7I38",
        "colab_type": "code",
        "outputId": "ce4eb8cd-fdeb-4fdf-c24a-4ffcf64d340c",
        "colab": {
          "base_uri": "https://localhost:8080/",
          "height": 35
        }
      },
      "source": [
        "df2_drop.select_dtypes(include=['object']).columns"
      ],
      "execution_count": 0,
      "outputs": [
        {
          "output_type": "execute_result",
          "data": {
            "text/plain": [
              "Index(['IDHH', 'IDPER', 'V3005'], dtype='object')"
            ]
          },
          "metadata": {
            "tags": []
          },
          "execution_count": 16
        }
      ]
    },
    {
      "cell_type": "code",
      "metadata": {
        "id": "e13bQU37-cEH",
        "colab_type": "code",
        "colab": {}
      },
      "source": [
        "df2_drop = df2_drop.drop(['IDHH','IDPER','V3005'],axis=1)"
      ],
      "execution_count": 0,
      "outputs": []
    },
    {
      "cell_type": "code",
      "metadata": {
        "id": "phjnjvUnAECU",
        "colab_type": "code",
        "colab": {}
      },
      "source": [
        "#cin = [[],[],[]]\n",
        "#for i, c in enumerate(df2_drop.columns):\n",
        "#  print(c, i + 1, '/', len(df2_drop.columns))\n",
        "#  for i, n in enumerate(df2_drop[c]):\n",
        "#    if n > df2_drop[c].mean() + df2_drop[c].std() * 3 or n < df2_drop[c].mean() - df2_drop[c].std() * 3:\n",
        "#      cin[0].append(c)\n",
        "#      cin[1].append(i)\n",
        "#      cin[2].append(n)\n",
        "\n",
        "### saved to file and downloaded, stored to variable \"df_new\""
      ],
      "execution_count": 0,
      "outputs": []
    },
    {
      "cell_type": "code",
      "metadata": {
        "id": "Ht0zTOuBF_1k",
        "colab_type": "code",
        "colab": {}
      },
      "source": [
        "import matplotlib.pyplot as plt\n",
        "import numpy as np"
      ],
      "execution_count": 0,
      "outputs": []
    },
    {
      "cell_type": "code",
      "metadata": {
        "id": "LNgiW4oLuity",
        "colab_type": "code",
        "colab": {}
      },
      "source": [
        "def contains(num, arr):\n",
        "  c = False\n",
        "  for i in arr:\n",
        "    if i == num:\n",
        "      c = True\n",
        "      break\n",
        "  return c"
      ],
      "execution_count": 0,
      "outputs": []
    },
    {
      "cell_type": "code",
      "metadata": {
        "id": "C8RcjFeWjsMW",
        "colab_type": "code",
        "colab": {}
      },
      "source": [
        "def remove_from_series(arr, ser):\n",
        "  tser = ser\n",
        "  for num in arr:\n",
        "    if contains(num, tser):\n",
        "      temp = filter(lambda x: x[0]!=num, zip(tser, tser.index))\n",
        "      tval = []\n",
        "      tind = []\n",
        "      for i in temp:\n",
        "        tval.append(i[0])\n",
        "        tind.append(i[1])\n",
        "      tser = pd.Series(tval, index=tind)\n",
        "  return tser"
      ],
      "execution_count": 0,
      "outputs": []
    },
    {
      "cell_type": "code",
      "metadata": {
        "id": "8_nUyIzB4J9w",
        "colab_type": "code",
        "outputId": "4f41235b-2a53-4d23-a9da-0371a1a6ef44",
        "colab": {
          "base_uri": "https://localhost:8080/",
          "height": 347
        }
      },
      "source": [
        "race_data_old = remove_from_series([-2,8,9], df2_drop[df2_drop['YEAR'] < 2003].set_index('YEAR')['V3022'])\n",
        "race_data_new = remove_from_series([-1,98,99], df2_drop[df2_drop['YEAR'] >= 2003].set_index('YEAR')['V3023A'])\n",
        "race_data = race_data_old.append(race_data_new)\n",
        "race_data.value_counts()"
      ],
      "execution_count": 0,
      "outputs": [
        {
          "output_type": "execute_result",
          "data": {
            "text/plain": [
              "1     29389\n",
              "2      4585\n",
              "4       797\n",
              "3       419\n",
              "5       330\n",
              "7       190\n",
              "6       104\n",
              "8        38\n",
              "10       28\n",
              "15       25\n",
              "9        12\n",
              "19        4\n",
              "20        4\n",
              "18        3\n",
              "11        2\n",
              "14        2\n",
              "16        2\n",
              "17        1\n",
              "dtype: int64"
            ]
          },
          "metadata": {
            "tags": []
          },
          "execution_count": 21
        }
      ]
    },
    {
      "cell_type": "code",
      "metadata": {
        "id": "IAJUvgP6w74b",
        "colab_type": "code",
        "outputId": "8c0b8769-3610-4e9b-dd8f-ea4b655f4246",
        "colab": {
          "base_uri": "https://localhost:8080/",
          "height": 121
        }
      },
      "source": [
        "race_data_old.value_counts()"
      ],
      "execution_count": 0,
      "outputs": [
        {
          "output_type": "execute_result",
          "data": {
            "text/plain": [
              "1    18083\n",
              "2     2668\n",
              "4      450\n",
              "5      286\n",
              "3      238\n",
              "dtype: int64"
            ]
          },
          "metadata": {
            "tags": []
          },
          "execution_count": 22
        }
      ]
    },
    {
      "cell_type": "code",
      "metadata": {
        "id": "h5QJYOmkOJ4T",
        "colab_type": "code",
        "colab": {}
      },
      "source": [
        "def count_in_arr(num, arr):\n",
        "  count = 0\n",
        "  for n in arr:\n",
        "    if n == num:\n",
        "      count += 1\n",
        "  return count"
      ],
      "execution_count": 0,
      "outputs": []
    },
    {
      "cell_type": "code",
      "metadata": {
        "id": "Nl7KUdw87T5h",
        "colab_type": "code",
        "outputId": "130a7063-329e-41fa-9ba8-f5a164de7788",
        "colab": {
          "base_uri": "https://localhost:8080/",
          "height": 121
        }
      },
      "source": [
        "race_data.head()"
      ],
      "execution_count": 0,
      "outputs": [
        {
          "output_type": "execute_result",
          "data": {
            "text/plain": [
              "1992    1\n",
              "1992    1\n",
              "1992    1\n",
              "1992    2\n",
              "1992    1\n",
              "dtype: int64"
            ]
          },
          "metadata": {
            "tags": []
          },
          "execution_count": 24
        }
      ]
    },
    {
      "cell_type": "code",
      "metadata": {
        "id": "6wpPzwGF-xro",
        "colab_type": "code",
        "colab": {}
      },
      "source": [
        "def year_data(year, race):\n",
        "  if year < 2003 and race > 5:\n",
        "    return 0\n",
        "  rd = [race_data[race_data.index.unique()[i]].value_counts().sort_index() for i in range(1,21)]\n",
        "  print(year,race)\n",
        "  return rd.iloc[year - 1992][race]"
      ],
      "execution_count": 0,
      "outputs": []
    },
    {
      "cell_type": "code",
      "metadata": {
        "id": "qsYR1YnMjeg4",
        "colab_type": "code",
        "outputId": "aa109c23-5796-4cfb-9052-18d9989d8ef6",
        "colab": {
          "base_uri": "https://localhost:8080/",
          "height": 1000
        }
      },
      "source": [
        "[race_data[race_data.index.unique()[i]].value_counts().sort_index() for i in range(1,25)]"
      ],
      "execution_count": 0,
      "outputs": [
        {
          "output_type": "execute_result",
          "data": {
            "text/plain": [
              "[1    1871\n",
              " 2     287\n",
              " 3      33\n",
              " 4      40\n",
              " 5      16\n",
              " dtype: int64, 1    2465\n",
              " 2     373\n",
              " 3      28\n",
              " 4      66\n",
              " 5      15\n",
              " dtype: int64, 1    2165\n",
              " 2     332\n",
              " 3      33\n",
              " 4      55\n",
              " 5      22\n",
              " dtype: int64, 1    1980\n",
              " 2     285\n",
              " 3      31\n",
              " 4      43\n",
              " 5      38\n",
              " dtype: int64, 1    1778\n",
              " 2     237\n",
              " 3      18\n",
              " 4      47\n",
              " 5      41\n",
              " dtype: int64, 1    1612\n",
              " 2     239\n",
              " 3      16\n",
              " 4      45\n",
              " 5      25\n",
              " dtype: int64, 1    1423\n",
              " 2     204\n",
              " 3      12\n",
              " 4      45\n",
              " 5      30\n",
              " dtype: int64, 1    1275\n",
              " 2     201\n",
              " 3      19\n",
              " 4      25\n",
              " 5      28\n",
              " dtype: int64, 1    1169\n",
              " 2     178\n",
              " 3      15\n",
              " 4      34\n",
              " 5      35\n",
              " dtype: int64, 1    1077\n",
              " 2     169\n",
              " 3      13\n",
              " 4      17\n",
              " 5      29\n",
              " dtype: int64, 1     945\n",
              " 2     148\n",
              " 3      12\n",
              " 4      28\n",
              " 5       1\n",
              " 6       5\n",
              " 7      13\n",
              " 8       5\n",
              " 9       1\n",
              " 10      2\n",
              " 15      2\n",
              " dtype: int64, 1     921\n",
              " 2     150\n",
              " 3      16\n",
              " 4      21\n",
              " 5       1\n",
              " 6       4\n",
              " 7      12\n",
              " 10      1\n",
              " 20      1\n",
              " dtype: int64, 1     761\n",
              " 2     128\n",
              " 3       5\n",
              " 4      32\n",
              " 5       1\n",
              " 6      11\n",
              " 7      14\n",
              " 8       1\n",
              " 10      2\n",
              " 15      2\n",
              " 19      1\n",
              " dtype: int64, 1     895\n",
              " 2     163\n",
              " 3      17\n",
              " 4      22\n",
              " 5       4\n",
              " 6       4\n",
              " 7      16\n",
              " 8       4\n",
              " 9       1\n",
              " 10      7\n",
              " 14      1\n",
              " 15      2\n",
              " dtype: int64, 1     790\n",
              " 2     131\n",
              " 3      11\n",
              " 4      18\n",
              " 5       2\n",
              " 6       8\n",
              " 7      13\n",
              " 8       3\n",
              " 9       1\n",
              " 10      5\n",
              " 15      4\n",
              " 19      1\n",
              " 20      1\n",
              " dtype: int64, 1     707\n",
              " 2     120\n",
              " 3      10\n",
              " 4      25\n",
              " 5       3\n",
              " 7       6\n",
              " 8       1\n",
              " 10      3\n",
              " 15      3\n",
              " 18      1\n",
              " dtype: int64, 1     658\n",
              " 2     126\n",
              " 3      10\n",
              " 4      15\n",
              " 5       2\n",
              " 6       7\n",
              " 7       9\n",
              " 8       1\n",
              " 9       1\n",
              " 11      1\n",
              " 15      1\n",
              " dtype: int64, 1     651\n",
              " 2     125\n",
              " 3      18\n",
              " 4      20\n",
              " 5       3\n",
              " 6       5\n",
              " 7      17\n",
              " 9       1\n",
              " 10      1\n",
              " 15      2\n",
              " 17      1\n",
              " dtype: int64, 1     701\n",
              " 2     107\n",
              " 3      11\n",
              " 4      18\n",
              " 5       3\n",
              " 6       6\n",
              " 7      18\n",
              " 8       1\n",
              " 9       2\n",
              " 10      2\n",
              " 11      1\n",
              " 14      1\n",
              " 15      1\n",
              " 18      1\n",
              " dtype: int64, 1     858\n",
              " 2     160\n",
              " 3      11\n",
              " 4      31\n",
              " 5       5\n",
              " 6       6\n",
              " 7       6\n",
              " 8       5\n",
              " 9       2\n",
              " 10      1\n",
              " 20      1\n",
              " dtype: int64, 1     734\n",
              " 2     123\n",
              " 3      12\n",
              " 4      18\n",
              " 5       2\n",
              " 6      11\n",
              " 7      17\n",
              " 8       3\n",
              " 9       1\n",
              " 10      3\n",
              " 15      1\n",
              " 18      1\n",
              " 20      1\n",
              " dtype: int64, 1     690\n",
              " 2     126\n",
              " 3      14\n",
              " 4      21\n",
              " 5       6\n",
              " 6      13\n",
              " 7      10\n",
              " 8       4\n",
              " 15      2\n",
              " 16      1\n",
              " dtype: int64, 1     684\n",
              " 2     123\n",
              " 3       8\n",
              " 4      28\n",
              " 5       5\n",
              " 6       8\n",
              " 7      15\n",
              " 8       3\n",
              " 9       2\n",
              " 15      2\n",
              " dtype: int64, 1     1311\n",
              " 2      187\n",
              " 3       26\n",
              " 4       50\n",
              " 5        6\n",
              " 6       16\n",
              " 7       24\n",
              " 8        7\n",
              " 10       1\n",
              " 15       3\n",
              " 16       1\n",
              " 19       2\n",
              " dtype: int64]"
            ]
          },
          "metadata": {
            "tags": []
          },
          "execution_count": 26
        }
      ]
    },
    {
      "cell_type": "code",
      "metadata": {
        "id": "4ut0za0Nje6t",
        "colab_type": "code",
        "colab": {}
      },
      "source": [
        "def year_data(year, race):\n",
        "  if year < 2003 and race > 5:\n",
        "    return 0\n",
        "  rd = [race_data[race_data.index.unique()[i]].value_counts().sort_index() for i in range(1,25)]\n",
        "  ret = 0\n",
        "  try:\n",
        "    ret = rd[year - 1992][race]\n",
        "  except:\n",
        "    ret = 0\n",
        "  return ret"
      ],
      "execution_count": 0,
      "outputs": []
    },
    {
      "cell_type": "code",
      "metadata": {
        "id": "MmxeTeJ-EwAW",
        "colab_type": "code",
        "outputId": "82559ee8-3bd8-4bd3-acda-942615c1119b",
        "colab": {
          "base_uri": "https://localhost:8080/",
          "height": 35
        }
      },
      "source": [
        "year_data(2013,12)"
      ],
      "execution_count": 0,
      "outputs": [
        {
          "output_type": "execute_result",
          "data": {
            "text/plain": [
              "0"
            ]
          },
          "metadata": {
            "tags": []
          },
          "execution_count": 28
        }
      ]
    },
    {
      "cell_type": "code",
      "metadata": {
        "id": "S2kb4IvSHw5W",
        "colab_type": "code",
        "outputId": "6bd55d4e-1c0f-42e3-dfda-a5c713ee77be",
        "colab": {
          "base_uri": "https://localhost:8080/",
          "height": 35
        }
      },
      "source": [
        "len([race_data[race_data.index.unique()[i]].value_counts().sort_index() for i in range(1,21)])"
      ],
      "execution_count": 0,
      "outputs": [
        {
          "output_type": "execute_result",
          "data": {
            "text/plain": [
              "20"
            ]
          },
          "metadata": {
            "tags": []
          },
          "execution_count": 29
        }
      ]
    },
    {
      "cell_type": "code",
      "metadata": {
        "id": "7jduYBkiIGI0",
        "colab_type": "code",
        "colab": {}
      },
      "source": [
        "def cap(num, c):\n",
        "  if num <= c:\n",
        "    return num\n",
        "  else:\n",
        "    return c"
      ],
      "execution_count": 0,
      "outputs": []
    },
    {
      "cell_type": "code",
      "metadata": {
        "id": "kyRRLALGFMT0",
        "colab_type": "code",
        "colab": {}
      },
      "source": [
        "tp1 = [race_data[race_data.index.unique()[i]].value_counts().sort_index() for i in range(0,25)]"
      ],
      "execution_count": 0,
      "outputs": []
    },
    {
      "cell_type": "code",
      "metadata": {
        "id": "SNpYwuIlMPld",
        "colab_type": "code",
        "outputId": "d87c6f3d-555e-4426-8feb-e7a346bf8a0f",
        "colab": {
          "base_uri": "https://localhost:8080/",
          "height": 1000
        }
      },
      "source": [
        "[race_data[race_data.index.unique()[i]].value_counts().sort_index() for i in range(1,21)]"
      ],
      "execution_count": 0,
      "outputs": [
        {
          "output_type": "execute_result",
          "data": {
            "text/plain": [
              "[1    1871\n",
              " 2     287\n",
              " 3      33\n",
              " 4      40\n",
              " 5      16\n",
              " dtype: int64, 1    2465\n",
              " 2     373\n",
              " 3      28\n",
              " 4      66\n",
              " 5      15\n",
              " dtype: int64, 1    2165\n",
              " 2     332\n",
              " 3      33\n",
              " 4      55\n",
              " 5      22\n",
              " dtype: int64, 1    1980\n",
              " 2     285\n",
              " 3      31\n",
              " 4      43\n",
              " 5      38\n",
              " dtype: int64, 1    1778\n",
              " 2     237\n",
              " 3      18\n",
              " 4      47\n",
              " 5      41\n",
              " dtype: int64, 1    1612\n",
              " 2     239\n",
              " 3      16\n",
              " 4      45\n",
              " 5      25\n",
              " dtype: int64, 1    1423\n",
              " 2     204\n",
              " 3      12\n",
              " 4      45\n",
              " 5      30\n",
              " dtype: int64, 1    1275\n",
              " 2     201\n",
              " 3      19\n",
              " 4      25\n",
              " 5      28\n",
              " dtype: int64, 1    1169\n",
              " 2     178\n",
              " 3      15\n",
              " 4      34\n",
              " 5      35\n",
              " dtype: int64, 1    1077\n",
              " 2     169\n",
              " 3      13\n",
              " 4      17\n",
              " 5      29\n",
              " dtype: int64, 1     945\n",
              " 2     148\n",
              " 3      12\n",
              " 4      28\n",
              " 5       1\n",
              " 6       5\n",
              " 7      13\n",
              " 8       5\n",
              " 9       1\n",
              " 10      2\n",
              " 15      2\n",
              " dtype: int64, 1     921\n",
              " 2     150\n",
              " 3      16\n",
              " 4      21\n",
              " 5       1\n",
              " 6       4\n",
              " 7      12\n",
              " 10      1\n",
              " 20      1\n",
              " dtype: int64, 1     761\n",
              " 2     128\n",
              " 3       5\n",
              " 4      32\n",
              " 5       1\n",
              " 6      11\n",
              " 7      14\n",
              " 8       1\n",
              " 10      2\n",
              " 15      2\n",
              " 19      1\n",
              " dtype: int64, 1     895\n",
              " 2     163\n",
              " 3      17\n",
              " 4      22\n",
              " 5       4\n",
              " 6       4\n",
              " 7      16\n",
              " 8       4\n",
              " 9       1\n",
              " 10      7\n",
              " 14      1\n",
              " 15      2\n",
              " dtype: int64, 1     790\n",
              " 2     131\n",
              " 3      11\n",
              " 4      18\n",
              " 5       2\n",
              " 6       8\n",
              " 7      13\n",
              " 8       3\n",
              " 9       1\n",
              " 10      5\n",
              " 15      4\n",
              " 19      1\n",
              " 20      1\n",
              " dtype: int64, 1     707\n",
              " 2     120\n",
              " 3      10\n",
              " 4      25\n",
              " 5       3\n",
              " 7       6\n",
              " 8       1\n",
              " 10      3\n",
              " 15      3\n",
              " 18      1\n",
              " dtype: int64, 1     658\n",
              " 2     126\n",
              " 3      10\n",
              " 4      15\n",
              " 5       2\n",
              " 6       7\n",
              " 7       9\n",
              " 8       1\n",
              " 9       1\n",
              " 11      1\n",
              " 15      1\n",
              " dtype: int64, 1     651\n",
              " 2     125\n",
              " 3      18\n",
              " 4      20\n",
              " 5       3\n",
              " 6       5\n",
              " 7      17\n",
              " 9       1\n",
              " 10      1\n",
              " 15      2\n",
              " 17      1\n",
              " dtype: int64, 1     701\n",
              " 2     107\n",
              " 3      11\n",
              " 4      18\n",
              " 5       3\n",
              " 6       6\n",
              " 7      18\n",
              " 8       1\n",
              " 9       2\n",
              " 10      2\n",
              " 11      1\n",
              " 14      1\n",
              " 15      1\n",
              " 18      1\n",
              " dtype: int64, 1     858\n",
              " 2     160\n",
              " 3      11\n",
              " 4      31\n",
              " 5       5\n",
              " 6       6\n",
              " 7       6\n",
              " 8       5\n",
              " 9       2\n",
              " 10      1\n",
              " 20      1\n",
              " dtype: int64]"
            ]
          },
          "metadata": {
            "tags": []
          },
          "execution_count": 32
        }
      ]
    },
    {
      "cell_type": "code",
      "metadata": {
        "id": "4eGoX-k7M5gV",
        "colab_type": "code",
        "colab": {}
      },
      "source": [
        "b = 0\n",
        "def mini_func(i,j):\n",
        "  try:\n",
        "    if i < 11 and j > 5:\n",
        "      return 0\n",
        "    else:\n",
        "      return tp1[i][j]\n",
        "  except:\n",
        "    return 0"
      ],
      "execution_count": 0,
      "outputs": []
    },
    {
      "cell_type": "code",
      "metadata": {
        "id": "1w02Tm6j7Q0F",
        "colab_type": "code",
        "colab": {}
      },
      "source": [
        "# starts 2009 - source: https://factfinder.census.gov/faces/tableservices/jsf/pages/productview.xhtml?pid=ACS_17_5YR_B02001\n",
        "yearly_populations = [277806400, 280032083, 283063300, 286028051,\n",
        "                      288058207, 290226438, 292201880, 293671359]\n",
        "year_race_population_percentage = [[80.80079508607433,\n",
        "                                    13.41390227150994,\n",
        "                                    0.8722959586244233,\n",
        "                                    4.751890525200283,\n",
        "                                    0.1611161585910188],\n",
        "                                   \n",
        "                                   [80.31069068610971,\n",
        "                                    13.5622860042076,\n",
        "                                    0.8857788627026711,\n",
        "                                    5.06566706501269,\n",
        "                                    0.1755773819673369],\n",
        "                                   \n",
        "                                   [80.25307872832684,\n",
        "                                    13.56440661859026,\n",
        "                                    0.8841319238488352,\n",
        "                                    5.121534653203011,\n",
        "                                    0.1768480760310503],\n",
        "                                   \n",
        "                                   [80.16657988555116,\n",
        "                                    13.5741399713275,\n",
        "                                    0.8842139752230106,\n",
        "                                    5.195222967834018,\n",
        "                                    0.1798432000643182],\n",
        "                                   \n",
        "                                   [80.0506888526179,\n",
        "                                    13.59690821098529,\n",
        "                                    0.8818735027396737,\n",
        "                                    5.287806988259147,\n",
        "                                    0.1827224453979886],\n",
        "                                   \n",
        "                                   [79.88580041078132,\n",
        "                                    13.63238486219508,\n",
        "                                    0.8839718454595098,\n",
        "                                    5.413241849455493,\n",
        "                                    0.184601032108591],\n",
        "                                   \n",
        "                                   [79.71990289727089,\n",
        "                                    13.65771329055104,\n",
        "                                    0.8792448563301509,\n",
        "                                    5.556194573423005,\n",
        "                                    0.186944382424918],\n",
        "                                   \n",
        "                                   [79.56413550018679,\n",
        "                                    13.70301078628509,\n",
        "                                    0.8846000538990253,\n",
        "                                    5.657557160689953,\n",
        "                                    0.1906964989391424]]"
      ],
      "execution_count": 0,
      "outputs": []
    },
    {
      "cell_type": "code",
      "metadata": {
        "id": "GADGXTIN26jm",
        "colab_type": "code",
        "outputId": "1bf595a2-9278-472a-e26d-381b1c33c401",
        "colab": {
          "base_uri": "https://localhost:8080/",
          "height": 295
        }
      },
      "source": [
        "b = 0\n",
        "fig, ax = plt.subplots()\n",
        "fig.set_facecolor('white')\n",
        "ax.set_xticklabels(range(1992,2017,3))\n",
        "ax.set_xticks(range(1992,2017,3))\n",
        "ax.set_title('Number of violent crimes committed against various races')\n",
        "ax.set_xlabel('Year')\n",
        "ax.set_ylabel('Violent Crimes Count')\n",
        "totals = [len(c) for c in [race_data[year] for year in race_data.index.unique()]]\n",
        "ax.plot(race_data.index.unique(), totals, color='orange')\n",
        "for j in range(1,21):\n",
        "    ax.plot(race_data.index.unique(), [mini_func(i,j) for i in range(0,25)])"
      ],
      "execution_count": 0,
      "outputs": [
        {
          "output_type": "display_data",
          "data": {
            "image/png": "[encoded data removed]",
            "text/plain": [
              "<Figure size 432x288 with 1 Axes>"
            ]
          },
          "metadata": {
            "tags": []
          }
        }
      ]
    },
    {
      "cell_type": "code",
      "metadata": {
        "id": "uwM6fzCxKGf8",
        "colab_type": "code",
        "outputId": "80e7b8ef-4b60-454d-8c9c-f6d79d863353",
        "colab": {
          "base_uri": "https://localhost:8080/",
          "height": 295
        }
      },
      "source": [
        "b = 0\n",
        "fig, ax = plt.subplots()\n",
        "fig.set_facecolor('white')\n",
        "ax.set_xticklabels(range(2009,2017,1))\n",
        "ax.set_xticks(range(2009,2017,1))\n",
        "totals = [len(c) for c in [race_data[year] for year in race_data.index.unique()[17:]]]\n",
        "ax.set_title('Number of violent crimes committed against various races per capita')\n",
        "ax.set_xlabel('Year')\n",
        "ax.set_ylabel('Violent Crimes Count')\n",
        "for j in range(1,6):\n",
        "    ax.plot(race_data.index.unique()[17:], [mini_func(i,j) / year_race_population_percentage[i-17][j-1] * 20 for i in range(17,25)])\n",
        "ax.legend(['White','Black','American Indian','Asian','Native Hawaiian'], prop={'size': 9});"
      ],
      "execution_count": 0,
      "outputs": [
        {
          "output_type": "display_data",
          "data": {
            "image/png": "[encoded data removed]",
            "text/plain": [
              "<Figure size 432x288 with 1 Axes>"
            ]
          },
          "metadata": {
            "tags": []
          }
        }
      ]
    },
    {
      "cell_type": "code",
      "metadata": {
        "id": "i-HS4i1U7hfb",
        "colab_type": "code",
        "colab": {}
      },
      "source": [
        "from scipy.stats import chisquare"
      ],
      "execution_count": 0,
      "outputs": []
    },
    {
      "cell_type": "code",
      "metadata": {
        "id": "fMN7HhjW60Fh",
        "colab_type": "code",
        "colab": {}
      },
      "source": [
        "chi_squared_tests = []\n",
        "for races in [tp1[year] / 20 / 100 for year in range(17,25)]:\n",
        "  chi_squared_tests.append(chisquare(remove_from_series([c for c in range(6,21)],races))[1])"
      ],
      "execution_count": 0,
      "outputs": []
    },
    {
      "cell_type": "code",
      "metadata": {
        "id": "0HgCJlJY87Zk",
        "colab_type": "code",
        "outputId": "0ad2c2c3-5af0-4ac9-8258-7191dc9a0625",
        "colab": {
          "base_uri": "https://localhost:8080/",
          "height": 156
        }
      },
      "source": [
        "chi_squared_tests"
      ],
      "execution_count": 0,
      "outputs": [
        {
          "output_type": "execute_result",
          "data": {
            "text/plain": [
              "[0.9899997815890215,\n",
              " 0.9916061422938123,\n",
              " 0.9947344125292068,\n",
              " 0.9728281230328227,\n",
              " 0.9917092848789978,\n",
              " 0.9849924149813504,\n",
              " 0.9853798749623971,\n",
              " 0.8964190926235286]"
            ]
          },
          "metadata": {
            "tags": []
          },
          "execution_count": 39
        }
      ]
    },
    {
      "cell_type": "code",
      "metadata": {
        "id": "cokqITuMsB1w",
        "colab_type": "code",
        "outputId": "eb1a3367-a492-4402-9777-65b0bf041e83",
        "colab": {
          "base_uri": "https://localhost:8080/",
          "height": 265
        }
      },
      "source": [
        "fig, ax = plt.subplots()\n",
        "fig.set_facecolor('white')\n",
        "ax.text(2009,0.952,'Threshold for being statistically significant')\n",
        "ax.axhspan(0.95, 1, alpha=0.5, color='red')\n",
        "ax.plot(range(2009,2017), chi_squared_tests);"
      ],
      "execution_count": 0,
      "outputs": [
        {
          "output_type": "display_data",
          "data": {
            "image/png": "[encoded data removed]",
            "text/plain": [
              "<Figure size 432x288 with 1 Axes>"
            ]
          },
          "metadata": {
            "tags": []
          }
        }
      ]
    },
    {
      "cell_type": "code",
      "metadata": {
        "id": "bwW0MmhpR3TS",
        "colab_type": "code",
        "colab": {}
      },
      "source": [
        ""
      ],
      "execution_count": 0,
      "outputs": []
    }
  ]
}