{
 "cells": [
  {
   "cell_type": "code",
   "execution_count": null,
   "metadata": {},
   "outputs": [],
   "source": [
    "import urllib.request\n",
    "with urllib.request.urlopen(\"https://gbfs.baywheels.com/gbfs/en/free_bike_status.json\") as url:\n",
    "    bikes_free_json = json.loads(url.read().decode())\n",
    "    bikesfree = json_normalize(bikes_free_json['data']['bikes'])\n",
    "#bikesfree.drop(['is_disabled','rental_url'])\n",
    "bikesfree.describe(include='all')\n",
    "bikesfree = bikesfree[['bike_id','lon','lat']]\n",
    "bikesfree.dtypes"
   ]
  }
 ],
 "metadata": {
  "kernelspec": {
   "display_name": "Python 3",
   "language": "python",
   "name": "python3"
  },
  "language_info": {
   "codemirror_mode": {
    "name": "ipython",
    "version": 3
   },
   "file_extension": ".py",
   "mimetype": "text/x-python",
   "name": "python",
   "nbconvert_exporter": "python",
   "pygments_lexer": "ipython3",
   "version": "3.7.4"
  }
 },
 "nbformat": 4,
 "nbformat_minor": 2
}
