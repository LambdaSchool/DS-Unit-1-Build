{
  "nbformat": 4,
  "nbformat_minor": 0,
  "metadata": {
    "kernelspec": {
      "display_name": "Python 3",
      "language": "python",
      "name": "python3"
    },
    "language_info": {
      "codemirror_mode": {
        "name": "ipython",
        "version": 3
      },
      "file_extension": ".py",
      "mimetype": "text/x-python",
      "name": "python",
      "nbconvert_exporter": "python",
      "pygments_lexer": "ipython3",
      "version": "3.7.3"
    },
    "colab": {
      "name": "jcs-LS_DS_224_assignment.ipynb",
      "provenance": [],
      "collapsed_sections": [],
      "include_colab_link": true
    }
  },
  "cells": [
    {
      "cell_type": "markdown",
      "metadata": {
        "id": "view-in-github",
        "colab_type": "text"
      },
      "source": [
        "<a href=\"https://colab.research.google.com/github/jcs-lambda/DS-Unit-1-Build/blob/master/module4-classification-metrics/LS_DS_224_assignment.ipynb\" target=\"_parent\"><img src=\"https://colab.research.google.com/assets/colab-badge.svg\" alt=\"Open In Colab\"/></a>"
      ]
    },
    {
      "cell_type": "markdown",
      "metadata": {
        "id": "39sLeYr0M-rQ",
        "colab_type": "text"
      },
      "source": [
        "Lambda School Data Science\n",
        "\n",
        "*Unit 2, Sprint 2, Module 4*\n",
        "\n",
        "---"
      ]
    },
    {
      "cell_type": "markdown",
      "metadata": {
        "colab_type": "text",
        "id": "nCc3XZEyG3XV"
      },
      "source": [
        "# Classification Metrics\n",
        "\n",
        "## Assignment\n",
        "- [ ] If you haven't yet, [review requirements for your portfolio project](https://lambdaschool.github.io/ds/unit2), then submit your dataset.\n",
        "- [X] Plot a confusion matrix for your Tanzania Waterpumps model.\n",
        "- [X] Continue to participate in our Kaggle challenge. Every student should have made at least one submission that scores at least 70% accuracy (well above the majority class baseline).\n",
        "- [X] Submit your final predictions to our Kaggle competition. Optionally, go to **My Submissions**, and _\"you may select up to 1 submission to be used to count towards your final leaderboard score.\"_\n",
        "- [X] Commit your notebook to your fork of the GitHub repo.\n",
        "- [X] Read [Maximizing Scarce Maintenance Resources with Data: Applying predictive modeling, precision at k, and clustering to optimize impact](https://towardsdatascience.com/maximizing-scarce-maintenance-resources-with-data-8f3491133050), by Lambda DS3 student Michael Brady. His blog post extends the Tanzania Waterpumps scenario, far beyond what's in the lecture notebook.\n",
        "\n",
        "\n",
        "## Stretch Goals\n",
        "\n",
        "### Reading\n",
        "- [Attacking discrimination with smarter machine learning](https://research.google.com/bigpicture/attacking-discrimination-in-ml/), by Google Research, with  interactive visualizations. _\"A threshold classifier essentially makes a yes/no decision, putting things in one category or another. We look at how these classifiers work, ways they can potentially be unfair, and how you might turn an unfair classifier into a fairer one. As an illustrative example, we focus on loan granting scenarios where a bank may grant or deny a loan based on a single, automatically computed number such as a credit score.\"_\n",
        "- [Notebook about how to calculate expected value from a confusion matrix by treating it as a cost-benefit matrix](https://github.com/podopie/DAT18NYC/blob/master/classes/13-expected_value_cost_benefit_analysis.ipynb)\n",
        "- [Simple guide to confusion matrix terminology](https://www.dataschool.io/simple-guide-to-confusion-matrix-terminology/) by Kevin Markham, with video\n",
        "- [Visualizing Machine Learning Thresholds to Make Better Business Decisions](https://blog.insightdatascience.com/visualizing-machine-learning-thresholds-to-make-better-business-decisions-4ab07f823415)\n",
        "\n",
        "\n",
        "### Doing\n",
        "- [ ] Share visualizations in our Slack channel!\n",
        "- [X] RandomizedSearchCV / GridSearchCV, for model selection. (See module 3 assignment notebook)\n",
        "- [ ] More Categorical Encoding. (See module 2 assignment notebook)\n",
        "- [X] Stacking Ensemble. (See below)\n",
        "\n",
        "### Stacking Ensemble\n",
        "\n",
        "Here's some code you can use to \"stack\" multiple submissions, which is another form of ensembling:\n",
        "\n",
        "```python\n",
        "import pandas as pd\n",
        "\n",
        "# Filenames of your submissions you want to ensemble\n",
        "files = ['submission-01.csv', 'submission-02.csv', 'submission-03.csv']\n",
        "\n",
        "target = 'status_group'\n",
        "submissions = (pd.read_csv(file)[[target]] for file in files)\n",
        "ensemble = pd.concat(submissions, axis='columns')\n",
        "majority_vote = ensemble.mode(axis='columns')[0]\n",
        "\n",
        "sample_submission = pd.read_csv('sample_submission.csv')\n",
        "submission = sample_submission.copy()\n",
        "submission[target] = majority_vote\n",
        "submission.to_csv('my-ultimate-ensemble-submission.csv', index=False)\n",
        "```"
      ]
    },
    {
      "cell_type": "code",
      "metadata": {
        "colab_type": "code",
        "id": "lsbRiKBoB5RE",
        "colab": {}
      },
      "source": [
        "%%capture\n",
        "import sys\n",
        "\n",
        "# If you're on Colab:\n",
        "if 'google.colab' in sys.modules:\n",
        "    DATA_PATH = 'https://raw.githubusercontent.com/LambdaSchool/DS-Unit-2-Kaggle-Challenge/master/data/'\n",
        "    !pip install -U --quiet category_encoders pandas-profiling\n",
        "\n",
        "# If you're working locally:\n",
        "else:\n",
        "    DATA_PATH = '../data/'"
      ],
      "execution_count": 0,
      "outputs": []
    },
    {
      "cell_type": "code",
      "metadata": {
        "colab_type": "code",
        "id": "BVA1lph8CcNX",
        "colab": {}
      },
      "source": [
        "import pandas as pd\n",
        "\n",
        "# Merge train_features.csv & train_labels.csv\n",
        "train = pd.merge(pd.read_csv(DATA_PATH+'waterpumps/train_features.csv'), \n",
        "                 pd.read_csv(DATA_PATH+'waterpumps/train_labels.csv'))\n",
        "\n",
        "# Read test_features.csv & sample_submission.csv\n",
        "test = pd.read_csv(DATA_PATH+'waterpumps/test_features.csv')\n",
        "sample_submission = pd.read_csv(DATA_PATH+'waterpumps/sample_submission.csv')"
      ],
      "execution_count": 0,
      "outputs": []
    },
    {
      "cell_type": "code",
      "metadata": {
        "id": "B5WD71ydM-rr",
        "colab_type": "code",
        "colab": {}
      },
      "source": [
        "import numpy as np\n",
        "import category_encoders as ce\n",
        "import matplotlib.pyplot as plt\n",
        "import seaborn as sns\n",
        "import pandas_profiling\n",
        "%matplotlib inline\n",
        "\n",
        "random_state = 13"
      ],
      "execution_count": 0,
      "outputs": []
    },
    {
      "cell_type": "markdown",
      "metadata": {
        "id": "N_8LVxRmOPTE",
        "colab_type": "text"
      },
      "source": [
        "# Assignment"
      ]
    },
    {
      "cell_type": "markdown",
      "metadata": {
        "id": "RNx9W_IQOTlE",
        "colab_type": "text"
      },
      "source": [
        "### **wrangle**"
      ]
    },
    {
      "cell_type": "code",
      "metadata": {
        "id": "AwCTZdiOOW_u",
        "colab_type": "code",
        "colab": {}
      },
      "source": [
        "# impute the median latitude, longitude, and gps_height from other geographical features\n",
        "# working through the features from most to least specific until there are no nan's or \n",
        "# no more geographical features to check\n",
        "# must set impute_source to the source dataframe before calling\n",
        "# this function is meant to be used as the target of a DataFrame.apply(impute_gps, axis=1) call\n",
        "#   to be used on a subset of the dataframe where latitude and longitude are nan's\n",
        "# parameter 'row' = a pandas series. a single row from a dataframe\n",
        "impute_source = None\n",
        "\n",
        "def impute_gps(row):\n",
        "  assert impute_source is not None, 'impute_source not set'\n",
        "  geo_features = ['basin', 'subvillage', 'region', 'region_code', 'district_code', 'lga', 'ward']\n",
        "  geo_features_most_to_least_specific = impute_source[geo_features].nunique().sort_values(ascending=False).index.tolist()\n",
        "  for geo in geo_features_most_to_least_specific:\n",
        "    if row[geo] == '':\n",
        "      continue\n",
        "    # only calculate if it is nan\n",
        "    if np.isnan(row['latitude']):\n",
        "      row['latitude'] = impute_source[impute_source[geo] == row[geo]]['latitude'].median()\n",
        "    if np.isnan(row['longitude']):\n",
        "      row['longitude'] = impute_source[impute_source[geo] == row[geo]]['longitude'].median()\n",
        "    if np.isnan(row['gps_height']):\n",
        "      row['gps_height'] = impute_source[impute_source[geo] == row[geo]]['gps_height'].median()\n",
        "    # if none of the values are nans, stop looking\n",
        "    if not (np.isnan(row['latitude']) and np.isnan(row['longitude']) and np.isnan(row['gps_height'])):\n",
        "      break\n",
        "  \n",
        "  # return only what we changed\n",
        "  return row[['gps_height', 'longitude', 'latitude']]"
      ],
      "execution_count": 0,
      "outputs": []
    },
    {
      "cell_type": "code",
      "metadata": {
        "id": "GcDNYCcqO0rJ",
        "colab_type": "code",
        "colab": {}
      },
      "source": [
        "def wrangle(dataframe):\n",
        "  df = dataframe.copy()\n",
        "\n",
        "  # high cardinality categoricals cleanup\n",
        "  # tag missing values\n",
        "  # fill nan's with empty strings\n",
        "  # convert to lower case and remove all non-alphanumeric characters to group\n",
        "  #   things that look alike into 1 thing\n",
        "  hcc_to_clean = ['funder', 'installer', 'subvillage', 'ward', 'scheme_name']\n",
        "  for column in hcc_to_clean:\n",
        "    df[column] = df[column].fillna('').str.lower().str.replace('[^a-z0-9]', '')\n",
        "  #   df[column + '_MISSING'] = (df[column] == '') | (df[column].str.match('^(un|not)known$'))\n",
        "\n",
        "  # # drop created 'ward_MISSING' because there are none missing\n",
        "  # assert df['ward_MISSING'].sum() == 0, 'some nulls in ward'\n",
        "  # df.drop(columns='ward_MISSING', inplace=True)\n",
        "  \n",
        "  # also combine items in those same features more explicitly\n",
        "  df['funder'] = df['funder'].str.replace('^quickwin$', 'quickwins')\n",
        "  df['installer'] = df['installer'].str.replace('^notknown$', '')\n",
        "  df['installer'] = df['installer'].str.replace('^adra.+', 'adra')\n",
        "  df['installer'] = df['installer'].str.replace('^af$', 'africa')\n",
        "  df['installer'] = df['installer'].str.replace('^anglican.+', 'anglican')\n",
        "  df['installer'] = df['installer'].str.replace('^ch$', 'china')\n",
        "  df['installer'] = df['installer'].str.replace('^gover$', 'government')\n",
        "  df['installer'] = df['installer'].str.replace('^governme$', 'government')\n",
        "  df['installer'] = df['installer'].str.replace('^in$', 'individuals')\n",
        "  df['installer'] = df['installer'].str.replace('^individual$', 'individuals')\n",
        "  df['installer'] = df['installer'].str.replace('^lions$', 'lionsclub')\n",
        "  df['installer'] = df['installer'].str.replace('^(local|localltechnician|localtechnicaltec|localtechnitian)$', 'localtechnician')\n",
        "  df['installer'] = df['installer'].str.replace('^maswi.+', 'maswi')\n",
        "  df['installer'] = df['installer'].str.replace('^adra.+', 'adra')\n",
        "  df['installer'] = df['installer'].str.replace('^quick$', 'quickwin')\n",
        "  df['installer'] = df['installer'].str.replace('^rc.*', 'rcchurch')\n",
        "  df['installer'] = df['installer'].str.replace('^roman.+', 'romancatholic')\n",
        "  df['installer'] = df['installer'].str.replace('^rwe.+', 'rwe')\n",
        "  df['installer'] = df['installer'].str.replace('^schoo$', 'school')\n",
        "  df['installer'] = df['installer'].str.replace('^tanzania.+', 'tanzaniagovernment')\n",
        "  df['installer'] = df['installer'].str.replace('^tasaf.+', 'tasaf')\n",
        "  df['installer'] = df['installer'].str.replace('^unknown', '')\n",
        "  df['installer'] = df['installer'].str.replace('^villag.+', 'village')\n",
        "  df['installer'] = df['installer'].str.replace('^water.+', 'water')\n",
        "\n",
        "  # boolean feature cleanup\n",
        "  # tag missing values\n",
        "  # convert to floats to keep the nan's for imputing\n",
        "  boolean_features = ['public_meeting', 'permit']\n",
        "  for column in boolean_features:\n",
        "#    df[column + '_MISSING'] = df[column].isnull()\n",
        "    df[column] = df[column].astype(float)\n",
        "\n",
        "  # impute missing latitude, longitude, gps_height\n",
        "  # missing is defined as longitude = 0, latitude = -2e-08\n",
        "  # gps_height is assumed missing for observations where the above are true\n",
        "  #   (exploration has shown that gps_height = 0 for all observations that meet those conditions)\n",
        "  # first, we convert these values to nans, then impute the values for each feature\n",
        "  # the imputed values are the median of that feature for all observations in the dataframe that\n",
        "  #   match that observation's other geographical information\n",
        "  df['longitude'] = df['longitude'].replace(0, np.nan)\n",
        "  df['latitude'] = df['latitude'].replace(-2e-08, np.nan)\n",
        "  df.loc[df['longitude'].isnull(), 'gps_height'] = np.nan\n",
        "#  df['lat_long_MISSING'] = (df['longitude'].isnull()) | (df['latitude'].isnull())\n",
        "  lat_long_MISSING = (df['longitude'].isnull()) | (df['latitude'].isnull())\n",
        "  imputed_gps = df[lat_long_MISSING].apply(impute_gps, axis=1)\n",
        "  df.update(imputed_gps, overwrite=False)     # overwrite=False means it will only overwrite nan values\n",
        "  assert not df['longitude'].isnull().any(), 'null longitude'\n",
        "  assert not df['latitude'].isnull().any(), 'null latitude'\n",
        "\n",
        "  # When columns have zeros and shouldn't, they are like null values.\n",
        "  # So we will replace the zeros with nulls, and impute missing values later.\n",
        "  # Also create a \"missing indicator\" column, because the fact that\n",
        "  # values are missing may be a predictive signal.\n",
        "  cols_with_zeros = ['construction_year', 'gps_height', 'population']\n",
        "  for col in cols_with_zeros:\n",
        "      df[col] = df[col].replace(0, np.nan)\n",
        "#      df[col+'_MISSING'] = df[col].isnull()\n",
        "\n",
        "  # Drop duplicate columns\n",
        "  # including some features that are close duplicates - re-encoding of the same values\n",
        "  # drop really high cardinality columns\n",
        "  duplicates = ['quantity_group', 'payment_type', 'waterpoint_type_group']\n",
        "  high_cardinality = ['wpt_name', 'subvillage', 'scheme_name']\n",
        "  df = df.drop(columns=duplicates + high_cardinality)\n",
        "\n",
        "  # Drop recorded_by (never varies) and id (always varies, random)\n",
        "  unusable_variance = ['recorded_by', 'id']\n",
        "  df = df.drop(columns=unusable_variance)\n",
        "\n",
        "  # Convert date_recorded to datetime\n",
        "  df['date_recorded'] = pd.to_datetime(df['date_recorded'], infer_datetime_format=True)\n",
        "\n",
        "  # Extract components from date_recorded, then drop the original column\n",
        "  df['year_recorded'] = df['date_recorded'].dt.year\n",
        "  df['month_recorded'] = df['date_recorded'].dt.month\n",
        "  df['day_recorded'] = df['date_recorded'].dt.day\n",
        "  df = df.drop(columns='date_recorded')\n",
        "\n",
        "  # Engineer feature: how many years from construction_year to date_recorded\n",
        "  df['years'] = df['year_recorded'] - df['construction_year']\n",
        "  # df['years_MISSING'] = df['years'].isnull()\n",
        "\n",
        "  return df"
      ],
      "execution_count": 0,
      "outputs": []
    },
    {
      "cell_type": "code",
      "metadata": {
        "id": "sMre4LQlQAp7",
        "colab_type": "code",
        "colab": {
          "base_uri": "https://localhost:8080/",
          "height": 32
        },
        "outputId": "ba7db60a-fe72-43a0-ab0d-5fdf825757b1"
      },
      "source": [
        "from sklearn.model_selection import train_test_split\n",
        "\n",
        "train_split, val = train_test_split(train)\n",
        "\n",
        "impute_source = train_split\n",
        "df_train = wrangle(train_split)\n",
        "\n",
        "impute_source = val\n",
        "df_val = wrangle(val)\n",
        "\n",
        "impute_source = test\n",
        "df_test = wrangle(test)\n",
        "\n",
        "df_train.shape, df_val.shape, df_test.shape"
      ],
      "execution_count": 8,
      "outputs": [
        {
          "output_type": "execute_result",
          "data": {
            "text/plain": [
              "((44550, 36), (14850, 36), (14358, 35))"
            ]
          },
          "metadata": {
            "tags": []
          },
          "execution_count": 8
        }
      ]
    },
    {
      "cell_type": "markdown",
      "metadata": {
        "id": "JywUzGFcQUZY",
        "colab_type": "text"
      },
      "source": [
        "### assign X features matrix and y target vector"
      ]
    },
    {
      "cell_type": "code",
      "metadata": {
        "id": "54Rh-sH5Qa2u",
        "colab_type": "code",
        "colab": {
          "base_uri": "https://localhost:8080/",
          "height": 32
        },
        "outputId": "1e56ad12-6eb5-4aef-89db-72612aa6056c"
      },
      "source": [
        "target = 'status_group'\n",
        "\n",
        "cardinality = df_train.drop(columns=target).select_dtypes(exclude=['number', 'bool']).nunique()\n",
        "low_cardinality = cardinality[cardinality<=50].index.tolist()\n",
        "\n",
        "features = df_train.columns.drop(target)\n",
        "\n",
        "X_train = df_train[features]\n",
        "X_val = df_val[features]\n",
        "X_test = df_test[features]\n",
        "\n",
        "y_train = df_train[target]\n",
        "y_val = df_val[target]\n",
        "\n",
        "X_train.shape, X_val.shape, X_test.shape"
      ],
      "execution_count": 9,
      "outputs": [
        {
          "output_type": "execute_result",
          "data": {
            "text/plain": [
              "((44550, 35), (14850, 35), (14358, 35))"
            ]
          },
          "metadata": {
            "tags": []
          },
          "execution_count": 9
        }
      ]
    },
    {
      "cell_type": "markdown",
      "metadata": {
        "id": "-Zj2h59xSgsA",
        "colab_type": "text"
      },
      "source": [
        "### fit model"
      ]
    },
    {
      "cell_type": "code",
      "metadata": {
        "id": "KWvdWwBtSi75",
        "colab_type": "code",
        "colab": {
          "base_uri": "https://localhost:8080/",
          "height": 32
        },
        "outputId": "13bd69bc-72b2-4f4f-ada6-fb91faa67d0a"
      },
      "source": [
        "from sklearn.pipeline import make_pipeline\n",
        "from sklearn.impute import SimpleImputer\n",
        "from sklearn.ensemble import RandomForestClassifier\n",
        "from sklearn.model_selection import RandomizedSearchCV\n",
        "\n",
        "pipeline = make_pipeline(\n",
        "    ce.OneHotEncoder(cols=low_cardinality, use_cat_names=True),\n",
        "    ce.OrdinalEncoder(),\n",
        "    SimpleImputer(strategy='mean'),\n",
        "    RandomForestClassifier(n_estimators=100, criterion='entropy', random_state=random_state, n_jobs=-1)\n",
        ")\n",
        "\n",
        "pipeline.fit(X_train, y_train)\n",
        "score = pipeline.score(X_val, y_val)\n",
        "\n",
        "print(f'Validation accuracy score: {score*100:.2f}%')"
      ],
      "execution_count": 17,
      "outputs": [
        {
          "output_type": "stream",
          "text": [
            "Validation accuracy score: 80.49%\n"
          ],
          "name": "stdout"
        }
      ]
    },
    {
      "cell_type": "markdown",
      "metadata": {
        "id": "Xig_1t78Sjlo",
        "colab_type": "text"
      },
      "source": [
        "## Plot a confusion matrix for your Tanzania Waterpumps model."
      ]
    },
    {
      "cell_type": "code",
      "metadata": {
        "id": "OduBQ7XaSmlE",
        "colab_type": "code",
        "colab": {
          "base_uri": "https://localhost:8080/",
          "height": 372
        },
        "outputId": "9fa5bbcc-61a2-48a7-d5a6-61dcaa5bd1f0"
      },
      "source": [
        "from sklearn.metrics import plot_confusion_matrix\n",
        "\n",
        "cm = plot_confusion_matrix(pipeline, X_val, y_val, xticks_rotation='vertical', values_format='.0f')\n",
        "cm;"
      ],
      "execution_count": 18,
      "outputs": [
        {
          "output_type": "display_data",
          "data": {
            "image/png": "[encoded data removed]",
            "text/plain": [
              "<Figure size 432x288 with 2 Axes>"
            ]
          },
          "metadata": {
            "tags": []
          }
        }
      ]
    },
    {
      "cell_type": "markdown",
      "metadata": {
        "id": "5OiFwQbWSnFO",
        "colab_type": "text"
      },
      "source": [
        "## Continue to participate in our Kaggle challenge. \n",
        "\n",
        "Every student should have made at least one submission that scores at least 70% accuracy (well above the majority class baseline).\n",
        "\n",
        "## Submit your final predictions to our Kaggle competition.\n",
        "\n",
        "Optionally, go to My Submissions, and \"you may select up to 1 submission to be used to count towards your final leaderboard score.\""
      ]
    },
    {
      "cell_type": "code",
      "metadata": {
        "id": "AtynJibR80G1",
        "colab_type": "code",
        "colab": {
          "base_uri": "https://localhost:8080/",
          "height": 378
        },
        "outputId": "373e9391-a52b-4df3-9b1f-adf89792e6b6"
      },
      "source": [
        "impute_source = train\n",
        "df_train_not_split = wrangle(train)\n",
        "\n",
        "X_train_not_split = df_train_not_split[features]\n",
        "y_train_not_split = df_train_not_split[target]\n",
        "\n",
        "pipeline = make_pipeline(\n",
        "    ce.OneHotEncoder(cols=low_cardinality, use_cat_names=True),\n",
        "    ce.OrdinalEncoder(),\n",
        "    SimpleImputer(strategy='mean'),\n",
        "    RandomForestClassifier(n_estimators=100, criterion='entropy', random_state=random_state, n_jobs=-1)\n",
        ")\n",
        "\n",
        "pipeline.fit(X_train_not_split, y_train_not_split)"
      ],
      "execution_count": 19,
      "outputs": [
        {
          "output_type": "execute_result",
          "data": {
            "text/plain": [
              "Pipeline(memory=None,\n",
              "         steps=[('onehotencoder',\n",
              "                 OneHotEncoder(cols=['basin', 'region', 'scheme_management',\n",
              "                                     'extraction_type', 'extraction_type_group',\n",
              "                                     'extraction_type_class', 'management',\n",
              "                                     'management_group', 'payment',\n",
              "                                     'water_quality', 'quality_group',\n",
              "                                     'quantity', 'source', 'source_type',\n",
              "                                     'source_class', 'waterpoint_type'],\n",
              "                               drop_invariant=False, handle_missing='val...\n",
              "                 RandomForestClassifier(bootstrap=True, ccp_alpha=0.0,\n",
              "                                        class_weight=None, criterion='entropy',\n",
              "                                        max_depth=None, max_features='auto',\n",
              "                                        max_leaf_nodes=None, max_samples=None,\n",
              "                                        min_impurity_decrease=0.0,\n",
              "                                        min_impurity_split=None,\n",
              "                                        min_samples_leaf=1, min_samples_split=2,\n",
              "                                        min_weight_fraction_leaf=0.0,\n",
              "                                        n_estimators=100, n_jobs=-1,\n",
              "                                        oob_score=False, random_state=13,\n",
              "                                        verbose=0, warm_start=False))],\n",
              "         verbose=False)"
            ]
          },
          "metadata": {
            "tags": []
          },
          "execution_count": 19
        }
      ]
    },
    {
      "cell_type": "code",
      "metadata": {
        "id": "o6Ein6JuVoOy",
        "colab_type": "code",
        "colab": {
          "base_uri": "https://localhost:8080/",
          "height": 411
        },
        "outputId": "e77db118-d7dc-4474-de99-fa0e808c025c"
      },
      "source": [
        "y_pred = pipeline.predict(X_test)\n",
        "\n",
        "submission = sample_submission.copy()\n",
        "submission[target] = y_pred\n",
        "\n",
        "filename = 'jcs-kaggle-waterpumps-submission-05.csv'\n",
        "\n",
        "submission.to_csv(filename, index=False)\n",
        "\n",
        "submission"
      ],
      "execution_count": 20,
      "outputs": [
        {
          "output_type": "execute_result",
          "data": {
            "text/html": [
              "<div>\n",
              "<style scoped>\n",
              "    .dataframe tbody tr th:only-of-type {\n",
              "        vertical-align: middle;\n",
              "    }\n",
              "\n",
              "    .dataframe tbody tr th {\n",
              "        vertical-align: top;\n",
              "    }\n",
              "\n",
              "    .dataframe thead th {\n",
              "        text-align: right;\n",
              "    }\n",
              "</style>\n",
              "<table border=\"1\" class=\"dataframe\">\n",
              "  <thead>\n",
              "    <tr style=\"text-align: right;\">\n",
              "      <th></th>\n",
              "      <th>id</th>\n",
              "      <th>status_group</th>\n",
              "    </tr>\n",
              "  </thead>\n",
              "  <tbody>\n",
              "    <tr>\n",
              "      <th>0</th>\n",
              "      <td>50785</td>\n",
              "      <td>functional</td>\n",
              "    </tr>\n",
              "    <tr>\n",
              "      <th>1</th>\n",
              "      <td>51630</td>\n",
              "      <td>functional</td>\n",
              "    </tr>\n",
              "    <tr>\n",
              "      <th>2</th>\n",
              "      <td>17168</td>\n",
              "      <td>functional</td>\n",
              "    </tr>\n",
              "    <tr>\n",
              "      <th>3</th>\n",
              "      <td>45559</td>\n",
              "      <td>non functional</td>\n",
              "    </tr>\n",
              "    <tr>\n",
              "      <th>4</th>\n",
              "      <td>49871</td>\n",
              "      <td>functional</td>\n",
              "    </tr>\n",
              "    <tr>\n",
              "      <th>...</th>\n",
              "      <td>...</td>\n",
              "      <td>...</td>\n",
              "    </tr>\n",
              "    <tr>\n",
              "      <th>14353</th>\n",
              "      <td>39307</td>\n",
              "      <td>non functional</td>\n",
              "    </tr>\n",
              "    <tr>\n",
              "      <th>14354</th>\n",
              "      <td>18990</td>\n",
              "      <td>functional</td>\n",
              "    </tr>\n",
              "    <tr>\n",
              "      <th>14355</th>\n",
              "      <td>28749</td>\n",
              "      <td>functional</td>\n",
              "    </tr>\n",
              "    <tr>\n",
              "      <th>14356</th>\n",
              "      <td>33492</td>\n",
              "      <td>functional</td>\n",
              "    </tr>\n",
              "    <tr>\n",
              "      <th>14357</th>\n",
              "      <td>68707</td>\n",
              "      <td>non functional</td>\n",
              "    </tr>\n",
              "  </tbody>\n",
              "</table>\n",
              "<p>14358 rows × 2 columns</p>\n",
              "</div>"
            ],
            "text/plain": [
              "          id    status_group\n",
              "0      50785      functional\n",
              "1      51630      functional\n",
              "2      17168      functional\n",
              "3      45559  non functional\n",
              "4      49871      functional\n",
              "...      ...             ...\n",
              "14353  39307  non functional\n",
              "14354  18990      functional\n",
              "14355  28749      functional\n",
              "14356  33492      functional\n",
              "14357  68707  non functional\n",
              "\n",
              "[14358 rows x 2 columns]"
            ]
          },
          "metadata": {
            "tags": []
          },
          "execution_count": 20
        }
      ]
    },
    {
      "cell_type": "code",
      "metadata": {
        "id": "KjGdGuZ7WNUZ",
        "colab_type": "code",
        "colab": {}
      },
      "source": [
        "from google.colab import files\n",
        "files.download(filename)"
      ],
      "execution_count": 0,
      "outputs": []
    },
    {
      "cell_type": "markdown",
      "metadata": {
        "id": "HRNH1fAq_aNY",
        "colab_type": "text"
      },
      "source": [
        "## *RandomizedSearchCV / GridSearchCV, for model selection.*\n",
        "\n",
        " (See module 3 assignment notebook)"
      ]
    },
    {
      "cell_type": "code",
      "metadata": {
        "id": "1KbE3Q4U_fWO",
        "colab_type": "code",
        "colab": {
          "base_uri": "https://localhost:8080/",
          "height": 975
        },
        "outputId": "d8117bbb-d546-428b-ee7e-ff7f6926dc51"
      },
      "source": [
        "pipeline = make_pipeline(\n",
        "    ce.OneHotEncoder(cols=low_cardinality, use_cat_names=True),\n",
        "    ce.OrdinalEncoder(),\n",
        "    SimpleImputer(),\n",
        "    RandomForestClassifier()\n",
        ")\n",
        "\n",
        "param_distributions = {\n",
        "    'simpleimputer__strategy' : ['mean', 'median'],\n",
        "    'randomforestclassifier__n_estimators' : [50, 100],\n",
        "    'randomforestclassifier__criterion' : ['gini', 'entropy'],\n",
        "    'randomforestclassifier__max_depth' : [None, 50, 100, 150],\n",
        "    'randomforestclassifier__min_samples_split' : [2, 10],\n",
        "    'randomforestclassifier__min_samples_leaf' : [1, 5, 10],\n",
        "    'randomforestclassifier__max_features' : ['auto', None],\n",
        "    'randomforestclassifier__bootstrap' : [True, False],\n",
        "    'randomforestclassifier__warm_start' : [False, True],\n",
        "}\n",
        "\n",
        "search = RandomizedSearchCV(estimator=pipeline, param_distributions=param_distributions, n_iter=60, cv=4, verbose=10, n_jobs=-1, random_state=random_state)\n",
        "\n",
        "search.fit(X_train_not_split, y_train_not_split)"
      ],
      "execution_count": 29,
      "outputs": [
        {
          "output_type": "stream",
          "text": [
            "Fitting 4 folds for each of 60 candidates, totalling 240 fits\n"
          ],
          "name": "stdout"
        },
        {
          "output_type": "stream",
          "text": [
            "[Parallel(n_jobs=-1)]: Using backend LokyBackend with 2 concurrent workers.\n",
            "[Parallel(n_jobs=-1)]: Done   1 tasks      | elapsed:   17.2s\n",
            "[Parallel(n_jobs=-1)]: Done   4 tasks      | elapsed:   33.5s\n",
            "/usr/local/lib/python3.6/dist-packages/joblib/externals/loky/process_executor.py:706: UserWarning: A worker stopped while some jobs were given to the executor. This can be caused by a too short worker timeout or by a memory leak.\n",
            "  \"timeout or by a memory leak.\", UserWarning\n",
            "[Parallel(n_jobs=-1)]: Done   9 tasks      | elapsed:  3.7min\n",
            "[Parallel(n_jobs=-1)]: Done  14 tasks      | elapsed:  4.7min\n",
            "[Parallel(n_jobs=-1)]: Done  21 tasks      | elapsed: 11.6min\n",
            "[Parallel(n_jobs=-1)]: Done  28 tasks      | elapsed: 14.8min\n",
            "[Parallel(n_jobs=-1)]: Done  37 tasks      | elapsed: 20.9min\n",
            "[Parallel(n_jobs=-1)]: Done  46 tasks      | elapsed: 26.7min\n",
            "[Parallel(n_jobs=-1)]: Done  57 tasks      | elapsed: 39.1min\n",
            "[Parallel(n_jobs=-1)]: Done  68 tasks      | elapsed: 47.9min\n",
            "[Parallel(n_jobs=-1)]: Done  81 tasks      | elapsed: 58.2min\n",
            "[Parallel(n_jobs=-1)]: Done  94 tasks      | elapsed: 61.7min\n",
            "[Parallel(n_jobs=-1)]: Done 109 tasks      | elapsed: 64.9min\n",
            "[Parallel(n_jobs=-1)]: Done 124 tasks      | elapsed: 80.4min\n",
            "[Parallel(n_jobs=-1)]: Done 141 tasks      | elapsed: 87.8min\n",
            "[Parallel(n_jobs=-1)]: Done 158 tasks      | elapsed: 95.2min\n",
            "[Parallel(n_jobs=-1)]: Done 177 tasks      | elapsed: 117.6min\n",
            "[Parallel(n_jobs=-1)]: Done 196 tasks      | elapsed: 140.4min\n",
            "[Parallel(n_jobs=-1)]: Done 217 tasks      | elapsed: 162.9min\n",
            "[Parallel(n_jobs=-1)]: Done 240 out of 240 | elapsed: 170.7min finished\n"
          ],
          "name": "stderr"
        },
        {
          "output_type": "execute_result",
          "data": {
            "text/plain": [
              "RandomizedSearchCV(cv=4, error_score=nan,\n",
              "                   estimator=Pipeline(memory=None,\n",
              "                                      steps=[('onehotencoder',\n",
              "                                              OneHotEncoder(cols=['basin',\n",
              "                                                                  'region',\n",
              "                                                                  'scheme_management',\n",
              "                                                                  'extraction_type',\n",
              "                                                                  'extraction_type_group',\n",
              "                                                                  'extraction_type_class',\n",
              "                                                                  'management',\n",
              "                                                                  'management_group',\n",
              "                                                                  'payment',\n",
              "                                                                  'water_quality',\n",
              "                                                                  'quality_group',\n",
              "                                                                  'quantity',\n",
              "                                                                  'source',\n",
              "                                                                  'source_type',\n",
              "                                                                  'source_class',\n",
              "                                                                  'waterpoi...\n",
              "                                                                                 None],\n",
              "                                        'randomforestclassifier__min_samples_leaf': [1,\n",
              "                                                                                     5,\n",
              "                                                                                     10],\n",
              "                                        'randomforestclassifier__min_samples_split': [2,\n",
              "                                                                                      10],\n",
              "                                        'randomforestclassifier__n_estimators': [50,\n",
              "                                                                                 100],\n",
              "                                        'randomforestclassifier__warm_start': [False,\n",
              "                                                                               True],\n",
              "                                        'simpleimputer__strategy': ['mean',\n",
              "                                                                    'median']},\n",
              "                   pre_dispatch='2*n_jobs', random_state=13, refit=True,\n",
              "                   return_train_score=False, scoring=None, verbose=10)"
            ]
          },
          "metadata": {
            "tags": []
          },
          "execution_count": 29
        }
      ]
    },
    {
      "cell_type": "code",
      "metadata": {
        "id": "-O7zgjsDA5f9",
        "colab_type": "code",
        "colab": {
          "base_uri": "https://localhost:8080/",
          "height": 69
        },
        "outputId": "be40e571-a698-4a86-9afd-01e5789d62be"
      },
      "source": [
        "print(f'Best score: {search.best_score_ * 100:.2f}%')\n",
        "print(f'Best parameters: {search.best_params_}')"
      ],
      "execution_count": 30,
      "outputs": [
        {
          "output_type": "stream",
          "text": [
            "Best score: 81.15%\n",
            "Best parameters: {'simpleimputer__strategy': 'mean', 'randomforestclassifier__warm_start': False, 'randomforestclassifier__n_estimators': 50, 'randomforestclassifier__min_samples_split': 10, 'randomforestclassifier__min_samples_leaf': 1, 'randomforestclassifier__max_features': 'auto', 'randomforestclassifier__max_depth': 100, 'randomforestclassifier__criterion': 'gini', 'randomforestclassifier__bootstrap': True}\n"
          ],
          "name": "stdout"
        }
      ]
    },
    {
      "cell_type": "code",
      "metadata": {
        "id": "UrrfqFOdBkDK",
        "colab_type": "code",
        "colab": {
          "base_uri": "https://localhost:8080/",
          "height": 411
        },
        "outputId": "741638c2-6aae-46b0-9c3d-e6c9e1118e19"
      },
      "source": [
        "y_pred = search.predict(X_test)\n",
        "\n",
        "submission = sample_submission.copy()\n",
        "submission[target] = y_pred\n",
        "\n",
        "filename = 'jcs-kaggle-waterpumps-submission-06.csv'\n",
        "\n",
        "submission.to_csv(filename, index=False)\n",
        "\n",
        "submission"
      ],
      "execution_count": 31,
      "outputs": [
        {
          "output_type": "execute_result",
          "data": {
            "text/html": [
              "<div>\n",
              "<style scoped>\n",
              "    .dataframe tbody tr th:only-of-type {\n",
              "        vertical-align: middle;\n",
              "    }\n",
              "\n",
              "    .dataframe tbody tr th {\n",
              "        vertical-align: top;\n",
              "    }\n",
              "\n",
              "    .dataframe thead th {\n",
              "        text-align: right;\n",
              "    }\n",
              "</style>\n",
              "<table border=\"1\" class=\"dataframe\">\n",
              "  <thead>\n",
              "    <tr style=\"text-align: right;\">\n",
              "      <th></th>\n",
              "      <th>id</th>\n",
              "      <th>status_group</th>\n",
              "    </tr>\n",
              "  </thead>\n",
              "  <tbody>\n",
              "    <tr>\n",
              "      <th>0</th>\n",
              "      <td>50785</td>\n",
              "      <td>functional</td>\n",
              "    </tr>\n",
              "    <tr>\n",
              "      <th>1</th>\n",
              "      <td>51630</td>\n",
              "      <td>functional</td>\n",
              "    </tr>\n",
              "    <tr>\n",
              "      <th>2</th>\n",
              "      <td>17168</td>\n",
              "      <td>functional</td>\n",
              "    </tr>\n",
              "    <tr>\n",
              "      <th>3</th>\n",
              "      <td>45559</td>\n",
              "      <td>non functional</td>\n",
              "    </tr>\n",
              "    <tr>\n",
              "      <th>4</th>\n",
              "      <td>49871</td>\n",
              "      <td>functional</td>\n",
              "    </tr>\n",
              "    <tr>\n",
              "      <th>...</th>\n",
              "      <td>...</td>\n",
              "      <td>...</td>\n",
              "    </tr>\n",
              "    <tr>\n",
              "      <th>14353</th>\n",
              "      <td>39307</td>\n",
              "      <td>non functional</td>\n",
              "    </tr>\n",
              "    <tr>\n",
              "      <th>14354</th>\n",
              "      <td>18990</td>\n",
              "      <td>functional</td>\n",
              "    </tr>\n",
              "    <tr>\n",
              "      <th>14355</th>\n",
              "      <td>28749</td>\n",
              "      <td>functional</td>\n",
              "    </tr>\n",
              "    <tr>\n",
              "      <th>14356</th>\n",
              "      <td>33492</td>\n",
              "      <td>functional</td>\n",
              "    </tr>\n",
              "    <tr>\n",
              "      <th>14357</th>\n",
              "      <td>68707</td>\n",
              "      <td>non functional</td>\n",
              "    </tr>\n",
              "  </tbody>\n",
              "</table>\n",
              "<p>14358 rows × 2 columns</p>\n",
              "</div>"
            ],
            "text/plain": [
              "          id    status_group\n",
              "0      50785      functional\n",
              "1      51630      functional\n",
              "2      17168      functional\n",
              "3      45559  non functional\n",
              "4      49871      functional\n",
              "...      ...             ...\n",
              "14353  39307  non functional\n",
              "14354  18990      functional\n",
              "14355  28749      functional\n",
              "14356  33492      functional\n",
              "14357  68707  non functional\n",
              "\n",
              "[14358 rows x 2 columns]"
            ]
          },
          "metadata": {
            "tags": []
          },
          "execution_count": 31
        }
      ]
    },
    {
      "cell_type": "code",
      "metadata": {
        "id": "DDKaW44vB-7W",
        "colab_type": "code",
        "colab": {}
      },
      "source": [
        "from google.colab import files\n",
        "files.download(filename)"
      ],
      "execution_count": 0,
      "outputs": []
    },
    {
      "cell_type": "markdown",
      "metadata": {
        "id": "Xp1noE5BVmui",
        "colab_type": "text"
      },
      "source": [
        "## *Stacking Ensemble*"
      ]
    },
    {
      "cell_type": "markdown",
      "metadata": {
        "id": "weu1-7TW1mG5",
        "colab_type": "text"
      },
      "source": [
        "this first 'ultimate-ensemble' got the highest score on the public leaderboards"
      ]
    },
    {
      "cell_type": "code",
      "metadata": {
        "id": "fdEokZ7-S8Ix",
        "colab_type": "code",
        "colab": {
          "base_uri": "https://localhost:8080/",
          "height": 411
        },
        "outputId": "d2296d18-f951-4931-b91e-f698a974224c"
      },
      "source": [
        "# Filenames of your submissions you want to ensemble\n",
        "files = ['jcs-kaggle-waterpumps-submission-01.csv', 'jcs-kaggle-waterpumps-submission-02.csv', \n",
        "         'jcs-kaggle-waterpumps-submission-03.csv', 'jcs-kaggle-waterpumps-submission-04.csv',\n",
        "         'jcs-kaggle-waterpumps-submission-05.csv', 'jcs-kaggle-waterpumps-submission-06.csv',\n",
        "         'rfecv.csv', 'selectkbest.csv', 'lecture_predictions.csv']\n",
        " \n",
        "target = 'status_group'\n",
        "submissions = (pd.read_csv(file)[[target]] for file in files)\n",
        "ensemble = pd.concat(submissions, axis='columns')\n",
        "majority_vote = ensemble.mode(axis='columns')[0]\n",
        " \n",
        "submission = sample_submission.copy()\n",
        "submission[target] = majority_vote\n",
        "submission.to_csv('my-ultimate-ensemble-submission.csv', index=False)\n",
        "submission"
      ],
      "execution_count": 37,
      "outputs": [
        {
          "output_type": "execute_result",
          "data": {
            "text/html": [
              "<div>\n",
              "<style scoped>\n",
              "    .dataframe tbody tr th:only-of-type {\n",
              "        vertical-align: middle;\n",
              "    }\n",
              "\n",
              "    .dataframe tbody tr th {\n",
              "        vertical-align: top;\n",
              "    }\n",
              "\n",
              "    .dataframe thead th {\n",
              "        text-align: right;\n",
              "    }\n",
              "</style>\n",
              "<table border=\"1\" class=\"dataframe\">\n",
              "  <thead>\n",
              "    <tr style=\"text-align: right;\">\n",
              "      <th></th>\n",
              "      <th>id</th>\n",
              "      <th>status_group</th>\n",
              "    </tr>\n",
              "  </thead>\n",
              "  <tbody>\n",
              "    <tr>\n",
              "      <th>0</th>\n",
              "      <td>50785</td>\n",
              "      <td>functional</td>\n",
              "    </tr>\n",
              "    <tr>\n",
              "      <th>1</th>\n",
              "      <td>51630</td>\n",
              "      <td>functional</td>\n",
              "    </tr>\n",
              "    <tr>\n",
              "      <th>2</th>\n",
              "      <td>17168</td>\n",
              "      <td>functional</td>\n",
              "    </tr>\n",
              "    <tr>\n",
              "      <th>3</th>\n",
              "      <td>45559</td>\n",
              "      <td>non functional</td>\n",
              "    </tr>\n",
              "    <tr>\n",
              "      <th>4</th>\n",
              "      <td>49871</td>\n",
              "      <td>functional</td>\n",
              "    </tr>\n",
              "    <tr>\n",
              "      <th>...</th>\n",
              "      <td>...</td>\n",
              "      <td>...</td>\n",
              "    </tr>\n",
              "    <tr>\n",
              "      <th>14353</th>\n",
              "      <td>39307</td>\n",
              "      <td>non functional</td>\n",
              "    </tr>\n",
              "    <tr>\n",
              "      <th>14354</th>\n",
              "      <td>18990</td>\n",
              "      <td>functional</td>\n",
              "    </tr>\n",
              "    <tr>\n",
              "      <th>14355</th>\n",
              "      <td>28749</td>\n",
              "      <td>functional</td>\n",
              "    </tr>\n",
              "    <tr>\n",
              "      <th>14356</th>\n",
              "      <td>33492</td>\n",
              "      <td>functional</td>\n",
              "    </tr>\n",
              "    <tr>\n",
              "      <th>14357</th>\n",
              "      <td>68707</td>\n",
              "      <td>non functional</td>\n",
              "    </tr>\n",
              "  </tbody>\n",
              "</table>\n",
              "<p>14358 rows × 2 columns</p>\n",
              "</div>"
            ],
            "text/plain": [
              "          id    status_group\n",
              "0      50785      functional\n",
              "1      51630      functional\n",
              "2      17168      functional\n",
              "3      45559  non functional\n",
              "4      49871      functional\n",
              "...      ...             ...\n",
              "14353  39307  non functional\n",
              "14354  18990      functional\n",
              "14355  28749      functional\n",
              "14356  33492      functional\n",
              "14357  68707  non functional\n",
              "\n",
              "[14358 rows x 2 columns]"
            ]
          },
          "metadata": {
            "tags": []
          },
          "execution_count": 37
        }
      ]
    },
    {
      "cell_type": "code",
      "metadata": {
        "id": "S_azpqLjVuS8",
        "colab_type": "code",
        "colab": {}
      },
      "source": [
        "from google.colab import files\n",
        "files.download('my-ultimate-ensemble-submission.csv')"
      ],
      "execution_count": 0,
      "outputs": []
    },
    {
      "cell_type": "code",
      "metadata": {
        "id": "vCtOUB_LyxyI",
        "colab_type": "code",
        "colab": {}
      },
      "source": [
        "prev_submission = submission.copy()"
      ],
      "execution_count": 0,
      "outputs": []
    },
    {
      "cell_type": "code",
      "metadata": {
        "id": "g1EhcYZX4g4n",
        "colab_type": "code",
        "colab": {
          "base_uri": "https://localhost:8080/",
          "height": 411
        },
        "outputId": "6db74524-dd69-4b97-ce04-85417323e909"
      },
      "source": [
        "# Filenames of your submissions you want to ensemble\n",
        "filez = ['jcs-kaggle-waterpumps-submission-02.csv', \n",
        "         'jcs-kaggle-waterpumps-submission-03.csv', 'jcs-kaggle-waterpumps-submission-04.csv',\n",
        "         'jcs-kaggle-waterpumps-submission-05.csv', 'jcs-kaggle-waterpumps-submission-06.csv',\n",
        "         'selectkbest.csv', 'lecture_predictions.csv']\n",
        " \n",
        "target = 'status_group'\n",
        "submissions = (pd.read_csv(file)[[target]] for file in filez)\n",
        "ensemble = pd.concat(submissions, axis='columns')\n",
        "majority_vote = ensemble.mode(axis='columns')[0]\n",
        "\n",
        "submission = sample_submission.copy()\n",
        "submission[target] = majority_vote\n",
        "submission.to_csv('my-cherry-picked-ensemble-submission.csv', index=False)\n",
        "submission"
      ],
      "execution_count": 41,
      "outputs": [
        {
          "output_type": "execute_result",
          "data": {
            "text/html": [
              "<div>\n",
              "<style scoped>\n",
              "    .dataframe tbody tr th:only-of-type {\n",
              "        vertical-align: middle;\n",
              "    }\n",
              "\n",
              "    .dataframe tbody tr th {\n",
              "        vertical-align: top;\n",
              "    }\n",
              "\n",
              "    .dataframe thead th {\n",
              "        text-align: right;\n",
              "    }\n",
              "</style>\n",
              "<table border=\"1\" class=\"dataframe\">\n",
              "  <thead>\n",
              "    <tr style=\"text-align: right;\">\n",
              "      <th></th>\n",
              "      <th>id</th>\n",
              "      <th>status_group</th>\n",
              "    </tr>\n",
              "  </thead>\n",
              "  <tbody>\n",
              "    <tr>\n",
              "      <th>0</th>\n",
              "      <td>50785</td>\n",
              "      <td>functional</td>\n",
              "    </tr>\n",
              "    <tr>\n",
              "      <th>1</th>\n",
              "      <td>51630</td>\n",
              "      <td>functional</td>\n",
              "    </tr>\n",
              "    <tr>\n",
              "      <th>2</th>\n",
              "      <td>17168</td>\n",
              "      <td>functional</td>\n",
              "    </tr>\n",
              "    <tr>\n",
              "      <th>3</th>\n",
              "      <td>45559</td>\n",
              "      <td>non functional</td>\n",
              "    </tr>\n",
              "    <tr>\n",
              "      <th>4</th>\n",
              "      <td>49871</td>\n",
              "      <td>functional</td>\n",
              "    </tr>\n",
              "    <tr>\n",
              "      <th>...</th>\n",
              "      <td>...</td>\n",
              "      <td>...</td>\n",
              "    </tr>\n",
              "    <tr>\n",
              "      <th>14353</th>\n",
              "      <td>39307</td>\n",
              "      <td>non functional</td>\n",
              "    </tr>\n",
              "    <tr>\n",
              "      <th>14354</th>\n",
              "      <td>18990</td>\n",
              "      <td>functional</td>\n",
              "    </tr>\n",
              "    <tr>\n",
              "      <th>14355</th>\n",
              "      <td>28749</td>\n",
              "      <td>functional</td>\n",
              "    </tr>\n",
              "    <tr>\n",
              "      <th>14356</th>\n",
              "      <td>33492</td>\n",
              "      <td>functional</td>\n",
              "    </tr>\n",
              "    <tr>\n",
              "      <th>14357</th>\n",
              "      <td>68707</td>\n",
              "      <td>non functional</td>\n",
              "    </tr>\n",
              "  </tbody>\n",
              "</table>\n",
              "<p>14358 rows × 2 columns</p>\n",
              "</div>"
            ],
            "text/plain": [
              "          id    status_group\n",
              "0      50785      functional\n",
              "1      51630      functional\n",
              "2      17168      functional\n",
              "3      45559  non functional\n",
              "4      49871      functional\n",
              "...      ...             ...\n",
              "14353  39307  non functional\n",
              "14354  18990      functional\n",
              "14355  28749      functional\n",
              "14356  33492      functional\n",
              "14357  68707  non functional\n",
              "\n",
              "[14358 rows x 2 columns]"
            ]
          },
          "metadata": {
            "tags": []
          },
          "execution_count": 41
        }
      ]
    },
    {
      "cell_type": "code",
      "metadata": {
        "id": "kBm4MUm9y-pc",
        "colab_type": "code",
        "colab": {
          "base_uri": "https://localhost:8080/",
          "height": 411
        },
        "outputId": "c6006451-f445-49e8-8615-231919debf8b"
      },
      "source": [
        "submission[prev_submission['status_group'] != submission['status_group']]"
      ],
      "execution_count": 46,
      "outputs": [
        {
          "output_type": "execute_result",
          "data": {
            "text/html": [
              "<div>\n",
              "<style scoped>\n",
              "    .dataframe tbody tr th:only-of-type {\n",
              "        vertical-align: middle;\n",
              "    }\n",
              "\n",
              "    .dataframe tbody tr th {\n",
              "        vertical-align: top;\n",
              "    }\n",
              "\n",
              "    .dataframe thead th {\n",
              "        text-align: right;\n",
              "    }\n",
              "</style>\n",
              "<table border=\"1\" class=\"dataframe\">\n",
              "  <thead>\n",
              "    <tr style=\"text-align: right;\">\n",
              "      <th></th>\n",
              "      <th>id</th>\n",
              "      <th>status_group</th>\n",
              "    </tr>\n",
              "  </thead>\n",
              "  <tbody>\n",
              "    <tr>\n",
              "      <th>6</th>\n",
              "      <td>24806</td>\n",
              "      <td>non functional</td>\n",
              "    </tr>\n",
              "    <tr>\n",
              "      <th>38</th>\n",
              "      <td>72562</td>\n",
              "      <td>functional</td>\n",
              "    </tr>\n",
              "    <tr>\n",
              "      <th>198</th>\n",
              "      <td>73667</td>\n",
              "      <td>functional</td>\n",
              "    </tr>\n",
              "    <tr>\n",
              "      <th>211</th>\n",
              "      <td>29927</td>\n",
              "      <td>non functional</td>\n",
              "    </tr>\n",
              "    <tr>\n",
              "      <th>252</th>\n",
              "      <td>56540</td>\n",
              "      <td>functional</td>\n",
              "    </tr>\n",
              "    <tr>\n",
              "      <th>...</th>\n",
              "      <td>...</td>\n",
              "      <td>...</td>\n",
              "    </tr>\n",
              "    <tr>\n",
              "      <th>13648</th>\n",
              "      <td>27026</td>\n",
              "      <td>non functional</td>\n",
              "    </tr>\n",
              "    <tr>\n",
              "      <th>13696</th>\n",
              "      <td>69180</td>\n",
              "      <td>functional</td>\n",
              "    </tr>\n",
              "    <tr>\n",
              "      <th>13815</th>\n",
              "      <td>7444</td>\n",
              "      <td>functional</td>\n",
              "    </tr>\n",
              "    <tr>\n",
              "      <th>13883</th>\n",
              "      <td>51555</td>\n",
              "      <td>functional</td>\n",
              "    </tr>\n",
              "    <tr>\n",
              "      <th>14140</th>\n",
              "      <td>26244</td>\n",
              "      <td>functional</td>\n",
              "    </tr>\n",
              "  </tbody>\n",
              "</table>\n",
              "<p>178 rows × 2 columns</p>\n",
              "</div>"
            ],
            "text/plain": [
              "          id    status_group\n",
              "6      24806  non functional\n",
              "38     72562      functional\n",
              "198    73667      functional\n",
              "211    29927  non functional\n",
              "252    56540      functional\n",
              "...      ...             ...\n",
              "13648  27026  non functional\n",
              "13696  69180      functional\n",
              "13815   7444      functional\n",
              "13883  51555      functional\n",
              "14140  26244      functional\n",
              "\n",
              "[178 rows x 2 columns]"
            ]
          },
          "metadata": {
            "tags": []
          },
          "execution_count": 46
        }
      ]
    },
    {
      "cell_type": "code",
      "metadata": {
        "id": "F6ttRD6l4rfI",
        "colab_type": "code",
        "colab": {}
      },
      "source": [
        "files.download('my-cherry-picked-ensemble-submission.csv')"
      ],
      "execution_count": 0,
      "outputs": []
    },
    {
      "cell_type": "code",
      "metadata": {
        "id": "BTs9HJqgz-0V",
        "colab_type": "code",
        "colab": {
          "base_uri": "https://localhost:8080/",
          "height": 411
        },
        "outputId": "a6547c90-b5d6-40ed-d558-69091c8ad3ec"
      },
      "source": [
        "# Filenames of your submissions you want to ensemble\n",
        "filez = ['jcs-kaggle-waterpumps-submission-02.csv', 'my-ultimate-ensemble-submission.csv',\n",
        "         'jcs-kaggle-waterpumps-submission-03.csv', 'jcs-kaggle-waterpumps-submission-04.csv',\n",
        "         'jcs-kaggle-waterpumps-submission-05.csv', 'jcs-kaggle-waterpumps-submission-06.csv',\n",
        "         'selectkbest.csv', 'lecture_predictions.csv']\n",
        " \n",
        "target = 'status_group'\n",
        "submissions = (pd.read_csv(file)[[target]] for file in filez)\n",
        "ensemble = pd.concat(submissions, axis='columns')\n",
        "majority_vote = ensemble.mode(axis='columns')[0]\n",
        "\n",
        "submission = sample_submission.copy()\n",
        "submission[target] = majority_vote\n",
        "submission.to_csv('my-super-stacked-ensemble-submission.csv', index=False)\n",
        "submission"
      ],
      "execution_count": 58,
      "outputs": [
        {
          "output_type": "execute_result",
          "data": {
            "text/html": [
              "<div>\n",
              "<style scoped>\n",
              "    .dataframe tbody tr th:only-of-type {\n",
              "        vertical-align: middle;\n",
              "    }\n",
              "\n",
              "    .dataframe tbody tr th {\n",
              "        vertical-align: top;\n",
              "    }\n",
              "\n",
              "    .dataframe thead th {\n",
              "        text-align: right;\n",
              "    }\n",
              "</style>\n",
              "<table border=\"1\" class=\"dataframe\">\n",
              "  <thead>\n",
              "    <tr style=\"text-align: right;\">\n",
              "      <th></th>\n",
              "      <th>id</th>\n",
              "      <th>status_group</th>\n",
              "    </tr>\n",
              "  </thead>\n",
              "  <tbody>\n",
              "    <tr>\n",
              "      <th>0</th>\n",
              "      <td>50785</td>\n",
              "      <td>functional</td>\n",
              "    </tr>\n",
              "    <tr>\n",
              "      <th>1</th>\n",
              "      <td>51630</td>\n",
              "      <td>functional</td>\n",
              "    </tr>\n",
              "    <tr>\n",
              "      <th>2</th>\n",
              "      <td>17168</td>\n",
              "      <td>functional</td>\n",
              "    </tr>\n",
              "    <tr>\n",
              "      <th>3</th>\n",
              "      <td>45559</td>\n",
              "      <td>non functional</td>\n",
              "    </tr>\n",
              "    <tr>\n",
              "      <th>4</th>\n",
              "      <td>49871</td>\n",
              "      <td>functional</td>\n",
              "    </tr>\n",
              "    <tr>\n",
              "      <th>...</th>\n",
              "      <td>...</td>\n",
              "      <td>...</td>\n",
              "    </tr>\n",
              "    <tr>\n",
              "      <th>14353</th>\n",
              "      <td>39307</td>\n",
              "      <td>non functional</td>\n",
              "    </tr>\n",
              "    <tr>\n",
              "      <th>14354</th>\n",
              "      <td>18990</td>\n",
              "      <td>functional</td>\n",
              "    </tr>\n",
              "    <tr>\n",
              "      <th>14355</th>\n",
              "      <td>28749</td>\n",
              "      <td>functional</td>\n",
              "    </tr>\n",
              "    <tr>\n",
              "      <th>14356</th>\n",
              "      <td>33492</td>\n",
              "      <td>functional</td>\n",
              "    </tr>\n",
              "    <tr>\n",
              "      <th>14357</th>\n",
              "      <td>68707</td>\n",
              "      <td>non functional</td>\n",
              "    </tr>\n",
              "  </tbody>\n",
              "</table>\n",
              "<p>14358 rows × 2 columns</p>\n",
              "</div>"
            ],
            "text/plain": [
              "          id    status_group\n",
              "0      50785      functional\n",
              "1      51630      functional\n",
              "2      17168      functional\n",
              "3      45559  non functional\n",
              "4      49871      functional\n",
              "...      ...             ...\n",
              "14353  39307  non functional\n",
              "14354  18990      functional\n",
              "14355  28749      functional\n",
              "14356  33492      functional\n",
              "14357  68707  non functional\n",
              "\n",
              "[14358 rows x 2 columns]"
            ]
          },
          "metadata": {
            "tags": []
          },
          "execution_count": 58
        }
      ]
    },
    {
      "cell_type": "code",
      "metadata": {
        "id": "bUGU6nAG0UCS",
        "colab_type": "code",
        "colab": {
          "base_uri": "https://localhost:8080/",
          "height": 411
        },
        "outputId": "ffbe2244-461e-49aa-b51b-74aed367613b"
      },
      "source": [
        "submission[prev_submission['status_group'] != submission['status_group']]"
      ],
      "execution_count": 59,
      "outputs": [
        {
          "output_type": "execute_result",
          "data": {
            "text/html": [
              "<div>\n",
              "<style scoped>\n",
              "    .dataframe tbody tr th:only-of-type {\n",
              "        vertical-align: middle;\n",
              "    }\n",
              "\n",
              "    .dataframe tbody tr th {\n",
              "        vertical-align: top;\n",
              "    }\n",
              "\n",
              "    .dataframe thead th {\n",
              "        text-align: right;\n",
              "    }\n",
              "</style>\n",
              "<table border=\"1\" class=\"dataframe\">\n",
              "  <thead>\n",
              "    <tr style=\"text-align: right;\">\n",
              "      <th></th>\n",
              "      <th>id</th>\n",
              "      <th>status_group</th>\n",
              "    </tr>\n",
              "  </thead>\n",
              "  <tbody>\n",
              "    <tr>\n",
              "      <th>38</th>\n",
              "      <td>72562</td>\n",
              "      <td>functional</td>\n",
              "    </tr>\n",
              "    <tr>\n",
              "      <th>198</th>\n",
              "      <td>73667</td>\n",
              "      <td>functional</td>\n",
              "    </tr>\n",
              "    <tr>\n",
              "      <th>338</th>\n",
              "      <td>63137</td>\n",
              "      <td>functional</td>\n",
              "    </tr>\n",
              "    <tr>\n",
              "      <th>474</th>\n",
              "      <td>72932</td>\n",
              "      <td>functional</td>\n",
              "    </tr>\n",
              "    <tr>\n",
              "      <th>605</th>\n",
              "      <td>11908</td>\n",
              "      <td>functional</td>\n",
              "    </tr>\n",
              "    <tr>\n",
              "      <th>...</th>\n",
              "      <td>...</td>\n",
              "      <td>...</td>\n",
              "    </tr>\n",
              "    <tr>\n",
              "      <th>13051</th>\n",
              "      <td>47480</td>\n",
              "      <td>functional</td>\n",
              "    </tr>\n",
              "    <tr>\n",
              "      <th>13696</th>\n",
              "      <td>69180</td>\n",
              "      <td>functional</td>\n",
              "    </tr>\n",
              "    <tr>\n",
              "      <th>13815</th>\n",
              "      <td>7444</td>\n",
              "      <td>functional</td>\n",
              "    </tr>\n",
              "    <tr>\n",
              "      <th>13883</th>\n",
              "      <td>51555</td>\n",
              "      <td>functional</td>\n",
              "    </tr>\n",
              "    <tr>\n",
              "      <th>14140</th>\n",
              "      <td>26244</td>\n",
              "      <td>functional</td>\n",
              "    </tr>\n",
              "  </tbody>\n",
              "</table>\n",
              "<p>89 rows × 2 columns</p>\n",
              "</div>"
            ],
            "text/plain": [
              "          id status_group\n",
              "38     72562   functional\n",
              "198    73667   functional\n",
              "338    63137   functional\n",
              "474    72932   functional\n",
              "605    11908   functional\n",
              "...      ...          ...\n",
              "13051  47480   functional\n",
              "13696  69180   functional\n",
              "13815   7444   functional\n",
              "13883  51555   functional\n",
              "14140  26244   functional\n",
              "\n",
              "[89 rows x 2 columns]"
            ]
          },
          "metadata": {
            "tags": []
          },
          "execution_count": 59
        }
      ]
    },
    {
      "cell_type": "code",
      "metadata": {
        "id": "0THOw6Jo1CHO",
        "colab_type": "code",
        "colab": {}
      },
      "source": [
        "files.download('my-super-stacked-ensemble-submission.csv')"
      ],
      "execution_count": 0,
      "outputs": []
    }
  ]
}