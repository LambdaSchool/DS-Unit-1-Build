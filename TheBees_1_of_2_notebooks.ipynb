{
  "nbformat": 4,
  "nbformat_minor": 0,
  "metadata": {
    "colab": {
      "name": "TheBees_1_of_2_notebooks.ipynb",
      "provenance": [],
      "collapsed_sections": [],
      "include_colab_link": true
    },
    "kernelspec": {
      "name": "python3",
      "display_name": "Python 3"
    }
  },
  "cells": [
    {
      "cell_type": "markdown",
      "metadata": {
        "id": "view-in-github",
        "colab_type": "text"
      },
      "source": [
        "<a href=\"https://colab.research.google.com/github/maiormarso/DS-Unit-1-Build/blob/master/TheBees_1_of_2_notebooks.ipynb\" target=\"_parent\"><img src=\"https://colab.research.google.com/assets/colab-badge.svg\" alt=\"Open In Colab\"/></a>"
      ]
    },
    {
      "cell_type": "code",
      "metadata": {
        "id": "KUXMFaK2ZjHn",
        "colab_type": "code",
        "outputId": "6b05fe95-2700-402a-8483-193e6efd5dbe",
        "colab": {
          "base_uri": "https://localhost:8080/",
          "height": 266
        }
      },
      "source": [
        "!pip install chart_studio"
      ],
      "execution_count": 0,
      "outputs": [
        {
          "output_type": "stream",
          "text": [
            "Collecting chart_studio\n",
            "\u001b[?25l  Downloading https://files.pythonhosted.org/packages/b9/3f/d2f3f506ba1aaf109f549f8b01d1483cd3e324c5ebe6b206acee66efdf46/chart_studio-1.0.0-py3-none-any.whl (76kB)\n",
            "\r\u001b[K     |████▎                           | 10kB 13.5MB/s eta 0:00:01\r\u001b[K     |████████▋                       | 20kB 1.8MB/s eta 0:00:01\r\u001b[K     |█████████████                   | 30kB 2.6MB/s eta 0:00:01\r\u001b[K     |█████████████████▏              | 40kB 1.7MB/s eta 0:00:01\r\u001b[K     |█████████████████████▌          | 51kB 2.1MB/s eta 0:00:01\r\u001b[K     |█████████████████████████▉      | 61kB 2.5MB/s eta 0:00:01\r\u001b[K     |██████████████████████████████▏ | 71kB 2.9MB/s eta 0:00:01\r\u001b[K     |████████████████████████████████| 81kB 2.2MB/s \n",
            "\u001b[?25hRequirement already satisfied: six in /usr/local/lib/python3.6/dist-packages (from chart_studio) (1.12.0)\n",
            "Requirement already satisfied: plotly in /usr/local/lib/python3.6/dist-packages (from chart_studio) (4.1.1)\n",
            "Requirement already satisfied: retrying>=1.3.3 in /usr/local/lib/python3.6/dist-packages (from chart_studio) (1.3.3)\n",
            "Requirement already satisfied: requests in /usr/local/lib/python3.6/dist-packages (from chart_studio) (2.21.0)\n",
            "Requirement already satisfied: idna<2.9,>=2.5 in /usr/local/lib/python3.6/dist-packages (from requests->chart_studio) (2.8)\n",
            "Requirement already satisfied: certifi>=2017.4.17 in /usr/local/lib/python3.6/dist-packages (from requests->chart_studio) (2019.9.11)\n",
            "Requirement already satisfied: urllib3<1.25,>=1.21.1 in /usr/local/lib/python3.6/dist-packages (from requests->chart_studio) (1.24.3)\n",
            "Requirement already satisfied: chardet<3.1.0,>=3.0.2 in /usr/local/lib/python3.6/dist-packages (from requests->chart_studio) (3.0.4)\n",
            "Installing collected packages: chart-studio\n",
            "Successfully installed chart-studio-1.0.0\n"
          ],
          "name": "stdout"
        }
      ]
    },
    {
      "cell_type": "markdown",
      "metadata": {
        "id": "BU7UCcaT_an-",
        "colab_type": "text"
      },
      "source": [
        "The above and below functions were necessary to make the code work."
      ]
    },
    {
      "cell_type": "code",
      "metadata": {
        "id": "030pmt7mpjhD",
        "colab_type": "code",
        "colab": {}
      },
      "source": [
        "import pandas as pd\n",
        "import matplotlib\n",
        "matplotlib.style.use('ggplot') \n",
        "import matplotlib.pyplot as plt\n",
        "import chart_studio.plotly as pltly\n",
        "import numpy as np\n",
        "import chart_studio\n",
        "chart_studio.tools.set_config_file(\n",
        "    plotly_domain='https://plotly.your-company.com',\n",
        "    plotly_api_domain='https://plotly.your-company.com',\n",
        "    plotly_streaming_domain='https://stream-plotly.your-company.com',\n",
        "    world_readable=False,\n",
        "    sharing='private'\n",
        ")\n",
        "#!pip install seaborn as sns"
      ],
      "execution_count": 0,
      "outputs": []
    },
    {
      "cell_type": "markdown",
      "metadata": {
        "id": "dH3701H4_hfT",
        "colab_type": "text"
      },
      "source": [
        "The column headers or column titles had to be added to the dataframe.  \n",
        "\n",
        "The dataframe bee_colonies_loss.csv came fram data.world.\n",
        "\n",
        "This dataframe was very messy, and had a major overhaul using exel."
      ]
    },
    {
      "cell_type": "code",
      "metadata": {
        "id": "TKLE1Jw9vMs7",
        "colab_type": "code",
        "colab": {}
      },
      "source": [
        "column_headers = ['year','season','state','total_annual_loss', 'beekeepers', 'beekeepers_exculsive_to_state','colonies','colonies_exclusive_to_state','total_loss']\n",
        "df=pd.read_csv('http://marso.space/bee/bee_colony_loss.csv', header=None, names=column_headers)"
      ],
      "execution_count": 0,
      "outputs": []
    },
    {
      "cell_type": "code",
      "metadata": {
        "id": "EUV0zr9JT5Tx",
        "colab_type": "code",
        "outputId": "17198499-6ebb-4bce-b63f-130c3449ed87",
        "colab": {
          "base_uri": "https://localhost:8080/",
          "height": 215
        }
      },
      "source": [
        "df.head()"
      ],
      "execution_count": 0,
      "outputs": [
        {
          "output_type": "execute_result",
          "data": {
            "text/html": [
              "<div>\n",
              "<style scoped>\n",
              "    .dataframe tbody tr th:only-of-type {\n",
              "        vertical-align: middle;\n",
              "    }\n",
              "\n",
              "    .dataframe tbody tr th {\n",
              "        vertical-align: top;\n",
              "    }\n",
              "\n",
              "    .dataframe thead th {\n",
              "        text-align: right;\n",
              "    }\n",
              "</style>\n",
              "<table border=\"1\" class=\"dataframe\">\n",
              "  <thead>\n",
              "    <tr style=\"text-align: right;\">\n",
              "      <th></th>\n",
              "      <th>year</th>\n",
              "      <th>season</th>\n",
              "      <th>state</th>\n",
              "      <th>total_annual_loss</th>\n",
              "      <th>beekeepers</th>\n",
              "      <th>beekeepers_exculsive_to_state</th>\n",
              "      <th>colonies</th>\n",
              "      <th>colonies_exclusive_to_state</th>\n",
              "      <th>total_loss</th>\n",
              "    </tr>\n",
              "  </thead>\n",
              "  <tbody>\n",
              "    <tr>\n",
              "      <th>0</th>\n",
              "      <td>2016/17</td>\n",
              "      <td>Annual</td>\n",
              "      <td>Massachusetts</td>\n",
              "      <td>0.159</td>\n",
              "      <td>87</td>\n",
              "      <td>0.94</td>\n",
              "      <td>27,186.00</td>\n",
              "      <td>0.02</td>\n",
              "      <td>4322.57</td>\n",
              "    </tr>\n",
              "    <tr>\n",
              "      <th>1</th>\n",
              "      <td>2016/17</td>\n",
              "      <td>Annual</td>\n",
              "      <td>Montana</td>\n",
              "      <td>0.171</td>\n",
              "      <td>21</td>\n",
              "      <td>0.52</td>\n",
              "      <td>35,905.00</td>\n",
              "      <td>0</td>\n",
              "      <td>6139.76</td>\n",
              "    </tr>\n",
              "    <tr>\n",
              "      <th>2</th>\n",
              "      <td>2016/17</td>\n",
              "      <td>Annual</td>\n",
              "      <td>Nevada</td>\n",
              "      <td>0.230</td>\n",
              "      <td>13</td>\n",
              "      <td>0.92</td>\n",
              "      <td>2,512.00</td>\n",
              "      <td>0.05</td>\n",
              "      <td>577.76</td>\n",
              "    </tr>\n",
              "    <tr>\n",
              "      <th>3</th>\n",
              "      <td>2016/17</td>\n",
              "      <td>Annual</td>\n",
              "      <td>Maine</td>\n",
              "      <td>0.233</td>\n",
              "      <td>65</td>\n",
              "      <td>0.94</td>\n",
              "      <td>41,102.00</td>\n",
              "      <td>0.01</td>\n",
              "      <td>9576.77</td>\n",
              "    </tr>\n",
              "    <tr>\n",
              "      <th>4</th>\n",
              "      <td>2016/17</td>\n",
              "      <td>Annual</td>\n",
              "      <td>Wyoming</td>\n",
              "      <td>0.234</td>\n",
              "      <td>18</td>\n",
              "      <td>0.78</td>\n",
              "      <td>6,521.00</td>\n",
              "      <td>0.01</td>\n",
              "      <td>1525.91</td>\n",
              "    </tr>\n",
              "  </tbody>\n",
              "</table>\n",
              "</div>"
            ],
            "text/plain": [
              "        year    season  ... colonies_exclusive_to_state  total_loss\n",
              "0   2016/17    Annual   ...                        0.02     4322.57\n",
              "1   2016/17    Annual   ...                           0     6139.76\n",
              "2   2016/17    Annual   ...                        0.05      577.76\n",
              "3   2016/17    Annual   ...                        0.01     9576.77\n",
              "4   2016/17    Annual   ...                        0.01     1525.91\n",
              "\n",
              "[5 rows x 9 columns]"
            ]
          },
          "metadata": {
            "tags": []
          },
          "execution_count": 4
        }
      ]
    },
    {
      "cell_type": "code",
      "metadata": {
        "id": "JteVAe10QaeO",
        "colab_type": "code",
        "outputId": "d37f9c32-29c7-44e9-ba79-302356d5ec04",
        "colab": {
          "base_uri": "https://localhost:8080/",
          "height": 193
        }
      },
      "source": [
        "df.dtypes"
      ],
      "execution_count": 0,
      "outputs": [
        {
          "output_type": "execute_result",
          "data": {
            "text/plain": [
              "year                              object\n",
              "season                            object\n",
              "state                             object\n",
              "total_annual_loss                float64\n",
              "beekeepers                         int64\n",
              "beekeepers_exculsive_to_state     object\n",
              "colonies                          object\n",
              "colonies_exclusive_to_state       object\n",
              "total_loss                       float64\n",
              "dtype: object"
            ]
          },
          "metadata": {
            "tags": []
          },
          "execution_count": 5
        }
      ]
    },
    {
      "cell_type": "markdown",
      "metadata": {
        "id": "sC7LEPn4Aast",
        "colab_type": "text"
      },
      "source": [
        "Because the year was comingled, 2016/17, it was split and the trailing year not necessay, was discarded."
      ]
    },
    {
      "cell_type": "code",
      "metadata": {
        "id": "Gm2-_H7NBNPn",
        "colab_type": "code",
        "outputId": "11c6765b-49ea-46cf-cab5-0f5a424282c7",
        "colab": {
          "base_uri": "https://localhost:8080/",
          "height": 77
        }
      },
      "source": [
        "dfd= df['year'].str.split('/', expand=True)\n",
        "dfd.head(1)\n"
      ],
      "execution_count": 0,
      "outputs": [
        {
          "output_type": "execute_result",
          "data": {
            "text/html": [
              "<div>\n",
              "<style scoped>\n",
              "    .dataframe tbody tr th:only-of-type {\n",
              "        vertical-align: middle;\n",
              "    }\n",
              "\n",
              "    .dataframe tbody tr th {\n",
              "        vertical-align: top;\n",
              "    }\n",
              "\n",
              "    .dataframe thead th {\n",
              "        text-align: right;\n",
              "    }\n",
              "</style>\n",
              "<table border=\"1\" class=\"dataframe\">\n",
              "  <thead>\n",
              "    <tr style=\"text-align: right;\">\n",
              "      <th></th>\n",
              "      <th>0</th>\n",
              "      <th>1</th>\n",
              "    </tr>\n",
              "  </thead>\n",
              "  <tbody>\n",
              "    <tr>\n",
              "      <th>0</th>\n",
              "      <td>2016</td>\n",
              "      <td>17</td>\n",
              "    </tr>\n",
              "  </tbody>\n",
              "</table>\n",
              "</div>"
            ],
            "text/plain": [
              "       0    1\n",
              "0   2016  17 "
            ]
          },
          "metadata": {
            "tags": []
          },
          "execution_count": 6
        }
      ]
    },
    {
      "cell_type": "code",
      "metadata": {
        "id": "jhDHjDdpMxf_",
        "colab_type": "code",
        "outputId": "8a5783da-4b54-4902-cfb3-420a9c7bbbd9",
        "colab": {
          "base_uri": "https://localhost:8080/",
          "height": 77
        }
      },
      "source": [
        "# cts.rename(columns={'0': 'year','1':'to'})\n",
        "# cts.head(1)\n",
        "dfd.rename(columns={0: 'year', 1 : 'to'},inplace=True)\n",
        "dfd.head(1)"
      ],
      "execution_count": 0,
      "outputs": [
        {
          "output_type": "execute_result",
          "data": {
            "text/html": [
              "<div>\n",
              "<style scoped>\n",
              "    .dataframe tbody tr th:only-of-type {\n",
              "        vertical-align: middle;\n",
              "    }\n",
              "\n",
              "    .dataframe tbody tr th {\n",
              "        vertical-align: top;\n",
              "    }\n",
              "\n",
              "    .dataframe thead th {\n",
              "        text-align: right;\n",
              "    }\n",
              "</style>\n",
              "<table border=\"1\" class=\"dataframe\">\n",
              "  <thead>\n",
              "    <tr style=\"text-align: right;\">\n",
              "      <th></th>\n",
              "      <th>year</th>\n",
              "      <th>to</th>\n",
              "    </tr>\n",
              "  </thead>\n",
              "  <tbody>\n",
              "    <tr>\n",
              "      <th>0</th>\n",
              "      <td>2016</td>\n",
              "      <td>17</td>\n",
              "    </tr>\n",
              "  </tbody>\n",
              "</table>\n",
              "</div>"
            ],
            "text/plain": [
              "    year   to\n",
              "0   2016  17 "
            ]
          },
          "metadata": {
            "tags": []
          },
          "execution_count": 7
        }
      ]
    },
    {
      "cell_type": "code",
      "metadata": {
        "id": "v_gPgNcSVvUj",
        "colab_type": "code",
        "outputId": "a6bcbfff-1992-4f10-9b0d-0a94708cac27",
        "colab": {
          "base_uri": "https://localhost:8080/",
          "height": 77
        }
      },
      "source": [
        "dfd= dfd.drop('to', axis='columns')\n",
        "dfd.head(1)"
      ],
      "execution_count": 0,
      "outputs": [
        {
          "output_type": "execute_result",
          "data": {
            "text/html": [
              "<div>\n",
              "<style scoped>\n",
              "    .dataframe tbody tr th:only-of-type {\n",
              "        vertical-align: middle;\n",
              "    }\n",
              "\n",
              "    .dataframe tbody tr th {\n",
              "        vertical-align: top;\n",
              "    }\n",
              "\n",
              "    .dataframe thead th {\n",
              "        text-align: right;\n",
              "    }\n",
              "</style>\n",
              "<table border=\"1\" class=\"dataframe\">\n",
              "  <thead>\n",
              "    <tr style=\"text-align: right;\">\n",
              "      <th></th>\n",
              "      <th>year</th>\n",
              "    </tr>\n",
              "  </thead>\n",
              "  <tbody>\n",
              "    <tr>\n",
              "      <th>0</th>\n",
              "      <td>2016</td>\n",
              "    </tr>\n",
              "  </tbody>\n",
              "</table>\n",
              "</div>"
            ],
            "text/plain": [
              "    year\n",
              "0   2016"
            ]
          },
          "metadata": {
            "tags": []
          },
          "execution_count": 8
        }
      ]
    },
    {
      "cell_type": "markdown",
      "metadata": {
        "id": "qIFfNBNyA6wJ",
        "colab_type": "text"
      },
      "source": [
        "Below the year was removed from the dataframe and the new \n",
        "\n",
        "configured year dataframe was joined with the original dataframe."
      ]
    },
    {
      "cell_type": "code",
      "metadata": {
        "id": "PyjBlRfETECu",
        "colab_type": "code",
        "outputId": "f1f04b82-e5a7-4160-b4d0-562b005664dc",
        "colab": {
          "base_uri": "https://localhost:8080/",
          "height": 97
        }
      },
      "source": [
        "dfc=df\n",
        "dfc.head(1)"
      ],
      "execution_count": 0,
      "outputs": [
        {
          "output_type": "execute_result",
          "data": {
            "text/html": [
              "<div>\n",
              "<style scoped>\n",
              "    .dataframe tbody tr th:only-of-type {\n",
              "        vertical-align: middle;\n",
              "    }\n",
              "\n",
              "    .dataframe tbody tr th {\n",
              "        vertical-align: top;\n",
              "    }\n",
              "\n",
              "    .dataframe thead th {\n",
              "        text-align: right;\n",
              "    }\n",
              "</style>\n",
              "<table border=\"1\" class=\"dataframe\">\n",
              "  <thead>\n",
              "    <tr style=\"text-align: right;\">\n",
              "      <th></th>\n",
              "      <th>year</th>\n",
              "      <th>season</th>\n",
              "      <th>state</th>\n",
              "      <th>total_annual_loss</th>\n",
              "      <th>beekeepers</th>\n",
              "      <th>beekeepers_exculsive_to_state</th>\n",
              "      <th>colonies</th>\n",
              "      <th>colonies_exclusive_to_state</th>\n",
              "      <th>total_loss</th>\n",
              "    </tr>\n",
              "  </thead>\n",
              "  <tbody>\n",
              "    <tr>\n",
              "      <th>0</th>\n",
              "      <td>2016/17</td>\n",
              "      <td>Annual</td>\n",
              "      <td>Massachusetts</td>\n",
              "      <td>0.159</td>\n",
              "      <td>87</td>\n",
              "      <td>0.94</td>\n",
              "      <td>27,186.00</td>\n",
              "      <td>0.02</td>\n",
              "      <td>4322.57</td>\n",
              "    </tr>\n",
              "  </tbody>\n",
              "</table>\n",
              "</div>"
            ],
            "text/plain": [
              "        year    season  ... colonies_exclusive_to_state  total_loss\n",
              "0   2016/17    Annual   ...                        0.02     4322.57\n",
              "\n",
              "[1 rows x 9 columns]"
            ]
          },
          "metadata": {
            "tags": []
          },
          "execution_count": 9
        }
      ]
    },
    {
      "cell_type": "code",
      "metadata": {
        "id": "uw4ZH1iHTHcC",
        "colab_type": "code",
        "outputId": "acfe8827-8d9d-4468-a3b9-5d10d06ada16",
        "colab": {
          "base_uri": "https://localhost:8080/",
          "height": 97
        }
      },
      "source": [
        "dfc = dfc.drop('year', axis='columns')\n",
        "dfc.head(1)"
      ],
      "execution_count": 0,
      "outputs": [
        {
          "output_type": "execute_result",
          "data": {
            "text/html": [
              "<div>\n",
              "<style scoped>\n",
              "    .dataframe tbody tr th:only-of-type {\n",
              "        vertical-align: middle;\n",
              "    }\n",
              "\n",
              "    .dataframe tbody tr th {\n",
              "        vertical-align: top;\n",
              "    }\n",
              "\n",
              "    .dataframe thead th {\n",
              "        text-align: right;\n",
              "    }\n",
              "</style>\n",
              "<table border=\"1\" class=\"dataframe\">\n",
              "  <thead>\n",
              "    <tr style=\"text-align: right;\">\n",
              "      <th></th>\n",
              "      <th>season</th>\n",
              "      <th>state</th>\n",
              "      <th>total_annual_loss</th>\n",
              "      <th>beekeepers</th>\n",
              "      <th>beekeepers_exculsive_to_state</th>\n",
              "      <th>colonies</th>\n",
              "      <th>colonies_exclusive_to_state</th>\n",
              "      <th>total_loss</th>\n",
              "    </tr>\n",
              "  </thead>\n",
              "  <tbody>\n",
              "    <tr>\n",
              "      <th>0</th>\n",
              "      <td>Annual</td>\n",
              "      <td>Massachusetts</td>\n",
              "      <td>0.159</td>\n",
              "      <td>87</td>\n",
              "      <td>0.94</td>\n",
              "      <td>27,186.00</td>\n",
              "      <td>0.02</td>\n",
              "      <td>4322.57</td>\n",
              "    </tr>\n",
              "  </tbody>\n",
              "</table>\n",
              "</div>"
            ],
            "text/plain": [
              "     season            state  ...  colonies_exclusive_to_state  total_loss\n",
              "0   Annual    Massachusetts   ...                         0.02     4322.57\n",
              "\n",
              "[1 rows x 8 columns]"
            ]
          },
          "metadata": {
            "tags": []
          },
          "execution_count": 10
        }
      ]
    },
    {
      "cell_type": "markdown",
      "metadata": {
        "id": "_TzMBDVZNqHP",
        "colab_type": "text"
      },
      "source": [
        "The following code joins the four digit year column with the rest of the dataframe."
      ]
    },
    {
      "cell_type": "code",
      "metadata": {
        "id": "1fXRl7bgNeNZ",
        "colab_type": "code",
        "colab": {}
      },
      "source": [
        " dfh = dfd.join(dfc)"
      ],
      "execution_count": 0,
      "outputs": []
    },
    {
      "cell_type": "code",
      "metadata": {
        "id": "2WBjn_ecCidi",
        "colab_type": "code",
        "outputId": "38c1213f-35f9-433e-95a4-8127b8eadc00",
        "colab": {
          "base_uri": "https://localhost:8080/",
          "height": 215
        }
      },
      "source": [
        "dfh.head()\n"
      ],
      "execution_count": 0,
      "outputs": [
        {
          "output_type": "execute_result",
          "data": {
            "text/html": [
              "<div>\n",
              "<style scoped>\n",
              "    .dataframe tbody tr th:only-of-type {\n",
              "        vertical-align: middle;\n",
              "    }\n",
              "\n",
              "    .dataframe tbody tr th {\n",
              "        vertical-align: top;\n",
              "    }\n",
              "\n",
              "    .dataframe thead th {\n",
              "        text-align: right;\n",
              "    }\n",
              "</style>\n",
              "<table border=\"1\" class=\"dataframe\">\n",
              "  <thead>\n",
              "    <tr style=\"text-align: right;\">\n",
              "      <th></th>\n",
              "      <th>year</th>\n",
              "      <th>season</th>\n",
              "      <th>state</th>\n",
              "      <th>total_annual_loss</th>\n",
              "      <th>beekeepers</th>\n",
              "      <th>beekeepers_exculsive_to_state</th>\n",
              "      <th>colonies</th>\n",
              "      <th>colonies_exclusive_to_state</th>\n",
              "      <th>total_loss</th>\n",
              "    </tr>\n",
              "  </thead>\n",
              "  <tbody>\n",
              "    <tr>\n",
              "      <th>0</th>\n",
              "      <td>2016</td>\n",
              "      <td>Annual</td>\n",
              "      <td>Massachusetts</td>\n",
              "      <td>0.159</td>\n",
              "      <td>87</td>\n",
              "      <td>0.94</td>\n",
              "      <td>27,186.00</td>\n",
              "      <td>0.02</td>\n",
              "      <td>4322.57</td>\n",
              "    </tr>\n",
              "    <tr>\n",
              "      <th>1</th>\n",
              "      <td>2016</td>\n",
              "      <td>Annual</td>\n",
              "      <td>Montana</td>\n",
              "      <td>0.171</td>\n",
              "      <td>21</td>\n",
              "      <td>0.52</td>\n",
              "      <td>35,905.00</td>\n",
              "      <td>0</td>\n",
              "      <td>6139.76</td>\n",
              "    </tr>\n",
              "    <tr>\n",
              "      <th>2</th>\n",
              "      <td>2016</td>\n",
              "      <td>Annual</td>\n",
              "      <td>Nevada</td>\n",
              "      <td>0.230</td>\n",
              "      <td>13</td>\n",
              "      <td>0.92</td>\n",
              "      <td>2,512.00</td>\n",
              "      <td>0.05</td>\n",
              "      <td>577.76</td>\n",
              "    </tr>\n",
              "    <tr>\n",
              "      <th>3</th>\n",
              "      <td>2016</td>\n",
              "      <td>Annual</td>\n",
              "      <td>Maine</td>\n",
              "      <td>0.233</td>\n",
              "      <td>65</td>\n",
              "      <td>0.94</td>\n",
              "      <td>41,102.00</td>\n",
              "      <td>0.01</td>\n",
              "      <td>9576.77</td>\n",
              "    </tr>\n",
              "    <tr>\n",
              "      <th>4</th>\n",
              "      <td>2016</td>\n",
              "      <td>Annual</td>\n",
              "      <td>Wyoming</td>\n",
              "      <td>0.234</td>\n",
              "      <td>18</td>\n",
              "      <td>0.78</td>\n",
              "      <td>6,521.00</td>\n",
              "      <td>0.01</td>\n",
              "      <td>1525.91</td>\n",
              "    </tr>\n",
              "  </tbody>\n",
              "</table>\n",
              "</div>"
            ],
            "text/plain": [
              "    year    season  ... colonies_exclusive_to_state  total_loss\n",
              "0   2016   Annual   ...                        0.02     4322.57\n",
              "1   2016   Annual   ...                           0     6139.76\n",
              "2   2016   Annual   ...                        0.05      577.76\n",
              "3   2016   Annual   ...                        0.01     9576.77\n",
              "4   2016   Annual   ...                        0.01     1525.91\n",
              "\n",
              "[5 rows x 9 columns]"
            ]
          },
          "metadata": {
            "tags": []
          },
          "execution_count": 12
        }
      ]
    },
    {
      "cell_type": "code",
      "metadata": {
        "id": "FO4Mf68HNGUV",
        "colab_type": "code",
        "colab": {}
      },
      "source": [
        ""
      ],
      "execution_count": 0,
      "outputs": []
    },
    {
      "cell_type": "markdown",
      "metadata": {
        "id": "f6kkqH5jNHf9",
        "colab_type": "text"
      },
      "source": [
        "The following code removes a comma from column values."
      ]
    },
    {
      "cell_type": "code",
      "metadata": {
        "id": "m1wGzwWV9H30",
        "colab_type": "code",
        "colab": {}
      },
      "source": [
        "\n",
        "dfh['colonies']= dfh['colonies'].astype(str) \n",
        "dfh['colonies']=dfh['colonies'].str.replace(',','' )\n",
        "\n",
        "dfh['colonies']=dfh['colonies'].astype(float)"
      ],
      "execution_count": 0,
      "outputs": []
    },
    {
      "cell_type": "code",
      "metadata": {
        "id": "z9xN47lL_Hcc",
        "colab_type": "code",
        "outputId": "8b186cf9-2177-41f8-e649-24820ee0f550",
        "colab": {
          "base_uri": "https://localhost:8080/",
          "height": 215
        }
      },
      "source": [
        "dfh.head()"
      ],
      "execution_count": 0,
      "outputs": [
        {
          "output_type": "execute_result",
          "data": {
            "text/html": [
              "<div>\n",
              "<style scoped>\n",
              "    .dataframe tbody tr th:only-of-type {\n",
              "        vertical-align: middle;\n",
              "    }\n",
              "\n",
              "    .dataframe tbody tr th {\n",
              "        vertical-align: top;\n",
              "    }\n",
              "\n",
              "    .dataframe thead th {\n",
              "        text-align: right;\n",
              "    }\n",
              "</style>\n",
              "<table border=\"1\" class=\"dataframe\">\n",
              "  <thead>\n",
              "    <tr style=\"text-align: right;\">\n",
              "      <th></th>\n",
              "      <th>year</th>\n",
              "      <th>season</th>\n",
              "      <th>state</th>\n",
              "      <th>total_annual_loss</th>\n",
              "      <th>beekeepers</th>\n",
              "      <th>beekeepers_exculsive_to_state</th>\n",
              "      <th>colonies</th>\n",
              "      <th>colonies_exclusive_to_state</th>\n",
              "      <th>total_loss</th>\n",
              "    </tr>\n",
              "  </thead>\n",
              "  <tbody>\n",
              "    <tr>\n",
              "      <th>0</th>\n",
              "      <td>2016</td>\n",
              "      <td>Annual</td>\n",
              "      <td>Massachusetts</td>\n",
              "      <td>0.159</td>\n",
              "      <td>87</td>\n",
              "      <td>0.94</td>\n",
              "      <td>27186.0</td>\n",
              "      <td>0.02</td>\n",
              "      <td>4322.57</td>\n",
              "    </tr>\n",
              "    <tr>\n",
              "      <th>1</th>\n",
              "      <td>2016</td>\n",
              "      <td>Annual</td>\n",
              "      <td>Montana</td>\n",
              "      <td>0.171</td>\n",
              "      <td>21</td>\n",
              "      <td>0.52</td>\n",
              "      <td>35905.0</td>\n",
              "      <td>0</td>\n",
              "      <td>6139.76</td>\n",
              "    </tr>\n",
              "    <tr>\n",
              "      <th>2</th>\n",
              "      <td>2016</td>\n",
              "      <td>Annual</td>\n",
              "      <td>Nevada</td>\n",
              "      <td>0.230</td>\n",
              "      <td>13</td>\n",
              "      <td>0.92</td>\n",
              "      <td>2512.0</td>\n",
              "      <td>0.05</td>\n",
              "      <td>577.76</td>\n",
              "    </tr>\n",
              "    <tr>\n",
              "      <th>3</th>\n",
              "      <td>2016</td>\n",
              "      <td>Annual</td>\n",
              "      <td>Maine</td>\n",
              "      <td>0.233</td>\n",
              "      <td>65</td>\n",
              "      <td>0.94</td>\n",
              "      <td>41102.0</td>\n",
              "      <td>0.01</td>\n",
              "      <td>9576.77</td>\n",
              "    </tr>\n",
              "    <tr>\n",
              "      <th>4</th>\n",
              "      <td>2016</td>\n",
              "      <td>Annual</td>\n",
              "      <td>Wyoming</td>\n",
              "      <td>0.234</td>\n",
              "      <td>18</td>\n",
              "      <td>0.78</td>\n",
              "      <td>6521.0</td>\n",
              "      <td>0.01</td>\n",
              "      <td>1525.91</td>\n",
              "    </tr>\n",
              "  </tbody>\n",
              "</table>\n",
              "</div>"
            ],
            "text/plain": [
              "    year    season  ... colonies_exclusive_to_state  total_loss\n",
              "0   2016   Annual   ...                        0.02     4322.57\n",
              "1   2016   Annual   ...                           0     6139.76\n",
              "2   2016   Annual   ...                        0.05      577.76\n",
              "3   2016   Annual   ...                        0.01     9576.77\n",
              "4   2016   Annual   ...                        0.01     1525.91\n",
              "\n",
              "[5 rows x 9 columns]"
            ]
          },
          "metadata": {
            "tags": []
          },
          "execution_count": 14
        }
      ]
    },
    {
      "cell_type": "code",
      "metadata": {
        "id": "jROS2xcg8Hv7",
        "colab_type": "code",
        "colab": {}
      },
      "source": [
        "year_colonies=dfh.groupby(['year']).agg({'colonies':'sum'})"
      ],
      "execution_count": 0,
      "outputs": []
    },
    {
      "cell_type": "code",
      "metadata": {
        "id": "0wD1gh3R8hB-",
        "colab_type": "code",
        "colab": {}
      },
      "source": [
        "year_beekeepers=dfh.groupby(['year']).agg({'beekeepers':'sum'})\n"
      ],
      "execution_count": 0,
      "outputs": []
    },
    {
      "cell_type": "markdown",
      "metadata": {
        "id": "vGaEiF-ROCW6",
        "colab_type": "text"
      },
      "source": [
        "From the following code I was able to plot 'Beekeepers in the USA'"
      ]
    },
    {
      "cell_type": "code",
      "metadata": {
        "id": "v-8Q2OOdNDp2",
        "colab_type": "code",
        "outputId": "57f3b20b-6c01-4e88-e481-7964065cf29b",
        "colab": {
          "base_uri": "https://localhost:8080/",
          "height": 284
        }
      },
      "source": [
        "year_beekeepers.head(10)"
      ],
      "execution_count": 0,
      "outputs": [
        {
          "output_type": "execute_result",
          "data": {
            "text/html": [
              "<div>\n",
              "<style scoped>\n",
              "    .dataframe tbody tr th:only-of-type {\n",
              "        vertical-align: middle;\n",
              "    }\n",
              "\n",
              "    .dataframe tbody tr th {\n",
              "        vertical-align: top;\n",
              "    }\n",
              "\n",
              "    .dataframe thead th {\n",
              "        text-align: right;\n",
              "    }\n",
              "</style>\n",
              "<table border=\"1\" class=\"dataframe\">\n",
              "  <thead>\n",
              "    <tr style=\"text-align: right;\">\n",
              "      <th></th>\n",
              "      <th>beekeepers</th>\n",
              "    </tr>\n",
              "    <tr>\n",
              "      <th>year</th>\n",
              "      <th></th>\n",
              "    </tr>\n",
              "  </thead>\n",
              "  <tbody>\n",
              "    <tr>\n",
              "      <th>2010</th>\n",
              "      <td>2630</td>\n",
              "    </tr>\n",
              "    <tr>\n",
              "      <th>2011</th>\n",
              "      <td>3223</td>\n",
              "    </tr>\n",
              "    <tr>\n",
              "      <th>2012</th>\n",
              "      <td>4516</td>\n",
              "    </tr>\n",
              "    <tr>\n",
              "      <th>2013</th>\n",
              "      <td>6202</td>\n",
              "    </tr>\n",
              "    <tr>\n",
              "      <th>2014</th>\n",
              "      <td>5134</td>\n",
              "    </tr>\n",
              "    <tr>\n",
              "      <th>2015</th>\n",
              "      <td>4973</td>\n",
              "    </tr>\n",
              "    <tr>\n",
              "      <th>2016</th>\n",
              "      <td>4324</td>\n",
              "    </tr>\n",
              "  </tbody>\n",
              "</table>\n",
              "</div>"
            ],
            "text/plain": [
              "       beekeepers\n",
              "year             \n",
              " 2010        2630\n",
              " 2011        3223\n",
              " 2012        4516\n",
              " 2013        6202\n",
              " 2014        5134\n",
              " 2015        4973\n",
              " 2016        4324"
            ]
          },
          "metadata": {
            "tags": []
          },
          "execution_count": 17
        }
      ]
    },
    {
      "cell_type": "code",
      "metadata": {
        "id": "Vu0qF8JNfvlH",
        "colab_type": "code",
        "outputId": "7eaf7207-cbf7-446a-e569-b895d877cc58",
        "colab": {
          "base_uri": "https://localhost:8080/",
          "height": 326
        }
      },
      "source": [
        "\n",
        "import matplotlib.pyplot as plt\n",
        "import pandas as pd\n",
        "import matplotlib.ticker as mtick\n",
        "\n",
        "plt.style.use('fivethirtyeight')\n",
        "#fake =pd.Series([38, 3, 2, 1, 2, 4, 6, 5, 5, 33],\n",
        "#                index=range(1,11))\n",
        "#generate the figure\n",
        "fig, ax = plt.subplots()\n",
        "#fig = plt.figure()\n",
        "fig.patch.set(facecolor='#A79629')\n",
        "\n",
        "# generate the axes (center section) for the plot\n",
        "#ax = ax=fake.plot.bar(color='C1', width=0.9)\n",
        "ax.set(facecolor='white')\n",
        "\n",
        "\n",
        "ax.set_ylabel('total_loss', fontsize=12, fontweight='bold')\n",
        "ax.set_xlabel('Years', fontsize=12, fontweight='bold', labelpad=10)\n",
        "\n",
        "# fix our tick lables\n",
        "ax.set_xticklabels([2016,2015,2014,2013,2012,2011,2010], color='black', rotation=0) # (range(1,11))\n",
        "ax.set_yticks(range(0,14800000,2000000))\n",
        "ax.set_yticklabels(range(0, 14800000 , 2000000), color='black',)\n",
        "\n",
        "plt.title('Bee Colonies in the USA')\n",
        "plt.scatter(dfh.year,dfh.colonies)\n",
        "plt.show()"
      ],
      "execution_count": 0,
      "outputs": [
        {
          "output_type": "display_data",
          "data": {
            "image/png": "[encoded data removed]",
            "text/plain": [
              "<Figure size 432x288 with 1 Axes>"
            ]
          },
          "metadata": {
            "tags": []
          }
        }
      ]
    },
    {
      "cell_type": "code",
      "metadata": {
        "id": "yh02DkAbWfu5",
        "colab_type": "code",
        "outputId": "d6d88561-6ec3-4b38-daa1-cfc0f0f7a109",
        "colab": {
          "base_uri": "https://localhost:8080/",
          "height": 308
        }
      },
      "source": [
        "import matplotlib.pyplot as pls \n",
        "dfh.plot(x='year', y='total_loss', kind='line') \n",
        "plt.show()"
      ],
      "execution_count": 0,
      "outputs": [
        {
          "output_type": "display_data",
          "data": {
            "image/png": "[encoded data removed]",
            "text/plain": [
              "<Figure size 432x288 with 1 Axes>"
            ]
          },
          "metadata": {
            "tags": []
          }
        }
      ]
    },
    {
      "cell_type": "code",
      "metadata": {
        "id": "Vh_VJ4MA7v98",
        "colab_type": "code",
        "outputId": "4ce084e7-c73e-4088-8eda-dc6c39d02dd6",
        "colab": {
          "base_uri": "https://localhost:8080/",
          "height": 215
        }
      },
      "source": [
        "dfh.head()"
      ],
      "execution_count": 0,
      "outputs": [
        {
          "output_type": "execute_result",
          "data": {
            "text/html": [
              "<div>\n",
              "<style scoped>\n",
              "    .dataframe tbody tr th:only-of-type {\n",
              "        vertical-align: middle;\n",
              "    }\n",
              "\n",
              "    .dataframe tbody tr th {\n",
              "        vertical-align: top;\n",
              "    }\n",
              "\n",
              "    .dataframe thead th {\n",
              "        text-align: right;\n",
              "    }\n",
              "</style>\n",
              "<table border=\"1\" class=\"dataframe\">\n",
              "  <thead>\n",
              "    <tr style=\"text-align: right;\">\n",
              "      <th></th>\n",
              "      <th>year</th>\n",
              "      <th>season</th>\n",
              "      <th>state</th>\n",
              "      <th>total_annual_loss</th>\n",
              "      <th>beekeepers</th>\n",
              "      <th>beekeepers_exculsive_to_state</th>\n",
              "      <th>colonies</th>\n",
              "      <th>colonies_exclusive_to_state</th>\n",
              "      <th>total_loss</th>\n",
              "    </tr>\n",
              "  </thead>\n",
              "  <tbody>\n",
              "    <tr>\n",
              "      <th>0</th>\n",
              "      <td>2016</td>\n",
              "      <td>Annual</td>\n",
              "      <td>Massachusetts</td>\n",
              "      <td>0.159</td>\n",
              "      <td>87</td>\n",
              "      <td>0.94</td>\n",
              "      <td>27186.0</td>\n",
              "      <td>0.02</td>\n",
              "      <td>4322.57</td>\n",
              "    </tr>\n",
              "    <tr>\n",
              "      <th>1</th>\n",
              "      <td>2016</td>\n",
              "      <td>Annual</td>\n",
              "      <td>Montana</td>\n",
              "      <td>0.171</td>\n",
              "      <td>21</td>\n",
              "      <td>0.52</td>\n",
              "      <td>35905.0</td>\n",
              "      <td>0</td>\n",
              "      <td>6139.76</td>\n",
              "    </tr>\n",
              "    <tr>\n",
              "      <th>2</th>\n",
              "      <td>2016</td>\n",
              "      <td>Annual</td>\n",
              "      <td>Nevada</td>\n",
              "      <td>0.230</td>\n",
              "      <td>13</td>\n",
              "      <td>0.92</td>\n",
              "      <td>2512.0</td>\n",
              "      <td>0.05</td>\n",
              "      <td>577.76</td>\n",
              "    </tr>\n",
              "    <tr>\n",
              "      <th>3</th>\n",
              "      <td>2016</td>\n",
              "      <td>Annual</td>\n",
              "      <td>Maine</td>\n",
              "      <td>0.233</td>\n",
              "      <td>65</td>\n",
              "      <td>0.94</td>\n",
              "      <td>41102.0</td>\n",
              "      <td>0.01</td>\n",
              "      <td>9576.77</td>\n",
              "    </tr>\n",
              "    <tr>\n",
              "      <th>4</th>\n",
              "      <td>2016</td>\n",
              "      <td>Annual</td>\n",
              "      <td>Wyoming</td>\n",
              "      <td>0.234</td>\n",
              "      <td>18</td>\n",
              "      <td>0.78</td>\n",
              "      <td>6521.0</td>\n",
              "      <td>0.01</td>\n",
              "      <td>1525.91</td>\n",
              "    </tr>\n",
              "  </tbody>\n",
              "</table>\n",
              "</div>"
            ],
            "text/plain": [
              "    year    season  ... colonies_exclusive_to_state  total_loss\n",
              "0   2016   Annual   ...                        0.02     4322.57\n",
              "1   2016   Annual   ...                           0     6139.76\n",
              "2   2016   Annual   ...                        0.05      577.76\n",
              "3   2016   Annual   ...                        0.01     9576.77\n",
              "4   2016   Annual   ...                        0.01     1525.91\n",
              "\n",
              "[5 rows x 9 columns]"
            ]
          },
          "metadata": {
            "tags": []
          },
          "execution_count": 20
        }
      ]
    },
    {
      "cell_type": "code",
      "metadata": {
        "id": "qn-_L_O3bdC4",
        "colab_type": "code",
        "outputId": "6d3ee5cc-eff8-499b-f07b-83612f077867",
        "colab": {
          "base_uri": "https://localhost:8080/",
          "height": 326
        }
      },
      "source": [
        "\n",
        "import matplotlib.pyplot as plt\n",
        "import pandas as pd\n",
        "import matplotlib.ticker as mtick\n",
        "\n",
        "plt.style.use('fivethirtyeight')\n",
        "fake =pd.Series([38, 3, 2, 1, 2, 4, 6, 5, 5, 33],\n",
        "                index=range(1,11))\n",
        "#generate the figure\n",
        "fig \n",
        "fig.patch.set(facecolor='#A79629')\n",
        "\n",
        "# generate the axes (center section) for the plot\n",
        "ax = ax=fake.plot.bar(color='#F5D81D', width=0.9)\n",
        "ax.set(facecolor='#F5D81D')\n",
        "\n",
        "\n",
        "ax.set_ylabel('Bee Keepers', fontsize=12, fontweight='bold')\n",
        "ax.set_xlabel('Years', fontsize=12, fontweight='bold', labelpad=10)\n",
        "\n",
        "# fix our tick lables\n",
        "ax.set_xticklabels([2016,2015,2014,2013,2012,2011,2010], color='black', rotation=0) # (range(1,11))\n",
        "ax.set_yticks(range(0,1000,200))\n",
        "ax.set_yticklabels(range(0, 1000 , 200), color='black',)\n",
        "\n",
        "plt.title('Bee Keepers in the USA')\n",
        "plt.scatter(dfh.year,dfh.beekeepers)\n",
        "plt.show()"
      ],
      "execution_count": 0,
      "outputs": [
        {
          "output_type": "display_data",
          "data": {
            "image/png": "[encoded data removed]",
            "text/plain": [
              "<Figure size 432x288 with 1 Axes>"
            ]
          },
          "metadata": {
            "tags": []
          }
        }
      ]
    },
    {
      "cell_type": "markdown",
      "metadata": {
        "id": "dtmWtkoLCPzN",
        "colab_type": "text"
      },
      "source": [
        "Some plots were easier than others, this area is clean,\n",
        "\n",
        "but at one time it was very messy, with many other\n",
        "\n",
        "visuals and their code. There is more in TheBees_2_of_2_notebook"
      ]
    }
  ]
}